{
  "nbformat": 4,
  "nbformat_minor": 0,
  "metadata": {
    "colab": {
      "provenance": []
    },
    "kernelspec": {
      "name": "python3",
      "display_name": "Python 3"
    },
    "language_info": {
      "name": "python"
    },
    "accelerator": "GPU",
    "gpuClass": "standard"
  },
  "cells": [
    {
      "cell_type": "markdown",
      "source": [
        "### Installing Necessary Libraries"
      ],
      "metadata": {
        "id": "TLvcUBCbABXY"
      }
    },
    {
      "cell_type": "markdown",
      "source": [
        "Here we install all the necessary libraries required for Setting Up Vision Transformer with Relative Positional Encoding. We rely on an existing implementation of image RPE [here](https://github.com/microsoft/Cream/tree/main/iRPE/DETR-with-iRPE)."
      ],
      "metadata": {
        "id": "LHQGb2VzATV5"
      }
    },
    {
      "cell_type": "code",
      "execution_count": null,
      "metadata": {
        "id": "u7DCWdGz_yvT"
      },
      "outputs": [],
      "source": [
        "# iRPE\n",
        "!git clone https://github.com/microsoft/Cream.git\n",
        "%cd Cream/iRPE/DETR-with-iRPE\n",
        "!pip install -r ./requirements.txt\n",
        "\n",
        "# iRPE for CUDA\n",
        "%cd rpe_ops\n",
        "!python setup.py install --user\n",
        "%cd .."
      ]
    },
    {
      "cell_type": "markdown",
      "source": [
        "### Import Libraries"
      ],
      "metadata": {
        "id": "gNx709asbHLX"
      }
    },
    {
      "cell_type": "code",
      "source": [
        "# General\n",
        "from pathlib import Path\n",
        "from typing import List, Any\n",
        "from io import BytesIO\n",
        "import os\n",
        "import zipfile\n",
        "\n",
        "# Data Handling\n",
        "import torch.utils.data\n",
        "from pycocotools import mask as coco_mask\n",
        "from PIL import Image\n",
        "\n",
        "# Model Building\n",
        "import torch\n",
        "import torchvision"
      ],
      "metadata": {
        "id": "UpHcFKAFA8cu"
      },
      "execution_count": 6,
      "outputs": []
    },
    {
      "cell_type": "markdown",
      "source": [
        "### Load Data"
      ],
      "metadata": {
        "id": "_F8YLugnbJz8"
      }
    },
    {
      "cell_type": "markdown",
      "source": [
        "Here we will load the dataset for training the Object Detection Model, with RPE."
      ],
      "metadata": {
        "id": "RwH-IIpsbMSt"
      }
    },
    {
      "cell_type": "code",
      "source": [
        "# Folder to store the data\n",
        "!mkdir coco_data\n",
        "%cd coco_data\n",
        "# Train\n",
        "!wget http://images.cocodataset.org/zips/train2017.zip\n",
        "# Validation\n",
        "!wget http://images.cocodataset.org/zips/val2017.zip\n",
        "# Annotations\n",
        "!wget http://images.cocodataset.org/annotations/annotations_trainval2017.zip\n",
        "# Unzip Annotations\n",
        "!unzip annotations_trainval2017.zip -d .\n",
        "!rm annotations_trainval2017.zip\n",
        "%cd ..\n",
        "# Stores Output\n",
        "!mkdir output"
      ],
      "metadata": {
        "id": "YHKc-IxNbJLS",
        "colab": {
          "base_uri": "https://localhost:8080/"
        },
        "outputId": "69f2e17a-ccbe-47e1-fedc-8622e5054103"
      },
      "execution_count": 7,
      "outputs": [
        {
          "output_type": "stream",
          "name": "stdout",
          "text": [
            "/content/Cream/iRPE/DETR-with-iRPE/coco_data\n",
            "--2023-03-08 04:10:36--  http://images.cocodataset.org/zips/train2017.zip\n",
            "Resolving images.cocodataset.org (images.cocodataset.org)... 3.5.0.1, 52.217.167.113, 52.216.145.251, ...\n",
            "Connecting to images.cocodataset.org (images.cocodataset.org)|3.5.0.1|:80... connected.\n",
            "HTTP request sent, awaiting response... 200 OK\n",
            "Length: 19336861798 (18G) [application/zip]\n",
            "Saving to: ‘train2017.zip’\n",
            "\n",
            "train2017.zip       100%[===================>]  18.01G  43.8MB/s    in 4m 28s  \n",
            "\n",
            "2023-03-08 04:15:04 (68.8 MB/s) - ‘train2017.zip’ saved [19336861798/19336861798]\n",
            "\n",
            "--2023-03-08 04:15:04--  http://images.cocodataset.org/zips/val2017.zip\n",
            "Resolving images.cocodataset.org (images.cocodataset.org)... 52.217.235.89, 54.231.235.9, 3.5.3.185, ...\n",
            "Connecting to images.cocodataset.org (images.cocodataset.org)|52.217.235.89|:80... connected.\n",
            "HTTP request sent, awaiting response... 200 OK\n",
            "Length: 815585330 (778M) [application/zip]\n",
            "Saving to: ‘val2017.zip’\n",
            "\n",
            "val2017.zip         100%[===================>] 777.80M  95.3MB/s    in 8.1s    \n",
            "\n",
            "2023-03-08 04:15:13 (95.8 MB/s) - ‘val2017.zip’ saved [815585330/815585330]\n",
            "\n",
            "--2023-03-08 04:15:13--  http://images.cocodataset.org/annotations/annotations_trainval2017.zip\n",
            "Resolving images.cocodataset.org (images.cocodataset.org)... 52.216.110.19, 54.231.228.129, 54.231.48.168, ...\n",
            "Connecting to images.cocodataset.org (images.cocodataset.org)|52.216.110.19|:80... connected.\n",
            "HTTP request sent, awaiting response... 200 OK\n",
            "Length: 252907541 (241M) [application/zip]\n",
            "Saving to: ‘annotations_trainval2017.zip’\n",
            "\n",
            "annotations_trainva 100%[===================>] 241.19M  96.2MB/s    in 2.5s    \n",
            "\n",
            "2023-03-08 04:15:15 (96.2 MB/s) - ‘annotations_trainval2017.zip’ saved [252907541/252907541]\n",
            "\n"
          ]
        }
      ]
    },
    {
      "cell_type": "code",
      "source": [
        "!python -m torch.distributed.launch --nproc_per_node=1 --use_env main.py --lr_drop 100 --epochs 150 --coco_path ./coco_data --enc_rpe2d rpe-2.0-product-ctx-1-k --output_dir ./output"
      ],
      "metadata": {
        "id": "2MuMoRiZdR6_"
      },
      "execution_count": null,
      "outputs": []
    }
  ]
}