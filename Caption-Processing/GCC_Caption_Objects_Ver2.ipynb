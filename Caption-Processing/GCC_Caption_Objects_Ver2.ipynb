{
 "cells": [
  {
   "cell_type": "markdown",
   "metadata": {
    "id": "tI2JPeWk9_e3"
   },
   "source": [
    "### Connect Google Drive"
   ]
  },
  {
   "cell_type": "markdown",
   "metadata": {},
   "source": [
    "Open the [COLAB NOTEBOOK HERE](https://colab.research.google.com/drive/1W_E17Ei0KJVReYnmoiYwEtPzBu-nIeac?usp=sharing)."
   ]
  },
  {
   "cell_type": "code",
   "execution_count": 1,
   "metadata": {
    "colab": {
     "base_uri": "https://localhost:8080/"
    },
    "id": "pYgIlFY09zxr",
    "outputId": "e09187f9-a5f5-4b98-c674-aa117ecbb9bc"
   },
   "outputs": [
    {
     "name": "stdout",
     "output_type": "stream",
     "text": [
      "Mounted at /content/drive\n"
     ]
    }
   ],
   "source": [
    "from google.colab import drive\n",
    "drive.mount('/content/drive')"
   ]
  },
  {
   "cell_type": "markdown",
   "metadata": {
    "id": "lLofUFMwACJJ"
   },
   "source": [
    "Put your path below"
   ]
  },
  {
   "cell_type": "code",
   "execution_count": 2,
   "metadata": {
    "id": "bwBL2EYN91bc"
   },
   "outputs": [],
   "source": [
    "!cd '/content/drive/MyDrive/AIISC-Internship/text-based-object-discovery'"
   ]
  },
  {
   "cell_type": "code",
   "execution_count": 3,
   "metadata": {
    "id": "yRXkRovRAcS2"
   },
   "outputs": [],
   "source": [
    "PATH = '/content/drive/MyDrive/AIISC-Internship/text-based-object-discovery'"
   ]
  },
  {
   "cell_type": "markdown",
   "metadata": {},
   "source": [
    "### Local Mac or PC"
   ]
  },
  {
   "cell_type": "code",
   "execution_count": 1,
   "metadata": {},
   "outputs": [],
   "source": [
    "PATH = '/Users/rishideychowdhury/Desktop/Text-Based-Object-Discovery'"
   ]
  },
  {
   "cell_type": "markdown",
   "metadata": {
    "id": "D8rvljtL1abQ"
   },
   "source": [
    "### Install Required Packages"
   ]
  },
  {
   "cell_type": "markdown",
   "metadata": {
    "id": "Gl1ekBkx09AQ"
   },
   "source": [
    "`Stanza`, Stanford NLP Package benefits from `GPU` so enable it under `View Resources > Change runtime type`"
   ]
  },
  {
   "cell_type": "code",
   "execution_count": 4,
   "metadata": {
    "colab": {
     "base_uri": "https://localhost:8080/"
    },
    "id": "wYJ_MPw_0URj",
    "outputId": "e2cb62f4-1f24-4dc7-9668-f33857c43937"
   },
   "outputs": [
    {
     "name": "stdout",
     "output_type": "stream",
     "text": [
      "NVIDIA-SMI has failed because it couldn't communicate with the NVIDIA driver. Make sure that the latest NVIDIA driver is installed and running.\n",
      "\n"
     ]
    }
   ],
   "source": [
    "!nvidia-smi -L"
   ]
  },
  {
   "cell_type": "code",
   "execution_count": 5,
   "metadata": {
    "colab": {
     "base_uri": "https://localhost:8080/"
    },
    "id": "TDKLBzgl0e0W",
    "outputId": "b6e81da2-8564-4e43-883f-479a65df13bc"
   },
   "outputs": [
    {
     "name": "stdout",
     "output_type": "stream",
     "text": [
      "Looking in indexes: https://pypi.org/simple, https://us-python.pkg.dev/colab-wheels/public/simple/\n",
      "Collecting stanza\n",
      "  Downloading stanza-1.4.2-py3-none-any.whl (691 kB)\n",
      "\u001b[2K     \u001b[90m━━━━━━━━━━━━━━━━━━━━━━━━━━━━━━━━━━━━━━\u001b[0m \u001b[32m691.3/691.3 KB\u001b[0m \u001b[31m33.8 MB/s\u001b[0m eta \u001b[36m0:00:00\u001b[0m\n",
      "\u001b[?25hRequirement already satisfied: protobuf in /usr/local/lib/python3.8/dist-packages (from stanza) (3.19.6)\n",
      "Requirement already satisfied: six in /usr/local/lib/python3.8/dist-packages (from stanza) (1.15.0)\n",
      "Requirement already satisfied: torch>=1.3.0 in /usr/local/lib/python3.8/dist-packages (from stanza) (1.13.0+cu116)\n",
      "Requirement already satisfied: numpy in /usr/local/lib/python3.8/dist-packages (from stanza) (1.21.6)\n",
      "Requirement already satisfied: tqdm in /usr/local/lib/python3.8/dist-packages (from stanza) (4.64.1)\n",
      "Requirement already satisfied: requests in /usr/local/lib/python3.8/dist-packages (from stanza) (2.25.1)\n",
      "Collecting emoji\n",
      "  Downloading emoji-2.2.0.tar.gz (240 kB)\n",
      "\u001b[2K     \u001b[90m━━━━━━━━━━━━━━━━━━━━━━━━━━━━━━━━━━━━━━\u001b[0m \u001b[32m240.9/240.9 KB\u001b[0m \u001b[31m28.2 MB/s\u001b[0m eta \u001b[36m0:00:00\u001b[0m\n",
      "\u001b[?25h  Preparing metadata (setup.py) ... \u001b[?25l\u001b[?25hdone\n",
      "Requirement already satisfied: typing-extensions in /usr/local/lib/python3.8/dist-packages (from torch>=1.3.0->stanza) (4.4.0)\n",
      "Requirement already satisfied: idna<3,>=2.5 in /usr/local/lib/python3.8/dist-packages (from requests->stanza) (2.10)\n",
      "Requirement already satisfied: urllib3<1.27,>=1.21.1 in /usr/local/lib/python3.8/dist-packages (from requests->stanza) (1.24.3)\n",
      "Requirement already satisfied: certifi>=2017.4.17 in /usr/local/lib/python3.8/dist-packages (from requests->stanza) (2022.12.7)\n",
      "Requirement already satisfied: chardet<5,>=3.0.2 in /usr/local/lib/python3.8/dist-packages (from requests->stanza) (4.0.0)\n",
      "Building wheels for collected packages: emoji\n",
      "  Building wheel for emoji (setup.py) ... \u001b[?25l\u001b[?25hdone\n",
      "  Created wheel for emoji: filename=emoji-2.2.0-py3-none-any.whl size=234926 sha256=d2a4665f05147323428d550628ec8f458cfc02d2e65ebb14f3da9bd58dea2965\n",
      "  Stored in directory: /root/.cache/pip/wheels/86/62/9e/a6b27a681abcde69970dbc0326ff51955f3beac72f15696984\n",
      "Successfully built emoji\n",
      "Installing collected packages: emoji, stanza\n",
      "Successfully installed emoji-2.2.0 stanza-1.4.2\n",
      "Looking in indexes: https://pypi.org/simple, https://us-python.pkg.dev/colab-wheels/public/simple/\n",
      "Collecting ftfy\n",
      "  Downloading ftfy-6.1.1-py3-none-any.whl (53 kB)\n",
      "\u001b[2K     \u001b[90m━━━━━━━━━━━━━━━━━━━━━━━━━━━━━━━━━━━━━━━━\u001b[0m \u001b[32m53.1/53.1 KB\u001b[0m \u001b[31m5.6 MB/s\u001b[0m eta \u001b[36m0:00:00\u001b[0m\n",
      "\u001b[?25hRequirement already satisfied: regex in /usr/local/lib/python3.8/dist-packages (2022.6.2)\n",
      "Requirement already satisfied: tqdm in /usr/local/lib/python3.8/dist-packages (4.64.1)\n",
      "Requirement already satisfied: wcwidth>=0.2.5 in /usr/local/lib/python3.8/dist-packages (from ftfy) (0.2.5)\n",
      "Installing collected packages: ftfy\n",
      "Successfully installed ftfy-6.1.1\n"
     ]
    }
   ],
   "source": [
    "!pip install stanza # for stanford pos tagger\n",
    "!pip install ftfy regex tqdm"
   ]
  },
  {
   "cell_type": "markdown",
   "metadata": {
    "id": "uU9_nV4_0aQ8"
   },
   "source": [
    "### Load Necessary Libraries"
   ]
  },
  {
   "cell_type": "markdown",
   "metadata": {
    "id": "ue3SU-yo0fKZ"
   },
   "source": [
    "We will load the necessary libraries required for extracting objects from prompts."
   ]
  },
  {
   "cell_type": "code",
   "execution_count": 2,
   "metadata": {
    "id": "C0wV7IAz15g8"
   },
   "outputs": [],
   "source": [
    "import os\n",
    "import json\n",
    "from tqdm import tqdm\n",
    "\n",
    "from matplotlib import pyplot as plt\n",
    "\n",
    "import numpy as np\n",
    "import pandas as pd\n",
    "\n",
    "from nltk.corpus import stopwords"
   ]
  },
  {
   "cell_type": "markdown",
   "metadata": {
    "id": "yuY33h94WGxb"
   },
   "source": [
    "Download the stopwords for removing stopwords"
   ]
  },
  {
   "cell_type": "code",
   "execution_count": 3,
   "metadata": {
    "colab": {
     "base_uri": "https://localhost:8080/"
    },
    "id": "InA4AEJnWCiP",
    "outputId": "4a8239e9-b0e1-4fc2-b0a7-1458d8461c49"
   },
   "outputs": [
    {
     "name": "stderr",
     "output_type": "stream",
     "text": [
      "[nltk_data] Downloading package stopwords to\n",
      "[nltk_data]     /Users/rishideychowdhury/nltk_data...\n",
      "[nltk_data]   Package stopwords is already up-to-date!\n",
      "[nltk_data] Downloading package wordnet to\n",
      "[nltk_data]     /Users/rishideychowdhury/nltk_data...\n",
      "[nltk_data]   Package wordnet is already up-to-date!\n",
      "[nltk_data] Downloading package punkt to\n",
      "[nltk_data]     /Users/rishideychowdhury/nltk_data...\n",
      "[nltk_data]   Package punkt is already up-to-date!\n",
      "[nltk_data] Downloading package omw-1.4 to\n",
      "[nltk_data]     /Users/rishideychowdhury/nltk_data...\n",
      "[nltk_data]   Package omw-1.4 is already up-to-date!\n",
      "[nltk_data] Downloading package averaged_perceptron_tagger to\n",
      "[nltk_data]     /Users/rishideychowdhury/nltk_data...\n",
      "[nltk_data]   Package averaged_perceptron_tagger is already up-to-\n",
      "[nltk_data]       date!\n"
     ]
    },
    {
     "data": {
      "text/plain": [
       "True"
      ]
     },
     "execution_count": 3,
     "metadata": {},
     "output_type": "execute_result"
    }
   ],
   "source": [
    "import nltk\n",
    "nltk.download('stopwords')\n",
    "nltk.download('wordnet')\n",
    "nltk.download('punkt')\n",
    "nltk.download('omw-1.4')\n",
    "nltk.download('averaged_perceptron_tagger')"
   ]
  },
  {
   "cell_type": "code",
   "execution_count": 4,
   "metadata": {
    "colab": {
     "base_uri": "https://localhost:8080/",
     "height": 118,
     "referenced_widgets": [
      "df6b06ecb56f423682c0b81450369c68",
      "365f9fc1f1f44502b22abe715e797a10",
      "1fbdc06fb1544d53a05533382b9c0062",
      "67fcbabbc7e94682a8d032fe4ed5144d",
      "2da511597a914db7b4ddf749852b331d",
      "9710fd246f1943258ba37cc8d6454b62",
      "5ac46403bd4044318527c0adfed0f672",
      "13293d3dbf7d4fb580c772e0e0dfcc9e",
      "0540e337651b4a158d5dffabb494d745",
      "ecc24e7ae09b432599b2ee56a4a57e09",
      "72f1b6b4703740fca72516e15c0214fd",
      "6f0f42079f8d48f6a82daab7cc927076",
      "fb4da8ef7a04451487731260764d7468",
      "c1ea0ca2be8f4cd39a5168fdced8264a",
      "20127b2249424758aaac276817af28a5",
      "14391e8237d44f2ba6e1890828233088",
      "d4c72b61447b4b78b1e82a2ca93a365c",
      "6b61994192e74430957f414859c3c28f",
      "71845a3840d54187b7120b16c8406194",
      "d4251c4227fc4efa8d6400bbd4695171",
      "325f39c1cb444e9b85a2360323d204ce",
      "d3155ecf834340609b9dc25df5cec3a2"
     ]
    },
    "id": "Ks3LM5iMS1Nl",
    "outputId": "6d7c4401-56af-461a-84d6-5bf9f274d873"
   },
   "outputs": [
    {
     "data": {
      "application/vnd.jupyter.widget-view+json": {
       "model_id": "a329c8c5fc8b4e9d980af4d3a9f13576",
       "version_major": 2,
       "version_minor": 0
      },
      "text/plain": [
       "Downloading https://raw.githubusercontent.com/stanfordnlp/stanza-resources/main/resources_1.4.1.json:   0%|   …"
      ]
     },
     "metadata": {},
     "output_type": "display_data"
    },
    {
     "name": "stderr",
     "output_type": "stream",
     "text": [
      "2023-01-06 19:20:25 INFO: Downloading default packages for language: en (English) ...\n",
      "2023-01-06 19:20:26 INFO: File exists: /Users/rishideychowdhury/stanza_resources/en/default.zip\n",
      "2023-01-06 19:20:29 INFO: Finished downloading models and saved to /Users/rishideychowdhury/stanza_resources.\n"
     ]
    }
   ],
   "source": [
    "import stanza\n",
    "stanza.download('en')"
   ]
  },
  {
   "cell_type": "markdown",
   "metadata": {
    "id": "FxsZiD_M1VSS"
   },
   "source": [
    "### Load Data"
   ]
  },
  {
   "cell_type": "markdown",
   "metadata": {
    "id": "na1LrNBN2Jgf"
   },
   "source": [
    "Below, we load the `Google Conceptual Caption` annotations to extract the captions to continue further with extracting the objects from each caption."
   ]
  },
  {
   "cell_type": "code",
   "execution_count": 5,
   "metadata": {
    "id": "89WD3a8FxLWF"
   },
   "outputs": [],
   "source": [
    "train_file = pd.read_csv(os.path.join(PATH, 'Data/Goggle-Conceptual-Caption/Train_GCC-training.tsv'), sep='\\t', names=['captions', 'url'])\n",
    "val_file = pd.read_csv(os.path.join(PATH, 'Data/Goggle-Conceptual-Caption/Validation_GCC-1.1.0-Validation.tsv'), sep='\\t', names=['captions', 'url'])"
   ]
  },
  {
   "cell_type": "code",
   "execution_count": 6,
   "metadata": {
    "colab": {
     "base_uri": "https://localhost:8080/",
     "height": 424
    },
    "id": "OO9vNlmggfBy",
    "outputId": "f274f7cb-bbf1-4047-bcb6-1fbda14254f6"
   },
   "outputs": [
    {
     "data": {
      "text/html": [
       "<div>\n",
       "<style scoped>\n",
       "    .dataframe tbody tr th:only-of-type {\n",
       "        vertical-align: middle;\n",
       "    }\n",
       "\n",
       "    .dataframe tbody tr th {\n",
       "        vertical-align: top;\n",
       "    }\n",
       "\n",
       "    .dataframe thead th {\n",
       "        text-align: right;\n",
       "    }\n",
       "</style>\n",
       "<table border=\"1\" class=\"dataframe\">\n",
       "  <thead>\n",
       "    <tr style=\"text-align: right;\">\n",
       "      <th></th>\n",
       "      <th>captions</th>\n",
       "      <th>url</th>\n",
       "    </tr>\n",
       "  </thead>\n",
       "  <tbody>\n",
       "    <tr>\n",
       "      <th>0</th>\n",
       "      <td>a very typical bus station</td>\n",
       "      <td>http://lh6.ggpht.com/-IvRtNLNcG8o/TpFyrudaT6I/...</td>\n",
       "    </tr>\n",
       "    <tr>\n",
       "      <th>1</th>\n",
       "      <td>sierra looked stunning in this top and this sk...</td>\n",
       "      <td>http://78.media.tumblr.com/3b133294bdc7c7784b7...</td>\n",
       "    </tr>\n",
       "    <tr>\n",
       "      <th>2</th>\n",
       "      <td>young confused girl standing in front of a war...</td>\n",
       "      <td>https://media.gettyimages.com/photos/young-con...</td>\n",
       "    </tr>\n",
       "    <tr>\n",
       "      <th>3</th>\n",
       "      <td>interior design of modern living room with fir...</td>\n",
       "      <td>https://thumb1.shutterstock.com/display_pic_wi...</td>\n",
       "    </tr>\n",
       "    <tr>\n",
       "      <th>4</th>\n",
       "      <td>cybernetic scene isolated on white background .</td>\n",
       "      <td>https://thumb1.shutterstock.com/display_pic_wi...</td>\n",
       "    </tr>\n",
       "    <tr>\n",
       "      <th>...</th>\n",
       "      <td>...</td>\n",
       "      <td>...</td>\n",
       "    </tr>\n",
       "    <tr>\n",
       "      <th>3318328</th>\n",
       "      <td>the teams line up for a photo after kick - off</td>\n",
       "      <td>https://i0.wp.com/i.dailymail.co.uk/i/pix/2015...</td>\n",
       "    </tr>\n",
       "    <tr>\n",
       "      <th>3318329</th>\n",
       "      <td>stickers given to delegates at the convention .</td>\n",
       "      <td>http://cdn.radioiowa.com/wp-content/uploads/20...</td>\n",
       "    </tr>\n",
       "    <tr>\n",
       "      <th>3318330</th>\n",
       "      <td>this is my very favourite design that i recent...</td>\n",
       "      <td>https://i.pinimg.com/736x/96/f0/77/96f07728efe...</td>\n",
       "    </tr>\n",
       "    <tr>\n",
       "      <th>3318331</th>\n",
       "      <td>man driving a car through the mountains</td>\n",
       "      <td>https://www.quickenloans.com/blog/wp-content/u...</td>\n",
       "    </tr>\n",
       "    <tr>\n",
       "      <th>3318332</th>\n",
       "      <td>a longtail boat with a flag goes by spectacula...</td>\n",
       "      <td>http://l7.alamy.com/zooms/338c4740f7b2480dbb72...</td>\n",
       "    </tr>\n",
       "  </tbody>\n",
       "</table>\n",
       "<p>3318333 rows × 2 columns</p>\n",
       "</div>"
      ],
      "text/plain": [
       "                                                  captions  \\\n",
       "0                               a very typical bus station   \n",
       "1        sierra looked stunning in this top and this sk...   \n",
       "2        young confused girl standing in front of a war...   \n",
       "3        interior design of modern living room with fir...   \n",
       "4          cybernetic scene isolated on white background .   \n",
       "...                                                    ...   \n",
       "3318328     the teams line up for a photo after kick - off   \n",
       "3318329    stickers given to delegates at the convention .   \n",
       "3318330  this is my very favourite design that i recent...   \n",
       "3318331            man driving a car through the mountains   \n",
       "3318332  a longtail boat with a flag goes by spectacula...   \n",
       "\n",
       "                                                       url  \n",
       "0        http://lh6.ggpht.com/-IvRtNLNcG8o/TpFyrudaT6I/...  \n",
       "1        http://78.media.tumblr.com/3b133294bdc7c7784b7...  \n",
       "2        https://media.gettyimages.com/photos/young-con...  \n",
       "3        https://thumb1.shutterstock.com/display_pic_wi...  \n",
       "4        https://thumb1.shutterstock.com/display_pic_wi...  \n",
       "...                                                    ...  \n",
       "3318328  https://i0.wp.com/i.dailymail.co.uk/i/pix/2015...  \n",
       "3318329  http://cdn.radioiowa.com/wp-content/uploads/20...  \n",
       "3318330  https://i.pinimg.com/736x/96/f0/77/96f07728efe...  \n",
       "3318331  https://www.quickenloans.com/blog/wp-content/u...  \n",
       "3318332  http://l7.alamy.com/zooms/338c4740f7b2480dbb72...  \n",
       "\n",
       "[3318333 rows x 2 columns]"
      ]
     },
     "execution_count": 6,
     "metadata": {},
     "output_type": "execute_result"
    }
   ],
   "source": [
    "train_file"
   ]
  },
  {
   "cell_type": "code",
   "execution_count": 7,
   "metadata": {
    "colab": {
     "base_uri": "https://localhost:8080/",
     "height": 424
    },
    "id": "VqjuTFtPghia",
    "outputId": "1b87b58c-7467-464e-9a46-7e64d3e0a723"
   },
   "outputs": [
    {
     "data": {
      "text/html": [
       "<div>\n",
       "<style scoped>\n",
       "    .dataframe tbody tr th:only-of-type {\n",
       "        vertical-align: middle;\n",
       "    }\n",
       "\n",
       "    .dataframe tbody tr th {\n",
       "        vertical-align: top;\n",
       "    }\n",
       "\n",
       "    .dataframe thead th {\n",
       "        text-align: right;\n",
       "    }\n",
       "</style>\n",
       "<table border=\"1\" class=\"dataframe\">\n",
       "  <thead>\n",
       "    <tr style=\"text-align: right;\">\n",
       "      <th></th>\n",
       "      <th>captions</th>\n",
       "      <th>url</th>\n",
       "    </tr>\n",
       "  </thead>\n",
       "  <tbody>\n",
       "    <tr>\n",
       "      <th>0</th>\n",
       "      <td>author : a life in photography -- in pictures</td>\n",
       "      <td>https://i.pinimg.com/736x/66/01/6c/66016c3ba27...</td>\n",
       "    </tr>\n",
       "    <tr>\n",
       "      <th>1</th>\n",
       "      <td>an angler fishes river on a snowy day .</td>\n",
       "      <td>http://www.standard.net/image/2015/02/04/800x_...</td>\n",
       "    </tr>\n",
       "    <tr>\n",
       "      <th>2</th>\n",
       "      <td>photograph of the sign being repaired by brave...</td>\n",
       "      <td>http://indianapolis-photos.funcityfinder.com/f...</td>\n",
       "    </tr>\n",
       "    <tr>\n",
       "      <th>3</th>\n",
       "      <td>the player staring intently at a computer scre...</td>\n",
       "      <td>http://www.abc.net.au/news/image/9066492-3x2-7...</td>\n",
       "    </tr>\n",
       "    <tr>\n",
       "      <th>4</th>\n",
       "      <td>globes : the green 3d person carrying in hands...</td>\n",
       "      <td>https://www.featurepics.com/StockImage/2009031...</td>\n",
       "    </tr>\n",
       "    <tr>\n",
       "      <th>...</th>\n",
       "      <td>...</td>\n",
       "      <td>...</td>\n",
       "    </tr>\n",
       "    <tr>\n",
       "      <th>15835</th>\n",
       "      <td>a bougainvillea with pink flowers on a white b...</td>\n",
       "      <td>https://media.istockphoto.com/photos/bougainvi...</td>\n",
       "    </tr>\n",
       "    <tr>\n",
       "      <th>15836</th>\n",
       "      <td>ingredient hanging over river during festival</td>\n",
       "      <td>http://l7.alamy.com/zooms/4e49c7b4c0274166bb07...</td>\n",
       "    </tr>\n",
       "    <tr>\n",
       "      <th>15837</th>\n",
       "      <td>the general circulation of the atmosphere</td>\n",
       "      <td>http://slideplayer.com/5036014/16/images/22/Th...</td>\n",
       "    </tr>\n",
       "    <tr>\n",
       "      <th>15838</th>\n",
       "      <td>young teenager and her black horse in a traini...</td>\n",
       "      <td>https://www.featurepics.com/StockImage/2008082...</td>\n",
       "    </tr>\n",
       "    <tr>\n",
       "      <th>15839</th>\n",
       "      <td>person warms up during a game against american...</td>\n",
       "      <td>https://media.gettyimages.com/photos/malik-ros...</td>\n",
       "    </tr>\n",
       "  </tbody>\n",
       "</table>\n",
       "<p>15840 rows × 2 columns</p>\n",
       "</div>"
      ],
      "text/plain": [
       "                                                captions  \\\n",
       "0          author : a life in photography -- in pictures   \n",
       "1                an angler fishes river on a snowy day .   \n",
       "2      photograph of the sign being repaired by brave...   \n",
       "3      the player staring intently at a computer scre...   \n",
       "4      globes : the green 3d person carrying in hands...   \n",
       "...                                                  ...   \n",
       "15835  a bougainvillea with pink flowers on a white b...   \n",
       "15836      ingredient hanging over river during festival   \n",
       "15837          the general circulation of the atmosphere   \n",
       "15838  young teenager and her black horse in a traini...   \n",
       "15839  person warms up during a game against american...   \n",
       "\n",
       "                                                     url  \n",
       "0      https://i.pinimg.com/736x/66/01/6c/66016c3ba27...  \n",
       "1      http://www.standard.net/image/2015/02/04/800x_...  \n",
       "2      http://indianapolis-photos.funcityfinder.com/f...  \n",
       "3      http://www.abc.net.au/news/image/9066492-3x2-7...  \n",
       "4      https://www.featurepics.com/StockImage/2009031...  \n",
       "...                                                  ...  \n",
       "15835  https://media.istockphoto.com/photos/bougainvi...  \n",
       "15836  http://l7.alamy.com/zooms/4e49c7b4c0274166bb07...  \n",
       "15837  http://slideplayer.com/5036014/16/images/22/Th...  \n",
       "15838  https://www.featurepics.com/StockImage/2008082...  \n",
       "15839  https://media.gettyimages.com/photos/malik-ros...  \n",
       "\n",
       "[15840 rows x 2 columns]"
      ]
     },
     "execution_count": 7,
     "metadata": {},
     "output_type": "execute_result"
    }
   ],
   "source": [
    "val_file"
   ]
  },
  {
   "cell_type": "markdown",
   "metadata": {
    "id": "MCEvhAFxzaO6"
   },
   "source": [
    "Now, we load the captions for the train and validation set captions in lists."
   ]
  },
  {
   "cell_type": "code",
   "execution_count": 8,
   "metadata": {
    "id": "Ddu67lC2y74U"
   },
   "outputs": [],
   "source": [
    "prompts_train = list(train_file['captions'])\n",
    "prompts_val = list(val_file['captions'])"
   ]
  },
  {
   "cell_type": "code",
   "execution_count": 9,
   "metadata": {
    "colab": {
     "base_uri": "https://localhost:8080/"
    },
    "id": "vVYyBvLPzGYV",
    "outputId": "2a1fb2bf-2e4c-42f3-df3d-29270190170c"
   },
   "outputs": [
    {
     "name": "stdout",
     "output_type": "stream",
     "text": [
      "***train captions***\n",
      " a very typical bus station\n",
      "sierra looked stunning in this top and this skirt while performing with person at their former university\n",
      "young confused girl standing in front of a wardrobe\n",
      "interior design of modern living room with fireplace in a new house\n",
      "cybernetic scene isolated on white background .\n",
      "\n",
      "Number of train captions: 3318333\n",
      "\n",
      "\n",
      "***validation captions:***\n",
      " author : a life in photography -- in pictures\n",
      "an angler fishes river on a snowy day .\n",
      "photograph of the sign being repaired by brave person\n",
      "the player staring intently at a computer screen .\n",
      "globes : the green 3d person carrying in hands globe\n",
      "\n",
      "Number of train captions: 15840\n"
     ]
    }
   ],
   "source": [
    "def show_captions():\n",
    "  print('***train captions***\\n', '\\n'.join(prompts_train[:5]))\n",
    "  print()\n",
    "  print('Number of train captions:', len(prompts_train))\n",
    "  print()\n",
    "  print()\n",
    "  print('***validation captions:***\\n', '\\n'.join(prompts_val[:5]))\n",
    "  print()\n",
    "  print('Number of train captions:', len(prompts_val))\n",
    "\n",
    "show_captions()"
   ]
  },
  {
   "cell_type": "markdown",
   "metadata": {
    "id": "BErRDos2AB6B"
   },
   "source": [
    "### Caption Processing"
   ]
  },
  {
   "cell_type": "markdown",
   "metadata": {
    "id": "x6F-PdFL3JQP"
   },
   "source": [
    "Cleaning the prompts. I adopt few ways to clean the prompt:\n",
    "- Lower Case Conversion\n",
    "- Tokenization (Already pre-tokenized is provided by `Google Conceptual Caption`)\n",
    "- Remove stop words\n",
    "- Remove non-alphabets\n",
    "- Keep only nouns\n",
    "- Lemmatization (to store the object name)"
   ]
  },
  {
   "cell_type": "code",
   "execution_count": 10,
   "metadata": {
    "colab": {
     "base_uri": "https://localhost:8080/",
     "height": 363,
     "referenced_widgets": [
      "33ebb52bcae948839b911c30f86d1ea6",
      "2dc1e610870d4c3ea65ef96f9def47b2",
      "e8b1735596864545a94d85d2f02fd1e6",
      "a642eca5e34649ce84ce47fd9f11bee6",
      "ad92948248264f4cb98b40f2b6eec143",
      "1b4d3c4593f34f2ab2ec01eabac0a21c",
      "8653e80ce4304b0bbcfd14a5e90952c0",
      "01e45d867ff4434e8bde895e1edc78cf",
      "e2d3d80aa1a24b36a52a2a30bb913dec",
      "738c7ede99654dd59aa46ecf4b7ac804",
      "3cb79e7831a24df38809bd9c27e8a6d3"
     ]
    },
    "id": "yOBU-9eoBD87",
    "outputId": "ea7c4a43-9597-4c06-ea19-9b746e26406b"
   },
   "outputs": [
    {
     "name": "stderr",
     "output_type": "stream",
     "text": [
      "2023-01-06 19:20:46 INFO: Checking for updates to resources.json in case models have been updated.  Note: this behavior can be turned off with download_method=None or download_method=DownloadMethod.REUSE_RESOURCES\n"
     ]
    },
    {
     "data": {
      "application/vnd.jupyter.widget-view+json": {
       "model_id": "1cb5f518bfb241b787caa1f479ff9679",
       "version_major": 2,
       "version_minor": 0
      },
      "text/plain": [
       "Downloading https://raw.githubusercontent.com/stanfordnlp/stanza-resources/main/resources_1.4.1.json:   0%|   …"
      ]
     },
     "metadata": {},
     "output_type": "display_data"
    },
    {
     "name": "stderr",
     "output_type": "stream",
     "text": [
      "2023-01-06 19:20:47 WARNING: Can not find mwt: default from official model list. Ignoring it.\n",
      "2023-01-06 19:20:47 INFO: Loading these models for language: en (English):\n",
      "========================\n",
      "| Processor | Package  |\n",
      "------------------------\n",
      "| tokenize  | combined |\n",
      "| pos       | combined |\n",
      "| lemma     | combined |\n",
      "========================\n",
      "\n",
      "2023-01-06 19:20:47 INFO: Use device: cpu\n",
      "2023-01-06 19:20:47 INFO: Loading: tokenize\n",
      "2023-01-06 19:20:47 INFO: Loading: pos\n",
      "2023-01-06 19:20:47 INFO: Loading: lemma\n",
      "2023-01-06 19:20:47 INFO: Done loading processors!\n"
     ]
    }
   ],
   "source": [
    "# loads the text processing pipeline\n",
    "nlp = stanza.Pipeline(lang='en', processors='tokenize,mwt,pos,lemma', tokenize_no_ssplit=True, tokenize_pretokenized=True, verbose=True, pos_batch_size=10000)\n",
    "\n",
    "# treebank-specific POS (XPOS) tags to keep, other POS tagged tokens will not be retained\n",
    "keep_pos_tags = ['NN', 'NNS', 'NNP', 'NNPS']\n",
    "\n",
    "# Stopwords\n",
    "stpwords = set(stopwords.words('english'))\n",
    "\n",
    "# extract parts of speech\n",
    "def extract_pos(doc):\n",
    "  parsed_text = list()\n",
    "  for sent in doc.sentences:\n",
    "    parsed_sent = list()\n",
    "    for wrd in sent.words:\n",
    "      #extract text and pos\n",
    "      parsed_sent.append((wrd.text, wrd.xpos))\n",
    "    parsed_text.append(parsed_sent)\n",
    "  return parsed_text\n",
    "\n",
    "# extract lemma\n",
    "def extract_lemma(doc):\n",
    "  parsed_text = list()\n",
    "  for sent in doc.sentences:\n",
    "    parsed_sent = list()\n",
    "    for wrd in sent.words:\n",
    "      # extract text and lemma\n",
    "      parsed_sent.append((wrd.text, wrd.lemma))\n",
    "    parsed_text.append(parsed_sent)\n",
    "  return parsed_text\n",
    "\n",
    "def clean_prompt(sentences):\n",
    "  # convert the sentences to lower case\n",
    "  sentences_lc = [sentence.lower() for sentence in sentences]\n",
    "\n",
    "  # stanza accepts only a single string instead of list of strings. So, we have set the tokenize_no_ssplit=True and have to join each sentence with double newline\n",
    "  sentence_string = \"\\n\\n\".join(sentences_lc)\n",
    "\n",
    "  # tokenizes, lemmatizes and pos tags the prompt\n",
    "  processed_prompt = nlp(sentence_string)\n",
    "  \n",
    "  # extracts pos tags from the processed_prompt\n",
    "  pos_tagged_prompt = extract_pos(processed_prompt)\n",
    "\n",
    "  # lemmatized text\n",
    "  lemmatized_prompt = extract_lemma(processed_prompt)\n",
    "\n",
    "  # keep only the noun words, removes stopwords\n",
    "  fin_prompt = [[word for word, pos_tag in sent if ((pos_tag in keep_pos_tags) and (word not in stpwords))] for sent in pos_tagged_prompt]\n",
    "  obj_prompt = [[word_lemma[1] for word_pos, word_lemma in zip(sent_pos, sent_lemma) if ((word_pos[1] in keep_pos_tags) and ((word_lemma[0] not in stpwords) or (word_lemma[1] not in stpwords)))] for sent_pos, sent_lemma in zip(pos_tagged_prompt, lemmatized_prompt)]\n",
    "  return fin_prompt, obj_prompt"
   ]
  },
  {
   "cell_type": "markdown",
   "metadata": {
    "id": "YCs7sDaJiY6h"
   },
   "source": [
    "An example is shown below for the application of `clean_prompt`. (See how the punctuation stayed intact below on my example as we have set `tokenize_pretokenized=True` as `GCC` provides tokenized captions)"
   ]
  },
  {
   "cell_type": "code",
   "execution_count": 11,
   "metadata": {
    "colab": {
     "base_uri": "https://localhost:8080/"
    },
    "id": "ez5_quWfXbDM",
    "outputId": "54fcbaf6-b7c2-4846-cb46-01c5399bcc16"
   },
   "outputs": [
    {
     "data": {
      "text/plain": [
       "([['fishes', 'mountains.']], [['fish', 'mountains.']])"
      ]
     },
     "execution_count": 11,
     "metadata": {},
     "output_type": "execute_result"
    }
   ],
   "source": [
    "clean_prompt([\"The fishes are playing in the mountains.\"])"
   ]
  },
  {
   "cell_type": "markdown",
   "metadata": {
    "id": "i2U2RtyiwO2n"
   },
   "source": [
    "But see how it works for captions in `GCC`."
   ]
  },
  {
   "cell_type": "code",
   "execution_count": 12,
   "metadata": {
    "colab": {
     "base_uri": "https://localhost:8080/"
    },
    "id": "7hS1SzbYwOb3",
    "outputId": "7720c508-b84b-46c1-8742-8cf5670af031"
   },
   "outputs": [
    {
     "name": "stdout",
     "output_type": "stream",
     "text": [
      "a very typical bus station\n",
      "sierra looked stunning in this top and this skirt while performing with person at their former university\n",
      "young confused girl standing in front of a wardrobe\n",
      "interior design of modern living room with fireplace in a new house\n",
      "cybernetic scene isolated on white background .\n"
     ]
    },
    {
     "data": {
      "text/plain": [
       "([['bus', 'station'],\n",
       "  ['sierra', 'top', 'skirt', 'person', 'university'],\n",
       "  ['girl', 'front', 'wardrobe'],\n",
       "  ['interior', 'design', 'living', 'room', 'fireplace', 'house'],\n",
       "  ['scene', 'background']],\n",
       " [['bus', 'station'],\n",
       "  ['sierra', 'top', 'skirt', 'person', 'university'],\n",
       "  ['girl', 'front', 'wardrobe'],\n",
       "  ['interior', 'design', 'living', 'room', 'fireplace', 'house'],\n",
       "  ['scene', 'background']])"
      ]
     },
     "execution_count": 12,
     "metadata": {},
     "output_type": "execute_result"
    }
   ],
   "source": [
    "print('\\n'.join(prompts_train[:5]))\n",
    "clean_prompt(prompts_train[:5])"
   ]
  },
  {
   "cell_type": "markdown",
   "metadata": {
    "id": "eReFjwGO138w"
   },
   "source": [
    "Below, we start processing each prompt and store the objects detected in the captions from train and validation split."
   ]
  },
  {
   "cell_type": "markdown",
   "metadata": {
    "id": "rl4GS3OqREKL"
   },
   "source": [
    "We start with the training split"
   ]
  },
  {
   "cell_type": "code",
   "execution_count": 13,
   "metadata": {
    "id": "Rp7UjBLEKsxA"
   },
   "outputs": [],
   "source": [
    "SAVE_AFTER = 10000 # After parsing how many sentences should I save the outputs (should be less than len(prompts))"
   ]
  },
  {
   "cell_type": "code",
   "execution_count": 14,
   "metadata": {
    "id": "o3layVVd62BE"
   },
   "outputs": [],
   "source": [
    "# import shutil # Removes directory if already present! CAREFUL!!!!!!!!!!!!!!!!!!\n",
    "# if os.path.exists(os.path.join(PATH, 'Caption-Processing1')):\n",
    "#   shutil.rmtree(os.path.join(PATH, 'Caption-Processing1'))\n",
    "# os.mkdir(os.path.join(PATH, 'Caption-Processing1'))"
   ]
  },
  {
   "cell_type": "code",
   "execution_count": 15,
   "metadata": {
    "id": "IVeokhggMHqw"
   },
   "outputs": [],
   "source": [
    "SAVE_SPLITS = list(range(0, len(prompts_train), SAVE_AFTER)) # Figure out the sentences in each split\n",
    "if SAVE_SPLITS[-1] < (len(prompts_train) - 1):\n",
    "  SAVE_SPLITS.append(len(prompts_train)) # Adding the last split boundary to be the final index of the prompts to make sure the boundaries work when subsetting later"
   ]
  },
  {
   "cell_type": "code",
   "execution_count": 16,
   "metadata": {
    "colab": {
     "base_uri": "https://localhost:8080/"
    },
    "id": "_R3pmpTnEtS6",
    "outputId": "0f871599-3c0c-43a8-c150-5193e84e71bb"
   },
   "outputs": [
    {
     "name": "stdout",
     "output_type": "stream",
     "text": [
      "Starting...\n",
      "Captions to be processed: 3318333\n",
      "Number of splits to be processed: 332\n"
     ]
    },
    {
     "name": "stderr",
     "output_type": "stream",
     "text": [
      "\r",
      "  0%|                                                   | 0/332 [00:00<?, ?it/s]"
     ]
    },
    {
     "name": "stdout",
     "output_type": "stream",
     "text": [
      "\n",
      "Subset No. 1\n",
      "Processing captions...\n",
      "Updating captions...\n"
     ]
    },
    {
     "name": "stderr",
     "output_type": "stream",
     "text": [
      "\n",
      "10000it [00:00, 1490566.12it/s]\n",
      "  0%|                                         | 1/332 [00:43<3:57:30, 43.05s/it]"
     ]
    },
    {
     "name": "stdout",
     "output_type": "stream",
     "text": [
      "\n",
      "\n",
      "***INFO***\n",
      "Captions Processed: 10000\n",
      "Number of objects detected so far: 4175\n",
      "Saving...Saved.\n",
      "\n",
      "Subset No. 2\n",
      "Processing captions...\n",
      "Updating captions...\n"
     ]
    },
    {
     "name": "stderr",
     "output_type": "stream",
     "text": [
      "\n",
      "10000it [00:00, 1450112.02it/s]\n",
      "  1%|▏                                        | 2/332 [01:28<4:03:27, 44.27s/it]"
     ]
    },
    {
     "name": "stdout",
     "output_type": "stream",
     "text": [
      "\n",
      "\n",
      "***INFO***\n",
      "Captions Processed: 20000\n",
      "Number of objects detected so far: 5349\n",
      "Saving...Saved.\n",
      "\n",
      "Subset No. 3\n",
      "Processing captions...\n",
      "Updating captions...\n"
     ]
    },
    {
     "name": "stderr",
     "output_type": "stream",
     "text": [
      "\n",
      "10000it [00:00, 1343165.85it/s]\n",
      "  1%|▎                                        | 3/332 [02:12<4:01:52, 44.11s/it]"
     ]
    },
    {
     "name": "stdout",
     "output_type": "stream",
     "text": [
      "\n",
      "\n",
      "***INFO***\n",
      "Captions Processed: 30000\n",
      "Number of objects detected so far: 6068\n",
      "Saving...Saved.\n",
      "\n",
      "Subset No. 4\n",
      "Processing captions...\n",
      "Updating captions...\n"
     ]
    },
    {
     "name": "stderr",
     "output_type": "stream",
     "text": [
      "\n",
      "10000it [00:00, 1472357.22it/s]"
     ]
    },
    {
     "name": "stdout",
     "output_type": "stream",
     "text": [
      "\n",
      "\n",
      "***INFO***\n",
      "Captions Processed: 40000\n",
      "Number of objects detected so far: 6561\n",
      "Saving..."
     ]
    },
    {
     "name": "stderr",
     "output_type": "stream",
     "text": [
      "\n",
      "  1%|▍                                        | 4/332 [02:55<3:58:55, 43.71s/it]"
     ]
    },
    {
     "name": "stdout",
     "output_type": "stream",
     "text": [
      "Saved.\n",
      "\n",
      "Subset No. 5\n",
      "Processing captions...\n",
      "Updating captions...\n"
     ]
    },
    {
     "name": "stderr",
     "output_type": "stream",
     "text": [
      "\n",
      "10000it [00:00, 1384670.03it/s]"
     ]
    },
    {
     "name": "stdout",
     "output_type": "stream",
     "text": [
      "\n",
      "\n",
      "***INFO***\n",
      "Captions Processed: 50000\n",
      "Number of objects detected so far: 6945\n",
      "Saving..."
     ]
    },
    {
     "name": "stderr",
     "output_type": "stream",
     "text": [
      "\n",
      "  2%|▌                                        | 5/332 [03:40<4:00:59, 44.22s/it]"
     ]
    },
    {
     "name": "stdout",
     "output_type": "stream",
     "text": [
      "Saved.\n",
      "\n",
      "Subset No. 6\n",
      "Processing captions...\n",
      "Updating captions...\n"
     ]
    },
    {
     "name": "stderr",
     "output_type": "stream",
     "text": [
      "\n",
      "10000it [00:00, 1404703.44it/s]"
     ]
    },
    {
     "name": "stdout",
     "output_type": "stream",
     "text": [
      "\n",
      "\n",
      "***INFO***\n",
      "Captions Processed: 60000\n",
      "Number of objects detected so far: 7294\n",
      "Saving..."
     ]
    },
    {
     "name": "stderr",
     "output_type": "stream",
     "text": [
      "\n",
      "  2%|▋                                        | 6/332 [04:26<4:03:12, 44.76s/it]"
     ]
    },
    {
     "name": "stdout",
     "output_type": "stream",
     "text": [
      "Saved.\n",
      "\n",
      "Subset No. 7\n",
      "Processing captions...\n",
      "Updating captions...\n"
     ]
    },
    {
     "name": "stderr",
     "output_type": "stream",
     "text": [
      "\n",
      "10000it [00:00, 1508308.40it/s]"
     ]
    },
    {
     "name": "stdout",
     "output_type": "stream",
     "text": [
      "\n",
      "\n",
      "***INFO***\n",
      "Captions Processed: 70000\n",
      "Number of objects detected so far: 7564\n",
      "Saving..."
     ]
    },
    {
     "name": "stderr",
     "output_type": "stream",
     "text": [
      "\n",
      "  2%|▊                                        | 7/332 [05:12<4:04:30, 45.14s/it]"
     ]
    },
    {
     "name": "stdout",
     "output_type": "stream",
     "text": [
      "Saved.\n",
      "\n",
      "Subset No. 8\n",
      "Processing captions...\n",
      "Updating captions...\n"
     ]
    },
    {
     "name": "stderr",
     "output_type": "stream",
     "text": [
      "\n",
      "10000it [00:00, 1363114.72it/s]"
     ]
    },
    {
     "name": "stdout",
     "output_type": "stream",
     "text": [
      "\n",
      "\n",
      "***INFO***\n",
      "Captions Processed: 80000\n",
      "Number of objects detected so far: 7820\n",
      "Saving..."
     ]
    },
    {
     "name": "stderr",
     "output_type": "stream",
     "text": [
      "\n",
      "  2%|▉                                        | 8/332 [05:56<4:03:00, 45.00s/it]"
     ]
    },
    {
     "name": "stdout",
     "output_type": "stream",
     "text": [
      "Saved.\n",
      "\n",
      "Subset No. 9\n",
      "Processing captions...\n",
      "Updating captions...\n"
     ]
    },
    {
     "name": "stderr",
     "output_type": "stream",
     "text": [
      "\n",
      "10000it [00:00, 1342993.82it/s]"
     ]
    },
    {
     "name": "stdout",
     "output_type": "stream",
     "text": [
      "\n",
      "\n",
      "***INFO***\n",
      "Captions Processed: 90000\n",
      "Number of objects detected so far: 8023\n",
      "Saving..."
     ]
    },
    {
     "name": "stderr",
     "output_type": "stream",
     "text": [
      "\n",
      "  3%|█                                        | 9/332 [06:41<4:01:43, 44.90s/it]"
     ]
    },
    {
     "name": "stdout",
     "output_type": "stream",
     "text": [
      "Saved.\n",
      "\n",
      "Subset No. 10\n",
      "Processing captions...\n",
      "Updating captions...\n"
     ]
    },
    {
     "name": "stderr",
     "output_type": "stream",
     "text": [
      "\n",
      "10000it [00:00, 1475984.09it/s]"
     ]
    },
    {
     "name": "stdout",
     "output_type": "stream",
     "text": [
      "\n",
      "\n",
      "***INFO***\n",
      "Captions Processed: 100000\n",
      "Number of objects detected so far: 8203\n",
      "Saving..."
     ]
    },
    {
     "name": "stderr",
     "output_type": "stream",
     "text": [
      "\n",
      "  3%|█▏                                      | 10/332 [07:25<3:59:46, 44.68s/it]"
     ]
    },
    {
     "name": "stdout",
     "output_type": "stream",
     "text": [
      "Saved.\n",
      "\n",
      "Subset No. 11\n",
      "Processing captions...\n",
      "Updating captions...\n"
     ]
    },
    {
     "name": "stderr",
     "output_type": "stream",
     "text": [
      "\n",
      "10000it [00:00, 1346097.11it/s]"
     ]
    },
    {
     "name": "stdout",
     "output_type": "stream",
     "text": [
      "\n",
      "\n",
      "***INFO***\n",
      "Captions Processed: 110000\n",
      "Number of objects detected so far: 8359\n",
      "Saving..."
     ]
    },
    {
     "name": "stderr",
     "output_type": "stream",
     "text": [
      "\n",
      "  3%|█▎                                      | 11/332 [08:11<4:00:47, 45.01s/it]"
     ]
    },
    {
     "name": "stdout",
     "output_type": "stream",
     "text": [
      "Saved.\n",
      "\n",
      "Subset No. 12\n",
      "Processing captions...\n",
      "Updating captions...\n"
     ]
    },
    {
     "name": "stderr",
     "output_type": "stream",
     "text": [
      "\n",
      "10000it [00:00, 1457722.17it/s]"
     ]
    },
    {
     "name": "stdout",
     "output_type": "stream",
     "text": [
      "\n",
      "\n",
      "***INFO***\n",
      "Captions Processed: 120000\n",
      "Number of objects detected so far: 8519\n",
      "Saving..."
     ]
    },
    {
     "name": "stderr",
     "output_type": "stream",
     "text": [
      "\n",
      "  4%|█▍                                      | 12/332 [08:56<4:00:54, 45.17s/it]"
     ]
    },
    {
     "name": "stdout",
     "output_type": "stream",
     "text": [
      "Saved.\n",
      "\n",
      "Subset No. 13\n",
      "Processing captions...\n",
      "Updating captions...\n"
     ]
    },
    {
     "name": "stderr",
     "output_type": "stream",
     "text": [
      "\n",
      "10000it [00:00, 1473443.41it/s]"
     ]
    },
    {
     "name": "stdout",
     "output_type": "stream",
     "text": [
      "\n",
      "\n",
      "***INFO***\n",
      "Captions Processed: 130000\n",
      "Number of objects detected so far: 8685\n",
      "Saving..."
     ]
    },
    {
     "name": "stderr",
     "output_type": "stream",
     "text": [
      "\n",
      "  4%|█▌                                      | 13/332 [09:42<4:00:46, 45.29s/it]"
     ]
    },
    {
     "name": "stdout",
     "output_type": "stream",
     "text": [
      "Saved.\n",
      "\n",
      "Subset No. 14\n",
      "Processing captions...\n",
      "Updating captions...\n"
     ]
    },
    {
     "name": "stderr",
     "output_type": "stream",
     "text": [
      "\n",
      "10000it [00:00, 1294658.15it/s]"
     ]
    },
    {
     "name": "stdout",
     "output_type": "stream",
     "text": [
      "\n",
      "\n",
      "***INFO***\n",
      "Captions Processed: 140000\n",
      "Number of objects detected so far: 8820\n",
      "Saving..."
     ]
    },
    {
     "name": "stderr",
     "output_type": "stream",
     "text": [
      "\n",
      "  4%|█▋                                      | 14/332 [10:27<4:00:11, 45.32s/it]"
     ]
    },
    {
     "name": "stdout",
     "output_type": "stream",
     "text": [
      "Saved.\n",
      "\n",
      "Subset No. 15\n",
      "Processing captions...\n",
      "Updating captions...\n"
     ]
    },
    {
     "name": "stderr",
     "output_type": "stream",
     "text": [
      "\n",
      "10000it [00:00, 1516982.17it/s]"
     ]
    },
    {
     "name": "stdout",
     "output_type": "stream",
     "text": [
      "\n",
      "\n",
      "***INFO***\n",
      "Captions Processed: 150000\n",
      "Number of objects detected so far: 8929\n",
      "Saving..."
     ]
    },
    {
     "name": "stderr",
     "output_type": "stream",
     "text": [
      "\n",
      "  5%|█▊                                      | 15/332 [11:11<3:57:31, 44.96s/it]"
     ]
    },
    {
     "name": "stdout",
     "output_type": "stream",
     "text": [
      "Saved.\n",
      "\n",
      "Subset No. 16\n",
      "Processing captions...\n",
      "Updating captions...\n"
     ]
    },
    {
     "name": "stderr",
     "output_type": "stream",
     "text": [
      "\n",
      "10000it [00:00, 1382205.96it/s]"
     ]
    },
    {
     "name": "stdout",
     "output_type": "stream",
     "text": [
      "\n",
      "\n",
      "***INFO***\n",
      "Captions Processed: 160000\n",
      "Number of objects detected so far: 9034\n",
      "Saving..."
     ]
    },
    {
     "name": "stderr",
     "output_type": "stream",
     "text": [
      "\n",
      "  5%|█▉                                      | 16/332 [11:56<3:55:33, 44.73s/it]"
     ]
    },
    {
     "name": "stdout",
     "output_type": "stream",
     "text": [
      "Saved.\n",
      "\n",
      "Subset No. 17\n",
      "Processing captions...\n",
      "Updating captions...\n"
     ]
    },
    {
     "name": "stderr",
     "output_type": "stream",
     "text": [
      "\n",
      "10000it [00:00, 1428772.31it/s]"
     ]
    },
    {
     "name": "stdout",
     "output_type": "stream",
     "text": [
      "\n",
      "\n",
      "***INFO***\n",
      "Captions Processed: 170000\n",
      "Number of objects detected so far: 9149\n",
      "Saving..."
     ]
    },
    {
     "name": "stderr",
     "output_type": "stream",
     "text": [
      "\n",
      "  5%|██                                      | 17/332 [12:42<3:56:51, 45.11s/it]"
     ]
    },
    {
     "name": "stdout",
     "output_type": "stream",
     "text": [
      "Saved.\n",
      "\n",
      "Subset No. 18\n",
      "Processing captions...\n",
      "Updating captions...\n"
     ]
    },
    {
     "name": "stderr",
     "output_type": "stream",
     "text": [
      "\n",
      "10000it [00:00, 1410988.36it/s]"
     ]
    },
    {
     "name": "stdout",
     "output_type": "stream",
     "text": [
      "\n",
      "\n",
      "***INFO***\n",
      "Captions Processed: 180000\n",
      "Number of objects detected so far: 9244\n",
      "Saving..."
     ]
    },
    {
     "name": "stderr",
     "output_type": "stream",
     "text": [
      "\n",
      "  5%|██▏                                     | 18/332 [13:27<3:55:49, 45.06s/it]"
     ]
    },
    {
     "name": "stdout",
     "output_type": "stream",
     "text": [
      "Saved.\n",
      "\n",
      "Subset No. 19\n",
      "Processing captions...\n",
      "Updating captions...\n"
     ]
    },
    {
     "name": "stderr",
     "output_type": "stream",
     "text": [
      "\n",
      "10000it [00:00, 1490301.31it/s]"
     ]
    },
    {
     "name": "stdout",
     "output_type": "stream",
     "text": [
      "\n",
      "\n",
      "***INFO***\n",
      "Captions Processed: 190000\n",
      "Number of objects detected so far: 9342\n",
      "Saving..."
     ]
    },
    {
     "name": "stderr",
     "output_type": "stream",
     "text": [
      "\n",
      "  6%|██▎                                     | 19/332 [14:11<3:53:36, 44.78s/it]"
     ]
    },
    {
     "name": "stdout",
     "output_type": "stream",
     "text": [
      "Saved.\n",
      "\n",
      "Subset No. 20\n",
      "Processing captions...\n",
      "Updating captions...\n"
     ]
    },
    {
     "name": "stderr",
     "output_type": "stream",
     "text": [
      "\n",
      "10000it [00:00, 1463980.45it/s]"
     ]
    },
    {
     "name": "stdout",
     "output_type": "stream",
     "text": [
      "\n",
      "\n",
      "***INFO***\n",
      "Captions Processed: 200000\n",
      "Number of objects detected so far: 9442\n",
      "Saving..."
     ]
    },
    {
     "name": "stderr",
     "output_type": "stream",
     "text": [
      "\n",
      "  6%|██▍                                     | 20/332 [14:55<3:51:53, 44.59s/it]"
     ]
    },
    {
     "name": "stdout",
     "output_type": "stream",
     "text": [
      "Saved.\n",
      "\n",
      "Subset No. 21\n",
      "Processing captions...\n",
      "Updating captions...\n"
     ]
    },
    {
     "name": "stderr",
     "output_type": "stream",
     "text": [
      "\n",
      "10000it [00:00, 1486340.41it/s]"
     ]
    },
    {
     "name": "stdout",
     "output_type": "stream",
     "text": [
      "\n",
      "\n",
      "***INFO***\n",
      "Captions Processed: 210000\n",
      "Number of objects detected so far: 9534\n",
      "Saving..."
     ]
    },
    {
     "name": "stderr",
     "output_type": "stream",
     "text": [
      "\n",
      "  6%|██▌                                     | 21/332 [15:39<3:50:41, 44.51s/it]"
     ]
    },
    {
     "name": "stdout",
     "output_type": "stream",
     "text": [
      "Saved.\n",
      "\n",
      "Subset No. 22\n",
      "Processing captions...\n",
      "Updating captions...\n"
     ]
    },
    {
     "name": "stderr",
     "output_type": "stream",
     "text": [
      "\n",
      "10000it [00:00, 1440302.19it/s]"
     ]
    },
    {
     "name": "stdout",
     "output_type": "stream",
     "text": [
      "\n",
      "\n",
      "***INFO***\n",
      "Captions Processed: 220000\n",
      "Number of objects detected so far: 9630\n",
      "Saving..."
     ]
    },
    {
     "name": "stderr",
     "output_type": "stream",
     "text": [
      "\n",
      "  7%|██▋                                     | 22/332 [16:23<3:49:07, 44.35s/it]"
     ]
    },
    {
     "name": "stdout",
     "output_type": "stream",
     "text": [
      "Saved.\n",
      "\n",
      "Subset No. 23\n",
      "Processing captions...\n",
      "Updating captions...\n"
     ]
    },
    {
     "name": "stderr",
     "output_type": "stream",
     "text": [
      "\n",
      "10000it [00:00, 1345363.10it/s]"
     ]
    },
    {
     "name": "stdout",
     "output_type": "stream",
     "text": [
      "\n",
      "\n",
      "***INFO***\n",
      "Captions Processed: 230000\n",
      "Number of objects detected so far: 9722\n",
      "Saving..."
     ]
    },
    {
     "name": "stderr",
     "output_type": "stream",
     "text": [
      "\n",
      "  7%|██▊                                     | 23/332 [17:09<3:50:52, 44.83s/it]"
     ]
    },
    {
     "name": "stdout",
     "output_type": "stream",
     "text": [
      "Saved.\n",
      "\n",
      "Subset No. 24\n",
      "Processing captions...\n",
      "Updating captions...\n"
     ]
    },
    {
     "name": "stderr",
     "output_type": "stream",
     "text": [
      "\n",
      "10000it [00:00, 1465822.32it/s]"
     ]
    },
    {
     "name": "stdout",
     "output_type": "stream",
     "text": [
      "\n",
      "\n",
      "***INFO***\n",
      "Captions Processed: 240000\n",
      "Number of objects detected so far: 9799\n",
      "Saving..."
     ]
    },
    {
     "name": "stderr",
     "output_type": "stream",
     "text": [
      "\n",
      "  7%|██▉                                     | 24/332 [17:54<3:49:57, 44.80s/it]"
     ]
    },
    {
     "name": "stdout",
     "output_type": "stream",
     "text": [
      "Saved.\n",
      "\n",
      "Subset No. 25\n",
      "Processing captions...\n",
      "Updating captions...\n"
     ]
    },
    {
     "name": "stderr",
     "output_type": "stream",
     "text": [
      "\n",
      "10000it [00:00, 1446311.72it/s]"
     ]
    },
    {
     "name": "stdout",
     "output_type": "stream",
     "text": [
      "\n",
      "\n",
      "***INFO***\n",
      "Captions Processed: 250000\n",
      "Number of objects detected so far: 9890\n",
      "Saving..."
     ]
    },
    {
     "name": "stderr",
     "output_type": "stream",
     "text": [
      "\n",
      "  8%|███                                     | 25/332 [18:39<3:49:07, 44.78s/it]"
     ]
    },
    {
     "name": "stdout",
     "output_type": "stream",
     "text": [
      "Saved.\n",
      "\n",
      "Subset No. 26\n",
      "Processing captions...\n",
      "Updating captions...\n"
     ]
    },
    {
     "name": "stderr",
     "output_type": "stream",
     "text": [
      "\n",
      "10000it [00:00, 1467771.56it/s]"
     ]
    },
    {
     "name": "stdout",
     "output_type": "stream",
     "text": [
      "\n",
      "\n",
      "***INFO***\n",
      "Captions Processed: 260000\n",
      "Number of objects detected so far: 9959\n",
      "Saving..."
     ]
    },
    {
     "name": "stderr",
     "output_type": "stream",
     "text": [
      "\n",
      "  8%|███▏                                    | 26/332 [19:23<3:48:28, 44.80s/it]"
     ]
    },
    {
     "name": "stdout",
     "output_type": "stream",
     "text": [
      "Saved.\n",
      "\n",
      "Subset No. 27\n",
      "Processing captions...\n",
      "Updating captions...\n"
     ]
    },
    {
     "name": "stderr",
     "output_type": "stream",
     "text": [
      "\n",
      "10000it [00:00, 1342478.00it/s]"
     ]
    },
    {
     "name": "stdout",
     "output_type": "stream",
     "text": [
      "\n",
      "\n",
      "***INFO***\n",
      "Captions Processed: 270000\n",
      "Number of objects detected so far: 10026\n",
      "Saving..."
     ]
    },
    {
     "name": "stderr",
     "output_type": "stream",
     "text": [
      "\n",
      "  8%|███▎                                    | 27/332 [20:10<3:50:19, 45.31s/it]"
     ]
    },
    {
     "name": "stdout",
     "output_type": "stream",
     "text": [
      "Saved.\n",
      "\n",
      "Subset No. 28\n",
      "Processing captions...\n",
      "Updating captions...\n"
     ]
    },
    {
     "name": "stderr",
     "output_type": "stream",
     "text": [
      "\n",
      "10000it [00:00, 1244120.67it/s]"
     ]
    },
    {
     "name": "stdout",
     "output_type": "stream",
     "text": [
      "\n",
      "\n",
      "***INFO***\n",
      "Captions Processed: 280000\n",
      "Number of objects detected so far: 10098\n",
      "Saving..."
     ]
    },
    {
     "name": "stderr",
     "output_type": "stream",
     "text": [
      "\n",
      "  8%|███▎                                    | 28/332 [20:57<3:52:40, 45.92s/it]"
     ]
    },
    {
     "name": "stdout",
     "output_type": "stream",
     "text": [
      "Saved.\n",
      "\n",
      "Subset No. 29\n",
      "Processing captions...\n",
      "Updating captions...\n"
     ]
    },
    {
     "name": "stderr",
     "output_type": "stream",
     "text": [
      "\n",
      "10000it [00:00, 1426731.07it/s]"
     ]
    },
    {
     "name": "stdout",
     "output_type": "stream",
     "text": [
      "\n",
      "\n",
      "***INFO***\n",
      "Captions Processed: 290000\n",
      "Number of objects detected so far: 10167\n",
      "Saving..."
     ]
    },
    {
     "name": "stderr",
     "output_type": "stream",
     "text": [
      "\n",
      "  9%|███▍                                    | 29/332 [21:43<3:50:59, 45.74s/it]"
     ]
    },
    {
     "name": "stdout",
     "output_type": "stream",
     "text": [
      "Saved.\n",
      "\n",
      "Subset No. 30\n",
      "Processing captions...\n",
      "Updating captions...\n"
     ]
    },
    {
     "name": "stderr",
     "output_type": "stream",
     "text": [
      "\n",
      "10000it [00:00, 1396007.32it/s]"
     ]
    },
    {
     "name": "stdout",
     "output_type": "stream",
     "text": [
      "\n",
      "\n",
      "***INFO***\n",
      "Captions Processed: 300000\n",
      "Number of objects detected so far: 10261\n",
      "Saving..."
     ]
    },
    {
     "name": "stderr",
     "output_type": "stream",
     "text": [
      "\n",
      "  9%|███▌                                    | 30/332 [22:28<3:49:37, 45.62s/it]"
     ]
    },
    {
     "name": "stdout",
     "output_type": "stream",
     "text": [
      "Saved.\n",
      "\n",
      "Subset No. 31\n",
      "Processing captions...\n",
      "Updating captions...\n"
     ]
    },
    {
     "name": "stderr",
     "output_type": "stream",
     "text": [
      "\n",
      "10000it [00:00, 1448609.52it/s]"
     ]
    },
    {
     "name": "stdout",
     "output_type": "stream",
     "text": [
      "\n",
      "\n",
      "***INFO***\n",
      "Captions Processed: 310000\n",
      "Number of objects detected so far: 10326\n",
      "Saving..."
     ]
    },
    {
     "name": "stderr",
     "output_type": "stream",
     "text": [
      "\n",
      "  9%|███▋                                    | 31/332 [23:14<3:49:45, 45.80s/it]"
     ]
    },
    {
     "name": "stdout",
     "output_type": "stream",
     "text": [
      "Saved.\n",
      "\n",
      "Subset No. 32\n",
      "Processing captions...\n",
      "Updating captions...\n"
     ]
    },
    {
     "name": "stderr",
     "output_type": "stream",
     "text": [
      "\n",
      "10000it [00:00, 1405079.90it/s]"
     ]
    },
    {
     "name": "stdout",
     "output_type": "stream",
     "text": [
      "\n",
      "\n",
      "***INFO***\n",
      "Captions Processed: 320000\n",
      "Number of objects detected so far: 10385\n",
      "Saving..."
     ]
    },
    {
     "name": "stderr",
     "output_type": "stream",
     "text": [
      "\n",
      " 10%|███▊                                    | 32/332 [24:01<3:50:21, 46.07s/it]"
     ]
    },
    {
     "name": "stdout",
     "output_type": "stream",
     "text": [
      "Saved.\n",
      "\n",
      "Subset No. 33\n",
      "Processing captions...\n",
      "Updating captions...\n"
     ]
    },
    {
     "name": "stderr",
     "output_type": "stream",
     "text": [
      "\n",
      "10000it [00:00, 1419296.16it/s]"
     ]
    },
    {
     "name": "stdout",
     "output_type": "stream",
     "text": [
      "\n",
      "\n",
      "***INFO***\n",
      "Captions Processed: 330000\n",
      "Number of objects detected so far: 10448\n",
      "Saving..."
     ]
    },
    {
     "name": "stderr",
     "output_type": "stream",
     "text": [
      "\n",
      " 10%|███▉                                    | 33/332 [24:48<3:50:45, 46.31s/it]"
     ]
    },
    {
     "name": "stdout",
     "output_type": "stream",
     "text": [
      "Saved.\n",
      "\n",
      "Subset No. 34\n",
      "Processing captions...\n",
      "Updating captions...\n"
     ]
    },
    {
     "name": "stderr",
     "output_type": "stream",
     "text": [
      "\n",
      "10000it [00:00, 1449861.38it/s]"
     ]
    },
    {
     "name": "stdout",
     "output_type": "stream",
     "text": [
      "\n",
      "\n",
      "***INFO***\n",
      "Captions Processed: 340000\n",
      "Number of objects detected so far: 10503\n",
      "Saving..."
     ]
    },
    {
     "name": "stderr",
     "output_type": "stream",
     "text": [
      "\n",
      " 10%|████                                    | 34/332 [25:33<3:48:14, 45.96s/it]"
     ]
    },
    {
     "name": "stdout",
     "output_type": "stream",
     "text": [
      "Saved.\n",
      "\n",
      "Subset No. 35\n",
      "Processing captions...\n",
      "Updating captions...\n"
     ]
    },
    {
     "name": "stderr",
     "output_type": "stream",
     "text": [
      "\n",
      "10000it [00:00, 1393919.57it/s]"
     ]
    },
    {
     "name": "stdout",
     "output_type": "stream",
     "text": [
      "\n",
      "\n",
      "***INFO***\n",
      "Captions Processed: 350000\n",
      "Number of objects detected so far: 10582\n",
      "Saving..."
     ]
    },
    {
     "name": "stderr",
     "output_type": "stream",
     "text": [
      "\n",
      " 11%|████▏                                   | 35/332 [26:18<3:46:00, 45.66s/it]"
     ]
    },
    {
     "name": "stdout",
     "output_type": "stream",
     "text": [
      "Saved.\n",
      "\n",
      "Subset No. 36\n",
      "Processing captions...\n",
      "Updating captions...\n"
     ]
    },
    {
     "name": "stderr",
     "output_type": "stream",
     "text": [
      "\n",
      "10000it [00:00, 1417425.57it/s]"
     ]
    },
    {
     "name": "stdout",
     "output_type": "stream",
     "text": [
      "\n",
      "\n",
      "***INFO***\n",
      "Captions Processed: 360000\n",
      "Number of objects detected so far: 10637\n",
      "Saving..."
     ]
    },
    {
     "name": "stderr",
     "output_type": "stream",
     "text": [
      "\n",
      " 11%|████▎                                   | 36/332 [27:03<3:44:05, 45.42s/it]"
     ]
    },
    {
     "name": "stdout",
     "output_type": "stream",
     "text": [
      "Saved.\n",
      "\n",
      "Subset No. 37\n",
      "Processing captions...\n",
      "Updating captions...\n"
     ]
    },
    {
     "name": "stderr",
     "output_type": "stream",
     "text": [
      "\n",
      "10000it [00:00, 1403340.47it/s]"
     ]
    },
    {
     "name": "stdout",
     "output_type": "stream",
     "text": [
      "\n",
      "\n",
      "***INFO***\n",
      "Captions Processed: 370000\n",
      "Number of objects detected so far: 10703\n",
      "Saving..."
     ]
    },
    {
     "name": "stderr",
     "output_type": "stream",
     "text": [
      "\n",
      " 11%|████▍                                   | 37/332 [27:47<3:42:22, 45.23s/it]"
     ]
    },
    {
     "name": "stdout",
     "output_type": "stream",
     "text": [
      "Saved.\n",
      "\n",
      "Subset No. 38\n",
      "Processing captions...\n",
      "Updating captions...\n"
     ]
    },
    {
     "name": "stderr",
     "output_type": "stream",
     "text": [
      "\n",
      "10000it [00:00, 1234308.58it/s]"
     ]
    },
    {
     "name": "stdout",
     "output_type": "stream",
     "text": [
      "\n",
      "\n",
      "***INFO***\n",
      "Captions Processed: 380000\n",
      "Number of objects detected so far: 10772\n",
      "Saving..."
     ]
    },
    {
     "name": "stderr",
     "output_type": "stream",
     "text": [
      "\n",
      " 11%|████▌                                   | 38/332 [28:34<3:44:14, 45.76s/it]"
     ]
    },
    {
     "name": "stdout",
     "output_type": "stream",
     "text": [
      "Saved.\n",
      "\n",
      "Subset No. 39\n",
      "Processing captions...\n",
      "Updating captions...\n"
     ]
    },
    {
     "name": "stderr",
     "output_type": "stream",
     "text": [
      "\n",
      "10000it [00:00, 1409660.55it/s]"
     ]
    },
    {
     "name": "stdout",
     "output_type": "stream",
     "text": [
      "\n",
      "\n",
      "***INFO***\n",
      "Captions Processed: 390000\n",
      "Number of objects detected so far: 10834\n",
      "Saving..."
     ]
    },
    {
     "name": "stderr",
     "output_type": "stream",
     "text": [
      "\n",
      " 12%|████▋                                   | 39/332 [29:20<3:42:49, 45.63s/it]"
     ]
    },
    {
     "name": "stdout",
     "output_type": "stream",
     "text": [
      "Saved.\n",
      "\n",
      "Subset No. 40\n",
      "Processing captions...\n",
      "Updating captions...\n"
     ]
    },
    {
     "name": "stderr",
     "output_type": "stream",
     "text": [
      "\n",
      "10000it [00:00, 1384852.91it/s]"
     ]
    },
    {
     "name": "stdout",
     "output_type": "stream",
     "text": [
      "\n",
      "\n",
      "***INFO***\n",
      "Captions Processed: 400000\n",
      "Number of objects detected so far: 10898\n",
      "Saving..."
     ]
    },
    {
     "name": "stderr",
     "output_type": "stream",
     "text": [
      "\n",
      " 12%|████▊                                   | 40/332 [30:06<3:42:37, 45.74s/it]"
     ]
    },
    {
     "name": "stdout",
     "output_type": "stream",
     "text": [
      "Saved.\n",
      "\n",
      "Subset No. 41\n",
      "Processing captions...\n",
      "Updating captions...\n"
     ]
    },
    {
     "name": "stderr",
     "output_type": "stream",
     "text": [
      "\n",
      "10000it [00:00, 1394336.62it/s]"
     ]
    },
    {
     "name": "stdout",
     "output_type": "stream",
     "text": [
      "\n",
      "\n",
      "***INFO***\n",
      "Captions Processed: 410000\n",
      "Number of objects detected so far: 10953\n",
      "Saving..."
     ]
    },
    {
     "name": "stderr",
     "output_type": "stream",
     "text": [
      "\n",
      " 12%|████▉                                   | 41/332 [30:52<3:42:01, 45.78s/it]"
     ]
    },
    {
     "name": "stdout",
     "output_type": "stream",
     "text": [
      "Saved.\n",
      "\n",
      "Subset No. 42\n",
      "Processing captions...\n",
      "Updating captions...\n"
     ]
    },
    {
     "name": "stderr",
     "output_type": "stream",
     "text": [
      "\n",
      "10000it [00:00, 1350257.22it/s]"
     ]
    },
    {
     "name": "stdout",
     "output_type": "stream",
     "text": [
      "\n",
      "\n",
      "***INFO***\n",
      "Captions Processed: 420000\n",
      "Number of objects detected so far: 11007\n",
      "Saving..."
     ]
    },
    {
     "name": "stderr",
     "output_type": "stream",
     "text": [
      "\n",
      " 13%|█████                                   | 42/332 [31:38<3:41:21, 45.80s/it]"
     ]
    },
    {
     "name": "stdout",
     "output_type": "stream",
     "text": [
      "Saved.\n",
      "\n",
      "Subset No. 43\n",
      "Processing captions...\n",
      "Updating captions...\n"
     ]
    },
    {
     "name": "stderr",
     "output_type": "stream",
     "text": [
      "\n",
      "10000it [00:00, 1327689.53it/s]"
     ]
    },
    {
     "name": "stdout",
     "output_type": "stream",
     "text": [
      "\n",
      "\n",
      "***INFO***\n",
      "Captions Processed: 430000\n",
      "Number of objects detected so far: 11057\n",
      "Saving..."
     ]
    },
    {
     "name": "stderr",
     "output_type": "stream",
     "text": [
      "\n",
      " 13%|█████▏                                  | 43/332 [32:24<3:42:03, 46.10s/it]"
     ]
    },
    {
     "name": "stdout",
     "output_type": "stream",
     "text": [
      "Saved.\n",
      "\n",
      "Subset No. 44\n",
      "Processing captions...\n",
      "Updating captions...\n"
     ]
    },
    {
     "name": "stderr",
     "output_type": "stream",
     "text": [
      "\n",
      "10000it [00:00, 1261027.63it/s]"
     ]
    },
    {
     "name": "stdout",
     "output_type": "stream",
     "text": [
      "\n",
      "\n",
      "***INFO***\n",
      "Captions Processed: 440000\n",
      "Number of objects detected so far: 11113\n",
      "Saving..."
     ]
    },
    {
     "name": "stderr",
     "output_type": "stream",
     "text": [
      "\n",
      " 13%|█████▎                                  | 44/332 [33:12<3:43:01, 46.46s/it]"
     ]
    },
    {
     "name": "stdout",
     "output_type": "stream",
     "text": [
      "Saved.\n",
      "\n",
      "Subset No. 45\n",
      "Processing captions...\n",
      "Updating captions...\n"
     ]
    },
    {
     "name": "stderr",
     "output_type": "stream",
     "text": [
      "\n",
      "10000it [00:00, 1395496.41it/s]"
     ]
    },
    {
     "name": "stdout",
     "output_type": "stream",
     "text": [
      "\n",
      "\n",
      "***INFO***\n",
      "Captions Processed: 450000\n",
      "Number of objects detected so far: 11183\n",
      "Saving..."
     ]
    },
    {
     "name": "stderr",
     "output_type": "stream",
     "text": [
      "\n",
      " 14%|█████▍                                  | 45/332 [33:57<3:40:57, 46.19s/it]"
     ]
    },
    {
     "name": "stdout",
     "output_type": "stream",
     "text": [
      "Saved.\n",
      "\n",
      "Subset No. 46\n",
      "Processing captions...\n",
      "Updating captions...\n"
     ]
    },
    {
     "name": "stderr",
     "output_type": "stream",
     "text": [
      "\n",
      "10000it [00:00, 1288651.84it/s]"
     ]
    },
    {
     "name": "stdout",
     "output_type": "stream",
     "text": [
      "\n",
      "\n",
      "***INFO***\n",
      "Captions Processed: 460000\n",
      "Number of objects detected so far: 11248\n",
      "Saving..."
     ]
    },
    {
     "name": "stderr",
     "output_type": "stream",
     "text": [
      "\n",
      " 14%|█████▌                                  | 46/332 [34:44<3:40:40, 46.29s/it]"
     ]
    },
    {
     "name": "stdout",
     "output_type": "stream",
     "text": [
      "Saved.\n",
      "\n",
      "Subset No. 47\n",
      "Processing captions...\n",
      "Updating captions...\n"
     ]
    },
    {
     "name": "stderr",
     "output_type": "stream",
     "text": [
      "\n",
      "10000it [00:00, 1472977.70it/s]"
     ]
    },
    {
     "name": "stdout",
     "output_type": "stream",
     "text": [
      "\n",
      "\n",
      "***INFO***\n",
      "Captions Processed: 470000\n",
      "Number of objects detected so far: 11314\n",
      "Saving..."
     ]
    },
    {
     "name": "stderr",
     "output_type": "stream",
     "text": [
      "\n",
      " 14%|█████▋                                  | 47/332 [35:29<3:39:02, 46.11s/it]"
     ]
    },
    {
     "name": "stdout",
     "output_type": "stream",
     "text": [
      "Saved.\n",
      "\n",
      "Subset No. 48\n",
      "Processing captions...\n",
      "Updating captions...\n"
     ]
    },
    {
     "name": "stderr",
     "output_type": "stream",
     "text": [
      "\n",
      "10000it [00:00, 1379433.01it/s]"
     ]
    },
    {
     "name": "stdout",
     "output_type": "stream",
     "text": [
      "\n",
      "\n",
      "***INFO***\n",
      "Captions Processed: 480000\n",
      "Number of objects detected so far: 11378\n",
      "Saving..."
     ]
    },
    {
     "name": "stderr",
     "output_type": "stream",
     "text": [
      "\n",
      " 14%|█████▊                                  | 48/332 [36:15<3:37:41, 45.99s/it]"
     ]
    },
    {
     "name": "stdout",
     "output_type": "stream",
     "text": [
      "Saved.\n",
      "\n",
      "Subset No. 49\n",
      "Processing captions...\n",
      "Updating captions...\n"
     ]
    },
    {
     "name": "stderr",
     "output_type": "stream",
     "text": [
      "\n",
      "10000it [00:00, 1432725.53it/s]"
     ]
    },
    {
     "name": "stdout",
     "output_type": "stream",
     "text": [
      "\n",
      "\n",
      "***INFO***\n",
      "Captions Processed: 490000\n",
      "Number of objects detected so far: 11428\n",
      "Saving..."
     ]
    },
    {
     "name": "stderr",
     "output_type": "stream",
     "text": [
      "\n",
      " 15%|█████▉                                  | 49/332 [37:01<3:36:34, 45.92s/it]"
     ]
    },
    {
     "name": "stdout",
     "output_type": "stream",
     "text": [
      "Saved.\n",
      "\n",
      "Subset No. 50\n",
      "Processing captions...\n",
      "Updating captions...\n"
     ]
    },
    {
     "name": "stderr",
     "output_type": "stream",
     "text": [
      "\n",
      "10000it [00:00, 1373065.77it/s]"
     ]
    },
    {
     "name": "stdout",
     "output_type": "stream",
     "text": [
      "\n",
      "\n",
      "***INFO***\n",
      "Captions Processed: 500000\n",
      "Number of objects detected so far: 11480\n",
      "Saving..."
     ]
    },
    {
     "name": "stderr",
     "output_type": "stream",
     "text": [
      "\n",
      " 15%|██████                                  | 50/332 [37:47<3:36:32, 46.07s/it]"
     ]
    },
    {
     "name": "stdout",
     "output_type": "stream",
     "text": [
      "Saved.\n",
      "\n",
      "Subset No. 51\n",
      "Processing captions...\n",
      "Updating captions...\n"
     ]
    },
    {
     "name": "stderr",
     "output_type": "stream",
     "text": [
      "\n",
      "10000it [00:00, 1377982.78it/s]"
     ]
    },
    {
     "name": "stdout",
     "output_type": "stream",
     "text": [
      "\n",
      "\n",
      "***INFO***\n",
      "Captions Processed: 510000\n",
      "Number of objects detected so far: 11551\n",
      "Saving..."
     ]
    },
    {
     "name": "stderr",
     "output_type": "stream",
     "text": [
      "\n",
      " 15%|██████▏                                 | 51/332 [38:34<3:37:11, 46.38s/it]"
     ]
    },
    {
     "name": "stdout",
     "output_type": "stream",
     "text": [
      "Saved.\n",
      "\n",
      "Subset No. 52\n",
      "Processing captions...\n",
      "Updating captions...\n"
     ]
    },
    {
     "name": "stderr",
     "output_type": "stream",
     "text": [
      "\n",
      "10000it [00:00, 1417617.20it/s]"
     ]
    },
    {
     "name": "stdout",
     "output_type": "stream",
     "text": [
      "\n",
      "\n",
      "***INFO***\n",
      "Captions Processed: 520000\n",
      "Number of objects detected so far: 11612\n",
      "Saving..."
     ]
    },
    {
     "name": "stderr",
     "output_type": "stream",
     "text": [
      "\n",
      " 16%|██████▎                                 | 52/332 [39:20<3:35:23, 46.16s/it]"
     ]
    },
    {
     "name": "stdout",
     "output_type": "stream",
     "text": [
      "Saved.\n",
      "\n",
      "Subset No. 53\n",
      "Processing captions...\n",
      "Updating captions...\n"
     ]
    },
    {
     "name": "stderr",
     "output_type": "stream",
     "text": [
      "\n",
      "10000it [00:00, 1362583.33it/s]"
     ]
    },
    {
     "name": "stdout",
     "output_type": "stream",
     "text": [
      "\n",
      "\n",
      "***INFO***\n",
      "Captions Processed: 530000\n",
      "Number of objects detected so far: 11672\n",
      "Saving..."
     ]
    },
    {
     "name": "stderr",
     "output_type": "stream",
     "text": [
      "\n",
      " 16%|██████▍                                 | 53/332 [40:06<3:34:45, 46.18s/it]"
     ]
    },
    {
     "name": "stdout",
     "output_type": "stream",
     "text": [
      "Saved.\n",
      "\n",
      "Subset No. 54\n",
      "Processing captions...\n",
      "Updating captions...\n"
     ]
    },
    {
     "name": "stderr",
     "output_type": "stream",
     "text": [
      "\n",
      "10000it [00:00, 1328025.84it/s]"
     ]
    },
    {
     "name": "stdout",
     "output_type": "stream",
     "text": [
      "\n",
      "\n",
      "***INFO***\n",
      "Captions Processed: 540000\n",
      "Number of objects detected so far: 11721\n",
      "Saving..."
     ]
    },
    {
     "name": "stderr",
     "output_type": "stream",
     "text": [
      "\n",
      " 16%|██████▌                                 | 54/332 [40:53<3:34:09, 46.22s/it]"
     ]
    },
    {
     "name": "stdout",
     "output_type": "stream",
     "text": [
      "Saved.\n",
      "\n",
      "Subset No. 55\n",
      "Processing captions...\n",
      "Updating captions...\n"
     ]
    },
    {
     "name": "stderr",
     "output_type": "stream",
     "text": [
      "\n",
      "10000it [00:00, 1370105.51it/s]"
     ]
    },
    {
     "name": "stdout",
     "output_type": "stream",
     "text": [
      "\n",
      "\n",
      "***INFO***\n",
      "Captions Processed: 550000\n",
      "Number of objects detected so far: 11763\n",
      "Saving..."
     ]
    },
    {
     "name": "stderr",
     "output_type": "stream",
     "text": [
      "\n",
      " 17%|██████▋                                 | 55/332 [41:38<3:32:47, 46.09s/it]"
     ]
    },
    {
     "name": "stdout",
     "output_type": "stream",
     "text": [
      "Saved.\n",
      "\n",
      "Subset No. 56\n",
      "Processing captions...\n",
      "Updating captions...\n"
     ]
    },
    {
     "name": "stderr",
     "output_type": "stream",
     "text": [
      "\n",
      "10000it [00:00, 1338664.62it/s]"
     ]
    },
    {
     "name": "stdout",
     "output_type": "stream",
     "text": [
      "\n",
      "\n",
      "***INFO***\n",
      "Captions Processed: 560000\n",
      "Number of objects detected so far: 11820\n",
      "Saving..."
     ]
    },
    {
     "name": "stderr",
     "output_type": "stream",
     "text": [
      "\n",
      " 17%|██████▋                                 | 56/332 [42:25<3:32:56, 46.29s/it]"
     ]
    },
    {
     "name": "stdout",
     "output_type": "stream",
     "text": [
      "Saved.\n",
      "\n",
      "Subset No. 57\n",
      "Processing captions...\n",
      "Updating captions...\n"
     ]
    },
    {
     "name": "stderr",
     "output_type": "stream",
     "text": [
      "\n",
      "10000it [00:00, 1439313.68it/s]"
     ]
    },
    {
     "name": "stdout",
     "output_type": "stream",
     "text": [
      "\n",
      "\n",
      "***INFO***\n",
      "Captions Processed: 570000\n",
      "Number of objects detected so far: 11870\n",
      "Saving..."
     ]
    },
    {
     "name": "stderr",
     "output_type": "stream",
     "text": [
      "\n",
      " 17%|██████▊                                 | 57/332 [43:12<3:32:56, 46.46s/it]"
     ]
    },
    {
     "name": "stdout",
     "output_type": "stream",
     "text": [
      "Saved.\n",
      "\n",
      "Subset No. 58\n",
      "Processing captions...\n",
      "Updating captions...\n"
     ]
    },
    {
     "name": "stderr",
     "output_type": "stream",
     "text": [
      "\n",
      "10000it [00:00, 1359227.43it/s]"
     ]
    },
    {
     "name": "stdout",
     "output_type": "stream",
     "text": [
      "\n",
      "\n",
      "***INFO***\n",
      "Captions Processed: 580000\n",
      "Number of objects detected so far: 11911\n",
      "Saving..."
     ]
    },
    {
     "name": "stderr",
     "output_type": "stream",
     "text": [
      "\n",
      " 17%|██████▉                                 | 58/332 [43:58<3:31:12, 46.25s/it]"
     ]
    },
    {
     "name": "stdout",
     "output_type": "stream",
     "text": [
      "Saved.\n",
      "\n",
      "Subset No. 59\n",
      "Processing captions...\n",
      "Updating captions...\n"
     ]
    },
    {
     "name": "stderr",
     "output_type": "stream",
     "text": [
      "\n",
      "10000it [00:00, 1431014.67it/s]"
     ]
    },
    {
     "name": "stdout",
     "output_type": "stream",
     "text": [
      "\n",
      "\n",
      "***INFO***\n",
      "Captions Processed: 590000\n",
      "Number of objects detected so far: 11969\n",
      "Saving..."
     ]
    },
    {
     "name": "stderr",
     "output_type": "stream",
     "text": [
      "\n",
      " 18%|███████                                 | 59/332 [44:45<3:31:14, 46.43s/it]"
     ]
    },
    {
     "name": "stdout",
     "output_type": "stream",
     "text": [
      "Saved.\n",
      "\n",
      "Subset No. 60\n",
      "Processing captions...\n",
      "Updating captions...\n"
     ]
    },
    {
     "name": "stderr",
     "output_type": "stream",
     "text": [
      "\n",
      "10000it [00:00, 1453327.79it/s]"
     ]
    },
    {
     "name": "stdout",
     "output_type": "stream",
     "text": [
      "\n",
      "\n",
      "***INFO***\n",
      "Captions Processed: 600000\n",
      "Number of objects detected so far: 12023\n",
      "Saving..."
     ]
    },
    {
     "name": "stderr",
     "output_type": "stream",
     "text": [
      "\n",
      " 18%|███████▏                                | 60/332 [45:32<3:31:10, 46.58s/it]"
     ]
    },
    {
     "name": "stdout",
     "output_type": "stream",
     "text": [
      "Saved.\n",
      "\n",
      "Subset No. 61\n",
      "Processing captions...\n",
      "Updating captions...\n"
     ]
    },
    {
     "name": "stderr",
     "output_type": "stream",
     "text": [
      "\n",
      "10000it [00:00, 1291310.00it/s]"
     ]
    },
    {
     "name": "stdout",
     "output_type": "stream",
     "text": [
      "\n",
      "\n",
      "***INFO***\n",
      "Captions Processed: 610000\n",
      "Number of objects detected so far: 12072\n",
      "Saving..."
     ]
    },
    {
     "name": "stderr",
     "output_type": "stream",
     "text": [
      "\n",
      " 18%|███████▎                                | 61/332 [46:18<3:30:23, 46.58s/it]"
     ]
    },
    {
     "name": "stdout",
     "output_type": "stream",
     "text": [
      "Saved.\n",
      "\n",
      "Subset No. 62\n",
      "Processing captions...\n",
      "Updating captions...\n"
     ]
    },
    {
     "name": "stderr",
     "output_type": "stream",
     "text": [
      "\n",
      "10000it [00:00, 1366133.80it/s]"
     ]
    },
    {
     "name": "stdout",
     "output_type": "stream",
     "text": [
      "\n",
      "\n",
      "***INFO***\n",
      "Captions Processed: 620000\n",
      "Number of objects detected so far: 12117\n",
      "Saving..."
     ]
    },
    {
     "name": "stderr",
     "output_type": "stream",
     "text": [
      "\n",
      " 19%|███████▍                                | 62/332 [47:04<3:28:42, 46.38s/it]"
     ]
    },
    {
     "name": "stdout",
     "output_type": "stream",
     "text": [
      "Saved.\n",
      "\n",
      "Subset No. 63\n",
      "Processing captions...\n",
      "Updating captions...\n"
     ]
    },
    {
     "name": "stderr",
     "output_type": "stream",
     "text": [
      "\n",
      "10000it [00:00, 1456659.03it/s]"
     ]
    },
    {
     "name": "stdout",
     "output_type": "stream",
     "text": [
      "\n",
      "\n",
      "***INFO***\n",
      "Captions Processed: 630000\n",
      "Number of objects detected so far: 12169\n",
      "Saving..."
     ]
    },
    {
     "name": "stderr",
     "output_type": "stream",
     "text": [
      "\n",
      " 19%|███████▌                                | 63/332 [47:51<3:28:28, 46.50s/it]"
     ]
    },
    {
     "name": "stdout",
     "output_type": "stream",
     "text": [
      "Saved.\n",
      "\n",
      "Subset No. 64\n",
      "Processing captions...\n",
      "Updating captions...\n"
     ]
    },
    {
     "name": "stderr",
     "output_type": "stream",
     "text": [
      "\n",
      "10000it [00:00, 1427362.26it/s]"
     ]
    },
    {
     "name": "stdout",
     "output_type": "stream",
     "text": [
      "\n",
      "\n",
      "***INFO***\n",
      "Captions Processed: 640000\n",
      "Number of objects detected so far: 12209\n",
      "Saving..."
     ]
    },
    {
     "name": "stderr",
     "output_type": "stream",
     "text": [
      "\n",
      " 19%|███████▋                                | 64/332 [48:37<3:27:29, 46.45s/it]"
     ]
    },
    {
     "name": "stdout",
     "output_type": "stream",
     "text": [
      "Saved.\n",
      "\n",
      "Subset No. 65\n",
      "Processing captions...\n",
      "Updating captions...\n"
     ]
    },
    {
     "name": "stderr",
     "output_type": "stream",
     "text": [
      "\n",
      "10000it [00:00, 1266166.76it/s]"
     ]
    },
    {
     "name": "stdout",
     "output_type": "stream",
     "text": [
      "\n",
      "\n",
      "***INFO***\n",
      "Captions Processed: 650000\n",
      "Number of objects detected so far: 12246\n",
      "Saving..."
     ]
    },
    {
     "name": "stderr",
     "output_type": "stream",
     "text": [
      "\n",
      " 20%|███████▊                                | 65/332 [49:25<3:28:03, 46.75s/it]"
     ]
    },
    {
     "name": "stdout",
     "output_type": "stream",
     "text": [
      "Saved.\n",
      "\n",
      "Subset No. 66\n",
      "Processing captions...\n",
      "Updating captions...\n"
     ]
    },
    {
     "name": "stderr",
     "output_type": "stream",
     "text": [
      "\n",
      "10000it [00:00, 1447209.99it/s]"
     ]
    },
    {
     "name": "stdout",
     "output_type": "stream",
     "text": [
      "\n",
      "\n",
      "***INFO***\n",
      "Captions Processed: 660000\n",
      "Number of objects detected so far: 12292\n",
      "Saving..."
     ]
    },
    {
     "name": "stderr",
     "output_type": "stream",
     "text": [
      "\n",
      " 20%|███████▉                                | 66/332 [50:11<3:27:21, 46.77s/it]"
     ]
    },
    {
     "name": "stdout",
     "output_type": "stream",
     "text": [
      "Saved.\n",
      "\n",
      "Subset No. 67\n",
      "Processing captions...\n",
      "Updating captions...\n"
     ]
    },
    {
     "name": "stderr",
     "output_type": "stream",
     "text": [
      "\n",
      "10000it [00:00, 1416420.37it/s]"
     ]
    },
    {
     "name": "stdout",
     "output_type": "stream",
     "text": [
      "\n",
      "\n",
      "***INFO***\n",
      "Captions Processed: 670000\n",
      "Number of objects detected so far: 12339\n",
      "Saving..."
     ]
    },
    {
     "name": "stderr",
     "output_type": "stream",
     "text": [
      "\n",
      " 20%|████████                                | 67/332 [50:58<3:26:20, 46.72s/it]"
     ]
    },
    {
     "name": "stdout",
     "output_type": "stream",
     "text": [
      "Saved.\n",
      "\n",
      "Subset No. 68\n",
      "Processing captions...\n",
      "Updating captions...\n"
     ]
    },
    {
     "name": "stderr",
     "output_type": "stream",
     "text": [
      "\n",
      "10000it [00:00, 1389993.04it/s]"
     ]
    },
    {
     "name": "stdout",
     "output_type": "stream",
     "text": [
      "\n",
      "\n",
      "***INFO***\n",
      "Captions Processed: 680000\n",
      "Number of objects detected so far: 12389\n",
      "Saving..."
     ]
    },
    {
     "name": "stderr",
     "output_type": "stream",
     "text": [
      "\n",
      " 20%|████████▏                               | 68/332 [51:45<3:26:09, 46.85s/it]"
     ]
    },
    {
     "name": "stdout",
     "output_type": "stream",
     "text": [
      "Saved.\n",
      "\n",
      "Subset No. 69\n",
      "Processing captions...\n",
      "Updating captions...\n"
     ]
    },
    {
     "name": "stderr",
     "output_type": "stream",
     "text": [
      "\n",
      "10000it [00:00, 1427750.96it/s]"
     ]
    },
    {
     "name": "stdout",
     "output_type": "stream",
     "text": [
      "\n",
      "\n",
      "***INFO***\n",
      "Captions Processed: 690000\n",
      "Number of objects detected so far: 12441\n",
      "Saving..."
     ]
    },
    {
     "name": "stderr",
     "output_type": "stream",
     "text": [
      "\n",
      " 21%|████████▎                               | 69/332 [52:32<3:25:03, 46.78s/it]"
     ]
    },
    {
     "name": "stdout",
     "output_type": "stream",
     "text": [
      "Saved.\n",
      "\n",
      "Subset No. 70\n",
      "Processing captions...\n",
      "Updating captions...\n"
     ]
    },
    {
     "name": "stderr",
     "output_type": "stream",
     "text": [
      "\n",
      "10000it [00:00, 1302943.06it/s]"
     ]
    },
    {
     "name": "stdout",
     "output_type": "stream",
     "text": [
      "\n",
      "\n",
      "***INFO***\n",
      "Captions Processed: 700000\n",
      "Number of objects detected so far: 12484\n",
      "Saving..."
     ]
    },
    {
     "name": "stderr",
     "output_type": "stream",
     "text": [
      "\n",
      " 21%|████████▍                               | 70/332 [53:19<3:24:30, 46.83s/it]"
     ]
    },
    {
     "name": "stdout",
     "output_type": "stream",
     "text": [
      "Saved.\n",
      "\n",
      "Subset No. 71\n",
      "Processing captions...\n",
      "Updating captions...\n"
     ]
    },
    {
     "name": "stderr",
     "output_type": "stream",
     "text": [
      "\n",
      "10000it [00:00, 1411605.69it/s]"
     ]
    },
    {
     "name": "stdout",
     "output_type": "stream",
     "text": [
      "\n",
      "\n",
      "***INFO***\n",
      "Captions Processed: 710000\n",
      "Number of objects detected so far: 12532\n",
      "Saving..."
     ]
    },
    {
     "name": "stderr",
     "output_type": "stream",
     "text": [
      "\n",
      " 21%|████████▌                               | 71/332 [54:06<3:24:31, 47.02s/it]"
     ]
    },
    {
     "name": "stdout",
     "output_type": "stream",
     "text": [
      "Saved.\n",
      "\n",
      "Subset No. 72\n",
      "Processing captions...\n",
      "Updating captions...\n"
     ]
    },
    {
     "name": "stderr",
     "output_type": "stream",
     "text": [
      "\n",
      "10000it [00:00, 1298385.34it/s]"
     ]
    },
    {
     "name": "stdout",
     "output_type": "stream",
     "text": [
      "\n",
      "\n",
      "***INFO***\n",
      "Captions Processed: 720000\n",
      "Number of objects detected so far: 12586\n",
      "Saving..."
     ]
    },
    {
     "name": "stderr",
     "output_type": "stream",
     "text": [
      "\n",
      " 22%|████████▋                               | 72/332 [54:55<3:25:28, 47.42s/it]"
     ]
    },
    {
     "name": "stdout",
     "output_type": "stream",
     "text": [
      "Saved.\n",
      "\n",
      "Subset No. 73\n",
      "Processing captions...\n",
      "Updating captions...\n"
     ]
    },
    {
     "name": "stderr",
     "output_type": "stream",
     "text": [
      "\n",
      "10000it [00:00, 1428967.02it/s]"
     ]
    },
    {
     "name": "stdout",
     "output_type": "stream",
     "text": [
      "\n",
      "\n",
      "***INFO***\n",
      "Captions Processed: 730000\n",
      "Number of objects detected so far: 12628\n",
      "Saving..."
     ]
    },
    {
     "name": "stderr",
     "output_type": "stream",
     "text": [
      "\n",
      " 22%|████████▊                               | 73/332 [55:43<3:25:45, 47.67s/it]"
     ]
    },
    {
     "name": "stdout",
     "output_type": "stream",
     "text": [
      "Saved.\n",
      "\n",
      "Subset No. 74\n",
      "Processing captions...\n",
      "Updating captions...\n"
     ]
    },
    {
     "name": "stderr",
     "output_type": "stream",
     "text": [
      "\n",
      "10000it [00:00, 1403105.74it/s]"
     ]
    },
    {
     "name": "stdout",
     "output_type": "stream",
     "text": [
      "\n",
      "\n",
      "***INFO***\n",
      "Captions Processed: 740000\n",
      "Number of objects detected so far: 12679\n",
      "Saving..."
     ]
    },
    {
     "name": "stderr",
     "output_type": "stream",
     "text": [
      "\n",
      " 22%|████████▉                               | 74/332 [56:29<3:23:40, 47.36s/it]"
     ]
    },
    {
     "name": "stdout",
     "output_type": "stream",
     "text": [
      "Saved.\n",
      "\n",
      "Subset No. 75\n",
      "Processing captions...\n",
      "Updating captions...\n"
     ]
    },
    {
     "name": "stderr",
     "output_type": "stream",
     "text": [
      "\n",
      "10000it [00:00, 1371180.49it/s]"
     ]
    },
    {
     "name": "stdout",
     "output_type": "stream",
     "text": [
      "\n",
      "\n",
      "***INFO***\n",
      "Captions Processed: 750000\n",
      "Number of objects detected so far: 12720\n",
      "Saving..."
     ]
    },
    {
     "name": "stderr",
     "output_type": "stream",
     "text": [
      "\n",
      " 23%|█████████                               | 75/332 [57:17<3:23:24, 47.49s/it]"
     ]
    },
    {
     "name": "stdout",
     "output_type": "stream",
     "text": [
      "Saved.\n",
      "\n",
      "Subset No. 76\n",
      "Processing captions...\n",
      "Updating captions...\n"
     ]
    },
    {
     "name": "stderr",
     "output_type": "stream",
     "text": [
      "\n",
      "10000it [00:00, 1345751.60it/s]"
     ]
    },
    {
     "name": "stdout",
     "output_type": "stream",
     "text": [
      "\n",
      "\n",
      "***INFO***\n",
      "Captions Processed: 760000\n",
      "Number of objects detected so far: 12765\n",
      "Saving..."
     ]
    },
    {
     "name": "stderr",
     "output_type": "stream",
     "text": [
      "\n",
      " 23%|█████████▏                              | 76/332 [58:05<3:22:34, 47.48s/it]"
     ]
    },
    {
     "name": "stdout",
     "output_type": "stream",
     "text": [
      "Saved.\n",
      "\n",
      "Subset No. 77\n",
      "Processing captions...\n",
      "Updating captions...\n"
     ]
    },
    {
     "name": "stderr",
     "output_type": "stream",
     "text": [
      "\n",
      "10000it [00:00, 1442134.51it/s]"
     ]
    },
    {
     "name": "stdout",
     "output_type": "stream",
     "text": [
      "\n",
      "\n",
      "***INFO***\n",
      "Captions Processed: 770000\n",
      "Number of objects detected so far: 12803\n",
      "Saving..."
     ]
    },
    {
     "name": "stderr",
     "output_type": "stream",
     "text": [
      "\n",
      " 23%|█████████▎                              | 77/332 [58:54<3:23:33, 47.90s/it]"
     ]
    },
    {
     "name": "stdout",
     "output_type": "stream",
     "text": [
      "Saved.\n",
      "\n",
      "Subset No. 78\n",
      "Processing captions...\n",
      "Updating captions...\n"
     ]
    },
    {
     "name": "stderr",
     "output_type": "stream",
     "text": [
      "\n",
      "10000it [00:00, 1362406.29it/s]"
     ]
    },
    {
     "name": "stdout",
     "output_type": "stream",
     "text": [
      "\n",
      "\n",
      "***INFO***\n",
      "Captions Processed: 780000\n",
      "Number of objects detected so far: 12850\n",
      "Saving..."
     ]
    },
    {
     "name": "stderr",
     "output_type": "stream",
     "text": [
      "\n",
      " 23%|█████████▍                              | 78/332 [59:42<3:23:01, 47.96s/it]"
     ]
    },
    {
     "name": "stdout",
     "output_type": "stream",
     "text": [
      "Saved.\n",
      "\n",
      "Subset No. 79\n",
      "Processing captions...\n",
      "Updating captions...\n"
     ]
    },
    {
     "name": "stderr",
     "output_type": "stream",
     "text": [
      "\n",
      "10000it [00:00, 1431845.15it/s]"
     ]
    },
    {
     "name": "stdout",
     "output_type": "stream",
     "text": [
      "\n",
      "\n",
      "***INFO***\n",
      "Captions Processed: 790000\n",
      "Number of objects detected so far: 12903\n",
      "Saving..."
     ]
    },
    {
     "name": "stderr",
     "output_type": "stream",
     "text": [
      "\n",
      " 24%|█████████                             | 79/332 [1:00:31<3:23:28, 48.26s/it]"
     ]
    },
    {
     "name": "stdout",
     "output_type": "stream",
     "text": [
      "Saved.\n",
      "\n",
      "Subset No. 80\n",
      "Processing captions...\n",
      "Updating captions...\n"
     ]
    },
    {
     "name": "stderr",
     "output_type": "stream",
     "text": [
      "\n",
      "10000it [00:00, 1344242.04it/s]"
     ]
    },
    {
     "name": "stdout",
     "output_type": "stream",
     "text": [
      "\n",
      "\n",
      "***INFO***\n",
      "Captions Processed: 800000\n",
      "Number of objects detected so far: 12957\n",
      "Saving..."
     ]
    },
    {
     "name": "stderr",
     "output_type": "stream",
     "text": [
      "\n",
      " 24%|█████████▏                            | 80/332 [1:01:19<3:22:50, 48.29s/it]"
     ]
    },
    {
     "name": "stdout",
     "output_type": "stream",
     "text": [
      "Saved.\n",
      "\n",
      "Subset No. 81\n",
      "Processing captions...\n",
      "Updating captions...\n"
     ]
    },
    {
     "name": "stderr",
     "output_type": "stream",
     "text": [
      "\n",
      "10000it [00:00, 1451015.01it/s]"
     ]
    },
    {
     "name": "stdout",
     "output_type": "stream",
     "text": [
      "\n",
      "\n",
      "***INFO***\n",
      "Captions Processed: 810000\n",
      "Number of objects detected so far: 13009\n",
      "Saving..."
     ]
    },
    {
     "name": "stderr",
     "output_type": "stream",
     "text": [
      "\n",
      " 24%|█████████▎                            | 81/332 [1:02:08<3:22:40, 48.45s/it]"
     ]
    },
    {
     "name": "stdout",
     "output_type": "stream",
     "text": [
      "Saved.\n",
      "\n",
      "Subset No. 82\n",
      "Processing captions...\n",
      "Updating captions...\n"
     ]
    },
    {
     "name": "stderr",
     "output_type": "stream",
     "text": [
      "\n",
      "10000it [00:00, 1338152.12it/s]"
     ]
    },
    {
     "name": "stdout",
     "output_type": "stream",
     "text": [
      "\n",
      "\n",
      "***INFO***\n",
      "Captions Processed: 820000\n",
      "Number of objects detected so far: 13055\n",
      "Saving..."
     ]
    },
    {
     "name": "stderr",
     "output_type": "stream",
     "text": [
      "\n",
      " 25%|█████████▍                            | 82/332 [1:02:57<3:22:59, 48.72s/it]"
     ]
    },
    {
     "name": "stdout",
     "output_type": "stream",
     "text": [
      "Saved.\n",
      "\n",
      "Subset No. 83\n",
      "Processing captions...\n",
      "Updating captions...\n"
     ]
    },
    {
     "name": "stderr",
     "output_type": "stream",
     "text": [
      "\n",
      "10000it [00:00, 1333854.03it/s]"
     ]
    },
    {
     "name": "stdout",
     "output_type": "stream",
     "text": [
      "\n",
      "\n",
      "***INFO***\n",
      "Captions Processed: 830000\n",
      "Number of objects detected so far: 13101\n",
      "Saving..."
     ]
    },
    {
     "name": "stderr",
     "output_type": "stream",
     "text": [
      "\n",
      " 25%|█████████▌                            | 83/332 [1:03:47<3:22:58, 48.91s/it]"
     ]
    },
    {
     "name": "stdout",
     "output_type": "stream",
     "text": [
      "Saved.\n",
      "\n",
      "Subset No. 84\n",
      "Processing captions...\n",
      "Updating captions...\n"
     ]
    },
    {
     "name": "stderr",
     "output_type": "stream",
     "text": [
      "\n",
      "10000it [00:00, 1374775.97it/s]"
     ]
    },
    {
     "name": "stdout",
     "output_type": "stream",
     "text": [
      "\n",
      "\n",
      "***INFO***\n",
      "Captions Processed: 840000\n",
      "Number of objects detected so far: 13149\n",
      "Saving..."
     ]
    },
    {
     "name": "stderr",
     "output_type": "stream",
     "text": [
      "\n",
      " 25%|█████████▌                            | 84/332 [1:04:36<3:23:17, 49.18s/it]"
     ]
    },
    {
     "name": "stdout",
     "output_type": "stream",
     "text": [
      "Saved.\n",
      "\n",
      "Subset No. 85\n",
      "Processing captions...\n",
      "Updating captions...\n"
     ]
    },
    {
     "name": "stderr",
     "output_type": "stream",
     "text": [
      "\n",
      "10000it [00:00, 1409234.28it/s]"
     ]
    },
    {
     "name": "stdout",
     "output_type": "stream",
     "text": [
      "\n",
      "\n",
      "***INFO***\n",
      "Captions Processed: 850000\n",
      "Number of objects detected so far: 13197\n",
      "Saving..."
     ]
    },
    {
     "name": "stderr",
     "output_type": "stream",
     "text": [
      "\n",
      " 26%|█████████▋                            | 85/332 [1:05:25<3:21:35, 48.97s/it]"
     ]
    },
    {
     "name": "stdout",
     "output_type": "stream",
     "text": [
      "Saved.\n",
      "\n",
      "Subset No. 86\n",
      "Processing captions...\n",
      "Updating captions...\n"
     ]
    },
    {
     "name": "stderr",
     "output_type": "stream",
     "text": [
      "\n",
      "10000it [00:00, 1374595.75it/s]"
     ]
    },
    {
     "name": "stdout",
     "output_type": "stream",
     "text": [
      "\n",
      "\n",
      "***INFO***\n",
      "Captions Processed: 860000\n",
      "Number of objects detected so far: 13225\n",
      "Saving..."
     ]
    },
    {
     "name": "stderr",
     "output_type": "stream",
     "text": [
      "\n",
      " 26%|█████████▊                            | 86/332 [1:06:14<3:21:09, 49.06s/it]"
     ]
    },
    {
     "name": "stdout",
     "output_type": "stream",
     "text": [
      "Saved.\n",
      "\n",
      "Subset No. 87\n",
      "Processing captions...\n",
      "Updating captions...\n"
     ]
    },
    {
     "name": "stderr",
     "output_type": "stream",
     "text": [
      "\n",
      "10000it [00:00, 1384441.51it/s]"
     ]
    },
    {
     "name": "stdout",
     "output_type": "stream",
     "text": [
      "\n",
      "\n",
      "***INFO***\n",
      "Captions Processed: 870000\n",
      "Number of objects detected so far: 13273\n",
      "Saving..."
     ]
    },
    {
     "name": "stderr",
     "output_type": "stream",
     "text": [
      "\n",
      " 26%|█████████▉                            | 87/332 [1:07:04<3:20:59, 49.22s/it]"
     ]
    },
    {
     "name": "stdout",
     "output_type": "stream",
     "text": [
      "Saved.\n",
      "\n",
      "Subset No. 88\n",
      "Processing captions...\n",
      "Updating captions...\n"
     ]
    },
    {
     "name": "stderr",
     "output_type": "stream",
     "text": [
      "\n",
      "10000it [00:00, 1415464.36it/s]"
     ]
    },
    {
     "name": "stdout",
     "output_type": "stream",
     "text": [
      "\n",
      "\n",
      "***INFO***\n",
      "Captions Processed: 880000\n",
      "Number of objects detected so far: 13310\n",
      "Saving..."
     ]
    },
    {
     "name": "stderr",
     "output_type": "stream",
     "text": [
      "\n",
      " 27%|██████████                            | 88/332 [1:07:53<3:20:48, 49.38s/it]"
     ]
    },
    {
     "name": "stdout",
     "output_type": "stream",
     "text": [
      "Saved.\n",
      "\n",
      "Subset No. 89\n",
      "Processing captions...\n",
      "Updating captions...\n"
     ]
    },
    {
     "name": "stderr",
     "output_type": "stream",
     "text": [
      "\n",
      "10000it [00:00, 1442233.68it/s]"
     ]
    },
    {
     "name": "stdout",
     "output_type": "stream",
     "text": [
      "\n",
      "\n",
      "***INFO***\n",
      "Captions Processed: 890000\n",
      "Number of objects detected so far: 13358\n",
      "Saving..."
     ]
    },
    {
     "name": "stderr",
     "output_type": "stream",
     "text": [
      "\n",
      " 27%|██████████▏                           | 89/332 [1:08:43<3:19:44, 49.32s/it]"
     ]
    },
    {
     "name": "stdout",
     "output_type": "stream",
     "text": [
      "Saved.\n",
      "\n",
      "Subset No. 90\n",
      "Processing captions...\n",
      "Updating captions...\n"
     ]
    },
    {
     "name": "stderr",
     "output_type": "stream",
     "text": [
      "\n",
      "10000it [00:00, 1494602.86it/s]"
     ]
    },
    {
     "name": "stdout",
     "output_type": "stream",
     "text": [
      "\n",
      "\n",
      "***INFO***\n",
      "Captions Processed: 900000\n",
      "Number of objects detected so far: 13401\n",
      "Saving..."
     ]
    },
    {
     "name": "stderr",
     "output_type": "stream",
     "text": [
      "\n",
      " 27%|██████████▎                           | 90/332 [1:09:31<3:17:38, 49.00s/it]"
     ]
    },
    {
     "name": "stdout",
     "output_type": "stream",
     "text": [
      "Saved.\n",
      "\n",
      "Subset No. 91\n",
      "Processing captions...\n",
      "Updating captions...\n"
     ]
    },
    {
     "name": "stderr",
     "output_type": "stream",
     "text": [
      "\n",
      "10000it [00:00, 1419440.25it/s]"
     ]
    },
    {
     "name": "stdout",
     "output_type": "stream",
     "text": [
      "\n",
      "\n",
      "***INFO***\n",
      "Captions Processed: 910000\n",
      "Number of objects detected so far: 13443\n",
      "Saving..."
     ]
    },
    {
     "name": "stderr",
     "output_type": "stream",
     "text": [
      "\n",
      " 27%|██████████▍                           | 91/332 [1:10:19<3:16:10, 48.84s/it]"
     ]
    },
    {
     "name": "stdout",
     "output_type": "stream",
     "text": [
      "Saved.\n",
      "\n",
      "Subset No. 92\n",
      "Processing captions...\n",
      "Updating captions...\n"
     ]
    },
    {
     "name": "stderr",
     "output_type": "stream",
     "text": [
      "\n",
      "10000it [00:00, 1437389.99it/s]"
     ]
    },
    {
     "name": "stdout",
     "output_type": "stream",
     "text": [
      "\n",
      "\n",
      "***INFO***\n",
      "Captions Processed: 920000\n",
      "Number of objects detected so far: 13484\n",
      "Saving..."
     ]
    },
    {
     "name": "stderr",
     "output_type": "stream",
     "text": [
      "\n",
      " 28%|██████████▌                           | 92/332 [1:11:08<3:14:42, 48.68s/it]"
     ]
    },
    {
     "name": "stdout",
     "output_type": "stream",
     "text": [
      "Saved.\n",
      "\n",
      "Subset No. 93\n",
      "Processing captions...\n",
      "Updating captions...\n"
     ]
    },
    {
     "name": "stderr",
     "output_type": "stream",
     "text": [
      "\n",
      "10000it [00:00, 1442134.51it/s]"
     ]
    },
    {
     "name": "stdout",
     "output_type": "stream",
     "text": [
      "\n",
      "\n",
      "***INFO***\n",
      "Captions Processed: 930000\n",
      "Number of objects detected so far: 13527\n",
      "Saving..."
     ]
    },
    {
     "name": "stderr",
     "output_type": "stream",
     "text": [
      "\n",
      " 28%|██████████▋                           | 93/332 [1:11:55<3:12:53, 48.43s/it]"
     ]
    },
    {
     "name": "stdout",
     "output_type": "stream",
     "text": [
      "Saved.\n",
      "\n",
      "Subset No. 94\n",
      "Processing captions...\n",
      "Updating captions...\n"
     ]
    },
    {
     "name": "stderr",
     "output_type": "stream",
     "text": [
      "\n",
      "10000it [00:00, 1396286.16it/s]"
     ]
    },
    {
     "name": "stdout",
     "output_type": "stream",
     "text": [
      "\n",
      "\n",
      "***INFO***\n",
      "Captions Processed: 940000\n",
      "Number of objects detected so far: 13556\n",
      "Saving..."
     ]
    },
    {
     "name": "stderr",
     "output_type": "stream",
     "text": [
      "\n",
      " 28%|██████████▊                           | 94/332 [1:12:43<3:11:19, 48.23s/it]"
     ]
    },
    {
     "name": "stdout",
     "output_type": "stream",
     "text": [
      "Saved.\n",
      "\n",
      "Subset No. 95\n",
      "Processing captions...\n",
      "Updating captions...\n"
     ]
    },
    {
     "name": "stderr",
     "output_type": "stream",
     "text": [
      "\n",
      "10000it [00:00, 1297220.80it/s]"
     ]
    },
    {
     "name": "stdout",
     "output_type": "stream",
     "text": [
      "\n",
      "\n",
      "***INFO***\n",
      "Captions Processed: 950000\n",
      "Number of objects detected so far: 13599\n",
      "Saving..."
     ]
    },
    {
     "name": "stderr",
     "output_type": "stream",
     "text": [
      "\n",
      " 29%|██████████▊                           | 95/332 [1:13:32<3:11:16, 48.42s/it]"
     ]
    },
    {
     "name": "stdout",
     "output_type": "stream",
     "text": [
      "Saved.\n",
      "\n",
      "Subset No. 96\n",
      "Processing captions...\n",
      "Updating captions...\n"
     ]
    },
    {
     "name": "stderr",
     "output_type": "stream",
     "text": [
      "\n",
      "10000it [00:00, 1398241.16it/s]"
     ]
    },
    {
     "name": "stdout",
     "output_type": "stream",
     "text": [
      "\n",
      "\n",
      "***INFO***\n",
      "Captions Processed: 960000\n",
      "Number of objects detected so far: 13637\n",
      "Saving..."
     ]
    },
    {
     "name": "stderr",
     "output_type": "stream",
     "text": [
      "\n",
      " 29%|██████████▉                           | 96/332 [1:14:20<3:09:25, 48.16s/it]"
     ]
    },
    {
     "name": "stdout",
     "output_type": "stream",
     "text": [
      "Saved.\n",
      "\n",
      "Subset No. 97\n",
      "Processing captions...\n",
      "Updating captions...\n"
     ]
    },
    {
     "name": "stderr",
     "output_type": "stream",
     "text": [
      "\n",
      "10000it [00:00, 1444269.83it/s]"
     ]
    },
    {
     "name": "stdout",
     "output_type": "stream",
     "text": [
      "\n",
      "\n",
      "***INFO***\n",
      "Captions Processed: 970000\n",
      "Number of objects detected so far: 13679\n",
      "Saving..."
     ]
    },
    {
     "name": "stderr",
     "output_type": "stream",
     "text": [
      "\n",
      " 29%|███████████                           | 97/332 [1:15:09<3:10:10, 48.56s/it]"
     ]
    },
    {
     "name": "stdout",
     "output_type": "stream",
     "text": [
      "Saved.\n",
      "\n",
      "Subset No. 98\n",
      "Processing captions...\n",
      "Updating captions...\n"
     ]
    },
    {
     "name": "stderr",
     "output_type": "stream",
     "text": [
      "\n",
      "10000it [00:00, 1403340.47it/s]"
     ]
    },
    {
     "name": "stdout",
     "output_type": "stream",
     "text": [
      "\n",
      "\n",
      "***INFO***\n",
      "Captions Processed: 980000\n",
      "Number of objects detected so far: 13718\n",
      "Saving..."
     ]
    },
    {
     "name": "stderr",
     "output_type": "stream",
     "text": [
      "\n",
      " 30%|███████████▏                          | 98/332 [1:15:58<3:10:02, 48.73s/it]"
     ]
    },
    {
     "name": "stdout",
     "output_type": "stream",
     "text": [
      "Saved.\n",
      "\n",
      "Subset No. 99\n",
      "Processing captions...\n",
      "Updating captions...\n"
     ]
    },
    {
     "name": "stderr",
     "output_type": "stream",
     "text": [
      "\n",
      "10000it [00:00, 1332455.68it/s]"
     ]
    },
    {
     "name": "stdout",
     "output_type": "stream",
     "text": [
      "\n",
      "\n",
      "***INFO***\n",
      "Captions Processed: 990000\n",
      "Number of objects detected so far: 13759\n",
      "Saving..."
     ]
    },
    {
     "name": "stderr",
     "output_type": "stream",
     "text": [
      "\n",
      " 30%|███████████▎                          | 99/332 [1:16:47<3:09:40, 48.84s/it]"
     ]
    },
    {
     "name": "stdout",
     "output_type": "stream",
     "text": [
      "Saved.\n",
      "\n",
      "Subset No. 100\n",
      "Processing captions...\n",
      "Updating captions...\n"
     ]
    },
    {
     "name": "stderr",
     "output_type": "stream",
     "text": [
      "\n",
      "10000it [00:00, 1432627.66it/s]"
     ]
    },
    {
     "name": "stdout",
     "output_type": "stream",
     "text": [
      "\n",
      "\n",
      "***INFO***\n",
      "Captions Processed: 1000000\n",
      "Number of objects detected so far: 13811\n",
      "Saving..."
     ]
    },
    {
     "name": "stderr",
     "output_type": "stream",
     "text": [
      "\n",
      " 30%|███████████▏                         | 100/332 [1:17:37<3:09:53, 49.11s/it]"
     ]
    },
    {
     "name": "stdout",
     "output_type": "stream",
     "text": [
      "Saved.\n",
      "\n",
      "Subset No. 101\n",
      "Processing captions...\n",
      "Updating captions...\n"
     ]
    },
    {
     "name": "stderr",
     "output_type": "stream",
     "text": [
      "\n",
      "10000it [00:00, 1312689.03it/s]"
     ]
    },
    {
     "name": "stdout",
     "output_type": "stream",
     "text": [
      "\n",
      "\n",
      "***INFO***\n",
      "Captions Processed: 1010000\n",
      "Number of objects detected so far: 13846\n",
      "Saving..."
     ]
    },
    {
     "name": "stderr",
     "output_type": "stream",
     "text": [
      "\n",
      " 30%|███████████▎                         | 101/332 [1:18:26<3:08:36, 48.99s/it]"
     ]
    },
    {
     "name": "stdout",
     "output_type": "stream",
     "text": [
      "Saved.\n",
      "\n",
      "Subset No. 102\n",
      "Processing captions...\n",
      "Updating captions...\n"
     ]
    },
    {
     "name": "stderr",
     "output_type": "stream",
     "text": [
      "\n",
      "10000it [00:00, 1444021.21it/s]"
     ]
    },
    {
     "name": "stdout",
     "output_type": "stream",
     "text": [
      "\n",
      "\n",
      "***INFO***\n",
      "Captions Processed: 1020000\n",
      "Number of objects detected so far: 13887\n",
      "Saving..."
     ]
    },
    {
     "name": "stderr",
     "output_type": "stream",
     "text": [
      "\n",
      " 31%|███████████▎                         | 102/332 [1:19:14<3:07:12, 48.84s/it]"
     ]
    },
    {
     "name": "stdout",
     "output_type": "stream",
     "text": [
      "Saved.\n",
      "\n",
      "Subset No. 103\n",
      "Processing captions...\n",
      "Updating captions...\n"
     ]
    },
    {
     "name": "stderr",
     "output_type": "stream",
     "text": [
      "\n",
      "10000it [00:00, 1361875.45it/s]"
     ]
    },
    {
     "name": "stdout",
     "output_type": "stream",
     "text": [
      "\n",
      "\n",
      "***INFO***\n",
      "Captions Processed: 1030000\n",
      "Number of objects detected so far: 13931\n",
      "Saving..."
     ]
    },
    {
     "name": "stderr",
     "output_type": "stream",
     "text": [
      "\n",
      " 31%|███████████▍                         | 103/332 [1:20:04<3:06:57, 48.98s/it]"
     ]
    },
    {
     "name": "stdout",
     "output_type": "stream",
     "text": [
      "Saved.\n",
      "\n",
      "Subset No. 104\n",
      "Processing captions...\n",
      "Updating captions...\n"
     ]
    },
    {
     "name": "stderr",
     "output_type": "stream",
     "text": [
      "\n",
      "10000it [00:00, 1397449.19it/s]"
     ]
    },
    {
     "name": "stdout",
     "output_type": "stream",
     "text": [
      "\n",
      "\n",
      "***INFO***\n",
      "Captions Processed: 1040000\n",
      "Number of objects detected so far: 13974\n",
      "Saving..."
     ]
    },
    {
     "name": "stderr",
     "output_type": "stream",
     "text": [
      "\n",
      " 31%|███████████▌                         | 104/332 [1:20:51<3:04:42, 48.61s/it]"
     ]
    },
    {
     "name": "stdout",
     "output_type": "stream",
     "text": [
      "Saved.\n",
      "\n",
      "Subset No. 105\n",
      "Processing captions...\n",
      "Updating captions...\n"
     ]
    },
    {
     "name": "stderr",
     "output_type": "stream",
     "text": [
      "\n",
      "10000it [00:00, 1420257.35it/s]"
     ]
    },
    {
     "name": "stdout",
     "output_type": "stream",
     "text": [
      "\n",
      "\n",
      "***INFO***\n",
      "Captions Processed: 1050000\n",
      "Number of objects detected so far: 14010\n",
      "Saving..."
     ]
    },
    {
     "name": "stderr",
     "output_type": "stream",
     "text": [
      "\n",
      " 32%|███████████▋                         | 105/332 [1:21:41<3:04:53, 48.87s/it]"
     ]
    },
    {
     "name": "stdout",
     "output_type": "stream",
     "text": [
      "Saved.\n",
      "\n",
      "Subset No. 106\n",
      "Processing captions...\n",
      "Updating captions...\n"
     ]
    },
    {
     "name": "stderr",
     "output_type": "stream",
     "text": [
      "\n",
      "10000it [00:00, 1237038.87it/s]"
     ]
    },
    {
     "name": "stdout",
     "output_type": "stream",
     "text": [
      "\n",
      "\n",
      "***INFO***\n",
      "Captions Processed: 1060000\n",
      "Number of objects detected so far: 14057\n",
      "Saving..."
     ]
    },
    {
     "name": "stderr",
     "output_type": "stream",
     "text": [
      "\n",
      " 32%|███████████▊                         | 106/332 [1:22:30<3:04:12, 48.90s/it]"
     ]
    },
    {
     "name": "stdout",
     "output_type": "stream",
     "text": [
      "Saved.\n",
      "\n",
      "Subset No. 107\n",
      "Processing captions...\n",
      "Updating captions...\n"
     ]
    },
    {
     "name": "stderr",
     "output_type": "stream",
     "text": [
      "\n",
      "10000it [00:00, 1442977.95it/s]"
     ]
    },
    {
     "name": "stdout",
     "output_type": "stream",
     "text": [
      "\n",
      "\n",
      "***INFO***\n",
      "Captions Processed: 1070000\n",
      "Number of objects detected so far: 14095\n",
      "Saving..."
     ]
    },
    {
     "name": "stderr",
     "output_type": "stream",
     "text": [
      "\n",
      " 32%|███████████▉                         | 107/332 [1:23:19<3:03:21, 48.90s/it]"
     ]
    },
    {
     "name": "stdout",
     "output_type": "stream",
     "text": [
      "Saved.\n",
      "\n",
      "Subset No. 108\n",
      "Processing captions...\n",
      "Updating captions...\n"
     ]
    },
    {
     "name": "stderr",
     "output_type": "stream",
     "text": [
      "\n",
      "10000it [00:00, 1478377.22it/s]"
     ]
    },
    {
     "name": "stdout",
     "output_type": "stream",
     "text": [
      "\n",
      "\n",
      "***INFO***\n",
      "Captions Processed: 1080000\n",
      "Number of objects detected so far: 14134\n",
      "Saving..."
     ]
    },
    {
     "name": "stderr",
     "output_type": "stream",
     "text": [
      "\n",
      " 33%|████████████                         | 108/332 [1:24:08<3:02:46, 48.96s/it]"
     ]
    },
    {
     "name": "stdout",
     "output_type": "stream",
     "text": [
      "Saved.\n",
      "\n",
      "Subset No. 109\n",
      "Processing captions...\n",
      "Updating captions...\n"
     ]
    },
    {
     "name": "stderr",
     "output_type": "stream",
     "text": [
      "\n",
      "10000it [00:00, 1479785.49it/s]"
     ]
    },
    {
     "name": "stdout",
     "output_type": "stream",
     "text": [
      "\n",
      "\n",
      "***INFO***\n",
      "Captions Processed: 1090000\n",
      "Number of objects detected so far: 14176\n",
      "Saving..."
     ]
    },
    {
     "name": "stderr",
     "output_type": "stream",
     "text": [
      "\n",
      " 33%|████████████▏                        | 109/332 [1:24:57<3:02:42, 49.16s/it]"
     ]
    },
    {
     "name": "stdout",
     "output_type": "stream",
     "text": [
      "Saved.\n",
      "\n",
      "Subset No. 110\n",
      "Processing captions...\n",
      "Updating captions...\n"
     ]
    },
    {
     "name": "stderr",
     "output_type": "stream",
     "text": [
      "\n",
      "10000it [00:00, 1456203.87it/s]"
     ]
    },
    {
     "name": "stdout",
     "output_type": "stream",
     "text": [
      "\n",
      "\n",
      "***INFO***\n",
      "Captions Processed: 1100000\n",
      "Number of objects detected so far: 14213\n",
      "Saving..."
     ]
    },
    {
     "name": "stderr",
     "output_type": "stream",
     "text": [
      "\n",
      " 33%|████████████▎                        | 110/332 [1:25:47<3:02:17, 49.27s/it]"
     ]
    },
    {
     "name": "stdout",
     "output_type": "stream",
     "text": [
      "Saved.\n",
      "\n",
      "Subset No. 111\n",
      "Processing captions...\n",
      "Updating captions...\n"
     ]
    },
    {
     "name": "stderr",
     "output_type": "stream",
     "text": [
      "\n",
      "10000it [00:00, 1402542.72it/s]"
     ]
    },
    {
     "name": "stdout",
     "output_type": "stream",
     "text": [
      "\n",
      "\n",
      "***INFO***\n",
      "Captions Processed: 1110000\n",
      "Number of objects detected so far: 14254\n",
      "Saving..."
     ]
    },
    {
     "name": "stderr",
     "output_type": "stream",
     "text": [
      "\n",
      " 33%|████████████▎                        | 111/332 [1:26:36<3:01:30, 49.28s/it]"
     ]
    },
    {
     "name": "stdout",
     "output_type": "stream",
     "text": [
      "Saved.\n",
      "\n",
      "Subset No. 112\n",
      "Processing captions...\n",
      "Updating captions...\n"
     ]
    },
    {
     "name": "stderr",
     "output_type": "stream",
     "text": [
      "\n",
      "10000it [00:00, 1474479.36it/s]"
     ]
    },
    {
     "name": "stdout",
     "output_type": "stream",
     "text": [
      "\n",
      "\n",
      "***INFO***\n",
      "Captions Processed: 1120000\n",
      "Number of objects detected so far: 14292\n",
      "Saving..."
     ]
    },
    {
     "name": "stderr",
     "output_type": "stream",
     "text": [
      "\n",
      " 34%|████████████▍                        | 112/332 [1:27:25<2:59:54, 49.07s/it]"
     ]
    },
    {
     "name": "stdout",
     "output_type": "stream",
     "text": [
      "Saved.\n",
      "\n",
      "Subset No. 113\n",
      "Processing captions...\n",
      "Updating captions...\n"
     ]
    },
    {
     "name": "stderr",
     "output_type": "stream",
     "text": [
      "\n",
      "10000it [00:00, 1416037.81it/s]"
     ]
    },
    {
     "name": "stdout",
     "output_type": "stream",
     "text": [
      "\n",
      "\n",
      "***INFO***\n",
      "Captions Processed: 1130000\n",
      "Number of objects detected so far: 14325\n",
      "Saving..."
     ]
    },
    {
     "name": "stderr",
     "output_type": "stream",
     "text": [
      "\n",
      " 34%|████████████▌                        | 113/332 [1:28:14<2:59:40, 49.23s/it]"
     ]
    },
    {
     "name": "stdout",
     "output_type": "stream",
     "text": [
      "Saved.\n",
      "\n",
      "Subset No. 114\n",
      "Processing captions...\n",
      "Updating captions...\n"
     ]
    },
    {
     "name": "stderr",
     "output_type": "stream",
     "text": [
      "\n",
      "10000it [00:00, 1454789.64it/s]"
     ]
    },
    {
     "name": "stdout",
     "output_type": "stream",
     "text": [
      "\n",
      "\n",
      "***INFO***\n",
      "Captions Processed: 1140000\n",
      "Number of objects detected so far: 14353\n",
      "Saving..."
     ]
    },
    {
     "name": "stderr",
     "output_type": "stream",
     "text": [
      "\n",
      " 34%|████████████▋                        | 114/332 [1:29:04<2:59:40, 49.45s/it]"
     ]
    },
    {
     "name": "stdout",
     "output_type": "stream",
     "text": [
      "Saved.\n",
      "\n",
      "Subset No. 115\n",
      "Processing captions...\n",
      "Updating captions...\n"
     ]
    },
    {
     "name": "stderr",
     "output_type": "stream",
     "text": [
      "\n",
      "10000it [00:00, 1432676.60it/s]"
     ]
    },
    {
     "name": "stdout",
     "output_type": "stream",
     "text": [
      "\n",
      "\n",
      "***INFO***\n",
      "Captions Processed: 1150000\n",
      "Number of objects detected so far: 14380\n",
      "Saving..."
     ]
    },
    {
     "name": "stderr",
     "output_type": "stream",
     "text": [
      "\n",
      " 35%|████████████▊                        | 115/332 [1:29:53<2:58:21, 49.32s/it]"
     ]
    },
    {
     "name": "stdout",
     "output_type": "stream",
     "text": [
      "Saved.\n",
      "\n",
      "Subset No. 116\n",
      "Processing captions...\n",
      "Updating captions...\n"
     ]
    },
    {
     "name": "stderr",
     "output_type": "stream",
     "text": [
      "\n",
      "10000it [00:00, 1468902.43it/s]"
     ]
    },
    {
     "name": "stdout",
     "output_type": "stream",
     "text": [
      "\n",
      "\n",
      "***INFO***\n",
      "Captions Processed: 1160000\n",
      "Number of objects detected so far: 14414\n",
      "Saving..."
     ]
    },
    {
     "name": "stderr",
     "output_type": "stream",
     "text": [
      "\n",
      " 35%|████████████▉                        | 116/332 [1:30:43<2:58:08, 49.48s/it]"
     ]
    },
    {
     "name": "stdout",
     "output_type": "stream",
     "text": [
      "Saved.\n",
      "\n",
      "Subset No. 117\n",
      "Processing captions...\n",
      "Updating captions...\n"
     ]
    },
    {
     "name": "stderr",
     "output_type": "stream",
     "text": [
      "\n",
      "10000it [00:00, 1458989.84it/s]"
     ]
    },
    {
     "name": "stdout",
     "output_type": "stream",
     "text": [
      "\n",
      "\n",
      "***INFO***\n",
      "Captions Processed: 1170000\n",
      "Number of objects detected so far: 14443\n",
      "Saving..."
     ]
    },
    {
     "name": "stderr",
     "output_type": "stream",
     "text": [
      "\n",
      " 35%|█████████████                        | 117/332 [1:31:32<2:56:42, 49.32s/it]"
     ]
    },
    {
     "name": "stdout",
     "output_type": "stream",
     "text": [
      "Saved.\n",
      "\n",
      "Subset No. 118\n",
      "Processing captions...\n",
      "Updating captions...\n"
     ]
    },
    {
     "name": "stderr",
     "output_type": "stream",
     "text": [
      "\n",
      "10000it [00:00, 1419488.29it/s]"
     ]
    },
    {
     "name": "stdout",
     "output_type": "stream",
     "text": [
      "\n",
      "\n",
      "***INFO***\n",
      "Captions Processed: 1180000\n",
      "Number of objects detected so far: 14479\n",
      "Saving..."
     ]
    },
    {
     "name": "stderr",
     "output_type": "stream",
     "text": [
      "\n",
      " 36%|█████████████▏                       | 118/332 [1:32:22<2:56:37, 49.52s/it]"
     ]
    },
    {
     "name": "stdout",
     "output_type": "stream",
     "text": [
      "Saved.\n",
      "\n",
      "Subset No. 119\n",
      "Processing captions...\n",
      "Updating captions...\n"
     ]
    },
    {
     "name": "stderr",
     "output_type": "stream",
     "text": [
      "\n",
      "10000it [00:00, 1438622.53it/s]"
     ]
    },
    {
     "name": "stdout",
     "output_type": "stream",
     "text": [
      "\n",
      "\n",
      "***INFO***\n",
      "Captions Processed: 1190000\n",
      "Number of objects detected so far: 14518\n",
      "Saving..."
     ]
    },
    {
     "name": "stderr",
     "output_type": "stream",
     "text": [
      "\n",
      " 36%|█████████████▎                       | 119/332 [1:33:12<2:55:52, 49.54s/it]"
     ]
    },
    {
     "name": "stdout",
     "output_type": "stream",
     "text": [
      "Saved.\n",
      "\n",
      "Subset No. 120\n",
      "Processing captions...\n",
      "Updating captions...\n"
     ]
    },
    {
     "name": "stderr",
     "output_type": "stream",
     "text": [
      "\n",
      "10000it [00:00, 1470395.79it/s]"
     ]
    },
    {
     "name": "stdout",
     "output_type": "stream",
     "text": [
      "\n",
      "\n",
      "***INFO***\n",
      "Captions Processed: 1200000\n",
      "Number of objects detected so far: 14550\n",
      "Saving..."
     ]
    },
    {
     "name": "stderr",
     "output_type": "stream",
     "text": [
      "\n",
      " 36%|█████████████▎                       | 120/332 [1:34:02<2:55:27, 49.66s/it]"
     ]
    },
    {
     "name": "stdout",
     "output_type": "stream",
     "text": [
      "Saved.\n",
      "\n",
      "Subset No. 121\n",
      "Processing captions...\n",
      "Updating captions...\n"
     ]
    },
    {
     "name": "stderr",
     "output_type": "stream",
     "text": [
      "\n",
      "10000it [00:00, 1484972.21it/s]"
     ]
    },
    {
     "name": "stdout",
     "output_type": "stream",
     "text": [
      "\n",
      "\n",
      "***INFO***\n",
      "Captions Processed: 1210000\n",
      "Number of objects detected so far: 14584\n",
      "Saving..."
     ]
    },
    {
     "name": "stderr",
     "output_type": "stream",
     "text": [
      "\n",
      " 36%|█████████████▍                       | 121/332 [1:34:51<2:54:41, 49.68s/it]"
     ]
    },
    {
     "name": "stdout",
     "output_type": "stream",
     "text": [
      "Saved.\n",
      "\n",
      "Subset No. 122\n",
      "Processing captions...\n",
      "Updating captions...\n"
     ]
    },
    {
     "name": "stderr",
     "output_type": "stream",
     "text": [
      "\n",
      "10000it [00:00, 1474013.00it/s]"
     ]
    },
    {
     "name": "stdout",
     "output_type": "stream",
     "text": [
      "\n",
      "\n",
      "***INFO***\n",
      "Captions Processed: 1220000\n",
      "Number of objects detected so far: 14628\n",
      "Saving..."
     ]
    },
    {
     "name": "stderr",
     "output_type": "stream",
     "text": [
      "\n",
      " 37%|█████████████▌                       | 122/332 [1:35:42<2:54:36, 49.89s/it]"
     ]
    },
    {
     "name": "stdout",
     "output_type": "stream",
     "text": [
      "Saved.\n",
      "\n",
      "Subset No. 123\n",
      "Processing captions...\n",
      "Updating captions...\n"
     ]
    },
    {
     "name": "stderr",
     "output_type": "stream",
     "text": [
      "\n",
      "10000it [00:00, 1461582.74it/s]"
     ]
    },
    {
     "name": "stdout",
     "output_type": "stream",
     "text": [
      "\n",
      "\n",
      "***INFO***\n",
      "Captions Processed: 1230000\n",
      "Number of objects detected so far: 14665\n",
      "Saving..."
     ]
    },
    {
     "name": "stderr",
     "output_type": "stream",
     "text": [
      "\n",
      " 37%|█████████████▋                       | 123/332 [1:36:33<2:55:02, 50.25s/it]"
     ]
    },
    {
     "name": "stdout",
     "output_type": "stream",
     "text": [
      "Saved.\n",
      "\n",
      "Subset No. 124\n",
      "Processing captions...\n",
      "Updating captions...\n"
     ]
    },
    {
     "name": "stderr",
     "output_type": "stream",
     "text": [
      "\n",
      "10000it [00:00, 1413175.20it/s]"
     ]
    },
    {
     "name": "stdout",
     "output_type": "stream",
     "text": [
      "\n",
      "\n",
      "***INFO***\n",
      "Captions Processed: 1240000\n",
      "Number of objects detected so far: 14702\n",
      "Saving..."
     ]
    },
    {
     "name": "stderr",
     "output_type": "stream",
     "text": [
      "\n",
      " 37%|█████████████▊                       | 124/332 [1:37:23<2:54:20, 50.29s/it]"
     ]
    },
    {
     "name": "stdout",
     "output_type": "stream",
     "text": [
      "Saved.\n",
      "\n",
      "Subset No. 125\n",
      "Processing captions...\n",
      "Updating captions...\n"
     ]
    },
    {
     "name": "stderr",
     "output_type": "stream",
     "text": [
      "\n",
      "10000it [00:00, 1443375.20it/s]"
     ]
    },
    {
     "name": "stdout",
     "output_type": "stream",
     "text": [
      "\n",
      "\n",
      "***INFO***\n",
      "Captions Processed: 1250000\n",
      "Number of objects detected so far: 14736\n",
      "Saving..."
     ]
    },
    {
     "name": "stderr",
     "output_type": "stream",
     "text": [
      "\n",
      " 38%|█████████████▉                       | 125/332 [1:38:14<2:54:01, 50.44s/it]"
     ]
    },
    {
     "name": "stdout",
     "output_type": "stream",
     "text": [
      "Saved.\n",
      "\n",
      "Subset No. 126\n",
      "Processing captions...\n",
      "Updating captions...\n"
     ]
    },
    {
     "name": "stderr",
     "output_type": "stream",
     "text": [
      "\n",
      "10000it [00:00, 1469056.78it/s]"
     ]
    },
    {
     "name": "stdout",
     "output_type": "stream",
     "text": [
      "\n",
      "\n",
      "***INFO***\n",
      "Captions Processed: 1260000\n",
      "Number of objects detected so far: 14777\n",
      "Saving..."
     ]
    },
    {
     "name": "stderr",
     "output_type": "stream",
     "text": [
      "\n",
      " 38%|██████████████                       | 126/332 [1:39:04<2:52:38, 50.28s/it]"
     ]
    },
    {
     "name": "stdout",
     "output_type": "stream",
     "text": [
      "Saved.\n",
      "\n",
      "Subset No. 127\n",
      "Processing captions...\n",
      "Updating captions...\n"
     ]
    },
    {
     "name": "stderr",
     "output_type": "stream",
     "text": [
      "\n",
      "10000it [00:00, 1478220.91it/s]"
     ]
    },
    {
     "name": "stdout",
     "output_type": "stream",
     "text": [
      "\n",
      "\n",
      "***INFO***\n",
      "Captions Processed: 1270000\n",
      "Number of objects detected so far: 14810\n",
      "Saving..."
     ]
    },
    {
     "name": "stderr",
     "output_type": "stream",
     "text": [
      "\n",
      " 38%|██████████████▏                      | 127/332 [1:39:54<2:51:36, 50.23s/it]"
     ]
    },
    {
     "name": "stdout",
     "output_type": "stream",
     "text": [
      "Saved.\n",
      "\n",
      "Subset No. 128\n",
      "Processing captions...\n",
      "Updating captions...\n"
     ]
    },
    {
     "name": "stderr",
     "output_type": "stream",
     "text": [
      "\n",
      "10000it [00:00, 1457316.98it/s]"
     ]
    },
    {
     "name": "stdout",
     "output_type": "stream",
     "text": [
      "\n",
      "\n",
      "***INFO***\n",
      "Captions Processed: 1280000\n",
      "Number of objects detected so far: 14848\n",
      "Saving..."
     ]
    },
    {
     "name": "stderr",
     "output_type": "stream",
     "text": [
      "\n",
      " 39%|██████████████▎                      | 128/332 [1:40:44<2:50:13, 50.07s/it]"
     ]
    },
    {
     "name": "stdout",
     "output_type": "stream",
     "text": [
      "Saved.\n",
      "\n",
      "Subset No. 129\n",
      "Processing captions...\n",
      "Updating captions...\n"
     ]
    },
    {
     "name": "stderr",
     "output_type": "stream",
     "text": [
      "\n",
      "10000it [00:00, 1423100.46it/s]"
     ]
    },
    {
     "name": "stdout",
     "output_type": "stream",
     "text": [
      "\n",
      "\n",
      "***INFO***\n",
      "Captions Processed: 1290000\n",
      "Number of objects detected so far: 14886\n",
      "Saving..."
     ]
    },
    {
     "name": "stderr",
     "output_type": "stream",
     "text": [
      "\n",
      " 39%|██████████████▍                      | 129/332 [1:41:35<2:50:10, 50.30s/it]"
     ]
    },
    {
     "name": "stdout",
     "output_type": "stream",
     "text": [
      "Saved.\n",
      "\n",
      "Subset No. 130\n",
      "Processing captions...\n",
      "Updating captions...\n"
     ]
    },
    {
     "name": "stderr",
     "output_type": "stream",
     "text": [
      "\n",
      "10000it [00:00, 1410988.36it/s]"
     ]
    },
    {
     "name": "stdout",
     "output_type": "stream",
     "text": [
      "\n",
      "\n",
      "***INFO***\n",
      "Captions Processed: 1300000\n",
      "Number of objects detected so far: 14921\n",
      "Saving..."
     ]
    },
    {
     "name": "stderr",
     "output_type": "stream",
     "text": [
      "\n",
      " 39%|██████████████▍                      | 130/332 [1:42:25<2:49:28, 50.34s/it]"
     ]
    },
    {
     "name": "stdout",
     "output_type": "stream",
     "text": [
      "Saved.\n",
      "\n",
      "Subset No. 131\n",
      "Processing captions...\n",
      "Updating captions...\n"
     ]
    },
    {
     "name": "stderr",
     "output_type": "stream",
     "text": [
      "\n",
      "10000it [00:00, 1434097.17it/s]"
     ]
    },
    {
     "name": "stdout",
     "output_type": "stream",
     "text": [
      "\n",
      "\n",
      "***INFO***\n",
      "Captions Processed: 1310000\n",
      "Number of objects detected so far: 14957\n",
      "Saving..."
     ]
    },
    {
     "name": "stderr",
     "output_type": "stream",
     "text": [
      "\n",
      " 39%|██████████████▌                      | 131/332 [1:43:17<2:50:34, 50.92s/it]"
     ]
    },
    {
     "name": "stdout",
     "output_type": "stream",
     "text": [
      "Saved.\n",
      "\n",
      "Subset No. 132\n",
      "Processing captions...\n",
      "Updating captions...\n"
     ]
    },
    {
     "name": "stderr",
     "output_type": "stream",
     "text": [
      "\n",
      "10000it [00:00, 1439857.19it/s]"
     ]
    },
    {
     "name": "stdout",
     "output_type": "stream",
     "text": [
      "\n",
      "\n",
      "***INFO***\n",
      "Captions Processed: 1320000\n",
      "Number of objects detected so far: 14982\n",
      "Saving..."
     ]
    },
    {
     "name": "stderr",
     "output_type": "stream",
     "text": [
      "\n",
      " 40%|██████████████▋                      | 132/332 [1:44:09<2:50:39, 51.20s/it]"
     ]
    },
    {
     "name": "stdout",
     "output_type": "stream",
     "text": [
      "Saved.\n",
      "\n",
      "Subset No. 133\n",
      "Processing captions...\n",
      "Updating captions...\n"
     ]
    },
    {
     "name": "stderr",
     "output_type": "stream",
     "text": [
      "\n",
      "10000it [00:00, 1410276.72it/s]"
     ]
    },
    {
     "name": "stdout",
     "output_type": "stream",
     "text": [
      "\n",
      "\n",
      "***INFO***\n",
      "Captions Processed: 1330000\n",
      "Number of objects detected so far: 15016\n",
      "Saving..."
     ]
    },
    {
     "name": "stderr",
     "output_type": "stream",
     "text": [
      "\n",
      " 40%|██████████████▊                      | 133/332 [1:45:01<2:49:56, 51.24s/it]"
     ]
    },
    {
     "name": "stdout",
     "output_type": "stream",
     "text": [
      "Saved.\n",
      "\n",
      "Subset No. 134\n",
      "Processing captions...\n",
      "Updating captions...\n"
     ]
    },
    {
     "name": "stderr",
     "output_type": "stream",
     "text": [
      "\n",
      "10000it [00:00, 1452824.39it/s]"
     ]
    },
    {
     "name": "stdout",
     "output_type": "stream",
     "text": [
      "\n",
      "\n",
      "***INFO***\n",
      "Captions Processed: 1340000\n",
      "Number of objects detected so far: 15049\n",
      "Saving..."
     ]
    },
    {
     "name": "stderr",
     "output_type": "stream",
     "text": [
      "\n",
      " 40%|██████████████▉                      | 134/332 [1:45:50<2:47:41, 50.81s/it]"
     ]
    },
    {
     "name": "stdout",
     "output_type": "stream",
     "text": [
      "Saved.\n",
      "\n",
      "Subset No. 135\n",
      "Processing captions...\n",
      "Updating captions...\n"
     ]
    },
    {
     "name": "stderr",
     "output_type": "stream",
     "text": [
      "\n",
      "10000it [00:00, 1453932.33it/s]"
     ]
    },
    {
     "name": "stdout",
     "output_type": "stream",
     "text": [
      "\n",
      "\n",
      "***INFO***\n",
      "Captions Processed: 1350000\n",
      "Number of objects detected so far: 15075\n",
      "Saving..."
     ]
    },
    {
     "name": "stderr",
     "output_type": "stream",
     "text": [
      "\n",
      " 41%|███████████████                      | 135/332 [1:46:42<2:48:00, 51.17s/it]"
     ]
    },
    {
     "name": "stdout",
     "output_type": "stream",
     "text": [
      "Saved.\n",
      "\n",
      "Subset No. 136\n",
      "Processing captions...\n",
      "Updating captions...\n"
     ]
    },
    {
     "name": "stderr",
     "output_type": "stream",
     "text": [
      "\n",
      "10000it [00:00, 1445115.77it/s]"
     ]
    },
    {
     "name": "stdout",
     "output_type": "stream",
     "text": [
      "\n",
      "\n",
      "***INFO***\n",
      "Captions Processed: 1360000\n",
      "Number of objects detected so far: 15111\n",
      "Saving..."
     ]
    },
    {
     "name": "stderr",
     "output_type": "stream",
     "text": [
      "\n",
      " 41%|███████████████▏                     | 136/332 [1:47:33<2:46:13, 50.89s/it]"
     ]
    },
    {
     "name": "stdout",
     "output_type": "stream",
     "text": [
      "Saved.\n",
      "\n",
      "Subset No. 137\n",
      "Processing captions...\n",
      "Updating captions...\n"
     ]
    },
    {
     "name": "stderr",
     "output_type": "stream",
     "text": [
      "\n",
      "10000it [00:00, 1485182.54it/s]"
     ]
    },
    {
     "name": "stdout",
     "output_type": "stream",
     "text": [
      "\n",
      "\n",
      "***INFO***\n",
      "Captions Processed: 1370000\n",
      "Number of objects detected so far: 15140\n",
      "Saving..."
     ]
    },
    {
     "name": "stderr",
     "output_type": "stream",
     "text": [
      "\n",
      " 41%|███████████████▎                     | 137/332 [1:48:25<2:46:31, 51.24s/it]"
     ]
    },
    {
     "name": "stdout",
     "output_type": "stream",
     "text": [
      "Saved.\n",
      "\n",
      "Subset No. 138\n",
      "Processing captions...\n",
      "Updating captions...\n"
     ]
    },
    {
     "name": "stderr",
     "output_type": "stream",
     "text": [
      "\n",
      "10000it [00:00, 1491467.18it/s]"
     ]
    },
    {
     "name": "stdout",
     "output_type": "stream",
     "text": [
      "\n",
      "\n",
      "***INFO***\n",
      "Captions Processed: 1380000\n",
      "Number of objects detected so far: 15175\n",
      "Saving..."
     ]
    },
    {
     "name": "stderr",
     "output_type": "stream",
     "text": [
      "\n",
      " 42%|███████████████▍                     | 138/332 [1:49:15<2:45:14, 51.11s/it]"
     ]
    },
    {
     "name": "stdout",
     "output_type": "stream",
     "text": [
      "Saved.\n",
      "\n",
      "Subset No. 139\n",
      "Processing captions...\n",
      "Updating captions...\n"
     ]
    },
    {
     "name": "stderr",
     "output_type": "stream",
     "text": [
      "\n",
      "10000it [00:00, 1454739.18it/s]"
     ]
    },
    {
     "name": "stdout",
     "output_type": "stream",
     "text": [
      "\n",
      "\n",
      "***INFO***\n",
      "Captions Processed: 1390000\n",
      "Number of objects detected so far: 15214\n",
      "Saving..."
     ]
    },
    {
     "name": "stderr",
     "output_type": "stream",
     "text": [
      "\n",
      " 42%|███████████████▍                     | 139/332 [1:50:06<2:44:12, 51.05s/it]"
     ]
    },
    {
     "name": "stdout",
     "output_type": "stream",
     "text": [
      "Saved.\n",
      "\n",
      "Subset No. 140\n",
      "Processing captions...\n",
      "Updating captions...\n"
     ]
    },
    {
     "name": "stderr",
     "output_type": "stream",
     "text": [
      "\n",
      "10000it [00:00, 1457266.35it/s]"
     ]
    },
    {
     "name": "stdout",
     "output_type": "stream",
     "text": [
      "\n",
      "\n",
      "***INFO***\n",
      "Captions Processed: 1400000\n",
      "Number of objects detected so far: 15241\n",
      "Saving..."
     ]
    },
    {
     "name": "stderr",
     "output_type": "stream",
     "text": [
      "\n",
      " 42%|███████████████▌                     | 140/332 [1:50:57<2:43:07, 50.97s/it]"
     ]
    },
    {
     "name": "stdout",
     "output_type": "stream",
     "text": [
      "Saved.\n",
      "\n",
      "Subset No. 141\n",
      "Processing captions...\n",
      "Updating captions...\n"
     ]
    },
    {
     "name": "stderr",
     "output_type": "stream",
     "text": [
      "\n",
      "10000it [00:00, 1467617.48it/s]"
     ]
    },
    {
     "name": "stdout",
     "output_type": "stream",
     "text": [
      "\n",
      "\n",
      "***INFO***\n",
      "Captions Processed: 1410000\n",
      "Number of objects detected so far: 15275\n",
      "Saving..."
     ]
    },
    {
     "name": "stderr",
     "output_type": "stream",
     "text": [
      "\n",
      " 42%|███████████████▋                     | 141/332 [1:51:50<2:43:41, 51.42s/it]"
     ]
    },
    {
     "name": "stdout",
     "output_type": "stream",
     "text": [
      "Saved.\n",
      "\n",
      "Subset No. 142\n",
      "Processing captions...\n",
      "Updating captions...\n"
     ]
    },
    {
     "name": "stderr",
     "output_type": "stream",
     "text": [
      "\n",
      "10000it [00:00, 1409518.43it/s]"
     ]
    },
    {
     "name": "stdout",
     "output_type": "stream",
     "text": [
      "\n",
      "\n",
      "***INFO***\n",
      "Captions Processed: 1420000\n",
      "Number of objects detected so far: 15308\n",
      "Saving..."
     ]
    },
    {
     "name": "stderr",
     "output_type": "stream",
     "text": [
      "\n",
      " 43%|███████████████▊                     | 142/332 [1:52:40<2:41:44, 51.08s/it]"
     ]
    },
    {
     "name": "stdout",
     "output_type": "stream",
     "text": [
      "Saved.\n",
      "\n",
      "Subset No. 143\n",
      "Processing captions...\n",
      "Updating captions...\n"
     ]
    },
    {
     "name": "stderr",
     "output_type": "stream",
     "text": [
      "\n",
      "10000it [00:00, 1457114.47it/s]"
     ]
    },
    {
     "name": "stdout",
     "output_type": "stream",
     "text": [
      "\n",
      "\n",
      "***INFO***\n",
      "Captions Processed: 1430000\n",
      "Number of objects detected so far: 15344\n",
      "Saving..."
     ]
    },
    {
     "name": "stderr",
     "output_type": "stream",
     "text": [
      "\n",
      " 43%|███████████████▉                     | 143/332 [1:53:31<2:40:56, 51.09s/it]"
     ]
    },
    {
     "name": "stdout",
     "output_type": "stream",
     "text": [
      "Saved.\n",
      "\n",
      "Subset No. 144\n",
      "Processing captions...\n",
      "Updating captions...\n"
     ]
    },
    {
     "name": "stderr",
     "output_type": "stream",
     "text": [
      "\n",
      "10000it [00:00, 1451818.62it/s]"
     ]
    },
    {
     "name": "stdout",
     "output_type": "stream",
     "text": [
      "\n",
      "\n",
      "***INFO***\n",
      "Captions Processed: 1440000\n",
      "Number of objects detected so far: 15367\n",
      "Saving..."
     ]
    },
    {
     "name": "stderr",
     "output_type": "stream",
     "text": [
      "\n",
      " 43%|████████████████                     | 144/332 [1:54:23<2:41:19, 51.49s/it]"
     ]
    },
    {
     "name": "stdout",
     "output_type": "stream",
     "text": [
      "Saved.\n",
      "\n",
      "Subset No. 145\n",
      "Processing captions...\n",
      "Updating captions...\n"
     ]
    },
    {
     "name": "stderr",
     "output_type": "stream",
     "text": [
      "\n",
      "10000it [00:00, 1478220.91it/s]"
     ]
    },
    {
     "name": "stdout",
     "output_type": "stream",
     "text": [
      "\n",
      "\n",
      "***INFO***\n",
      "Captions Processed: 1450000\n",
      "Number of objects detected so far: 15408\n",
      "Saving..."
     ]
    },
    {
     "name": "stderr",
     "output_type": "stream",
     "text": [
      "\n",
      " 44%|████████████████▏                    | 145/332 [1:55:16<2:41:51, 51.93s/it]"
     ]
    },
    {
     "name": "stdout",
     "output_type": "stream",
     "text": [
      "Saved.\n",
      "\n",
      "Subset No. 146\n",
      "Processing captions...\n",
      "Updating captions...\n"
     ]
    },
    {
     "name": "stderr",
     "output_type": "stream",
     "text": [
      "\n",
      "10000it [00:00, 1460920.93it/s]"
     ]
    },
    {
     "name": "stdout",
     "output_type": "stream",
     "text": [
      "\n",
      "\n",
      "***INFO***\n",
      "Captions Processed: 1460000\n",
      "Number of objects detected so far: 15433\n",
      "Saving..."
     ]
    },
    {
     "name": "stderr",
     "output_type": "stream",
     "text": [
      "\n",
      " 44%|████████████████▎                    | 146/332 [1:56:09<2:41:39, 52.15s/it]"
     ]
    },
    {
     "name": "stdout",
     "output_type": "stream",
     "text": [
      "Saved.\n",
      "\n",
      "Subset No. 147\n",
      "Processing captions...\n",
      "Updating captions...\n"
     ]
    },
    {
     "name": "stderr",
     "output_type": "stream",
     "text": [
      "\n",
      "10000it [00:00, 1449961.63it/s]"
     ]
    },
    {
     "name": "stdout",
     "output_type": "stream",
     "text": [
      "\n",
      "\n",
      "***INFO***\n",
      "Captions Processed: 1470000\n",
      "Number of objects detected so far: 15469\n",
      "Saving..."
     ]
    },
    {
     "name": "stderr",
     "output_type": "stream",
     "text": [
      "\n",
      " 44%|████████████████▍                    | 147/332 [1:57:02<2:41:25, 52.35s/it]"
     ]
    },
    {
     "name": "stdout",
     "output_type": "stream",
     "text": [
      "Saved.\n",
      "\n",
      "Subset No. 148\n",
      "Processing captions...\n",
      "Updating captions...\n"
     ]
    },
    {
     "name": "stderr",
     "output_type": "stream",
     "text": [
      "\n",
      "10000it [00:00, 1426148.93it/s]"
     ]
    },
    {
     "name": "stdout",
     "output_type": "stream",
     "text": [
      "\n",
      "\n",
      "***INFO***\n",
      "Captions Processed: 1480000\n",
      "Number of objects detected so far: 15501\n",
      "Saving..."
     ]
    },
    {
     "name": "stderr",
     "output_type": "stream",
     "text": [
      "\n",
      " 45%|████████████████▍                    | 148/332 [1:57:55<2:41:39, 52.72s/it]"
     ]
    },
    {
     "name": "stdout",
     "output_type": "stream",
     "text": [
      "Saved.\n",
      "\n",
      "Subset No. 149\n",
      "Processing captions...\n",
      "Updating captions...\n"
     ]
    },
    {
     "name": "stderr",
     "output_type": "stream",
     "text": [
      "\n",
      "10000it [00:00, 1416420.37it/s]"
     ]
    },
    {
     "name": "stdout",
     "output_type": "stream",
     "text": [
      "\n",
      "\n",
      "***INFO***\n",
      "Captions Processed: 1490000\n",
      "Number of objects detected so far: 15537\n",
      "Saving..."
     ]
    },
    {
     "name": "stderr",
     "output_type": "stream",
     "text": [
      "\n",
      " 45%|████████████████▌                    | 149/332 [1:58:48<2:40:12, 52.53s/it]"
     ]
    },
    {
     "name": "stdout",
     "output_type": "stream",
     "text": [
      "Saved.\n",
      "\n",
      "Subset No. 150\n",
      "Processing captions...\n",
      "Updating captions...\n"
     ]
    },
    {
     "name": "stderr",
     "output_type": "stream",
     "text": [
      "\n",
      "10000it [00:00, 1479681.08it/s]"
     ]
    },
    {
     "name": "stdout",
     "output_type": "stream",
     "text": [
      "\n",
      "\n",
      "***INFO***\n",
      "Captions Processed: 1500000\n",
      "Number of objects detected so far: 15560\n",
      "Saving..."
     ]
    },
    {
     "name": "stderr",
     "output_type": "stream",
     "text": [
      "\n",
      " 45%|████████████████▋                    | 150/332 [1:59:39<2:38:23, 52.22s/it]"
     ]
    },
    {
     "name": "stdout",
     "output_type": "stream",
     "text": [
      "Saved.\n",
      "\n",
      "Subset No. 151\n",
      "Processing captions...\n",
      "Updating captions...\n"
     ]
    },
    {
     "name": "stderr",
     "output_type": "stream",
     "text": [
      "\n",
      "10000it [00:00, 1458178.28it/s]"
     ]
    },
    {
     "name": "stdout",
     "output_type": "stream",
     "text": [
      "\n",
      "\n",
      "***INFO***\n",
      "Captions Processed: 1510000\n",
      "Number of objects detected so far: 15587\n",
      "Saving..."
     ]
    },
    {
     "name": "stderr",
     "output_type": "stream",
     "text": [
      "\n",
      " 45%|████████████████▊                    | 151/332 [2:00:33<2:38:42, 52.61s/it]"
     ]
    },
    {
     "name": "stdout",
     "output_type": "stream",
     "text": [
      "Saved.\n",
      "\n",
      "Subset No. 152\n",
      "Processing captions...\n",
      "Updating captions...\n"
     ]
    },
    {
     "name": "stderr",
     "output_type": "stream",
     "text": [
      "\n",
      "10000it [00:00, 1484972.21it/s]"
     ]
    },
    {
     "name": "stdout",
     "output_type": "stream",
     "text": [
      "\n",
      "\n",
      "***INFO***\n",
      "Captions Processed: 1520000\n",
      "Number of objects detected so far: 15625\n",
      "Saving..."
     ]
    },
    {
     "name": "stderr",
     "output_type": "stream",
     "text": [
      "\n",
      " 46%|████████████████▉                    | 152/332 [2:01:24<2:37:10, 52.39s/it]"
     ]
    },
    {
     "name": "stdout",
     "output_type": "stream",
     "text": [
      "Saved.\n",
      "\n",
      "Subset No. 153\n",
      "Processing captions...\n",
      "Updating captions...\n"
     ]
    },
    {
     "name": "stderr",
     "output_type": "stream",
     "text": [
      "\n",
      "10000it [00:00, 1482400.51it/s]"
     ]
    },
    {
     "name": "stdout",
     "output_type": "stream",
     "text": [
      "\n",
      "\n",
      "***INFO***\n",
      "Captions Processed: 1530000\n",
      "Number of objects detected so far: 15654\n",
      "Saving..."
     ]
    },
    {
     "name": "stderr",
     "output_type": "stream",
     "text": [
      "\n",
      " 46%|█████████████████                    | 153/332 [2:02:17<2:36:41, 52.52s/it]"
     ]
    },
    {
     "name": "stdout",
     "output_type": "stream",
     "text": [
      "Saved.\n",
      "\n",
      "Subset No. 154\n",
      "Processing captions...\n",
      "Updating captions...\n"
     ]
    },
    {
     "name": "stderr",
     "output_type": "stream",
     "text": [
      "\n",
      "10000it [00:00, 1439511.27it/s]"
     ]
    },
    {
     "name": "stdout",
     "output_type": "stream",
     "text": [
      "\n",
      "\n",
      "***INFO***\n",
      "Captions Processed: 1540000\n",
      "Number of objects detected so far: 15686\n",
      "Saving..."
     ]
    },
    {
     "name": "stderr",
     "output_type": "stream",
     "text": [
      "\n",
      " 46%|█████████████████▏                   | 154/332 [2:03:10<2:36:23, 52.72s/it]"
     ]
    },
    {
     "name": "stdout",
     "output_type": "stream",
     "text": [
      "Saved.\n",
      "\n",
      "Subset No. 155\n",
      "Processing captions...\n",
      "Updating captions...\n"
     ]
    },
    {
     "name": "stderr",
     "output_type": "stream",
     "text": [
      "\n",
      "10000it [00:00, 1435962.89it/s]"
     ]
    },
    {
     "name": "stdout",
     "output_type": "stream",
     "text": [
      "\n",
      "\n",
      "***INFO***\n",
      "Captions Processed: 1550000\n",
      "Number of objects detected so far: 15716\n",
      "Saving..."
     ]
    },
    {
     "name": "stderr",
     "output_type": "stream",
     "text": [
      "\n",
      " 47%|█████████████████▎                   | 155/332 [2:04:02<2:34:30, 52.37s/it]"
     ]
    },
    {
     "name": "stdout",
     "output_type": "stream",
     "text": [
      "Saved.\n",
      "\n",
      "Subset No. 156\n",
      "Processing captions...\n",
      "Updating captions...\n"
     ]
    },
    {
     "name": "stderr",
     "output_type": "stream",
     "text": [
      "\n",
      "10000it [00:00, 1472150.50it/s]"
     ]
    },
    {
     "name": "stdout",
     "output_type": "stream",
     "text": [
      "\n",
      "\n",
      "***INFO***\n",
      "Captions Processed: 1560000\n",
      "Number of objects detected so far: 15745\n",
      "Saving..."
     ]
    },
    {
     "name": "stderr",
     "output_type": "stream",
     "text": [
      "\n",
      " 47%|█████████████████▍                   | 156/332 [2:04:52<2:31:31, 51.66s/it]"
     ]
    },
    {
     "name": "stdout",
     "output_type": "stream",
     "text": [
      "Saved.\n",
      "\n",
      "Subset No. 157\n",
      "Processing captions...\n",
      "Updating captions...\n"
     ]
    },
    {
     "name": "stderr",
     "output_type": "stream",
     "text": [
      "\n",
      "10000it [00:00, 1444817.09it/s]"
     ]
    },
    {
     "name": "stdout",
     "output_type": "stream",
     "text": [
      "\n",
      "\n",
      "***INFO***\n",
      "Captions Processed: 1570000\n",
      "Number of objects detected so far: 15772\n",
      "Saving..."
     ]
    },
    {
     "name": "stderr",
     "output_type": "stream",
     "text": [
      "\n",
      " 47%|█████████████████▍                   | 157/332 [2:05:45<2:32:08, 52.16s/it]"
     ]
    },
    {
     "name": "stdout",
     "output_type": "stream",
     "text": [
      "Saved.\n",
      "\n",
      "Subset No. 158\n",
      "Processing captions...\n",
      "Updating captions...\n"
     ]
    },
    {
     "name": "stderr",
     "output_type": "stream",
     "text": [
      "\n",
      "10000it [00:00, 1477127.66it/s]"
     ]
    },
    {
     "name": "stdout",
     "output_type": "stream",
     "text": [
      "\n",
      "\n",
      "***INFO***\n",
      "Captions Processed: 1580000\n",
      "Number of objects detected so far: 15803\n",
      "Saving..."
     ]
    },
    {
     "name": "stderr",
     "output_type": "stream",
     "text": [
      "\n",
      " 48%|█████████████████▌                   | 158/332 [2:06:37<2:30:47, 52.00s/it]"
     ]
    },
    {
     "name": "stdout",
     "output_type": "stream",
     "text": [
      "Saved.\n",
      "\n",
      "Subset No. 159\n",
      "Processing captions...\n",
      "Updating captions...\n"
     ]
    },
    {
     "name": "stderr",
     "output_type": "stream",
     "text": [
      "\n",
      "10000it [00:00, 1459243.64it/s]"
     ]
    },
    {
     "name": "stdout",
     "output_type": "stream",
     "text": [
      "\n",
      "\n",
      "***INFO***\n",
      "Captions Processed: 1590000\n",
      "Number of objects detected so far: 15837\n",
      "Saving..."
     ]
    },
    {
     "name": "stderr",
     "output_type": "stream",
     "text": [
      "\n",
      " 48%|█████████████████▋                   | 159/332 [2:07:28<2:29:14, 51.76s/it]"
     ]
    },
    {
     "name": "stdout",
     "output_type": "stream",
     "text": [
      "Saved.\n",
      "\n",
      "Subset No. 160\n",
      "Processing captions...\n",
      "Updating captions...\n"
     ]
    },
    {
     "name": "stderr",
     "output_type": "stream",
     "text": [
      "\n",
      "10000it [00:00, 1445514.20it/s]"
     ]
    },
    {
     "name": "stdout",
     "output_type": "stream",
     "text": [
      "\n",
      "\n",
      "***INFO***\n",
      "Captions Processed: 1600000\n",
      "Number of objects detected so far: 15867\n",
      "Saving..."
     ]
    },
    {
     "name": "stderr",
     "output_type": "stream",
     "text": [
      "\n",
      " 48%|█████████████████▊                   | 160/332 [2:08:21<2:29:32, 52.17s/it]"
     ]
    },
    {
     "name": "stdout",
     "output_type": "stream",
     "text": [
      "Saved.\n",
      "\n",
      "Subset No. 161\n",
      "Processing captions...\n",
      "Updating captions...\n"
     ]
    },
    {
     "name": "stderr",
     "output_type": "stream",
     "text": [
      "\n",
      "10000it [00:00, 1464082.66it/s]"
     ]
    },
    {
     "name": "stdout",
     "output_type": "stream",
     "text": [
      "\n",
      "\n",
      "***INFO***\n",
      "Captions Processed: 1610000\n",
      "Number of objects detected so far: 15904\n",
      "Saving..."
     ]
    },
    {
     "name": "stderr",
     "output_type": "stream",
     "text": [
      "\n",
      " 48%|█████████████████▉                   | 161/332 [2:09:13<2:27:53, 51.89s/it]"
     ]
    },
    {
     "name": "stdout",
     "output_type": "stream",
     "text": [
      "Saved.\n",
      "\n",
      "Subset No. 162\n",
      "Processing captions...\n",
      "Updating captions...\n"
     ]
    },
    {
     "name": "stderr",
     "output_type": "stream",
     "text": [
      "\n",
      "10000it [00:00, 1439659.50it/s]"
     ]
    },
    {
     "name": "stdout",
     "output_type": "stream",
     "text": [
      "\n",
      "\n",
      "***INFO***\n",
      "Captions Processed: 1620000\n",
      "Number of objects detected so far: 15939\n",
      "Saving..."
     ]
    },
    {
     "name": "stderr",
     "output_type": "stream",
     "text": [
      "\n",
      " 49%|██████████████████                   | 162/332 [2:10:06<2:28:13, 52.31s/it]"
     ]
    },
    {
     "name": "stdout",
     "output_type": "stream",
     "text": [
      "Saved.\n",
      "\n",
      "Subset No. 163\n",
      "Processing captions...\n",
      "Updating captions...\n"
     ]
    },
    {
     "name": "stderr",
     "output_type": "stream",
     "text": [
      "\n",
      "10000it [00:00, 1461124.50it/s]"
     ]
    },
    {
     "name": "stdout",
     "output_type": "stream",
     "text": [
      "\n",
      "\n",
      "***INFO***\n",
      "Captions Processed: 1630000\n",
      "Number of objects detected so far: 15963\n",
      "Saving..."
     ]
    },
    {
     "name": "stderr",
     "output_type": "stream",
     "text": [
      "\n",
      " 49%|██████████████████▏                  | 163/332 [2:10:57<2:26:44, 52.10s/it]"
     ]
    },
    {
     "name": "stdout",
     "output_type": "stream",
     "text": [
      "Saved.\n",
      "\n",
      "Subset No. 164\n",
      "Processing captions...\n",
      "Updating captions...\n"
     ]
    },
    {
     "name": "stderr",
     "output_type": "stream",
     "text": [
      "\n",
      "10000it [00:00, 1442580.91it/s]"
     ]
    },
    {
     "name": "stdout",
     "output_type": "stream",
     "text": [
      "\n",
      "\n",
      "***INFO***\n",
      "Captions Processed: 1640000\n",
      "Number of objects detected so far: 15986\n",
      "Saving..."
     ]
    },
    {
     "name": "stderr",
     "output_type": "stream",
     "text": [
      "\n",
      " 49%|██████████████████▎                  | 164/332 [2:11:50<2:26:23, 52.28s/it]"
     ]
    },
    {
     "name": "stdout",
     "output_type": "stream",
     "text": [
      "Saved.\n",
      "\n",
      "Subset No. 165\n",
      "Processing captions...\n",
      "Updating captions...\n"
     ]
    },
    {
     "name": "stderr",
     "output_type": "stream",
     "text": [
      "\n",
      "10000it [00:00, 1466078.51it/s]"
     ]
    },
    {
     "name": "stdout",
     "output_type": "stream",
     "text": [
      "\n",
      "\n",
      "***INFO***\n",
      "Captions Processed: 1650000\n",
      "Number of objects detected so far: 16004\n",
      "Saving..."
     ]
    },
    {
     "name": "stderr",
     "output_type": "stream",
     "text": [
      "\n",
      " 50%|██████████████████▍                  | 165/332 [2:12:42<2:25:16, 52.19s/it]"
     ]
    },
    {
     "name": "stdout",
     "output_type": "stream",
     "text": [
      "Saved.\n",
      "\n",
      "Subset No. 166\n",
      "Processing captions...\n",
      "Updating captions...\n"
     ]
    },
    {
     "name": "stderr",
     "output_type": "stream",
     "text": [
      "\n",
      "10000it [00:00, 1371359.82it/s]"
     ]
    },
    {
     "name": "stdout",
     "output_type": "stream",
     "text": [
      "\n",
      "\n",
      "***INFO***\n",
      "Captions Processed: 1660000\n",
      "Number of objects detected so far: 16038\n",
      "Saving..."
     ]
    },
    {
     "name": "stderr",
     "output_type": "stream",
     "text": [
      "\n",
      " 50%|██████████████████▌                  | 166/332 [2:13:35<2:24:46, 52.33s/it]"
     ]
    },
    {
     "name": "stdout",
     "output_type": "stream",
     "text": [
      "Saved.\n",
      "\n",
      "Subset No. 167\n",
      "Processing captions...\n",
      "Updating captions...\n"
     ]
    },
    {
     "name": "stderr",
     "output_type": "stream",
     "text": [
      "\n",
      "10000it [00:00, 1486077.10it/s]"
     ]
    },
    {
     "name": "stdout",
     "output_type": "stream",
     "text": [
      "\n",
      "\n",
      "***INFO***\n",
      "Captions Processed: 1670000\n",
      "Number of objects detected so far: 16063\n",
      "Saving..."
     ]
    },
    {
     "name": "stderr",
     "output_type": "stream",
     "text": [
      "\n",
      " 50%|██████████████████▌                  | 167/332 [2:14:26<2:22:41, 51.89s/it]"
     ]
    },
    {
     "name": "stdout",
     "output_type": "stream",
     "text": [
      "Saved.\n",
      "\n",
      "Subset No. 168\n",
      "Processing captions...\n",
      "Updating captions...\n"
     ]
    },
    {
     "name": "stderr",
     "output_type": "stream",
     "text": [
      "\n",
      "10000it [00:00, 1455799.52it/s]"
     ]
    },
    {
     "name": "stdout",
     "output_type": "stream",
     "text": [
      "\n",
      "\n",
      "***INFO***\n",
      "Captions Processed: 1680000\n",
      "Number of objects detected so far: 16086\n",
      "Saving..."
     ]
    },
    {
     "name": "stderr",
     "output_type": "stream",
     "text": [
      "\n",
      " 51%|██████████████████▋                  | 168/332 [2:15:19<2:22:50, 52.26s/it]"
     ]
    },
    {
     "name": "stdout",
     "output_type": "stream",
     "text": [
      "Saved.\n",
      "\n",
      "Subset No. 169\n",
      "Processing captions...\n",
      "Updating captions...\n"
     ]
    },
    {
     "name": "stderr",
     "output_type": "stream",
     "text": [
      "\n",
      "10000it [00:00, 1375497.33it/s]"
     ]
    },
    {
     "name": "stdout",
     "output_type": "stream",
     "text": [
      "\n",
      "\n",
      "***INFO***\n",
      "Captions Processed: 1690000\n",
      "Number of objects detected so far: 16113\n",
      "Saving..."
     ]
    },
    {
     "name": "stderr",
     "output_type": "stream",
     "text": [
      "\n",
      " 51%|██████████████████▊                  | 169/332 [2:16:10<2:21:27, 52.07s/it]"
     ]
    },
    {
     "name": "stdout",
     "output_type": "stream",
     "text": [
      "Saved.\n",
      "\n",
      "Subset No. 170\n",
      "Processing captions...\n",
      "Updating captions...\n"
     ]
    },
    {
     "name": "stderr",
     "output_type": "stream",
     "text": [
      "\n",
      "10000it [00:00, 1436553.07it/s]"
     ]
    },
    {
     "name": "stdout",
     "output_type": "stream",
     "text": [
      "\n",
      "\n",
      "***INFO***\n",
      "Captions Processed: 1700000\n",
      "Number of objects detected so far: 16154\n",
      "Saving..."
     ]
    },
    {
     "name": "stderr",
     "output_type": "stream",
     "text": [
      "\n",
      " 51%|██████████████████▉                  | 170/332 [2:17:05<2:22:21, 52.72s/it]"
     ]
    },
    {
     "name": "stdout",
     "output_type": "stream",
     "text": [
      "Saved.\n",
      "\n",
      "Subset No. 171\n",
      "Processing captions...\n",
      "Updating captions...\n"
     ]
    },
    {
     "name": "stderr",
     "output_type": "stream",
     "text": [
      "\n",
      "10000it [00:00, 1457063.85it/s]"
     ]
    },
    {
     "name": "stdout",
     "output_type": "stream",
     "text": [
      "\n",
      "\n",
      "***INFO***\n",
      "Captions Processed: 1710000\n",
      "Number of objects detected so far: 16182\n",
      "Saving..."
     ]
    },
    {
     "name": "stderr",
     "output_type": "stream",
     "text": [
      "\n",
      " 52%|███████████████████                  | 171/332 [2:17:57<2:21:19, 52.67s/it]"
     ]
    },
    {
     "name": "stdout",
     "output_type": "stream",
     "text": [
      "Saved.\n",
      "\n",
      "Subset No. 172\n",
      "Processing captions...\n",
      "Updating captions...\n"
     ]
    },
    {
     "name": "stderr",
     "output_type": "stream",
     "text": [
      "\n",
      "10000it [00:00, 1404092.13it/s]"
     ]
    },
    {
     "name": "stdout",
     "output_type": "stream",
     "text": [
      "\n",
      "\n",
      "***INFO***\n",
      "Captions Processed: 1720000\n",
      "Number of objects detected so far: 16206\n",
      "Saving..."
     ]
    },
    {
     "name": "stderr",
     "output_type": "stream",
     "text": [
      "\n",
      " 52%|███████████████████▏                 | 172/332 [2:18:50<2:20:13, 52.59s/it]"
     ]
    },
    {
     "name": "stdout",
     "output_type": "stream",
     "text": [
      "Saved.\n",
      "\n",
      "Subset No. 173\n",
      "Processing captions...\n",
      "Updating captions...\n"
     ]
    },
    {
     "name": "stderr",
     "output_type": "stream",
     "text": [
      "\n",
      "10000it [00:00, 1429990.11it/s]"
     ]
    },
    {
     "name": "stdout",
     "output_type": "stream",
     "text": [
      "\n",
      "\n",
      "***INFO***\n",
      "Captions Processed: 1730000\n",
      "Number of objects detected so far: 16239\n",
      "Saving..."
     ]
    },
    {
     "name": "stderr",
     "output_type": "stream",
     "text": [
      "\n",
      " 52%|███████████████████▎                 | 173/332 [2:19:43<2:19:55, 52.80s/it]"
     ]
    },
    {
     "name": "stdout",
     "output_type": "stream",
     "text": [
      "Saved.\n",
      "\n",
      "Subset No. 174\n",
      "Processing captions...\n",
      "Updating captions...\n"
     ]
    },
    {
     "name": "stderr",
     "output_type": "stream",
     "text": [
      "\n",
      "10000it [00:00, 1371898.08it/s]"
     ]
    },
    {
     "name": "stdout",
     "output_type": "stream",
     "text": [
      "\n",
      "\n",
      "***INFO***\n",
      "Captions Processed: 1740000\n",
      "Number of objects detected so far: 16267\n",
      "Saving..."
     ]
    },
    {
     "name": "stderr",
     "output_type": "stream",
     "text": [
      "\n",
      " 52%|███████████████████▍                 | 174/332 [2:20:37<2:20:01, 53.17s/it]"
     ]
    },
    {
     "name": "stdout",
     "output_type": "stream",
     "text": [
      "Saved.\n",
      "\n",
      "Subset No. 175\n",
      "Processing captions...\n",
      "Updating captions...\n"
     ]
    },
    {
     "name": "stderr",
     "output_type": "stream",
     "text": [
      "\n",
      "10000it [00:00, 1443573.91it/s]"
     ]
    },
    {
     "name": "stdout",
     "output_type": "stream",
     "text": [
      "\n",
      "\n",
      "***INFO***\n",
      "Captions Processed: 1750000\n",
      "Number of objects detected so far: 16300\n",
      "Saving..."
     ]
    },
    {
     "name": "stderr",
     "output_type": "stream",
     "text": [
      "\n",
      " 53%|███████████████████▌                 | 175/332 [2:21:29<2:18:36, 52.97s/it]"
     ]
    },
    {
     "name": "stdout",
     "output_type": "stream",
     "text": [
      "Saved.\n",
      "\n",
      "Subset No. 176\n",
      "Processing captions...\n",
      "Updating captions...\n"
     ]
    },
    {
     "name": "stderr",
     "output_type": "stream",
     "text": [
      "\n",
      "10000it [00:00, 1432627.66it/s]"
     ]
    },
    {
     "name": "stdout",
     "output_type": "stream",
     "text": [
      "\n",
      "\n",
      "***INFO***\n",
      "Captions Processed: 1760000\n",
      "Number of objects detected so far: 16329\n",
      "Saving..."
     ]
    },
    {
     "name": "stderr",
     "output_type": "stream",
     "text": [
      "\n",
      " 53%|███████████████████▌                 | 176/332 [2:22:24<2:18:50, 53.40s/it]"
     ]
    },
    {
     "name": "stdout",
     "output_type": "stream",
     "text": [
      "Saved.\n",
      "\n",
      "Subset No. 177\n",
      "Processing captions...\n",
      "Updating captions...\n"
     ]
    },
    {
     "name": "stderr",
     "output_type": "stream",
     "text": [
      "\n",
      "10000it [00:00, 1383071.95it/s]"
     ]
    },
    {
     "name": "stdout",
     "output_type": "stream",
     "text": [
      "\n",
      "\n",
      "***INFO***\n",
      "Captions Processed: 1770000\n",
      "Number of objects detected so far: 16363\n",
      "Saving..."
     ]
    },
    {
     "name": "stderr",
     "output_type": "stream",
     "text": [
      "\n",
      " 53%|███████████████████▋                 | 177/332 [2:23:17<2:17:50, 53.35s/it]"
     ]
    },
    {
     "name": "stdout",
     "output_type": "stream",
     "text": [
      "Saved.\n",
      "\n",
      "Subset No. 178\n",
      "Processing captions...\n",
      "Updating captions...\n"
     ]
    },
    {
     "name": "stderr",
     "output_type": "stream",
     "text": [
      "\n",
      "10000it [00:00, 1445912.85it/s]"
     ]
    },
    {
     "name": "stdout",
     "output_type": "stream",
     "text": [
      "\n",
      "\n",
      "***INFO***\n",
      "Captions Processed: 1780000\n",
      "Number of objects detected so far: 16397\n",
      "Saving..."
     ]
    },
    {
     "name": "stderr",
     "output_type": "stream",
     "text": [
      "\n",
      " 54%|███████████████████▊                 | 178/332 [2:24:11<2:17:19, 53.50s/it]"
     ]
    },
    {
     "name": "stdout",
     "output_type": "stream",
     "text": [
      "Saved.\n",
      "\n",
      "Subset No. 179\n",
      "Processing captions...\n",
      "Updating captions...\n"
     ]
    },
    {
     "name": "stderr",
     "output_type": "stream",
     "text": [
      "\n",
      "10000it [00:00, 1452824.39it/s]"
     ]
    },
    {
     "name": "stdout",
     "output_type": "stream",
     "text": [
      "\n",
      "\n",
      "***INFO***\n",
      "Captions Processed: 1790000\n",
      "Number of objects detected so far: 16425\n",
      "Saving..."
     ]
    },
    {
     "name": "stderr",
     "output_type": "stream",
     "text": [
      "\n",
      " 54%|███████████████████▉                 | 179/332 [2:25:05<2:17:13, 53.82s/it]"
     ]
    },
    {
     "name": "stdout",
     "output_type": "stream",
     "text": [
      "Saved.\n",
      "\n",
      "Subset No. 180\n",
      "Processing captions...\n",
      "Updating captions...\n"
     ]
    },
    {
     "name": "stderr",
     "output_type": "stream",
     "text": [
      "\n",
      "10000it [00:00, 1440450.58it/s]"
     ]
    },
    {
     "name": "stdout",
     "output_type": "stream",
     "text": [
      "\n",
      "\n",
      "***INFO***\n",
      "Captions Processed: 1800000\n",
      "Number of objects detected so far: 16452\n",
      "Saving..."
     ]
    },
    {
     "name": "stderr",
     "output_type": "stream",
     "text": [
      "\n",
      " 54%|████████████████████                 | 180/332 [2:25:58<2:15:01, 53.30s/it]"
     ]
    },
    {
     "name": "stdout",
     "output_type": "stream",
     "text": [
      "Saved.\n",
      "\n",
      "Subset No. 181\n",
      "Processing captions...\n",
      "Updating captions...\n"
     ]
    },
    {
     "name": "stderr",
     "output_type": "stream",
     "text": [
      "\n",
      "10000it [00:00, 1477960.46it/s]"
     ]
    },
    {
     "name": "stdout",
     "output_type": "stream",
     "text": [
      "\n",
      "\n",
      "***INFO***\n",
      "Captions Processed: 1810000\n",
      "Number of objects detected so far: 16476\n",
      "Saving..."
     ]
    },
    {
     "name": "stderr",
     "output_type": "stream",
     "text": [
      "\n",
      " 55%|████████████████████▏                | 181/332 [2:26:51<2:14:23, 53.40s/it]"
     ]
    },
    {
     "name": "stdout",
     "output_type": "stream",
     "text": [
      "Saved.\n",
      "\n",
      "Subset No. 182\n",
      "Processing captions...\n",
      "Updating captions...\n"
     ]
    },
    {
     "name": "stderr",
     "output_type": "stream",
     "text": [
      "\n",
      "10000it [00:00, 1482610.11it/s]"
     ]
    },
    {
     "name": "stdout",
     "output_type": "stream",
     "text": [
      "\n",
      "\n",
      "***INFO***\n",
      "Captions Processed: 1820000\n",
      "Number of objects detected so far: 16503\n",
      "Saving..."
     ]
    },
    {
     "name": "stderr",
     "output_type": "stream",
     "text": [
      "\n",
      " 55%|████████████████████▎                | 182/332 [2:27:43<2:12:25, 52.97s/it]"
     ]
    },
    {
     "name": "stdout",
     "output_type": "stream",
     "text": [
      "Saved.\n",
      "\n",
      "Subset No. 183\n",
      "Processing captions...\n",
      "Updating captions...\n"
     ]
    },
    {
     "name": "stderr",
     "output_type": "stream",
     "text": [
      "\n",
      "10000it [00:00, 1483239.27it/s]"
     ]
    },
    {
     "name": "stdout",
     "output_type": "stream",
     "text": [
      "\n",
      "\n",
      "***INFO***\n",
      "Captions Processed: 1830000\n",
      "Number of objects detected so far: 16534\n",
      "Saving..."
     ]
    },
    {
     "name": "stderr",
     "output_type": "stream",
     "text": [
      "\n",
      " 55%|████████████████████▍                | 183/332 [2:28:37<2:12:03, 53.17s/it]"
     ]
    },
    {
     "name": "stdout",
     "output_type": "stream",
     "text": [
      "Saved.\n",
      "\n",
      "Subset No. 184\n",
      "Processing captions...\n",
      "Updating captions...\n"
     ]
    },
    {
     "name": "stderr",
     "output_type": "stream",
     "text": [
      "\n",
      "10000it [00:00, 1476815.61it/s]"
     ]
    },
    {
     "name": "stdout",
     "output_type": "stream",
     "text": [
      "\n",
      "\n",
      "***INFO***\n",
      "Captions Processed: 1840000\n",
      "Number of objects detected so far: 16562\n",
      "Saving..."
     ]
    },
    {
     "name": "stderr",
     "output_type": "stream",
     "text": [
      "\n",
      " 55%|████████████████████▌                | 184/332 [2:29:29<2:10:41, 52.98s/it]"
     ]
    },
    {
     "name": "stdout",
     "output_type": "stream",
     "text": [
      "Saved.\n",
      "\n",
      "Subset No. 185\n",
      "Processing captions...\n",
      "Updating captions...\n"
     ]
    },
    {
     "name": "stderr",
     "output_type": "stream",
     "text": [
      "\n",
      "10000it [00:00, 1467514.78it/s]"
     ]
    },
    {
     "name": "stdout",
     "output_type": "stream",
     "text": [
      "\n",
      "\n",
      "***INFO***\n",
      "Captions Processed: 1850000\n",
      "Number of objects detected so far: 16595\n",
      "Saving..."
     ]
    },
    {
     "name": "stderr",
     "output_type": "stream",
     "text": [
      "\n",
      " 56%|████████████████████▌                | 185/332 [2:30:23<2:10:01, 53.07s/it]"
     ]
    },
    {
     "name": "stdout",
     "output_type": "stream",
     "text": [
      "Saved.\n",
      "\n",
      "Subset No. 186\n",
      "Processing captions...\n",
      "Updating captions...\n"
     ]
    },
    {
     "name": "stderr",
     "output_type": "stream",
     "text": [
      "\n",
      "10000it [00:00, 1443822.38it/s]"
     ]
    },
    {
     "name": "stdout",
     "output_type": "stream",
     "text": [
      "\n",
      "\n",
      "***INFO***\n",
      "Captions Processed: 1860000\n",
      "Number of objects detected so far: 16619\n",
      "Saving..."
     ]
    },
    {
     "name": "stderr",
     "output_type": "stream",
     "text": [
      "\n",
      " 56%|████████████████████▋                | 186/332 [2:31:15<2:08:51, 52.96s/it]"
     ]
    },
    {
     "name": "stdout",
     "output_type": "stream",
     "text": [
      "Saved.\n",
      "\n",
      "Subset No. 187\n",
      "Processing captions...\n",
      "Updating captions...\n"
     ]
    },
    {
     "name": "stderr",
     "output_type": "stream",
     "text": [
      "\n",
      "10000it [00:00, 1458786.87it/s]"
     ]
    },
    {
     "name": "stdout",
     "output_type": "stream",
     "text": [
      "\n",
      "\n",
      "***INFO***\n",
      "Captions Processed: 1870000\n",
      "Number of objects detected so far: 16652\n",
      "Saving..."
     ]
    },
    {
     "name": "stderr",
     "output_type": "stream",
     "text": [
      "\n",
      " 56%|████████████████████▊                | 187/332 [2:32:10<2:09:17, 53.50s/it]"
     ]
    },
    {
     "name": "stdout",
     "output_type": "stream",
     "text": [
      "Saved.\n",
      "\n",
      "Subset No. 188\n",
      "Processing captions...\n",
      "Updating captions...\n"
     ]
    },
    {
     "name": "stderr",
     "output_type": "stream",
     "text": [
      "\n",
      "10000it [00:00, 1416420.37it/s]"
     ]
    },
    {
     "name": "stdout",
     "output_type": "stream",
     "text": [
      "\n",
      "\n",
      "***INFO***\n",
      "Captions Processed: 1880000\n",
      "Number of objects detected so far: 16667\n",
      "Saving..."
     ]
    },
    {
     "name": "stderr",
     "output_type": "stream",
     "text": [
      "\n",
      " 57%|████████████████████▉                | 188/332 [2:33:05<2:09:18, 53.88s/it]"
     ]
    },
    {
     "name": "stdout",
     "output_type": "stream",
     "text": [
      "Saved.\n",
      "\n",
      "Subset No. 189\n",
      "Processing captions...\n",
      "Updating captions...\n"
     ]
    },
    {
     "name": "stderr",
     "output_type": "stream",
     "text": [
      "\n",
      "10000it [00:00, 1476659.63it/s]"
     ]
    },
    {
     "name": "stdout",
     "output_type": "stream",
     "text": [
      "\n",
      "\n",
      "***INFO***\n",
      "Captions Processed: 1890000\n",
      "Number of objects detected so far: 16692\n",
      "Saving..."
     ]
    },
    {
     "name": "stderr",
     "output_type": "stream",
     "text": [
      "\n",
      " 57%|█████████████████████                | 189/332 [2:33:56<2:06:39, 53.14s/it]"
     ]
    },
    {
     "name": "stdout",
     "output_type": "stream",
     "text": [
      "Saved.\n",
      "\n",
      "Subset No. 190\n",
      "Processing captions...\n",
      "Updating captions...\n"
     ]
    },
    {
     "name": "stderr",
     "output_type": "stream",
     "text": [
      "\n",
      "10000it [00:00, 1488080.61it/s]"
     ]
    },
    {
     "name": "stdout",
     "output_type": "stream",
     "text": [
      "\n",
      "\n",
      "***INFO***\n",
      "Captions Processed: 1900000\n",
      "Number of objects detected so far: 16722\n",
      "Saving..."
     ]
    },
    {
     "name": "stderr",
     "output_type": "stream",
     "text": [
      "\n",
      " 57%|█████████████████████▏               | 190/332 [2:34:49<2:05:42, 53.11s/it]"
     ]
    },
    {
     "name": "stdout",
     "output_type": "stream",
     "text": [
      "Saved.\n",
      "\n",
      "Subset No. 191\n",
      "Processing captions...\n",
      "Updating captions...\n"
     ]
    },
    {
     "name": "stderr",
     "output_type": "stream",
     "text": [
      "\n",
      "10000it [00:00, 1449059.94it/s]"
     ]
    },
    {
     "name": "stdout",
     "output_type": "stream",
     "text": [
      "\n",
      "\n",
      "***INFO***\n",
      "Captions Processed: 1910000\n",
      "Number of objects detected so far: 16749\n",
      "Saving..."
     ]
    },
    {
     "name": "stderr",
     "output_type": "stream",
     "text": [
      "\n",
      " 58%|█████████████████████▎               | 191/332 [2:35:44<2:05:37, 53.46s/it]"
     ]
    },
    {
     "name": "stdout",
     "output_type": "stream",
     "text": [
      "Saved.\n",
      "\n",
      "Subset No. 192\n",
      "Processing captions...\n",
      "Updating captions...\n"
     ]
    },
    {
     "name": "stderr",
     "output_type": "stream",
     "text": [
      "\n",
      "10000it [00:00, 1467566.13it/s]"
     ]
    },
    {
     "name": "stdout",
     "output_type": "stream",
     "text": [
      "\n",
      "\n",
      "***INFO***\n",
      "Captions Processed: 1920000\n",
      "Number of objects detected so far: 16777\n",
      "Saving..."
     ]
    },
    {
     "name": "stderr",
     "output_type": "stream",
     "text": [
      "\n",
      " 58%|█████████████████████▍               | 192/332 [2:36:38<2:05:22, 53.73s/it]"
     ]
    },
    {
     "name": "stdout",
     "output_type": "stream",
     "text": [
      "Saved.\n",
      "\n",
      "Subset No. 193\n",
      "Processing captions...\n",
      "Updating captions...\n"
     ]
    },
    {
     "name": "stderr",
     "output_type": "stream",
     "text": [
      "\n",
      "10000it [00:00, 1443872.08it/s]"
     ]
    },
    {
     "name": "stdout",
     "output_type": "stream",
     "text": [
      "\n",
      "\n",
      "***INFO***\n",
      "Captions Processed: 1930000\n",
      "Number of objects detected so far: 16803\n",
      "Saving..."
     ]
    },
    {
     "name": "stderr",
     "output_type": "stream",
     "text": [
      "\n",
      " 58%|█████████████████████▌               | 193/332 [2:37:33<2:05:11, 54.04s/it]"
     ]
    },
    {
     "name": "stdout",
     "output_type": "stream",
     "text": [
      "Saved.\n",
      "\n",
      "Subset No. 194\n",
      "Processing captions...\n",
      "Updating captions...\n"
     ]
    },
    {
     "name": "stderr",
     "output_type": "stream",
     "text": [
      "\n",
      "10000it [00:00, 1475620.60it/s]"
     ]
    },
    {
     "name": "stdout",
     "output_type": "stream",
     "text": [
      "\n",
      "\n",
      "***INFO***\n",
      "Captions Processed: 1940000\n",
      "Number of objects detected so far: 16844\n",
      "Saving..."
     ]
    },
    {
     "name": "stderr",
     "output_type": "stream",
     "text": [
      "\n",
      " 58%|█████████████████████▌               | 194/332 [2:38:27<2:04:28, 54.12s/it]"
     ]
    },
    {
     "name": "stdout",
     "output_type": "stream",
     "text": [
      "Saved.\n",
      "\n",
      "Subset No. 195\n",
      "Processing captions...\n",
      "Updating captions...\n"
     ]
    },
    {
     "name": "stderr",
     "output_type": "stream",
     "text": [
      "\n",
      "10000it [00:00, 1452874.71it/s]"
     ]
    },
    {
     "name": "stdout",
     "output_type": "stream",
     "text": [
      "\n",
      "\n",
      "***INFO***\n",
      "Captions Processed: 1950000\n",
      "Number of objects detected so far: 16866\n",
      "Saving..."
     ]
    },
    {
     "name": "stderr",
     "output_type": "stream",
     "text": [
      "\n",
      " 59%|█████████████████████▋               | 195/332 [2:39:23<2:04:44, 54.63s/it]"
     ]
    },
    {
     "name": "stdout",
     "output_type": "stream",
     "text": [
      "Saved.\n",
      "\n",
      "Subset No. 196\n",
      "Processing captions...\n",
      "Updating captions...\n"
     ]
    },
    {
     "name": "stderr",
     "output_type": "stream",
     "text": [
      "\n",
      "10000it [00:00, 1487658.37it/s]"
     ]
    },
    {
     "name": "stdout",
     "output_type": "stream",
     "text": [
      "\n",
      "\n",
      "***INFO***\n",
      "Captions Processed: 1960000\n",
      "Number of objects detected so far: 16896\n",
      "Saving..."
     ]
    },
    {
     "name": "stderr",
     "output_type": "stream",
     "text": [
      "\n",
      " 59%|█████████████████████▊               | 196/332 [2:40:17<2:03:45, 54.60s/it]"
     ]
    },
    {
     "name": "stdout",
     "output_type": "stream",
     "text": [
      "Saved.\n",
      "\n",
      "Subset No. 197\n",
      "Processing captions...\n",
      "Updating captions...\n"
     ]
    },
    {
     "name": "stderr",
     "output_type": "stream",
     "text": [
      "\n",
      "10000it [00:00, 1477075.64it/s]"
     ]
    },
    {
     "name": "stdout",
     "output_type": "stream",
     "text": [
      "\n",
      "\n",
      "***INFO***\n",
      "Captions Processed: 1970000\n",
      "Number of objects detected so far: 16927\n",
      "Saving..."
     ]
    },
    {
     "name": "stderr",
     "output_type": "stream",
     "text": [
      "\n",
      " 59%|█████████████████████▉               | 197/332 [2:41:12<2:03:06, 54.71s/it]"
     ]
    },
    {
     "name": "stdout",
     "output_type": "stream",
     "text": [
      "Saved.\n",
      "\n",
      "Subset No. 198\n",
      "Processing captions...\n",
      "Updating captions...\n"
     ]
    },
    {
     "name": "stderr",
     "output_type": "stream",
     "text": [
      "\n",
      "10000it [00:00, 1464542.76it/s]"
     ]
    },
    {
     "name": "stdout",
     "output_type": "stream",
     "text": [
      "\n",
      "\n",
      "***INFO***\n",
      "Captions Processed: 1980000\n",
      "Number of objects detected so far: 16954\n",
      "Saving..."
     ]
    },
    {
     "name": "stderr",
     "output_type": "stream",
     "text": [
      "\n",
      " 60%|██████████████████████               | 198/332 [2:42:06<2:01:10, 54.26s/it]"
     ]
    },
    {
     "name": "stdout",
     "output_type": "stream",
     "text": [
      "Saved.\n",
      "\n",
      "Subset No. 199\n",
      "Processing captions...\n",
      "Updating captions...\n"
     ]
    },
    {
     "name": "stderr",
     "output_type": "stream",
     "text": [
      "\n",
      "10000it [00:00, 1457468.90it/s]"
     ]
    },
    {
     "name": "stdout",
     "output_type": "stream",
     "text": [
      "\n",
      "\n",
      "***INFO***\n",
      "Captions Processed: 1990000\n",
      "Number of objects detected so far: 16982\n",
      "Saving..."
     ]
    },
    {
     "name": "stderr",
     "output_type": "stream",
     "text": [
      "\n",
      " 60%|██████████████████████▏              | 199/332 [2:43:01<2:00:45, 54.48s/it]"
     ]
    },
    {
     "name": "stdout",
     "output_type": "stream",
     "text": [
      "Saved.\n",
      "\n",
      "Subset No. 200\n",
      "Processing captions...\n",
      "Updating captions...\n"
     ]
    },
    {
     "name": "stderr",
     "output_type": "stream",
     "text": [
      "\n",
      "10000it [00:00, 1355230.86it/s]"
     ]
    },
    {
     "name": "stdout",
     "output_type": "stream",
     "text": [
      "\n",
      "\n",
      "***INFO***\n",
      "Captions Processed: 2000000\n",
      "Number of objects detected so far: 17006\n",
      "Saving..."
     ]
    },
    {
     "name": "stderr",
     "output_type": "stream",
     "text": [
      "\n",
      " 60%|██████████████████████▎              | 200/332 [2:43:55<1:59:42, 54.42s/it]"
     ]
    },
    {
     "name": "stdout",
     "output_type": "stream",
     "text": [
      "Saved.\n",
      "\n",
      "Subset No. 201\n",
      "Processing captions...\n",
      "Updating captions...\n"
     ]
    },
    {
     "name": "stderr",
     "output_type": "stream",
     "text": [
      "\n",
      "10000it [00:00, 1442184.09it/s]"
     ]
    },
    {
     "name": "stdout",
     "output_type": "stream",
     "text": [
      "\n",
      "\n",
      "***INFO***\n",
      "Captions Processed: 2010000\n",
      "Number of objects detected so far: 17037\n",
      "Saving..."
     ]
    },
    {
     "name": "stderr",
     "output_type": "stream",
     "text": [
      "\n",
      " 61%|██████████████████████▍              | 201/332 [2:44:51<1:59:57, 54.94s/it]"
     ]
    },
    {
     "name": "stdout",
     "output_type": "stream",
     "text": [
      "Saved.\n",
      "\n",
      "Subset No. 202\n",
      "Processing captions...\n",
      "Updating captions...\n"
     ]
    },
    {
     "name": "stderr",
     "output_type": "stream",
     "text": [
      "\n",
      "10000it [00:00, 1447010.28it/s]"
     ]
    },
    {
     "name": "stdout",
     "output_type": "stream",
     "text": [
      "\n",
      "\n",
      "***INFO***\n",
      "Captions Processed: 2020000\n",
      "Number of objects detected so far: 17061\n",
      "Saving..."
     ]
    },
    {
     "name": "stderr",
     "output_type": "stream",
     "text": [
      "\n",
      " 61%|██████████████████████▌              | 202/332 [2:45:45<1:58:22, 54.64s/it]"
     ]
    },
    {
     "name": "stdout",
     "output_type": "stream",
     "text": [
      "Saved.\n",
      "\n",
      "Subset No. 203\n",
      "Processing captions...\n",
      "Updating captions...\n"
     ]
    },
    {
     "name": "stderr",
     "output_type": "stream",
     "text": [
      "\n",
      "10000it [00:00, 1465873.55it/s]"
     ]
    },
    {
     "name": "stdout",
     "output_type": "stream",
     "text": [
      "\n",
      "\n",
      "***INFO***\n",
      "Captions Processed: 2030000\n",
      "Number of objects detected so far: 17081\n",
      "Saving..."
     ]
    },
    {
     "name": "stderr",
     "output_type": "stream",
     "text": [
      "\n",
      " 61%|██████████████████████▌              | 203/332 [2:46:39<1:57:11, 54.51s/it]"
     ]
    },
    {
     "name": "stdout",
     "output_type": "stream",
     "text": [
      "Saved.\n",
      "\n",
      "Subset No. 204\n",
      "Processing captions...\n",
      "Updating captions...\n"
     ]
    },
    {
     "name": "stderr",
     "output_type": "stream",
     "text": [
      "\n",
      "10000it [00:00, 1445663.67it/s]"
     ]
    },
    {
     "name": "stdout",
     "output_type": "stream",
     "text": [
      "\n",
      "\n",
      "***INFO***\n",
      "Captions Processed: 2040000\n",
      "Number of objects detected so far: 17111\n",
      "Saving..."
     ]
    },
    {
     "name": "stderr",
     "output_type": "stream",
     "text": [
      "\n",
      " 61%|██████████████████████▋              | 204/332 [2:47:33<1:55:41, 54.23s/it]"
     ]
    },
    {
     "name": "stdout",
     "output_type": "stream",
     "text": [
      "Saved.\n",
      "\n",
      "Subset No. 205\n",
      "Processing captions...\n",
      "Updating captions...\n"
     ]
    },
    {
     "name": "stderr",
     "output_type": "stream",
     "text": [
      "\n",
      "10000it [00:00, 1454739.18it/s]"
     ]
    },
    {
     "name": "stdout",
     "output_type": "stream",
     "text": [
      "\n",
      "\n",
      "***INFO***\n",
      "Captions Processed: 2050000\n",
      "Number of objects detected so far: 17135\n",
      "Saving..."
     ]
    },
    {
     "name": "stderr",
     "output_type": "stream",
     "text": [
      "\n",
      " 62%|██████████████████████▊              | 205/332 [2:48:27<1:54:55, 54.30s/it]"
     ]
    },
    {
     "name": "stdout",
     "output_type": "stream",
     "text": [
      "Saved.\n",
      "\n",
      "Subset No. 206\n",
      "Processing captions...\n",
      "Updating captions...\n"
     ]
    },
    {
     "name": "stderr",
     "output_type": "stream",
     "text": [
      "\n",
      "10000it [00:00, 1338493.75it/s]"
     ]
    },
    {
     "name": "stdout",
     "output_type": "stream",
     "text": [
      "\n",
      "\n",
      "***INFO***\n",
      "Captions Processed: 2060000\n",
      "Number of objects detected so far: 17162\n",
      "Saving..."
     ]
    },
    {
     "name": "stderr",
     "output_type": "stream",
     "text": [
      "\n",
      " 62%|██████████████████████▉              | 206/332 [2:49:24<1:55:26, 54.98s/it]"
     ]
    },
    {
     "name": "stdout",
     "output_type": "stream",
     "text": [
      "Saved.\n",
      "\n",
      "Subset No. 207\n",
      "Processing captions...\n",
      "Updating captions...\n"
     ]
    },
    {
     "name": "stderr",
     "output_type": "stream",
     "text": [
      "\n",
      "10000it [00:00, 1359579.90it/s]"
     ]
    },
    {
     "name": "stdout",
     "output_type": "stream",
     "text": [
      "\n",
      "\n",
      "***INFO***\n",
      "Captions Processed: 2070000\n",
      "Number of objects detected so far: 17185\n",
      "Saving..."
     ]
    },
    {
     "name": "stderr",
     "output_type": "stream",
     "text": [
      "\n",
      " 62%|███████████████████████              | 207/332 [2:50:18<1:54:19, 54.87s/it]"
     ]
    },
    {
     "name": "stdout",
     "output_type": "stream",
     "text": [
      "Saved.\n",
      "\n",
      "Subset No. 208\n",
      "Processing captions...\n",
      "Updating captions...\n"
     ]
    },
    {
     "name": "stderr",
     "output_type": "stream",
     "text": [
      "\n",
      "10000it [00:00, 1443027.59it/s]"
     ]
    },
    {
     "name": "stdout",
     "output_type": "stream",
     "text": [
      "\n",
      "\n",
      "***INFO***\n",
      "Captions Processed: 2080000\n",
      "Number of objects detected so far: 17211\n",
      "Saving..."
     ]
    },
    {
     "name": "stderr",
     "output_type": "stream",
     "text": [
      "\n",
      " 63%|███████████████████████▏             | 208/332 [2:51:14<1:53:39, 54.99s/it]"
     ]
    },
    {
     "name": "stdout",
     "output_type": "stream",
     "text": [
      "Saved.\n",
      "\n",
      "Subset No. 209\n",
      "Processing captions...\n",
      "Updating captions...\n"
     ]
    },
    {
     "name": "stderr",
     "output_type": "stream",
     "text": [
      "\n",
      "10000it [00:00, 1433068.20it/s]"
     ]
    },
    {
     "name": "stdout",
     "output_type": "stream",
     "text": [
      "\n",
      "\n",
      "***INFO***\n",
      "Captions Processed: 2090000\n",
      "Number of objects detected so far: 17244\n",
      "Saving..."
     ]
    },
    {
     "name": "stderr",
     "output_type": "stream",
     "text": [
      "\n",
      " 63%|███████████████████████▎             | 209/332 [2:52:10<1:53:33, 55.39s/it]"
     ]
    },
    {
     "name": "stdout",
     "output_type": "stream",
     "text": [
      "Saved.\n",
      "\n",
      "Subset No. 210\n",
      "Processing captions...\n",
      "Updating captions...\n"
     ]
    },
    {
     "name": "stderr",
     "output_type": "stream",
     "text": [
      "\n",
      "10000it [00:00, 1394290.27it/s]"
     ]
    },
    {
     "name": "stdout",
     "output_type": "stream",
     "text": [
      "\n",
      "\n",
      "***INFO***\n",
      "Captions Processed: 2100000\n",
      "Number of objects detected so far: 17279\n",
      "Saving..."
     ]
    },
    {
     "name": "stderr",
     "output_type": "stream",
     "text": [
      "\n",
      " 63%|███████████████████████▍             | 210/332 [2:53:07<1:53:31, 55.83s/it]"
     ]
    },
    {
     "name": "stdout",
     "output_type": "stream",
     "text": [
      "Saved.\n",
      "\n",
      "Subset No. 211\n",
      "Processing captions...\n",
      "Updating captions...\n"
     ]
    },
    {
     "name": "stderr",
     "output_type": "stream",
     "text": [
      "\n",
      "10000it [00:00, 1414652.77it/s]"
     ]
    },
    {
     "name": "stdout",
     "output_type": "stream",
     "text": [
      "\n",
      "\n",
      "***INFO***\n",
      "Captions Processed: 2110000\n",
      "Number of objects detected so far: 17303\n",
      "Saving..."
     ]
    },
    {
     "name": "stderr",
     "output_type": "stream",
     "text": [
      "\n",
      " 64%|███████████████████████▌             | 211/332 [2:54:02<1:52:09, 55.61s/it]"
     ]
    },
    {
     "name": "stdout",
     "output_type": "stream",
     "text": [
      "Saved.\n",
      "\n",
      "Subset No. 212\n",
      "Processing captions...\n",
      "Updating captions...\n"
     ]
    },
    {
     "name": "stderr",
     "output_type": "stream",
     "text": [
      "\n",
      "10000it [00:00, 1411843.27it/s]"
     ]
    },
    {
     "name": "stdout",
     "output_type": "stream",
     "text": [
      "\n",
      "\n",
      "***INFO***\n",
      "Captions Processed: 2120000\n",
      "Number of objects detected so far: 17337\n",
      "Saving..."
     ]
    },
    {
     "name": "stderr",
     "output_type": "stream",
     "text": [
      "\n",
      " 64%|███████████████████████▋             | 212/332 [2:54:57<1:51:14, 55.62s/it]"
     ]
    },
    {
     "name": "stdout",
     "output_type": "stream",
     "text": [
      "Saved.\n",
      "\n",
      "Subset No. 213\n",
      "Processing captions...\n",
      "Updating captions...\n"
     ]
    },
    {
     "name": "stderr",
     "output_type": "stream",
     "text": [
      "\n",
      "10000it [00:00, 1446112.26it/s]"
     ]
    },
    {
     "name": "stdout",
     "output_type": "stream",
     "text": [
      "\n",
      "\n",
      "***INFO***\n",
      "Captions Processed: 2130000\n",
      "Number of objects detected so far: 17360\n",
      "Saving..."
     ]
    },
    {
     "name": "stderr",
     "output_type": "stream",
     "text": [
      "\n",
      " 64%|███████████████████████▋             | 213/332 [2:55:52<1:49:40, 55.30s/it]"
     ]
    },
    {
     "name": "stdout",
     "output_type": "stream",
     "text": [
      "Saved.\n",
      "\n",
      "Subset No. 214\n",
      "Processing captions...\n",
      "Updating captions...\n"
     ]
    },
    {
     "name": "stderr",
     "output_type": "stream",
     "text": [
      "\n",
      "10000it [00:00, 1342778.84it/s]"
     ]
    },
    {
     "name": "stdout",
     "output_type": "stream",
     "text": [
      "\n",
      "\n",
      "***INFO***\n",
      "Captions Processed: 2140000\n",
      "Number of objects detected so far: 17387\n",
      "Saving..."
     ]
    },
    {
     "name": "stderr",
     "output_type": "stream",
     "text": [
      "\n",
      " 64%|███████████████████████▊             | 214/332 [2:56:48<1:49:12, 55.53s/it]"
     ]
    },
    {
     "name": "stdout",
     "output_type": "stream",
     "text": [
      "Saved.\n",
      "\n",
      "Subset No. 215\n",
      "Processing captions...\n",
      "Updating captions...\n"
     ]
    },
    {
     "name": "stderr",
     "output_type": "stream",
     "text": [
      "\n",
      "10000it [00:00, 1363690.87it/s]"
     ]
    },
    {
     "name": "stdout",
     "output_type": "stream",
     "text": [
      "\n",
      "\n",
      "***INFO***\n",
      "Captions Processed: 2150000\n",
      "Number of objects detected so far: 17419\n",
      "Saving..."
     ]
    },
    {
     "name": "stderr",
     "output_type": "stream",
     "text": [
      "\n",
      " 65%|███████████████████████▉             | 215/332 [2:57:43<1:47:38, 55.20s/it]"
     ]
    },
    {
     "name": "stdout",
     "output_type": "stream",
     "text": [
      "Saved.\n",
      "\n",
      "Subset No. 216\n",
      "Processing captions...\n",
      "Updating captions...\n"
     ]
    },
    {
     "name": "stderr",
     "output_type": "stream",
     "text": [
      "\n",
      "10000it [00:00, 1409850.08it/s]"
     ]
    },
    {
     "name": "stdout",
     "output_type": "stream",
     "text": [
      "\n",
      "\n",
      "***INFO***\n",
      "Captions Processed: 2160000\n",
      "Number of objects detected so far: 17445\n",
      "Saving..."
     ]
    },
    {
     "name": "stderr",
     "output_type": "stream",
     "text": [
      "\n",
      " 65%|████████████████████████             | 216/332 [2:58:36<1:45:52, 54.76s/it]"
     ]
    },
    {
     "name": "stdout",
     "output_type": "stream",
     "text": [
      "Saved.\n",
      "\n",
      "Subset No. 217\n",
      "Processing captions...\n",
      "Updating captions...\n"
     ]
    },
    {
     "name": "stderr",
     "output_type": "stream",
     "text": [
      "\n",
      "10000it [00:00, 1245339.67it/s]"
     ]
    },
    {
     "name": "stdout",
     "output_type": "stream",
     "text": [
      "\n",
      "\n",
      "***INFO***\n",
      "Captions Processed: 2170000\n",
      "Number of objects detected so far: 17479\n",
      "Saving..."
     ]
    },
    {
     "name": "stderr",
     "output_type": "stream",
     "text": [
      "\n",
      " 65%|████████████████████████▏            | 217/332 [2:59:32<1:45:32, 55.06s/it]"
     ]
    },
    {
     "name": "stdout",
     "output_type": "stream",
     "text": [
      "Saved.\n",
      "\n",
      "Subset No. 218\n",
      "Processing captions...\n",
      "Updating captions...\n"
     ]
    },
    {
     "name": "stderr",
     "output_type": "stream",
     "text": [
      "\n",
      "10000it [00:00, 1408287.95it/s]"
     ]
    },
    {
     "name": "stdout",
     "output_type": "stream",
     "text": [
      "\n",
      "\n",
      "***INFO***\n",
      "Captions Processed: 2180000\n",
      "Number of objects detected so far: 17507\n",
      "Saving..."
     ]
    },
    {
     "name": "stderr",
     "output_type": "stream",
     "text": [
      "\n",
      " 66%|████████████████████████▎            | 218/332 [3:00:27<1:44:35, 55.05s/it]"
     ]
    },
    {
     "name": "stdout",
     "output_type": "stream",
     "text": [
      "Saved.\n",
      "\n",
      "Subset No. 219\n",
      "Processing captions...\n",
      "Updating captions...\n"
     ]
    },
    {
     "name": "stderr",
     "output_type": "stream",
     "text": [
      "\n",
      "10000it [00:00, 1403105.74it/s]"
     ]
    },
    {
     "name": "stdout",
     "output_type": "stream",
     "text": [
      "\n",
      "\n",
      "***INFO***\n",
      "Captions Processed: 2190000\n",
      "Number of objects detected so far: 17530\n",
      "Saving..."
     ]
    },
    {
     "name": "stderr",
     "output_type": "stream",
     "text": [
      "\n",
      " 66%|████████████████████████▍            | 219/332 [3:01:21<1:43:17, 54.85s/it]"
     ]
    },
    {
     "name": "stdout",
     "output_type": "stream",
     "text": [
      "Saved.\n",
      "\n",
      "Subset No. 220\n",
      "Processing captions...\n",
      "Updating captions...\n"
     ]
    },
    {
     "name": "stderr",
     "output_type": "stream",
     "text": [
      "\n",
      "10000it [00:00, 1444618.03it/s]"
     ]
    },
    {
     "name": "stdout",
     "output_type": "stream",
     "text": [
      "\n",
      "\n",
      "***INFO***\n",
      "Captions Processed: 2200000\n",
      "Number of objects detected so far: 17560\n",
      "Saving..."
     ]
    },
    {
     "name": "stderr",
     "output_type": "stream",
     "text": [
      "\n",
      " 66%|████████████████████████▌            | 220/332 [3:02:15<1:41:54, 54.59s/it]"
     ]
    },
    {
     "name": "stdout",
     "output_type": "stream",
     "text": [
      "Saved.\n",
      "\n",
      "Subset No. 221\n",
      "Processing captions...\n",
      "Updating captions...\n"
     ]
    },
    {
     "name": "stderr",
     "output_type": "stream",
     "text": [
      "\n",
      "10000it [00:00, 1419488.29it/s]"
     ]
    },
    {
     "name": "stdout",
     "output_type": "stream",
     "text": [
      "\n",
      "\n",
      "***INFO***\n",
      "Captions Processed: 2210000\n",
      "Number of objects detected so far: 17594\n",
      "Saving..."
     ]
    },
    {
     "name": "stderr",
     "output_type": "stream",
     "text": [
      "\n",
      " 67%|████████████████████████▋            | 221/332 [3:03:11<1:41:32, 54.88s/it]"
     ]
    },
    {
     "name": "stdout",
     "output_type": "stream",
     "text": [
      "Saved.\n",
      "\n",
      "Subset No. 222\n",
      "Processing captions...\n",
      "Updating captions...\n"
     ]
    },
    {
     "name": "stderr",
     "output_type": "stream",
     "text": [
      "\n",
      "10000it [00:00, 1438474.52it/s]"
     ]
    },
    {
     "name": "stdout",
     "output_type": "stream",
     "text": [
      "\n",
      "\n",
      "***INFO***\n",
      "Captions Processed: 2220000\n",
      "Number of objects detected so far: 17617\n",
      "Saving..."
     ]
    },
    {
     "name": "stderr",
     "output_type": "stream",
     "text": [
      "\n",
      " 67%|████████████████████████▋            | 222/332 [3:04:06<1:40:30, 54.82s/it]"
     ]
    },
    {
     "name": "stdout",
     "output_type": "stream",
     "text": [
      "Saved.\n",
      "\n",
      "Subset No. 223\n",
      "Processing captions...\n",
      "Updating captions...\n"
     ]
    },
    {
     "name": "stderr",
     "output_type": "stream",
     "text": [
      "\n",
      "10000it [00:00, 1444468.78it/s]"
     ]
    },
    {
     "name": "stdout",
     "output_type": "stream",
     "text": [
      "\n",
      "\n",
      "***INFO***\n",
      "Captions Processed: 2230000\n",
      "Number of objects detected so far: 17647\n",
      "Saving..."
     ]
    },
    {
     "name": "stderr",
     "output_type": "stream",
     "text": [
      "\n",
      " 67%|████████████████████████▊            | 223/332 [3:05:00<1:39:33, 54.81s/it]"
     ]
    },
    {
     "name": "stdout",
     "output_type": "stream",
     "text": [
      "Saved.\n",
      "\n",
      "Subset No. 224\n",
      "Processing captions...\n",
      "Updating captions...\n"
     ]
    },
    {
     "name": "stderr",
     "output_type": "stream",
     "text": [
      "\n",
      "10000it [00:00, 1443226.21it/s]"
     ]
    },
    {
     "name": "stdout",
     "output_type": "stream",
     "text": [
      "\n",
      "\n",
      "***INFO***\n",
      "Captions Processed: 2240000\n",
      "Number of objects detected so far: 17669\n",
      "Saving..."
     ]
    },
    {
     "name": "stderr",
     "output_type": "stream",
     "text": [
      "\n",
      " 67%|████████████████████████▉            | 224/332 [3:05:57<1:39:41, 55.39s/it]"
     ]
    },
    {
     "name": "stdout",
     "output_type": "stream",
     "text": [
      "Saved.\n",
      "\n",
      "Subset No. 225\n",
      "Processing captions...\n",
      "Updating captions...\n"
     ]
    },
    {
     "name": "stderr",
     "output_type": "stream",
     "text": [
      "\n",
      "10000it [00:00, 1241506.04it/s]"
     ]
    },
    {
     "name": "stdout",
     "output_type": "stream",
     "text": [
      "\n",
      "\n",
      "***INFO***\n",
      "Captions Processed: 2250000\n",
      "Number of objects detected so far: 17694\n",
      "Saving..."
     ]
    },
    {
     "name": "stderr",
     "output_type": "stream",
     "text": [
      "\n",
      " 68%|█████████████████████████            | 225/332 [3:06:52<1:38:24, 55.18s/it]"
     ]
    },
    {
     "name": "stdout",
     "output_type": "stream",
     "text": [
      "Saved.\n",
      "\n",
      "Subset No. 226\n",
      "Processing captions...\n",
      "Updating captions...\n"
     ]
    },
    {
     "name": "stderr",
     "output_type": "stream",
     "text": [
      "\n",
      "10000it [00:00, 1449660.94it/s]"
     ]
    },
    {
     "name": "stdout",
     "output_type": "stream",
     "text": [
      "\n",
      "\n",
      "***INFO***\n",
      "Captions Processed: 2260000\n",
      "Number of objects detected so far: 17722\n",
      "Saving..."
     ]
    },
    {
     "name": "stderr",
     "output_type": "stream",
     "text": [
      "\n",
      " 68%|█████████████████████████▏           | 226/332 [3:07:48<1:37:49, 55.37s/it]"
     ]
    },
    {
     "name": "stdout",
     "output_type": "stream",
     "text": [
      "Saved.\n",
      "\n",
      "Subset No. 227\n",
      "Processing captions...\n",
      "Updating captions...\n"
     ]
    },
    {
     "name": "stderr",
     "output_type": "stream",
     "text": [
      "\n",
      "10000it [00:00, 1409660.55it/s]"
     ]
    },
    {
     "name": "stdout",
     "output_type": "stream",
     "text": [
      "\n",
      "\n",
      "***INFO***\n",
      "Captions Processed: 2270000\n",
      "Number of objects detected so far: 17745\n",
      "Saving..."
     ]
    },
    {
     "name": "stderr",
     "output_type": "stream",
     "text": [
      "\n",
      " 68%|█████████████████████████▎           | 227/332 [3:08:44<1:37:12, 55.54s/it]"
     ]
    },
    {
     "name": "stdout",
     "output_type": "stream",
     "text": [
      "Saved.\n",
      "\n",
      "Subset No. 228\n",
      "Processing captions...\n",
      "Updating captions...\n"
     ]
    },
    {
     "name": "stderr",
     "output_type": "stream",
     "text": [
      "\n",
      "10000it [00:00, 1382935.14it/s]"
     ]
    },
    {
     "name": "stdout",
     "output_type": "stream",
     "text": [
      "\n",
      "\n",
      "***INFO***\n",
      "Captions Processed: 2280000\n",
      "Number of objects detected so far: 17767\n",
      "Saving..."
     ]
    },
    {
     "name": "stderr",
     "output_type": "stream",
     "text": [
      "\n",
      " 69%|█████████████████████████▍           | 228/332 [3:09:40<1:36:38, 55.76s/it]"
     ]
    },
    {
     "name": "stdout",
     "output_type": "stream",
     "text": [
      "Saved.\n",
      "\n",
      "Subset No. 229\n",
      "Processing captions...\n",
      "Updating captions...\n"
     ]
    },
    {
     "name": "stderr",
     "output_type": "stream",
     "text": [
      "\n",
      "10000it [00:00, 1337768.00it/s]"
     ]
    },
    {
     "name": "stdout",
     "output_type": "stream",
     "text": [
      "\n",
      "\n",
      "***INFO***\n",
      "Captions Processed: 2290000\n",
      "Number of objects detected so far: 17791\n",
      "Saving..."
     ]
    },
    {
     "name": "stderr",
     "output_type": "stream",
     "text": [
      "\n",
      " 69%|█████████████████████████▌           | 229/332 [3:10:36<1:35:46, 55.79s/it]"
     ]
    },
    {
     "name": "stdout",
     "output_type": "stream",
     "text": [
      "Saved.\n",
      "\n",
      "Subset No. 230\n",
      "Processing captions...\n",
      "Updating captions...\n"
     ]
    },
    {
     "name": "stderr",
     "output_type": "stream",
     "text": [
      "\n",
      "10000it [00:00, 1314087.35it/s]"
     ]
    },
    {
     "name": "stdout",
     "output_type": "stream",
     "text": [
      "\n",
      "\n",
      "***INFO***\n",
      "Captions Processed: 2300000\n",
      "Number of objects detected so far: 17816\n",
      "Saving..."
     ]
    },
    {
     "name": "stderr",
     "output_type": "stream",
     "text": [
      "\n",
      " 69%|█████████████████████████▋           | 230/332 [3:11:31<1:34:47, 55.76s/it]"
     ]
    },
    {
     "name": "stdout",
     "output_type": "stream",
     "text": [
      "Saved.\n",
      "\n",
      "Subset No. 231\n",
      "Processing captions...\n",
      "Updating captions...\n"
     ]
    },
    {
     "name": "stderr",
     "output_type": "stream",
     "text": [
      "\n",
      "10000it [00:00, 1431796.27it/s]"
     ]
    },
    {
     "name": "stdout",
     "output_type": "stream",
     "text": [
      "\n",
      "\n",
      "***INFO***\n",
      "Captions Processed: 2310000\n",
      "Number of objects detected so far: 17840\n",
      "Saving..."
     ]
    },
    {
     "name": "stderr",
     "output_type": "stream",
     "text": [
      "\n",
      " 70%|█████████████████████████▋           | 231/332 [3:12:29<1:34:40, 56.25s/it]"
     ]
    },
    {
     "name": "stdout",
     "output_type": "stream",
     "text": [
      "Saved.\n",
      "\n",
      "Subset No. 232\n",
      "Processing captions...\n",
      "Updating captions...\n"
     ]
    },
    {
     "name": "stderr",
     "output_type": "stream",
     "text": [
      "\n",
      "10000it [00:00, 1380477.24it/s]"
     ]
    },
    {
     "name": "stdout",
     "output_type": "stream",
     "text": [
      "\n",
      "\n",
      "***INFO***\n",
      "Captions Processed: 2320000\n",
      "Number of objects detected so far: 17871\n",
      "Saving..."
     ]
    },
    {
     "name": "stderr",
     "output_type": "stream",
     "text": [
      "\n",
      " 70%|█████████████████████████▊           | 232/332 [3:13:25<1:33:28, 56.09s/it]"
     ]
    },
    {
     "name": "stdout",
     "output_type": "stream",
     "text": [
      "Saved.\n",
      "\n",
      "Subset No. 233\n",
      "Processing captions...\n",
      "Updating captions...\n"
     ]
    },
    {
     "name": "stderr",
     "output_type": "stream",
     "text": [
      "\n",
      "10000it [00:00, 1425131.32it/s]"
     ]
    },
    {
     "name": "stdout",
     "output_type": "stream",
     "text": [
      "\n",
      "\n",
      "***INFO***\n",
      "Captions Processed: 2330000\n",
      "Number of objects detected so far: 17893\n",
      "Saving..."
     ]
    },
    {
     "name": "stderr",
     "output_type": "stream",
     "text": [
      "\n",
      " 70%|█████████████████████████▉           | 233/332 [3:14:20<1:32:10, 55.86s/it]"
     ]
    },
    {
     "name": "stdout",
     "output_type": "stream",
     "text": [
      "Saved.\n",
      "\n",
      "Subset No. 234\n",
      "Processing captions...\n",
      "Updating captions...\n"
     ]
    },
    {
     "name": "stderr",
     "output_type": "stream",
     "text": [
      "\n",
      "10000it [00:00, 1477127.66it/s]"
     ]
    },
    {
     "name": "stdout",
     "output_type": "stream",
     "text": [
      "\n",
      "\n",
      "***INFO***\n",
      "Captions Processed: 2340000\n",
      "Number of objects detected so far: 17915\n",
      "Saving..."
     ]
    },
    {
     "name": "stderr",
     "output_type": "stream",
     "text": [
      "\n",
      " 70%|██████████████████████████           | 234/332 [3:15:15<1:31:00, 55.72s/it]"
     ]
    },
    {
     "name": "stdout",
     "output_type": "stream",
     "text": [
      "Saved.\n",
      "\n",
      "Subset No. 235\n",
      "Processing captions...\n",
      "Updating captions...\n"
     ]
    },
    {
     "name": "stderr",
     "output_type": "stream",
     "text": [
      "\n",
      "10000it [00:00, 1350605.06it/s]"
     ]
    },
    {
     "name": "stdout",
     "output_type": "stream",
     "text": [
      "\n",
      "\n",
      "***INFO***\n",
      "Captions Processed: 2350000\n",
      "Number of objects detected so far: 17942\n",
      "Saving..."
     ]
    },
    {
     "name": "stderr",
     "output_type": "stream",
     "text": [
      "\n",
      " 71%|██████████████████████████▏          | 235/332 [3:16:14<1:31:22, 56.52s/it]"
     ]
    },
    {
     "name": "stdout",
     "output_type": "stream",
     "text": [
      "Saved.\n",
      "\n",
      "Subset No. 236\n",
      "Processing captions...\n",
      "Updating captions...\n"
     ]
    },
    {
     "name": "stderr",
     "output_type": "stream",
     "text": [
      "\n",
      "10000it [00:00, 1348607.44it/s]"
     ]
    },
    {
     "name": "stdout",
     "output_type": "stream",
     "text": [
      "\n",
      "\n",
      "***INFO***\n",
      "Captions Processed: 2360000\n",
      "Number of objects detected so far: 17965\n",
      "Saving..."
     ]
    },
    {
     "name": "stderr",
     "output_type": "stream",
     "text": [
      "\n",
      " 71%|██████████████████████████▎          | 236/332 [3:17:09<1:29:57, 56.22s/it]"
     ]
    },
    {
     "name": "stdout",
     "output_type": "stream",
     "text": [
      "Saved.\n",
      "\n",
      "Subset No. 237\n",
      "Processing captions...\n",
      "Updating captions...\n"
     ]
    },
    {
     "name": "stderr",
     "output_type": "stream",
     "text": [
      "\n",
      "10000it [00:00, 1421701.58it/s]"
     ]
    },
    {
     "name": "stdout",
     "output_type": "stream",
     "text": [
      "\n",
      "\n",
      "***INFO***\n",
      "Captions Processed: 2370000\n",
      "Number of objects detected so far: 17984\n",
      "Saving..."
     ]
    },
    {
     "name": "stderr",
     "output_type": "stream",
     "text": [
      "\n",
      " 71%|██████████████████████████▍          | 237/332 [3:18:06<1:29:07, 56.29s/it]"
     ]
    },
    {
     "name": "stdout",
     "output_type": "stream",
     "text": [
      "Saved.\n",
      "\n",
      "Subset No. 238\n",
      "Processing captions...\n",
      "Updating captions...\n"
     ]
    },
    {
     "name": "stderr",
     "output_type": "stream",
     "text": [
      "\n",
      "10000it [00:00, 1433705.01it/s]"
     ]
    },
    {
     "name": "stdout",
     "output_type": "stream",
     "text": [
      "\n",
      "\n",
      "***INFO***\n",
      "Captions Processed: 2380000\n",
      "Number of objects detected so far: 18011\n",
      "Saving..."
     ]
    },
    {
     "name": "stderr",
     "output_type": "stream",
     "text": [
      "\n",
      " 72%|██████████████████████████▌          | 238/332 [3:19:02<1:28:02, 56.19s/it]"
     ]
    },
    {
     "name": "stdout",
     "output_type": "stream",
     "text": [
      "Saved.\n",
      "\n",
      "Subset No. 239\n",
      "Processing captions...\n",
      "Updating captions...\n"
     ]
    },
    {
     "name": "stderr",
     "output_type": "stream",
     "text": [
      "\n",
      "10000it [00:00, 1361477.59it/s]"
     ]
    },
    {
     "name": "stdout",
     "output_type": "stream",
     "text": [
      "\n",
      "\n",
      "***INFO***\n",
      "Captions Processed: 2390000\n",
      "Number of objects detected so far: 18036\n",
      "Saving..."
     ]
    },
    {
     "name": "stderr",
     "output_type": "stream",
     "text": [
      "\n",
      " 72%|██████████████████████████▋          | 239/332 [3:20:00<1:27:56, 56.73s/it]"
     ]
    },
    {
     "name": "stdout",
     "output_type": "stream",
     "text": [
      "Saved.\n",
      "\n",
      "Subset No. 240\n",
      "Processing captions...\n",
      "Updating captions...\n"
     ]
    },
    {
     "name": "stderr",
     "output_type": "stream",
     "text": [
      "\n",
      "10000it [00:00, 1336702.15it/s]"
     ]
    },
    {
     "name": "stdout",
     "output_type": "stream",
     "text": [
      "\n",
      "\n",
      "***INFO***\n",
      "Captions Processed: 2400000\n",
      "Number of objects detected so far: 18060\n",
      "Saving..."
     ]
    },
    {
     "name": "stderr",
     "output_type": "stream",
     "text": [
      "\n",
      " 72%|██████████████████████████▋          | 240/332 [3:20:56<1:26:50, 56.64s/it]"
     ]
    },
    {
     "name": "stdout",
     "output_type": "stream",
     "text": [
      "Saved.\n",
      "\n",
      "Subset No. 241\n",
      "Processing captions...\n",
      "Updating captions...\n"
     ]
    },
    {
     "name": "stderr",
     "output_type": "stream",
     "text": [
      "\n",
      "10000it [00:00, 1405692.07it/s]"
     ]
    },
    {
     "name": "stdout",
     "output_type": "stream",
     "text": [
      "\n",
      "\n",
      "***INFO***\n",
      "Captions Processed: 2410000\n",
      "Number of objects detected so far: 18077\n",
      "Saving..."
     ]
    },
    {
     "name": "stderr",
     "output_type": "stream",
     "text": [
      "\n",
      " 73%|██████████████████████████▊          | 241/332 [3:21:51<1:25:19, 56.26s/it]"
     ]
    },
    {
     "name": "stdout",
     "output_type": "stream",
     "text": [
      "Saved.\n",
      "\n",
      "Subset No. 242\n",
      "Processing captions...\n",
      "Updating captions...\n"
     ]
    },
    {
     "name": "stderr",
     "output_type": "stream",
     "text": [
      "\n",
      "10000it [00:00, 1413794.45it/s]"
     ]
    },
    {
     "name": "stdout",
     "output_type": "stream",
     "text": [
      "\n",
      "\n",
      "***INFO***\n",
      "Captions Processed: 2420000\n",
      "Number of objects detected so far: 18102\n",
      "Saving..."
     ]
    },
    {
     "name": "stderr",
     "output_type": "stream",
     "text": [
      "\n",
      " 73%|██████████████████████████▉          | 242/332 [3:22:46<1:23:48, 55.87s/it]"
     ]
    },
    {
     "name": "stdout",
     "output_type": "stream",
     "text": [
      "Saved.\n",
      "\n",
      "Subset No. 243\n",
      "Processing captions...\n",
      "Updating captions...\n"
     ]
    },
    {
     "name": "stderr",
     "output_type": "stream",
     "text": [
      "\n",
      "10000it [00:00, 1426536.97it/s]"
     ]
    },
    {
     "name": "stdout",
     "output_type": "stream",
     "text": [
      "\n",
      "\n",
      "***INFO***\n",
      "Captions Processed: 2430000\n",
      "Number of objects detected so far: 18126\n",
      "Saving..."
     ]
    },
    {
     "name": "stderr",
     "output_type": "stream",
     "text": [
      "\n",
      " 73%|███████████████████████████          | 243/332 [3:23:42<1:22:50, 55.85s/it]"
     ]
    },
    {
     "name": "stdout",
     "output_type": "stream",
     "text": [
      "Saved.\n",
      "\n",
      "Subset No. 244\n",
      "Processing captions...\n",
      "Updating captions...\n"
     ]
    },
    {
     "name": "stderr",
     "output_type": "stream",
     "text": [
      "\n",
      "10000it [00:00, 1403716.20it/s]"
     ]
    },
    {
     "name": "stdout",
     "output_type": "stream",
     "text": [
      "\n",
      "\n",
      "***INFO***\n",
      "Captions Processed: 2440000\n",
      "Number of objects detected so far: 18151\n",
      "Saving..."
     ]
    },
    {
     "name": "stderr",
     "output_type": "stream",
     "text": [
      "\n",
      " 73%|███████████████████████████▏         | 244/332 [3:24:41<1:23:06, 56.66s/it]"
     ]
    },
    {
     "name": "stdout",
     "output_type": "stream",
     "text": [
      "Saved.\n",
      "\n",
      "Subset No. 245\n",
      "Processing captions...\n",
      "Updating captions...\n"
     ]
    },
    {
     "name": "stderr",
     "output_type": "stream",
     "text": [
      "\n",
      "10000it [00:00, 1388888.37it/s]"
     ]
    },
    {
     "name": "stdout",
     "output_type": "stream",
     "text": [
      "\n",
      "\n",
      "***INFO***\n",
      "Captions Processed: 2450000\n",
      "Number of objects detected so far: 18175\n",
      "Saving..."
     ]
    },
    {
     "name": "stderr",
     "output_type": "stream",
     "text": [
      "\n",
      " 74%|███████████████████████████▎         | 245/332 [3:25:38<1:22:23, 56.82s/it]"
     ]
    },
    {
     "name": "stdout",
     "output_type": "stream",
     "text": [
      "Saved.\n",
      "\n",
      "Subset No. 246\n",
      "Processing captions...\n",
      "Updating captions...\n"
     ]
    },
    {
     "name": "stderr",
     "output_type": "stream",
     "text": [
      "\n",
      "10000it [00:00, 1420209.26it/s]"
     ]
    },
    {
     "name": "stdout",
     "output_type": "stream",
     "text": [
      "\n",
      "\n",
      "***INFO***\n",
      "Captions Processed: 2460000\n",
      "Number of objects detected so far: 18198\n",
      "Saving..."
     ]
    },
    {
     "name": "stderr",
     "output_type": "stream",
     "text": [
      "\n",
      " 74%|███████████████████████████▍         | 246/332 [3:26:35<1:21:23, 56.79s/it]"
     ]
    },
    {
     "name": "stdout",
     "output_type": "stream",
     "text": [
      "Saved.\n",
      "\n",
      "Subset No. 247\n",
      "Processing captions...\n",
      "Updating captions...\n"
     ]
    },
    {
     "name": "stderr",
     "output_type": "stream",
     "text": [
      "\n",
      "10000it [00:00, 1456608.44it/s]"
     ]
    },
    {
     "name": "stdout",
     "output_type": "stream",
     "text": [
      "\n",
      "\n",
      "***INFO***\n",
      "Captions Processed: 2470000\n",
      "Number of objects detected so far: 18215\n",
      "Saving..."
     ]
    },
    {
     "name": "stderr",
     "output_type": "stream",
     "text": [
      "\n",
      " 74%|███████████████████████████▌         | 247/332 [3:27:31<1:20:15, 56.65s/it]"
     ]
    },
    {
     "name": "stdout",
     "output_type": "stream",
     "text": [
      "Saved.\n",
      "\n",
      "Subset No. 248\n",
      "Processing captions...\n",
      "Updating captions...\n"
     ]
    },
    {
     "name": "stderr",
     "output_type": "stream",
     "text": [
      "\n",
      "10000it [00:00, 1434538.61it/s]"
     ]
    },
    {
     "name": "stdout",
     "output_type": "stream",
     "text": [
      "\n",
      "\n",
      "***INFO***\n",
      "Captions Processed: 2480000\n",
      "Number of objects detected so far: 18243\n",
      "Saving..."
     ]
    },
    {
     "name": "stderr",
     "output_type": "stream",
     "text": [
      "\n",
      " 75%|███████████████████████████▋         | 248/332 [3:28:28<1:19:35, 56.85s/it]"
     ]
    },
    {
     "name": "stdout",
     "output_type": "stream",
     "text": [
      "Saved.\n",
      "\n",
      "Subset No. 249\n",
      "Processing captions...\n",
      "Updating captions...\n"
     ]
    },
    {
     "name": "stderr",
     "output_type": "stream",
     "text": [
      "\n",
      "10000it [00:00, 1411415.69it/s]"
     ]
    },
    {
     "name": "stdout",
     "output_type": "stream",
     "text": [
      "\n",
      "\n",
      "***INFO***\n",
      "Captions Processed: 2490000\n",
      "Number of objects detected so far: 18264\n",
      "Saving..."
     ]
    },
    {
     "name": "stderr",
     "output_type": "stream",
     "text": [
      "\n",
      " 75%|███████████████████████████▊         | 249/332 [3:29:25<1:18:40, 56.87s/it]"
     ]
    },
    {
     "name": "stdout",
     "output_type": "stream",
     "text": [
      "Saved.\n",
      "\n",
      "Subset No. 250\n",
      "Processing captions...\n",
      "Updating captions...\n"
     ]
    },
    {
     "name": "stderr",
     "output_type": "stream",
     "text": [
      "\n",
      "10000it [00:00, 1399921.23it/s]"
     ]
    },
    {
     "name": "stdout",
     "output_type": "stream",
     "text": [
      "\n",
      "\n",
      "***INFO***\n",
      "Captions Processed: 2500000\n",
      "Number of objects detected so far: 18288\n",
      "Saving..."
     ]
    },
    {
     "name": "stderr",
     "output_type": "stream",
     "text": [
      "\n",
      " 75%|███████████████████████████▊         | 250/332 [3:30:27<1:19:33, 58.21s/it]"
     ]
    },
    {
     "name": "stdout",
     "output_type": "stream",
     "text": [
      "Saved.\n",
      "\n",
      "Subset No. 251\n",
      "Processing captions...\n",
      "Updating captions...\n"
     ]
    },
    {
     "name": "stderr",
     "output_type": "stream",
     "text": [
      "\n",
      "10000it [00:00, 1273586.98it/s]"
     ]
    },
    {
     "name": "stdout",
     "output_type": "stream",
     "text": [
      "\n",
      "\n",
      "***INFO***\n",
      "Captions Processed: 2510000\n",
      "Number of objects detected so far: 18306\n",
      "Saving..."
     ]
    },
    {
     "name": "stderr",
     "output_type": "stream",
     "text": [
      "\n",
      " 76%|███████████████████████████▉         | 251/332 [3:31:26<1:18:59, 58.51s/it]"
     ]
    },
    {
     "name": "stdout",
     "output_type": "stream",
     "text": [
      "Saved.\n",
      "\n",
      "Subset No. 252\n",
      "Processing captions...\n",
      "Updating captions...\n"
     ]
    },
    {
     "name": "stderr",
     "output_type": "stream",
     "text": [
      "\n",
      "10000it [00:00, 1320499.95it/s]"
     ]
    },
    {
     "name": "stdout",
     "output_type": "stream",
     "text": [
      "\n",
      "\n",
      "***INFO***\n",
      "Captions Processed: 2520000\n",
      "Number of objects detected so far: 18331\n",
      "Saving..."
     ]
    },
    {
     "name": "stderr",
     "output_type": "stream",
     "text": [
      "\n",
      " 76%|████████████████████████████         | 252/332 [3:32:26<1:18:34, 58.93s/it]"
     ]
    },
    {
     "name": "stdout",
     "output_type": "stream",
     "text": [
      "Saved.\n",
      "\n",
      "Subset No. 253\n",
      "Processing captions...\n",
      "Updating captions...\n"
     ]
    },
    {
     "name": "stderr",
     "output_type": "stream",
     "text": [
      "\n",
      "10000it [00:00, 1311252.70it/s]"
     ]
    },
    {
     "name": "stdout",
     "output_type": "stream",
     "text": [
      "\n",
      "\n",
      "***INFO***\n",
      "Captions Processed: 2530000\n",
      "Number of objects detected so far: 18351\n",
      "Saving..."
     ]
    },
    {
     "name": "stderr",
     "output_type": "stream",
     "text": [
      "\n",
      " 76%|████████████████████████████▏        | 253/332 [3:33:25<1:17:54, 59.17s/it]"
     ]
    },
    {
     "name": "stdout",
     "output_type": "stream",
     "text": [
      "Saved.\n",
      "\n",
      "Subset No. 254\n",
      "Processing captions...\n",
      "Updating captions...\n"
     ]
    },
    {
     "name": "stderr",
     "output_type": "stream",
     "text": [
      "\n",
      "10000it [00:00, 1297702.42it/s]"
     ]
    },
    {
     "name": "stdout",
     "output_type": "stream",
     "text": [
      "\n",
      "\n",
      "***INFO***\n",
      "Captions Processed: 2540000\n",
      "Number of objects detected so far: 18379\n",
      "Saving..."
     ]
    },
    {
     "name": "stderr",
     "output_type": "stream",
     "text": [
      "\n",
      " 77%|████████████████████████████▎        | 254/332 [3:34:26<1:17:20, 59.49s/it]"
     ]
    },
    {
     "name": "stdout",
     "output_type": "stream",
     "text": [
      "Saved.\n",
      "\n",
      "Subset No. 255\n",
      "Processing captions...\n",
      "Updating captions...\n"
     ]
    },
    {
     "name": "stderr",
     "output_type": "stream",
     "text": [
      "\n",
      "10000it [00:00, 1329962.90it/s]"
     ]
    },
    {
     "name": "stdout",
     "output_type": "stream",
     "text": [
      "\n",
      "\n",
      "***INFO***\n",
      "Captions Processed: 2550000\n",
      "Number of objects detected so far: 18397\n",
      "Saving..."
     ]
    },
    {
     "name": "stderr",
     "output_type": "stream",
     "text": [
      "\n",
      " 77%|████████████████████████████▍        | 255/332 [3:35:25<1:16:20, 59.49s/it]"
     ]
    },
    {
     "name": "stdout",
     "output_type": "stream",
     "text": [
      "Saved.\n",
      "\n",
      "Subset No. 256\n",
      "Processing captions...\n",
      "Updating captions...\n"
     ]
    },
    {
     "name": "stderr",
     "output_type": "stream",
     "text": [
      "\n",
      "10000it [00:00, 1399781.07it/s]"
     ]
    },
    {
     "name": "stdout",
     "output_type": "stream",
     "text": [
      "\n",
      "\n",
      "***INFO***\n",
      "Captions Processed: 2560000\n",
      "Number of objects detected so far: 18424\n",
      "Saving..."
     ]
    },
    {
     "name": "stderr",
     "output_type": "stream",
     "text": [
      "\n",
      " 77%|████████████████████████████▌        | 256/332 [3:36:23<1:14:44, 59.00s/it]"
     ]
    },
    {
     "name": "stdout",
     "output_type": "stream",
     "text": [
      "Saved.\n",
      "\n",
      "Subset No. 257\n",
      "Processing captions...\n",
      "Updating captions...\n"
     ]
    },
    {
     "name": "stderr",
     "output_type": "stream",
     "text": [
      "\n",
      "10000it [00:00, 1437389.99it/s]"
     ]
    },
    {
     "name": "stdout",
     "output_type": "stream",
     "text": [
      "\n",
      "\n",
      "***INFO***\n",
      "Captions Processed: 2570000\n",
      "Number of objects detected so far: 18445\n",
      "Saving..."
     ]
    },
    {
     "name": "stderr",
     "output_type": "stream",
     "text": [
      "\n",
      " 77%|████████████████████████████▋        | 257/332 [3:37:21<1:13:25, 58.73s/it]"
     ]
    },
    {
     "name": "stdout",
     "output_type": "stream",
     "text": [
      "Saved.\n",
      "\n",
      "Subset No. 258\n",
      "Processing captions...\n",
      "Updating captions...\n"
     ]
    },
    {
     "name": "stderr",
     "output_type": "stream",
     "text": [
      "\n",
      "10000it [00:00, 1372122.48it/s]"
     ]
    },
    {
     "name": "stdout",
     "output_type": "stream",
     "text": [
      "\n",
      "\n",
      "***INFO***\n",
      "Captions Processed: 2580000\n",
      "Number of objects detected so far: 18476\n",
      "Saving..."
     ]
    },
    {
     "name": "stderr",
     "output_type": "stream",
     "text": [
      "\n",
      " 78%|████████████████████████████▊        | 258/332 [3:38:19<1:12:12, 58.54s/it]"
     ]
    },
    {
     "name": "stdout",
     "output_type": "stream",
     "text": [
      "Saved.\n",
      "\n",
      "Subset No. 259\n",
      "Processing captions...\n",
      "Updating captions...\n"
     ]
    },
    {
     "name": "stderr",
     "output_type": "stream",
     "text": [
      "\n",
      "10000it [00:00, 1410656.17it/s]"
     ]
    },
    {
     "name": "stdout",
     "output_type": "stream",
     "text": [
      "\n",
      "\n",
      "***INFO***\n",
      "Captions Processed: 2590000\n",
      "Number of objects detected so far: 18498\n",
      "Saving..."
     ]
    },
    {
     "name": "stderr",
     "output_type": "stream",
     "text": [
      "\n",
      " 78%|████████████████████████████▊        | 259/332 [3:39:17<1:10:55, 58.29s/it]"
     ]
    },
    {
     "name": "stdout",
     "output_type": "stream",
     "text": [
      "Saved.\n",
      "\n",
      "Subset No. 260\n",
      "Processing captions...\n",
      "Updating captions...\n"
     ]
    },
    {
     "name": "stderr",
     "output_type": "stream",
     "text": [
      "\n",
      "10000it [00:00, 1461939.35it/s]"
     ]
    },
    {
     "name": "stdout",
     "output_type": "stream",
     "text": [
      "\n",
      "\n",
      "***INFO***\n",
      "Captions Processed: 2600000\n",
      "Number of objects detected so far: 18522\n",
      "Saving..."
     ]
    },
    {
     "name": "stderr",
     "output_type": "stream",
     "text": [
      "\n",
      " 78%|████████████████████████████▉        | 260/332 [3:40:14<1:09:25, 57.86s/it]"
     ]
    },
    {
     "name": "stdout",
     "output_type": "stream",
     "text": [
      "Saved.\n",
      "\n",
      "Subset No. 261\n",
      "Processing captions...\n",
      "Updating captions...\n"
     ]
    },
    {
     "name": "stderr",
     "output_type": "stream",
     "text": [
      "\n",
      "10000it [00:00, 1461837.45it/s]"
     ]
    },
    {
     "name": "stdout",
     "output_type": "stream",
     "text": [
      "\n",
      "\n",
      "***INFO***\n",
      "Captions Processed: 2610000\n",
      "Number of objects detected so far: 18542\n",
      "Saving..."
     ]
    },
    {
     "name": "stderr",
     "output_type": "stream",
     "text": [
      "\n",
      " 79%|█████████████████████████████        | 261/332 [3:41:11<1:08:11, 57.62s/it]"
     ]
    },
    {
     "name": "stdout",
     "output_type": "stream",
     "text": [
      "Saved.\n",
      "\n",
      "Subset No. 262\n",
      "Processing captions...\n",
      "Updating captions...\n"
     ]
    },
    {
     "name": "stderr",
     "output_type": "stream",
     "text": [
      "\n",
      "10000it [00:00, 1442382.48it/s]"
     ]
    },
    {
     "name": "stdout",
     "output_type": "stream",
     "text": [
      "\n",
      "\n",
      "***INFO***\n",
      "Captions Processed: 2620000\n",
      "Number of objects detected so far: 18568\n",
      "Saving..."
     ]
    },
    {
     "name": "stderr",
     "output_type": "stream",
     "text": [
      "\n",
      " 79%|█████████████████████████████▏       | 262/332 [3:42:10<1:07:42, 58.03s/it]"
     ]
    },
    {
     "name": "stdout",
     "output_type": "stream",
     "text": [
      "Saved.\n",
      "\n",
      "Subset No. 263\n",
      "Processing captions...\n",
      "Updating captions...\n"
     ]
    },
    {
     "name": "stderr",
     "output_type": "stream",
     "text": [
      "\n",
      "10000it [00:00, 1408098.84it/s]"
     ]
    },
    {
     "name": "stdout",
     "output_type": "stream",
     "text": [
      "\n",
      "\n",
      "***INFO***\n",
      "Captions Processed: 2630000\n",
      "Number of objects detected so far: 18592\n",
      "Saving..."
     ]
    },
    {
     "name": "stderr",
     "output_type": "stream",
     "text": [
      "\n",
      " 79%|█████████████████████████████▎       | 263/332 [3:43:08<1:06:45, 58.06s/it]"
     ]
    },
    {
     "name": "stdout",
     "output_type": "stream",
     "text": [
      "Saved.\n",
      "\n",
      "Subset No. 264\n",
      "Processing captions...\n",
      "Updating captions...\n"
     ]
    },
    {
     "name": "stderr",
     "output_type": "stream",
     "text": [
      "\n",
      "10000it [00:00, 1382388.19it/s]"
     ]
    },
    {
     "name": "stdout",
     "output_type": "stream",
     "text": [
      "\n",
      "\n",
      "***INFO***\n",
      "Captions Processed: 2640000\n",
      "Number of objects detected so far: 18616\n",
      "Saving..."
     ]
    },
    {
     "name": "stderr",
     "output_type": "stream",
     "text": [
      "\n",
      " 80%|█████████████████████████████▍       | 264/332 [3:44:07<1:06:03, 58.29s/it]"
     ]
    },
    {
     "name": "stdout",
     "output_type": "stream",
     "text": [
      "Saved.\n",
      "\n",
      "Subset No. 265\n",
      "Processing captions...\n",
      "Updating captions...\n"
     ]
    },
    {
     "name": "stderr",
     "output_type": "stream",
     "text": [
      "\n",
      "10000it [00:00, 1436159.56it/s]"
     ]
    },
    {
     "name": "stdout",
     "output_type": "stream",
     "text": [
      "\n",
      "\n",
      "***INFO***\n",
      "Captions Processed: 2650000\n",
      "Number of objects detected so far: 18627\n",
      "Saving..."
     ]
    },
    {
     "name": "stderr",
     "output_type": "stream",
     "text": [
      "\n",
      " 80%|█████████████████████████████▌       | 265/332 [3:45:06<1:05:19, 58.49s/it]"
     ]
    },
    {
     "name": "stdout",
     "output_type": "stream",
     "text": [
      "Saved.\n",
      "\n",
      "Subset No. 266\n",
      "Processing captions...\n",
      "Updating captions...\n"
     ]
    },
    {
     "name": "stderr",
     "output_type": "stream",
     "text": [
      "\n",
      "10000it [00:00, 1244083.76it/s]"
     ]
    },
    {
     "name": "stdout",
     "output_type": "stream",
     "text": [
      "\n",
      "\n",
      "***INFO***\n",
      "Captions Processed: 2660000\n",
      "Number of objects detected so far: 18648\n",
      "Saving..."
     ]
    },
    {
     "name": "stderr",
     "output_type": "stream",
     "text": [
      "\n",
      " 80%|█████████████████████████████▋       | 266/332 [3:46:07<1:05:13, 59.29s/it]"
     ]
    },
    {
     "name": "stdout",
     "output_type": "stream",
     "text": [
      "Saved.\n",
      "\n",
      "Subset No. 267\n",
      "Processing captions...\n",
      "Updating captions...\n"
     ]
    },
    {
     "name": "stderr",
     "output_type": "stream",
     "text": [
      "\n",
      "10000it [00:00, 1350039.91it/s]"
     ]
    },
    {
     "name": "stdout",
     "output_type": "stream",
     "text": [
      "\n",
      "\n",
      "***INFO***\n",
      "Captions Processed: 2670000\n",
      "Number of objects detected so far: 18672\n",
      "Saving..."
     ]
    },
    {
     "name": "stderr",
     "output_type": "stream",
     "text": [
      "\n",
      " 80%|█████████████████████████████▊       | 267/332 [3:47:06<1:04:10, 59.24s/it]"
     ]
    },
    {
     "name": "stdout",
     "output_type": "stream",
     "text": [
      "Saved.\n",
      "\n",
      "Subset No. 268\n",
      "Processing captions...\n",
      "Updating captions...\n"
     ]
    },
    {
     "name": "stderr",
     "output_type": "stream",
     "text": [
      "\n",
      "10000it [00:00, 1378571.57it/s]"
     ]
    },
    {
     "name": "stdout",
     "output_type": "stream",
     "text": [
      "\n",
      "\n",
      "***INFO***\n",
      "Captions Processed: 2680000\n",
      "Number of objects detected so far: 18700\n",
      "Saving..."
     ]
    },
    {
     "name": "stderr",
     "output_type": "stream",
     "text": [
      "\n",
      " 81%|█████████████████████████████▊       | 268/332 [3:48:06<1:03:35, 59.61s/it]"
     ]
    },
    {
     "name": "stdout",
     "output_type": "stream",
     "text": [
      "Saved.\n",
      "\n",
      "Subset No. 269\n",
      "Processing captions...\n",
      "Updating captions...\n"
     ]
    },
    {
     "name": "stderr",
     "output_type": "stream",
     "text": [
      "\n",
      "10000it [00:00, 1274360.89it/s]"
     ]
    },
    {
     "name": "stdout",
     "output_type": "stream",
     "text": [
      "\n",
      "\n",
      "***INFO***\n",
      "Captions Processed: 2690000\n",
      "Number of objects detected so far: 18724\n",
      "Saving..."
     ]
    },
    {
     "name": "stderr",
     "output_type": "stream",
     "text": [
      "\n",
      " 81%|█████████████████████████████▉       | 269/332 [3:49:06<1:02:37, 59.64s/it]"
     ]
    },
    {
     "name": "stdout",
     "output_type": "stream",
     "text": [
      "Saved.\n",
      "\n",
      "Subset No. 270\n",
      "Processing captions...\n",
      "Updating captions...\n"
     ]
    },
    {
     "name": "stderr",
     "output_type": "stream",
     "text": [
      "\n",
      "10000it [00:00, 1482977.05it/s]"
     ]
    },
    {
     "name": "stdout",
     "output_type": "stream",
     "text": [
      "\n",
      "\n",
      "***INFO***\n",
      "Captions Processed: 2700000\n",
      "Number of objects detected so far: 18746\n",
      "Saving..."
     ]
    },
    {
     "name": "stderr",
     "output_type": "stream",
     "text": [
      "\n",
      " 81%|██████████████████████████████       | 270/332 [3:50:05<1:01:20, 59.37s/it]"
     ]
    },
    {
     "name": "stdout",
     "output_type": "stream",
     "text": [
      "Saved.\n",
      "\n",
      "Subset No. 271\n",
      "Processing captions...\n",
      "Updating captions...\n"
     ]
    },
    {
     "name": "stderr",
     "output_type": "stream",
     "text": [
      "\n",
      "10000it [00:00, 1414271.17it/s]"
     ]
    },
    {
     "name": "stdout",
     "output_type": "stream",
     "text": [
      "\n",
      "\n",
      "***INFO***\n",
      "Captions Processed: 2710000\n",
      "Number of objects detected so far: 18775\n",
      "Saving..."
     ]
    },
    {
     "name": "stderr",
     "output_type": "stream",
     "text": [
      "\n",
      " 82%|███████████████████████████████▊       | 271/332 [3:51:03<59:59, 59.01s/it]"
     ]
    },
    {
     "name": "stdout",
     "output_type": "stream",
     "text": [
      "Saved.\n",
      "\n",
      "Subset No. 272\n",
      "Processing captions...\n",
      "Updating captions...\n"
     ]
    },
    {
     "name": "stderr",
     "output_type": "stream",
     "text": [
      "\n",
      "10000it [00:00, 1480412.25it/s]"
     ]
    },
    {
     "name": "stdout",
     "output_type": "stream",
     "text": [
      "\n",
      "\n",
      "***INFO***\n",
      "Captions Processed: 2720000\n",
      "Number of objects detected so far: 18801\n",
      "Saving..."
     ]
    },
    {
     "name": "stderr",
     "output_type": "stream",
     "text": [
      "\n",
      " 82%|███████████████████████████████▉       | 272/332 [3:52:01<58:42, 58.70s/it]"
     ]
    },
    {
     "name": "stdout",
     "output_type": "stream",
     "text": [
      "Saved.\n",
      "\n",
      "Subset No. 273\n",
      "Processing captions...\n",
      "Updating captions...\n"
     ]
    },
    {
     "name": "stderr",
     "output_type": "stream",
     "text": [
      "\n",
      "10000it [00:00, 1441391.11it/s]"
     ]
    },
    {
     "name": "stdout",
     "output_type": "stream",
     "text": [
      "\n",
      "\n",
      "***INFO***\n",
      "Captions Processed: 2730000\n",
      "Number of objects detected so far: 18825\n",
      "Saving..."
     ]
    },
    {
     "name": "stderr",
     "output_type": "stream",
     "text": [
      "\n",
      " 82%|████████████████████████████████       | 273/332 [3:53:00<57:45, 58.74s/it]"
     ]
    },
    {
     "name": "stdout",
     "output_type": "stream",
     "text": [
      "Saved.\n",
      "\n",
      "Subset No. 274\n",
      "Processing captions...\n",
      "Updating captions...\n"
     ]
    },
    {
     "name": "stderr",
     "output_type": "stream",
     "text": [
      "\n",
      "10000it [00:00, 1440747.46it/s]"
     ]
    },
    {
     "name": "stdout",
     "output_type": "stream",
     "text": [
      "\n",
      "\n",
      "***INFO***\n",
      "Captions Processed: 2740000\n",
      "Number of objects detected so far: 18842\n",
      "Saving..."
     ]
    },
    {
     "name": "stderr",
     "output_type": "stream",
     "text": [
      "\n",
      " 83%|████████████████████████████████▏      | 274/332 [3:53:58<56:41, 58.64s/it]"
     ]
    },
    {
     "name": "stdout",
     "output_type": "stream",
     "text": [
      "Saved.\n",
      "\n",
      "Subset No. 275\n",
      "Processing captions...\n",
      "Updating captions...\n"
     ]
    },
    {
     "name": "stderr",
     "output_type": "stream",
     "text": [
      "\n",
      "10000it [00:00, 1399967.96it/s]"
     ]
    },
    {
     "name": "stdout",
     "output_type": "stream",
     "text": [
      "\n",
      "\n",
      "***INFO***\n",
      "Captions Processed: 2750000\n",
      "Number of objects detected so far: 18862\n",
      "Saving..."
     ]
    },
    {
     "name": "stderr",
     "output_type": "stream",
     "text": [
      "\n",
      " 83%|████████████████████████████████▎      | 275/332 [3:54:57<55:48, 58.75s/it]"
     ]
    },
    {
     "name": "stdout",
     "output_type": "stream",
     "text": [
      "Saved.\n",
      "\n",
      "Subset No. 276\n",
      "Processing captions...\n",
      "Updating captions...\n"
     ]
    },
    {
     "name": "stderr",
     "output_type": "stream",
     "text": [
      "\n",
      "10000it [00:00, 1453932.33it/s]"
     ]
    },
    {
     "name": "stdout",
     "output_type": "stream",
     "text": [
      "\n",
      "\n",
      "***INFO***\n",
      "Captions Processed: 2760000\n",
      "Number of objects detected so far: 18876\n",
      "Saving..."
     ]
    },
    {
     "name": "stderr",
     "output_type": "stream",
     "text": [
      "\n",
      " 83%|████████████████████████████████▍      | 276/332 [3:55:56<54:49, 58.74s/it]"
     ]
    },
    {
     "name": "stdout",
     "output_type": "stream",
     "text": [
      "Saved.\n",
      "\n",
      "Subset No. 277\n",
      "Processing captions...\n",
      "Updating captions...\n"
     ]
    },
    {
     "name": "stderr",
     "output_type": "stream",
     "text": [
      "\n",
      "10000it [00:00, 1332455.68it/s]"
     ]
    },
    {
     "name": "stdout",
     "output_type": "stream",
     "text": [
      "\n",
      "\n",
      "***INFO***\n",
      "Captions Processed: 2770000\n",
      "Number of objects detected so far: 18901\n",
      "Saving..."
     ]
    },
    {
     "name": "stderr",
     "output_type": "stream",
     "text": [
      "\n",
      " 83%|████████████████████████████████▌      | 277/332 [3:56:57<54:33, 59.52s/it]"
     ]
    },
    {
     "name": "stdout",
     "output_type": "stream",
     "text": [
      "Saved.\n",
      "\n",
      "Subset No. 278\n",
      "Processing captions...\n",
      "Updating captions...\n"
     ]
    },
    {
     "name": "stderr",
     "output_type": "stream",
     "text": [
      "\n",
      "10000it [00:00, 1310064.97it/s]"
     ]
    },
    {
     "name": "stdout",
     "output_type": "stream",
     "text": [
      "\n",
      "\n",
      "***INFO***\n",
      "Captions Processed: 2780000\n",
      "Number of objects detected so far: 18919\n",
      "Saving..."
     ]
    },
    {
     "name": "stderr",
     "output_type": "stream",
     "text": [
      "\n",
      " 84%|████████████████████████████████▋      | 278/332 [3:57:58<53:54, 59.90s/it]"
     ]
    },
    {
     "name": "stdout",
     "output_type": "stream",
     "text": [
      "Saved.\n",
      "\n",
      "Subset No. 279\n",
      "Processing captions...\n",
      "Updating captions...\n"
     ]
    },
    {
     "name": "stderr",
     "output_type": "stream",
     "text": [
      "\n",
      "10000it [00:00, 1302578.88it/s]"
     ]
    },
    {
     "name": "stdout",
     "output_type": "stream",
     "text": [
      "\n",
      "\n",
      "***INFO***\n",
      "Captions Processed: 2790000\n",
      "Number of objects detected so far: 18940\n",
      "Saving..."
     ]
    },
    {
     "name": "stderr",
     "output_type": "stream",
     "text": [
      "\n",
      " 84%|████████████████████████████████▊      | 279/332 [3:58:59<53:02, 60.06s/it]"
     ]
    },
    {
     "name": "stdout",
     "output_type": "stream",
     "text": [
      "Saved.\n",
      "\n",
      "Subset No. 280\n",
      "Processing captions...\n",
      "Updating captions...\n"
     ]
    },
    {
     "name": "stderr",
     "output_type": "stream",
     "text": [
      "\n",
      "10000it [00:00, 1393919.57it/s]"
     ]
    },
    {
     "name": "stdout",
     "output_type": "stream",
     "text": [
      "\n",
      "\n",
      "***INFO***\n",
      "Captions Processed: 2800000\n",
      "Number of objects detected so far: 18965\n",
      "Saving..."
     ]
    },
    {
     "name": "stderr",
     "output_type": "stream",
     "text": [
      "\n",
      " 84%|████████████████████████████████▉      | 280/332 [3:59:59<52:10, 60.20s/it]"
     ]
    },
    {
     "name": "stdout",
     "output_type": "stream",
     "text": [
      "Saved.\n",
      "\n",
      "Subset No. 281\n",
      "Processing captions...\n",
      "Updating captions...\n"
     ]
    },
    {
     "name": "stderr",
     "output_type": "stream",
     "text": [
      "\n",
      "10000it [00:00, 1418048.55it/s]"
     ]
    },
    {
     "name": "stdout",
     "output_type": "stream",
     "text": [
      "\n",
      "\n",
      "***INFO***\n",
      "Captions Processed: 2810000\n",
      "Number of objects detected so far: 18988\n",
      "Saving..."
     ]
    },
    {
     "name": "stderr",
     "output_type": "stream",
     "text": [
      "\n",
      " 85%|█████████████████████████████████      | 281/332 [4:00:58<50:50, 59.81s/it]"
     ]
    },
    {
     "name": "stdout",
     "output_type": "stream",
     "text": [
      "Saved.\n",
      "\n",
      "Subset No. 282\n",
      "Processing captions...\n",
      "Updating captions...\n"
     ]
    },
    {
     "name": "stderr",
     "output_type": "stream",
     "text": [
      "\n",
      "10000it [00:00, 1289999.38it/s]"
     ]
    },
    {
     "name": "stdout",
     "output_type": "stream",
     "text": [
      "\n",
      "\n",
      "***INFO***\n",
      "Captions Processed: 2820000\n",
      "Number of objects detected so far: 19010\n",
      "Saving..."
     ]
    },
    {
     "name": "stderr",
     "output_type": "stream",
     "text": [
      "\n",
      " 85%|█████████████████████████████████▏     | 282/332 [4:01:59<50:01, 60.03s/it]"
     ]
    },
    {
     "name": "stdout",
     "output_type": "stream",
     "text": [
      "Saved.\n",
      "\n",
      "Subset No. 283\n",
      "Processing captions...\n",
      "Updating captions...\n"
     ]
    },
    {
     "name": "stderr",
     "output_type": "stream",
     "text": [
      "\n",
      "10000it [00:00, 1450312.59it/s]"
     ]
    },
    {
     "name": "stdout",
     "output_type": "stream",
     "text": [
      "\n",
      "\n",
      "***INFO***\n",
      "Captions Processed: 2830000\n",
      "Number of objects detected so far: 19035\n",
      "Saving..."
     ]
    },
    {
     "name": "stderr",
     "output_type": "stream",
     "text": [
      "\n",
      " 85%|█████████████████████████████████▏     | 283/332 [4:02:59<49:08, 60.18s/it]"
     ]
    },
    {
     "name": "stdout",
     "output_type": "stream",
     "text": [
      "Saved.\n",
      "\n",
      "Subset No. 284\n",
      "Processing captions...\n",
      "Updating captions...\n"
     ]
    },
    {
     "name": "stderr",
     "output_type": "stream",
     "text": [
      "\n",
      "10000it [00:00, 1469262.62it/s]"
     ]
    },
    {
     "name": "stdout",
     "output_type": "stream",
     "text": [
      "\n",
      "\n",
      "***INFO***\n",
      "Captions Processed: 2840000\n",
      "Number of objects detected so far: 19059\n",
      "Saving..."
     ]
    },
    {
     "name": "stderr",
     "output_type": "stream",
     "text": [
      "\n",
      " 86%|█████████████████████████████████▎     | 284/332 [4:03:58<47:48, 59.76s/it]"
     ]
    },
    {
     "name": "stdout",
     "output_type": "stream",
     "text": [
      "Saved.\n",
      "\n",
      "Subset No. 285\n",
      "Processing captions...\n",
      "Updating captions...\n"
     ]
    },
    {
     "name": "stderr",
     "output_type": "stream",
     "text": [
      "\n",
      "10000it [00:00, 1215176.73it/s]"
     ]
    },
    {
     "name": "stdout",
     "output_type": "stream",
     "text": [
      "\n",
      "\n",
      "***INFO***\n",
      "Captions Processed: 2850000\n",
      "Number of objects detected so far: 19083\n",
      "Saving..."
     ]
    },
    {
     "name": "stderr",
     "output_type": "stream",
     "text": [
      "\n",
      " 86%|█████████████████████████████████▍     | 285/332 [4:04:57<46:43, 59.66s/it]"
     ]
    },
    {
     "name": "stdout",
     "output_type": "stream",
     "text": [
      "Saved.\n",
      "\n",
      "Subset No. 286\n",
      "Processing captions...\n",
      "Updating captions...\n"
     ]
    },
    {
     "name": "stderr",
     "output_type": "stream",
     "text": [
      "\n",
      "10000it [00:00, 1269885.25it/s]"
     ]
    },
    {
     "name": "stdout",
     "output_type": "stream",
     "text": [
      "\n",
      "\n",
      "***INFO***\n",
      "Captions Processed: 2860000\n",
      "Number of objects detected so far: 19101\n",
      "Saving..."
     ]
    },
    {
     "name": "stderr",
     "output_type": "stream",
     "text": [
      "\n",
      " 86%|█████████████████████████████████▌     | 286/332 [4:05:58<45:59, 60.00s/it]"
     ]
    },
    {
     "name": "stdout",
     "output_type": "stream",
     "text": [
      "Saved.\n",
      "\n",
      "Subset No. 287\n",
      "Processing captions...\n",
      "Updating captions...\n"
     ]
    },
    {
     "name": "stderr",
     "output_type": "stream",
     "text": [
      "\n",
      "10000it [00:00, 1285177.11it/s]"
     ]
    },
    {
     "name": "stdout",
     "output_type": "stream",
     "text": [
      "\n",
      "\n",
      "***INFO***\n",
      "Captions Processed: 2870000\n",
      "Number of objects detected so far: 19121\n",
      "Saving..."
     ]
    },
    {
     "name": "stderr",
     "output_type": "stream",
     "text": [
      "\n",
      " 86%|█████████████████████████████████▋     | 287/332 [4:06:57<44:49, 59.77s/it]"
     ]
    },
    {
     "name": "stdout",
     "output_type": "stream",
     "text": [
      "Saved.\n",
      "\n",
      "Subset No. 288\n",
      "Processing captions...\n",
      "Updating captions...\n"
     ]
    },
    {
     "name": "stderr",
     "output_type": "stream",
     "text": [
      "\n",
      "10000it [00:00, 1424695.65it/s]"
     ]
    },
    {
     "name": "stdout",
     "output_type": "stream",
     "text": [
      "\n",
      "\n",
      "***INFO***\n",
      "Captions Processed: 2880000\n",
      "Number of objects detected so far: 19142\n",
      "Saving..."
     ]
    },
    {
     "name": "stderr",
     "output_type": "stream",
     "text": [
      "\n",
      " 87%|█████████████████████████████████▊     | 288/332 [4:07:58<43:57, 59.93s/it]"
     ]
    },
    {
     "name": "stdout",
     "output_type": "stream",
     "text": [
      "Saved.\n",
      "\n",
      "Subset No. 289\n",
      "Processing captions...\n",
      "Updating captions...\n"
     ]
    },
    {
     "name": "stderr",
     "output_type": "stream",
     "text": [
      "\n",
      "10000it [00:00, 1271270.88it/s]"
     ]
    },
    {
     "name": "stdout",
     "output_type": "stream",
     "text": [
      "\n",
      "\n",
      "***INFO***\n",
      "Captions Processed: 2890000\n",
      "Number of objects detected so far: 19163\n",
      "Saving..."
     ]
    },
    {
     "name": "stderr",
     "output_type": "stream",
     "text": [
      "\n",
      " 87%|█████████████████████████████████▉     | 289/332 [4:08:58<43:07, 60.18s/it]"
     ]
    },
    {
     "name": "stdout",
     "output_type": "stream",
     "text": [
      "Saved.\n",
      "\n",
      "Subset No. 290\n",
      "Processing captions...\n",
      "Updating captions...\n"
     ]
    },
    {
     "name": "stderr",
     "output_type": "stream",
     "text": [
      "\n",
      "10000it [00:00, 1452069.93it/s]"
     ]
    },
    {
     "name": "stdout",
     "output_type": "stream",
     "text": [
      "\n",
      "\n",
      "***INFO***\n",
      "Captions Processed: 2900000\n",
      "Number of objects detected so far: 19197\n",
      "Saving..."
     ]
    },
    {
     "name": "stderr",
     "output_type": "stream",
     "text": [
      "\n",
      " 87%|██████████████████████████████████     | 290/332 [4:09:59<42:12, 60.31s/it]"
     ]
    },
    {
     "name": "stdout",
     "output_type": "stream",
     "text": [
      "Saved.\n",
      "\n",
      "Subset No. 291\n",
      "Processing captions...\n",
      "Updating captions...\n"
     ]
    },
    {
     "name": "stderr",
     "output_type": "stream",
     "text": [
      "\n",
      "10000it [00:00, 1460056.39it/s]"
     ]
    },
    {
     "name": "stdout",
     "output_type": "stream",
     "text": [
      "\n",
      "\n",
      "***INFO***\n",
      "Captions Processed: 2910000\n",
      "Number of objects detected so far: 19224\n",
      "Saving..."
     ]
    },
    {
     "name": "stderr",
     "output_type": "stream",
     "text": [
      "\n",
      " 88%|██████████████████████████████████▏    | 291/332 [4:10:59<41:13, 60.34s/it]"
     ]
    },
    {
     "name": "stdout",
     "output_type": "stream",
     "text": [
      "Saved.\n",
      "\n",
      "Subset No. 292\n",
      "Processing captions...\n",
      "Updating captions...\n"
     ]
    },
    {
     "name": "stderr",
     "output_type": "stream",
     "text": [
      "\n",
      "10000it [00:00, 1438030.65it/s]"
     ]
    },
    {
     "name": "stdout",
     "output_type": "stream",
     "text": [
      "\n",
      "\n",
      "***INFO***\n",
      "Captions Processed: 2920000\n",
      "Number of objects detected so far: 19238\n",
      "Saving..."
     ]
    },
    {
     "name": "stderr",
     "output_type": "stream",
     "text": [
      "\n",
      " 88%|██████████████████████████████████▎    | 292/332 [4:11:58<39:49, 59.75s/it]"
     ]
    },
    {
     "name": "stdout",
     "output_type": "stream",
     "text": [
      "Saved.\n",
      "\n",
      "Subset No. 293\n",
      "Processing captions...\n",
      "Updating captions...\n"
     ]
    },
    {
     "name": "stderr",
     "output_type": "stream",
     "text": [
      "\n",
      "10000it [00:00, 1469468.52it/s]"
     ]
    },
    {
     "name": "stdout",
     "output_type": "stream",
     "text": [
      "\n",
      "\n",
      "***INFO***\n",
      "Captions Processed: 2930000\n",
      "Number of objects detected so far: 19255\n",
      "Saving..."
     ]
    },
    {
     "name": "stderr",
     "output_type": "stream",
     "text": [
      "\n",
      " 88%|██████████████████████████████████▍    | 293/332 [4:12:58<38:50, 59.75s/it]"
     ]
    },
    {
     "name": "stdout",
     "output_type": "stream",
     "text": [
      "Saved.\n",
      "\n",
      "Subset No. 294\n",
      "Processing captions...\n",
      "Updating captions...\n"
     ]
    },
    {
     "name": "stderr",
     "output_type": "stream",
     "text": [
      "\n",
      "10000it [00:00, 1457114.47it/s]"
     ]
    },
    {
     "name": "stdout",
     "output_type": "stream",
     "text": [
      "\n",
      "\n",
      "***INFO***\n",
      "Captions Processed: 2940000\n",
      "Number of objects detected so far: 19271\n",
      "Saving..."
     ]
    },
    {
     "name": "stderr",
     "output_type": "stream",
     "text": [
      "\n",
      " 89%|██████████████████████████████████▌    | 294/332 [4:13:57<37:48, 59.69s/it]"
     ]
    },
    {
     "name": "stdout",
     "output_type": "stream",
     "text": [
      "Saved.\n",
      "\n",
      "Subset No. 295\n",
      "Processing captions...\n",
      "Updating captions...\n"
     ]
    },
    {
     "name": "stderr",
     "output_type": "stream",
     "text": [
      "\n",
      "10000it [00:00, 1439461.87it/s]"
     ]
    },
    {
     "name": "stdout",
     "output_type": "stream",
     "text": [
      "\n",
      "\n",
      "***INFO***\n",
      "Captions Processed: 2950000\n",
      "Number of objects detected so far: 19294\n",
      "Saving..."
     ]
    },
    {
     "name": "stderr",
     "output_type": "stream",
     "text": [
      "\n",
      " 89%|██████████████████████████████████▋    | 295/332 [4:14:57<36:49, 59.70s/it]"
     ]
    },
    {
     "name": "stdout",
     "output_type": "stream",
     "text": [
      "Saved.\n",
      "\n",
      "Subset No. 296\n",
      "Processing captions...\n",
      "Updating captions...\n"
     ]
    },
    {
     "name": "stderr",
     "output_type": "stream",
     "text": [
      "\n",
      "10000it [00:00, 1442382.48it/s]"
     ]
    },
    {
     "name": "stdout",
     "output_type": "stream",
     "text": [
      "\n",
      "\n",
      "***INFO***\n",
      "Captions Processed: 2960000\n",
      "Number of objects detected so far: 19313\n",
      "Saving..."
     ]
    },
    {
     "name": "stderr",
     "output_type": "stream",
     "text": [
      "\n",
      " 89%|██████████████████████████████████▊    | 296/332 [4:15:57<35:55, 59.88s/it]"
     ]
    },
    {
     "name": "stdout",
     "output_type": "stream",
     "text": [
      "Saved.\n",
      "\n",
      "Subset No. 297\n",
      "Processing captions...\n",
      "Updating captions...\n"
     ]
    },
    {
     "name": "stderr",
     "output_type": "stream",
     "text": [
      "\n",
      "10000it [00:00, 1483711.49it/s]"
     ]
    },
    {
     "name": "stdout",
     "output_type": "stream",
     "text": [
      "\n",
      "\n",
      "***INFO***\n",
      "Captions Processed: 2970000\n",
      "Number of objects detected so far: 19338\n",
      "Saving..."
     ]
    },
    {
     "name": "stderr",
     "output_type": "stream",
     "text": [
      "\n",
      " 89%|██████████████████████████████████▉    | 297/332 [4:16:57<34:54, 59.85s/it]"
     ]
    },
    {
     "name": "stdout",
     "output_type": "stream",
     "text": [
      "Saved.\n",
      "\n",
      "Subset No. 298\n",
      "Processing captions...\n",
      "Updating captions...\n"
     ]
    },
    {
     "name": "stderr",
     "output_type": "stream",
     "text": [
      "\n",
      "10000it [00:00, 1417186.11it/s]"
     ]
    },
    {
     "name": "stdout",
     "output_type": "stream",
     "text": [
      "\n",
      "\n",
      "***INFO***\n",
      "Captions Processed: 2980000\n",
      "Number of objects detected so far: 19359\n",
      "Saving..."
     ]
    },
    {
     "name": "stderr",
     "output_type": "stream",
     "text": [
      "\n",
      " 90%|███████████████████████████████████    | 298/332 [4:17:56<33:51, 59.74s/it]"
     ]
    },
    {
     "name": "stdout",
     "output_type": "stream",
     "text": [
      "Saved.\n",
      "\n",
      "Subset No. 299\n",
      "Processing captions...\n",
      "Updating captions...\n"
     ]
    },
    {
     "name": "stderr",
     "output_type": "stream",
     "text": [
      "\n",
      "10000it [00:00, 1447609.58it/s]"
     ]
    },
    {
     "name": "stdout",
     "output_type": "stream",
     "text": [
      "\n",
      "\n",
      "***INFO***\n",
      "Captions Processed: 2990000\n",
      "Number of objects detected so far: 19383\n",
      "Saving..."
     ]
    },
    {
     "name": "stderr",
     "output_type": "stream",
     "text": [
      "\n",
      " 90%|███████████████████████████████████    | 299/332 [4:18:56<32:54, 59.84s/it]"
     ]
    },
    {
     "name": "stdout",
     "output_type": "stream",
     "text": [
      "Saved.\n",
      "\n",
      "Subset No. 300\n",
      "Processing captions...\n",
      "Updating captions...\n"
     ]
    },
    {
     "name": "stderr",
     "output_type": "stream",
     "text": [
      "\n",
      "10000it [00:00, 1425325.04it/s]"
     ]
    },
    {
     "name": "stdout",
     "output_type": "stream",
     "text": [
      "\n",
      "\n",
      "***INFO***\n",
      "Captions Processed: 3000000\n",
      "Number of objects detected so far: 19402\n",
      "Saving..."
     ]
    },
    {
     "name": "stderr",
     "output_type": "stream",
     "text": [
      "\n",
      " 90%|███████████████████████████████████▏   | 300/332 [4:19:57<31:59, 59.98s/it]"
     ]
    },
    {
     "name": "stdout",
     "output_type": "stream",
     "text": [
      "Saved.\n",
      "\n",
      "Subset No. 301\n",
      "Processing captions...\n",
      "Updating captions...\n"
     ]
    },
    {
     "name": "stderr",
     "output_type": "stream",
     "text": [
      "\n",
      "10000it [00:00, 1428967.02it/s]"
     ]
    },
    {
     "name": "stdout",
     "output_type": "stream",
     "text": [
      "\n",
      "\n",
      "***INFO***\n",
      "Captions Processed: 3010000\n",
      "Number of objects detected so far: 19424\n",
      "Saving..."
     ]
    },
    {
     "name": "stderr",
     "output_type": "stream",
     "text": [
      "\n",
      " 91%|███████████████████████████████████▎   | 301/332 [4:20:56<30:55, 59.86s/it]"
     ]
    },
    {
     "name": "stdout",
     "output_type": "stream",
     "text": [
      "Saved.\n",
      "\n",
      "Subset No. 302\n",
      "Processing captions...\n",
      "Updating captions...\n"
     ]
    },
    {
     "name": "stderr",
     "output_type": "stream",
     "text": [
      "\n",
      "10000it [00:00, 1441936.19it/s]"
     ]
    },
    {
     "name": "stdout",
     "output_type": "stream",
     "text": [
      "\n",
      "\n",
      "***INFO***\n",
      "Captions Processed: 3020000\n",
      "Number of objects detected so far: 19449\n",
      "Saving..."
     ]
    },
    {
     "name": "stderr",
     "output_type": "stream",
     "text": [
      "\n",
      " 91%|███████████████████████████████████▍   | 302/332 [4:21:57<29:59, 59.99s/it]"
     ]
    },
    {
     "name": "stdout",
     "output_type": "stream",
     "text": [
      "Saved.\n",
      "\n",
      "Subset No. 303\n",
      "Processing captions...\n",
      "Updating captions...\n"
     ]
    },
    {
     "name": "stderr",
     "output_type": "stream",
     "text": [
      "\n",
      "10000it [00:00, 1470808.29it/s]"
     ]
    },
    {
     "name": "stdout",
     "output_type": "stream",
     "text": [
      "\n",
      "\n",
      "***INFO***\n",
      "Captions Processed: 3030000\n",
      "Number of objects detected so far: 19471\n",
      "Saving..."
     ]
    },
    {
     "name": "stderr",
     "output_type": "stream",
     "text": [
      "\n",
      " 91%|███████████████████████████████████▌   | 303/332 [4:22:57<29:05, 60.20s/it]"
     ]
    },
    {
     "name": "stdout",
     "output_type": "stream",
     "text": [
      "Saved.\n",
      "\n",
      "Subset No. 304\n",
      "Processing captions...\n",
      "Updating captions...\n"
     ]
    },
    {
     "name": "stderr",
     "output_type": "stream",
     "text": [
      "\n",
      "10000it [00:00, 1460056.39it/s]"
     ]
    },
    {
     "name": "stdout",
     "output_type": "stream",
     "text": [
      "\n",
      "\n",
      "***INFO***\n",
      "Captions Processed: 3040000\n",
      "Number of objects detected so far: 19485\n",
      "Saving..."
     ]
    },
    {
     "name": "stderr",
     "output_type": "stream",
     "text": [
      "\n",
      " 92%|███████████████████████████████████▋   | 304/332 [4:23:58<28:08, 60.30s/it]"
     ]
    },
    {
     "name": "stdout",
     "output_type": "stream",
     "text": [
      "Saved.\n",
      "\n",
      "Subset No. 305\n",
      "Processing captions...\n",
      "Updating captions...\n"
     ]
    },
    {
     "name": "stderr",
     "output_type": "stream",
     "text": [
      "\n",
      "10000it [00:00, 1442829.03it/s]"
     ]
    },
    {
     "name": "stdout",
     "output_type": "stream",
     "text": [
      "\n",
      "\n",
      "***INFO***\n",
      "Captions Processed: 3050000\n",
      "Number of objects detected so far: 19508\n",
      "Saving..."
     ]
    },
    {
     "name": "stderr",
     "output_type": "stream",
     "text": [
      "\n",
      " 92%|███████████████████████████████████▊   | 305/332 [4:24:58<27:06, 60.23s/it]"
     ]
    },
    {
     "name": "stdout",
     "output_type": "stream",
     "text": [
      "Saved.\n",
      "\n",
      "Subset No. 306\n",
      "Processing captions...\n",
      "Updating captions...\n"
     ]
    },
    {
     "name": "stderr",
     "output_type": "stream",
     "text": [
      "\n",
      "10000it [00:00, 1487183.63it/s]"
     ]
    },
    {
     "name": "stdout",
     "output_type": "stream",
     "text": [
      "\n",
      "\n",
      "***INFO***\n",
      "Captions Processed: 3060000\n",
      "Number of objects detected so far: 19527\n",
      "Saving..."
     ]
    },
    {
     "name": "stderr",
     "output_type": "stream",
     "text": [
      "\n",
      " 92%|███████████████████████████████████▉   | 306/332 [4:25:59<26:10, 60.42s/it]"
     ]
    },
    {
     "name": "stdout",
     "output_type": "stream",
     "text": [
      "Saved.\n",
      "\n",
      "Subset No. 307\n",
      "Processing captions...\n",
      "Updating captions...\n"
     ]
    },
    {
     "name": "stderr",
     "output_type": "stream",
     "text": [
      "\n",
      "10000it [00:00, 1484078.98it/s]"
     ]
    },
    {
     "name": "stdout",
     "output_type": "stream",
     "text": [
      "\n",
      "\n",
      "***INFO***\n",
      "Captions Processed: 3070000\n",
      "Number of objects detected so far: 19550\n",
      "Saving..."
     ]
    },
    {
     "name": "stderr",
     "output_type": "stream",
     "text": [
      "\n",
      " 92%|████████████████████████████████████   | 307/332 [4:26:59<25:12, 60.52s/it]"
     ]
    },
    {
     "name": "stdout",
     "output_type": "stream",
     "text": [
      "Saved.\n",
      "\n",
      "Subset No. 308\n",
      "Processing captions...\n",
      "Updating captions...\n"
     ]
    },
    {
     "name": "stderr",
     "output_type": "stream",
     "text": [
      "\n",
      "10000it [00:00, 1474946.02it/s]"
     ]
    },
    {
     "name": "stdout",
     "output_type": "stream",
     "text": [
      "\n",
      "\n",
      "***INFO***\n",
      "Captions Processed: 3080000\n",
      "Number of objects detected so far: 19570\n",
      "Saving..."
     ]
    },
    {
     "name": "stderr",
     "output_type": "stream",
     "text": [
      "\n",
      " 93%|████████████████████████████████████▏  | 308/332 [4:27:59<24:06, 60.28s/it]"
     ]
    },
    {
     "name": "stdout",
     "output_type": "stream",
     "text": [
      "Saved.\n",
      "\n",
      "Subset No. 309\n",
      "Processing captions...\n",
      "Updating captions...\n"
     ]
    },
    {
     "name": "stderr",
     "output_type": "stream",
     "text": [
      "\n",
      "10000it [00:00, 1481929.12it/s]"
     ]
    },
    {
     "name": "stdout",
     "output_type": "stream",
     "text": [
      "\n",
      "\n",
      "***INFO***\n",
      "Captions Processed: 3090000\n",
      "Number of objects detected so far: 19591\n",
      "Saving..."
     ]
    },
    {
     "name": "stderr",
     "output_type": "stream",
     "text": [
      "\n",
      " 93%|████████████████████████████████████▎  | 309/332 [4:29:00<23:08, 60.38s/it]"
     ]
    },
    {
     "name": "stdout",
     "output_type": "stream",
     "text": [
      "Saved.\n",
      "\n",
      "Subset No. 310\n",
      "Processing captions...\n",
      "Updating captions...\n"
     ]
    },
    {
     "name": "stderr",
     "output_type": "stream",
     "text": [
      "\n",
      "10000it [00:00, 1388474.58it/s]"
     ]
    },
    {
     "name": "stdout",
     "output_type": "stream",
     "text": [
      "\n",
      "\n",
      "***INFO***\n",
      "Captions Processed: 3100000\n",
      "Number of objects detected so far: 19611\n",
      "Saving..."
     ]
    },
    {
     "name": "stderr",
     "output_type": "stream",
     "text": [
      "\n",
      " 93%|████████████████████████████████████▍  | 310/332 [4:30:01<22:12, 60.55s/it]"
     ]
    },
    {
     "name": "stdout",
     "output_type": "stream",
     "text": [
      "Saved.\n",
      "\n",
      "Subset No. 311\n",
      "Processing captions...\n",
      "Updating captions...\n"
     ]
    },
    {
     "name": "stderr",
     "output_type": "stream",
     "text": [
      "\n",
      "10000it [00:00, 1481719.72it/s]"
     ]
    },
    {
     "name": "stdout",
     "output_type": "stream",
     "text": [
      "\n",
      "\n",
      "***INFO***\n",
      "Captions Processed: 3110000\n",
      "Number of objects detected so far: 19635\n",
      "Saving..."
     ]
    },
    {
     "name": "stderr",
     "output_type": "stream",
     "text": [
      "\n",
      " 94%|████████████████████████████████████▌  | 311/332 [4:31:02<21:16, 60.77s/it]"
     ]
    },
    {
     "name": "stdout",
     "output_type": "stream",
     "text": [
      "Saved.\n",
      "\n",
      "Subset No. 312\n",
      "Processing captions...\n",
      "Updating captions...\n"
     ]
    },
    {
     "name": "stderr",
     "output_type": "stream",
     "text": [
      "\n",
      "10000it [00:00, 1403716.20it/s]"
     ]
    },
    {
     "name": "stdout",
     "output_type": "stream",
     "text": [
      "\n",
      "\n",
      "***INFO***\n",
      "Captions Processed: 3120000\n",
      "Number of objects detected so far: 19653\n",
      "Saving..."
     ]
    },
    {
     "name": "stderr",
     "output_type": "stream",
     "text": [
      "\n",
      " 94%|████████████████████████████████████▋  | 312/332 [4:32:01<20:03, 60.17s/it]"
     ]
    },
    {
     "name": "stdout",
     "output_type": "stream",
     "text": [
      "Saved.\n",
      "\n",
      "Subset No. 313\n",
      "Processing captions...\n",
      "Updating captions...\n"
     ]
    },
    {
     "name": "stderr",
     "output_type": "stream",
     "text": [
      "\n",
      "10000it [00:00, 1444419.04it/s]"
     ]
    },
    {
     "name": "stdout",
     "output_type": "stream",
     "text": [
      "\n",
      "\n",
      "***INFO***\n",
      "Captions Processed: 3130000\n",
      "Number of objects detected so far: 19680\n",
      "Saving..."
     ]
    },
    {
     "name": "stderr",
     "output_type": "stream",
     "text": [
      "\n",
      " 94%|████████████████████████████████████▊  | 313/332 [4:33:01<19:05, 60.29s/it]"
     ]
    },
    {
     "name": "stdout",
     "output_type": "stream",
     "text": [
      "Saved.\n",
      "\n",
      "Subset No. 314\n",
      "Processing captions...\n",
      "Updating captions...\n"
     ]
    },
    {
     "name": "stderr",
     "output_type": "stream",
     "text": [
      "\n",
      "10000it [00:00, 1454285.22it/s]"
     ]
    },
    {
     "name": "stdout",
     "output_type": "stream",
     "text": [
      "\n",
      "\n",
      "***INFO***\n",
      "Captions Processed: 3140000\n",
      "Number of objects detected so far: 19704\n",
      "Saving..."
     ]
    },
    {
     "name": "stderr",
     "output_type": "stream",
     "text": [
      "\n",
      " 95%|████████████████████████████████████▉  | 314/332 [4:34:02<18:08, 60.49s/it]"
     ]
    },
    {
     "name": "stdout",
     "output_type": "stream",
     "text": [
      "Saved.\n",
      "\n",
      "Subset No. 315\n",
      "Processing captions...\n",
      "Updating captions...\n"
     ]
    },
    {
     "name": "stderr",
     "output_type": "stream",
     "text": [
      "\n",
      "10000it [00:00, 1413270.44it/s]"
     ]
    },
    {
     "name": "stdout",
     "output_type": "stream",
     "text": [
      "\n",
      "\n",
      "***INFO***\n",
      "Captions Processed: 3150000\n",
      "Number of objects detected so far: 19727\n",
      "Saving..."
     ]
    },
    {
     "name": "stderr",
     "output_type": "stream",
     "text": [
      "\n",
      " 95%|█████████████████████████████████████  | 315/332 [4:35:06<17:21, 61.29s/it]"
     ]
    },
    {
     "name": "stdout",
     "output_type": "stream",
     "text": [
      "Saved.\n",
      "\n",
      "Subset No. 316\n",
      "Processing captions...\n",
      "Updating captions...\n"
     ]
    },
    {
     "name": "stderr",
     "output_type": "stream",
     "text": [
      "\n",
      "10000it [00:00, 1443822.38it/s]"
     ]
    },
    {
     "name": "stdout",
     "output_type": "stream",
     "text": [
      "\n",
      "\n",
      "***INFO***\n",
      "Captions Processed: 3160000\n",
      "Number of objects detected so far: 19746\n",
      "Saving..."
     ]
    },
    {
     "name": "stderr",
     "output_type": "stream",
     "text": [
      "\n",
      " 95%|█████████████████████████████████████  | 316/332 [4:36:05<16:09, 60.62s/it]"
     ]
    },
    {
     "name": "stdout",
     "output_type": "stream",
     "text": [
      "Saved.\n",
      "\n",
      "Subset No. 317\n",
      "Processing captions...\n",
      "Updating captions...\n"
     ]
    },
    {
     "name": "stderr",
     "output_type": "stream",
     "text": [
      "\n",
      "10000it [00:00, 1436799.12it/s]"
     ]
    },
    {
     "name": "stdout",
     "output_type": "stream",
     "text": [
      "\n",
      "\n",
      "***INFO***\n",
      "Captions Processed: 3170000\n",
      "Number of objects detected so far: 19767\n",
      "Saving..."
     ]
    },
    {
     "name": "stderr",
     "output_type": "stream",
     "text": [
      "\n",
      " 95%|█████████████████████████████████████▏ | 317/332 [4:37:05<15:07, 60.53s/it]"
     ]
    },
    {
     "name": "stdout",
     "output_type": "stream",
     "text": [
      "Saved.\n",
      "\n",
      "Subset No. 318\n",
      "Processing captions...\n",
      "Updating captions...\n"
     ]
    },
    {
     "name": "stderr",
     "output_type": "stream",
     "text": [
      "\n",
      "10000it [00:00, 1403716.20it/s]"
     ]
    },
    {
     "name": "stdout",
     "output_type": "stream",
     "text": [
      "\n",
      "\n",
      "***INFO***\n",
      "Captions Processed: 3180000\n",
      "Number of objects detected so far: 19793\n",
      "Saving..."
     ]
    },
    {
     "name": "stderr",
     "output_type": "stream",
     "text": [
      "\n",
      " 96%|█████████████████████████████████████▎ | 318/332 [4:38:05<14:05, 60.40s/it]"
     ]
    },
    {
     "name": "stdout",
     "output_type": "stream",
     "text": [
      "Saved.\n",
      "\n",
      "Subset No. 319\n",
      "Processing captions...\n",
      "Updating captions...\n"
     ]
    },
    {
     "name": "stderr",
     "output_type": "stream",
     "text": [
      "\n",
      "10000it [00:00, 1434734.90it/s]"
     ]
    },
    {
     "name": "stdout",
     "output_type": "stream",
     "text": [
      "\n",
      "\n",
      "***INFO***\n",
      "Captions Processed: 3190000\n",
      "Number of objects detected so far: 19814\n",
      "Saving..."
     ]
    },
    {
     "name": "stderr",
     "output_type": "stream",
     "text": [
      "\n",
      " 96%|█████████████████████████████████████▍ | 319/332 [4:39:06<13:07, 60.55s/it]"
     ]
    },
    {
     "name": "stdout",
     "output_type": "stream",
     "text": [
      "Saved.\n",
      "\n",
      "Subset No. 320\n",
      "Processing captions...\n",
      "Updating captions...\n"
     ]
    },
    {
     "name": "stderr",
     "output_type": "stream",
     "text": [
      "\n",
      "10000it [00:00, 1415607.68it/s]"
     ]
    },
    {
     "name": "stdout",
     "output_type": "stream",
     "text": [
      "\n",
      "\n",
      "***INFO***\n",
      "Captions Processed: 3200000\n",
      "Number of objects detected so far: 19840\n",
      "Saving..."
     ]
    },
    {
     "name": "stderr",
     "output_type": "stream",
     "text": [
      "\n",
      " 96%|█████████████████████████████████████▌ | 320/332 [4:40:06<12:04, 60.36s/it]"
     ]
    },
    {
     "name": "stdout",
     "output_type": "stream",
     "text": [
      "Saved.\n",
      "\n",
      "Subset No. 321\n",
      "Processing captions...\n",
      "Updating captions...\n"
     ]
    },
    {
     "name": "stderr",
     "output_type": "stream",
     "text": [
      "\n",
      "10000it [00:00, 1443872.08it/s]"
     ]
    },
    {
     "name": "stdout",
     "output_type": "stream",
     "text": [
      "\n",
      "\n",
      "***INFO***\n",
      "Captions Processed: 3210000\n",
      "Number of objects detected so far: 19863\n",
      "Saving..."
     ]
    },
    {
     "name": "stderr",
     "output_type": "stream",
     "text": [
      "\n",
      " 97%|█████████████████████████████████████▋ | 321/332 [4:41:06<11:03, 60.32s/it]"
     ]
    },
    {
     "name": "stdout",
     "output_type": "stream",
     "text": [
      "Saved.\n",
      "\n",
      "Subset No. 322\n",
      "Processing captions...\n",
      "Updating captions...\n"
     ]
    },
    {
     "name": "stderr",
     "output_type": "stream",
     "text": [
      "\n",
      "10000it [00:00, 1435324.07it/s]"
     ]
    },
    {
     "name": "stdout",
     "output_type": "stream",
     "text": [
      "\n",
      "\n",
      "***INFO***\n",
      "Captions Processed: 3220000\n",
      "Number of objects detected so far: 19880\n",
      "Saving..."
     ]
    },
    {
     "name": "stderr",
     "output_type": "stream",
     "text": [
      "\n",
      " 97%|█████████████████████████████████████▊ | 322/332 [4:42:07<10:05, 60.51s/it]"
     ]
    },
    {
     "name": "stdout",
     "output_type": "stream",
     "text": [
      "Saved.\n",
      "\n",
      "Subset No. 323\n",
      "Processing captions...\n",
      "Updating captions...\n"
     ]
    },
    {
     "name": "stderr",
     "output_type": "stream",
     "text": [
      "\n",
      "10000it [00:00, 1424889.25it/s]"
     ]
    },
    {
     "name": "stdout",
     "output_type": "stream",
     "text": [
      "\n",
      "\n",
      "***INFO***\n",
      "Captions Processed: 3230000\n",
      "Number of objects detected so far: 19895\n",
      "Saving..."
     ]
    },
    {
     "name": "stderr",
     "output_type": "stream",
     "text": [
      "\n",
      " 97%|█████████████████████████████████████▉ | 323/332 [4:43:08<09:04, 60.52s/it]"
     ]
    },
    {
     "name": "stdout",
     "output_type": "stream",
     "text": [
      "Saved.\n",
      "\n",
      "Subset No. 324\n",
      "Processing captions...\n",
      "Updating captions...\n"
     ]
    },
    {
     "name": "stderr",
     "output_type": "stream",
     "text": [
      "\n",
      "10000it [00:00, 1387555.91it/s]"
     ]
    },
    {
     "name": "stdout",
     "output_type": "stream",
     "text": [
      "\n",
      "\n",
      "***INFO***\n",
      "Captions Processed: 3240000\n",
      "Number of objects detected so far: 19910\n",
      "Saving..."
     ]
    },
    {
     "name": "stderr",
     "output_type": "stream",
     "text": [
      "\n",
      " 98%|██████████████████████████████████████ | 324/332 [4:44:07<08:02, 60.30s/it]"
     ]
    },
    {
     "name": "stdout",
     "output_type": "stream",
     "text": [
      "Saved.\n",
      "\n",
      "Subset No. 325\n",
      "Processing captions...\n",
      "Updating captions...\n"
     ]
    },
    {
     "name": "stderr",
     "output_type": "stream",
     "text": [
      "\n",
      "10000it [00:00, 1428334.41it/s]"
     ]
    },
    {
     "name": "stdout",
     "output_type": "stream",
     "text": [
      "\n",
      "\n",
      "***INFO***\n",
      "Captions Processed: 3250000\n",
      "Number of objects detected so far: 19929\n",
      "Saving..."
     ]
    },
    {
     "name": "stderr",
     "output_type": "stream",
     "text": [
      "\n",
      " 98%|██████████████████████████████████████▏| 325/332 [4:45:07<07:01, 60.21s/it]"
     ]
    },
    {
     "name": "stdout",
     "output_type": "stream",
     "text": [
      "Saved.\n",
      "\n",
      "Subset No. 326\n",
      "Processing captions...\n",
      "Updating captions...\n"
     ]
    },
    {
     "name": "stderr",
     "output_type": "stream",
     "text": [
      "\n",
      "10000it [00:00, 1452472.21it/s]"
     ]
    },
    {
     "name": "stdout",
     "output_type": "stream",
     "text": [
      "\n",
      "\n",
      "***INFO***\n",
      "Captions Processed: 3260000\n",
      "Number of objects detected so far: 19957\n",
      "Saving..."
     ]
    },
    {
     "name": "stderr",
     "output_type": "stream",
     "text": [
      "\n",
      " 98%|██████████████████████████████████████▎| 326/332 [4:46:07<06:00, 60.14s/it]"
     ]
    },
    {
     "name": "stdout",
     "output_type": "stream",
     "text": [
      "Saved.\n",
      "\n",
      "Subset No. 327\n",
      "Processing captions...\n",
      "Updating captions...\n"
     ]
    },
    {
     "name": "stderr",
     "output_type": "stream",
     "text": [
      "\n",
      "10000it [00:00, 1450061.88it/s]"
     ]
    },
    {
     "name": "stdout",
     "output_type": "stream",
     "text": [
      "\n",
      "\n",
      "***INFO***\n",
      "Captions Processed: 3270000\n",
      "Number of objects detected so far: 19972\n",
      "Saving..."
     ]
    },
    {
     "name": "stderr",
     "output_type": "stream",
     "text": [
      "\n",
      " 98%|██████████████████████████████████████▍| 327/332 [4:47:07<05:00, 60.14s/it]"
     ]
    },
    {
     "name": "stdout",
     "output_type": "stream",
     "text": [
      "Saved.\n",
      "\n",
      "Subset No. 328\n",
      "Processing captions...\n",
      "Updating captions...\n"
     ]
    },
    {
     "name": "stderr",
     "output_type": "stream",
     "text": [
      "\n",
      "10000it [00:00, 1470138.10it/s]"
     ]
    },
    {
     "name": "stdout",
     "output_type": "stream",
     "text": [
      "\n",
      "\n",
      "***INFO***\n",
      "Captions Processed: 3280000\n",
      "Number of objects detected so far: 19987\n",
      "Saving..."
     ]
    },
    {
     "name": "stderr",
     "output_type": "stream",
     "text": [
      "\n",
      " 99%|██████████████████████████████████████▌| 328/332 [4:48:08<04:01, 60.28s/it]"
     ]
    },
    {
     "name": "stdout",
     "output_type": "stream",
     "text": [
      "Saved.\n",
      "\n",
      "Subset No. 329\n",
      "Processing captions...\n",
      "Updating captions...\n"
     ]
    },
    {
     "name": "stderr",
     "output_type": "stream",
     "text": [
      "\n",
      "10000it [00:00, 1395310.71it/s]"
     ]
    },
    {
     "name": "stdout",
     "output_type": "stream",
     "text": [
      "\n",
      "\n",
      "***INFO***\n",
      "Captions Processed: 3290000\n",
      "Number of objects detected so far: 20008\n",
      "Saving..."
     ]
    },
    {
     "name": "stderr",
     "output_type": "stream",
     "text": [
      "\n",
      " 99%|██████████████████████████████████████▋| 329/332 [4:49:08<03:00, 60.30s/it]"
     ]
    },
    {
     "name": "stdout",
     "output_type": "stream",
     "text": [
      "Saved.\n",
      "\n",
      "Subset No. 330\n",
      "Processing captions...\n",
      "Updating captions...\n"
     ]
    },
    {
     "name": "stderr",
     "output_type": "stream",
     "text": [
      "\n",
      "10000it [00:00, 1339562.45it/s]"
     ]
    },
    {
     "name": "stdout",
     "output_type": "stream",
     "text": [
      "\n",
      "\n",
      "***INFO***\n",
      "Captions Processed: 3300000\n",
      "Number of objects detected so far: 20021\n",
      "Saving..."
     ]
    },
    {
     "name": "stderr",
     "output_type": "stream",
     "text": [
      "\n",
      " 99%|██████████████████████████████████████▊| 330/332 [4:50:09<02:00, 60.49s/it]"
     ]
    },
    {
     "name": "stdout",
     "output_type": "stream",
     "text": [
      "Saved.\n",
      "\n",
      "Subset No. 331\n",
      "Processing captions...\n",
      "Updating captions...\n"
     ]
    },
    {
     "name": "stderr",
     "output_type": "stream",
     "text": [
      "\n",
      "10000it [00:00, 1461175.40it/s]"
     ]
    },
    {
     "name": "stdout",
     "output_type": "stream",
     "text": [
      "\n",
      "\n",
      "***INFO***\n",
      "Captions Processed: 3310000\n",
      "Number of objects detected so far: 20045\n",
      "Saving..."
     ]
    },
    {
     "name": "stderr",
     "output_type": "stream",
     "text": [
      "\n",
      "100%|██████████████████████████████████████▉| 331/332 [4:51:10<01:00, 60.47s/it]"
     ]
    },
    {
     "name": "stdout",
     "output_type": "stream",
     "text": [
      "Saved.\n",
      "\n",
      "Subset No. 332\n",
      "Processing captions...\n",
      "Updating captions...\n"
     ]
    },
    {
     "name": "stderr",
     "output_type": "stream",
     "text": [
      "\n",
      "8333it [00:00, 1381249.42it/s]"
     ]
    },
    {
     "name": "stdout",
     "output_type": "stream",
     "text": [
      "\n",
      "\n",
      "***INFO***\n",
      "Captions Processed: 3318333\n",
      "Number of objects detected so far: 20056\n",
      "Saving..."
     ]
    },
    {
     "name": "stderr",
     "output_type": "stream",
     "text": [
      "\n",
      "100%|███████████████████████████████████████| 332/332 [4:52:04<00:00, 52.78s/it]"
     ]
    },
    {
     "name": "stdout",
     "output_type": "stream",
     "text": [
      "Saved.\n",
      "Done!\n"
     ]
    },
    {
     "name": "stderr",
     "output_type": "stream",
     "text": [
      "\n"
     ]
    }
   ],
   "source": [
    "total_objects = set() # Stores the total number of distinct objects detected\n",
    "num_objects_detected = list() # Stores number of objects detected after processing some number of prompts iteratively\n",
    "caption_data_train_file = {'annotations':[]} # For storing results\n",
    "\n",
    "print('Starting...')\n",
    "print('Captions to be processed:', len(prompts_train))\n",
    "print('Number of splits to be processed:', len(SAVE_SPLITS)-1)\n",
    "\n",
    "for i in tqdm(range(len(SAVE_SPLITS)-1)):\n",
    "  print()\n",
    "  print(f'Subset No. {i+1}')\n",
    "  curr_split_data = prompts_train[SAVE_SPLITS[i]:SAVE_SPLITS[i+1]] # Current split of data\n",
    "  print('Processing captions...')\n",
    "  processed_train = clean_prompt(curr_split_data) # start processing the train captions subset\n",
    "  print(f'Updating captions...')\n",
    "  # Processing each prompt and updating annotation file for train set\n",
    "  update_data = [{'caption': prompt} for prompt in curr_split_data]\n",
    "  cleaned_prompts, object_prompts = processed_train\n",
    "  for idx, prompt in tqdm(enumerate(zip(cleaned_prompts, object_prompts))):\n",
    "    cleaned, objects = prompt # Process prompt\n",
    "    # update files and object list\n",
    "    update_data[idx]['cleaned'] = cleaned\n",
    "    update_data[idx]['objects'] = objects\n",
    "    total_objects.update(set(objects))\n",
    "\n",
    "  print()\n",
    "  print()\n",
    "  print('***INFO***')\n",
    "  print('Captions Processed:', SAVE_SPLITS[i+1])\n",
    "  print('Number of objects detected so far:', len(total_objects))\n",
    "  num_objects_detected.append(len(total_objects))\n",
    "\n",
    "  caption_data_train_file['annotations'].extend(update_data) # updating the data for saving\n",
    "  print('Saving...', end='')\n",
    "\n",
    "  # Save the processed captions data so far\n",
    "  with open(os.path.join(PATH, 'Data-Captions/GCC/train-captions-processed.json'), 'w') as outfile: # Save Results in json\n",
    "    outfile.write(json.dumps(caption_data_train_file, indent=4))\n",
    "\n",
    "  # Save the objects detected info so far\n",
    "  with open(os.path.join(PATH, 'Data-Captions/GCC/train-objects.json'), 'w') as outfile: # Saving Total objects in json\n",
    "    outfile.write(json.dumps({'objects': list(total_objects), 'num_objects': num_objects_detected}, indent=4))\n",
    "\n",
    "  print('Saved.')\n",
    "print('Done!')"
   ]
  },
  {
   "cell_type": "code",
   "execution_count": 17,
   "metadata": {
    "colab": {
     "base_uri": "https://localhost:8080/"
    },
    "id": "5WFO0_PAEOeY",
    "outputId": "ac5b3664-b18e-4477-8841-54e5ae0960b4"
   },
   "outputs": [
    {
     "name": "stdout",
     "output_type": "stream",
     "text": [
      "{'fahrenheit', 'bodyline', 'a6', 'aschristma', 'solid', 'congestion', 'paradise', 'unisex', 'a-litre', 'contouring', 'basin', '4000s', 'sorbet', 'blockhouse', 'swoon', 'couch', 'classmate', 'city', 'sal', 'sine', 'circumference', 'wexner', 'prep', 'ministry', 'iso1600', 'timenever', 'navigational', 'marmalade', 'heavytourist', 'goof', 'oath', '7x5', 'beverage', 'tay', 'refurbish', 'mori', 'distinguish', 'ballet', 'starter', 'shrieking', 'fording', 'collage', 'ima', 'centenary', 'curvy', 'buck', 'carolinensis', 'pen&', '1a', 'figaro', 'bycargo', 'matzo', 'imitation', 'underneath', 'top.', 'limitation', 'listen', 'ss80', 'a-peek', 'gallus', 'tension', 'flossing', 'Wednesday', 'hen', 'agility', 'dinar', 'indepth', 'hillfort', 'telecaster', 'decora', 'burning', 'hypocrite', 'tostyle', 'improvisation', 'Atalian', 'kea', 'plowshare', 'meddling', 'cutter', 'makingorange', 'cilantro', 'blackbeard', 'age', 'forearm', 'Nuattro', 'southwest', 'o2', 'anteater', 'omnia', 'sheshut', 'referendum', 'geography', 'hebrew', 'cocktail', 'broadleaf', 'haircut', 'vacancy', 'commencement', 'hint', 'delegate', 'quidditch', 'dinning', 'Seb', 'tempo', 'cheering', 'st.', 'function', 'satisfaction', 'calming', 'container', 'palace', 'ratepoor', 'void', 'rd594', 'jerk', 'carrot', 'clasping', 'samiti', 'repel', 'scrapyard', 'readsanimal', 'graduate', 'registration', '48ft', 'sherpa', 'billiard', 'risk', 'arrest', 'bonker', 'freestanding', 'depot', 'hamar', 'wining', 'interbreed', 'storyteller', 'freshmen', 'govt', 'stowaway', 'asmall', 'volume', 'footstyle', 'presidency', '308lb', '#', 'helter', 'shriek', 'westcoast', 'onbeverage', 'steamer', '3thank', 'villager', 'watercolour', 'tar', 'butcher', 'goodbyes.', 'bric', 'stun', 'downshifting', 'explorer', 'lifeboat', 'graft', 'maki', 'biosphere', 'mail', 'bandanna', 'calf', 'butt', 'origami', 'dun', 'illustrationflower', 'crossover', 'backlash', 'couch.', 'foreclosure', 'struggle', 'firehouse', 'ex', 'coastline', 'hight', 'sh35', 'onesw', 'slide', 'yorker', 'theivory', 'dawn', 'pollard', 'mood.', 'balancingwhat', 'pectoral', 'x12', 'drinking', '9175ft', 'menswear', 'marry', 'fiberglass', 'knut', 'surveillance', 'mig', 'raincoat', 'a-box', 'races.', '99p', 'arthropod', 'pock', 'in05', 'thon', 'blazing', 'marin', 'dar', 'booze', 'mpv', 'ginko', 'superconducting', 'voile', 'visual', 'defeat', 'charismaticcute', 'dual', 'shipbuilder', 'supra', 'mouse', 'aroundworld', 'birdcage', 'initiation', 'withauthor', 'ambient', 'taxidermy', 'venting', 'can.', 'burkesville', 'waistcoat', 'prince', '200lb', 'balance', 'thosefeel', 'pu', 'begininsider', 'relation', 'questionnaire', 'burro', 'Black', 'shyness', 'this90s', 'escalator', 'praise', 'stirrup', 'snakehead', 'parasol', 'heirloom', 'a-course', 'piccolo', 'meansalright', 'istop', 'gwen', 'bamboo', 'pinhole', 'bramble', 'courtroom', 'nursery', 'jr.', 'surfer', 'sauropod', 'arcane', 'africana', 'businessman', 'comfrey', 'a-centimeter', 'aid', 'airpark', 'drywall', 'ry', 'folklorico', 'forkarate', 'scuba', 'completesparadise', 'tree.', 'aswing', 'thunderstorm', 'beatle', 'clove', 'measurement', 'mysterious', 'survivor', 'derelict', 'curfew', '290', 'Southside', 'welcoming', '1670', '15oz', 'cultivation', 'readsevery', 'saluting', 'tofantasy', 'b-b-b', 'bowtie', 'investigation', 'semifinalist', 'masculine', 'indoor', 'nami', 'thesock', 'bluenight', 'treatment', 'wacky', 'slam', 'birthplace', 'everysorry', 'celtics', 'b.b.', 'rattlesnake', 'plein', 'rusher', '911', 'packorganisation', 'bed', 'truck', 'storm', 'muslin', 'nav', 'plantain', 'lfc', 'cling', 'asshow', 'middleweight', 'municipality', 'diagonal', 'aside', 'vinegar', 'consist', 'scrapper', 'retailer', 'craftsmanship', 'debris', 'extension', 'offseason', 'flashlight', 'ci', 'scientist', 'honeymooner', 'hurl', 'bermuda', 'fanny', 'tycoon', 'gatheringpolitician', 'yourhome', 'plantation', 'docking', 'clarksburg', 'colonnadesstyle', 'pelvic', 'posting', 'rubberized', 'benchmark', 'a-tie', '14oz', 'vintagechalkboard', 'brainstorm', 'distraction', 'coatis', 'caravan', 'brotherly', 'pixel', 'fromi', 'disability', 'slidingbarn', 'former', 'waterskiing', 'ripening', 'browny', 'goodbeef', '1760s', 'mm', 'turnbomber', 'tolbooth', 'astray', 'yell', 'nightgown', 'purple', 'alifetime', 'stamford', 'tail', 'breakthrough', 'albino', 'aninterest', 'complaint', 'tuk', 'swiveling', 'launching', 'themade', 'blocking', 'k7', 'colon', 'load', '60kg', 'cellar', 'mellifera', 'abusiness', 'jammin', 'capture', 'voyageur', 'locket', '16am', 'isinvention', 'onshore', 'woman.', 'salute', 'withgreen', 'peppermint', 'preserve', 'marriage', 'whale', 'mothball', 'imvu', 'gin', 'flicker', 'sparring', 'nature', 'pee', 'goblin', '45t', 'liberty', 'namesake', 'pitcher', 'meal', 'v.', 'in', 'tigress', 'masonry', 'carnage', 'tardis', 'officinarum', 'apartment.', 'dimebag', 'masterpiece', 'combatant', 'cellphone', 'cotta', 'ran', 'hitching', 'paradigm', 'door.', 'ampere', 'cargo', 'subphylum', 'matte', 'themean', 'longhorn', 'raindrop', 'vinyl', 'forinvention', 'adultcm', 'kindergarten', '101st', 'saysjob', 'whirlwind', 'quickfire', 'rst', 'Fandango', 'chicano', 'england', 'homecoming', 'impatien', 'thecross', 'marque', 'gaze', 'gemstone', 'mural', 'behalf', 'oni', 'pod', 'stylist', 'ofaircraft', 'militia', 'camper', 'southdown', 'nate', 'queuing', 'fatigue', 'curio', 'kbp', 'lok', 'wren', 'overtime', 'perfection', 'ping', 'conifer', 'yachtsman', 'lovestruck', 'sportive', 'dv', 'tonka', 'josey', 'carryingdeity', '25h', 'roku', 'sci', 'propose', 'hundred', 'prairy', 'sniff', 'working', 'hatred', 'chrome', 'hiss', 'shadowing', 'visio', 'b17', 'ak', 'sole', 'whole', 'tonne', 'bonus', 'numeral', 'satyagraha', 'health', 'bestcat', 'wellness', 'cross', 'ε', 'bismuth', 'snapshot', 'corn', 'broadband', 'beagle', 'fundraiser', 'tank', 'af', 'mordant', 'cynic', 'thesweet', 'aip', 'grandfather', 'postero', 'racecourse', 'rocchetta', 'recess', 'oracle', 'revelation', 'same.', '1903', 'bias', 'spacing', 'flyby', 'verandah', 'offbrand', 'h', 'autograph', 'medical', 'genome', 'barber', 'stoop', 'amoeba', 'fiancée', 'mein', 'progressing', 'kd', 'observer', 'slough', 'haveli', 'shockwave', 'wedperson', 'plaster', 'mixing', 'aura', 'Sydney', 'ss15', 'readsdisaster', 'election', 'carol', 'thetarget', 'andfamily', 'midge', 'roast', 'carbon', 'Chinese', 'bagpipe', 'andmonarch', 'capping', 'plague', 'curing', 'object', 'vegetable', 'alter', 'paddock', 'sanitation', 'headrest', 'splinter', 'broom', 'accusative', 'strike', 'unfold', 'waswatching', 'waterman', 'tot', 'anyplace', 'tog', 'hornbeam', 'behindautomobile', 'noodle', 'toros', 'belief', 'buttertill', 'bid', 'razumovsky', 'x7', 'rs0048', 'tommy', 'giveaway', 'bushwacker', 'turtle', 'retreat', '98th', 'blood', 'purpose', 'realbotch', 'thecockade', 'anise', 'pancrea', 'kemp', 'vase.', 'p143', 'acoustic', 'magi', 'theword', 'tumi', 'uv', 'league', 'thecut', 'firebug', 'master', 'almighty', 'roadwork', 'tex', 'compass', 'downwind', 'jamb', 'darting', 'flagpole', 'groundswell', 'noma', 'croc', 'stand', 'earthship', 'primer', 'mince', 'commemorate', 'gauge', 'doble', 'hike', 'hermitage', 'patio', 'kitchen+', 'kayaking', 'serial', '35ft', 'exfoliate', 'bassplayer', 'displayedon', 'evermore', 'siege', 'tiring', 'ecologist', 'airlifting', 'churn', 'belaying', 'solidarity', 'audience', 'cater', 'person5050', 'algorithm', 'sixth', 'realm', 'ink', 'piaget', 'lionfish', 'littleme', 'thanbaton', 'announcedautomobile', 'grating', 'ascent', 'canali', 'quotetoo', 'Griffin', 'thefreak', 'areair', 'kidney', 'slavery', 'askew', 'lumberjack', 'crook', 'limber', 'glow', 'fly', 'femininity', 'skydive', '37th', 'rupiah', 'plug', 'marnie', 'searcher', 'mission', 'swinging', 'nov', 'withdisease', 'roadblock', 'stigma', 'nighttime', 'abe', 'Pinneret', 'x49', 'spectacular+', 't.p.', 'larch', 'euphonium', 'special', 'intention', 'liga', 'hu', 'bypainting', 'dry', 'faculty', 'operetta', 'cooperate', 'laburnum', 'bewitching', 'baptism', 'sealing', 'prohibition', 'infiltration', 'toucan', 'grate', 'decal', 'interurban', '1400s', 'emblem', 'tunnel', 'flourish', 'recto', 'numerals16', 'sprouting', 'scenario', '100', 'ironing', 'wok', 'fiery', 'bubble', 'tiara', 'arcade', 'portrait', 'andie', 'antipode', 'structuring', 'lion', 'madder', 'ph', 'edge', 'stethoscope', 'herring', 'therapy', 'chancellor', 'tuul', 'trundle', 'made', 'sip', 'ailing', 'cormorant', 'stacking', 'mohair', 'magna', 'gbp', 'stutter', 'lesssouthern', 'nm', 'logopancake', '1350', 'Disney', '63cm', 'howtrestle', 'shy', 'device', 'eating', 'hiring', '20min', 'sticker', 'desire', 'p.j.', 'burnout', 'commentator', '20in', 'upto', 'gj', 'wriggle', 'pegasus', 'agave', 'gallo', '69th', 'footstep', 'valve', 'ell', '1460s', 'antigravity', 'luxury', 'pinfall', 'fairgroundshow', '73rd', 'rayon', 'feria', 'thewar', 'pucca', 'arrau', '70', 'Porthos', 'ath', 'vacant', 'offall', 'tue', 'permaculture', 'algal', 'led', 'optometrist', 'bang', '1440s', 'willnever', 'mushroomson', 'molecule', 'plastering', 'the30s', 'sweetheart', 'boulevard', 'toxicity', 'adoption', 'Michaelmas', 'on90', 'transform', 'pokemon', 'baobab', 'beholder', 'choreograph', '25t', 'adoll', '10yr', 'coaster', 'thisgreen', 'pinkbattle', 'diet', 'recollect', 'ken', 'bridegroom', 'acer', 'crested', 'cher', 'a-horse', 'sxsw', 'votive', 'specification', 'seaport', 'pare', 'sung', 'symmetry', 'preschooler', 'shrubbery', 'strength', 'handicraft', 'a-cut', 'involvement', 'multicolor', 'malting', 'minimalist', 'uppercase', 'ngc', 'cupo', 'gather', 'cider', '46th', 'node', 'angiography', 'login', 'literallyrailroad', 'stimulate', 'sao', 'bracket', 'someplace', 'roaring', 'bodied', 'epitome', '60d', 'centuryexport', 'keyboarding', 'steering', 'lt', 'lagging', 'feminism', 'ringing', 'rm38', 'myrtle', 'righthand', 'apiece', 'sativus', 'tier', 'rafting', 'hippo', 'dime', 'homily', 'otherpest', 'bj', 'studding', 'semicircle', 'scratching', 'millimetre', 'bayfront', 'gel', 'snowfall', 'serving', 'acquisition', 'loft', 'onchat', 'redo', 'environment', 'make', 'rumor', 'holder', 'auto', 'frontal', 'orb', 'directive', 'garibaldi', 'pointillism', 'maintenance', 'mow', 'torii', 'orchid', 'amd', 'flaxseed', 'inker', '436th', 'loaf', 'wah', 'today', 'a-camera', 'rug.', 'x32', 'choco', 'acceptance', 'matt', 'promote', 'silage', 'sayit', 'spinning', 'takraw', 'captioning', 'producer', 'absolute', 'booklet', 'ourthe', 'merit', 'wi', 'imminent', '216th', 'otaku', 'constellation', 'breed', 'canal', 'havingstyle', 'screwing', 'electron', 'exo', 'seaman', 'stir', 'necessity', 'mad', 'tortoise', 'casket', 'forgarment', 'municipal', 'thekiddie', 'smashing', 'votedperson', 'chicago', 'switch', '300mm', 'child', 'entre', 'ninetieth', 'sr50', 'chuck', 'astronaut', 'jeanne', 'sphinx', 'nappy', 'mo', 'gt', 'anyx11', 'new', 'theheart', 'surround', 'southbridge', 'porridge', 'advantage', 'bridle', 'shod', 'saysthe', 'achievement', 'separation', 'korowai', 'columbus', 'hispida', 'deployment', 'karat', 'mojito', 'person16', 'meringue', 'seo', 'whatautomobile', 'moma', 'lilac', 'formation', 'assalesman', 'pork', 'livegarment', 'passover', 'headland', \"baha'i\", 'adumb', 'violence', 'smog', 'khichdi', 'cookerbake', 'oftuxedo', 'thepetty', 'grotesque', 'whit', 'mutiny', 'lunching', 'tweed', 'planet', 'hawking', 'elopement', 'reachedanthill', 'shrinking', 'minion', '12th', 'ambiance', 'university', 'oil', 'fleece', 'nok', 'homebuilt', 'support', 'reading', 'fertilizer', 'concrete', 'learn', 'thechocolate', 'holdinginvisible', 'g1', 'intop', 'play', 'kiting', 'foley', 'sweeping', 'keychain', 'side', 'honoringdiplomat', 'ashgabat', 'alarm', 'dong', 'scalp', 'crop', 'peanut', 'rd', 'brachiosaurus', 'consisting', 'aganist', 'andox', 'dev', 'sardine', 'a-mile', 'highwaysno', 'subclavian', 'braising', 'theenlarge', 'september', 'season', 'northern', 'misting', 'undercarriage', 'susu', 'stream', 'tzu', 'shinkansen', 'flasher', 'barrow', 'wingspan', 'pagoda', 'ofboy', 'planetsolar', 'theclass', 'room.', 'wheeled', 'phrase', 'snagging', 'priscilla', 'sleet', 'executive', 'fy95', 'hauling', 'geek', 'bare', 'streetside', 'shish', 'foraging', 'eyeball', 'plumb', 'supply', 'loon', 'boxed', 'default', 'aleatory', 'appendix', 'nic', 'ship', 'year.', 'dish', 'direction', 'scramble', 'hoppin', 'bonding', 'sack', 'pram', 'snapping', 'navigation', 'storyboard', 'get', 'mincing', 'americano', 'noulimeter', 'piano', 'nester', 'ample', 'byjob', 'acting', 'different', 'northwesterly', 'fieldstone', 'hiscastle', 'spinosa', 'variant', 'modest', 'modellingat', 'macro', 'moderato', 'uo', 'diff', 'gunpoint', '1000s', 'fireproof', 'atsport', 'overbite', 'policepaddy', 'waterproofing', 'someoff', 'pigment', 'gargoyle', 'tk', 'debate', 'belching', 'willow', 'theyrock', 'vertical', 'silhouette', 'commemorative', 'daybreak', 'wheat', 'scenic', 'sabre', 'lc', 'orlap', 'rustic', 'quake', 'intermodal', 'academic', 'intelligence', 'attacker', 'farmyard', 'naming', 'shoe.', 'moon', 'sensor', 'discipline', 'war', 'pajamas', 'thesecret', 'avatar', 'card', 'vaulting', 'thumbnail', 'duckbill', 'ocean', 'aberystwyth', 'pandan', 'decathlon', 'cruiser', 'alabaster', 'ivory', 'clamp', 'grade', 'quince', 'sponging', 'onlyaward', 'suburban', 'imperfection', 'disbelief', 'sunbather', 'shrapnel', 'probationary', 'usb', 'trough', '°', 'forbrand', 'cricketer', 'peoplem', 'umbrage', 'salmon', 'melting', 'moonstruck', 'chakra', 'buy', 'bride', 'calledrain', 'phoning', 'abstinent', 'pad', 'vi', 'understory', 'bomb', 'withperson', 'liver', 'videographer', 'deafblind', 'hueddusk', 'balsamic', 'ticket', 'mannequin', 'headboard', 'mown', 'drawssun', 'clubclose', 'ltd.', 'pontoon', 'rage', 'bifida', 'testimony', 'jackknife', 'meyer', 'cmd', 'welcomedperson', 'wattle', 'centime', 'respect', 'sanitizing', 'jewelryon', 'eleventh', 'saying', 'valerian', 'i3', 'repainting', 'rough', 'rainfall', 'pompadour', 'stop', 'phosphorescent', 'asado', 'twp', 'cod', 'tinder', 'c1910', '60mm', 'mitral', 'milligram', 'bookmark', 'ream', '15mph', 'youth', 'predecessor', 'startup', 't.o.', 'quart', 'emcee', 'equipment', 'enterprise', 'yd', 'fortop', 'weathering', 'fest13', 'najah', 'cancel', 'a-panel', 'multiplayer', 'j.t.', 'ontv', 'indigo', 'downtown', 'dreamtime', 'toolbox', 'notch', 'subsistence', 'departure', 'eyebrow', 'classification', 'w1', 'bodysuit', 'climate', 'doughnut', 'plenty', 'warping', '30l', 'contingent', 'her80s', 'byzantine', 'inpop', 'alighting', 'callaloo', '20ft', 'forward', 'u.k.', 'monarch', 'countryconduct', 'butterscotch', '2a', 'bourbon', 'mondo', 'fundraising', 'airbag', 'arco', 'bosa', 'recurve', 'dismissal', 'audio', 'whitefly', 'addition', 'verdict', 'spree', 'biryani', 'warmingstyle', 'corrine', 'fingerprint', 'orc', 'ofm', '5000cc', 'bodhisattva', 'kitchenware', 'divider', 'chan', 'transmedia', 'automobile', 'nueva', 'sonique', 'early70', 'gr', 'autumn', 'laugh', 'nakshatra', 'harar', 'financier', 'onreality', 'defocus', 'funerary', '25fp', 'watchtower', 'snakeskin', 'peel', 'talaq', 'providesthe', 'escorting', 'hello', 'tulip', 'rockstar', 'diverging', 'thespirit', 'viceroy', 'vav', 'tape', 'transport', 'cascade', 'industryis', 'apprentice', 'tempera', 'nave', 'mafia', 'zirconia', 'groomsmen', 'lenten', 'sectionstand', 'part', 'attendsperson', 'a-hole', 'grounding', \"military'smade\", 'knife', 'europop', 'fishingdeath', 'twix', 'fun', 'wardrobe', 'inautomobile', 'poem', 'gerry', '40ft', 'killdeer', 'dani', 'morel', 'parent', 'awidow', 'carer', 'westbound', 'funicular', 'smock', 'thestop', 'snub', 'tamarind', 'thex44', 'chemistry', 'displaykm', 'sac', 'marvel', 'lipid', 'mako', 'agriculture', 'botany', 'saline', 'vahana', 'ordering', 'topping', 'oftv', 'hisbaby', 'formade', 'galah', 'picking.', 'puffer', '13th', 'netting', 'featuringstyle', 'cupid', 'thegreen', 'prey.', 'plansma', 'downstream', 'tabs', 'storage', '50am', 'boardwalk', 'slotting', 'c1935', 'coraline', 'ornamentation', 'reenacting', 'pacy', 'fifth', 't2', 'guacamole', 'assemble', 'multilayer', 'waffle', 'damp', 'adot', 'portico', 'crabbing', 'seamless', 'microscope', 'onlydowntown', 'in93', 'carmine', 'occasion', 'gentian', 'anchorage', 'itinerary', '93rd', 'seabreeze', 'processing', 'rink', 'roller', 'onscience', 'sei', 'factor', 'taildragger', 'subordinate', 'crystallizing', 'streambed', 'investing', 'riparian', 'tyrese', '80cm', '4chan', 'mpm', 'bagfor', 'chaparral', 'worry', 'restroom', 'bag', 'predict', 'dingo', 'warmer', 'komodo', 'cooking', 'march', 'usless', 'shave', 'thought', 'fumble', 'seascape.', 'manure', 'tomorrow', 'pulque', 'lint', 'staccato', 'al', 'snaking', 'caption', 'atorture', 'chelsea', 'vixen', 'totime', 'brake', 'inking', 'getsbetter', 'revamp', 'sesame', 'bambi', 'wilderness', 'submitter', 'hoody', 'reheating', 'premiership', 'instar', 'wildlife', 'sowing', '4wd', 'premierefilm', 'wednesday', 'switchback', 'salon', 'blossoms.', 'tasting', 'blackthorn', 'hooting', 'lgbt', 'antiaircraft', 'welter', 'aspen', 'nigrican', 'holdsperson', 'glas', '100lb', 'a-piecegreenhouse', 'disciple', 'child.', '2m', 'playground', 'recumbent', 'quotedo', 'wolfhound', 'blueberry', 'hergap', 'hotspot', 'rodeo', 'fece', 'continue', 'hydraulic', 'liquorspirit', 'patch', 'kick', 'cult', 'renewal', 'right.', 'waterproof', 'baiting', 'command', 'kingpin', 'speaker', 'slug', 'ancient', 'ofpolitician', 'plateau', 'ofmother', 'trickle', 'padlock.', 'shepard', '\\\\', 'stimulus', 'gross', 'v1', 'freshen', 'goat', 'padlock', 'ss10', 'newto', 'welfare', 'pepsi', 'interchange', 'periodical', 'regular', 'creativity', 'ornery', 'ofcrime', 'thebig', 'captionlast', 'boyfriend.', 'ater', 'apology', 'art.', 'tele', 'tofu', 'floral', 'mantling', 'futuretime', 'remake', 'trial', 'canariensis', 'sibling', 'barefoot', 'prefecture', 'asaircraft', 'matinee', 'scarf', 'aft', 'c02', 'pavilion', 'icing', 'chromosome', 'ina', 'tesla', 'argue', 'ridesperson', 'quarreling', 'caesium', 'whenhome', 'phalaenopsis', 'triangle', 'bib', 'grow', 'tatum', 'castaway', 'napping', 'renter', 'persepolis', 'parachuting', 'airflow', 'axle', 'Thestyle', 'grandcottage', 'swampy', 'pitch', 'foamcomfy', 'woodwork', 'crypto', 'greenfield', 'vermilion', 'dovetail', 'fisheye', 'prepare', 'grunt', 'a-dot', 'secure', 'pineapple', 'personif', 'v1467', 'b.a.', 'slaughterhouse', 'beat', 'blackout', 'sealevel', 'spyglass', 'oftown', '720p', 'marketing', 'ottoman', 'dental', 'lonely', 'glamor', 'theswim', 'diego', 'cpu', 'strangler', 'weaving', 'teaming', 'targetsspeaker', 'rusty', 'karma', 'underneatha', 'steppe', 'hummer', 'monohull', 'showbiz', 'satellite', 'thex18', 'stump', 'ice', 'petal', 'thisartifact', 'c1830', 'dialogue', 'downriver', 'lump', 'alleyway', 'ferry', 'opaline', '1km', 'millwork', 'abseiling', 'tsunami', 'hurrah', 'bookcase', 'attraction14', 'speedboat', 'stateus', 'narrowboat', 'bella', 'tamale', 'net', 'pygmy', '150ml', 'c1905', 'q4', 'yawning', 'fetus', 'intraday', 'cub', 'fuss', 'eco', 'conlang', 'golfer', 'namedperson', 'dal', 'protein', 'jet', 'lexy', 'expedient', 'a-book', 'andwriter', 'toperson', 'birdsong', 'r1194', 'theborn', 'says70', 'this70', 'graying', 'tooth', '118ft', 'unexplainedcloud', 'pirate', 'tiling', 'spaceship', 'freshman', 'grazing', 'groundhog', 'bc', 'broker', 'bullet', 'commute', 'foreground.', 'taxicab', 'rm7', 'themm', 'yakshagana', 'titan', 'peach', 'freaking', 'answer', '481ft', 'Friday', 'destroyer', 'weather', 'palazzo', 'hymenopteran', 'galvanic', 'leonard', 'thali', 'wrasse', 'confessional', 'mag', 'bachelor', 'fight', 'Mondrian', 'nightclub', 'soldering', 'foreigner', 'simulator', 'fond', 'Cuban', 'googly', 'sync', 'binge', 'b.e', 'chutney', 'pounding', 'carding', 'banding', 'mammary', 'screamretro', 'mesquite', 'puffin', 'koalas', 'boast', 'striped', 'suit', 'depart', 'novel', 'journalist', 'skull', 'c1930', 'scoreboard', 'duration', '85th', 'puddle', 'parachutist', '&celebrity', 'photographer', 'blush', 'await', 'topeel', 'recruitment', 'showedanother', 'premier', 'tête', 'ofplay', 'temporary', 'dance.', 'status', 'depreciation', 'spam', 'concave', 'x35x79', 'boxa', 'nickel', 'f1', 'jardin', 'activation', 'circulation', 'g3', 'buccaneer', 'circa94', '355', 'thrill', 'anybody', 'expeditionary', 'headwear', 'tenth', 'cali', '13c', 'ridicule', 'appetite', 'layeredpetal', '1920x1080', 'asthe', 'cloths', 'bullfighting', 'a-mph', 'mammoth', 'vacuole', 'crew', 'tuba', 'irise', 'elite', 'farmland', 'subdivision', 'lure', 'teriyaki', 'limb', 'myhorse', 'applause', 'fungetaway', 'vanishing', 'grotto', 'floodlit', 'g9er', 'capillary', 'thewaning', 'viewpoint', 'fuller', 'filmingreality', 'hvar', 'withinnovation', 'rendering', 'fh', '11yr', 'barometer', 'colleague', 'mirror', 'catjpg', 'dollar', 'handbag', 'ventriloquist', 'static', 'ignorance', 'thursday', 'snip', 'varsity', 'spongebob', 'makeover', 'demerara', 'trillium', \"he'dhave\", 'account', 'archeologist', 'ruddy', \"everyone'scup\", 'reposition', 'chickennugget', 'fromrepair', 'bloomer', 'costing', 'hatching', 'summertime', 'hazard', 'seine', 'government', 'homelessness', 'traverse', 'w-p', 'criticism', 'produce', 'gull', 'commissary', 'theseera', 'personathlete', 'chili', 'scatter', 'curb', 'van', 'capella', 'lovelyx10', 'broadcasting', 'kitten.', 'sway', 'pearl', 'crunk', 'solus', 'half', 'tolerance', 'a-fan', 'grassland', 'watersh', 'archives.', 'snug', 'coach', 'workmanship', 'tab', 'ñ', 'exponential', 'monumental', 'evil', 'boatman', 'thewee', 'streamer', '23ft', 'marquee', 'hive', 'andconsumer', 'kickboxing', 'ska', 'honing', 'truncate', 'delay', 'propelling', 'giganteus', 't.i.', '35cm', 'scoring', 'thur', 'ingredient', 'sequel', 'overload', 'pane', 'stoke', 'spouse', 'republic', 'upcountry', 'cassowary', 'breeching', 'churchalong', 'misty', 'cappella', 'turvy', 'interface', 'flaming', 'statue', 'fall', 'bow', 'ballooning', 'fob', 'loyalist', 'budge', 'blacksmith', 'readsa', 'likeveil', 'techno', 'convict', 'rind', 'kilt', 'caste', 'equation', 'r101', 'stickysushi', 'finesse', 'canonization', 'prank', 'coin', 'incandescent', 'cuckoo', 'hairdressing', 'l-p', 'meet', 'sexism', 'moot', 'impressionist', 'peroxide', 'pointer', 'numero', 'checkerspot', 'comicbook', 'wikipedia', 'adoration', 'woodcutter', 'sabino', 'javelin', 'machine', 'outmarketing', 'fluid', 'cove', 'blackjack', 'kung', 'Monday', 'donation', 'motley', 'kitchenette', 'modular', 'dell', 'meme', 'synagogue', 'snowbound', 'checkout', 'a-wheel', 'someday', 'asfree', 'clasp', 'overview', 'burgh', 'santería', 'phloem', 'atv', 'shaving', 'flycatcher', 'arithmetic', '4x12', 'scary', 'vampiric', 'massing', 'pend', 'hardwood', 'p-t', 'stickman', 'alert', '20v', 'basegarment', 'missile', 'sight', 'alibrary', 'crawfish', 'medicine', 'con', 'rollerball', 'keyhole', 'a-pin', 'presidente', 'lollipop', 'mongoose', 'libra', 'skunk', 'regis', 'trimmer', 'luck', 'getgarment', 'the1985', 'cole', 'mouthwash', 'fry', 'audible', 'heap', 'thanksgiving', 'grinder', 'funday', 'titanium', 'bleed', 'upstairs', 'impasto', 'thermodynamics', 'opiate', 'supplement', 'kaiser', 'grace', 'preservative', 'mainland', 'boi', 'warmblood', 'history', 'paniculata', 'woodpecker', 'marc', 'tick', 'aground', 'oder', 'greet', 'challenge', 'killa', 'flesh', '30c', 'a-use', 'cup', 'aspin', 'dogwood', 'specimen', 'conveyance', 'veiling', 'jurisdiction400', 'sirloin', 'granule', 'inc', 'headlining', 'filament', 'a-child', 'cousincat', 'manyzen', 'nothing', 'reggae', 'anxiety', 'liberation', 'bronc', 'assi', 'asport', 'lamb', \"90'ty\", 'backward', 'prow', '4pot', 'hexagon', 'bygovernment', 'thebackside', 'chafing', 'monotone', 'dump', 'dynasty', 'ger', 'statehouse', 'createdgarment', 'tojinja', 'watermelon', 'earth.', 'frosting', 'math', 'multifunction', 'pacey', 'prophet', 'sideways', 'fresh', 'thepottery', 'limp', 'embryo', 'anapartment', 'resin', 'miller', 'lada', 'akimbo', 'freehold', 'creation', 'cornuta', 'offshoot', 'insnorkel', 'terraced', 'oer', 'negotiating', 'generationnew', 'thespunky', 'ratio', 'shopaholic', '34th', 'photographing', 'empty', 'ofslow', 'coconut', 'brough', 'cellulitis', 'uppermost', 'oxalis', 'archer', 'creature', 'owing', 'forno', 'livery', 'the1992', 'loaner', 'vaccination', '®', 'Lakme', 'brisure', 'parabola', 'livery.', 'ragwort', 'suaveolens', '230mm', 'autism', 'rook', 'skye', 'amazon', 'natwest', 'trench', 'the00', 'attache', 'supermodel', 'coupon', 'coveringa', 'vespa', 'highball', 'het', 'sick', 'skinhead', 'e46', '130ft', 'standby', 'charolais', 'instrument', 'safari', 'gi', 'ruman', 'gleaning', 'dungeon', 'spina', 'upping', 'timber', 'akeep', 'orday', 'asthma', 'late', 'rife', 'relic', 'swatch', 'sr', '67s', 'constitution', 'backamerican', 'ucla', 'courthouse', 'beeping', 'relationship', 'litho', 'personthere', 'theinept', 'cleaning', 'harvey', 'sluice', 'speckle', 'motorize', 'tomato', 'pollution', 'earmuff', 'mighty', 'wildflower', 'disrepair', 'signpost', 'ityellow', 'mist', 'her90s', 'conveyor', 'elderberry', 'k', 'grizzly', 'miss', 'gloss', 'goalkeeping', 'rs.', 'petro', 'thisrhubarb', 'ofcomposition', 'masking', 'bloom', 'waxing', 'monk', 'herego', 'wainscoting', 'movie.', 'airstrip', 'behaviour', 'evacuee', 'andphilosopher', 'metabolism', 'millipede', 'line', 'coo', 'plasticine', 'harmondsworth', 'lookout', 'rear', 'outfit', 'yo', 'pinnacle', 'national', 'revolutionary', 'tagline', 'priority', 'foyer', 'symbolizingfaith', 'd:', 'x-inch', 'shiver', 'e63', 'clerk', 'paella', 'findsnew', 'li', 'heal', 'hirta', 'backend', 'fifa', 'dumbbells.', 'parkside', 'windward', 'modernist', '80lb', 'musing', 'precinct', 'vat', 'kwh', 'cézanne', 'acapella', 'store', 'remodel', 'arty', 'coffeemeal', 'llama', 'togarment', 'film60', 'hearing', 'toadstool', 'yougood', 'textwith', 'poring', 'squid', 'cigarette', 'elder', 'sign.', 'sergeant', 'plank', 'tilework', 'boxy', 'sash', 'helium', 'othermust', 'bw', 'tailor', 'mozzarella', 'crust', 'spying', 'lemon', 'rampant', 'skindred', 'frannie', 'rhomboid', 'plex', 'bouncer', 'ministering', 'varnish', 'flirting', 'artic', 'sanitizer', 'batch', 'subset', '0f', 'packaging', 'lyric', 'shoreline', 'Bobby', 'b12', 'estaing', 'rake', 'biloba', 'acatch', 'substation', 'drinkdistillery', 'raglan', 'cutout', 'telephone', 'reindeer', 'bowl', 'aircraft', 'sixfold', 'whenperson', 'spilling', 'bakelite', 'upfront', 'textile', 'enemy', 'swaddling', 'overlooksa', 'drooping', 'catchem', 'tfsi', 'want', 'cowgirl', 'snowmobiling', 'philosophy', 'pup', 'visa', 'chock', 'ofathlete', 'bugs.', 'vase', 'pole', 'glitz', 'planting', 'clayey', 'massacre', 'coaxing', 'totv', 'kn', 'october', 'overworking', 'headache', 'tyne', 'posterity', 'macmonny', 'lid', 'indo', 'paperback', 'doppelganger', 'ofdutch', '400mm', 'cuisine', 'checklist', 'chauffeur', 'latina', 'primum', 'help', 'ppt', 'amega', 'trashcan', 'stable', 'judgement', 'Seacoast', 'a-door', 'shock', 'caliper', 'andfilm', 'ashigh', 'leaderbackstage', 'sanity', 'northbound', 'honeysuckle', '30th', 'ace', 'broadway', 'thewhite', 'skiff', 'cramming', 'adry', 'stein', 'relate', 'mask', 'handful', 'toget', 'networking', 'harry', 'handloom', 'pull', 'demo', 'scrubbing', 'toi', 'a-hp', 'devour', 'nape', 'passersby', 'bristle', 'weapon', 'flood', 'townhall', 'mandala', 'breast', 'sandino', 'common', '1790s', 'liberator', 'hoot', 'classify', 'batholith', 'signature', 'bifrost', 'cron', 'amini', 'browse', 'guttatus', 'gigawatt', 'comic', 'burp', 'typestay', 'isgarment', 'reap', 'a-nick', 'sauvignon', 'yearn', 'filipina', 'syringe', 'memo', 'thecanvas', 'raleigh', '346ci', 'beltline', 'ahomage', 'cyclone', 'rsi', 'theorist', 'savage', 'includeperson', 'nola', 'bodybuilding', 'superfly', 'cleethorpes', 'aflapper', 'salvaging', 'prize', 'trident', 'beingtoo', 'explosion', 'bootstrap', 'quarantine', 'tend', 'monogrammed', 'darkling', 'footballing', 'orangutan', 'labelmate', 'painter', 'a-car', 'flaxen', 'dreadnought', 'other', 'theumbrella', 's100', 'bijo', 'fist', 'graphic', 'buttercup', 'undergrowth', 'commemorating', 'snout', 'their90', 'general', 'mayfly', 'valentine', 'phenomenon', 'survey', 'a-capacity', 'wrist', 'likeness', 'atnext', 'pilot', 'beam', 'fryer', 'somecool', 'parsnip', 'turbocharged', 'year', 'attendee', 'findsalone', 'wireframe', 'contact', 'dachshund', 'frock', 'reddening', 'marina', 'bollywood', 'specialty', 'wicker', 'hieroglyph', 'aurora', 'welsh', 'arousal', 'floorcrawl', 'multilevel', 'cheetah', 'aflex', 'cooper', 'mobilephone', 'spectrum', 'mule', 'over-knee', 'corroding', 'spd', 'lot', \"5'6\", 'monitoring', 'alloy', 'discrimination', 'heredity', 'noni', 'beachfront', 'renovation', 'acrossside', 'crave', 'louvered', 'swimsuit', 'retract', 'European', 'electrician', 'gossiping', '24d', 'series', 'partnership', 'concert.', 'tornado', 'normal', 'hearth', 'sequin', 'saidretail', 'hassample', 'surge', 'nephew', 'cinematographer', 'tetris', 'thisopposing', 'rhombus', 'crucifix', 'foraircraft', 'chipping', 'pale', 'rigger', 'bakar', 'coaling', 'inverse', '%', 'initial', 'dolphin', 'knapweed', 'playerwill', 'give', 'trajectory', 'millisecond', 'Streetcar', 'keyboardist', 'placebetween', 'rio', 'electricsystem', 'over-third', '3x', 'froth', 'kestrel', 'interweave', 'c1785', 'bezel', 'afterparty', 'furnishing', 'salisbury', 'sketch', 'withdeity', 'camber', 'saiga', 'tropic', '89th', 'tricity', 'planner', 'proceeding', 'physicist', '49', 'cycle', 'viburnum', 'fineness', 'gbs', 'japan', 'congratulatesperson', 'plaza', 'drifter', 'loung', 'menshoot', 'P.', 'saidi', 'ininvention', 'germany', 'maintenancedo', 'classwork', 'yonder', 'taxing', 'payment', 'ethnicityoff', 'chevron', '330', '6x6', '17cm', 'whist', 'number8', 'rpm', 'textbook', 'enka', 'pizza', 'screenwriter', 'horsehair', 'jefferson', 'nord', 'stalk', '165', 'architect', 'amum', 'british', 'hellebore', 'garner', 'ga', 'meseta', 'bucks.', \"W'malley\", 'inaugurate', 'flurry', 'thedrunk', 'key', 'lathe', 'mountainside', 'sessile', 'grange', 'inherit', 'samefont', 'interception', 'ventilation', 'mutual', 'signsno', 'cork', 'onperson', 'frisbee', 'calledocean', 'episcopal', 'ache', 'main', 'watchorganisation', 'artblooming', 'statistic', 'zoë', 'cigar', 'ebay', 'ita', 'porbeagle', 'boon', 'insect', 'phase', 'walrus', 'gummy', 'esophageal', 'cornerback', 'mastery', 'sio', 'cz', 'backpacker', 'a+', 'waddling', 'eu', 'north', 'mardi', 'a-guide', 'brooke', 'rouge', 'sop', 'backpacking', 'turn', 'gesture', 'storeylandmark', 'trumpet', 'quenching', 'panamax', 'videotaping', 'signing', 'world.', 'mach', 'continuum', 'parameter', 'rest', 'landlord', 'weeklong', 'bt', 'nigrum', 'cartography', 'juvenile', 'leftspoilt', 'a-yard', 'coloring', 'fallow', 'tide', 'stressing', 'resemblance', 'looped', 'tater', 'rower', 'hz', 'dare', \"golf'sfifth\", 'ownsautomobile', 'herald', 'greatroom', 'reinforcement', 'ragweed', 'andpapal', 'varioussleigh', 'a-apartment', 'seashore', 'sport', 'ft', 'dorset', 'carcar', 'curvature', 'game', 'hobbit', 'nibbling', 'canalside', 'babbling', 'dribble', 'baltistan', 'shutter', 'ofcute', 'sel', 'ferris', 'amount', 'excitement', 'swimwear', 'battlesa', 'Coco', 'f150', 'budget', 'mohican', 'coarse', 'd2', 'thieving', 'ofem', 'ink.', '96fp', 'fertility', 'isotope', 'weeding', 'showingfuck', 'formal', 'blaze', 'dominos', 'decode', 'ne', 'particulate', 'gemsbok', 'publishedperson', 'dispatch', 'direct', '16cm', 'bodyboarding', 'murano', 'skyrocket', 'eachplant', 'hermolting', 'Ss16', 'domino', 'talon', '10min', 'gnawing', 'Faisal', 'schueler', 'sedum', 'swiss', 'velour', 'columbian', 'eruption', 'melody', 'Mod', 'jerking', 'barricade', '707', 'clearingm', 'strict', 'Chanukah', 'waddle', 'symptom', 'a-era', 'cloven', 'curling', 'electroplating.', 'fedora', 'a-km', 'tis', 'infrastructure', 'loop', 'billow', 'lettersthe', 'capitalization', 'rhyming', 'refuse', '54kg', 'callsfunny', 'worshiper', 'reserve', 'tweezers', 'quaint', 'canister', 'drumstick', 'triathlon', 'teens', 'devastation', 'bishop', 'campus', 'fido', 'voluntary', 'gatorade', 'goo', 'aw', 'ebony', 'whistling', 'drainage', 'wasabi', 'instructor', 'latitude', 'bombing', 'somestreet', 'kanal', 'feasting', 'f.', 'wordchild', '103rd', 'stoner', 'bruiser', 'aching', 'loose', 'brews', 'rouble', 'wisterion', 'simplifying', 'spiny', 'add', 'sach', 'brooch', 'ofadventure', 'wich', '300', 'parsec', 'worksheet', 'stunting', 'nsync', 'perspex', 'cajun', 'speeder', 'alfresco', 'a-bar', 'fume', 'murallet', 'pocket', 'accordion', 'voice', 'ripe', 'meander', 'tester', 'athank', 'rotor', 'blemish', '6km', 'a60', 'alternate', 'microsystem', 'offense', 'poker', 'vietnam', 'mind', 'weighing', 'veneer', 'vie', 'reissue', 'thebald', 'flapper', 'jolly', 'cheeseburger', 'fives', 'a-stroke', 'classicstyle', 'aspect', 'denmark', 'stranger', 'slingshot', 'lantana', 'almond', 'tango', 'month', 'a-day', 'carla', 'againstbasketball', 'octane', 'trait', 'chanukah', 'website', 'a.d.', 'offensive', 'cats.', 'storming', 'holiday', 'beau', 'withgangsta', 'reus', 'ire', 'classicperson', '1840s', 'utmost', 'chiming', 'mx', 'starting', 'pacing', 'pinup', 'berm', 'liquor', 'millionth', 'edison', 'pleat', 'stadium', 'greatstyle', 'dumbo', 'electro', 'you', 'tourism', 'sailor', 'graffitithe', 'koa', 'extend', 'disclosure', 'transportation', \"that'smaid\", 'catalogue', 'genuine', 'moulting', 'damage', 'street', 'mw', 'crystal', 'santa', 'lemony', 'highline', 'souk', 'tempranillo', 'domiciliary', 'potting', 'mulling', 'eurovision', '10bit', 'aviary', 'invitedperson', 'franchise', 'passing', 'padi', 'teak', 'sightedness', 'highlightedautomobile', 'durandal', '1370', 'airstrike', 'excavation', 'platformer', 'burglar', 'onstage', 'regional', 'knife.', 'momo', 'bek', 'impression', 'jedi', 'clearance', 'riverbank', 'wasmost', 'ofwooden', 'supercomputer', 'cline', 'n2', 'dessert', 'chopper', 'magma', 'advertise', 'pda', 'sweeper', 'zoot', 'hippopotamuse', 'chroma', '88th', 'medication', 'cubed', 'velvet', 'tribessince', 'disposing', 'lettering', 'regeneration', 'lattice', 'honolulu', 'kama', 'mohawk', 'piecing', 'daffodil', 'humphry', 'mare', 'maintain', 'gymnastic', 'majolica', 'cancelling', 'dependent', 'boastsa', 'byfilm', 'resignation', 'imma', 'statingall', 'ragamuffin', 'catskill', 'calorie', '505hp', 'toed', 'ahate', 'bog', 'ex.', 'escudo', 'aluminum', '17th', 'dah', 'fail', 'toothache', 'satire', 'yearning', 'corydora', 'toorganisation', 'guy', 'larval', 'compromise', 'dx', 'guideline', 'purebred', 'withbaby', 'wasan', 'burl', 'wensleydale', 'shoo', 'dover', 'event', 'fall10', 'ofgarment', 'offer', 'ss18', 'clutter', 'life', 'solvent', 'quail', 'newcomer', 'message', 'airliner', 'carolina', 'yesteryear', 'geoff', 'inline', 'supernatural', 'swoop', 'dress.', 'relaying', '100mph', 'burn', 'catwoman', 'populus', 'grandpa', 'diving', 'climax', 'driveway', 'whisker', 'barnstaple', 'chop', 'croquet', 'saw', 'be-retired', 'albedo', 'snack', 'ying', 'mermaid', 'transhumance', 'hematite', 'slick', 'chase', 'clarinet', 'council', 'kai', 'atelier', 'dasanti', 'anchor', 'the2016', 'sacrificing', 'restore', 'heritage', 'tipsy', 'villain', 'candlelight', 'locust', 'trace', 'standscm', 'dl', 'maneuvering', 'suiting', 'meltdown', 'doughty', 'Suzdal', 'interlock', 'mediterranean', 'longyearbyen', 'slump', 'tachinid', 'ayeyarwady', 'traditionaland', 'red', 'dollie', 'lang', 'smallville', 'kronor', 'concentration', 'ji', 'gluing', 'profession', 'a-space', 'capstan', 'weep', 'skier', 'costperson', 'caveman', 'anaglyph', 'sciurus', 'z5', 'amish', 'monument', 'karting', 'gui', 'thriller', 'Smith', 'sayingthe', 'atheist', 'rate', 'x-ft', 'katie', '1680', 'okra', 'baguette', 'praying', 'bikinis', 'scoter', 'wit', 'vega', 'affaire', 'absolution', 'polychrome', 'discomfort', 'interval', 'volumetric', 'epiphyte', 'c.c.', 'playerscore', 'punctuation', 'wordsgreat', 'autobahn', 'tokusatsu', 'bite', 'portfolio', 'c1916', 'hk', 'clinker', 'hoover', 'bacon', 'rm', 'lunar', 'probability', '1d', 'invertebrate', 'subcompact', 'dancin', 'cougar', 'character', 'overflowingto', 'colony', 'roan', 'leapfrog', 'ruffle', 'headscarf', 'latticework', 'christening', 'computing', 'palladian', 'hyena', 'hat.', 'gator', 'chute', 'office', 'atlantic', 'gia', 'v4', 'neglect', 'empire', 'andsun', 'korean', '36mm', 'moisture', 'bar', 'odi', 'telecomumication', 'takesperson', 'stylegreen', 'vain', 'defying', 'perception', 'storey', 'rut', 'doodle', 'cabinet', 'grandeur', 'montmartre', 'vomit', 'grandson', 'partaking', 'whirligig', 'diamond', 'casting', 'scavenging', 'cubism', 'combating', 'repairing', 'wouldactor', 'inning', 'formulas', 'upload', 'caring', 'tool', 'ear', 'missive', 'restart', 'tote', '11hp', 'goody', 'capsizing', 'instore', 'bulb', 'molle', 'scrimmage', 'jugular', 'applicator', 'rug', 'chantingmu', 'favourite', 'culinary', 'gazebo', 'newlyw', 'goalkeeper', 'kayleigh', '3pm', 'printing', 'pileus', 'patron', 'gangsta', 'plant', 'rugrat', 'gliding', 'crypt', 'dee', 'mason', 'including80', 'gourmet', 'foord', 'palate', 'flyingon', 'spoke', 'tableware', 'mange', 'touchdown', 'sly', 'interrorism', 'cloak', '29xx', 'gh', 'splendor', 'administration', 'necklace', 'facet', 'elementary', 'vish', '21', 'this800', 'tere', '¿', 'scorn', 'picturesque', 'sp19', 'goanna', '85mm', 'paulo', 'pointillist', 'illustrationjar', 'declaration', 'fennec', 'earning', 'clovertree', 'hedge', 'liquidation', 'polarising', 'jj', 'controller', 'bodyweight', 'gato', 'Bullock', 'worshipper', 'd6', 'neighborhood95', 'countdown', 'gothic', 'engrave', 'of80', 'trilateral', 'monoplane', 'sourdough', 'found', 'pleasure', 'thiscause', 'stylishly', 'greenhouse', 'geology', 'liar', 'ram', 'star', 'telegraph', 'bani', 'tyre', 'glittery', 'flax', 'stripe', 'injury', 'fireball', 'insomniac', 'chalice', 'micro-third', 'aroha', 'discus', 'mecha', 'blogger', 'mayo', 'refrigerator', '14ft', 'minicomic', 'ownhybrid', 'pulsing', 'isperson', 'strand', 'consult', 'read', 'nicknamedperson', 'stringed', 'parental', 'tugboat', 'concept', 'vodka', 'dye', '5cm', 'dursley', 'plotting', 'gooseberry', 'grief', 'est', 'beret', 'ed.', 'animal', 'domesticus', '330p', 'headshot', 'arthroscopic', 'serpent', 'silo', 'coverup', 'kiss', 'tom', 'valance', 'intersecting', 'latte', 'pm', 'lawyer', 'toga', 'breather', 'cement', 'colorful90', 'bateau', 'spokesperson', 'mop', 'detectionpuppy', 'principle', '400m', 'copy', 'forindustry', 'therelease', 'motorbike', 'mile', 'eyeshadow', 'foradventure', 'smart', 'december', 'boutique', 'suspiria', 'mystere', 'canine', 'observation', 'ip', 'a-figure', 'shellfish', 'fafner', 'multiuse', 'downa', 'witness', '50mph', 'howtraffic', 'motorhome', 'karner', 'occupancy', 'pump', 'announcement', 'thumbprint', 'gunter', 'inscription', 'intensive', '2d', 'teamer', 'a-line', 'r.e.', 'layout', 'scrapping', 'skydiver', 'random', 'deliciousstyle', 'godspeed', 'lighten', 'readsbut', 'sleeve', 'townhouse', 'festival92', 'heart', 'seabiscuit', 'dora', 'coliseum', 'asnake', 'dubay', 'sunshine', 'duke', 'toescape', 'mime', 'cine', 'flirt', 'speciality', '45th', 'plicata', 'a20', 'sunburst', 'execution', 'kenworth', 'xp', 'rf', 'spookywitch', 'mash', 'raise', 'gie', 'dressedphotography', '1560s', 'carting', 'charity', 'gt1', '19oz', 'vow', '113th', 'aheat', 'tostay', 'cellulose', 'mentor', 'offsport', 'astro', 'travelingforestry', 'challah', 'mba', 'whereat', 'to60s', 'vanquish', 'period', 'theperiod', 'animate', 'chew', 'axe', 'cress', 'reality', 'spotting', 'strip', 'rosewater', 'cholesterol', 'overtaking', 'paintsventure', 'caching', 'beautiful55', 'casa', 'sista', '4km', 'lipstick', 'mopping', 'sir', 'thefire', 'trout', 'backhand', 'shack', 'gingham', 'cinerea', 'promoter', '159th', 'bestmini', 'mystreet', 's-d', 'daycare', 'germ', 'reed', 'evergreen', 'a-side', 'hobo', 'programmer', 'posture', 'bagsin', 'blot', 'roofing', 'kidnap', 'pencil.', 'dos', 'ketubah', 'a-inch', 'puzzle', 'c1929', 'kimchi', 'sophomore', 'dresser', 'kind', 'jupiter', 'shroud', 'chladni', 'shopping', 'focal', 'curved', 'muslim', 'hockey', 'permafrost', 'formelodrama', '6in', 'organizing', 'spectacular', 'bollinger', 'cobblestone', 'education', 'clam', 'wrinkle', 'microphone', 'x100', 'inbunk', 'zero', 'defence', 'inall', 'squirrels.', 'sigh', 'adessert', 'p1', 'zest', 'sunburn', 'creed', 'insideroman', '1120s', 'thrust', 'downdo', 'pc50', 'forsport', 'itch', 'bulldozer', 'vermin', 'marked23', 'palatino', 'stew', 'oriole', 'galangal', 'paise', 'hellboy', 'likea', 'pink.', 'remover', 'washedisland', 'lych', \"daughter'sday\", 'floorboard', 'orunesco', 'sitter', 'cleat', 'towardshewitt', 'steaming', 'fen', 'roadway', 'cerium', 'magnesium', 'assessment', 'in7', 'slo', 'hussar', 'consort', 'growling', 'opportune', 'sombrero', 'skydiving', 'tankard', 'amug', 'thi', 'pail', 'alcove', 'deed', 'player', 'christ', 'ukiyo', 'balmoral', 'critique', 'ayat', 'holidaytraffic', 'soundcheck', 'sarcophagus', 'myriad', 'f4', 'noon', 'mourner', 'newsreel', 'buff', 'masquerade', 'nation', 'chromolithography', 'trippin', 'milkweed', 'daredevil', 'field', 'pct', 'sneeze', 'pimento', 'enroute', 'tabernacle', 'amal', 'joystick', 'outlet', 'patho', 'ruby', 'concert80', 'saladthis', 'team', 'gleam', 'most60', 'murder', 'squinting', 'manager', 'freelance', 'on', 'cubic', 'lineside', 'powerboat', 'personu', 'w2', 'coffin', 'pacman', 'elle', 'tun', 'anole', 'gentleman', '16v', 'breeze', 'jaguar', 'bushel', 'ceiba', 'condens', 'plasma', 'gifting', 'ittoo', 'myboring', 'a-touchdown', 'timeround', 'thecool', 'retire', 'sleep', 'a-button', 'the1940', 'unveiling', 'australis', 'elk', 'cutoff', 'Thegolden', 'magic', 'radiator', 'assteam', 'downrange', 'south', 'worthma', 'olly', 'cow', 'backseat', 'tarp', 'decoy', 'pharmacy', 'week', 'aburning', 'awards14', 'armchair', 'tech', 'mastitis', 'everyday', 'asman', 'includingcricket', 'quarrel', 'gamelan', 'chianti', 'voter', 'rail', 'u', 'brown.', 'dory', 'walnut', 'm5', 'headfirst', 'abeginner', 'mano', 'causeway', 'modi', 'pudding', 'scholar', 'sledgehammer', 'followperson', 'fiber', 'person91', 'busking', 'shame', 'awareness', 'aud', 'mandatory', 'grasp', \"8'x4\", '2912cc', 'hypericum', 'astroturf', 'redeem', 'jig', 's6', 'bevel', 'macaco', 'refer', 'amphibian', 'meteorite', 'gong', 'lettuce', 'gardener', 'beetle', 'cushion', 'aman', 'numerology', 'aqua', 'gameday', 'cufflink', '15x8', 'roady', 'mâché', 'andart', 'hasa', 'Mitsubishi', 'hq', 'balaclava', 'twinkling', 'mall.', 'antibody', 'tvdhow', 'distillery', 'granary', 'keirin', 'routine', 'lunge', 'raven', 'closure', 'vacuum', 'dragon', 'brainwashing', 'ce', 'mormon', 'ofchrist', 'hunk', 'bygangsta', 'mayday', 'person11', 'flava', 'intertwine', 'famine', 'cho', 'godfather', 'crouton', '100ml', 'reminiscent', 'generation', 'championship', 'che', 'taxiing', 'polk', 'supersport', 'dec', 'façade', 'pot', 'chlorine', 'butch', 'dynamic', 'map', 'matchup', 'tisza', 'showsfootball', 'calif', 'horde', 'stationery', 'scull', 'grilled', 'milk', 'topic', 'aquantum', 'labor', 'callsmy', 'ashore', 'lantern', 'embossing', 'wasextremely', 'b05', 'difficulty', 'toilet&', 'tingling', 'oon', 'reve', 'andanimal', 'firecracker', 'from92', 'campy', 'scrub', 'Duringan', 'cansee', 'sequoia', 'hemlock', 'adrenalin', 'tartan', 'jodo', 'lemongrass', 'starlite', 'lx', 'takingand', 'rubbish', 'nibbler', 'convert', 'coppery', 'pecan', 'tumefacien', 'poolpour', '149th', 'conversation', 'pentagon', 'sunscreen', 'cocoon', 'kale', 'double', 'tax', 'snorkeling', 'paris', 'lance', 'sincerity', 'archery', 'rambutan', 'saddle', 'pink', 'chickpea', \"10'x10\", 'indication', 'headgear', 'lithium', 'tory', 'ironwood', 'settlement', 'cap', 'bluebonnet', 'chairwoman', 'taiko', 'success', 'cockroach', 'the16x20', 'flaring', 'Prairie', 'version', 'reciprocal', 'yarrow', 'mehndi', 'recliner', 'protégé', 'realism', 'jaundice', 'playtime', 'il', 'developement', 'trekking', 'skyline', 'gil', 'jobless', 'planking', 'umpire', 'isla', 'jewelery', 'rechargeable', 'another90s', 'talent', 'nicknamedactor', 'dn', 'voodoo', 'biker', 'bootleg', 'priming', 'fourth', 'conditioning', 'wretch', 'a-piece', 'score', 'p.e.i.', 'cobbler', 'center', 'hunting', 'detention', 'unlock', 'strangle', 'landmark', 'collective', '2b', 'caribbean', 'hindu', '59cm', 'peer', 'mention', 'ghoul', 'thepolice', 'vetch', 'originalmade', 'roll', 'keynote', 'deadline', 'transformer', 'ranunculus', \"nor'easter\", 'jewellery', 'mirroring', 'p90', 'thex39', 'bebe', 'reward', 'dons60s', 'reprisal', 'sery', 'poverty', 'sparkler', '90', 'liquidambar', 'for70', 'bouquet.', 'pewter', 'thistle', 'saguaro', 'jumbo', 'bulletin', 'respects', 'arise', 'anoutdoor', 'mong', 'withautomobile', 'motorcycling', 'wala', 'quit', 'chess', 'ofarchitect', 'jackpot', 'cut', 'cottonwood', 'quick', 'r7', '20yr', 'muting', 'frombook', 'thisbald', 'dress90', 'a-weed', 'wand', 'contest', 'boxing', 'a-49er', 'collapsible', 'c1533', 't51', 'bus.', 'memoire', 'innovation', 'flee', 'mph', 'md', 'entrytoday', 'frost', 'straightdo', 'coating', 'on80', 'stair', 'nonsense', 'penny', 'pongal', 'schoolhouse', 'unite', 'featureshuge', '29', 'seminar', 'arming', 'reaction', 'intercepting', 'settling', 'titanic', '50cc', 'oldbarn', 'lev', 'tothe', 'jackal', 'again', 'midriff', 'yong', 'lefty', 'cladding', 'pekingese', 'rastafarian', 'trailer', 'illustrationa', 'expat', 'recreation', 'glassas', 'lapse', 'steadicam', 'wind', 'gown', 'fabulousman', 'saab', 'literallyunder', 'stud', 'quotient', 'flim', 'elata', 'decanter', 'peak', '120kg', 'headstock', 'quality', 'arearea', 'effect', 'reopening', 'recuse', 'sky', 'cose', 'placer', 'accretion', 'bonny', 'karaoke', 'substitute', 'tight', 'handcuffs', 'jitsu', 'jaunty', 'air', '18k', 'vintage.', 'for69', 'beanie', 'ambience', 'crosstown', 'cadaver', 'synthpop', 'sewing', 'crustacean', 'dusting', 'grass.', 'coy', 'mib', 'agglomerate', 'calcium', 'courtesan', 'forth', 'contactless', 'favela', 'tdi', 'panel', 'spandrel', 'rehearsal', 'escarpment', 'injection', '30lb', 'yearbook', 'shed', '51cm', 'trolling', 'areca', 'max', 'rye', 'visitingfilm', 'incorporate', 'dang', 'bunca', 'colt', 'x14h', 'embroidering', 'escapes', 'wicking', 'scope', 'tree', 'houseplant', 'moonrise', 'pollination', 'ride', 'sc', 'hold', 'byperson', '30fp', 'chrysalis', 'toon', 'possession', 'freesia', 'bmw', 'forwar', '<3', 'loris', 'mefeel', 'pedestrian', 'tantrum', 'wrapping', 'underclass', 'rob', 'savings', 'shopkeeper', 'Mafioso', 'sunglass', 'stretch', 'bay', 'tortoiseshell', 'release', 'opponent', 'volatility', 'x', 'barb', 'smother', '67th', 'recognize', 'raving', 'booty', 'circuit', 'jihad', 'orbital', 'housing', 'demolishing', 'cask', 'reactor', 'asbeach', 'weight', 'siamese', 'havewasp', 'theha', 'streak', 'chipotle', 'african', 'cellophane', 'cord', 'screambeach', 'diwali', 'hype', 'ahalo', 'howbusy', 'extraordinaire', 'placement', 'strawberry', 'sawyer', 'olympic', 'lakeshore', 'bookshelf', 'labourer', 'knight', 'banner', 'hospital', 'nip', '122nd', 'pan', 'birthdaycake', 'spaniel', 'complete', 'publicity', 'downfall', 'motor', 'stele', 'wool', 'kabaddi', 'chaga', 'pardus', 'assembly', 'perimeter', 'honeybee', 'a.', '757', '22', 'metall', 'refectory', 'maktab', 'sayingdream', 'paragliding', 'bobbin', 'lozenge', 'micrantha', 'consultative', 'bard', 'walpurgis', 'tarantula', 'covert', 'worship', 'establish', 'hippocampus', 'calving', 'documenta', 'muzzle', 'flyin', 'claret', '40hr', 'premium', 'teardrop', '×', 'hisfavorite', 'untangle', 'bookable', 'mute', 'multimedia', 'supercar', 'brute', 'c1920', 'embodiment', 'iwan', '1810s', 'building', 'receiver', 'piercing', 'plexus', 'angling', 'tense', 'rectangular', 'bunny', 'tailgating', 'knotting', 'biodiversity', 'achieve', 'marmite', 'slope', 'saith', '37mm', 'muscat', 'fetching', 'stroke', 'atperson', 'turbot', 'a-horsepower', 'skill', 'overture', 'aspring', 'monaco', 'umpiring', 'rejuvenation', 'wormhole', 'breezy', 'moorland', 'dignitary', 'e', 'antiquarian', 'seat', 'exorcist', 'marksman', 'joke', 'panting', 'opener', 'packsurf', 'sail', 'breedingcartoon', 'originaly', 'drinkin', 'mongrel', 'bowling', 'state', '2030', 'spinach', 'dutch', 'anddiet', 'kcet', 'trackside', 'herwarm', 'mulching', 'andworm', 'hermit', 'howling', 'agaric', 'antiqua', 'businessall', 'isstreet', 'phyla', 'leg', 'standout', 'supermini', 'calledhealthy', 'mrs', 'tinybearing', 'yearround', 'raster', 'jambalaya', 'colorist', 'decorator', 'idea', 'plumose', 'aflame', 'vantage', 'yurt', 'ebb', 'oft', 'downloading', 'subtree', 'bayou', 'they', 'elliptical', 'oop', 'tangerine', 'beginner', 'elbow', 'lounging', 'nuptial', 'rolex', 'lassie', 'shooter', 'carhartt', 'mmt', 'ten', 'bushi', 'green', 'olive', 'germination', 'schedule', 'playaction', 'sheath', 'kaiju', 'reflex', 'scalloping', 'berth', 'eps', 'deforestation', 'athomeout', 'thestair', 'ember', 'feather', 'majus', 'tigger', 'blacken', 'naturalmovement', 'transformation', 'pastel', 'amok', 'gob', 'monokini', 'barking', 'ripeness', 'retriever', 'accent', 'set60s', 'ontostyle', 'posthumous', 'shine', 'borough', 'anold', 'comb', 'a-footer', 'suspicion', 'jul', 'hoy', 'chicory', '3mm', 'quotes.', 'businesswoman', 'broadside', 'naturalist', 'theblue', 'kurti', 'font', 'backlighting', 'istanbul', 'atautomobile', 'oversize', 'occurrence', 'artistx22', 'aplenty', 'peppercorn', 'nylon', 'charcoal', 'signaturesquare', 'upfield', 'hoard', 'incoming', 'reborn', 'mound', 'juice', 'bindweed', 'Argyle', 'brahman', 'operation', 'hypertension', 'painhow', 'injectionunder', 'citation', 'malibu', 'workman', 'aerialist', 'literacy', 'prong', 'trader', 'over-jean', 'flyover', 'tiny', 'hes', 'thunderbolt', 'cannon', 'wheelchair', 'ravine', 'Saharan', 'bible', 'preening', 'tacking', 'homebase', 'pug', 'silk50', 'starfish', 'homme', 'delight', 'adidas', 'runway', 'footpath', 'cache', 'islam', '200th', 'shuriken', 'wasstate', 'peeking', 'jungle', 'dm', 'caldo', 'rocky', 'bikini', 'throat', 'still', 'waltz', 'courage', 'safe', 'throne', 'clucking', 'academy', 'wee', 'seagull', 'wastime', 'dunk', 'calla', 'grapevine', 'siding', 'braid', 'shaking', 'training', 'rave', 'trumpeter', 'perigee', 'race.', 'ajeep', 'destruction', 'mews', 'conserve', 'diary', 'foxhound', 'circulatory', 'adeer', 'jambo', 'wing.', 'erosion', 'arching', 'chassis', 'howbout', 'sandal', 'paint', 'corniche', 'anarchist', 'gelato', 'informatics', 'grit', 'jewelry', 'halfway', 'fretting', 'fragrant', \"o'clock\", '1290s', 'allergy', 'rainwater', 'quartet', 'e4', 'abating', 'investment', 'rainy', 'tabby', 'multichannel', 'aqueduct', 'roman', 'flooring', 'finding', 'firm', 'surrogate', 'nightline', '25c', 'csi', 'tourney', 'paparazzi', 'niece', 'rial', 'acquaintance', 'bascule', 'hillside', 'battleship', 'visibility', 'thirst', 'batter', 'somefeel', 'diaphragm', 'exceed', 'hawk', 'redbud', 'shipment', 'doors.', 'cruisin', 'salvage', 'dromaeosaurid', 'bodice', 'cantaloupe', '52nd', 'suicide', 'cupcake', 'a-iron', 'xd', 'sleepwear', 'inflight', 'shaadi', 'midway', 'amanita', 'standing', 'psychologist', 'handling', 'playback', 'scenting', 'bowler', 'dianthus', 'tolive', 'inflation', 'circumstance', 'withbarrel', '12', 'priceeffect', 'lice', \"bride'ssomething\", 'rillileter', 'bh', 'baseline', 'protest', 'poacher', 'spiritual', 'reg', 'trawler', 'hd', 'waist', 'kati', 'giganteum', 'motocross', 'institution', 'preacher', 'page', 'homemaker', 'exhaust', 'luddite', 'bank', 'ofbaroque', 'baywatch', 'pastime', 'ginkgo', 'button', 'grain', 'gardencityscape', 'dr', 'biting', 'gym', 'maypole', 'promotion', 'ter', 'anopen', 'parasailing', 'theroad', 'season.', 'ditch', 'pencil', 'theeco', 'lineup', 'sabi', 'koh', 'de', 'pin', 'comp', 'morpho', 'weekend.', 'p916', 'volpone', 'moping', 'west', 'silk', '125', 'ending', 'thatch', 'omega', 'cheesecake', 'matching', 'saloon', 'fingerspelling', '6a', 'beingcm', 'beefsteak', 'spear', 'leeway', 'canon', 'motivation', 'thetree', 'burlap', 'sl500', 'growingdwarf', 'erupting', 'jan', 'sith', 'americana', 'sd83', 'personnel', 'ally', 'diamante', 'penciler', 'smoothing', 'wrench', 'embark', 'sherbet', 'sidesaddle', 'hoodoo', 'beige', 'personx18', 'scion', 'openness', '4x100m', 'commonwealth', 'strengthening', 'feltright', \"he'san\", 'local', 'anti', 'cruising', 'penta', 'mousy', 'asupercar', 'oftourist', 'province', 'bale', 'wapato', 'cob', 'legacy', 'cheese', 'cyberpunk', 'stallion', 'ville', 'agencie', '100m', 'bather', 'evacuation', '10lb', 'shrink', 'mine', 'onlygrand', 'sunrise', 'prisoner', 'zoid', 'albie', 'amphora', 'reproduction', 'ganymede', 'wildfire', 'vacationing', 'prefab', 'seabird', 'forsomething', 'bassoon', 'handyman', 'volunteering', 'kappa', 'baler', 'shade', 'pout', 'esprit', 'hie', 'hale', 'capodimonte', 'lending', 'savory', 'sheet', 'sedan', 'tundra', 'army', 'pitta', 'haired', 'sponge', 'photojournalism', 'eragon', 'director', 'tuna', 'dynamism', 'callautomobile', 'helix', '4x2', 'opal', 'therose', 'lioness', 'transboundary', 'lend', 'triton', 'kitea', 'astyle', 'creat', 'memorabilia', '05l', 'magpie', 'thriving', '19x21', 'theera', 'fee', 'change', 'muse', 'thangood', 'nodding', 'snuff', 'bandit', 'thesis', 'lavater', 'agreement', 'divining', 'verse', 'phrasepage', 'halftone', '4t', 'shove', 'terrorism', 'tinting', 'Asterix', 'bhp', 'mudbrick', 'yunce', 'diya', 'shoveling', 'concern', 'channeling', 'self', 'bark', 'shifting', 'rearing', 'wordsalready', 'polycarbonate', 'cowl', 'biathlon', 'hovercraft', 'pond.', 'cabinetry', 'regardedfusion', 'twitter', 'carve', 'prequel', 'abundance', 'copyright', 'derivative', 'roam', \"5'2\", 'dreadedpyramid', 'beeswax', 'matador', 'pier', 'runoff', 'tissue', 'orgarment', 'stabbing', 'bloc', '34cm', 'literati', 'broad', 'ms.', 'odori', 'clue', 'zarathustra', 'ellipse', 'paternity', 'baring', 'd9', 'friction', 'floorball', 'breading', 'dodder', 'theswimming', 'b4', 'village', 'cholera', 'disabled', 'costumekimono', 'vintage50', \"ne'er\", 'clowning', 'ss14', 'appetizer', 'fatal', 'duvet', 'ganpati', 'equal', 'mi', 'midwest', 'attendant', 'sling', 'necklace.', 'benefit', 'manor', 'kinesin', 'sour', 'reflection', 'heartland', 'comin', 'hazy', 'liter', 'Cattera', 'a14', 'vision', 'viscose', 'thewater', 'darkening', 'wetland', 'install', 'c1900', 'issue', 'patriotism', 'isolation', 'aresort', 'voul', 'seduction', 'modem', 'dynamite', 'grime', 'turnout', 'amazing80', 'granny', 'day.', 'modesty', 'drought', 'baluster', 'lean', 'langdale', 'ramming', 'b777', 'thirty', 'urban', 'broody', 'youngster', 'foldout', 'bender', 'marquetry', 'centerthe', '7a', 'proceedings', 'reversal', 'pullover', 'equip', 'astra', 'crimson', 'hiv', 'avalanche', 'backside', 'holi', 'canopic', 'bunk', 'intercept', 'decorating', 'sunroom', 'lin', 'arrow', 'search', 'colour', 'hoarse', 'pumpkin', 'ankh', '4x', 'hovering', 'itstriple', 'humbly', 'cad', '70mm', 'conte', 'heartbeat', \"city'smost\", 'levitating', 'grammy', 'medlar', 'workshop', 'quiz', 'trust', 'theappetizing', 'gunfire', 'pax', 'breakdance', 'andwestern', 'vocal', 'meaningcrocodile', 'stig', 'surface', 'synapse', 'six', '24cm', 'Stocker', 'scrap', 'congress', 'mizzen', 'modelo', 'Modbury', 'schiehallion', 'ambulance', 'shih', 'ownperson', 'department', 'longboat', 'pear', 'awa', 'commando', 'chesil', 'tamping', 'forcuban', 'come', 'sectional', 'hacksaw', 'design', 'legislation', 'northwest', 'clothing', 'magnify', 'allover', 'itsbow', 'birdhouse', 'manicure', 'hife', 'a-burner', 'boanear', 'recipient', 'tuberosa', 'bubonic', 'bi', 'graph', 'tigris', 'suckle', 'jacked', 'intensity', 'defoe', 'summon', 'ny', 'ofall', 'basketballa', 'bust', 'passenger', 'atlas', 'pharmacist', 'announcesbrand', 'agape', 'fomer', 'bleurtay', 'calling', 'taoist', 'sketchbook', 'saysgood', 'failure', 'undercountry', 'splicing', 'overhanging', 'refit', 'banana', 'sook', 'diva', 'crab', 'pensive', 'old.', 'podcast', 'estuarine', 'meansnet', 'menu', 'grinding', 'facsimile', 'yeoman', 'tarte', 'amputee', 'case', 'women', 'analog', 'skinny', 'patrol', 'arerun', 'ting', 'bout', 'fjord', 'pattern', 'caerulea', 'hearttattoo', 'lace', 'snowboarder', 'provide', 'rehearse', 'afood', 'close', 'seaplane', 'rainier', 'ethics', 'hilltop', '19st', 'a-division', 'h-d', 'roasting', 'poly', 'vera', 'hydrogen', 'glint', 'erect', 'SSS1', 'anaesthetic', 'sleeveless', 'globe', 'accordance', 'tx', 'haunt', 'flopping', 'attraction87', 'active', 'candidate', 'opacity', 'bundle', 'baserunner', 'teeing', 'saffron', 'lac', 'strife', 'density', 'timing', 'jacob', 'pilgrimage', 'highschool', 'hulldry', 'cycloneblew', 'fluorouracil', 'supper', 'breaking', 'stitch', 'kathak', 'entering', 'vile', 'precursor', 'leonine', 'abortion', 'Caribbean', 'stompin', 'heliport', 'crib', 'bluetooth', 'bongo', 'rescue', 'sensitivity', 'Shogunate', 'cardinal', 'bistro', 'vaudeville', 'dirigible', 'calavera', 'spy', 'souvenir', 'hideaway', 'san', 'shot', '78xx', 'swipe', 'sikh', 'a-pigeon', 'hopper', 'gully', 'taxi', 'q5', 'vest', 'baggage', 'collide', 'honouring', 'supernova', 'usa', 'insult', 'firestone', 'lemur', 'detective', 'parsley', 'errant', 'husbandsecret', 'vineyard', 'workday', 'interleague', 'maize', 'giant', 'transporter', 'a-shoulder', 'deep', 'stride', 'panhandle', 'burner', 'frying', 'handball', 'novara', 'matchmaking', 'banda', 'greenery', 'renew', 'mmm', 'photobook', '3000m', 'fragrance', 'mantel', 'l.', 'defeatingtennis', 'lullaby', 'whippet', 'cavalry', 'paste', 'marionette', 'petroleum', 'calendar', 'springer', 'gummi', 'calligraphic', 'knotweed', 'temperament', 'meatball', 'grout', 'mathematician', 'confluence', 'shirtbeyond', 'wasa', 'pp503', 'acupuncture', 'anglicanism', 'watergate', 'halogen', 'navigate', 'contemporarystyle', 'rickshaw', '10km', 'class.', 'calledcostume', 'schnitzel', 'flap', 'prove', 'bear.', 'salami', 'in1943', 'grid', 'crane', 'attendance', 'obsidian', 'stamen', 'raccoon', 'rebound', 'guilty', 'anubis', 'scraping', 'dotsing', 'smashedterrorist', 'russian', 'ontoapartheid', 'perching', 'abrasion', 'kanzi', 'context', 'blob', 'drag', 'goose', 'traitor', 'quay', 'myrrh', 'r8', 'parade', 'veteran', 'zirconium', 'freightliner', 'taster', 'piston', 'proofing', '3d', 'parsing', 'viper', 'singapura', 'island', 'myself.', '2&4', 'mercy', 'oscar', 'scare', 'foliage.', 'goa', 'incident', 'letteringanimal', 'convertible', 'xmas', 'sewage', 'saidit', 'strobing', 'mob', 'inspire', 'carousel', 'a-pence', 'lobster', 'boarding', 'behavior', 'holidaymaker', 'bengal', 'pro', 'alpaca', 'integration', 'andaway', 'Shea', 'eyeglass', 'snoopy', 'spinifex', 'sai', 'alpacas', 'unpacking', 'socialism', \"19'inch\", 'telltale', 'round', '1800s.', 'multi', 'bykarate', 'graffiti', 'factorypaint', 'maxima', 'fodder', 'hydrangea', 'tent', '23lb', 'perf', 'computer', 'carcass', 'girlperson', 'florentine', 'revolution', 'wx', 'reply', 'presenter', 'denali', 'trusting', 'ofslave', 'rebar', 'i7', 'corolla', 'barista', 'dreamcatcher', 'offsite', 'supercharging', 'birdwing', 'withevent', 'bareback', 'han', 'speck', 'abird', 'musk', 'syrah', 'genocide', 'molding', 'pontiac', 'treacle', 'may', 'regard', 'box', 'meanslet', 'bye', 'rid', 'e15', '777', 'anup', 'h11', 'ningdao', 'sandwich', 'holly', 'thine', 'turbojet', 'pasturing', 'apertura', 'offrugby', 'pointy', 'nameddisaster', 'cobalt', 'peso', 'mohanlal', 'brewing', 'cite', 'classic', 'theeye', 'surf', 'bobblehead', 'toour', 'helpsanchor', 'pinnace', 'usualcouple', 'cube', 'climb', 'ford', 'bugle', 'q2', '26c', 'coral', 'tweet', 'mayorship', '29th', 'anthro', 'intervention', '60p', 'deli', 'ballerinas', 'guarantee', 'saree', 'salt', 'Avenger', 'connect', 'queen', 'throw', 'viability', 'midwifery', 'snowsho', 'passageway', 'entirety', 'wingtip', 'playersee', 'leavingmushroom', 'thatgo', 'underwater', 'chuckle', 'papyri', 'swirl', 'lactose', '1002nd', 'slideshow', 'l1', 'mover', 'blackstreamer', 'cannibal', 'bahar', 'pledging', 'doc', 'thecover', 'udder', 'shell', 'emp', 'kill', 'skool', 'spruce', 'resolve', 'hexastyle', 'ryukoka', 'pony', 'wipe', 'cabaret', '15ft', 'malmesbury', 'saiddote', 'hedgehog', 'bess', 'powdery', 'thaler', 'kohanim', 'kalanchoe', 'chador', 'raman', 'overkill', 'tapestry', 'grilling', 'irrigate', 'difference', '190', 'f8', 'girder', 'showering', 'theback', 'unripe', 'oforganisation', 'macro.', 'turnaround', 'fence', 'policewoman', 'molar', 'hoist', 'enclosure', 'attraction', 'rambler', 'palomino', 'entertainment', 'recognition', 'replay', 'pining', 'crimping', 'commence', 'supercharger', 'by20', 'wasbusiness', 'a-along', 'compounding', 'bricklayer', 'amo', 'cartoon', '50th', 'carvedstyle', '2km', 'popcorn', 'average', 'amen', 'olympus', 'attack', 'and60', 'bluegrass', 'thelove', 'theoutdoor', 'biodiesel', 'bagging', 'illustrationseashells', 'discard', 'montessori', 'binning', 'aesthetics', '22st', 'armoured', 'cheating', 'asset', 'forall', 'é', 'screenshot', 'erupt', 'header', 'checkpoint', '5th', 'vanilla', '141st', 'caped', 'shake', 'terraforming', 'pinstripe', 'congratulation', 'goaltender', 'girlsneed', 'eldritch', '&resort', 'plenipotentiary', 'herringbone', 'sub', 'koko', 'goddess', 'Conte', 'interesting', 'vent', 'engraver', 'cell', 'somedown', 'hygiene', 'seafront', 'mountaintop', 'poncho', 'comma', 'graving', 'darkdisco', 'sartorial', 'overautomobile', 'crayon', 'rinse', 'bal', 'coleslaw', 'super', 'leisurely', 'fire', 'nunif', 'contract', 'handmade', 'advertisesperson', 'corded', 'palladium', 'rounding', 'q1', 'sleigh', 'elm', 'imp', 'a-cottage', 'catkin', 'polyurethane', 'knocker', \"a-wheeler'\", '32d', 'keto', 'refurbishing', 'wad', 'ourkitchen', 'ofanatomical', 'squeegee', 'carp', 'mark', 'tout', 'abreast', 'hisdream', 'spokesman', 'tarpan', 'technician', 'vertebrate', 'mahi', 'dismount', '366th', 'newsmagazine', 'munch', 'mass', 'book', 'theturn', 'observatory', 'chronicle', 'wis', 'outlook', 'pho', 'pavlova', 'moment', 'ondisease', 'linear', 'bourguignon', 'ww1', 'partridge', 'rhesus', 'insomnia', '123th', 'harbourafter', 'singles', 'litre', 'haiku', 'rapper', 'ra', 'russell', 'spill', 'English', 'wean', 'mourn', 'cot', 'workout', 'splash', 'gogospel', 'inception', 'synchro', 'fahm', 'borderland', 'vortec', 'display', 'usd950', 'barbarian', 'spend', 'whack', 'terrifying', 'stem', 'lobbying', 'f250', 'truth', 'angora', 'slap', 'tendril', '2p', 'conflict', 'overground', 'froggy', 'artist81', 'prepping', 'jinx', 'galaxy', 'inflammation', 'humour', 'revisiting', 'brioche', 'foundry', 'post', 'grandparent', 'rhodium', 'residence', 'arbor', 'streeta', 'seater', 'thosegood', 'infection', 'toting', 'ngo', 'palmar', 'commercial', 'mallard', 'impressing', 'lense', 'faux', 'campground', 'mechanic', 'hijack', 'insanity', 'fromanimation', 'taurus', 'purging', 'pope', \"cousin'sbow\", 'treasure', 'skittle', 'styling', 'brown', 'wordscoffee', 'archive', 'claddagh', 'boughtcage', 'factory', 'spotter', 'hardcover', 'bleaching', 'tone', 'mankind', 'parasite', 'cleaner', 'postage', 'documentation', 'cw', 'fortv', 'ideology', 'netball', 'spread', 'gyro', 'overhand', 'wafer', 'security', 'adhd', 'winged', 'camo', 'maximum', 'jackfruit', 'combat', 'elvas', '3a', 'build', 'shortstop', 'stamp', 'yacht', 'meaning', 'buddha', 'floppy', 'exist', 'midtown', 'throwaway', 'riverhigh', 'corn.', 'boheme', 'sheepskin', '2x4', 'consistency', 'senate', 'orthodox', 'celebs.', 'airman', 'renouveaut', 'plugging', 'hamlet', 'anger', 'marking', 'wraparound', 'shouting', 'greenstone', 'raffia', 'thisleatherette', 'sailfish', 'apron', 'juror', 'moai', 'vandalism', 'corduroy', 'boyhood', 'e2', 'unity', 'chocolate', \"4'x4\", 'weld', 'squadron', 'attheater', 'bracken', 'writing', 'chiffon', 'a-brac', 'tut', 'soleil', '1990', 'cedar', 'dapper', 'aflag', 'person78', 'througha', 'porsche', 'paraboloid', 'pendant', 'stonework', 'a-gram', 'to80', 'floss', 'subtlety', 'prosecco', 'guidance', 'july', 'rich', 'molting', 'late40', 'crease', 'ro', 'aheal', 'adjustment', 'includesbusiness', 'brownie', 'kroner', 'coffee', 'ikebana', 'spine', 'heroin', '25th', 'thebrick', 'capitol', 'tablespoon', 'galleon', 'boosting', 'heed', 'dean', 'readsto', 'alt', 'pylon', 'bandana', 'opera', 'mainmast', 'brave', 'cologne', 'rhubarb', 'filter', 'thesnow', 'adorn', 'streamline', 'thegateway', 'jour', 'fibrillation', 'alkaline', 'ata', 'project', 'strake', 'Chihuly', 'cookbook', 'number5', 'gulf', 'amenity', 'tripod', '49er', 'clipboard', 'whatfilm', 'contender', 'printmaker', 'coeducation', 'continent', 'dangling', 'quarry', 'utensil', 'reformer', 'migration', 'tambourine', 'jousting', 'Los', 'onwood', 'nemo', 'tm', 'necktie', 'plinth', 'drape', 'snorkel', 'revolving', 'draw', 'attractionswhere', 'bill', 'shift', 'style', 'saptami', 'townrepaint', 'treat', 'rotunda', 'pivoting', 'alignment', 'custody', 'dane', 'mataram', 'lung', '60ft', 'a.m.', 'sear', 'exhibit', 'sunfish', 'waterhole', 'flaking', 'starchy', '6d', 'docent', 'coup', 'legendary', '7th', 'ob', 'soften', 'andfriend', 'mailer', 'bond', 'waiting', 'scrapbooking', 'bookworm', '120ft', 'lodgepole', 'theft', 'number4', 'daughter', 'marsupial', 'titi', 'calledpizza', 'pollinating', 'ibex', 'implement', 'chive', 'foamy', '90mm', 'fromperson', 'bullhorn', 'buyer', 'pandemic', 'nj', 'swing', '240l', 'a-deck', 'sotomayor', 'twa', 'picture', 'wetting', 'sort', 'readingconstitution', 'sprint', 'Moy', 'forreality', 'pomeranian', 'tucker', 'withfootball', 'etch', 'overflow', 'thedog', 'breaching', 'speedskating', 'property', 'cineraria', 'hornet', 'nutmeg', 'making', 'holism', 'a-euro', 'dinnerware', 'refugee', 'tongue', 'bantam', 'afterschool', 'recipe', 'meg', 'cirrus', '45mm', 'kinematics', 'alba', 'operating', 'jogger', 'leave', 'sublimation', 'hominid', 'bullock', 'number7', 'prayer', 'bain', 'pergola', 'forty', 'depiction', 'card.', 'organising', 'madhesi', 'shading', 'strapless', 'nori', 'depth', 'theologian', 'mytho', 'horsemanship', 'option', 'adan', '21cm', '16x16', 'surgeonfish', 'authority', 'meth', 'amazon.com', '¬', 'bisect', \"it'sgarment\", 'ay', 'procession', 'nro', 'yule', 'narcissus', 'casserole', '173rd', 'errand', 'engineering', 'cabin', '250ml', 'wobble', 'kotoba', 'minifigure', 'thirdmiddle', 'deliberatelygrown', 'videoconference', 'subspecy', 'yelling', 'forprotection', 'jazz', 'loca', 'acacias', 'morale', 'sheriff', 'supervisor', '1489cc', 'teaching', 'se', 'andperson', 'microphonecatch', 'coelurosaurian', 'gaga', '42th', 'whisk', 'vicinity', 'sidecar', 'a-kilometer', 'talismanic', 'musher', 'gramp', 'bab', 'headway', 'oat', 'locker', 'virtue', 'cornetto', 'mumblecore', 'wrath', 'dishware', 'pacific', 'radish', 'detail', 'window', 'haze', 'sinking', 'leather+', 'ourgive', 'cr.', 'eyes.', 'Congress', 'a-page', 'funding', 'carny', 'century', 'crowbar', 'screeching', 'harris', 'swooping', 'propeller', 'frankincense', 'cichlid', 'canoe', '150', 'admire', 'km2', 'Tuesday', 'hissleigh', 'ft.', 'disaster', 'executioner', 'petting', 'refraction', 'coyote', 'ourrogue', 'semis', 'emmie', 'uber', 'bread', 'barn', 'grooming', 'busker', 'gridlock', 'sumi', 'final', 'chome', '1720s', 'showstopper', 'fluoresce', 'org', 'hunter', 'thererus', 'her60s', 'bearer', 'laptop', 'seawall', 'naped', 'fabricate', 'labeled3', 'anime', 'shrimp', 'mishmash', 'champion', 'reflect', 'chariot', 'dor', 'shortbread', 'puck', 'commemoration', 'typical14k', 'scab', 'endotracheal', 'waterwork', 'suckling', 'piastre', 'muffle', 'starlet', 'a-bye', 'dog', 'felling', 'themini', 'tattooed', 'zw', 'byphysician', 'thermometer', 'overhead', 'tangent', 'draft', 'Drusilla', 'peat', 'paperboard', '86th', 'bisque', 'forestay', 'spoked', 'caraway', 'purity', 'ps', 'formx13', 'parakeet', 'bolero', 'scotch', 'bra', 'peafowl', 'piranha', 'ethnicity', 'totm', 'faithful', 'rewilding', 'bandstand', 'constituency', 'theviolin', 'patriarch', 'bpd', 'slogans.', 'aga', 'clipping', 'platforming', 'd.j.', 'thebathtub', '6b', 'caterpillar', 'expiry', 'determination', 'kashmir', 'fiddlin', 'gush', 'asee', '16', 'rheumatoid', 'a-kit', 'ring', 'snowboarding', 'backwater', 'compilation', 'form', 'guesthouse', 'borzoi', 'gravel', 'zucchini', 'knockout', 'patent', 'retrieve', 'serenade', 'buffer', 'ofbum', 'hopedwe', 'devise', 'progress', 'policing', 'vogue', 'gis', 'zany', 'motivational', 'cameo', 'enamel', 'thruster', 'aregarment', 'cheongsam', 'haflinger', 'benz', 'meatloaf', 'sap', 'endorsement', 'cream', 'boxer', 'slicker', 'd51', '370z', 'integer', 'android', 'return', 'marl', 'technologie', 'lather', 'bulla', 'appearance', 'gas', 'blight', 'cake', 'site', 'theway', 'nobilis', 'arrangement', 'wadding', 'tangling', 'hourlong', 'heath', 'a-service', 'adobe', 'foot', 'light.', '9x6', 'orbit', 'sup', 'l9', 'cordless', 'savannah', 'fallsview', 'regulation', 'merchant', 'diopside', 'xenon', 'swerving', 'mr', 'bodybuilder', 'a-liter', 'infantry', 'spun', 'poll', 'withinvention', 'swarm', 'brogue', 'skirting', 'restaurant.', 'scuff', 'day', 'inset', 'sensation', '5x7open', 'conferencing', 'presentsequestrian', 'preservedera', 'shepherd', 'blackbird', 'writings', '255hp', 'soya', 'diabetic', 'bedlam', 'transparent', 'transplant', 'fashioned', 'notrecycle', 'osteoarthritis', 'naira', 'andg', 'palisade', 'enteringperson', 'credit', 'numbering', 'thaninject', 'a-stick', 'firewood', 'winner', 'destiny', 'prefect', 'apparatus', 'offence', 'espresso', 'camp', 'wheatfield', 'neuro', 'clause', 'onboard', 'hut', 'g930', 'limit', 'piñata', 'retail', 'botton', 'randy', 'yourfuture', 'a-bed', 'queueing', 'kartini', 'trend', 'retailing', 'infer', 'razzle', 'olla', 'brow', 'breastfeeding', 'lawmaker', 'thegirl', 'weirdo', 'nook', 'mochi', 'mausoleum', '175th', 'tos', 'arsdale', 'handbook', '24fp', 'radiant', 'utility', 'impresario', 'apl', 'dolly', 'newsletter', 'wisher', 'huntsman', 'handshake', 'volleying', 'fright', 'encase', 'sailboat.', 'flute', 'airmen', \"that'son\", '^', 'scrambler', 'nun', 'painting', 'keiki', 'romanticism', 'python', 'a-cake', 'foxtail', 'sawinvention', 'pansy', '14kt', 'aschin', 'salvia', 'harvest', 'millennia', 'arm', 'enlightenment', 'invite', 'andback', 'corset', 'environmentalist', 'paranormal', 'airstream', 'helicopter', 'stanlow', 'deodorant', 'aisle', 'eyelash', 'antivirus', 'glossy', 'costarring', 'brushing', 'flight', 'seedless', 'mri', 'squabble', 'evolution', 'crackle', 'hedgerow', 'twirling', 'motorist', 'rm35', 'dancer', 'hypostyle', 'likeretail', 'felipe', 'dna', '1750s', '16d', 'cleanse', 'chihuahua', 'podge', 'bax', 'lock', 'tothat', 'defeatselfish', 'Asian', 'touristy', 'muggia', 'revival', 'bmo', 'piping', 'religion', 'whimsy', 'caking', 'skirmishing', 'hulled', 'myosotis', 'boa', 'convey', 'last', 'rambling', 'molt', 'passport', 'safety', 'bipyramid', 'needsgarment', 'prison', 'paler', 'bros.', 'jelly', 'anchoring', 'glaring', 'use', 'ultimatum', 'cheetahskiss', 'platoon', 'text', 'whilesoccer', 'acar', 'free', 'playcomposition', 'traveller', '36th', 'whomanage', 'forautomobile', 'tobogganing', 'sanitary', 'avictory', 'swanage', 'pelican', 'familytree', 'ole', 'kiss.', 'implementation', 'homicide', '52kg', 'driverless', 'footballer', 'modeling', 'database', 'tribute', 'deansgate', 'schematic', 'yard', 'bison', 'portrayal', 'resh', 'redbeard', 'pit', 'angle', 'tribulation', 'voltage', 'piece', 'playingthe', 'apurse', 'gutter', 'videogame', 'completion', 'merino', 'river', 'temperature', '18a', 'peck', 'adrenaline', 'lanthanum', 'robocop', 'defend', 'rosewood', 'monet', 'assignment', 'realize', 'cloth', 'rus', 'prescription', 'keel', 'withmm', 'geometric', '19th', 'theshady', 'bound', 'macaroni', 'meter', 'pooling', 'notice', 'chinchilla', 'fortuna', 'scenery', 'calledbanana', 'miffy', 'donor', 'calabash', 'includesstyle', 'banyan', 'ray', 'cookery', 'blacksmithing', 'manufacturesautomobile', 'gusting', 'featureinvention', 'imbue', 'tender', 'panther', 'frond', 'upset', 'celestial', 'keegan', 'caliber', 'fantasy', 'friendly', 'interstellar', 'jandek', 'bolt', 'leatherette', 'stylish', 'herbal', 'collector', '50cm', 'crawl', \"men'skm\", 'bidder', 'microfiber', 'capacity', 'phlox', 'repurposing', 'obesity', 'table', 'percentage', 'with', 'tram', 'bulk', 'punt', 'cringe', 'juxtaposition', 'kiosk', 'patterning', 'openwork', 'palette', 'm3', 'momsn', 'jewel', 'burger', 'lav', 'f3', 'windshield', '1850', 'ripen', 'gallon', 'herbivore', 'beach', 'backlight', 'epic', 'cue', 'landing', 'pennywise', 'jat', 'sod', 'moringa', 'oftabby', 'course', 'thecounter', 'signifying', 'altitude', 'mutton', 'retro', 'clump', 'innkeeper', 'dashboard', 'buttress', 'ofvector', 'ofpainting', 'speak', 'epoxy', 'cartouche', 'Republican', 'complain', 'cloche', 'embroider', 'drumset', 'detonator', 'buttermilk', 'repechage', 'monkey.', 'resistant', '8s', 'installment', 'tarnish', 'annabelle', 'straitjacket', 'punting', 'gravy', 'patching', 'macabre', 'bf', 'binocular', 'riot', 'bargain', 'dieting', 'withsuicide', 'crunching', 'slag', 'inx11', 'popping', 'inaugural', 'hate', 'saidlife', 'spandex', 'blindfold', 'kungsbacka', 'anvil', 'gts', 'prawn', 'hurray', 'sightseeing', 'ua', 'longitude', 'xvi', 'appliance', 'saytreat', 'legit', 'washow', 'scalding', 'ofmonth', 'jah', 'troubling', 'fenced', 'nanoscale', 'crossbody', 'nestle', 'k6', 'lp', 'cinder', '4runner', 'actress', 'leaved', 'consolation', 'topiary', 'pictogram', 'doingairport', 'rift', 'liquid', 'ss11', 'forc', 'descending', 'hryvnia', 'piglet', 'garnet', '1420s', 'letterbox', 'bagpip', 'mont', 'hang', 'wedging', 'cannonball', 'msc', 'temp', \"media'sthin\", 'fairway', 'wet', 'tubed', 'nib', 'outcome', 'evaluate', 'venture', 'prop', 'southeastern', 'appreciation', 'boogie', 'mug', 'ic', 'buckeye', 'mythology', 'canary', 'taper', 'ofmonarch', 'larvae', 'lmp2', 'prelim', 'hamsa', 'waitress', 'person98', 'eggshell', 'a-team', 'dash', 'entryway', 'arabesque', 'east', 'overheating', 'tecephone', 'spite', 'reportage', 'backyard', 'elastic', '&blue', 'dependencie', 'elevating', 'plywood', 'makeem', 'a-week', 'reeling', 'plumeria', 'feint', 'deduct', 'vid', 'burnt', 'snowfall.', 'dinghy', 'sierra', 'set', 'checkup', 'resale', 'rooster', 'spray', 'chemical', 'poinsettia', 'gallant', 'order', 'bridging', 'officinale', 'hotel', 'ernst', 'positive', 'ofbeverage', 'iconic90', 'kayaker', 'exterior', 'tumbleweed', 'hisarea', 'h-r', 'manufacturing', 'metalcore', 'lucifer', 'vue', 'locksmith', 'debut', 'heiress', 'grog', 'thewarrior', 'thug', 'birds.', 'candlestick', 'skelter', '79th', 'scree', 'shareholder', 'as2', 'fertilizing', 'review', 'greentom', 'software', 'aerodrome', 'pivot', 'cam', 'downslope', 'hypersaline', 'clarinetist', 'embellishment', 'blade', 'receivership', 'enormoustea', 'bayside', 'prying', 'pastor', 'conglomerate', 'wh', 'tdm', 'query', 'foral', '9th', 'fare', 'koi', 'briar', 'finish', 'pop', 'worshiping', 'jingle', 'chic', 'junction', 'rehab', 'whisper', 'stargate', 'wade', 'tristar', 'gypsy', 'sliver', 'sm', 'r1', 'boot', 'firefight', '15th', 'gasp', 'feed', 'fresco', 'custard', 'entrant', '117lb', 'fun90', 'decay', 'arborea', 'inscriptionthank', 'rend', 'wilting', 'usegarment', 'rocketry', 'matic', \"it'sheresy\", 'silhouette.', 'egg', 'mealat', 'approach', 'duo', 'vamp', 'breakcore', 'silverware', 'bodily', 'kate', 'vigilant', 'lover', 'apsara', 'adaptation', 'testimonial', 'reveal', 'tea', 'neighbourhood', 'sayanger', 'dragonfly', 'sqm', 'multipurpose', 'parody', 'lie', '92nd', 'aurel', 'brightness', 'flipping', 'kiseki', 'preheat', 'saym', 'calledpunk', 'sally', 'thedesert', 'combine', 'apervert', 'reign', 'spindle', '4r', 'undercover', 'throughstyle', 'a-meter', 'relaxation', 'd112', 'jeopardy', 'lsd', 'invalid', 'human', '1880', 'belle', 'stayson', 'long', 'amuse', 'uniformscould', 'conquistador', 'athlete85', 'de-siècle', 'pyro', 'moonlighting', 'sovereign', 'loafing', 'falafel', 'playroom', \"person's2q17\", 'fundamental', '150ft', 'butting', 'amalfi', 'pinball', 'gauging', 'creek', 'bourne', 'worm', 'forbe', 'fornoble', 'withtextile', 'turban', 'outage', 'Manfredo', 'spotlighting', 'track', 'novelty', 'vdo', 'motherhood', 'for', 'waxwork', 'clothesline', 'doberman', 'motorway', 'readingno', 'amethyst', 'donate', 'gondola.', 'alp', 'robber', 'filler', 'whitefish', 'disconnect', 'sounder', '1500s', 'celadon', 'clamping', 'the60s', 'mla', '4a', 'serenity', 'pp', 'asteroid', 'trafic', 'raregiraffe', 'tomte', 'topreserve', \"1957'smusical\", 'mounting', 'firstdesign', '500lb', 'paprika', 'ofanimal', 'conversion', 'storefront', 'fynbo', 'coupeville', 'pint', 'coeur', 'm151', 'op', 'breeder', 'aspirin', 'dyno', 'futon', 'market', 'chrysanthemum', '4garment', 'clownfish', 'sparkle', 'piloting', 'wired', 'leat', 'eraser', '21c', 'sayshow', 'sped', 'septic', 'dir', 'manoeuvre', 'theophilos', 'zoo', 'banking', 'being', 'profanity', 'illustrationorchid', 'datum', 'girl.', 'ration', 'lifesize', 'dockside', 'choc', 'cyclo', 'scan', 'outer', 'chronograph', 'v2', 'escapex48', 'housewarming', 'elegant', 'amputation.', 'sustainability', 'botanic', 'brutus', 'fordraw', 'bicentenary', 'nosing', 'pothole', 'donnedgarment', 'pensioner', 'commitment', 'activisttaught', 'captain', 'cossack', '77kg', 'rosette', '18kt', '33', 'letterboxing', 'witchery', 'ahuman', 'procedural', 'counter', 'ct', 'gov', 'onjump', '260ft', 'rice', 'afootball', 'suspending', 'calledcheesecake', '3ft', 'naan', 'pay', 'scaredy', 'attendsfilm', 'contaminate', 'fife', '1920s', 'yoke', '35th', 'maze', 'communication', 'daisy', 'foliation', 'birr', 'mullet', 'gelati', 'entree', 'tohis', 'awarding', 'qualify', 'tribe', 'presentation', 'hardness', 'marketplace', 'blah', 'pheasant', 'frill', 'martini', 'a-square', 'machining', 'toamerican', 'downy', 'earthing', 'scale', 'austin', 'tu', 'floor', 'paraphrase', 'refill', 'vas', 'racemosa', 'solving', '15l', 'premise', 'sleepwalker', 'd-c', 'highway', 'oxygen', 'pulley', 'minus', 'wetness', 'km', 'answer.', 'europe', 'onmacrolide', 'lodging', 'snap', 'regal', 'anddramatist', 'freezing', 'jacket', 'lackey', 'brew', 'collinear', 'slider', 'malt', 'smoking', 'cyclocross', 'cashback', 'god', 'a-bull', 'bor', 'tonk', 'richardson', 'pulcherrima', 'bakewell', 'relax', 'boil', 'replace', 'arrange', 'homeless', 'kitsune', 'undercroft', 'dingy', 'no1', 'billowing', 'improvement.', 'attitude', 'modernity', 'seventieth', 'oris', 'qawwali', 'soloist', 'herstyle', 'barbecued', 'givingfarm', 'hercoat', 'asphalt', 'roadnext', 'umrah', 'catcher', 'cowbell', 'snowflake', 'x4', 'dr.', 'motif', 'copybook', 'wrestling', 'lillileter', 'chiffonstyle', 'peoplesee', 'exchanging', 'stony', 'airing', 'orthodoxy', 'bleach', 'boor', 'aerials.', 'forfront', 'lesson', 'ave', 'testicular', 'lobe', 'ungulate', 'wedding', 'anthem', 'hostess', 'puff', 'Exomar', 'country09', 'qt', 'crosswalk', 'lottery', 'husband', 'hiding', 'durian', 'ofactor', 'prostrate', 'saz', 'el', 'studydoodle', 'disappointment', 'hormone', 'plantingpillow', 'demonstration', 'slip', 'c1908', 'planks.', 'sweet', 'leviathan', 'sweater.', 'mousse', 'gallery', 'cloister', 'franc', 'toile', 'oflava', 'validity', 'squat', 'tortois', 'challenger', 'sediment', 'rotary', 'faecal', 'tacklesborn', 'mushroom', 'monumentthe', 'ouroboro', 'leaping', 'protection', 'harbor', 'filmmaker', 'pi', 'valley', 'zl', 'weatherproof', 'French', 'separatist', 'floodgate', 'ofcult', 'dumbbell', 'parmesan', 'fusion', 'flexing', 'halloween', 'bruise', 'rummage', 'moraine', 'insecurity.', 'perm', 'buckskin', '&tv', 'quai', 'truant', 'themuseum', 'green.', 'rupee', 'oscillating', 'array', 'passera', 'foreseesa', 'ceremonial', 'railway', 'thein', 'brace', 'pharmaceutical', '39th', 'isle', 'tenor', 'stake', 'witch', 'staircase', 'skateboarder', 'brindle', 'bicyclist', 'hobbie', 'urbanization', 'geese', 'oceanview', 'flame', 'looping', 'mountaineering', 'moron', 'takeoff', 'bounce', 'kissing', 'sw', 'flair', 'partition', 'lah', '3p', 'typescript', 'of13', 'producedown', 'winsleast', 'norman', 'souped', 'bough', 'process', 'anything', 'theentry', 'oregano', 'inu', 'composite', 'fever', 'freelancer', 'anorange', 'setup', 'protist', 'kilogramme', 'flint', 'alligator', 'stellata', 'theball', 'proportion', 'a-yr', 'foul', 'ergo', 'forklift', 'envoy', 'capsaicin', 'celebration.', 'duck', 'gallantryin', 'rapunzel', 'schooler', 'ROM', 'dolce', 'replanting', 'ignition', 'lamp', 'readsknow', 'goalscorer', 'personwhen', 'relaxingme', 'ella', 'softness', 'recover', 'sapling', 'freehand', 'centurion', 'portraiture', 'metsum', 'concession', 'personthe', '6000s', 'famethat', 'a-point', 'consultation', 'manila', 'celebratehorror', 'theater', 'stretchedx36', 'kudu', 'unesco', 'designation', 'yreorder', 'duringreality', 'orangery', 'report', 'annexe', 'tell', 'illustrationhand', 'cottony', 'peek', '27oz', 'metrorail', 'mill', 'clingy', '̊yellow', 'refueling', 'comedy', 'neuron', 'wreck', 'thefoot', 'd3', 'tryin', 'innocence', 'w.', 'heavyweight', 'fluoro', 'clock', 'execute', 'tally', 'ofindustry', 'endo', 'clinician', 'hammy', 'adjoin', 'show', 'oflack', 'authenticity', '4x4', '356', 'bareboat', 'zaire', 'picketing', 'walkway.', 'dorado', 'a-sq', 'disease', 'A-lago', 'uefa', 'roulette', 'createtrick', 'drop', 'contour', 'follow', 'echoesbook', 'medalsgot', 'lavatory', 'racecar', 'kinetic', '50km', 'spurn', 'singer', 'washboard', 'accompany', 'ambulatory', 'mac', 'of70', 'joule', 'twig', 'downs', 'pucker', 'mechanical', '77th', 'likeperson', 'ofheart', 'falconry', 'redecorating', 'lignite', 'rx', 'vswholesale', 'q10', 'drift', 'somebreathing', 'spyder', 'readingresist', 'soaker', 'fashion.', 'oa', 'detach', 'metropolitan', 'foreground', 'conquest', 'sidewinder', 'seafood', 'listing', 'photography', '300lb', 'centre', 'skis', 'dukw', 'turmeric', 'fermenting', 'refereeing', 'downfield', 'archipelago', 'gang', 'gall', 'industrie', 'blasting', 'trulyclose', 'poo', 'courtside', 'fool', 's-a', 'lbw', 'pelvis', 'customizing', 'spawn', 'coke', 'lympstone', 'italien', 'willy', 'stuff', 'e.', 'a-win', 'force', 'raku', 'craze', 'basket', 'pampering', 'animalis', 'drug', 'crevasse', 'surrealist', 'crutch', 'wanton', 'video', 'rattle', 'sketchbok', 'yougarment', 'fidelity', 'roomwindow', 'exhaling', 'cgi', 'tinkerbell', 'shinglestyle', 'underground', 'lansing', 'Poznan', 'multicore', 'basic', 'definite', 'lasso', 'element', 'zippo', 'straight', 'mulch', 'i786', '23cm', 'photo', 'acalm', 'favorssurvival', 'quilt', 'clockwise', 'defense', 'susan', 'fabulous', 'editable', 'pulpit', 'redshirting', 'tailed', 'maison', 'cage.', 'routing', 'indica', 'salary', 'charter', '900ft', 'helipad', 'sofa', 'router', 'shoebox', 'see', 'zirconiaconflict', 'illus', 'sailer', 'room', 'frenzy', 'compose', 'mousehole', 'welcome', 'distinction', 'enhancing', 'casement', 'showsstyle', 'inbound', 'roof.', 'cutie', 'tipi', 'broadcastedsupremacist', 'og', 'droid', 'silt', 'scanning', 'celebration', 'squawk', 'reef', 'cartooning', 'robot', 'displace', 'ed', 'supervillain', 'saddleback', 'm110', 'wasto', 'roundtrip', 'teochew', 'caricature', 'doeschate', 'tattoo', 'midfield', 'expression', 'mommy', 'jaywalking', 'thesuperhero', 'tarpaulin', 'riyal', 'airbrush', 'emery', 'illustrator', '48fp', 'dialling', 'tuxedo', 'u18', 'phylum', 'obsessive', 'writhing', 'beauty', 'battlefield', 'rioting', 'accounting', 'tonic', 'withhow', '919', 'rampart', 'cvc', 'toshred', 'upland', 'angler', 'camaraderie', 'tumor', 'asky', 'trick', 'vandal', 'mis', 'absinthe', 'calledwe', 'irony', 'cuddling', 'rigging', 'practicality', 'Clockwork', 'sequence', 'punk', 'moan', 'replacement', 'doorway', 'upcoming', 'agateway', 'ofultimate', 'gut', 'theme', 'hydrocarbon', 'chicstyle', 'cello', 'deco', 'downtime', 'sticky', 'takeaway', 'attire', 'overcrowding', 'prediction', 'yellow', 'wrong', 'undergarment', 'monstermade', 'slt', 'upm', 'tuesday', 'torso', 'deluxe', 'toe', 'inspectsaircraft', 'plier', 'sickness', 'crusade', 'aloft', 'journey', 'fashion70', '680', 'latent', 'colonnade', 'putsunicorn', '1000mm', 'dressthe', '¡', 'semi', 'hiccup', 'mesa', 'grin', 'influence', 'alake', 'redflip', 'watermark', 'curve', 'sd', 'glare', 'opossum', 'c1850', 'secession', 'hdr', 'brie', 'thisnew', 'retaining', 'paneling', 'privilege', 'khan', 'voyage', 'update', 'decorate', '1820s', 'ady', 'courtesy', 'manningtree', 'newt', 'slalom', 'da', 'm', 'boathouse', 'a-shoe', '59th', 'attest', 'onclothing', 'protective', 'pill', 'adult', 'crown', 'publisher', 'v6', 'open', 'choreography', 'twentieth', 'awning', 'prosciutto', 'ine', 'ism', 'thorugh', 'laundry', 'pana', 'wearable', 'juniper', 'disassemble', 'forlove', 'snarling', 'ridin', 'fig', 'elect', 'vending', 'romanesco', 'mc', 'tellem', 'o.j.', 'sugarcane', 'number', 'trimming', 'currant', 'metalliferous', 'wheelbase', 'tv', 'stare', 'opposite', 'ipad', 'mechanism', 'zoom', 'catchessecondary', 'الله', 'folder', 'milou', 'blitzing', 'creamy', 'mountaineer', 'firework', 'wilt', 'satisfy', 'fear', 'copper', 'origin', 'spewing', 'impounding', 'men', 'gpm', 'vroom', '♥', 'saidand', '119th', 'photosynthesis', 'lakefront', 'boating', 'pl', 'write', 'a80', 'hercloset', 'lick', 'lonomesule', 'whopaint', '©', 'target', 'grind', 'revving', 'mineralogy', 'export', 'crochet', 'ganoderma', 'drench', 'advent', 'switchover', 'deepika', '48mm', 'slave', 'xxl', 'gorgonzola', 'redskins', 'seamen', 'percussionist', 'ia', 'drystone', 'steam', 'spoiler', 'ratatouille', 'radar', 'mashed', 'zoo.', 'zodiac', \"5'3\", 'rara', 'economy', 'kaa', 'dagger', 'a-bowl', 'herm', '2018s', 'technology', 'polymorphism', 'veranda', '31st', 'flick', 'signet', 'miming', 'polyurea', 'pedestal', 'host', 'texturing', 'shouldpolitician', 'junkyard', 'plenary', 'fascism', 'extent', 'deux', 'fu', 'craftsman', 'grader', 'glory', 'supertall', 'travels', 'anemone', '100th', 'slant', 'trigger', '25hp', 'bonfire', 'hip', 'ofcrater', 'a-go', 'metallurgical', 'good', '&2', 'dorm', 'Broadway', 'affiliate', 'phoenix', 'margarita', 'lor', 'paintsgraffiti', 'odorata', 'withtongue', 'hopeful', 'encounter', \"it'sfood\", 'foundation', 'burberry', 'young', 'guzzling', 'thex4', 'cistern', 'washer', 'pap', 'caution', 'corresponding', 'shrimping', 'coqui', 'iced', 'showthe', 'rocker', 'petroglyph', 'compendium', 'cozy', 'antisubmarine', 'cop', 'pickup', 'a-act', 'regia', 'spare', 'cmo', 'midpoint', 'eave', 'Normandie', 'forge', 'bunch', 'gentrification', 'homer', 'surname', 'calledsoftware', 'parlour', 'everything', 'fueling', 'isbeach', 'majesty', 'moray', 'glasnost', 'gisele', 'nad', 'theturtle', 'proverb', 'nes', 'medieval', 'skyscrapercrystal', 'commoner', 'pomp', 'ant', 'school', 'tin', 'toequal', 'duringblue', 'fourfold', 'froma', 'lobby', 'alewife', 'x30', 'cul', 'collaborating', 'rococo', '4th', 'remain', 'hypo', 'sampler', 'shinned', 'Sum', 'sv', 'piraeus', 'pimple', 'fauvist', 'popsicle', 'subject', 'bottle', 'intersection', 'miscanthus', 'strategy', 'torent', 'le', 'puerto', 'shimmering', 'bycountry', 'twill', 'handprint', 'question', 'journaling', 'newbandit', 'nab', 'brittle', 'adapter', 'ortho', 'pinyon', 'geta', 'krusty', '1650', 'squad', 'flatbed', 'apathy', 'inlay', 'clinching', 'inferno', 'organism', 'vellum', 'battle', 'astudy', 'knot', 'peloton', 'pal', 'don', 'fetch', 'casino', 'vegetarianism', 'brandon', 'rooftop', 'gap', 'gambler', 'midsummer', 'bentley', 'anticipation', 'ref', 'cadastral', 'creole', 'haveautomobile', 'lim', 'carpe', 'thebeach', 'take', 'earnest', 'vey', 'parlor', 'ceasar', 'nanny', 'infrared', 'lane', 'a-layer', 'diy', 'horned', 'lg', 'fibre', 'tidal', 'maglev', 'headlamp', 'tavern', 'weeping', 'multistory', 'heli', 'philosopher', 'tidying', 'begging', 'hazelnut', 'l2', 'competitor', 'manus', 'ss', 'clarity', 'omnivore', 'slob', 'rim', 'pierce', 'staging', 'clef', 'getaway', 'barnyard', 'quicksilver', 'trebbiano', 'anear', 'mundane', 'trophy', 'cash', 'postman', 'holidaying', 'reciprocating', 'cliffside', 'cos.', 'scooping', 'barley', 'bloating', 'theold', 'customer', 'supercell', 'theflapper', 'wardroom', 'below', '650i', 'facebook', 'platformkiller', 'blimp', 'edam', 'skintight', 'paddling', 'footsummer', 'butte', 'brother', 'Motland', 'editing', 'recording', 'porcupine', 'anarchy', 'ahead', 'detour', 'person15', 'ip44', 'spirituality', 'tipping', 'loosening', 'río', 'manual', 'beaching', 'glamour', 'panto', 'pom', 'manga', 'grandstand', 'ringworm', 'source', 'sama', 'asfashion', 'pipeline', 'genotype', 'winter', 'downpour', 'code', 'monsoon', 'tomboy', 'streamlining', '930', 'organisationfield', 'govan', 'euro', 'playoff', 'scarve', 'interstate', 'cabbie', 'dura', 'texting', 'smiley', 'tranquil', 'chore', 'pistol', 'moth', 'sharpie', 'clutching', 'rise', 'pilaf', 'l7', 'played1280x855', 'harbourfront', 'hammered', 'statuette', 'stalker', 'cit', 'leaf', 'wire', 'sofia', 'canvase', 'shoemaking', 'ofpeople', 'roundtable', 'brandbrand', 'khmu', 'seaweed', 'lau', 'neofolk', 'smithing', 'webbing', 'badass', 'v2.', 'weeknight', 'be-named', 'follower', 'coracle', 'overage', 'conception', 'zouave', 'her70s', 'fronting', 'exporting', 'versus', 'degrade', 'thedress', 'hearinggood', 'needshome', 'turnkey', 'bowing', 'ashtray', 'tala', 'wintertime', 'bs', 'muffin', 'hassle', 'call', 'privacy', 'islet', 'belting', 'unloading', 'skillet', 'companion', 'raw', 'naiad', 'collagen', 'saythe', 'reason', '65km', 'finch', 'spin', 'merry', 'landlordin', 'teacher', 'equestrian', 'performedcomposition', 'kumar', 'treetop', 'executeddrink', 'fron', '20oz', 'honeycomb', 'stagecoach', 'teacup', 'kph', 'jackrabbit', 'hairdo', 'a-up', 'ISle', 'hole', 'grey', 'height', 'auburn', 'tigre', 'laser', 'bozo', 'handkerchief', 'study', 'collarbone', 'inhabitant', 'rag', 'outtake', 'tapechat', 'sensuality', 'buffet', 'headphone', 'worshipping', 'oct', 'balloon', 'poplar', 'specialman', 'gelatine', 'bedlay', 'szechuan', 'splendid', 'tentacle', 'mock', 'visitorsthe', 'doogie', 'diarrhea', 'sunroof', 'pollux', 'light', 'sun', 'and70', 'mesh', 'catapult', \"he'sdat\", 'upriver', 'portside', 'bihu', 'finger', 'raid', 'accomplishment', 'abdomen', 'Roscoe', 'wear', 'pow', 'become', 'loch', 'convex', 'graticule', 'jesus', 'manifold', 'topeople', 'chorizo', 'motorsport', 'carabiner', 'healway', 'polder', 'anytime', 'path', 'nicknamedamerican', 'ply', 'aubergine', 'constant', 'ved', 'shrub', 'jam', 'digit', 'Bush', 'incline', 'augustus', 'theshipwreck', '29in', 'mocha', 'detoxifying', 'swag', 'asone', 'rattan', 'patum', 'frog', 'bathing', 'spaying', 'subsidiary', 'asperson', 'like', '820ft', 'm-c', 'pili', 'quarterfinal', 'emanating', 'foaming', 'moonlight', 'nestling', 'datingperson', 'folly', 'negative', 'condensation', 'ysl', 'dunking', 'headdress', 'isthrough', 'triangulation', 'crackdown', 'unifier', 'bronze', 'vesak', 'southern', 'a-seat', 'hazardous', 'horsey', 'abacus', 'wollemus', 'disappearance', 'silence', 'zumba', 'instead', 'wonderland', 'kg', 'calledthriller', 'doorbell', 'ccd', '60', 'head', 'ellipsis', 'unsprung', 'ok', 'someone', 'adhesive', 'supplies', 'cursor', 'advisory', 'fromtv', 'four', 'connection', 'fixing', 'wayback', 'puppetry', 'polka', 'bergen', 'vacation', 'halve', 'spectator', 'feta', 'hardening', 'badge', 'bone', '601', 'Prnelas', 'extract', 'outcrop', 'tieredturtle', 'b9', 'c1888', 'serve', 'club', 'vaccine', 'trolley', 'chairlift', 'rumble', 'suppression', 'originalx24', 'chain', 'xo', 'sneaking', 'lovage', 'rabbis', 'poppy', 'hb', 'film', 'nonliving', 'duringnewspaper', 'reprint', 'kiln', 'bind', 'seascape', 'sample', 'balcony', 'cashier', '500g', 'generator', 'fore', 'spar', 'customchina', 'bei', 'aworld', 'homepage', 'condominium', 'nano', 'bridge', 'kiddush', 'torch', 'teapot', 'diehard', 'Christian', '20x20', 'theshot', 'anatomy', 'repairman', '300ft', 'refinishing', 'sing', 'improvement', 'cosy', 'logus', 'billboard', 'braiding', 'medial', 'pyramid', 'dotting', 'Clovelly', 'seashell', 'adn', 'u20', 'tip', 'leasing', 'optic', 'sprigs', '1480s', 'a90', 'akm', 'hospitality', 'sunday', 'thisno', 'gibson', 'h-e-b', 'bodyguard', 'lcd', 'separate', 'statement', 'engined', 'vizsla', 'jacuzzi', 'kneading', 'ladybird', 'nominee', 'facemask', 'fruity', 'sa', 'crape', 'illness', 'crownedanimal', 'altar', 'glycemic', 'preen', '5km', 'nest.', 'theirtree', 'c1851', 'experience', 'bicycle', 'leeward', 'hast', 'tomb', 'spacecraft', 'ht', 'nah', 'menus', 'r6', 'solidus', 'adinosaur', 'aral', 'thebutterfly', 'extracting', 'tomakeover', 'ofinvention', 'quilting', 'a-step', '40s', 'actor', '14', 'lovethe', 'callingthe', 'titmouse', 'andpop', 'sholay', 'clockwork', 'absence', 'kb', 'tire', 'beingtv', 'eastern', 'cricket', 'transatlantic', 'readinganother', 'vestry', 'fiction', 'ruck', 'pitchfork', 'beware', 'rainforest.', 'overland', 'mount', 'equivalent', 'a-ma', '2ft', 'bovine', 'lot.', 'going', 'feedback', '5&6', 'victim', 'dispense', 'intimacy', 'cardio', '42x42', 'batik', 'mooch', 'namedcoffee', 'ledger', 'seep', 'attempt', 'slime', 'createsrock', '15lb', 'eater', 'fir', 'reel', 'banker', 'breakaway', 'dice', 'dozen', 'ulu', 'expertise', 'andjournalist', 'mammal', 'guru', 'paintedl', 'rhyme', 'seagoing', '1470', 'sp250', 'prosthetic', 'liability', 'placeholder', 'douse', 'zolder', 'teaser', 'result', 'chant', 'treecould', 'upgrade', 'amp', 'landscaping', 'parish', 'renaissance', 'heavenly', 'cousin', 'marketon', 'eightieth', 'date', 'oo', 'blockbuster', 'Sami', 'bradley', 'insole', 'condense', '47th', 'zooming', 'relocation', 'loyalty', 'shunter', 'tem', 'siamang', 'historian', 'starling', 'trot', 'aggregate', 'refunding', 'haslike', 'email', 'index', 'inventory', 'enamelled', 'bath', 'pas', 'lire', 'mrs.', 'pulp', 'nest', 't37', 'andrower', 'paisley', 'to', 'pageboy', 'theproof', 'accelerate', 'aplus', 'flutter', 'error', 'defeatingfootball', 'florist', 'crosshair', 'induction', 'invention', 'joker', 'mimicry', 'mostalien', '7s', 'alien', 'bassist', 'onblender', 'r13', 'suffering', '30mph', 'bougainvillea', 'ditching', 'leo', 'marmot', 'suburb', 'housewith', 'meeting', 'ax36', 'superstore', 'longevity', '20mm', 'wargaming', 'over-lapse', 'yew', 'parchment', 'diligence', 'wordsstrike', 'early30', 'lug', 'abyss', 'inclusion', 'taifun', 'moped', 'mysticism', 'flank', 'stenciling', 'railroad', 'suction', 'budgie', 'periwinkle', 'momma', 'bydeity', 'girlie', '18x24', 'Centraal', 'fending', 'nd', 'microbe', 'dip', 'ancestor', 'shire', 'daisie', 'sportbike', 'conservation', 'readno', 'numb', 'owner', 'teddy', 'proclaimedrunaway', 'recordchicken', 'teenager', 'turnip', 'start', 'word', 'ofarea', 'imperator', 'sayingit', 'halfpipe', 'tricolour', 'midweekroast', 'session', 'lynx', 'interlinking', 'coveting', 'pouredplex', 'favorite80', 'prarie', 'de-mer', 'cinematography', 'tossing', 'madam', 'voicenecklace', 'reunite', 'qurbani', 'emergency', '2c', 'flor', 'haway', '55th', 'expiration', 'nu', 'tweety', 'thisvirgin', 'r11601', 'typhoon', 'telescope', 'weenie', 'congestionlike', 'shiva', 'cauldron', 'rockroll', 'dent', 'sodium', 'happen', 'butchering', 'lotus', 'dusk', 'lengthening', 'exhibitor', '11', 'kohaku', 'nauheim', 'clamming', 'hush', 'panic', 'goalless', 'type', 'molten', 'unrest', 'marguerite', 'rub', 'tribal', 'celebratemonarch', 'preflight', 'thepuppet', 'eunuch', 'toothpick', 'medley', 'thekm', 'lily', 'phytoplankton', 'cocaine', 'humidity', 'web', 'trimester', 'stock', '9', 'deduce', 'ajar', 'thedisco', 'fraternity', 'congregation', 'boredom', '5d', 'micheal', 'appartement', 'grip', '165cc', 'chimney', 'barbie', 'intellect', 'telecom', 'notgym', 'committee', 'fabricating', 'leader', 'complexity', 'bop', 'devotee', 'dicing', 'georgiana', 'm2', 'homage', 'ban', 'ebook', 'transfer', 'ritual', 'meantime', 'urge', 'dressmaking', 'sentry', '16ft', 'arcing', 'asuit', 'barbecue', 'dey', 'honour', 'tripper', 'maple', 'cubby', 'slipcase', 'touring', 'wish', 'aglass', 'thewear', 'render', 'threaten', 'matter', 'lakeside', 'solution', 'thirsty', '1780s', 'chesspocket', 'plaza.', 'rooftopcocktail', 'sideline', 'medicare', 'octagon', 'l78', \"son'swhere\", 'generosity', 'layer', 'theonce', 'mydead', 'crime', 'clearcut', 'promo', 'bump', 'hawker', 'thepay', 'withfake', 'fourteener', '50ml', 'furry', 'needlepoint', 'chinoiserie', 'vouliah', 'backache', 'onsite', 'semester', 'opie', 'bronco', 'sportswoman', 'guitarist', 'vestibule', 'crore', 'funk', 'uppertail', 'png', 'pinwheel', 'carnelian', 'fountainhead', 'fled', 'shabbat', 'kykuit', 'shadowland', 'wat', 'purchase', 'ensuite', 'wield', 'pronto', 'decking', 'survive', 'Greek', 'term', 'science', 'orient', 'di', 'rest.', 'elaborate', 'profile', 'pounder', '38t', 'robotics', 'musto', 'forfilming', 'maleficent', 'campanula', 'sweater', 'cosmos', 'camouflage', 'prix', 'connectivity', 'ultralight', '3ds', 'playing.', '737', 'union', 'bathrobe', 'eel', 'mayoral', 'withcoach', 'structure', 'hourglass', 'baflle', 'footbridge', 'insider', 'robins', 'class', 'nectar', 'limelight', 'vasilievsky', 'greetsperson', 'trousers', 'news.', 'poor', 'baptizing', 'ringo', 'sanding', 'fattening', 'moscato', 'sparkling', 'person95', 'tablet', 'grabbingoop', 'curriculum', 'pov', 'passage', 'superorder', 'joy', 'stater', 'clutch', 'thesaguaro', 'ceo', 'compact', 'ounce', 'buildingsdepicting', 'saidcheese', 'management', 'orang', 'wadi', 'i-d', 'wal', 'harmony', 'furnishings', 'forretail', 'candles.', 'daytime', 'kitten', '10ft', 'religion.', 'goblet', 'tochill', 'broadcast', 'expense', 'sleepover', 'brecon', 'loss', 'land', 'pioneer', 'thissnow', 'bike', 'mobile', 'allegation', 'resolution', 'mango', 'homeland', 'fierce', 'haar', 'pikachu', 'notion', 'fit', 'soul.', 'keno', 'thecannabis', '19xx', 'airport', 'combination', 'fingerless', 'nikka', 'rasping', 'richness', 'turtleneck', 'agoyarn', 'perl', 'analyze', 'linden', '660ft', 'margin', 'bedside', 'epiphany', 'thishow', 'drum', 'clenching', 'enrichment', 'fatale', 'peregrine', 'inspireda', 'Saturday', 'in11', 'stomach', 'kelvin', 'sidereal', 'creme', 'sneezing', 'a-gun', 'morewheel', 'centering', 'refinement', '26th', 'cassette', 'bush', 'alcohol', 'bittern', 'over-star', 'fan', 'fa', 'rollersso', 'app', 'sportscar', 'pack', '3c', 'low', 'industrial', 'Daybreak', 'tap', 'the13th', 'centripetal', 'gras', 'v7', 'wigwam', 'pulse', 'ark', 'tbs', 'futurist', 'issuing', '10th', 'matrix', 'yourcycle', 'prey', 'trifle', 'confusingno', 'campaign', 'ligature', \"college'ssafe\", 'psychology', 'sneak', 'helem', 'float', 'licensing', 'flail', 'qualitative', 'calm', 'avocado', 'idr', 'thepeople', 'perry', 'intro', 'phonograph', 'cult.', 'cashew', 'cruz', 'krater', 'bruin', 'corrida', 'varicose', 'scissor', 'unc', 'crayfish', 'ruler', 'balao', 'playmaker', 'gravity', 'intermingle', 'snorkelling', 'beach.', 'pen', 'filly', 'windscreen', 'borehole', 'windup', 'rectangles.', 'activist', 'position', 'ponder', 'inunesco', 'facit', 'faucet', 'ledge', 'earthmoving', 'pollinator', 'cook', 'fondest', 'festivity', 'fitting', '4d', 'ofepic', 'a-newton', 'poke', 'tac', 'pepperoni', 'logistics', 'dew', 'mum', 'a-pitch', 'washi', 'bear', 'moderate', 'multiplicity', 'cannery', 'november', 'andlighthouse', 'mama', 'roundabout', 'criminal', 'rendition', 'andman', 'speculative', '5a', 'boomerang', 'ghazal', 'plaidschoolgirl', 'dapple', 'chilensis', 'mischief', 'deliver', 'romanesque', 'stockade', 'cpr', 'a70', 'fom', 'minimum', 'organize', 'fireboat', 'borrow', 'debt', 'mood', 'cupro', 'anin', 'cardioid', 'saver', 'saucy', 'church', 'crabapple', 'treehammer', 'ruin', 'dandelion', 'mane', 'love', 'gladius', 'global', 'tailing', 'snowboard', 'incumbent', 'asia', 'makita', '40th', 'nerd', 'temptation', 'harbour', 'gig', 'acountry', 'aeronautics', 'tarzan', 'yarn', 'idol', 'april', 'veal', 'abill', 'vine', 'leafing', 'scoop', 'withhorror', 'travertine', 'perfectmeat', 'cotton', 'wheaten', 'hugging', 'aperson', 'café', 'control', '45ha', 'recline', 'heatwave', 'incubation', 'apex', 'hopping', 'columnist', 'superteam', 'outgarment', 'veterinarian', 'gift', 'neoprene', 'noir', 'step', 'flamethrower', 'rick', 'brutal', 'prostate', 'thefake', 'junebug', 'exercising', 'aquamarine', 'agora', 'oasis', 'jay', 'lucerne', 'thoracic', 'thisvegan', 'some60', 'drachma', 'bum', 'hiscampaign', 'major70', 'ss16', 'disturbance', 'striker', 'lpg', 'sloth', 'gt2', 'television', 'bybook', 'fluff', 'a-m', 'aircraftaircraft', 'peskykiss', 'labrador', 'canva', 'cid', 'furniture', 'andean', 'pd', 'independent', 'fantail', 'item', 'booting', 'nisi', 'vip', 'gaming', 'calleddark', 'db', 'signage', 'fireside', 'auction', '92lb', 'succession', 'batting', 'glancing', 'waldorf', 'cover', 'crocodile', 'bebeto', 'xi', 'heightening', '170mm', 'a-pound', 'server', 'gain', 'duct', 'violinconservatory', 'alpine', 'tutoring', 'dept', 'zebra', 'co2', 'door', 'pip', 'wick', '20', 'falcon', 'maggot', 'opinion.', 'layering', 'leaver', 'millileter', 'roundhouse', 'hisbackyard', 'tungsten', 'stratus', 'pipa', 'holm', 'iliopsoa', 'graze', 'bluegill', 'breathablegill', 'lijiang', 'boeing', 'bastille', 'xix', '29er', 'leftover', 'remedy', 'goal', 'champagne', '1480', 'shinto', 'content', '400', 'squirrel', 'away', 'balinese', 'relaxedsummer', 'kosher', 'trigonometry', 'not', 'tortilla', 'back90', 'humankind', 'ofracecar', 'variegata', 'postmortem', 'singscomposition', 'frida', 'towel.', '80th', 'resting', 'mike', 'engraving.', 'spaghetti', 'thedaughter', 'goosebump', 'strix', 'wilometer', 'professional', 'pea', 'moonstone', 'proton', 'peeper', 'albertosaurus', 'jessa', 'res', 'shaggy', 'gathering', 'creeper', 'medalist', 'dame', 'hake', 'opt', 'monitor', 'fw15', 'amazonica', 'oflebanese', 'cubist', 'satay', 'stipple', 'frit', 'thenimpossibleis', 'celebritytwinning', 'zamboni', 'roading', 'arrive', 'Fromthe', 'lacquer', 'guarding', 'chihuly', 'hawksbill', 'spiral', 'embankment', 'rhenium', 'superbowl', 'forehead.', 'researcher', 'asdoll', 'smokescreen', 'magnifying', 'dirham', 'mimic', '17x9', 'profiling', 'trunk', 'juju', 'luncheon', 'mera', 'kl', 'response', 'sign', 'bigleaf', '62mph', 'threat', 'shampoo', 'merlot', 'ballpark', 'Lee', 'vignette', 'sweep', 'cosmetic', 'duringa', 'everyone', 'galatea', 'chibi', 'tilapia', 'a-lb', 'mobil', 'playerha', 'seed', 'antacid', 'gild', 'gum', 'popularnew', 'a-hotel', 'streetwear', 'shoelace', 'toprofession', 'total90', 'cicada', 'wheregerman', 'starburst', 'ung', 'region', 'ker', 'shelter', 'brook', 'expressionthe', 'olympics', 'piling', 'basketballer', 'underdog', 'comeback', 'braideddo', 'secluded', 'torching', 'meaninghave', 'manmade', 'xing', 'swerve', 'equalise', 'juxtaposs', 'bend', 'Petri', 'isolate', 'remember', 'bell', 'ale', 'wordsnew', 'mercantilist', 'tiered', 'sinister', 'packard', 'ura', 'booby', 'tidy', 'thet', 'fromhorror', 'outage.', 'siren', 'foliage', 'kundalini', 'andgarment', 'bartend', 'gossip', 'x3', 'leadership', 'shortage', 'scribble', 'tostunt', 'boyfriend', 'steganography', 'glam', 'womanget', 'massaging', 'bedtime', 'lapel', 'yachting', 'smile.', 'letter', 'colonial', 'melodramatic', 'refresh', 'grove', 'bam', 'poplin', 'boreal', 'forplay', 's-r', 'leafy', 'fulltime', 'draining', 'dre', 'kaki', 'squatter', 'hairstylestry', 'swordfish', 'hideout', 'chisel', 'triple', 'blackwater', 'onfield', 'comet', 'boning', 'doodling', 'seemsanimal', 'stocking', 'rime', 'thymine', 'provenance', 'harpist', '1970', 'delhi', 'parachute', 'portion', 'berg', 'steelyard', 'flan', 'nationality', 'saucer', 'hued', 'fortnight', 'problem', 'punish', 'roosting', 'wildcat', 'hollow', 'dedicate', 'cemetery', 'grande', 'lye', 'thrifty', 'singlepontoon', 'bobo', 'battery', 'sow', 'chit', 'eternity', 'camellia', 'pentagram', 'thegreat', 'reporter', 'pass', '200m', 'jailhouse', 'koala', 'housedthis', '12v', 'geranium', 'mining', 'afro', 'genus', 'bock', 'friendship', 'own', 'traffic', 'practicing', 'reservoir', 'silico', 'log', 'toss', 'sterling', 'bridesmaid', 'asbestos', 'demon', 'longshot', '9d', 'mr.', 'caving', 'sue', 'horseman', 'hercule', '9mm', 'dumpling', 'occupant', 'gy', 'fargo', 'antenna', 'a-bit', 'fromauthor', 'terminal', 'wasperson', 'souffle', 'seem', 'ferrata', 'animator', 'grappling', 'the400', 'troy', 'pollinate', 'whisking', 'tarentaise', 'fea', 'amade', 'balcony4k', '512m', 'confidence', 'morrocan', 'submillimeter', 'stage', 'weakness', 'bridport', '70g', 'aby', 'gorilla', 'enhancement', 'trap', '1910', 'private', 'mylar', 'tudor', 'pouch', 'isbody', 'primaveraa', 'move', 'secrete', 'sycamore', 'nicknamedthe', 'ligustrum', 'booking', 'fireman', 'festivalcomedy', 'surplus', 'blackboardsummer', 'recommendation', 'Bee', 'herbicide', 'hookah', 'versicolor', 'margaritaville', 'interior', 'steampunk', 'ana', 'havoc', 'faraway', '7mm', 'regatta', 'depression', 'workplace', 'droop', 'meterbuilt', 'condo', 'cower', 'swiping', 'asautomobile', 'pinto', 'genre', 'ya', 'satin', 'overhang', 'rinsing', 'bucking', 'suspect', 'continuation', 'network', 'the88xxx', 'seafaring', 'glue', 'choreographer', 'fuse', 'fighter', 'sculpture', 'hischaracter', 'rack', 'conduction', 'shaman', 'teed', 'gambit', 'handheld', 'brightening', 'abridge', 'swedish', 'booth', 'teamwork', 'certificate', 'orphan', 'dashi', 'enchanting', 'seacoast', 'bulging', 'canebrake', 'assistance', 'backstreet', 'short', 'speed', 'seventh', 'ofnew', 'budding', 'gee', 'z8', 'crossword', 'compound', 'boomer', 'newton', 'anthracite', 'snaffle', 'smuggling', 'breaker', 'excursion', 'houseboat', 'eq', 'cor', 'breath', 'protea', 'welding', 'a-l', 'housekeeping', 'in1994', 'theto', 'quadruple', 'sculpin', 'homework', 'cvt', 'boar', 'qualifier', 'loco', 'ofkid', 'china', 'electronics', '19', 'describedera', 'obelisk', 'admiral', 'Christmas', 'glitter', 'joe', '125th', '5ft', 'stack', 'solo', 'mixture', 'lay', 'disguising', 'school.', 'hypothesis', 'venue', 'outline', 'fortress', 'avia', 'quadrant', 'daffy', 'clamour', 'harassment', 'singing', 'include', 'pep', 'cornea', 'visitvariety', 'wagon', 'sponsor', 'churchyard', 'sprayer', 'push', 'lichen', 'kidsa', 'grounds', 'turbinesa', 'swim', 'gondola', 'gun', 'sedge', 'farrier', 'paramilitary', 'dear', 'demonstratorssound', 'rider', '5x7', 'opposition', 'grill', 'submit', 'gp', 'mb', 'beech', 'funhouse', 'scheme.', 'confession', 'aerobic', 'cornflower', 'comprise', 'a-wicket', 'pic', 'ebbing', 'spawning', 'apink', 'focus', 'vessel', 'experiment', 'manzanita', 'shrine', 'thewhen', 'library', 'carnation', 'Monaco', 'buzzer', 'triptych', 'bile', 'quarterback', 'manage', 'ricin', 'theok', 'palmetto', 'ahigh', 'retelling', 'reusing', 'cu', '12ft', 'arleigh', 'myselfi', 'discovering', 'msr', 'asa', 'typographic', 'phenotype', 'scrabble', 'calico', 'l974', 'madegarment', 'brazilian', 'swivel', 'motherboard', 'dreamer', 'intrigue', \"l'œil\", 'lettable', 'detecting', 'pine', 'openwall', 'tackler', 'efficiency', 'honeymoon', 'spp', 'cooker', 'forage', 'loading', 'family', 'critic', 'doctoral', 'travel', 'wreath', 'fastening', 'surfacing', 'technik', 'hypoallergenic', 'roadtrip', 'carat', 'offset', 'offspring', 'lateststock', 'create', 'geologist', 'hearse', 'screwdriver', 'novelist', 'meat', 'roofhighlight', 'milla', 'hug', 'yolk', 'prompt', 'fullscreen', 'menu.', 'gladiator', 'puncher', \"o'neal\", 'withfilm', 'gesturing', 'carpentry', 'spelleda', 'monogram', 'frequency', 'navy', 'salvation', 'ou', 'tsvangirai', 'warfare', 'longue', 'cull', 'lancing', 'macho', '1925s', 'board', 'chevy', 'paschal', 'maritimus', 'medievalpackhorse', 'cremation', 'gro', 'weasel', 'slice', 'courtroomlook', 'psychobilly', 'quest', 'avg', 'gear', 'frontline', 'comforter', 'Holly', 'genie', 'forobstruction', 'ofmatte', 'y2', 'criss', 'balloonist', 'underside', 'leatherback', 'pooch', 'shunting', 'nouvelle', 'chap', 'uprising', 'thesmart', 'precast', 'orderly', 'cluster', 'proto', 'covering', 'qb', 'sheer', 'busing', 'tactile', 'hackney', 'rosé', 'crescent', 'chinook', 'mackerel', 'toclean', 'reads60', 'standup', 'minesweeper', 'viaduct', 'posterior', 'montane', 'heddle', 'thedip', 'territory', 'ironclad', 'desktop', 'roo', 'shallow', 'carrion', 'transom', 'silicone', 'meiji', 'arc', 'animaniac', 'plantar', 'restriction', 'decor', 'sully', '15cm', 'cadet', 'brac', 'bluestem', 'jurisdiction8', 'tongkonan', 'asfatuous', 'chopstick', 'match', 'unveil', 'place', 'pesticide', 'sheep', 'kennel', 'chemo', 'kts', 'carnationpopcorn', 'fizzy', 'azure', 'vintage70', 'lira', 'concussion', 'employment', 'youwhat', 'vintage40', 'winch', 'protrude', 'jargon', 'beachside', 'primigenius', 'bluebell', 'loan', 'beg', 'leprechaun', 'rifle', 'devil', 'quagga', 'drupe', 'bower', 'thiswas', 'patriot', 'is2', 'thai', 'fixer', 'playerafter', \"you'rein\", 'varietal', 'horsedrawn', 'goldfinch', 'toboggan', 'beatrunning', 'greatstepping', 'nuttall', 'refurbishment', 'present', 'w', 'nationwide', 'porcelain', 'singingthe', '27l', 'curry', 'multitasking', 'graveyard', 'primate', 'poss', 'healing', 'strap', 'preference', 'storied', 'twine', 'with99.', 'skipper', 'ow', 'cravat', 'downsize', 'turning', 'trans', 'biofluid', 'nanus', 'fishbowl', 'tanager', 'rossi', 'stockman', \"c'est\", 'carrier', 'crowding', 'endeavor', 'dust', 'midwinter', 'inorganic', 'diver', 'ss17', '72d', 'kwon', 'pellet', 'name.', 'buddhist', 'taunt', 'archbishop', 'beacon', 'rosary', 'firefighting', 'haweswater', 'ladybug', 'rhythm', 'framework', 'news', 'squash', 'Deli', 'interbreeding', 'noho', 'hind', 'weddingsave', '228th', 'uranium', 'thundering', 'country', 'port', 'hall', 'boudoir', 'tournament', 'tinsel', 'cape.', 'sprout', 'puncture', 'wane', 'onscreen', 'gtr', 'detritus', 'thegraffiti', 'schoolyard', 'archway', 'fabric', 'a9', 'batwing', '4k', 'designsback', 'footage', '130h', 'batman', 'petrol', 'stockbridge', 'margarine', 'locomotor', 'fos', 'sepia', 'lightweight', 'seaside', 'meerkat', 'bail', 'carrera', 'solve', 'abstraction', 'pittedstyle', 'loiter', 'pinafore', 'garlic', 'neighbour', 'carrack', 'representation', 'politician38', 'themplant', 'tansy', 'arch', 'weekend', 'wheeling', 'pedal', 'bangs.', '800m', 'controlledcity', 'distress', 'on.', 'intermediary', 'grasshopper', 'wordsno', 'acid', 'hom', 'cart', 'hear', 'google', 'lamppost', 'neckwear', 'calle', 'thestyle', 'charging', 'tvs', 'jamie', 'recruitedbaseball', 'be-mommy', 'h0', 'pence', 'hearted', 'exchange', 'cosplay', 'dwarf', 'pathfinder', 'touch', 'suede', 'exposition', 'twelfth', 'redevelopment', 'b3', 'm113', 'clementine', 'br', '27th', 'troops', 'trepidation', 'stubble', 'cx', 'gendarmerie', 'excess', 'sinner', 'lift', 'daysautomobile', 'bas', 'droll', 'disassembly', 'intelephone', 'gallium', 'containsa', 'calledpunch', '36cm', 'carton', 'dacha', 'trays', 'apreppy', 'the70', 'megastar', 'whitening', 'trombone', 'momentary', 'browsing', 'gamepad', 'rustle', 'pictograph', 'petition', 'resistance', '\\uf0a7', 'populist', 'geographer', 'states', 'archivist', 'packet', 'spitting', 'lack', 'porthole', 'mariposa', 'simultaneouslya', 'againststate', 'rope', 'grandmother', 'insulation', 'bathroom', 'distribution', 'atween', 'headline', 'viking', 'Caucasian', 'woodcraft', 'spaceman', 'colinear', 'aplan', 'test', 'fate', '7c', 'viewfinder', 'adventurer', 'London', 'scream', 'conceptual', 'leaky', 'gluten', 'person153', 'flamingo', 'moonless', 'heartburn', 'oryx', 'joinastronaut', 'grandstyle', 'ceratopsian', 'tumbler', 'animatronic', 'towpath', 'analysis', 'longboard', 'handout', 'nativity', 'mk2', 'performingwe', 'sit', 'eyesore', 'durability', 'Slava', 'agricultural', 'medium', 'transplant.', 'tonoble', 'bighorn', 'thoroughness', 'grading', 'handle', 'anunity', 'scuttle', 'fouling', 'tiltrotor', 'functioning', 'examining', 'demonstrator', 'redskin', 'i-', 'bk', 'a-element', 'a8', 'slum', 'termfast', 'ravioli', 'crisis', 'smack', 'ferro', 'rebirth', 'zoologist', 'thoughtid', 'ammunition', 'bohemian', 'refinery', 'paternal', 'microwave', '22oz', 'touchline', 'nour', 'labeledstuff', 'reveller', 'polymer', 'a-thumb', 'embrace', 'partner', 'dodgeball', '147th', 'arsenal', 'bothingredient', 'thephotography', 'fracturing', 'politics', 'hardback', 'ofschool', 'strung', 'stopwatch', 'cool', 'busk', 'Figure', 'tong', 'q3', 'byfootwear', 'signal', 'bff', 'puffing', 'lego', 'lowthe', 'personis', 'q', 'azaleas', 'communicate', 'characterinside', 'shearwater', 'dhole', 'zloty', 'attractionalthough', 'whitedo', 'pertaining', 'duty', 'chalet', 'barge', 'trespassing', 'kitchen', 'obi', 'waggonway', 'neck', 'mmorpg', 'cure', 'suv', 'bbq', 'Sycamore', 'tanning', '90y', 'laneway', 'speech', 'ecology', 'morrow', 'acceleration', 'secondhand', 'waterworld', 'dam', 'undocking', 'highbury', 'full', 'noone', 'hump', 'hedonism', 'samurai', 'endive', 'thetabletop', 'meansant', 'reliability', 'threshold', 'banff', 'restoration', 'grab', 'breaststroke', 'bento', 'speculator', 'paintbrush', 'marten', 'thoroughbreds', 'appeal', 'waterline', 'gravure', '1st', 'grille', 'downstairs', 'forecourt', 'withsafety', 'possessor', 'handrail', 'graben', 'fortelecom', 'vive', 'oncheat', 'disembark', 'swamp', 'militant', 'joints.', 'java', 'goldeneye', 'wai', 'access', 'thinking', 'partplan', 'troop', '1540s', 'slate', 'plaice', 'norvegicus', 'Nive', 'shoe', '1648painting', 'teaspoon', 'house.', 'brighton', 'role', 'burr', 'orpurple', 'wallet', 'hauler', 'trick.', 'performance', 'cut.', 'zebu', 'collarso', 'taffeta', 'sawperson', 'scarecrow', 'uncover', 'plow', 'igloo', 'stucco', 'camp.', 'rating', 'decade', 'adviser', 'matchday', 'gerber', 'functionality', 'axillary', 'ethic', 'giggle', 'gaff', 'jumong', 'Devil', 'supercharged', 'desk', 'pinkstyle', 'whiplash', 'hoarding', 'Knick', 'smear', 'neighbor', 'e82', 'hana', 'rat', 'cinema', 'caretaker', 'sill', 'illuminate', 'banzai', 'taking', 'shimmer', 'anse', 'garland', \"24'pontoon\", 'caduceus', 'night.', 'housework', 'x96', 'battlesecondary', 'thorough', 'faith', '2090', 'tolook', 'measuring', 'kneeling', 'byman', \"5'x4\", 'dispenser', 'Franco', 'usage', 'bartender', 'freezer', 'testament', 'patchwork', 'hemisphere', 'vj', 'gore', 'lupus', 'survival', 'nn', 'royal', 'laurel', 'be', 'bounding', 'nobel', 'glo', 'offstage', 'president', 'warden', 'coco', 'docudrama', 'fridge', 'russet', 'preparation', 'hallway', 'mustard', 'centennial', 'wakeboarding', 'a-dog', 'seal', 'seahorse', 'crock', 'lotustm', 'vermicelli', 'repelling', 'ria', 'isforce', 'patternedrug', 'peripheral', 'sacking', 'fl.', 'hog', 'nursery.', 'asand', 'fasting', 'offantasy', 'borscht', 'horizon', 'ferryboat', 'holler', 'luau', 'ronin', 'summary', 'harambee', 'brick', 'xl', 'speedometer', 'ageing', \"1920'sstyle\", 'veil', 'personhas', 'theropod', 'zircon', 'haute', 'x10', 'mode', 'participate', 'infra', 'q8', 'racket', 'atiger', 'colorblack', 'blank', 'administrative', 'siesta', 'deg', 'seeding', 'itssport', 'rapeseed', 'commerce', 'minecraft', 'weigh', 'comping', 'wearer', 'reader', 'outstation', 'incinerator', 'parishon', '43rd', 'weekday', 'eighty', 'expanse', \"l'oeil\", '155th', 'facility', 'manipulation', 'description', 'whirl', 'signno', 'weather.', 'ess', 'electorate', 'racetrack', 'advice', 'piggybacking', 'marbles', 'upstream', 'a-match', 'broach', 'sobriety', 'hart', 'fluke', 'kilometre', 'carnaval', 'dur', 'escape', 'woodfrom', 'caby', 'raiding', 'spanish', 'asaying', 'anthurium', 'governor', 'linefit', 'likegarment', 'celeb', 'film&', 'parquet', 'gable', 'protozoa', 'biceps', 'jaeger', 'reloading', 'belt', 'arewarming', 'todry', 'todaygerman', 'whereautomobile', 'kevlar', 'powering', 'maggie', 'capability', '18th', 'karateka', 'detector', 'cope', 'sandlot', 'alphabet', 'divide', 'humorbirthday', 'lowercase', 'early60', 'merge', 'mon', 'andaircraft', 'yu', 'inca', 'dusseldorf', 'candlelit', 'caesarean', 'cliffshas', 'shotput', 'bouldering', 'century40', 'navigating', 'volk', 'astorybook', 'thar', 'fis', 'Bowery', 'beautifulberth', 'cumin', 'ameatball', 'trainer', 'recreational', 'greyhounds', 'featuresmm', 'de-sac', 'theorem', '1910s', 'itsmodel', 'a-house', 'hua', 'c1924', 'agreen', 'yi', 'blooded', 'motorcyclist', 'delicacy', 'vulture', 'hoar', 'mockup', 'orview', 'grassroots', 'spotlight', 'saltwater', 'breach', 'dancing', 'shower', 'translucent', 'ret', 'savanna', 'counseling', 'mirabelle', 'dwelling', 'bridal', 'protozoan', 'accumulator', 'fairytale', 'tragedy', 'tosparkling', 'regency', 'thepopup', 'monotype', 'logic', 'grandview', 'i.m.', 'splashdown', 'illuminating', 'Blanco', 'wattage', 'dahlia', 'simplyservice', 'arecord', 'burrow', 'bullwinkle', 'paring', 'P6er', 'select', 'cereus', 'alcoholic', 'Cranach', 'pagan', 'voting', '90s.', 'warp', 'dark.', 'cupola', 'sentencing', 'viewluxury', 'politician', 'maestro', 'massive', 'matinée', 'be-buyer', 'andautomobile', 'drake', 'a-gallon', 'sp1', 'brunch', 'tenge', 'poop', 'draught', 'beaker', 'pallet', 'vanity', 'uk', 'theparlor', 'cause', 'taxiway', 'clown', 'clearedm', 'kniveslove', 'slicing', '750ml', 'narrative', 'usual', 'lab', 'revel', 'soundproofing', 'puma', 'brink', 'laden', '32mw', 'screammodel', 'ite', 'icebreaker', 'preach', 'positioning', 'artisan', 'drawing', 'zig', 'death', 'pommel', 'joinery', 'sr500', '45cm', 'socialist', \"5'10\", 'cutaway', 'zealand', 'kelley', 'ofdoe', 'sense', 'knobby', 'purse', 'pinching', 'bold', 'guide', 'america', 'chilli', 'tp', 'quintessence', 'citadel', 'casual', 'Skittle', 'ax4', 'letterhead', 'luc', 'volcano', 'hectare', 'philly', 'hammer', 'philantropist', 'calendula', 'photographic', 'adieu', 'sed', '2000s', 'palaeontologist', 'depressant', 'planed', 'visitor', 'planson', 'dotsn', 'surah', 'face', 'punishment', 'bluestar', 'brainstorming', 'vibe', 'vector', 'inject', 'dof', 'sin', 'morning', 'fielding', 'nv', 'spring', 'birthdaysin', 'gunner', 'sandbox', 'frontier', '30p', 'ofsport', 'promise', 'knowledge', 'oval', 'pennyroyal', 'trailing', 'a340', 'takeout', 'morediet', 'accession', 'womana', 'aesthetic', 'grammar', 'col', 'thousander', 'moody', 'fascist', 'coding', 'craving', 'shelling', 'brash', 'program', 'cloud', 'amuseum', 'consulate', 'auctioneer', 'fix', 'beneficiary', 'muskrat', 'photoshop', 'cheesecakehas', 'matric', '2015cc', 'fuselage', 'savegarment', 'favoritetexas', 'movement', 'ghat', 'reset', '56th', 'cbd', 'lazul', 'trauma', 'emulator', '1600s', 'threepence', 'nitrous', 'shootinga', 'andwest', 'q1.', 'a-carat', 'wordsmeal', 'godzilla', 'collaboration', 'assomeone', 'exploring', 'agri', 'argument', 'fishery', 'notrope', 'tricker', 'bellow', 'conversing', 'yon', 'balenciaga', 'scarface', 'tangle', 'electricity', 'asterisk', 'sorting', 'casita', 'ofromance', 'a-bag', 'Michele', 'valet', 'doghouse', 'thevillage', 'threaded', 'treble', 'knowssport', 'sawing', 'wallpaper', 'birthday', 'homemade', 'popularity', 'Nuncio', 'symphony', 'modelall', 'peyote', 'vermillion', 'spinner', 'insignia', 'elope', 'freeze', 'phosphoinositide', 'secretary', 'quartzite', 'sting', 'conductor', 'diabete', 'terror', 'awet', 'baa', 'the10', 'milestone', 'airplane', 'fennel', 'foxglove', 'potassium', 'attersee', 'rv', 'relocate', 'specialapothecary', 'publicist', 'metro', 'suburbia', 'madonna', 'forholiday', 'perk', 'jetty', 'dubrovnik', 'courtyard', 'midmorning', 'influx', 'Aarland', 'playersshould', 'interspecy', 'rock', 'baseball.', 'accord', 'transitioning', 'task', 'discount', 'lad', 'wrecking', 'botanical', 'thelanguage', 'printable', 'avenue', 'pneumonia', 'obverse', 'contraband', 'sylvatica', 'kilometer', 'swarovski', 'advise', 'drone', 'sculpt', 'billion', 'anthill', 'frisk', 'indicator', 'ofbag', 'gazelle', '74th', 'gaul', 'owl', 'rowan', 'awalk', 'summer', 'surroundings', 'need', 'thehealing', 'instruction', 'obligate', 'receding', '750cc', 'wheelbarrow.', 'conservatory', 'opinion', 'water.', 'recap', 'swim.', 'sassy', 'thalys', '09p', 'bya', 'whiteboard', 'shrew', 'prune', 'sawtooth', 'calculation', 'overuk', 'a-kg', 'quotation', 'toothbrush', 'handstand', 'clipper', 'sb12', 'tah', 'mutabilis', 'synonym', 'relaxingon', 'law', 'deejay', 'a-time', 'motto', 'interpretation', 'international', 'eyelet', 'shofar', 'earthenwareolive', 'dashing', 'len', 'skim', 'ty', 'tempt', 'rubble', 'first', 'saidbad', 'beachon', 'refine', 'gavel', 'ofperson', 'muh', 'ninth', 'reconnaissance', 'strutting', 'seeingautomobile', 'runaway', 'quilt.', 'anillusion', 'pitching', 'natal', 'cour', 'dystrophy', 'organ', 'je', 'bicycling', 'bullying', 'skincare', 'cantilever', 'trance', 'rule', 'dope', 'encourage', 'amend', 'soundtrack', 'dealer', 'named20', 'cyan', 'retirement', 'premiering', 'bulbul', 'electronica', 'Landry', 'hala', 'footprint', 'basking', 'scriptwriter', 'topknot', 'aerospace', 'gigantea', 'tenement', 'heaping', 'nevermore', 'archedarch', 'gnaw', 'trade', 'dredge', 'a-vehicle', 'interpolation', '5x8', 'vane', 'bariatric', 'wage', 'notation', 'wordshuman', 'cardigan', 'medina', 'gf', 'thistablecloth', 'neutrality', 'backcountry', 'thank', 'fx', 'vinhumeter', 'x5', 'basilica', 'troopsface', 'ww2', 'plumage', 'heating', 'fromour', 'physician', 'a-whirl', 'fairy', 'toblack', 'beth', 'figural', 'list', 'crocheted', 'rockslide', 'a-cylinder', 'wordstoo', 'sunlit', '☆', 'toshut', 'flatbread', 'flash', 'barnstorming', 'carbohydrate', 'suffer', 'guilt', 'a-peso', 'updating', 'oculus', 'eagle', 'finances', 'hon', 'sui', 'wholesale', 'oar', 'helper', 'is40', 'goofing', 'hill', 'hieroglyphics', 'coping', 'steamboat', 'a-goal', 'embassy', 'salting', 'tattoomay', 'lincoln', 'oncomedian', 'shooting', 'configuration', 'inverter', 'matchbox', 'hum', 'Aian', 'cassava', 'explain', 'twist', 'spicy', 'asneak', 'variety', 'sleeved', 'intestine', 'eighth', 'preppy', 'perovskite', '39xx', 'mole', 'parallelx2', 'a-tower', 'nominal', 'readingfamily', 'dab', 'snowman', 'binary', 'thatone', 'merlin', 'worth', 'bonjour', 'wasp', 'balalaika', 'theatre', 'suggestion', 'sarpanch', 'permission', 'poster', 'january', 'slimline', 'ax', 'agenda', 'thisstyle', 'hymn', 'industry', 'scarab', 'hippopotamus', 'evaluation', 'shred', 'penguins', 'lexus', 'koffee', 'townen', 'hugex40', 'bristlecone', 'yah', 'clapboard', 'zen', 'goodness', 'uno', 'skit', 'hyper', 'd20', 'churchyard.', 'thehush', 'gent', 'compartment', 'broomstick', 'shekel', 'seria', 'bug', 'gem', 'zentimeter', 'p158', 'Magnolia', 'ermine', 'ahuntsman', 'dowry', 'coexist', 'tourist', 'steeple', 'ruff', 'clarkii', 'preseason', 'ad', 'encouragement', 'descendant', 'humanity', 'porta', \"winter'ssnow\", 'fairtrade', 'cas', 'sprinter', 'figure', 'accommodation', 'trojan', 'rhd', 'ajto', 'plating', 'parrot', 'dodge', 'seesaw', 'example', 'mansion', 'mom', 'luma', 'heaven', 'proceed', 'foil', 'keyboard', 'rucksack', 'esau', 'manly', 'hilariousat', 'agile', 'pacifist', 'f-f', 'steer', 'admiration', 'blueprint', 'mobility', 'philanthropist', 'toaster', 'distort', 'vaporware', 'parson', 'pasture', 'corps', 'accomplish', 'thing', 'irritable', 'nobleman', 'corollary', 'turbo', 'std', 'spraying', 'extraction', 'revolt', 'doyle', 'Wolfie', 'byart', 'September', 'urn', 'rally', 'tapir', 'replenishment', 'carnivore', 'broccoli', 'esplanade', 'cometh', 'delicatessen', 'salad', 'ruffo', 'goodwill', 'hefelt', 'rafter', 'mascara', 'approx', 'thangka', 'hada', 'gelatin', 'illustration', 'tenure', 'input', 'rights', 'music', 'pillow', 'galleryfront', 'band', 'triassic', 'hov', 'beryl', 'kino', 'italian', 'pong', 'tassel', 'jellybean', 'keystroke', 'Recherche', 'forconference', 'jaunt', 'billy', 'tutor', 'cliché', 'iodine', 'tes', 'amphitheater', 'gaunt', '2cm', 'dill', 'dalit', 'harm', 'man', 'volgograd', 'arena', 'tepui', 'kieninger', 'pawn', 'collapse', 'bobcat', 'idler', 'z3', 'color.', 'adventure', 'abeam', 'zambezi', 'bisector', 'barnwood', 'naginata', 'unmask', 'stardust', 'vapor', 'linewhere', 'bucket', 'spacewalk', 'a-ton', 'a-suitcase', 'prohibit', 'linen', 'mcm', 'mentalist', '1500m', 'magickal', 'scotia', 'quantity', 'parisienne', 'sampling', 'dismounting', 'chimpanzee', 'lag', 'purr', 'and50', 'p2', 'cuneiform', 'medal', 'pogo', 'thumping', 'amust', 'lying', 'peeler', 'grandchild', 'graphite', 'eclipse', 'inquiry', 'timepiece', 'wannabe', 'concorde', 'a-night', 'cyclop', 'turndown', 'location', 'biology', 'ridge', 'somemust', 'buzz', 'rs', 'closing', '1cm', 'convention', 'a0', 'shorting', 'cep', 'mooring', 'bustle', 'valiente', 'communism', 'dress', 'moc', 'lensing', '71st', 'washing', 'cagetrouble', 'bustling', 'forint', 'aug', 'cooperation', 'biped', 'mn', 'chandelier', 'southbound', 'august', 'intellectual', 'sativa', 'poaching', 'let', 'pirouette', 'ournew', 'sucha', 'vocalizing', 'calledvagina', 'androgen', 'disguise', 'kw', '968', 'settee', 'boatyard', 'receipt', 'thousand', 'a-boo', 'yourspirit', '40cm', 'velocity', 'hajj', 'triumph', '&a', 'finishes', 'changeover', 'aprize', 'putt', 'mould', 'row', 'eve', 'disruption', 'bellum', 'aspersa', 'shelf', 'water', 'textured', 'healthcare', 'silicon', 'heat', 'operator', 'initiative', 'breitling', '53rd', 'a-7b', 'dino', 'drawcard', 'scar', 'picket', 'peninsula', 'airline', 'blitz', \"it'snew\", 'theory', 'phantasy', 'c1921', 'montage', 'kismet', 'democracy', 'potluck', 'oman', 'beed', 'leopard', 'future', 'representative', 'acrylic', 'glutinous', 'klondike', 'temple', 'live', 'capri', 'mvp', 'troll', 'rumi', 'winger', 'dimension', 'innova', '530e', 'concise', 'homesteader', 'whitewater', 'examination', 'syrup', 'scrofa', 'ferrari', 'fox', 'rust', 'a-water', 'symbolizing', 'briefing', 's9', 'boiler', 'collared', 'rebuild', 'burrito', 'attackand', 'student', 'taro', 'I', 'road', 'vista', 'play60s', 'leveling', 'altercation', 'morning.', 'eucharist', 'freckle', 'flux', 'seabed', 'festival', 'borrowing', 'calibre', 'work', 'organisation', 'az', 'hawthorn', 'distilling', 'victorious', 'will.', 'coalmine', 'martin', 'fender', 'busy', '1640s', 'barbershop', 'tekapo', 'lng', 'tame', 'webcam', 'campaigning', 'mantle', 'hurdlecm', 'hasvegan', 'squeal', 'phylogeny', 'prosperity', 'flagship', 'nappa', 'tony', 'rand', 'earthquake', 'landscape', 'unplugging', 'watt', 'jake', 'forromance', 'brandy', 'wapiti', 'action', '1800s', 'feminine', 'dredging', 'precipice', 'wrestingsuper', 'fascination', 'repo', 'tongue.', 'armin', 'zip', 'asgarment', 'bloke', 'goer', 'bioreactor', 'manner', 'circus', 'mevagissey', 'yogic', 'pinch', 'radiance', 'ling', 'glisten', 'labeled227', 'area', 'artifact', 'unifying', 'throttle', 'noire', 'hummus', 'abstract', '7x7x7', 'corruption', 'woo', '&traffic', 'rig', 'humvee', 'trinity', 'nurse', 'amigo', 'tricolore', 'dousing', 'deckedbackstreet', 'typewriter', 'pino', 'thec1895', 'sizedroof', 'amble', 'abandon', 'sideboard', 'ticking', 'Blanche', 'doubt', 'bandage', 'panzer', 'mg', 'val', 'apoolside', 'debit', 'chapped', '1000r', '30mm', 'emotion', 'revenue', 'aeio', 'rm125', '4c', 'prelate', 'transcript', 'armistice', 'levitate', 'swell', 'shoes.', 'mul', 'hurdle', 'flickr', 'hand', 'cubsary', 'file.', 'phantom', 'botha', 'dire', 'heyday', 'rivalry', 'slop', '16oz', 'ame', 'griffin', 'barbell', 'uncertainty', 'equid', 'torchlight', 'sundown', 'farmer', 'harmonium', 'findingpurpose', 'pillar', 'admin', 'feltstyle', 'wristwatch', 'reach', '50ft', 'namedtown', 'teachesikebana', 'parking', 'chestnut', 'nightjar', \"1920'smelon\", 'ozone', 'roadside', 'confusion', 'hood', 'toiletry', 'ea', 'pak', 'c.', 'knit', 'templar', 'consumption', 'x15', 'blackberry', 'hurry', 'diem', 'knob', 'cheout', 'harbour.', 'divorce', 'withfossil', 'aninking', 'firefighter', 'firebird', 'labour', 'dubstep', 'ikat', 'bouffant', 'kei', 'boardaircraft', 'osprey', 'hydrant', 'warren', 'playing', 'astrophotography', 'mailing', 'astreet', 'canning', 'pure', 'rant', 'oxbow', 'stupa', 'ballon', 'bad', 'shepherdess', 'run', 'xa', 'point', 'spirit', 'dealership', 'skating', 'antique', 'saysnext', 'tread', 'ij', 'illuminateit', 'brocade', 'suar', 'sonar', 'edible', 'jellyfish', 'job', 'gauss', 'moreoutdoor', 'rendezvous', 'chairing', 'soylent', 'suture', 'décor', 'bbs', 'ball', 'subtracting', 'rmb', 'thearea', 'language', 'variable', 'fromgarment', 'calledwax', 'alumnus', 'bn', 'pendulum', 'hair.', 'guard', 'feline', 'poli', 'preliminary', 'abra', 'skirt+', 'bok', 'soap', 'replenishing', 'central', 'truman', 'kiki', 'phosphorus', 'shego', 'dan', 'horseback', 'seeker', 'embossed', 'stargazing', 'bdi', 'hose', 'tailoring', 'touchscreen', 'bouncy', 'rezoning', 'kaleidoscope', 'jalapeño', 't.c.', 'achit', 'alias', 'aboutsaucer', 'dread', 'person73', 'ask', '500th', 'polaroid', 'dioxide', 'lapis', 'longline', 'a-20a', 'prairie', 'asterror', 'expedition', 'maid', 'fest', 'helga', 'riversodor', 'escapologist', 'coiling', '100ft', 'luggage', 'p17', 'followup', 'bluff', 'marriott', 'ala', 'drink', 'r136', 'kt', 'waxwing', 'court', 'blackboard', 'snowshoe', 'dangle', 'visualisation', 'slot', 'fraction', 'calledpandal', 'avenger', 'cackling', 'proclaim', 'recycle', 'flowerpot', 'ofthriller', 'tof', 'thinness', 'expository', 'a-aircraft', 'arrangedsalon', 'convoy', 'statute', 'garba', 'messing', 'conduct', 'wrangle', 'third', 'mosquito', 'epitaph', 'inka', 'gnome', 'whitetail', 'peasant', 'launch', 'nonprofit', 'postsno', 'weekly', 'rosemary', 'daylight', 'barramundi', '24h', 'tub', 'achiever', 'conference', 'mostpop', 'grouting', 'essay', 'wrestle', 'beforeconference', 'donut', 'safetyin', 'imperative', '6s', 'wavydo', 'keying', 'flotilla', 'picnicking', 'antidepressant', 'ranking', 'writtenhelp', 'relish', 'paycheck', 'utopias', 'kcal', 'sturgeon', 'carpenter', 'a-man', 'bode', 'hobgoblin', 'cr', 'servingmass', 'deliveryman', 'daylong', 'monochrome', 'theking', 'gurdwara', 'original', 'implant', 'animpression', 'berga', 'fishmonger', '90cm', 'nim', 'headeddhol', 'eglise', 'wayfaring', 'paco', 'application', '15min', 'a-hand', 'a-pointer', 'defender', 'maire', 'prizethumb', 'foam', 'radio', 'password', 'lamé', 'aswatch', 'lip', 'wile', 'hostel', 'shocker', 'climber', 'thegenerator', 'knoll', 'violist', 'dale', 'curator', 'locating', 'thealphabet', '70ft', 'fil', 'spearing', 'commentary', '1530s', 'peddler', 'makeup.', 'hoodie', 'orange', 'fungi', 'viewfrom', 'redstyle', 'tern', 'wildebeest', 'substance', 'grad', 'flannel', 'totheatre', 'disarray', 'togetherness', 'commun', '2t', 'compete', 'tubing', 'million', 'halt', 'squeeze', 'ofkm', 'allegory', 'albumlittle', '30cm', 'atom', '49th', '10cm', 'clicker', '16x20', '8x16', '320i', 'chun', 'moccasin', 'garage', 'blog', 'bambooover', 'weddinglove', 'dartboard', 'grower', 'ahuge', 'juggling', 'a-hr', 'expressway', 'entertaining', 'socal', 'mapping', 'bedrock', 'acab', 'in80', 'restaurant', 'braille', 'soundproof', 'w12', 'v-t', 'traincar', 'caffe', '2200', 'yearling', 'hin', 'banquet', 'equinox', 'flore', 'nice', 'newgender', 'doctor', 'blu', 'athumb', 'nudibranch', 'albumen', 'prom', \"a-critter'\", 'goldenrod', 'revivalist', 'ballot', '1', 'torque', 'swansong', 'blouse', 'showgirl', 'a-inlet', 'current', 'paraglider', 'ninety', 'clearmm', 'urging', 'flea', 'drivingdream', 'flushing', 'hub', 'chalking', 'boho', 'laboratory', 'ham', 'letterman', 'underfoot', 'co', '240v', 'readymade', 'streamside', 'hitchhiking', 'andinvention', 'weightlifter', 'alltil', 'trail', 'topaz', 'humpback', 'lens.', 'cold', 'penning', 'garde', \"70'sstyle\", 'opening', 'welder', 'deer.', '1100', 'arrival', 'birdie', 'dune', 'quip', 'testing', 'paleontologist', 'pickpocket', 'escortperson', 'harvesting', 'Sailfish', 'chair', 'crank', 'dharma', 'abittersweet', '5x', 'comprehension', 'foggy', 'advert', 'saysfootball', 'prekindergarten', 'gd', 'splendour', 'neutering', 'prototype', 'cowboy', 'sprig', 'stunt', 'protopunk', 'aprox', 'e92', 'mammy', 'mygirl', 'gasoline', 'adjust', 'midst', 'trainee', 'bro', 'glider', 'freemason', 'contra', 'gs', 'vn', 'totem', 'g-a-y', 'uplift', 'po', 'cranberry', 'masonite', 'revolve', 'pedaling', 'ness', 'think', 'saysthat', 'volunteer', 'revenge', 'alerting', 'yoga', 'stanza', 'sandalwood', 'canteen', 'mouth', '0n', 'privy', 'principal', 'wading', '50d', 'aquatint', 'declare', 'truehome', 'undercut', 'activity', 'restrictor', 'servant', 'horseless', 'confectionary', 'fairground', 'chewy', 'snooker', 'earring', 'female', '139th', 'l6', 'popstar', 'inlet', 'seventy', 'mountaineerthe', '22d', 'turkey', 'arctic', 'black', '81st', 'pavillion', 'roster', 'fishtail', 'scene', 'sinew', 'ano', 'stylelanguage', 'lacrosse', 'converse', 'newplace', 'spanner', 'amphibious', 'iron', 'wolf', 'danger', 'dome', 's2', 'restrict', 'rock.', 'vowel', 'past', 'acrobatics', 'hometown', 'a-cid', 'lyme', 'sk', 'fund', 'find', 'dvd', 'kookaburra', 'exercise', 'nostalgia', 'print.', 'anit', 'division', 'blanc', 'stain', '90th', 'd0707', 'therhubarb', 'treed', 'radiation', 'ofmodel', 'isreal', 'insulator', 'bookend', 'waterfront', 'arsenic', 'attractionexpect', 'nimitz', 'icebox', 'awn', 'daily', 'footing', 'omelette', 'spalling', 'jess', 'argan', 'investiture', 'terminate', 'slr', 'vault', 'rainstorm', 'stepp', 'readiness', 'niqab', 'slay', 'mostnoir', 'morality', 'clover', 'railroader', 'wiring', 'prodigal', 'cinched', 'sayfuck', 'albinism', 'sniper', 'greensleeve', 'maculata', '626km', 'neutron', 'jumper', 'replica', 'a-quarter', 'hangul', 'curl', 'intaglio', 'sky.', 'linseed', 'transmit', 'quiet', 'framing', 'coil', 'medabot', 'elephant', 'fossil', 'astronautbring', '96th', 'fi', 'choy', 'hydrostatic', 'shawl', 'conquer', 'way', 'distinguishing', 'masterwork', 'whisky', 'ashorse', 'budgeting', 'strategic', 'outwash', 'showinglegal', 'trompe', 'grasping', 'plunge', 'stability', 'wedge', 'abouta', 'mercede', 'victor', 'metropolis', 'youteam', 'calledparadise', 'complement', 'solar', 'churning', 'sphere', 'u-lar', 'toldtv', 'lizard', 'a-player', 'respiration', 'despair', 'gluteal', 'damper', 'warrior', 'reservation', 'win', 'musketeer', 'set.', 'x17', 'yourit', 'a3', 'birdy', 'chowringhee', 'sonoma', 'sensing', 'onfrench', 'l.k.', 'a-mist', 'cooperative', 'bull', 'disorder', 'squeezing', 'putty', 'stickler', 'karate', 'cartoonist', 'goldfield', 'butter', 'module', 'rata', 'sharpening', 'sinkhole', '18cm', 'enjoyingperson', 'reminiscing', 'liv', 'protruding', 'neon', 'intercity', 'artillery', 'apply', 'barbecuing', 'przewalski', 'brig', 'cab', 'saint', 'cd', 'fogby', 'bungee', 'heir', 'carob', 'exponent', 'austerity', 'actorstheatre', 'wreckage', 'typography', 'cnc', 'blowhole', 'clausura', 'duringbasketball', 'pied', 'vii', 'sled', 'fishin', 'wedding.', 'dribbling', 'a-date', 'agate', 'bullring', 'calledscissor', 'terrace.', 'blowout', '123j', 'battalion', 'bumper', 'tilling', 'machinery', 'bestfriend', 'autopilot', 'nutrition', 'hop', 'dance', 'ohm', 'dismantle', 'kagera', 'fugitive', 'drottningholm', 'wa', 'scone', 'woodworker', 'midi', 'outboard', 'mei', 'getty', 'forecaster', 'basalt', 'Arroyo', 'papier', 'martial', 'bef', 'ivy', 'bagel', 'rappelling', 'clean', 'uc', 'moomintroll', 'thermoelectric', 'mat', 'thatcozy', 'can', 'nightfall', 'hanger', 'ppm', 'letteringfree', 'telluric', 'tamaraw', 'twilight', 'humor.', 'skylight', 'assassination', 'buttercream', 'pomegranate', 'notebook', 'chomping', 'malaria', 'guava', 'crest', 'lowland', '3', 'week.', 'silvertip', 'grossing', 'neckline', 'carnival', 'timeline', 'plumber', 'paragraph', 'c1863', 'raffle', '2x2', 'colly', 'quadripartite', 'save', 'crude', 'peristyle', 'fathom', 'woody', 'sitemap', 'persian', 'blinker', 'ofil', 'looksreal', \"1937'sfilm\", 'indry', 'superhero', '5678', 'removal', '42nd', 'Murray', 'costa', 'stile', 'dpi', 'tupperware', 'minting', 'ofman', 'a-cat', 'flora', 'waterfowl', 'jai', 'recorder', 'gauze', 'standoff', 'prevention', 'flamenco', 'larkspur', 'luminescent', 'markedkilled', 'coastal', 'polonaise', '2nd', 'furnish', 'firecone', 'anera', 'clog', 'specs', 'installation', 'skeleton', 'asrash', 'restock', 'theschool', 'kilowatt', 'rescuer', 'wait', 'classroom', 'polling', 'public', 'cottage', 'undergraduate', '12st', 'Skjold', 'performperson', '12g', 'taiga', 'smoke', 'reticulatus', 'rg', 'alpha', 'breed.', 'limousine', 'shenzhen', 'ac', 'imbibing', 'x360', 'trekker', 'tackle', 'a-ling', 'fbf', 'birthday.', 'moral', 'pieta', 'northbicycle', 'scurry', 'cruelty', 'curly', 'saturday', 'romantic', 'party.', '36oz', 'com', 'theaccess', 'teatime', 'overseas', 'caustic', 'reinforce', 'policeperson', 'passe', 'million+', 'pipping', 'laminate', 'boat', 'shape', 'reporta', 'intertidal', 'must', 'tint', 'priest', 'brewer', 'bricolage', 'thetuna', 'piste', 'guanche', 'pesto', 'mitre', 'sonnet', 'stork', 'recall', 'psychic', 'flatten', 'kid', 'alight', 'armadillo', 'tock', 'overlay', 'yo.', 'denture', 'interlocking', 'contamination', 'n', 'coordinator', 'likeextra', 'book.', 'withbranch', 'burlesque', 'macaque', 'talk', 'embed', 'stroll', 'overwintering', 'predicament', 'awheelchair', 'plover', 'truss', 'rerelease', 'watusi', 'doggy', 'Seco', 'article', 'wardrobe.', 'distance', 'woreregion', 'feast', 'steel', 'porting', 'pista', 'pursuit', 'sickle', 'f', 'boozy', 'branding', 'drool', 'strikingmembership', 'hobby', 'wang', 'thecontour', 'checker', 'spice', 'mais', 'the1890', 'whirlpool', 'worker', 'sayssummer', 'cotter', 'serviceman', 'funky70', 'gucci', 'mezzanine', 'marble', 'fireplace', 'whiskey', 'lenda', 'crj', 'sword', '6x9', 'greengrocer', 'hummingbird', 'beading', 'hoof', 'bomber', 'hsi', 'rumour', 'acomfort', 'cardboard', 'thumb', 'highland', 'pararescue', \"year'stheme\", 'bubbly', 'theclean', 'styrene', 'suet', 'baseball', '51st', 'belong', 'understanding', 'offline', 'boyband', 'bringingdream', 'thetime', 'tonal', 'flow.', 'claymore', 'idyllic', 'a-300er', 'inspiration', 'headlong', 'power', 'rubber', 'foothill', 'antelope', 'cucumber', 'businesswomen', 'dictionary', 'makesanything', 'takenbuy', 'stout', 'ridding', 'l4', 'price', 'deal', 'income', 'namedbody', '1340s', 'portofino', 'theodd', 'acouple', 'gmo', 'bankside', 'artery', 'elegantstyle', 'relief', 'hands.', 'spelt', 'cutlass', 'jurassic', 'predator', 'lemonade', 'e6', 'assist', 'car', 'nebula', 'soar', 'kibbutz', 'multivitamin', 'trifoliate', 'drakkar', 'punter', 'entry', 'attorney', 'simmering', 'channel', 'objecting', 'broch', 'sausages', 'rampage', 'wooden', 'lipstick.', '14s', 'educationist', 'auger', 'ahotel', 'outback', 'molasses', 'hergummy', 'meanswater', 'pruning', 'ahistory', 'malfunction', 'craft', 'culottes.', 'soundman', 'front.', 'that', 'cg', 'sunbathing', 'isin', 'moulding', 'doorknob', 'selection', 'two', '39t', 'primo', 'ethosis', 'circular', 'gasping', 'maroon', 'fish', 'laziness', 'crisp', 'passescricket', 'uptown', 'confrontation', 'fudge', 'ladle', 'dvt', 'anarea', 'baker', 'clay', 'cb', 'tobacco', 'typeface', 'hangingin', 'bou', '2307', 'over-heel', 'shrugging', 'crewmember', 'portland', 'jail', 'napkin', 'caratcut', 'ricotta', 'photoshoot', 'covalent', 'limestone', 'train', 'independence', 'topple', 'fantasia', 'clinic', 'event.', 'feb.', 'retention', 'bing', 'customize', 'cholo', 'bit', 'teeter', 'racer', 'tangy', 'vole', 'showman', 'citizen', 'yung', 'a-room', 'Korean', 'bacterial', 'tinny', 'par', 'jpg', 'painting.', 'party', 'billionaire', 'duchess', 'wales', 'wombat', 'abreather', 'oven', 'beekeeper', 'hammerhead', 'visita', 'trainedto', 'barnacle', 'valedictory', 'acorn', 'rotation', 'cobra', 'du', 'slack', 'ostrich', 'ani', 'sandbag', 'root', 'diner', 'choke', 'unload', 'gullwing', 'college', 'eastside', 'pantomime', 'toolbar', 'yeast', 'inflatable', 'blossoming', '18oz', '70th', 'basis', 'stripedhello', 'runner', 'kingfisher', 'ketch', 'aself', 'dogleg', 'aaj', 'hugebubble', 'rip', 'andathlete', 'hallow', 'derby', 'a-bedroom', 'cohort', 'beehive', 'aloha', 'narwhal', 'german', 'h-s', 'fling', 'eucalyptus', 'package', 'party&', 'a-beach', 'expert', 'glencoe', 'airbride', 'stretcher', 'harlequin', 'zipper', 'requirement', 'Cabana', 'stunner', 'presentperson', 'c2c', 'fromgo', 'screw', 'texttop', 'briefcase', 'blend', 'overripe', 'permit', 'showsactor', 'handmaiden', 'decline', 'mucus', '520ha', 'headmaster', 'furrow', 'crockery', 'flavour', 'great', 'probe', 'npower', 'colgate', 'wrought', 'honor', 'huf', 'skater', 'commanding', 'bother', 'sixty', 'frontwoman', 'dhol', 'brochure', 'PAhr', 'kerb', 'interschool', 'plat', 'wold', 'universe', 'messenger', 'mast', 'biplane', 'accentuate', 'morehand', 'peseta', 'boro', 'evangeline', 'lapine', 'whispering', 'blt', 'howitzer', 'regina', 'personhoss', 'dryland', 'handcraft', 'promotional', 'snowplow', 'songstress', 'elve', 'reprieve', 'smelly', 'countryside', 'treadmill', 'confectionery', 'nobody', 'p341', 'hetty', 'butterfly', 'frontside', '24x7', 'leaflet', '110cc', 'wingman', 'pace', 'putout', 'potion', 'elimination', 'backpack', 'hitch', 'symbolism', 'overpower', 'Eellflower', 'serendipity', 'clearsm', 'gamble', 'flue', 'fusing', 'antibacterial', 'torture', 'surrealism', 'evolve', 'sol', '38th', 'patterned', 'j.d.', 'buzzing', 'a-cop', 'torrent', 'lb', 'stub', 'forbid', 'phrasebeverage', 'flop', 'nomad', '17s', 'sadness', 'beerc', 'flour', 'thrift', 'reclaim', 'sage', 'papaya', 'hue', 'bracelet', 'eggnog', 'malevolence', 'reload', 'lila', 'ict', 'cuboid', 'breakdown', 'ananny', 'sphagnum', 'c4982', 'cheer', 'pianist', 'lord', 'wasteland', 'humanoid', 'andbusiness', 'roosevelt', 't53', 'getmost', 'hulk', '54th', 'hour', 'shovel', 'their70', 'shipyard', 'varia', 'snoring', 'tc', 'wow', 'patient', 'doll', 'sqrt', 'overlook', 'backgerman', 'commission', '10mm', 'rusting', 'tributary', 'chiaroscuro', 'ida', 'precipitate', 'impulse', 'attic', 'int', 'over-desk', 'swallowtail', 'umami', 'museum', 'male', 'kamchatka', 'backstage', 'person112', 'driftwood', 'marco', '40lb', 'loafer', 'caddie', 'composer', 'inthriller', 'stitching', 'monkey', '747', 'thefield', 'glasses', 'suspender', '130', 'recruit', 'nine', 'eastbound', 'html', 'Steinway', 'panelling', 'nursing', 'malamute', 'ey', 'tactical', 'kohl', 'engineeredcrack', 'plan', 'the1930s', 'la', 'tall', 'aeon', 'sportsperson', 'facilitate', '3b', 'a-year', 'bono', 'check', 'sy', '767', 'consulting', 'linebacker', 'funnel', 'weaver', 'occupation', 'gender', 'bob', 'deu', 'laidback', 'midwife', 'what', 'glyph', 'compress', 'bright', 'barque', 'bully', 'scarlet', 'andbrand', 'attractionit', 'savoury', 'sheathing', 'micro', 'chopping', 'a-bay', 'loom', 'crush', 'sauce', 'outhouse', 'lifetime', 'skyscraper', 'lb.', 'mar', 'mk1', 'calculate', 'betrayal', 'renovate', 'readsperson', 'chaise', 'a7', 'yes', 'memory', 'addict', 'latch', 'wright', 'fin', 'wriggling', 'favour', 'vehicle', 'scratch', 'stink', 'manuscript', 'roquefort', 'ferox', 'wehelp', 'crossbreeding', 'aroundperson', 'studio', 'saysinvention', 'ofnewspaper', 'fell', 'trig', 'ofquota', 'url', 'whim', 'microcephaly', 'boy', '51', 'sayingi', 'oxide', 'waver', 'hexagonal', 'habit', 'eurodance', 'jenny', 'swansea', 'merchandising', 'tri', 'dismantling', 'chemist', 'twisting', 'eid', 'parviflora', 'trivia', 'identity', 'supportingpolitician', 'spoon', 'caesar', 'saxophone', 'roxy', 'interest', 'glittering', 'rose', 'vehicular', 'originalx8', 'mpg', 'thatcut', 'ramping', 'punch', 'theodolite', 'scimitar', 'misha', 'lighting', 'fori.', 'Shontelle', 'arches.', 'parsley.', 'reenactment', 'mink', 'scallop', 'intolight', 'grist', 'stone', 'overtake', 'seco', 'sock', 'athletic', 'old', 'forecast', 'ourit', 'againstfootball', 'alley', 'floating', 'crayola', 'cyanobacteria', 'assess', 's8', 'fashionistas', 'pinewood', 'dinner', 'va', 'furnace', '39', 'yen', 'personbull', 'centsghost', 'enjoysholiday', 'interview', 'viola', 'deer', 'bullfight', 'kaftan', 'axis', 'prancing', 'minimalism', 'Bengal', 'milan', 'Imam', 'milling', 'blur', 'respond', 'soybean', 'visit', 'cumulus', 'chad', 'byfootball', 'something', 'def', 'cockerel', 'orphanage', '450h', 'column', '1&maple', 'tim', 'consideration', 'midlife', 'millimeter', \"dog'sfetch\", 'race', 'thyme', 'pronghorn', 'staining', 'mystic', 'enthusiast', 'rocketship', 'motion', 'peep', 'crashing', 'haggling', 'leisure', 'blowing', 'a-off', 'capsules.', 'activator', 'networksmore', 'slimming', 'buckling', 'nigra', 'Minutemen', '64gb', 'tron', 'tightrope', 'no.', 'dumping', 'jr', 'bless', '14k', 'wagtail', 'archimede', 'clan', 'dubia', 'lancer', 'value', 'fusee', 'iia', 'bagan', 'bonheur', 'needlework', 'inscriptionbig', 'circle', 'gram', 'kal', 'sto', 'disembarking', 'mew', '265ci', 'canyon', 'headquarters', 'sz', 'alandmark', 'retrograde', 'hypodermic', 'fiancé', 'megood', '30x40mm', 'infield', 'friendlydetour', 'asgerman', 'shisha', 'cog', 'therapist', 'orthogonal', 'forwarding', 'a-performance', 'literature', 'conveying', 'heroic', 'snowdrop', 'turboprop', 'cantilevered', 'toque', 'watchdog', 'domestic', 'forefinger', 'pavement', 'saysthese', 'June', 'midday', 'isautomobile', 'elegance', 'pyrotechnic', 'a', 'cirque', 'playersmake', 'motorboat', 'ornament', 'hissing', 'secrecy', 'tohang', 'artby', 'rabbit', 'songbird', 'freeing', 'hi', 'snacking', 'workbench', 'delegation', 'menstruation', 'pf', 'corrosion', 'snowtoo', \"boat'sdiver\", 'devotion', 'peace', 'isthe', 'perfume', 'society', 'robbery', 'backrest', 'runnersbeat', 'diploma', 'ista', 'obese', 'nigh', 'c1959', 'theo', 'act', '18f', 'confounding', 'trapping', 'basil', 'redemption', 'humor', 'outfielder', 'rev', 'hobble', 'apparel', 'gerbil', '500ft', 'boxes.', 'lo', 'gobald', '1580s', 'hove', 'attract', 'awhisper', 'coalition', 'intv', 'exclusive', 'wolverine', 'pizzerion', 'meditate', 'polygon', 'dweller', 'veggy', 'ideal', 'menorah', 'mk4', 'sunflower', 'firstborn', 'outbound', 'evilmoney', '720', 'scent', 'brussel', 'audit', 'dimensional', 'a319', 'maverick', 'airborne', 'mortar', 'cerulean', 'outrigger', 'ie', 'flatwater', 'assault', 'introduction', 'sayshoroscop', 'gtd', 'x19', 'detachableaction', 'steelhead', \"hallowe'en\", 'adrian', 'a-metre', 'stove', 'string', 'tabletop', 'anointing', 'khaki', 'sausage', 'bitter', 'shōjo', 'shorebird', 'steak', '&person', 'repetition', 'spacesuit', 'care', 'octave', 'Canada', 'tosized', 'ruling', 'fork', 'snowball', 'tremble', 'polish', 'lido', 'endeavour', 'cio', 'hoverfly', 'ascension', 'combing', 'larva', 'yea', 'squall', 'cone', 'astronomer', 'bobolink', 'category', 'shui', 'nui', 'raptor', 'flagon', 'condiment', 'aphid', 'falling', 'windowsill', 'pg', 'recapture', 'mashing', 'pampa', 'piazza', 'lease', 'rhinestone', 'nutella', 'quilter', 'caramel', '8th', 'a-game', 'actuary', 'accept', 'jude', 'carb', 'preaching', 'watercolor', 'centimeter', 'revealing', 'substitution', 'summing', 'equality', 'riverfront', 'surfboard', 'tablecloth', 'sweetie', 'standinglike', 'geisha', 'of90', 'contractor', 'thin', 'fluffy', 'a-input', 'irrigation', 'artwork', 'xena', 'bottlenose', 'kiwifruit', 'taihe', 'socialising', 'mountain', 'turf', 'shaven', 'ugc', 'allosaurus', 'thale', 'alga', 'plait', 'festive', 'conga', 'thisshe', 'sake', 'impala', 'bifurcation', 'momiji', 'grouping', 'postersmall', 'morris', 'Aswan', 'thissomething', '78th', 'sonogram', 'variation', 'woodworking', 'gusher', 'gravestone', 'bunting', 'widow', 'maritime', 'tack', 'handwoven', 'protester', 'convenience', 'plane', 'transversal', 'arsenale', 'retractable', 'quarterly', 'challenging', 'sham', 'tulle', 'abolition', 'calledgod', 'senator', 'ib', 'fencing', '44cm', 'billiards', 'hacker', 'lariat', 'plaid', 'sayfame', 'lake.', 'arabic', 'uniform', 'Fablehaven', 'closeda', 'theunique', 'okapi', 'bystyle', 'Cardinal', 'fiat', 'heeling', 'composition', 'beard', 'proximity', 'setting', 'awards11', 'lager', 'communist', 'calledthieve', 'girl', 'chamomile', 'qualifing', 'angelica', 'medallion', 'textgood', 'attention', 'afloat', 'cotswold', 'hexadecimal', 'wife', \"city'ssunset\", 'cana', 'mattress', 'marquise', 'cherry', 'cherish', '65', 'magnolia', 'tennis', '10oz', 'jung', 'pave', 'budgerigar', 'knitpussy', 'additional', 'son', 'j.k.', 'foster', 'atfestival', 'backgroundunder', 'dance+', 'athletehas', 'dkny', 'staman', 'tale', 'standon', 'kibble', 'him', 'over-foot', 'forever', 'celebrant', 'flyweight', 'prosecuting', 'plum', 'visor', 'onlyceleb', 'means', 'spectacle', 'prima', 'hijab', 'vicar', 'bo', 'centuryborn', 'boba', 'composted', 'windstar', 'demi', 'capsicum', 'bebop', 'woodgrain', 'isoscele', 'whogarment', 'gatehouse', 'petite', 'hitter', 'herder', 'rearview', 'coupling', 'aerosol', 'schizophrenic', 'kinesiology', 'limey', 'packing', 'ofgravy', 'coverage', 'toll', 'Cattleya', 'aboutautomobile', 'ofholiday', 'bedflat', 'incubator', 'mustache.', 'guild', 'swivelling', 'suite', 'educate', 'yourselfco', 'scooter', 'multisport', 'fella', 'atenglish', 'tableshadow', 'char', 'drama', 'reference', 'hewitt', 'halo', 'carpeting', 'specialize', 'thinning', 'teammate', 'boundary', 'stoneware', 'ginger', 'greening', 'lilo', 'mileage', 'defendcountry', 'camping', 'boo', 'drapery', 'codfish', 'zurperson', 'a1', 'arashiyama', '1300s', 'platform', 'horsepower', 'roving', 'kitsch', 'kingdom', 'frolic', 'darkness', 'jer', 'slogan', 'cairn', 'offilm', 'kayak', 'forbeach', 'atrium', 'segway', 'hiker', 'porter', 'cape', 'collect', 'cancer', 'edit', 'maundy', 'skew', 'libertine', 'sermon', 'phraselunch', 'chainsaw', 'fromthriller', 'abc', 'abaya', 'hoopoe', 'freshening', 'goodie', 'onera', 'asaward', 'precision', 'laughter', 'entertainer', 'mentality', 'caregiver', 'cockatoo', 'xx', 'gilt', '44th', 'foray', 'b', 'anupside', 'concerto', 'cleanup', 'www', 'the1980', 'cinch', 'collier', 'break', 'rash', 'cobweb', 'vacuuming', 'bubbling', 'federation', 'finer', 'cave', 'granola', 'womanland', 'reputation', '14er', 'babysitting', 'soapstone', 'andactor', 'drunkard', 'aharmony', 'kalashnikov', 'resort', 'tracing', 'mish', 'splashing', 'tard', 'complex', 'mountable', 'shootout', 'bynoble', 'relative', 'ashit', 'cheddar', 'sprinkling', 'alcantara', 'melt', 'offeringinvention', 'chalkboard', 'vet', 'fabrication', 'gab', 'infant', 'analyst', 'towalk', 'polenta', 'vampire', 'rivet', 'aegypty', 'armoire', 'presentingperson', 'concrète', 'brim', 'recruiting', 'pg.', 'php', 'ghz', 'thismodern', 'dishwasher', 'tonight', 'fixture', 'rent', 'moored', '200mph', 'freighter', 'freestyle', 'performer', 'thou', 'copycat', 'put', '2lt', 'it', 'herbubblegum', 'oktober', 'kuna', 'facade', 'crow', 'giggle.', 'holster', 'jassy', 'chaser', 'seating', 'combo', 'calleddeluxe', 'commit', 'mle', 'geometry', 'alongsidegangsta', 'imagine', 'crag', 'perseverance', 'bazaar', 'cracking', 'homeward', 'ev', 'service', 'the11x14', 'calledcottage', 'conning', 'employ', 'cochineal', 'camargue', 'go', '23rd', 'prepay', 'au', 'ketogenic', 'yogi', 'pun', 'acrossthe', 'tattoosmaybe', 'Fenland', 'rhea', 'toothy', 'pageant', 'left', 'barcode', 'padding', 'maddie', 'suborder', 'curler', 'peranakan', 'tofilm', 'heater', 'yesterday', 'utero', 'si', 'ambush', 'merle', 'bilometer', 'method', 'clavichord', '63rd', 'gold', 'inmate', 'asheavy', 'venus', 'a-megapixel', 'cetacean', 'pika', 'monthly', 'tilting', 'leg.', 'screamssummer', 'rib', 'apse', 'sparrow', 'Nuatre', 'sayingfilming', 'clubhouse', 'vagabond', 'dot', 'clumsiness', 'palindrome', 'layover', 'hipster', 'cactus', 'coriander', 'splat', 'aslide', 'toothpaste', 'smoothie', 'clergy', 'glimpse', 'ceilingwall', 'balm', 'nbd', 'regime', 'a-hula', 'caviar', 'upholstery', 'harrow', 'forsythia', 'king', 'nucleus', 'foodthese', 'heron', 'goldfish', '12oz', 'fashion', 'gupta', 'passionfruit', 'pinkbe', 'stainedglass', 'reebok', 'socialite', '3rd', 'aboutcut', 'drivesautomobile', 'contribution', '507th', '15', 'lovin', 'prestige', '9a', '18x', 'champ', 'ofyoung', 'a-kilometre', 'woodland', 'cuddle', 'metacarpal', 'pondx10', 'scooby', 'tidewater', 'ascook', 'failsafe', 'frappe', 'night', 'från', 'fiance', 'revolver', 'cat', 'poet', 'prosecutor', 'ofbook', 'depictingpolitician', 'arboretum', 'over-t', 'flywheel', 'snapper', 'classicism', 'tessie', 'thermopylae', 'lead', 'Percynian', 'hdf', 'agogarment', 'laysan', 'toychicken', 'choir', 'merryweather', 'route', 'up', 'romp', 'a-foot', 'octopus', 'specie', 'springbok', 'ringleader', 'eye', 'mech', 'mosaic', 'mainline', 'exam', 'usher', 'caper', 'flounder', 'parenthood', '57th', 'understand', 'athleteis', 'Nuffield', 'product', 'trowel', 'blushing', 'victory', 'sentinel', 'spending', 'hydroponic', 'magnifier', 'cauliflower', 'cacti', 'jive', 'stomp', 'be-graduate', 'countertop', 'with60', 'aswe', 'ways.', 'ratification', 'sinbad', 'spine.', 'cornerstone', 'a-unit', 'mylo', 'dough', 'conclusion', 'supervision', 'jug', 'ref.', 'chirp', 'r129', 'throughpainting', 'runic', 'cinnamon', 'ming', 'robotspack', 'soundwave', 'ovation', 'eis', 'snowy', 'breakup', 'gateway', 'apple', 'schooling', 'stroking', 'on50', 'inplay', 'tutorial', 'monster', 'thenew', 'cornering', 'argyle', 'flashback', 'radioactivity', 'andmade', 'palm', 'nuance', 'missionary', 'wifi', 'bud', 'straighten', 'offuture', '20th', 'tahoe', 'naga', 'info', 'hornbill', 'agency', 'shredding', 'immigration', 'changer', 'britpop', 'blower', 'nai', 'marrow', 'gaping', 'soda', 'entitledautomobile', 'adopter', 'megalodon', 'sweatshirt', 'hopscotch', 'm400', \"state'sbig\", 'andsuper', 'spoon.', 'c1960', 'dreadlock', 'husky', 'antler', 'ss07', 'hamster', 'carrara', 'oration', 'feature', 'kamikaze', 'fitter', 'illustrationhello', 'westwood', 'reveler', 'oiko', 'wheelhouse', 'to90', 'pregnancy', 'downside', 'arti', 'ofthank', 'thistree', 'hound', 'most90', 'doomsday', 'paddy', 'publishing', 'from80', 'manhole', 'westworld', 'quotetill', 'refillable', 'expectation', 'lengthen', 'reflector', 'beautygarden', 'ili', 'mascot', 'i10i', 'gaa', 'awindow', 'warehouse', 'anzac', 'migraine', 'seedlings.', 'vendor', 'fisherman', 'standstill', 'spoil', 'thimble', 'slat', 'lasagna', 'jeremih', 'taxpayer', 'medic', 'a-leave', 'consequence', 'ltd', 'mu', 'extremity', 'preshow', 'taekwondo', 'nautical', 'presbyterian', 'as06', 'visualization', 'duplex', 'serif', 'makeup', 'c21', 'sew', 'pair', 'keepsake', 'friend', 'batten', 'digging', 'lan', 'walk', 'methodist', 'firefly', 'of50', 'fab', 'pyjamas', 'campsite', 'flatiron', \"week'sfood\", 'redesign', 'would', 'dentist', 'razor', 'spark', 'baking', 'bypass', 'keeping', 'vegas', 'pistachio', 'thickness', 'snail', 'aclinker', 'sulfa', 'sleuthing', 'batley', 'chin', 'thetrue', 'perspective', 'tricycle', 'aggression', 'isopod', 'husk', 'digest', 'a-mole', 'cloudy', 'glaze', 'straw', 'rockn', 'sagebrush', 'ofpop', 'refreshment', 'homegrown', 'satirist', 'dead', 'nailsthe', '1300th', 'dial', 'tensile', 'wealthy', 'quetzal', 'sanctuary', 'mousetrap', 'calender', 'fromfilm', 'rot', 'dinosaur', 'participation', 'mahogany', 'springboard', 'crater', 'bharatnatyam', 'aloe', 'hammock', 'japonicum', 'excuse', 'boss', 'appendicitis', 'aaaa', 'remark', 'cola', 'programme', 'parkour', 'brood', 'sayseagle', 'crap', 'raking', 'looker', 'circa', 'geotextile', 'leap', 'geo', 'bunker', 'pricking', 'andfrench', 'inera', 'asylum', 'sky46158', 'tilt', 'trampolining', 'spot', 'deposit', 'bugler', 'fur', 'newborn', 'sizex8', 'loudspeaker', 'rockfish', 'andfootballer', 'chivalry', 'trumpeting', 'beloved', 'kauri', 'ensemble', 'St', '160th', 'tad', 'rowling', 'lycra', 'quartering', 'asspark', 't.j.', 'shelve', 'riser', 'wall.', 'wisp', 'mara', 'asportrait', 'Japanese', 'a-like', 'featuringperson', 'characteristic', 'simple', 'joyride', 'album', 'polonium', 'tress', 'sayingno', \"2'x2\", 'topography', 'crisscross', 'p5', 'scheme', 'ceremony.', 'user', 'firstamusement', 'weir', 'intermission', 'gangster', 'onmonarch', 'aster', 'bicolor', 'litter', 'billionth', 'cordycep', 'funfair', \"what'swrong\", 'lawnmower', 'calledthing', 'town', 'toarch', 'ridgeline', 'lauterbrunnen', 'food', 'a-bottle', 'ricochet', 'chilly', 'emerge', 'v10', 'luxurious', 'overall', 'gollum', 'hydroponics', 'diskette', 'ballroomunder', 'biohazard', 'mustach', 'seam', 'simulate', 'chateaux', 'gallop', 'goth', 'bigol', 'adam', '360ft', 'chillout', 'bullfinch', 'width', 'mineral', 'kingswear', 'engine', 'theirsuitor', 'pacer', 'ironman', 'concourse', 'console', 'oill', 'bacteriophage', 'cabana', 'plume', 'flyer', 'shag', 'nettle', 'trip', 'courier', 'sunset', 'protegee', 'ø', 'disable', 'technicolor', 'wall', 'attendfilm', 'builder', 'croft', 'cutting', 'homespun', 'intimidation', 'nicen', 'bystander', 'honcho', 'subway', 'efx', 'makegingerbread', 'smash', 'chubby', 'ofart', 'loader', 'brigadier', 'alynch', 'idle', 'labeled4', 'board.', \"14'er\", 'calleda', 'the90', 'hybridizing', 'categorycan', 'seriousnap', 'simulation', 'giraffe', 'plaque', 'thorn', 'legging', 'smuggle', 'andstate', 'drive', 'cornfield', 'oflove', 'brandishing', 'risque', 'projector', 'cl', 'essence', 'cupboard', 'aeroplane', 'sister', 'morph', 'bouquet', 'comfort', 'outdoor', 'waspolitician', 'headset', 'goodcat', 'gouda', 'count', 'heroe', 'trek', 'insulating', 'organization', 'ofhorror', 'insuperhero', 'register', 'panning', 'planscar', 'vol', 'lentil', 'fishnet', 'bedroomin', 'fromcomposition', 'airshow', '31cm', 'mah', 'cinderella', 'smoky', 'goodnight', 'fructose', 'boma', '33rd', 'mystery', 'morningtil', '900', 'saysperson', 'agony', 'colorful', 'pvc', 'trinket', 'sq.', 'threading', 'poison', '41st', 'entrepreneur', 'preschool', 't3', 'patrolling', 'supergirl', 'spoof', 'tag', 'barquentine', 'krewe', 'fifty', 'asparagus', 'gamer', 'ix', 'second', 'existence', 'gryffindor', 'misery', 'trading', 'brasil', 'mingle', 'bybased', 'duffel', 'suit.', 'processor', '4x400m', 'backup', 'American', 'pandal', 'ceiling', 'mix', 'token', 'mistletoe', 'flocksoccer', 'teach', 'fri', 'evp', 'imperial', 'individual', 'tutelary', 'trampoline', 'early50', 'ratchet', 'zing', 'provider', 'x16', 'gymnasium', 'woolen', 'egret', 'laster', 'cowboy.', 'park', 'waste', 'nasogastric', 'hippie', 'fatedcountry', 'nut', 'etching', 'waterpark', '500', 'bauble', 'surfing', 'perform', 'sledding', 'tenterden', 'slashing', 'skate', 'tine', 'aluminium', 'c1903', 'corpse', 'poolflow', 'hatter', 'flaw', 'groan', 'cafeteria', 'captive', 'shaping', 'toisland', 'forbook', 'yakuza', 'spatulate', 'b1', 'ewe', 'saysholiday', 'nickname', 'parading', 'frontbench', 'volley', 'airlift', \"she'ssecretly\", 'sparing', 'slopestyle', 'hatchet', 'donkey', 'time.', 'wrangling', 'horizontal', 'bung', 'jackhammer', 'titledrock', 'flekkefjord', 'fragment', 'readslove', 'badland', 'themilitary', 'whalley', 'i30', 'wash', 'matcha', 'barral', 'saucepan', 'cleft', 'old80', 'onanimal', 'withgarment', 'stance', 'voltaic', 'putter', 'diopter', 'calligraphymake', 'migrant', 'proponent', 'a-d', 'forum', 'anywhere', '34yr', 'powerhouse', 'asemulator', 'urgent', 'rugby', 'lacto', '60ml', 'plugin', 'minor', 'attachment', 'yuxi', 'antic', 'lawn', 'leash', 'grunge', 'ck', 'ras', 'sunrise.', 'damask', 'investor', 'layup', 'individuality', 'paramedic', 'uncanny', 'thread', 'ofx2', 'valid', 'goin', 'virus', 'fizz', 'misc', 'p-vember', 'a-ft', 'greeting', '175', 'Mercedes', 'oneself', 'dolorosa', 'wojtek', 'macaca', 'decisive', 'ribbon', 'economyma', 'locomotive', 'sauna', 'footballerretires', 'lighthouse', 'psycho', 'commandant', 'saysconductor', 'instant', 'soapy', 'rowing', 'coming', 'maraca', 'signgo', 'forecastle', 'browser', 'parka', 'mixer', 'anodizing', 'doom', 'ladyland', 'basement', 'mending', 'uni', 'whirling', 'culture', 'mint', 'seaming', 'a-spice', 'link', '60m', 'thermal', 'lakh', 'fibreglass', 'brutality', 'guyver', 'e36', 'queer', 'magnum', 'howwood', 'shank', 'diversity', 'horror', 'iconography', 'sell', 'flooding', 'cheat', 'topper', 'baroque', 'sunlight', 'dialog', 'goods', 'taipei', 'starboard', 'deadpool', 'thebridge', 'limiting', 'undertattoo', 'saxophonist', 'amman', 'organicfiligree', 'm-m', 'paratransit', 'rarity', 'bushman', 'indie', 'skip', 'elderly', 'pretzel', 'rumbling', 'galvanized', 'art', 'exposure', 'tuning', 'forza', 'bernard', 'coop', 'cheque', 'afunhouse', 'cf', 'cashmere', 'liner', 'hutch', 'sift', 'be-repaired', 'liebherr', 'stark', 'encyclopedia', 'golden', 'shout', 'puri', 'waygangsta', 'beaver', 'yoyo', 'sofi', 'material', 'refilling', 'walking', 'stingray', 'transplanting', 'domestication', 'a-ft.', 'biography', 'ch', 'chapel', 'stan', 'byaircraft', 'phonic', 'blue.', 'postcode', 'arthritis', 'thistop', 'squatting', 'msf', 'simplicissimus', 'infilm', 'proposition', 'remnant', 'bap', 'ashooting', 'buyautomobile', 'shearing', 'puddling', 'unfolding', 'locking', 'staffbecause', 'hai', 'scorpion', 'brand', 'bonsai', 'dollhouse', 'zagging', 'telecast', 'a-32', 'cavalier', 'clad', 'maul', 'intertwining', 'personbreaking', 'placekicker', 'a-roo', 'clubbing', 'i360', 'alteration', 'glove', 'cockpit', 'pretend', 'moorish', 'bottomed', 'p.m.', 'outflow', 'galore', 'thermo', '150th', 'apprehending', 'snarl', 'knockdown', 'ofparty', 'gecko', 'gb', 'milka', 'railing', 'quench', 'youtube', 'inform', 'fair', 'officiate', 'ohana', 'torpedo', 'choice', 'pollini', 'moonflower', 'generating', 'autoclave', 'zenith', 'tug', '35mm', 'Sunday', 'hostage', 'ms', 'blowtorch', 'chest', 'feeder', 'screen', 'rm16', 'vt', 'spike', 'transparency', 'artist17', 'caulk', 'exception', 'prod', 'pilgrim', 'bunching', 'skateboard', 'rajput', 'body', 'vintage', 'letterpress', 'script', 'venom', 'meld', 'personality', 'try', 'tour', 'starrer', 'postpartum', 'conch', 'lite', 'shanty', 'sheepdog', 'mistress', 'boxwood', 'm6959', 'kickboxer', 'sockswalk', 'split', 'hp', 'awhile', 'incense', 'mache', 'Sucre', 'archaeology', 'anddo', 'roader', 'tightening', 'one.', 'targa', 'pregnant', 'of', 'spiker', 'Theanklet', 'broadcaster', 'repairer', 'quonset', 'echo', 'thumbelina', 'acool', 'nostril', 'beating', 'spa', 'floe', 'gobo', 'shuttle', 'teenage', 'amm', 'model', 'melanin', 'byautomobile', 'blender', 'tasking', 'handy', 'quinceañera', 'potty', 'jubilee', 'vigil', 'dba', 'merchandise', 'gastronomy', 'kitesurfing', 'sulphur', 'ballpoint', 'lifeguard', 'secondary', 'pottery', 'mitten', 'heading', 'saleswoman', 'trailhead', 'steal', 'audition', 'baptist', 'Cenables', 'beekeeping', 'earth', '2002', 'flowers.', '6x8', 'metric', 'ceili', 'ascend', 'wainscot', 'chameleon', 'kp', 'simplicity', 'reese', 'foiling', 'anklet', 'bittersweet', 'allure', 'sleeping', 'stalactite', 'counterpart', 'horoscope', 'upright', 'willowherb', 'jpeg', 'agent', 'nemesis', 'significance', 'blow', 'sheetal', 'waysomething', 'laminar', 'themerry', 'flow', 'marlin', 'personthese', 'gouache', 'chairman', 'pus', 'nenet', 'withconsumer', 'boeuf', 'perch', 'importedautomobile', 'stall', 'fromarea', 'shelving', '&sweet', 'discussperson', 'necking', 'carpark', 'fn', 'sconce', 'imax', 'yawn.', 'November', '68th', 'magnolias', 'nanoparticle', 'recharging', 'kink', 'scorching', 'jurisdiction', 'sleeve.', 'soup', 'oldsandwich', 'filmwith', 'enthusiasm', 'prism', 'afield', 'williamsii', 'thickening', 'sculpting', 'haggis', 'yin', '40oz', 'extreme', 'retry', 'sprinkler', 'total', 'allium', 'maguiry', 'underglaze', 'brisket', 'calledmark', 'passion', 'saysbad', 'aero', 'a-finger', 'nan', 'deity', 'song', 'insight', 'dimmer', 'abduct', 'fighting', 'taker', 'i-a-b', 'dominion', 'paver', 'propaganda', 'sep', '50fp', 'milliliter', 'predation', 'chillin', 'pr', 'roundup', 'wth', 'workstation', 'February', 'spillway', 'cheerleader', 'wink', 'record', 'mushing', 'moto', 'qualifying', 'biltmore', 'counting', 'serpentine', 'trendy', 'approaching', 'vol.', 'traveler', 'maquis', 'dwell', 'tourmaline', 'shipping', 'chatter', 'emoticon', 'slit', 'metastasis', 'singssay', 'thehome', 'translation', 'onset', 'hit', 'sanction', 'whyuniversity', 'showcasing', 'about', 'plush', 'handicap', 'tattoo.', 'metthriller', 'proverba', 'superfamily', 'boscastle', 'meditation', 'designer', 'capitole', 'meltwater', 'megapixel', 'flowerbed', 'hoop', 'cropping', 'theevil', 'sand', 'Personx26', 'mogul', 'capensis', 'giallo', 'submarine', 'pedigreed', 'freedom', 'numeroustrunk', 'd4', 'detection', 'fend', 'freshwater', 'rapid', 'onsen', 'javascript', 'top', 'particle', '26', 'cattle', 'warmup', 'taste', 'rm300', 'hasmore', 'verde', 'man16', 'frise', 'chickadee', 'reddy', 'refuge', 'confer', 'calligraphy', 'neutral', 'capsule', 'earthen', 'muck', 'beaming', 'viii', 'banco', 'racy', 'apicture', 'transiting', 'guidebook', 'redbubble', 'checkerboard', 'coordination', 'grafting', 'logotype', 'delftware', '1930s', 'consensus', 'knee', 'design.', 'ringside', 'will.i.am', 'tower', 'uconn', '800km', 'riverine', 'employer', 'frankenstein', 'procedure', 'favor', 'pause', 'critter', 'oli', 'clap', 'ash', 'dove', 'chambord', 'pledge', 'alife', 'healthystyle', 'raby', 'blanket', 'oatmeal', 'thenature', 'end', 'rt', 'curving', 'footwear', 'lawsuit', 'fringing', 'ahot', 'workspace', 'loveem', 'paintball', 'l', 'weave', 'accessory', 'grease', 'regards', 'wake', 'fracture', 'bretagne', 'vein', 'raising', 'wizard', 'alum', 'governess', 'terrace', 'clifftop', 'row.', 'biathlete', 'Frussels', 'forthe', 'panda', 'eun', 'a-stylechâteau', 'σ2', 'pasta', 'thick', 'tariff', 'tunic', 'collection', 'pigeonhole', 'arborescen', '60hp', 'titledfilm', 'native', 'bendy', 'compost', 'concerningpolitician', 'establishment', 'sisal', 'slash', 'r2', 'aan', 'loser', 'snowstorm', 'ke', 'impressionism', 'u-la', 'kawi', 'wingsuit', 'queue', 'bytheatre', 'turquoise', 'spore', 'bb', 'ingarment', 'comedian', 'cunning', 'orr', 'politic', 'x48', 'ringgit', 'darta', 'ha', 'moet', 'dud', 'atbrand', 'texel', 'godmother', 'bullseye', 'agreenhouse', 'lateral', '480th', 'harem', 'writingonline', 'animation', 'invasion', 'capercaillie', 'leukemia', 'flagging', 'hyphen', 'nunatak', 'co.', 'joel', 'referee', \"19'x12\", 'smell', 'copsprotest', 'hanging', 'sale', 'lateen', 'smirk', 'calllebanese', 'd1', 'forget', 'ogee', 'afternoon', 'peering', 'screamsmirror', 'tinker', 'arrangedmuseum', '62nd', 'avanti', 'wearingtreasure', 'muesli', 'metre', 'epidemic', 'cretaceous', 'tow', 'baton', 'toddler', 'hygienic', 'outing', 'hindrance', 'chamois', 'cantera', 'cabernet', 'theperson', 'majestic', 'p55', 'moose', 'money', 'affair', 'samba', 'feeding', 'teepee', 'dowel', 'assert', 'abbreviate', 'dower', 'atlantis', 'supermarket', 'checkmate', 'wordsbe', 'balustrade', 'clusterslook', 'oreo', 'mantis', 'habanero', 'subzero', 'hustle', '0s', 'solitude', 'meandering', 'extra', 'bada', 'reside', 'sportswear', 'cupping', 'handlebar', 'jun', 'identify', 'steeplechase', 'caus', 'exs', 'spectabilis', 'refrain', 'latino', 'statesman', 'virgin', 'cityscape', 'soy', 'nanometer', 'stool', 'jasmine', 'joey', 'linux', 'skyward', 'mailbox', 'fc', 'sandstone', 'have', 'translate', 'text.', 'imagery', 'thisstring', 'pinch.', '335i', 'ingot', 'candor', 'awe', 'winery', 'spire', 'chalk', 'penitent', 'cough', 'wildcard', 'gaya', 'pore', 'corren', 'tupelo', 'birch', 'huckleberry', 'importance', 'bruising', 'spec', 'apocalypse', 'bun', 'tobatter', 'linenx78', 'dominance', 'location644', 'Reynold', 'groove', 'winking', 'infantryman', 'near', 'ambition', 'lovebird', 'corral', 'buckle', 'quicksand', 'shorty', 'mas', 'person', 'freight', 'novel1q84', 'menstrual', 'a-highway', 'luke', 'ploughman', 'aerial', 'frånbusiness', 'clockspring', 'millenium', 'blue', 'barrack', 'talking', 'flat', 'thicken', 'scorer', 'cruise', 'paleo', 'belfry', 'renewable', 'sitar', 'marzipan', 'respite', 'aneyebrow', 'warm', 'nibble', 'exile', 'symbol', 'puppet', 'say', '2', 'biologist', 'velcro', '20st', 'physics', 'royale', 'bunt', 'Ndebele', 'a-noob', 'scaffolding', 'stereotype', '4ilometer', 'bp', 'rallying', 'organiser', 'living', 'peony', 'breathing', 'goodbye', 'topside', 'theflat', 'residue', 'curbside', 'presto', 'persona', 'bilberry', 'remove', 'plumbing', 'lilly', 'école', 'his70', '2x', 'vote', 'elapse', 'minute', 'hertz', 'calculator', 'cliche', 'smurf', 'granddaughter', 'nod', 'surprise', '61st', 'galley', 'besidesgarment', 'thecarry', 'knitting', 'fingernail', 'fictional', 'over-game', 'hermommy', 'skewer', '56', 'backdrop', 'riverbed', 'waiter', 'wharf', 'burglary', 'spaciousstyle', 'purslane', '10s', 'duringan', 'x2', 'kodi', 'heel', 'thedeath', 'flexi', 'allowedperson', 'wag', 'barrier', '2010s', 'regrouping', 'thanks', 'rafflesia', 'kneel', 'vary', 'coyly', 'condom', 'croaking', 'tak', 'ofblood', 'icicle', 'sporty', 'lotto', 'platinum', 'vp', 'easel', 'wording', 'dreamliner', 'entourage', 'cosmopolitan', 'gown.', 'ofcomedy', 'resident', 'topi', 'fulling', 'lu', 'pariah', 'acc', 'empress', 'bandslam', 'effort', 'postal', 'soldier', '1h', 'rumba', 'journey.travel', 'tickling', 'vanessa', 'collectible', 'raining', 'historic', 'emissivity', 'ninja', 'terminus', 'px', 'longan', 'wing', 'centmade', 'earn', 'caffeine', 'slab', 'insecticide', 'sclerosis', 'ag', 'saxifrage', 'abstention', 'racing', 'sum', 'duet', 'zomby', 'grave', 'there', 'candle', 'kite', 'anna', 'discussion', 'digestive', 'pile', 'shiraz', 'wheel', 'smallholder', 'quotewhole', 'megaphone', 'ab', 'trooper', 'marshalling', 'panorama', 'ofaction', 'calledmagic', 'a-1930', 'tatoo', 'err', 'issport', '140mm', 'thepower', 'sea', 'taping', 'marshmallowpopcorn', 'population', 'fiesta', 'dwindle', 'mod', 'and40', 'Skippack', 'teen', 'isa', 'custom', 'ashen', 'lacing', 'overlap', 'rustica', 'sedate', 'staple', \"it'sit'\", 'gipsy', 'tandem', 'a-song', 'postgame', 'hat', 'bakery', 'sorel', 'doe', 'lumbar', 'tee', 'hatchling', 'hare', 'sitcom', 'downsizing', 'vs.', 'puppy', 'crafty', 'unique', 'bedding', 'supercross', 'presidential', 'ba', 'biomass', 'drizzle', 'beatnik', 'shilling', 'sassafras', 'tabular', 'cabochon', \"there'snothing\", 'kang', 'yang', 'redneck', 'sean', 'profit', 'whammy', 'muni', 'drill', 'graduation', 'captivity', 'quartz', 'anon', 'delivery', 'wetsuit', 'bight', 'colouring', 'againstcanadian', 'knotteddo', 'swear', 'pelmeni', 'landscapetype', 'propellor', 'figurine', 'destination', 'maxi', 'ho', 'flower', 'j.i.', 'lose', 'astern', 'glide', 'picnic', 'learning', 'lash', 'foto', 'manyblow', 'Cisaha', 'callbonfire', 'herfavorite', 'maiden', 'waterborne', 'ordeal', 'ezo', 'hay', 'vertigo', 'thatching', 'snake', 'addiction', 'fallout', 'bod', 'primula', 'webcast', 'softball', 'no14', 'doorstep', 'afterglow', 'in04', 'basesfollowing', 'finalist', 'winnowing', 'themarketing', 'fern', 'n.', 'fury', 'bulldog', 'fae', 'adductor', 'person17', 'casualty', 'nat', 'steward', 'stoppage', 'atomic', 'newspaper', 'iridium', 'wordsa', '97th', 'viz', 'eukaryotic', 'triathlete', 'bet', 'feat', 'andcelebrity', 'stay', 'aflower', 'banjo', 'winnera', 'closeup', 'acclimate', 'crocus', 'holiness', 'acobalt', 'initiallysuper', 'lh', 'adversity', 'relegation', 'mariachi', 'waterfall', 'bribe', 'criterion', 'warmth', 'excel', '83rd', 'annual', 'bungalow', 'belgrave', 'butin', 'occupier', 'culmination', 'sek', 'surrender', 'megalopolis', 'pant', 'pig', 'bracelet.', 'ditto', 'policy', 'mtb', 'editor', 'wild', 's.', 'fitness', 'fig.', 'torus', '170', 'caress', 'headpiece', 'highlight', 'gana', 'a-terre', 'herding', 'contestant', 'belly', 'aging', 'centrepiece', 'Stan', 'acclaim', 'statuesque', 'portraying', '19cm', 'rowboat', 'graham', 'a-rope', 'judo', 'twining', 'boots.', 'southend', 'argentina', 'piebald', 'Southeast', 'airship', 'bag.', 'ballroom', 'collision', 'floats.', 'congregate', 'define', 'shop', 'contrast', 'tray', 'volt', 'huddle', 'radius', 'equalizer', 'kebab', 'sculptor', 'bloodshot', 'grape', 'finance', 'hairline', 'scoreless', 'flat.', 'terracotta', 'dayround', 'react', 'falls', 'biennial', 'crumble', 'fromorganisation', 'fus', 'infinity', 'enfant', 'fenland', 'shark', 'rush', 'acre', 'sass', 'grinning', 'concolor', 'retrospective', 'composting', 'a-tote', 'sprinting', 'civil', 'maternity', 'claw', '375th', 'alumna', 'liam', 'de-lis', 'starfield', 'a-pan', 'patience', 'raft', 'sable', 'guardian', 'trump', 'cny', 'drawer', 'divi', 'rosie', 'matty', '500px', 'glade', 'wondrous', 'scavenge', 'story', 'relativity', 'birdwatching', 'SS18', 'dummy', 'forpeople', 'onto.', 'umbrella', 'camouflaging', 'barra', 'fleur', 'showdown', 'monday', 'swat', 'badan', 'pano', 'colorrose', 'constructor', 'jump', 'months.', 'allotment', 'dating', 'malbec', 'calve', 'anther', 'violinist', 'sailing', 'businesspeople', 'chime', 'lauren', 'positivity', 'integrifolia', 'pie', 'bio', 'and30', 'bloodhound', 'expand', 'threshing', 'Mohabbat', 'opulence', 'capitalist', 'chaos', 'd8', 'c', 'calcite', 'therefrigerator', 'crash', 'thegame', 'wanderlust', 'portal', 'alonga', 'fiestas', 'spit', 'rottweiler', 'footloose', 'spiking', 'hoisting', 'base', 'wig', 'scape', 'forging', 'overnight', 'wale', 'bangle', 'move.', 'collegiate', 'cesarean', 'a-kind', 'equilibrium', 'gracias', 'upside', '30', 'cricketing', 'scouring', 'advertising', 'bong', 'over-carat', 'carving', 'fungus', 'dumpster', 'ventilating', 'legged', 'formilitary', 'fromschool', 'ballerina', 'ofisland', 'announcer', 'dryer', '46ft', 'droplet', 'suitcase', 'alfalfa', 'oolitic', 'ni', 'hailing', 'mister', 'filming', 'showingcountry', 'closet', 'weaning', 'plandeath', 'pastoral', 'bus', 'mess', 'upper', 'fie', 'chipper', 'muscle', 'boyd', 'spartan', 'wheeler', 'portraitfilm', 'ficus', 'oursea', 'friday', 'harley', 'yum', 'eggplant', 'definition', 'walkabout', 'grail', 'attribute', '200x4', 'andreferee', 'invigorating', 'podium', 'roofer', 'marker', 'adherent', 'lorry', 'bitmap', '87th', 'longing', 'xiv', 'Cinema', 'scanner', 'nail', 'adjacent', 'reddish', 'bottoming', 'bookstore', 'hisjersey', 'tuscan', 'hungover', 'soccer', 'barmen', 'pastry', 'cromer', 'hatchback', 'ayurvedic', 'prime', 'cuff', 'join', '000ft', 'frombake', 'stylemom', 'nougat', 'consumer', 'christianity', 'plot', 'cry', 'kaylee', 'onautomobile', 'convertaircraft', 'excerpt', 'gated', 'dose', 'vibrant', 'ktm', 'ukulele', 'suck', 'appliqué', '55', 'fortunei', 'journal', 'crows.', 'participant', 'amour', 'beet', 'batsman', 'yuan', 'the20s', 'bore', 'essential', 'jumanji', 'powerline', 'ranching', \"collection'surban\", 'sailboat', 'demand', 'friend.', 'x264', 'spool', 'camaro', 'England', 'featuresskyscrapers', 'ranger', 'pinzgauer', 'dressesstyle', 'similarity', 'howlounge', 'level', 'dahlias', 'canvassing', 'td', 'doo', 'bench', 'pooh', 'formula', '10st', 'handwork', 'abd', 'musical', 'ching', 'springtime', 'lifestyle', 'ruffian', 'freethought', 'shall', '128gb', 'contraption', 'fem', 'sandpaper', 'cerise', 'bottling', 'circulate', 'miniature', 'out', 'moor', 'reais', 'hiking', 'expansion', 'decoration', '13ft', 'fat', 'otter', 'adopt', 'drip', 'outfield', 'baht', 'vacantstyle', 'divan', 'dh', 'wrapper', 'aboveconference', 'junk', 'lefthand', 'gt4', 'nighta', 'offeringgoer', 'republishing', 'tuft', 'spacioussitting', 'skirt', 'writingnight', 'morn', '31ft', 'emote', 'approval', 'ofsecret', 'paddle', 'romancing', '12x24', 'cent.', 'jeep', '50', 'father', 'courting', 'tarmac', 'ofsuperhero', 'poetry', 'forwork', 'stevia', 'landingrussian', 'messaging', 'toé', 'a-thon', \"you'reperson\", 'aspinach', 'plowing', 'symbiosis', 'bottom', 'chia', 'articular', 'inner', 'discuss', 'lyra', 'permanent', 'wavelength', 'a-bombshell', 'projectile', 'peacock', 'envy', 'kendo', 'garnish', 'barracuda', 'terracing', 'outgoing', 'superscript', 'clanging', 'tbm', 'harness', 'lair', 'sea.', 'glazier', 'blessing', '̊', 'lf', 'zombie', 'backtracking', 'upward', '8a', 'beer', 'earphone', 'yank', 'micron', 'remains', 'furthur', 'domain', 'halfpenny', 'warship', 'nebulae', 'ketchup', 'menopause', 'smelling', 'rank', 'cooling', 'residency', 'hallelujah', 'wiggle', 'yellowfin', 'metaphor', 'carter', 'emit', 'boca', 'jigsaw', 'taupe', 'idem', 'a-leaf', 'porch', 'wealth', 'asrusty', 'stab', 'clothes', 'sur', 'apr', 'flagellate', 'handshaking', 'creatinga', 'sentiment', 'wireless', 'inequality', 'forgiveness', '11th', 'millennial', 'Coyotes', 'teamsooner', 'celebrate', 'bushmen', 'catapulting', 'rawtenstall', 'cabbage', 'psoa', 'tittle', 'overcast', 'themust', 'centimetre', 'gazette', 'gypsum', 'fill', 'billboards', 'iris', 'laurisilva', 'enigma', 'stint', 'railcar', 'photograph', 'drawbridge', 'pam', 'whiteout', 'ofship', 'offerautomobile', 'bathe', 'availability', 'valkyrie', 'shorthair', '1890', 'ahow', 'campfire', 'same+', 'purgatory', 'sentence', 'b2200', 'descent', 'handssnow', 'emu', 'gage', 'pacifier', 'innervision', 'xiii', 'thedemon', '2mm', 'viciousrazor', 'instance', 'jersey', 'miracle', 'pregame', 'rakhi', 'bicker', 'bees.', 'nomination', 'restocking', 'outrun', 'aboutgarment', 'resource', 'caddy', 'veterinary', 'meta', 'hooping', 'pterodactyl', 'embarkation', 'marcher', 'jade', 'curd', 'protagonist', 'airmail', 'kear', 'r320', 'pictorial', 'cursive', 'metal', 'poultry', 'monastery', 'heart.', 'piggyback', 'fisher', 'c1912', 'toasting', 'aviation', 'aishwarya', 'powerplant', 'underpass', 'shortening', 'gambling', 'overcoat', 'sp13', 'wordplay', 'fps', 'sh', 'builtin', 'organic', 'chat', 'unlocking', 'stray', 'median', 'scouting', 'doping', 'multitude', 'shelly', 'ready', 'fishing', '318i', '5ive', 'uncle', 'cultivar', '60v', 'aldeburgh', 'coronation', 'coaching', 'marching', 'adore', 'laemmle', 'seasoning', 'a1000', 'baboon', 'seedling', 'IRSS', 'gar', 'pronoun', 'fieldwork', 'flavor', 'admirer', 'mindedness', 'thr', 'ladder', 'null', 'stick', 'mani', 'mold', 'outside.', 'demolition', 'rural', 'inhouse', 'thenight', 'attentionkarate', 'aim', '17c', 'machete', 'valvetrain', 'oldblock', 'typeis', 'spell', 'marked14k', 'ped', 'likes', 'tellurium', 'tie', 'unison', 'byauthor', 'a40', 'bin', 'billingsgate', 'yamal', 'windsurfing', 'lakebed', 'yuletide', 'salar', 'allegiance', 'supplier', '316i', 'hero', 'Livres', 'hippy', 'a-bass', 'v8', 'cathedral', 'shirt', 'bulking', 'repellant', 'a4', 'prosper', 'infielder', 'blunt', 'ladylike', 'herd', 'theypop', 'send', 'buxom', 'cracker', 'carte', 'disc', 'recyclable', 'paleolithic', 'offeringa', 'candy', 'calledmilitary', 'mmo', 'cloning', 'express', 'braeburn', 'newlywed', 'biscuit', 'instrumental', 'calledillegal', '6th', 'tikka', 'frosts.', '1980', 'trellis', 'marigold', 'a-lago', 'county', 'that80s', 'emperor', 'hamburger', 'mandatoryme', 'directorial', 'a-home', 'corporation', 'deadlift', 'indifficult', 'tola', 'estate', 'verb', 'horn', 'brimstone', 'outrage', 'a-canvas', 'pk', 'onlooker', 'remodeling', 'thereality', 'somearea', 'bait', 'gen', 'magician', 'develop', 'coordinate', 'compare', 'yoghurt', '20mph', 'commandeer', \"'s\", 'nap', '1940s', 'photovoltaic', 'blanketsx78', 'longfin', 'playersjust', 'shoa', 'harrowing', 'mistral', 'ripple', 'oversuper', 'sesquicentennial', 'thicket', 'bodhi', 'reshape', 'micra', 'vaq', '11oz', 'dine', 'cataloging', '80s', 'thediscovery', 'cheekbone', '16gb', 'toplay', 'theircustomer', 'malachite', 'mud', 'ofan', 'lifespan', 'curtain', 'armor', 'cochlea', 'slur', 'cupcakecake', 'andfar', 'superstar', 'handler', 'onyx', 'aviator', 'acraft', 'stilt', 'victoire', 'persimmon', 'andgangsta', 'coast', 'firemen', 'manti', 'golf', 'withstyle', 'hook', 'intersect', 'die', 'pre', 'gidget', 'colonisation', 'sophistication.', 'chi', 'foe', 'maker', '21oz', 'crinkle', 'membrane', 'neat', 'amalgam', 'swap', 'inperson', 'chica', 'abdominal', 'changing', 'erase', 'showerclothing', 'tradition', 'mauve', 'filmi', 'a-mm', 'gmt', 'garlicand', 'horseshoe', 'pool', 'lightbulb', 'output', 'the80', 'schoolpeal', \"you'regarment\", 'flier', 'glimpsis', 'leggedcreature', 'goggle', 'hybrid', 'mathematics', 'rhino', 'these', 'prosthesis', '500c', 'modelling', 'metalwork', 'competition', 'growth', 'coffeehouse', 'kelp', 'playhouse', 'draftsman', 'winningathlete', 'fawn', 'cuttlefish', 'eg', 'ofanimation', 'munchkin', 'sized', 'screamfall', 'culotte', 'contraceptive', 'bycomic', 'inmultiplayer', '300c', '500e', 'cellist', 'marijuana', 'superb', 'mercury', 'awaken', 'Mycenaean', 'listening', 'diameter', 'hack', 'rudolf', 'honeymooning', 'a-childran', 'crimp', 'homing', 'redwood', 'summit', 'shoutshustle', 'alunch', 'missal', 'my40', 'fossa', 'digger', 'xmm', 'Teuroteu', 'waitin', 'bahn', 'range', 'resurfacing', 'crossroad', 'applauding', 'vipassana', 'disco', 'backfire', 'fellow', 'a-tank', 'anymega', 'haul', 'purification', 'blazer', 'moonman', 'offroad', 'southeast', 'twinkle', 'exhibition', 'late70', 'mega', 'bouncing', 'vocalist', 'a-person', 'danish', 'spelling', 'off', 'helo', 'cohost', '300h', 'suspicious', 'cordon', 'anantigravity', 'teal', 'rocket', 'assistant', 'collar', 'superman', 'sunrises.', 'veg', '39cm', 'mercenary', 'communion', 'veggie', 'lunging', 'splatter', 'forrest', 'theuncanny', 'cet', 'rainforest', 'flock', 'taz', '3km', 'warhammer', 'mutualism', 'atratus', 'syndrome', 'medusa', 'gourd', 'regiment', 'mikoshi', 'lama', 'friends.', 'gryphon', 'ps.', '8c', 'ondutch', 'hairstyle.', 'dy', 'overshot', 'mini', 'mallow', 'confirmation', 'tummy', 'pyrite', 'fiancee', 'late50', 'yetdone', 'freeway', 'india', 'beechwood', 'orangestyle', 'groundstaff', 'prospect', 'kelsey', 'though', 'galant', 'turret', 'soyuz', 'kefir', 'pilate', 'shootem', 'c1', 'activity.', 'mil', 'm.l.', 'throwback', 'breccia', 'dmb', '8x10', 'alla', 'num', 'yucca', 'gale', 'aboutsweet', 'staysail', 'romance', 'armillary', 'bathtub', 'rodent', 'yogurt', 'moorhen', 'ptarmigan', 'j', 'outdoors', 'blizzard', 'ofitalian', 'leftist', 'chaste', 'corvette', 'offside', 'asterismif', '92cm', 'naruto', 'berry', 'crepe', 'mia', 'seaward', '700', 'cardamom', 'terrorist', 'kitty', 'ofset', 'ferret', 'submersion', 'haw', 'nugget', 'palacethe', 'cooperi', 'ofperiod', 'blossom', 'oak', 'marbella', 'bingo', 'psi', 'marshmallow', 'b.c', 'arikara', 'fromit', 'crusader', '1780', 'teu', 'wicket', 'birth', '3x1', 'proof', 'click', 'centrifugal', '28cm', 'forensic', 'schist', 'moz', 'dalmatian', '1770s', 'signski', 'lovelyera', 'wicketkeeper', 'military', 'lap', 'barren', 'cheek', 'tarn', 'glass', 'rehearsing', 'investigator', 'rite', 'block', 'swaledale', 'breeding', 'barrel', 'feminine.', 'Imac', \"project'smain\", 'honeymooned', 'york', 'croissant', 'uyuni', 'relenting', 'cinq', 'soak', 'commuter', 'synopsis', 'hairstyle', 'hangout', 'fade', 'a-cc', 'streetball', 'buttonhole', 'ky', 'modification', 'rhinocero', 'nought', 'synch', 'humus', 'breech', 'e.g', 'press', 'cyborg', 'a-ish', 'yard.', 'kong', 'telemarketer', 'hooray', 'collie', 'gruppe', 'nw', 'p22', 'milepost', 'prowl', '8cm', 'ceanothus', 'fano', 'asluxury', 'garment', 'mantra', 'housemate', 'umbilical', 'manger', 'apollen', 'ez', 'thesweetest', 'integrity', 'glassware', 'delta', 'withbig', 'id', 'ui', 'receivedmm', 'retrieving', '72nd', 'satchel', 'warning', 'thigh', 'nighttea', 'astronomy', 'antico', 'raging', 'fractal', 'suturing', 'abeach', 'littleviz', 'bali', 'himalayan', 'adrift', 'kangaroo', 'puller', 'offshore', 'ofsoftware', 'fowl', 'lookingcandle', 'well', 'inauguration', 'heck', 'pestalozzi', 'itsocialist', 's4', 'ape', 'learner', 'featuringfilm', 'rosegolden', 'pond', '1960', 'halftime', 'braying', 'jumpsuit', 'branching', 'compassion', 'θ', 'p', 'gladiolus', 'engagement', 'wild.', 'treatem', 'ombre', 'dz', 'youd', 'tic', 'robe', 'pollyanna', 'flare', 'documentary', 'lola', 'shield', 'coal', 'jutting', 'ton', \"owner'ssignature\", 'writinghave', 'diffract', 'slipway', 'tre', 'asick', 'crack', 'atrance', 'curse', 'dupe', 'turntable', 'waterjet', '114th', 'q7', 'the50', 'resupply', 'cp', 'thechoir', 'sharesall', 'knitwear', 'orchestra', 'internet', \"she'sa\", '48th', 'lard', 'Newsboy', 'anemometer', 'the15th', 'costume', 'engage', 'estimate', 'historicwork', 'newsagent', 'gorse', 'illumination', 'irrigating', 'planter', 'grub', 'towel', 'anothery', 's-x', 'vanita', 'hammond', 'calledblood', 'lyre', 'apep', 'greatness', 'meow', 'dream', 'downhill', 'alopecia', 'dungeness', 'jaw', 'forproduct', 'adida', 'livestock', 'motive', '50p', 'powder', 'cappuccino', 'extrude', 'mesmerize', 'celebrity', 'overwatch', 'sequined', 'blast', 'oflegend', 'f2', 'becontainer', 'iphone', 'friesian', 'betweenbullion', 'puritan', 'hover', 'abode', 'dancesport', 'schoolboy', 'intogarment', 'surgeon', 'arounda', 'waterway', 'magnification', 'bois', 'outside', 'conjunction', 'showcase', 'wizarding', 'ofself', 'hazmat', 'ante', 'signs.', 'snowshoeing', 'gareth', 'crate', 'sufi', 'exhale', 'handwriting', 'armory', 'binding', 'wildland', 'footrec', 'aquarium', 't1', 'gretel', 'sulfate', 'picture.', 'anthology', 'dour', 'doting', 'killing', 'retainer', '787', 'warthog', 'a-seater', 'scaglietti', 'applique', 'byretail', 'wood', 'duel', 'gripping', 'v-j', 'un', 'nero', 'polygraph', 'thecheetah', 'footarea', '14hr', 'favorite', 'flexibility', 'corner', 'chef', \"event'sthank\", 'p7', 'subalpine', '150mm', 'elevator', 'fault', 'insurance', 'succulent', 'governing', 'protestor', 'watchmaking', 'foal', 'wainwright', 'Montréal', 'campaigner', 'amur', 'nazi', 'noise', 'glycol', 'collection.', 'slapstick', 'postoperative', 'overflight', 'breakfast', 'tokiss', 'globetrotter', 'c.b.', 'ortension', 'a-lane', '5unce', 'signturtle', 'diecast', 'kat', 'pigtail', 'diagram', 'passer', 'b.c.', 'flag', 'gavethriller', 'a2', 'with80', 'lapwing', 'pestle', 'station', 'nite', 'scissors', 'anyone', 'forfilm', 'wordpress', 'ofairliner', 'elevation', 'hem', 'toxin', 'format', 'back', 'royalty', 'twin', 'projection', 'coro', 'ramp', 'qpw', 'request', 'gray', 'contemporary', 'imprint', 'stress', 'ep', 'thylacine', 'powert', 'tricolor', 'highrise', 'haka', 'tiger', 'mull', 'mic', 'hangman', 'albatross', 'surgery', 'oncoming', 'morphing', 'whipping', 'brandenburg', 'hex', 'pingu', 'window.', 'feel', 'x6', 'excavator', 'poutine', 'wsj', 'carpool', 'dart', 'sept', 'backdrop.', 'volute', 'bartering', 'tiptoe', 'squaw', 'junior', 'zoolander', 'nonzero', 'amendment', 'diminish', 'ae', 'terra', 'seat.', 'hash', 'practising', 'sitting', 'white', 'lumiere', 'premiere', 'warn', 'ilfracombe', 'sure', 'api', 'toalway', 'assisted80', 'shaming', 'printer', 'intern', 'ide', 'wasin', '30ft', 'jute', 'marathoner', 'lizardfish', 'bowman', 'show.', \"rock'n'roll\", 'typical70', 'macaw', 'nautica', 'accompaniment', 'sandstorm', 'sharer', 'world', 'identification', 'keratin', 'cornmeal', 'ufo', 'torneo', 'magnet', 'illusion', 'myth', 'supporter', 'philandering', 'spectra', 'convent', 'windstorm', 'underarm', 'accuracy', 'kindness', 'sprawl', 'plannedclass', 'protect', 'sprinkle', 'pkt', 'ultimate', 'coloration', 'aunt', 'theworld', 'sundry', 'dracula', 'noun', 'rascal', 'leader05', 'quad', 'pride', 'somebody', 'stern', 'triplet', 'roots&', 'a.m', 'siphon', 'catfish', 'g-g', 'planning', 'bedroombuilt', 'impact', 'hosting', 'tuff', 'address', 'supple', 'marshal', 'filmingthriller', 'neighborhood', 'cataract', 'employee', 'transgender', 'sandpiper', 'createpositivity', 'snoop', 'p.s.', 'stranding', 'pleaser', 'article.', 'p3', 'similis', 'gardening', 'dia', 'workhorse', 'signer', 'A-litre', 'airbase', 'sc600', 'acrotch', 'colleoni', 'betting', 'ranch', 'ofa', '5s', 'penalty', 'snowing', 'traction', 'wearingperson', 'keiko', 'globemaster', '13', 'drummer', 'hatch', 'coxless', 'pseudo', 'xeric', 'zigzag', 'werepersonand', 'hanukkah', 'May', 'gratitude', 'currency', 'sigma', 'mora', 'tube', '8x8', 'ki', 'velas', 'dig', 'a-bot', 'ofx18', 'promenade', 'italy', '18s', 'nightstand', 'peg', 'defenceman', \"visitor'smust\", 'heterochromia', 'corncob', 'bobble', 'poolside', 'wail', 'penumbral', 'portability', 'dabble', 'riverboat', 'tusk', 'likewho', 'leotard', 'gingerbread', 'quarter', 'enjoy', 'gate', 'korcula', 'offersgo', 'peninsular', 'a-kilogram', 'mumble', 'beef', 'glee', 'sportsman', 'fez', 'timberline', 'adoptive', 'botrytis', 'stepper', 'gp30', 'crucifixion', 'papery', 'ski', 'suffragette', 'rsvp', 'c1907', 'embryologist', 'drivingdefunct', 'advance', 'girlfriend', 'paratrooper', 'mcfly', 'slatted', 'ward', 'flipper', 'weed', 'cabriolet', 'Sylvan', 'fromtroop', 'yorkie', 'rb', 'ss13', 'hoistperson', 'ruble', 'thewine', 'jog', 'slowing', 'exploration', 'fielder', 'cannabi', 'artesian', 'technique', '108th', 'downmedia', 'thegolden', 'theblack', 'brush', 'aluxury', '24th', 'compliment', 'herb', 'ratite', 'twister', 'texture', 'areaclaw', 'sakura', 'garbage', '40d', 'Werewolf', 'termite', 'acrobat', 'majority', 'alternative', 'termlittle', 'shingle', 'klimt', 'barbeque', 'polyester', 'arcto', 'backbone', '800ft', 'boater', 'abuse', 'handgun', 'farewell', 'jest', 'drifting', 'A-carat', 'jpy', 'biconditional', 'ghost', 'stippling', 'chloe', 'mp', 'wara', 'wavy', 'midnight', 'lighthoney', 'a-b', 'airfield', 'manufacture', 'homeowner', 'proposal', 'mussar', 'hardware', 'hypnosis', 'tilda', 'rover', 'debriefing', 'zoning', 'corkscrew', 'cyclist', 'lake', 'orwoodland', 'haystack', 'planar', 'penguin', 'genesis', 'damping', 'instyle', 'stalwart', 'magenta', 'cradle', 'laborer', 'sledge', 'frangipani', 'vortex', 'pickle', 'hair', 'minaret', 'progression', 'cocoa', 'popup', 'pointe', 'rectangle', 'pdf', '20cm', 'cavity', 'reminder', 'canopy', 'thrash', 'worldwide', 'attach', 'metallic', '302nd', 'sink', 'deny', 'beggar', 'chu', 'crossbone', 'pott', 'bookshop', 'nutrient', 'freshness', 'searching', 'mezcal', 'visualising', 'poodle', 'horseracing', 'cadmium', 'inside', 'ofbridgeton', 'ibis', 'fra', 'copter', 'information', 'backwood', 'hangover', 'munro', 'tailgate', 'abutting', 'i.', 'Square', 'lampshade', 'snooping', 'indicategender', 'estuary', 'ss12', 'ahonor', 'inventor', 'ary', '500ml', 'wisdom', 'e39', 'tocrack', 'capoeira', 'bask', 'branch', 'rtw', 'arrondissement', 'quiver', 'roommate', 'border', 'panini', '89st', 'sari', 'Apollo', 'gaz', 'Easter', 'hacienda', 'lavender', 'corridor', 'notepad', 'urine', 'lanzarote', 'bulletproof', 'aide', 'kit', 'moon+', 'aristocrat', 'fold', 'parallel', 'obsession', 'famer', 'e90', 'mayonnaise', 'rector', 'roost', 'roe', 'cc', 'arescue', 'colonel', 'size', 'list.', '53cm', 'milletpot', '182bhp', 'ground', 'bolster', 'bureau', 'caribou', 'thesatellite', 'teahouse', 'prim', 'catch', 'emission', 'midland', 'unagi', 'xy', 'lifesaving', 'gif', 'thatcanadian', 'stairwell', 'snippet', 'panicle', 'isenough', 'chance', 'drain', 'admission', 'chalcedony', 'fog', 'bombard', 'renovating', 'prodding', 'waterlily', 'echinacea', 'himalaya', 'choose', 'pollen', 'redwing', 'aromatherapy', 'echolocation', 'dote', 'debonair', 'youperson', 'inert', 'firstcross', '163st', 'pp.', 'c1890', 'over', '28th', 'editorial', 'l3', 'thebullying', 'whopping', 'toning', 'verdigris', 'deadbeat', 'a-alarm', 'ourpassport', 'leis', 'freeform', 'definesmobile', '4h', 'migrating', 'system', 'hermetic', 'peoplefreak', 'shiny', 'handset', 'interaction', 'ecotourism', 'Satanic', 'Mondeo', 'taxable', 'of3d', 'backduring', 'dirtwashboard', 'police', 'u.', 'maturing', 'vocabulary', 'filing', 'yearfootball', 'movie', 'balancing', '1950s', 'flamed57', 'elf', 'lima', 'silkscreen', '&white', 'resurrection', 'emphasis', 'herbivory', 'indy', 'harp', 'thethee', 'genius', 'practise', 'staking', 'magick', 'overloading', 'montgomery', 'fruit', 'Nenet', 'verge', 'dugout', '109th', 'slaying', 'Coble', 'dad', 'woodblock', 'damagedmade', 'potential', 'quantum', 'ip67', 'racing.', 'twenty', 'thehelicopter', 'rm100', 'upheaval', 'postgraduate', 'sneer', 'arrowhead', 'thawing', 'widening', 'zvezda', 'barre', 'photogrammetry', 'goldsmith', 'mere', 'jambu', 'plough', 'saber', 'enamelsurprise', 'sundew', 'scripture', 'preservation', 'resilience', 'stealth', 'mismatch', 'shogun', 'gaucho', 'sarna', 'blooper', 'staff', 'ye', 'fromstate', 'asleep', 'phrasewhat', 'till', 'nacho', 'minibus', 'shipwreck', 'quacking', 'gyaru', '201e', 'fake', 'reaper', 'quill', 'bornean', 'aloud', 'plethora', 'dodo', 'construction', 'immigrant', 'featuringpolitician', 'shopper', 'complimentary', 'foreword', 'civilian', 'payer', 'image', '¢', 'kraft', 'pray', 'sundial', 'apt', 'bounty', 'chamber', 'permitting', 'foxtrot', 'sarong', 'evidence', 'garden', 'xviii', 'depictingall', 'redbrick', 'petit', 'detox', 'shelby', 'alli', 'c1909', 'truffle', 'parting', 'attend', 'waistband', 'drinker', 'marchesa', 'flowering', 'b-q', 'whistle', 'toraja', 'drilling', 'theyoung', 'autobiography', 's4908', 'headlight', 'themeatball', 'gorge', '36xx', 'frustrating', 'icy', 'playset', 'pundit', '1730s', 'animated', 'lupine', 'wahoo', 'rectilinear', 'gardeningis', 'arson', 'homesteading', '15yr', 'driver', 'agondola', 'ensure', 'grocery', 'menthol', 'zinc', 'gal', 'grommet', 'soaking', 'back.', 'renegade', 'drown', 'freighting', 'calmness', 'mistake', 'hergo', 'insert', 'terrain', 'hail', 'bachelorette', 'citron', 'cowhide', 'geoengineering', 'puree', 'mislead', 'ofcalendar', 'topop', 'brownfield', 'desi', 'elevate', 'plain', 'latter', 'theequator', 'person18', 'fpr', 'centipede', 'toremove', 'marathon', '1200s', 'equaliser', '50mm', 'house', 'microfilm', 'Eenjamin', 'itchy', 'lowrider', 'paintingx24', 'mc2', 'paling', 'bushfire', 'idealist', 'flu', 'duringcountry', 'gala', 'Starship', 'hellcat', '24', 'dado', 'zone', 'february', 'a-speed', 'skateboarding', '1630s', 'shoring', 'cookie', 'queens', 'affect', 'anurban', '1080i', 'placard', 'mortgage', 'tranquility', 'bun.', 's1', 'lunch', 'concert', 'improve', 'ripper', 'rookie', 'absurdity', 'dj', 'potter', 'stargazer', 'yak', 'scaling', 'telescopic', 'yesler', 'ing', 'conspiracy', 'waterside', '48hr', 'stereo', 'terminator', 'anterior', 'venecia', 'tooling', 'sketches.', 'butoh', 'dehydrate', 'de-ly', 'merrily', 'crux', '1830s', 'pita', 'district', 'willingness', 'home', 'spur', 'dark80', 'flowchart', 'ironstone', '2x12', 'methodology', 'fine', 'camphor', 'chainmail', 'theangle', 'ona', 'crystalline', 'servinghot', 'sputnik', '1st.', 'citrus', 'wound', 'meansmiddle', 'operationa', 'extrudedcell', 'repoussé', 'trademark', 'crumb', 'indian', 'coupe', 'silica', 'a-pack', 'tableau', 'crossing', 'juggle', 'fora', '8x12', 'namedfilm', 'forefront', 'columbine', 'cbl', 'socket', 'couplewith', 'quinoa', 'hot', 'kickoff', 'physio', 'dialogic', 'leek', 'theand', 'hoax', 'discover', 'sloshing', 'stairway', 'reverse', 'lithography', 'carr', 'masse', '95th', 'apostle', 'a-footresist', 'unit', 'a.b.', 'schnauzer', 'anand', 'thisarea', 'smurfette', 'milkshake', 'leak', 'pound', 'hotdog', 'bumblebee', 'facial', '6ft', 'jone', 'hing', 'oculist', 'lop', 'supplying', 'psych', 'bugsy', 'c1904', 'pendolino', 'usefulness', 'subsea', 'patina', 'heraldic', 'thethumb', 'loggerhead', 'a-de', 'mussel', 'polystyrene', 'statewide', 'aethiopicus', 'household', 'petrochemical', '1mm', 'sushi', 'immunity', 'footer', 'timeout', 'vegan', 'couple', 'tipple', 'ownedphone', 'rbi', 'logging', 'DSLR', 'kilo', 'headband', 'recital', 'Atsarea', 'chipmunk', 'that70s', 'saydream', 'smokey', 'laying', 'regenerating', 'educator', 'linoleum', 'astone', 'atfantasy', 'occupy', 'inshore', 'treading', 'deepavali', 'ponytail', 'quota', 'todo', 'football', 'anew', 'a-axis', 'orientation', '58th', 'resistor', 'hoe', '35', 'synthetic', 'ownership', 'tapas', 'semifinal', 'distribute', 'snow', 'belay', 'binder', 'forehand', 'production', 'judgment', 'virgo', 'highspeed', 'personperson', 'cabinets.', 'capital', 'iii', 'a-row', 'blackwood', 'artefact', 'know', 'rotational', 'holographic', 'trio', 'surgical', 'kina', 'behold', 'koo', 'visitinga', 'afriendship', 'beetroot', 'footballerand', 'europaea', 'flex', 'auroch', \"50'x4\", 'perennis', 'floodlight', 'trainingkg', 'gto', 'quayside', 'habitat', 'carport', 'transition', 'gl', 'cond', 'equine', 'readsdream', 'tonneau', 'scrum', 'flip', 'carriageway', 'assumption', 'dung', 'ondine', 'manta', 'swedishporcelain', 'believe', 'diaper', 'bead', 'keeper', 'v3', 'performeda', 'member', 'dementia', 'eyeliner', 'frieze', 'stalagmite', 'skeeter', 'jury', 'funchal', '18in', 'shamrock', 'hemp', 'minivan', 'screamsstature', 'v30', 'terrarium', 'hydro', 'hibiscus', 'percenter', 'reunion', 'institute', 'front', 'rollerblading', 'dhow', 'by70', 'studio.', 'banknote', 'volleyball', 'together', 'receive', 'mae', 'tiff', 'wrap', 'frontman', 'keffiyeh.', 'hibernation', 'heptathlon', 'ultrasound', 'turbulence', 'bathroomstyle', 'guess', 'moire', 'license', 'mylittle', 'sucker', 'spindrift', 'vox', 'sepak', 'housewithin', 'displacement', 'bce', 'pixie', 'pinpointing', 'beak', 'stomping', 'sainthood', 'π', 'depictsperson', 'exiting', 'braking', 'tb', 'lob', 'Calypso', 'Pointe', 'pasadena', 'resume', 'cake.', 'metallurgy', 'sacrifice', 'inr', 'businessperson', 'braceletcm', 'saidcome', 'myda', 'krazy', '1080p', 'myhome', 'pages.', 'pappy', 'rockwas', 'moving', 'ofreligion', 'lux', 'preset', 'reform', 'malik', 'upwards', 'award', \"y'all\", 'ourtemple', 'monorail', 'clack', 'than60s', 'a-season', 'countrycomplete', 'whooping', 'playersduring', 'evenvegan', 'watch', 'strapping', 'yourhealthy', 'warranty', 'personhe', 'havegarment', 'badger', 'do', 'ceremony', 'diarya', 'celery', '30oz', 'horse', 'anticipatedart', 'extinguishing', 'commodity', 'lotion', 'sayshello', 'esp', 'gossamer', 'thel', 'madmen', 'walker', 'meansbright', 'thewhirlpool', 'seamstress', 'bird', 'iguana', 'meansto', 'arable', 'outcropping', 'wintry', 'episode', 'partake', 'getautomobile', 'newpeso', 'extinction', 'parenting', 'toffee', 'specialist', 'species', 'reining', 'mate', 'mot', 'behemoth', 'rainbow', 'smithy', 'obscure60s', 'spellsocial', 'reroute', 'orcondo', 'eyelid', '7km', 'finishedcolor', '1hr', 'shatter', 'leather', 'hyacinth', 'clothe', 'sneaker', 'personenjoy', 'developer', 'travelling', 'moustache', 'asbasketball', 'silicate', 'linocut', '75', 'toy', 'inflorescence', 'maya', 'floorlook', 'Knight', 'grimace', 'parcel', 'bedroomstyle', '65th', 'watercolourist', 'longcase', 'recession', 'ballad', 'halter', 'sumo', 'personmonarch', 'sunset.', '4gb', 'alu', 'real', 'regret', 'gingerbreaddrum', 'chunk', 'ox', '1590s', 'smoker', 'advertisingas', 'nerve', '1x8', 'salsa', 'canoeist', 'dressage', 'lookin', 'mindfulness', 'runout', 'havingwon', 'occult', 'cisco', 'enforcement', 'colone', 'starry', 'marinade', 'hangar', 'igorot', 'c1925', 'badminton', 'thesiesta', 'energy', 'dispute', 'goulash', 'cal', 'gyp', 'advertisement', 'annex', 'gradient', 'downing', 'wangerase', 'fainting', 'woman', 'fauna', 'signboard', 'per', 'bending', 'increase', 'striding', 'transmission', 'belonging', 'niche', 'maiko', 'soot', 'pigeon', 'impeach', 'sponsorship', 'sledging', 'honoring', 'color', 'relay', 'performing', 'warming', 'labeling', 'reiki', '21st', 'shortcake', 'sauerkraut', 'artistry', 'verdant', 'honey', 'herefilming', 'mosque', 'moe', 'ifcompetitor', 'wonder', 'thefloating', 'associate', 'tattooing', 'motorcycle', 'consecutive', 'jeepster', 'tobuild', 'kerala', 'bling', 'isometric', 'l200', 'rue', 'c10', 'superior', 'violin', 'suggestive', 'iceberg', '75th', 'glance', 'bilogramataratede', 'terrier', 'morningfor', 'homeschool', 'inspection', 'fanning', 'alibi', \"12'x12\", 'mythbuster', 'remainder', 'botanist', 'playwright', 'spreadsheet', '14th', 'frontage', 'slipper', 'lithograph', 'thunder', 'organizer', 'thebreezeway', 'hiskey', 'perennial', 'bonobo', 'redhead', 'uniqueness', 'sam', 'sweat', 'square', 'afer', 'lei', 'playingis', 'kicker', 'section', 'madness', 'sherlock', '4ft', 'theog', 'endurance', 'frigate', 'storico', 'fuel', 'kneesaving', 'mustache', 'nutty', 'cutlery', 'thousandth', 'useinvention', 'lis', 'salesman', 'rte', 'appear', 'ethnic', 'bonnet', 'explanation', 'nutcracker', 'asci', 'thefan', 'chaplain', 'finisher', 'dec.', 'label', 'rod', 'anactor', 'tn', 'beminimum', 'mummy', 'zurich', 'tile', 'apa', 'acacia', 'singe', 'couture', '8h', 'incognito', 'tractor', 'indoors', 'hell', 'hasinvention', 'lodge', 'anniversary', 'tuareg', 'cham', '12mm', '8x', 'greenscreen', 'pattu', 'scandal', 'woollen', 'Percules', 'escapee', 'allergen', 'powerpoint', 'gt3', 'objective', 'could', 'photomontage', 'lane.', 'dandy', 'precaution', 'chintz', 'fortification', 'guest', 'insurgent', 'diplomat', 'enlightening', 'shotgun', 'ws', '300d', \"50'th\", 'n.j.', 'responsibility', \"o'hare\", 'pa', 'complexion', 'emerald', 'modernism', 'lieutenant', 'sapphire', 'j.', 'chartreuse', 'busway', 'exhibition.', 'lithographx12', 'skyride', 'a-family', 'sim', 'winford', 'dreaming', 'refund', 'papa', 'smartphone', 'pebble', 'rockabye', 'gymnast', 'flush', 'abbreviation', 'pinky', 'yield', 'hoo', 'rising', 'saltergate', 'ofsnowman', 'jogging', 'thefun', 'celsius', '140s', 'walled', 'l-r', 'termrainbow', '23', 'aperture', 'unveiledautomobile', 'killer', 'mahout', 'mono', 'lightening', 'cv', 'crouching', 'nitrogen', 'paracetamol', 'pesach', 'stones.', 'homestay', 'meadow', 'tofine', 'lumber', 'coat', 'Wfcomedy', 'blowup', 'narrow', 'shore', 'janitor', 'bloodsport', 'edition', 'grant', 'a-story', 'duckling', 'interrupt', 'kanin', 'fortune', 'cameraman', 'tracking', 'providence', 'chief', 'sketching', 'cliff', 'lmfao', 'charge', 'overhaul', 'nyquist', 'diagnosis', 'kangxi', 'guys.', 'viral', 'ablood', 'saturn', 'folklore', 'filigree', 'lecture', 'haram', 'be-built', 'andtop', 'interlacing', 'licence', 'lahar', 'uterus', 'epicurean', 'whalebone', 'cyp', 'reduction', 'swallow', 'grass', 'imagination', 'folk', 'theright', 'flask', 'intent', 'soviet', 'ramadan', 'recessional', 'avian', 'sympathy', '32oz', 'ceramic', 'floristry', 'soul', 'jar', 'cinematic', 'tenderly', 'sympathizer', 'burgundy', 'smile', 'everybody', 'intense', 'disagree', 'guna', 'interim', 'counterclockwise', 'slinging', 'grainne', 'novice', 'trucklil', 'farming', 'romulan', 'boat.', 'confirm', 'policeman', 'boost', 'antigone', 'anemonefish', 'accenting', 'Bleu', 'tomentosa', 'workwear', 'caravel', 'emulsion', 'playfulnight', 'mead', 'submersible', 'playingtv', 'cute', 'archaeologist', 'towing', 'wed', 'amphitheatre', 'ute', 'papal', '12yr', 'mullion', 'space', '93c', 'commenting', 'p192', 'miko', 'quasar', 'January', 'tam', 'caiman', 'backlit', 'ext', 'kinda', 'cyprus', 'centuryvilla', 'rental', 'career', 'laevis', 'fondant', 'practice', 'inn', 'manufacturer', 'adventurer.', 'beginning', 'themed', 'terrestris', 'marshaling', 'lime', 'potato', 'meteor', 'gospel', 'mangrove', 'denial', 'ismore', 'envelope', 'dignity', 'hairdresser', 'queso', 'dexter', '1m', 'scroll', 'fiddle', 'plight', 'look', 'leavesdo', 'fruition', 'rap', 'axel', 'theattack', 'reasong', 'brit', 'physique', 'printmaking', 'pepper', 'sheen', 'refuel', 'blind', 'repeat', 'brilliance', 'viewer', 'iconic', 'garb', 'bankruptcy', 'canvasx30', 'chai', 'ahouse', 'productivity', 'extinguisher', 'oceanfront', 'australia', 'seller', 'slew', '200', 'flatware', 'hominem', 'protocol', 'anunique', 'kimono', 'tenant', 'buffalo', 'goalie', 'hitchhiker', 'time', 'cellular', 'eternal', 'thegarment', 'maui', 'incountry', 'descend', 'high', 'acanthus', 'hibernating', 'northside', 'a-la', 'teapot.', 'snr', 'pity', 'ankle', 'connector', 'explode', 'creator', 'garter', 'sunbird', 'buggy', 'mean', 'tamper', 'next', 'sighting', 'offilipino', 'finale', 'shielding', 'soil', 'miner', 'disk', 'shaft', 'ofautomobile', 'caddying', 'client', 'minimaliststyle', 'spellbound', 'burst', 'crooning', 'officiating', 'styrofoam', 'x1', 'akick', 'yee', 'quickie', 'mother', 'b-w', 'confetti', 'marbling', 'shead', 'fact', 'anunicorn', 'alwaysjunk', 'basketball', 'expo', 'mower', 'nouveau', 'scaffold', 'reconstruction', 'mortuary', 'capacitor', 'onion', 'mulberry', 'right', 'component', 'lashing', 'meanspeople', 'shoal', 'c13', 'undo', 'linger', 'view', 'bee', '20lb', 'precipitation', 'wiccan', 'taco', 'jack', 'mustang', 'democracie', 'forcoffee', 'embellish', 'legal', 'submission', 'ly', 'fancy', 'arundinacea', 'ancientstyle', 'resist', 'weightlifting', '158', 's5', 'unicycle', 'amale', 'contain', 'glassblower', 'inch', 'outbreak', 'harmonica', 'bollard', 'miler', 'laidkm', 'evening', 'gramophone', 'repair', 'byblue', 'strongestsouvenir', 'verso', 'farm', 'antibiotic', 'hoi', 'limbo', 'mayor', 'loving', 'dirt', 'jadeite', 'pantry', 'poking', 'cymbal', 'cradling', 'excelsa', 'legend', 'maj', 'zulu', 'receptionist', 'measure', 'sewer', 'presence', 'granite', 'early90', 'momentum', 'uhd', 'tether', 'driving', 'thedrinking', 'manifest', 'assemblage', 'trad', 'memorial', 'zara', 'pub', 'sienna', 'nothin', 'choker', 'theirvintage', 'bunkhouse', 'giglio', '35hr', 'Fort', 'creaking', 'cleverlace', 'stasis', 'applaud', 'telephoto', 'speculation', 'primary', 'hickory', 'running', 'disdain', 'harden', 'guppy', 'girlhood', 'insulin', 'oxen', 'corned', 'aheel', 'idling', 'eur', 'flake', 'compsognathus', 'outdoorsman', 'lothario', 'oxford', 'thedrop', 'introvert', 'rogue', 'vitamin', '1660s', 'c4', 'oleander', 'camera', 'savior', 'let&', 'kilogram', 'hal', 'motoring', 'petunia', 'condition', 'militar', 'dispensing', 'heme', 'thedeep', 'haberdashery', 'g6', 'coincidence', 'manner.', 'commander', 'eat', 'butternut', 'stat', 'dentistry', 'walling', 'voto', 'remote', 'oxidizing', 'seaon', 'backstroke', 'thespian', 'carry', 'deep.', 'doug', 'mastiff', 'rep', 'heliconia', 'halide', 'decker', 'undertone', 'kindle', 'whatstand', 'x20727', '28l', 'comparison', 'optician', 'qualification', 'princess', 'rum', 'hula', 'spider', 'pc', 'bantamweight', 'melange', 'frustration', 'cage', 'oceanside', 'ghetto', 'chart', 'springing', 'moonlit', 'bluffing', 'lounge', 'pantone', 'magazine', 'cornucopia', 'strain', 'dining', 'deconstructivism', 'bring', 'lagoon', 'programming', 'solstice', 'kiddie', 'bespoke', '5k', 'judge', 'uphill', 'peri', 'bravery', 'g17lbs', 'ribbing', 'wicked', 'environmentalism', 'wordmark', 'degree', 'membership', 'urinating', 'plastic', 'apartment', 'enamelleddragon', 'secret', 'chow', 'unicorn', 'sensory', 'discovery', 'doesthe', 'ternary', 'drying', 'brickwork', 'holedstyle', 'dimming', 'grapple', 'butler', 'parkland', 'hardstone', 'recycling', 'snowmobile', 'turbine', 'finn', 'thefountain', 'naomi', 'taming', 'forehead', 'hire', 'kettle', 'a-o', 'stylish70', 'saidno', 'borealis', 'thelife', 'nebula.', 'leadoff', 'steeping', 'group', 'carborundum', 'a-60f', 'inchain', 'limousin', 'rotate', 'fountain', 'mentoring', 'advocate', 'thecuteness', 'joininggangsta', 'sidewalk', 'mariah', 'vc', 'unification', 'cleavage', 'homestead', 'parrots.', 'deck.', 'cm', 'share', 'paging', 'suspension', 'groundbreaking', 'dau', 'lv', 'pour', 'dislocation', 'luxe', 'name', 'b.cember', 'census', 'homeschooling', 'rebel', 'burke', 'twitching', 'sector', 'bleacher', 'smudge', 'stiletto', 'smb', 'bake', 'decibel', '13s', 'spoonful', 'hurricane', 'motel', 'totennis', 'clematis', 'raspberry', 'barman', 'andnoble', 'luk', 'enclave', 'vide', 'fame', 'duringconference', 'nee', 'Fruin', 'kwacha', 'superconductor', 'v', 'riffle', 'single', 'atoll', 'bald', 'sunny', '36hr', 'landslide', 'knucklehead', 'hypnotise', 'a-race', 'exotic', 'streetcar', 'ambrose', 'pest', 'publication', 'cartwheel', 'timetable', 'grandad', 'file', 'wdh', 'entity', 'ashram', 'claps', 'bonafide', 'kiwi', 'shoulder', 'sunning', 'armour', '104lb', 'celebrateperson', 'download', 'honeydew', 'kos', 'heartbreak', 'overgrazing', '00s', 'stary', 'dole', 'thatwestern', 'heirloommm', 'med', 'wasthe', 'scenographer', 'thebonus', 'vale', 'leafless', 'matting', 'gearbox', 'deck', 'longtail', 'cuteness', 'drugstore', 'planetarium', 'saga', 'carriage', 'rein', 'ourgreen', 'pert', 'bombshell', 'charming', 'daydream', 'haveinvention', 'zag', 'gene', 'squab', 'avant', 'civilization', 'ts', 'jurisdiction744', 'favorite90', 'saysroyalty', 'a-acre', 'odd', 'helmet', 'validatedsize', 'swift', 'manu', 'mowing', 'teethe', 'tubass', 'a-ball', 'riding', 'rundown', 'parliament', 'walkthrough', 'jockey', 'ofbomblet', 'ambassador', 'pani', 'embroidery', 'brahmin', 'affection', 'fingertip', 'sku', 'apricot', 'brigade', 'quaking', 'manifestation', 'spatula', 'research', 'andpolitician', 'ii', 'accident', 'grouper', 'withactor', 'farmhouse', 'Aaliyah', 'rebounding', 'comment', 'bimonthly', 'bergamot', 'consciousness', 'serval', 'facelift', 'inc.', 'racism', 'e.t.', 'deafness', 'trestle', 'massage', 'and', '18ft', 'bigheart', 'theit', '142nd', 'document', 'thehockey', 'jib', 'tactic', 'duringholiday', 'pent', 'outlander', 'd.c.', 'shoot', 'acne', 'denomination', 'dub', 'note', 'disadvantage', 'northeast', 'hydroelectric', 'nightgolden', 'announce', 'carpal', 'ariadne', '4', 'appointment', 'postcard', 'rasta', 'limo', 'cornbread', 'crackling', 'desolation', 'curiosity', 'sewn', 'greyhound', 'groom', 'guinea', 'taxonomy', 'straightaway', 'paraplegic', 'consultant', 'sophistication', 'phraseread', 'pampas', 'versatility', 'reburial', 'outlaw', 'guestswrite', 'bynovelist', 'steric', 'skid', 'tumble', 'ablaze', 'librarian', 'standalone', 'bat', 'walkway', 'officer', 'lodestar', 'ang', 'gatsby', 'stoplight', 'rulethe', 'settler', '1870', 'doublet', 'joint', 'rodding', 'equator', 'nymph', 'inanimation', 'suave', 'coax', 'guitar', 'timer', 'ingénue', 'a.j.', 'emirate', 'none', 'pet', 'motorcade', 'be-defunct', 'ian', 'geodesic', 'c2861', 'solarium', 'dedication', 'lady', 'sandbar', 'overhauling', 'cognac', '4b', 'nightmare', 'strut', 'a#', 'tart', 'mp3', 'bliss', 'creative', 'distillation', 'nc', 'scrapbook', 'stash', 'hrh', 'hologram', 'overpass', 'overturning', 'pollute', 'oxcart', 'terri', 'a-porter', 'kozmigroov', 'township', 'atm', 'fringe', 'furlong', 'artist', 'cafe', 'invitation', 'womb', 'toconductor', 'newsstand', 'thoroughbred', 'shear', 'buying', 'trim', 'lat', 'association', 'strewn', 'endingwedding', 'bubblegum', 'marsh', 'onan', 'stag', 'tanker', 'preview', 'dietary', 'americanus', 'usd', 't-s', '11km', 'itgangsta', 'icebound', 'backwards', 'lunchtime', 'beast', 'harborside', 'pudong', 'bullpen', 'geospatial', 'fleet', 'jag', 'yardage', 'officewith', 'onunesco', 'feud', 'smoothy', 'tat', 'artichoke', 'crawler', 'swish', 'passerby', 'quiche', 'thathorse', 'bael', 'ion', 'bellagio', 'azalea', 'abutterfly', 'feudal', 'sleeper', 'outlier', 'doña', 'originalbuccaneer', 'treehouse', 'labyrinth', 'navigator', 'balling', 'u.s.', 'tamer', 'wiping', 'r712', 'chorus', 'ahook', 'chill', 'lens', 'Meerkat', 'henna', 'ware', '11ft', 'glitch', 'rehabilitation', 'justice', 'canard', 'snare', 'somersault', 'strait', 'glazing', 'aroundtourist', 'waveform', 'hinge', 'annum', 'gamecombine', 'lightning', 'controversy', 'forhorror', 'hewn', 'forn', 'stormy', 'thepassport', 'intercessory', 'snorkeler', 'icon', 'vegetarian', 'amusement', 'clear', 'auditorium', 'retrieval', 'castle', 'bicentennial', 'be-warring', 'hor', 'athree', 'jeans', 'spiderman', 'foxy', 'photon', 'motogp', 'earwig', 'landfill', 'franca', 'futsal', 'imaging', 'megawatt', 'sf', 'wither', 'crusher', 'some90', 'oddhairstyle', 'turner', 'thrice', 'responder', 'goliath', 'title', 'ribcage', 'stencil', 'livin', 'repellent', '105mm', 'paperwork', 'Angeles', 'ringer', 'firearm', 'humanitarian', 'helpedmonarch', 'decision', 'pajama', 'bean', 'catwalk', 'denim', 'large', 'darling', 'pancake', 'excellence', 'boardgame', 'needle', 'fd', 'goldilock', 'cumulonimbus', 'carcassonne', 'biofuel', 'broth', 'breakout', 'managedm', 'eightfold', 'tyrannosaurus', 'buddy', 'engineer', 'purist', 'pseudonym', 'trucker', 'acarer', 'visitpastry', 'hipaa', 'fret', 'penetration', 'era', 'woodcut', 'goiter', 'stoning', 'strolling', 'best.', 'feeling', 'st', 'trusty', 'spout', 'moo', 'boolean', 'paper', 'astrology', 'heavy', 'memoir', 'Hollywood', 'salve', 'brief', 'celluloid', 'atta', 'tcm', 'namedlove', 'norm', 'pacem', 'kak', 'tune', 'refrigerant', 'goesgerman', '1700s', 'iv', 'kelvingrove', 'saris', 'tequila', 'cable', 'possum', '150mph', 'moss', 'bailing', 'pathway', 'purge', 'ernie', 'aseat', 'camel', 'salam', 'catamaran', 'lecturer', 'shrove', 'ifyou', 'dancefloor', 'asartist', 'thebypass', 'rancho', 'enduro', 'flit', 'tejano', 'advisor', 'bash', 'thief', 'vulgaris', 'westside', 'magnate', 'chip', 'childhood', 'apull', 'chasesautomobile', 'su', 'syn', 'burial', 'babysitter', 'mala', 'baby', 'buckwheat', 'panichot', 'marshland', 'architecture', 'sound', 'parallelogram', 'againstperson', 'apiary', 'loneliness', 'trash', 'cheeky', 'athlete', 'mai', 'background', 'blacktop', 'a-dub', 'ecosystem', 'middle', 'swan', 'plate', 'pharaoh', 'adv', 'comrade', 'solitaire', 'thatno', 'astringent', 'bacterium', 'thebachelorette', 'delete', 'crosswise', 'aed', 'oyster', 'riverside', 'basset', 'adress', 'company', 'disposal', 'wove', 'lifta', 'mt', 'glimmering', 'shut', 'antioxidant', 'peacex12', 'tenderness', 'whatsoever', 'schilling', 'fr', 'trooping', 'vishu', 'board&', 'clip', 'cortisone', 'summoning', 'bloodline', 'scout', 'empower', 'redfish', 'helm', 'lookalike', 'ornamental', 'cost', 'a-cone', 'sulfur', 'cubicle', 'segment', 'oxytocin', 'coastguard', 'midweek', 'scrape', 'paw', 'windmill', 'den', '1860s', 's3', 'giver', 'melon', 'awhite', 'stroller', '6920am', 'Flatiron', 'pendent', 'z', 'treatise', 'cay', 'wheelbarrow', 'seizure', 'a-wheeler', 'mall', 'portable', 'automotive', 'geyser', 'showroom', '621', 'eatery', 'homeport', 'nailing', 'senior', '72oz', 'fistula', 'people', 'paddler', 'outskirt', 'plus', 'alb', 'tofix', 'comune', 'sugar', 'aspiration', 'esthetic', 'pfw', 'aux', 'sec', 'salal', 'prehistory', 'arborist', 'elven', 'discharge', 'tracheal', 'anticline', 'brolly', 'a-run', 'decorative', 'pricemm', 'schoolchild', 'viewafter', 'longshank', 'sleevehacker', '62cm', 'lower', 'morello', 'claim', 'pulsed', 'obstacle', 'seeairline', 'dusk.', 'motif.', 'piggy', 'cocker', 'hull', 'offering', 'thro', 'sr22', 'remodeledstyle', 'songwriter', 'toa', '250', 'souther', 'accountant', 'aldermanbury', 'mating', 'funeral', 'leaf.', 'nutshell', 'kva', 'grasses', 'ethno', 'Specsaver', 'alanguage', '3tone', 'marine', 'moat', '94f', 'iro', 'logo', 'lightsaber', 'frame', 'pupil', 'panoramic', 'burden', 'roar', 'epiphyllum', 'forest', 'nightlife', 'quadriplegic', 'torespect', 'shin', 'c1922', 'strumming', 'quadrate', '60fp', 'rfid', '8km', '377', 'termalt', 'maneuver', 'crowd', 'schooner', 'pique', 'hope', 'binky', 'Truckin', 'microcontroller', 'yarn.', 'chicken', 'strawberry.', 'pt', 'iz', 'bolognese', 'cantopop', 'rain', 'atsuper', 'dock', 'connecting', 'bromeliad', 'her50s', 'sylvestris', 'whitebark', 'catching', 'tobeauty', 'ashton', 'miscarriage', 'tombstone', 'canola', 'subject.', 'cobble', 'hardtop', 'charm', 'atmosphere', 'socializing', 'byinventor', 'desert', 'ampersand', 'herarea', '70lb', 'makeshift', 'ability', 'scythe', 'feburary', 'eastcheap', 'trouble', 'landfall', 'cherub', 'zombieflesh', 'eos', 'frankfurt', 'c.s.', 'personwas', 'cypress', 'writer', 'tuck', 'stave', 'farben', 'buoy', 'juin', 'c1950', 'raisin', 'subfamily', 'nurburgring', 'thoroughfare', 'construct', 'forerunner', 'deft', 'slush', 'linea', 'baikal', 'bluebird', 'brandywine', 'haunch', 'parmelia', 'grated', 'recovery', 'wine', 'electric', 'z4', 'traps', 'offamily', 'chessboard', 'economist', 'forbiscuit', 'pork.', 'leche', 'andindustry', 'eva', 'cereal', 'wrestler', 'grand', 'liqueur', '140ha', 'wax', 'nonmetal', 'entrance', 'gao', 'reboot', 'sleepwalking', 'she', 'dark', 'toilet', 'ornorthern', 'reuse', 'causenoble', 'or80', 'import', 'upstate', 'brat', 'mi.', 'cai', 'pick', '1920sstyle', 'plannedstyle', 'pricing', 'encore', 'platter', 'showboating', 'subscribe', 'waistline', 'busting', 'rox', 'pavilionthe', '7&8', 'tear', 'percent', 'cushioning', 'Wrvieto', 'business', 'Peregrine', 'bysculpture', 'd5', 'author', 'mutant', 'official', 'dive', 'leven', 'calledfamily', 'fuchsia', 'chateau', 'amc', 'arandom', 'putlocker', 'octagonal', 'hypnotize', 'tapping', 'trouser', 'barbet', 'wielkopolski', 'ap', 'unplug', 'phone', 'hunger', 'supreme', 'headstone', 'ironwork', 'melatonin', 'print', 'twirl', 'alm', 'bibliophile', '70cm', 'coworker', 'mal', 'breakwater', 'lava', 'cheerleading', 'summery', 'pont', 'diorama', 'bedroom', 'reception', 'foreshore', 'changi', 'spearmint', 'prowling', 'trefoil', 'cheap', 'mayflower', 'yoda', 'parti', 'harvester', 'barle', 'dormer', 'minority', 'Andromeda', '16th', 'grapefruit', '25ft', 'rival', 'mya', 'thehouse', 'handwritten', '&c', 'chord', 'catalog', 'orca', 'flattening', 'shaun', 'posh', 'tutu', 'effigy', 'stellate', 'rhododendron', 'a30', 'angst', 'tiki', 'brite', 'scourge', 'explosive', 'as90', 'polo', 'surrendering', 'andrussian', 'thebasketball', 'bury', 'bumble', 'de-visite', 'mk', 'inlaid', 'workmen', 'vibrate', 'darning', '22nd', 'inscriptionlove', 'abs', 'aru', 'pose', 'superherosuperman', 'reporting', 'dairy', 'g.i.', 'gadget', 'xcm', 'centaur', 'hindi', 'melancholy', 'romina', 'span', 'kristen', 'replacenegative', 'inhabit', 'cyber', 'outin', 'hallmark', 'sweatpant', 'abbey', 'crème', '8mm', 'storybook', 'template', 'jo', 'remaking', 'helpedbrand', 'exit', 'summarizing', 'revise', 'pat', 'blink', 'de-naye', 'r-i-s-e', 'digi', 'chippy', 'carmaker', 'duringsport', 'keep', 'angel', 'through', 'bpa', 'hong', 'campestris', 'edging', 'rad', 'sandcastle', 'goaly', 'tannin', 'jetsam', 'tan', 'crunch', 'causation', 'slaughter', 'grenade', 'villa', 'caracal', 'thrower', 'theother', 'duckweed', 'bullhead', 'afar', 'pipe', 'camila', 'fondue', 'plc', 'one', 'sl550', 'vinaigrette', 'toast', 'liege', 'will', 'length', 'smelt', 'lonesome', 'dramatist', 'brewery', '8f', 'core', 'midfielder', 'mila', 'development', 'violet', 'hadcraft', 'jnr', '24hr', 'agro', 'a-sketch', 'sorrow', '1900', 'cylinder', 'crowning', 'en', 'onbiker', 'ju', 'angelina', 'a50', 'civilisation', 'candelabra', 'cori', 'bass', 'vice', 'cycling', 'western', 'forebay', 'penne', 'tussle', 'defenseman', 'hamper', 'itsera', 'transit', 'tramline', 'autoimmune', 'boulder', 'glasshouse', 'roof', 'guardsman', 'sq', '4x200m', 'asbass', 'millennium', 'pediatrician', 'e24', 'media', 'standard', 'enactment', 'locator', 'thaw', 'pinpoint', 'housewife', 'eyewear', 'gunman', 'lengthwise', 'costar', 'centerpiece', 'brawl', 'a5', 'setter', 'talisman', 'possibility', 'breathe', 'cane', 'mahjong', 'spade', 'preorder', 'markedaverage', 'ratesbritish', 'swimmer', 'acollege', 'founder', 'meansdwarf', 'capacitive', 'navratri', '300er', 'winterbomb', 'cng', 'engraving', 'c1500', 'watchednothing', 'memento', 'hospice', 'ish', 'stationary', 'clash', 'ode', 'birding', 'latex', 'playing50', '45', 'hide', 'opportunity', 'tagging', 'dmu', 'sandblasting', 'theticket', 'socio', 'minister', 'boom', 'skatepark', 'preposition', 'fang', 'vegetation', 'gumbo', 'tweedy', 'filet', 'subscription', 'penchant', 'sweetness', 'diesel', 'florin', 'troupe', 'diffusing', 'smith', 'cockney', 'forperson', 'orchard', 'fruit.', 'alapuzha', 'wantedyellow', 'snowmen', 'enjoyment', 'creep', 'a-cart', 'community', 'watercraft', 'ease', '64th', 'att', 'skimming', 'trulli', 'grandma', 'stemless', 'shadow', 'im', 'whip', 'frome', 'terrazzo', 'chico', 'happiness', 'hunt', 'assortment', 'mattie', 'analogue', 'defect', 'boardroom', 'aroma', 'brass', 'rutting', 'midas', 'roadster', 'c1835', 'major', 'glinda', 'shedding', 'anif', 'safelycamouflage', 'outputting', 'baptismal', 'theself', 'Thursday', 'player05', 'flagstone', 'sandy', 'bolshaya', 'brain', 'lining', 'glacier', 'radiating', 'talkie', 'rioter', 'cast', 'lacy', 'sen', 'chapter', '150lb', 'duplicate', 'catering', 'situation', 'inquire', 'silver', 'muralist', 'xxuhever', '4x400', 'aqd', 'audi', 'online', 'fight.', 'tweak', 'aftermath', 'forthriller', 'd.i.y.', 'beautician', 'lambing', 'deputy', 'theatreat', 'furry90', 'hairpin', 'baseman', 'pressure', \"o'connor'\", 'mothering', 'knuckle', 'spoonbill', 'traveling', 'carpet', 'omg', 'astride', 'kart', 'reptile', 'professor', 'a-wait', 'quote', 'nose', 'eloping', 'bushwalking', 'labeledanimal', 'blonde', 'radiate', 'skin', 'musician', 'magnitude', 'fellowship', 'immune', 'saysdo', 'servicing', 'towardsbuddhist', 'discussingretail', 'wallflower', 'remembrance', 'kerchief', 'mandarin', 'viewing', 'shaker', 'a-200mm', 'ding', 'holiday.', 'laundromat', 'aboutperson', 'ben', 'thewindow', 'chevrolet', \"16'x35\", 'park.', 'tommie', 'technics', 'outerwear', 'cent', 'rex', 'treadle', 'floodwater', 'tickle', 'woof', 'knock', 'andstyle', 'repose', 'gestation', 'leasehold', 'pearlescent', 'monolith', \"fashion's70\", 'wave', 'pain', 'daddy', 'toad', 'apothecary', 'crinoline', 'moissanite'}\n"
     ]
    }
   ],
   "source": [
    "print(total_objects)"
   ]
  },
  {
   "cell_type": "markdown",
   "metadata": {
    "id": "lMvs_tHrQ_4y"
   },
   "source": [
    "For the validation split"
   ]
  },
  {
   "cell_type": "code",
   "execution_count": 18,
   "metadata": {
    "id": "ugGRwWapRCys"
   },
   "outputs": [],
   "source": [
    "SAVE_SPLITS = list(range(0, len(prompts_val), SAVE_AFTER)) # Figure out the sentences in each split\n",
    "if SAVE_SPLITS[-1] < (len(prompts_val) - 1):\n",
    "  SAVE_SPLITS.append(len(prompts_val)) # Adding the last split boundary to be the final index of the prompts to make sure the boundaries work when subsetting later"
   ]
  },
  {
   "cell_type": "code",
   "execution_count": 19,
   "metadata": {
    "colab": {
     "base_uri": "https://localhost:8080/"
    },
    "id": "IhTuA9i1RNg1",
    "outputId": "c52a5ed5-c82f-447e-e727-d0ad015e27c2"
   },
   "outputs": [
    {
     "name": "stdout",
     "output_type": "stream",
     "text": [
      "Starting...\n",
      "Captions to be processed: 15840\n",
      "Number of splits to be processed: 2\n"
     ]
    },
    {
     "name": "stderr",
     "output_type": "stream",
     "text": [
      "\r",
      "  0%|                                                     | 0/2 [00:00<?, ?it/s]"
     ]
    },
    {
     "name": "stdout",
     "output_type": "stream",
     "text": [
      "Subset No. 1\n",
      "Processing captions...\n",
      "Updating captions...\n"
     ]
    },
    {
     "name": "stderr",
     "output_type": "stream",
     "text": [
      "\n",
      "10000it [00:00, 1520887.66it/s]\n",
      " 50%|██████████████████████▌                      | 1/2 [00:41<00:41, 41.69s/it]"
     ]
    },
    {
     "name": "stdout",
     "output_type": "stream",
     "text": [
      "\n",
      "\n",
      "***INFO***\n",
      "Captions Processed: 10000\n",
      "Number of objects detected so far: 4291\n",
      "\n",
      "Saving...\n",
      "Saved and Finished Processing...\n",
      "Subset No. 2\n",
      "Processing captions...\n",
      "Updating captions...\n"
     ]
    },
    {
     "name": "stderr",
     "output_type": "stream",
     "text": [
      "\n",
      "5840it [00:00, 1417847.61it/s]\n",
      "100%|█████████████████████████████████████████████| 2/2 [01:05<00:00, 32.69s/it]"
     ]
    },
    {
     "name": "stdout",
     "output_type": "stream",
     "text": [
      "\n",
      "\n",
      "***INFO***\n",
      "Captions Processed: 15840\n",
      "Number of objects detected so far: 5071\n",
      "\n",
      "Saving...\n",
      "Saved and Finished Processing...\n"
     ]
    },
    {
     "name": "stderr",
     "output_type": "stream",
     "text": [
      "\n"
     ]
    }
   ],
   "source": [
    "total_objects = set() # Stores the total number of distinct objects detected\n",
    "num_objects_detected = list() # Stores number of objects detected after processing some number of prompts iteratively\n",
    "caption_data_val_file = {'annotations':[]} # For storing results\n",
    "\n",
    "print('Starting...')\n",
    "print('Captions to be processed:', len(prompts_val))\n",
    "print('Number of splits to be processed:', len(SAVE_SPLITS)-1)\n",
    "\n",
    "for i in tqdm(range(len(SAVE_SPLITS)-1)):\n",
    "\n",
    "  print(f'Subset No. {i+1}')\n",
    "  curr_split_data = prompts_val[SAVE_SPLITS[i]:SAVE_SPLITS[i+1]] # Current split of data\n",
    "  print('Processing captions...')\n",
    "  processed_val = clean_prompt(curr_split_data) # start processing the train captions subset\n",
    "  print(f'Updating captions...')\n",
    "  # Processing each prompt and updating annotation file for train set\n",
    "  update_data = [{'caption': prompt} for prompt in curr_split_data]\n",
    "  cleaned_prompts, object_prompts = processed_val\n",
    "  for idx, prompt in tqdm(enumerate(zip(cleaned_prompts, object_prompts))):\n",
    "    cleaned, objects = prompt # Process prompt\n",
    "    # update files and object list\n",
    "    update_data[idx]['cleaned'] = cleaned\n",
    "    update_data[idx]['objects'] = objects\n",
    "    total_objects.update(set(objects))\n",
    "    \n",
    "  print()\n",
    "  print()\n",
    "  print('***INFO***')\n",
    "  print('Captions Processed:', SAVE_SPLITS[i+1])\n",
    "  print('Number of objects detected so far:', len(total_objects))\n",
    "  num_objects_detected.append(len(total_objects))\n",
    "  print()\n",
    "\n",
    "  caption_data_val_file['annotations'].extend(update_data) # updating the data for saving\n",
    "  print('Saving...')\n",
    "\n",
    "  # Save the processed captions data so far\n",
    "  with open(os.path.join(PATH, 'Data-Captions/GCC/val-captions-processed.json'), 'w') as outfile: # Save Results in json\n",
    "    outfile.write(json.dumps(caption_data_val_file, indent=4))\n",
    "\n",
    "  # Save the objects detected info so far\n",
    "  with open(os.path.join(PATH, 'Data-Captions/GCC/val-objects.json'), 'w') as outfile: # Saving Total objects in json\n",
    "    outfile.write(json.dumps({'objects': list(total_objects), 'num_objects': num_objects_detected}, indent=4))\n",
    "\n",
    "  print('Saved and Finished Processing...')"
   ]
  },
  {
   "cell_type": "code",
   "execution_count": 20,
   "metadata": {
    "colab": {
     "base_uri": "https://localhost:8080/"
    },
    "id": "jlrSnDEoC2FM",
    "outputId": "1d119f79-7595-47b0-aa3d-dfadd70ef821"
   },
   "outputs": [
    {
     "name": "stdout",
     "output_type": "stream",
     "text": [
      "{'turquoise', 'ambulance', 'department', 'pear', 'troops', 'paradise', 'comedian', 'lift', 'bas', 'design', 'northwest', 'clothing', 'basin', 'couch', 'birdhouse', 'carton', 'manicure', 'trays', 'classmate', 'city', 'animation', 'circumference', 'ministry', 'marmalade', 'petition', 'referee', 'graph', 'goof', 'hanging', 'sale', 'states', 'oath', 'beverage', 'ballet', 'afternoon', 'lack', 'collage', 'bust', 'passenger', 'centenary', 'rope', 'bathroom', 'buck', 'pharmacist', 'headline', 'metre', 'tow', 'banana', 'matzo', 'toddler', 'outing', 'temenos', 'diva', 'test', 'crab', 'moose', 'money', 'affair', 'hen', 'Wednesday', 'London', 'menu', 'feeding', 'telecaster', 'gluten', 'burning', 'flamingo', 'case', 'women', 'kea', 'supermarket', 'grandstyle', 'tumbler', 'patrol', 'mantis', 'analysis', 'handout', 'nativity', 'fjord', 'age', 'pattern', 'sit', 'solitude', 'lace', 'snowboarder', 'southwest', 'close', 'seaplane', 'handlebar', 'referendum', 'medium', 'bighorn', 'handle', 'geography', 'cocktail', 'statesman', 'haircut', 'demonstrator', 'cityscape', 'delegate', 'commencement', 'hint', 'slum', 'globe', 'crisis', 'stool', 'jasmine', 'function', 'mailbox', 'sandstone', 'candidate', 'microwave', 'bundle', 'container', 'palace', 'saffron', 'carrot', 'polymer', 'reveller', 'embrace', 'partner', 'pilgrimage', 'winery', 'chalk', 'politics', 'graduate', 'birch', 'Nainital', 'importance', 'billiard', 'stitch', 'risk', 'Figure', 'rockin', 'tong', 'arrest', 'bun', 'depot', 'lego', 'q', 'groove', 'ambition', 'rescue', 'buckle', 'cardinal', 'person', 'duty', 'chalet', 'freight', 'barge', 'kitchen', 'souvenir', 'aerial', 'neck', 'volume', 'blue', 'talking', 'cure', 'bbq', 'shot', 'flat', 'suv', '#', 'speech', 'ecology', 'cruise', 'paleo', 'belfry', 'dam', 'villager', 'exile', 'symbol', 'taxi', 'samurai', 'watercolour', 'puppet', 'restoration', 'physics', 'lifeboat', 'paintbrush', 'baggage', 'vest', 'scaffolding', 'mos', 'appeal', 'calf', 'waterline', 'organiser', 'living', 'origami', 'detective', 'peony', 'goodbye', 'crossover', 'backlash', 'vineyard', 'grille', 'downstairs', 'forecourt', 'maize', 'giant', 'transporter', 'deep', 'struggle', 'stride', 'swamp', 'militant', 'persona', 'ex', 'plumbing', 'frying', 'coastline', 'access', 'handball', 'lilly', 'thinking', 'greenery', 'slide', 'slate', 'minute', 'mantel', 'shoe', 'fragrance', 'calculator', 'granddaughter', 'drinking', 'brighton', 'nod', 'surprise', 'role', 'menswear', 'galley', 'knitting', 'paste', 'raincoat', 'wallet', 'performance', 'backdrop', 'wharf', 'waiter', 'scarecrow', 'calendar', 'ginko', 'springer', 'booze', 'plow', 'visual', 'defeat', 'decade', 'mouse', 'heel', 'grout', 'meatball', 'mathematician', 'confluence', 'barrier', '2010s', 'thanks', 'desk', 'waistcoat', 'prince', 'balance', 'rickshaw', 'icicle', 'flap', 'relation', 'neighbor', 'salami', 'grid', 'easel', 'wording', 'crane', 'attendance', 'rat', 'cinema', 'resident', 'raccoon', 'escalator', 'praise', 'rebound', 'sill', 'parasol', 'garland', 'effort', 'soldier', 'bamboo', 'courtroom', 'nursery', 'surfer', 'faith', 'context', 'terminus', 'goose', 'wing', 'businessman', 'aid', 'slab', 'scuba', 'parade', 'veteran', 'usage', 'bartender', 'racing', 'sum', 'thunderstorm', 'clove', 'grave', 'freezer', 'candle', 'kite', 'piston', 'zomby', '3d', 'discussion', 'survivor', 'pile', 'wheel', 'island', 'megaphone', 'mercy', 'oscar', 'survival', 'trooper', 'cultivation', 'incident', 'panorama', 'convertible', 'bowtie', 'investigation', 'royal', 'laurel', 'indoor', 'carousel', 'president', 'lobster', 'sea', 'boarding', 'treatment', 'birthplace', 'behavior', 'fridge', 'preparation', 'pro', 'alpaca', 'hallway', 'taping', 'eyeglass', 'population', 'seal', 'teen', 'alpacas', 'custom', 'truck', 'round', 'bed', 'storm', 'staple', 'cling', 'graffiti', 'maxima', 'municipality', 'hydrangea', 'hat', 'tent', 'computer', 'bakery', 'debris', 'extension', 'horizon', 'revolution', 'tee', 'hare', 'sitcom', 'presenter', 'summary', 'puppy', 'brick', 'speedometer', 'scientist', 'bedding', 'veil', 'plantation', 'yang', 'redneck', '20l', 'mode', 'drill', 'racket', 'graduation', 'captivity', 'quartz', 'delivery', 'blank', 'wetsuit', 'seeding', 'colouring', 'figurine', 'destination', 'ho', 'maxi', 'commerce', 'caravan', 'molding', 'pixel', 'flower', 'reader', 'may', 'glide', 'picnic', 'box', 'learning', 'disability', 'facility', 'description', 'browny', 'sandwich', 'holly', 'racetrack', 'maiden', 'advice', 'purple', 'hay', 'tail', 'snake', 'complaint', 'classic', 'kilometre', 'surf', 'escape', 'launching', 'softball', 'doorstep', 'cube', 'governor', 'climb', 'load', 'finalist', 'coral', 'fern', 'cellar', 'bulldog', 'capture', 'biceps', 'belt', 'casualty', 'salute', 'steward', 'salt', 'marriage', 'whale', 'newspaper', 'capability', 'gin', 'queen', '18th', 'nature', 'throw', 'detector', 'liberty', 'triathlete', 'feat', 'alphabet', 'pitcher', 'meal', 'stay', 'passageway', 'masterpiece', 'closeup', 'cellphone', 'swirl', 'waterfall', 'warmth', 'cargo', 'matte', 'navigating', 'shell', 'annual', 'kill', 'spruce', 'fis', 'raindrop', 'pony', 'vinyl', 'kindergarten', 'pant', 'pig', 'trainer', 'editor', 'wild', 'fitness', 'hedgehog', 'headpiece', 'mural', 'highlight', 'behalf', 'raman', 'tapestry', 'camper', 'difference', 'girder', 'motorcyclist', 'fatigue', 'contestant', 'belly', 'vulture', 'mockup', 'fence', 'rowboat', 'spotlight', 'ping', 'perfection', 'enclosure', 'attraction', 'overtime', 'entertainment', 'dancing', 'recognition', 'shower', 'airship', 'bridal', 'ballroom', 'collision', 'cartoon', 'fairytale', 'hundred', 'shop', 'contrast', 'popcorn', 'tray', 'working', 'attack', 'chrome', 'huddle', 'equalizer', 'sculptor', 'bluegrass', 'bloodshot', 'whole', 'grape', 'tonne', 'numeral', 'health', 'dahlia', 'aesthetics', 'falls', 'cross', 'screenshot', 'corn', 'tank', 'fundraiser', 'infinity', 'checkpoint', 'vanilla', 'voting', 'shark', 'acre', 'rush', 'grandfather', 'congratulation', 'politician', 'maternity', 'revelation', 'goddess', 'de-lis', 'brunch', 'patience', 'raft', 'guardian', 'beaker', 'vent', 'pallet', 'vanity', 'cell', 'uk', 'seafront', 'mountaintop', 'autograph', 'drawer', 'poncho', 'cause', 'barber', 'clown', 'glade', 'story', 'dummy', 'lab', 'crayon', 'puma', 'fire', 'laden', 'umbrella', 'unearthedsea', 'plaster', 'mixing', 'contract', 'preach', 'fleur', 'ss15', 'drawing', 'election', 'carol', 'sleigh', 'death', 'jump', 'knocker', 'roast', 'dating', 'calve', 'wad', 'sailing', 'sense', 'businesspeople', 'purse', 'object', 'vegetable', 'guide', 'pie', 'carp', 'mark', 'paddock', 'spokesman', 'splinter', 'chaos', 'volcano', 'strike', 'hectare', 'c', 'hammer', 'crash', 'mass', 'book', 'wanderlust', 'portal', 'observatory', 'outlook', 'spit', 'noodle', 'moment', 'base', 'wig', 'bid', 'visitor', 'bangle', 'singles', 'litre', 'turtle', 'face', 'retreat', 'blood', 'purpose', 'vibe', 'cot', 'vector', 'workout', 'upside', 'dof', 'morning', 'advertising', 'splash', 'fungus', 'spring', 'dumpster', 'carving', 'uv', 'league', 'sandbox', 'master', 'ballerina', 'display', 'dryer', 'compass', 'jamb', 'knowledge', 'promise', 'suitcase', 'flagpole', 'droplet', 'takeout', 'mister', 'stem', 'filming', 'stand', 'ip65', 'closet', 'truth', 'tendril', 'bus', 'gauge', 'program', 'hike', 'conflict', 'mess', 'patio', 'muscle', 'cloud', 'kayaking', 'fix', 'photoshop', 'eggplant', 'galaxy', 'ofcherry', 'movement', 'inflammation', 'post', 'grandparent', 'podium', 'roofer', 'residence', 'solidarity', 'marker', 'audience', 'lorry', 'adherent', 'commercial', 'mallard', 'nail', 'faux', 'lense', 'collaboration', 'campground', 'ink', 'bookstore', 'mechanic', 'soccer', 'pastry', 'pope', 'hatchback', 'treasure', 'styling', 'cuff', 'tangle', 'electricity', 'archive', 'consumer', 'plot', 'cry', 'factory', 'tone', 'dose', 'ktm', 'glow', 'fly', 'wallpaper', 'birthday', 'ukulele', 'cleaner', 'popularity', 'journal', 'symphony', 'documentation', 'postage', 'participant', 'batsman', 'insignia', 'yuan', 'ideology', 'spread', 'essential', 'mission', 'security', 'conductor', 'swinging', 'terror', 'sailboat', 'demand', 'nighttime', 'airplane', 'fennel', 'England', 'ranger', 'yacht', 'stamp', 'meaning', 'publicist', 'wheelie', 'metro', 'buddha', 'intention', 'dry', 'similarity', 'level', 'jetty', 'courtyard', 'dahlias', 'td', 'bench', 'midmorning', 'influx', 'formula', 'rock', 'prohibition', 'musical', 'airman', 'toucan', 'springtime', 'lifestyle', 'discount', 'task', 'decal', 'marking', 'printable', 'avenue', 'emblem', 'tunnel', 'kilometer', 'miniature', 'hiking', 'decoration', '100', 'drone', 'fat', 'chocolate', 'bubble', 'tiara', 'arcade', 'squadron', 'portrait', 'writing', 'chiffon', '1990', 'lion', 'owl', 'cedar', 'dapper', 'summer', 'surroundings', 'edge', 'stethoscope', 'need', 'therapy', 'instruction', 'pendant', 'stonework', 'skirt', 'conservatory', 'cormorant', 'opinion', 'guidance', 'july', 'paddle', 'jeep', '50', 'father', 'tarmac', 'poetry', 'brownie', 'device', 'whiteboard', 'eating', 'coffee', 'spine', 'sticker', 'desire', 'calculation', 'capitol', 'burnout', 'bottom', 'clipper', 'peacock', 'envy', 'footstep', 'pylon', 'law', 'opera', 'luxury', 'project', 'harness', 'rubble', 'cookbook', 'gulf', '70', 'tripod', 'zombie', 'gavel', 'clipboard', 'beer', 'remains', 'domain', 'warship', 'molecule', 'continent', 'organ', 'rank', 'cooling', 'migration', 'Los', 'residency', 'adoption', 'skincare', 'rule', 'dope', 'draw', 'dealer', 'jigsaw', 'beholder', 'bill', 'coaster', 'style', 'diet', 'treat', 'porch', 'electronica', 'custody', 'clothes', 'footprint', 'exhibit', 'sxsw', 'waterhole', 'cabbage', 'trade', 'strength', 'centimetre', 'bond', 'fill', 'vane', 'iris', 'waiting', 'daughter', 'minimalist', 'photograph', 'medina', 'cardigan', 'backcountry', 'basilica', 'plumage', 'physician', 'chive', 'foamy', 'cider', 'fairy', 'list', 'buyer', 'campfire', 'swing', 'bracket', 'sentence', 'descent', 'picture', 'flash', 'guilt', 'sort', 'pacifier', 'steering', 'lt', 'eagle', 'finances', 'pomeranian', 'jersey', 'helper', 'hill', 'nomination', 'tier', 'hippo', 'resource', 'veterinary', 'embassy', 'shooting', 'configuration', 'hum', 'snowfall', 'property', 'serving', 'nutmeg', 'loft', 'making', 'environment', 'make', 'twist', 'jade', 'refugee', 'tongue', 'variety', 'auto', 'holder', 'recipe', 'operating', 'jogger', 'leave', 'maintenance', 'bullock', 'orchid', 'metal', 'mole', 'prayer', 'monastery', 'snowman', 'pergola', 'yourclean', 'loaf', 'fisher', 'today', 'depiction', 'worth', 'shading', 'strapless', 'depth', 'wasp', 'theatre', 'underpass', 'january', 'poster', 'option', 'spinning', 'fps', 'industry', 'authority', 'producer', 'hippopotamus', 'booklet', 'procession', 'chat', 'stray', 'median', 'breed', 'constellation', 'canal', 'errand', 'engineering', 'cabin', 'minifigure', 'fishing', 'stir', 'uncle', 'tortoise', 'subspecy', 'compartment', 'coronation', 'coaching', 'bug', 'laemmle', 'switch', 'gem', 'jazz', 'child', 'seasoning', 'sheriff', 'tourist', 'steeple', 'flavor', 'astronaut', 'admirer', 'sphinx', 'teaching', 'ladder', 'stick', 'mold', 'surround', 'preseason', 'demolition', 'ad', 'advantage', 'bridle', 'humanity', 'porta', 'vicinity', 'sidecar', 'achievement', 'figure', 'accommodation', 'oat', 'locker', 'spell', 'tie', 'parrot', 'formation', 'example', 'pork', 'radish', 'detail', 'window', 'bin', 'headland', 'mansion', 'mom', 'proceed', 'heaven', 'foil', 'keyboard', 'funding', 'century', 'propeller', 'violence', 'hero', 'canoe', 'mobility', 'blueprint', 'v8', 'Tuesday', 'cathedral', 'shirt', 'planet', 'toaster', 'elopement', 'repellant', 'disaster', 'ft.', 'pasture', '12th', 'ambiance', 'thing', 'university', 'petting', 'oil', 'coyote', 'support', 'reading', 'herd', 'uber', 'concrete', 'bread', 'barn', 'grooming', 'September', 'urn', 'busker', 'rally', 'disc', 'gridlock', 'final', 'candy', 'broccoli', 'showstopper', 'play', 'corporal', 'esplanade', 'delicatessen', 'hunter', 'newlywed', 'salad', 'bearer', 'laptop', 'side', 'biscuit', 'rafter', 'mascara', 'seawall', 'alarm', 'illustration', 'anime', 'shrimp', 'input', 'crop', 'music', 'peanut', 'pillow', '1980', 'champion', 'marigold', 'band', 'county', 'chariot', 'sardine', 'emperor', 'hamburger', 'puck', 'corporation', 'estate', 'horn', 'season', 'amphitheater', 'outrage', 'stream', 'dill', 'remodeling', 'starlet', 'dog', 'harm', 'man', 'arena', 'pagoda', 'magician', 'overhead', 'thermometer', 'bobcat', 'draft', 'phrase', 'nap', 'adventure', 'photovoltaic', 'zambezi', 'scotch', 'bra', 'ripple', 'bucket', 'ethnicity', 'spacewalk', 'executive', 'quantity', '80s', 'bare', 'cheekbone', 'chimpanzee', 'mud', 'medal', 'clipping', 'supply', 'lying', 'caterpillar', 'curtain', 'armor', 'eclipse', 'ship', 'ring', 'dish', 'direction', 'handler', 'aviator', 'hoppin', 'location', 'ridge', 'stilt', 'form', 'biology', 'gravel', 'knockout', 'buzz', 'rs', 'coast', 'golf', 'sack', 'closing', 'pram', 'convention', 'get', 'maker', 'progress', 'dress', 'piano', 'vogue', 'cameo', 'cooperation', 'enamel', 'changing', 'chandelier', 'benz', 'macro', 'tradition', 'august', 'cream', 'boxer', 'mauve', 'horseshoe', 'android', 'return', 'pool', 'lightbulb', 'the80', 'appearance', 'gas', 'goggle', 'hybrid', 'mathematics', 'cake', 'site', 'disguise', 'arrangement', 'gargoyle', 'adobe', 'foot', 'receipt', 'thousand', 'willow', 'competition', 'silhouette', 'growth', 'wheat', 'playhouse', 'orbit', 'farmyard', 'munchkin', 'putt', 'mould', 'merchant', 'moon', 'row', 'discipline', 'eve', 'war', 'pajamas', 'mr', 'bodybuilder', 'avatar', 'card', 'cellist', 'vaulting', 'thumbnail', 'swarm', 'ocean', 'water', 'shelf', 'day', 'betweenarea', 'healthcare', 'heat', 'operator', 'initiative', 'grade', 'hack', 'caging', 'imperfection', 'scar', 'peninsula', 'picket', 'shepherd', 'airline', 'blitz', 'theory', '959', 'summit', 'trough', 'cricketer', 'salmon', 'democracy', 'digger', 'buy', 'leopard', 'future', 'bride', 'representative', 'acrylic', 'credit', 'range', 'temple', 'pad', 'live', 'winner', 'ticket', 'winger', 'mannequin', 'dimension', 'apparatus', 'headboard', 'disco', 'camp', 'espresso', 'rage', 'testimony', 'hut', 'examination', 'limit', 'syrup', 'blazer', 'retail', 'fox', 'respect', 'rust', 'offroad', 'briefing', 'saying', 'exhibition', 'student', 'rainfall', 'trend', 'stop', 'vocalist', 'I', 'spelling', 'road', 'brow', 'vista', 'mausoleum', 'teal', 'assistant', 'collar', 'superman', 'seabed', 'festival', 'dolly', 'youth', 'work', 'startup', 'quart', 'organisation', 'equipment', 'handshake', 'weathering', 'rainforest', 'flock', 'multiplayer', 'a-panel', 'flute', 'martin', 'airmen', 'barbershop', 'downtown', 'gourd', 'nun', 'departure', 'painting', 'eyebrow', 'webcam', 'mantle', 'python', 'climate', 'doughnut', 'mini', 'prosperity', 'plenty', 'flagship', 'contingent', 'tummy', 'landscape', 'harvest', 'arm', 'enlightenment', 'freeway', 'action', 'forward', 'monarch', 'environmentalist', 'bourbon', 'helicopter', 'fundraising', 'zip', 'aisle', 'eyelash', 'though', 'circus', 'addition', 'pinch', 'flight', 'spree', 'area', 'artifact', 'evolution', 'motorist', 'dancer', 'kitchenware', 'divider', 'abstract', 'dna', 'corruption', 'automobile', 'throwback', 'rig', 'chihuahua', 'lock', 'nurse', 'romance', 'autumn', 'laugh', 'bathtub', 'typewriter', 'outdoors', 'blizzard', 'revival', 'peel', 'doubt', 'religion', 'berry', 'tulip', 'whimsy', 'emotion', 'tape', 'transport', 'kitty', 'passport', 'safety', 'blossom', 'groomsmen', 'oak', 'prison', 'hurdle', 'part', 'hand', 'marshmallow', 'use', 'phantom', 'wicket', 'knife', 'birth', 'rivalry', 'proof', 'fun', 'text', 'wardrobe', 'poem', 'barbell', 'military', 'lap', 'parent', 'traveller', 'sundown', 'cheek', 'glass', 'farmer', 'block', 'pillar', 'funicular', 'over-pant', 'barrel', 'wristwatch', 'breeding', 'implementation', 'driverless', 'footballer', 'tribute', 'croissant', 'parking', 'commuter', 'chestnut', 'hairstyle', 'agriculture', 'yard', 'bison', 'hood', 'topping', 'roadside', 'pit', 'angle', 'knit', 'piece', 'blackberry', 'gutter', 'completion', 'press', 'river', 'temperature', 'firefighter', 'collie', 'dubstep', 'storage', 'boardwalk', 'hydrant', 'assignment', 'playing', 'ornamentation', 'keel', 'garment', 'stupa', 'meter', 'chinchilla', 'scenery', 'run', 'point', 'spirit', 'dealership', 'skating', 'banyan', 'waffle', 'ray', 'antique', 'portico', 'glassware', 'id', 'microscope', 'panther', 'occasion', 'warning', 'thigh', 'astronomy', 'itinerary', 'fantasy', 'jellyfish', 'friendly', 'job', 'rink', 'roller', 'collector', 'factor', 'capacity', 'décor', 'ball', 'subtracting', 'language', 'table', 'percentage', 'kangaroo', 'tram', 'guard', 'worry', 'punt', 'well', 'preliminary', 'bag', 'soap', 'inauguration', 'kiosk', 'cooking', 'march', 'thought', 'palette', 'm3', 'ape', 'jewel', 'burger', 'pond', '1960', 'halftime', 'dan', 'tomorrow', 'windshield', 'horseback', '1850', 'jumpsuit', 'gallon', 'seeker', 'beach', 'caption', 'epic', 'p', 'cue', 'hose', 'landing', 'engagement', 'kaleidoscope', 'alias', 'brake', 'robe', 'course', 'documentary', 'sesame', 'retro', 'wilderness', 'clump', 'coal', 'hoody', 'shield', 'wildlife', 'longline', 'prairie', 'dashboard', 'ton', 'buttress', 'speak', 'slipway', 'salon', 'tasting', 'crack', 'aspen', 'disciple', 'luggage', 'curse', 'turntable', 'playground', 'blueberry', 'hotspot', 'drink', 'rodeo', 'horticultural', 'installment', 'hydraulic', 'patch', 'kick', 'court', 'blackboard', 'orchestra', 'internet', 'airside', 'binocular', 'riot', 'kingpin', 'bargain', 'slot', 'speaker', 'waterproof', 'costume', 'plateau', 'illumination', 'planter', 'towel', 'hate', 'tested70', 'dream', 'downhill', 'jaw', 'anvil', 'adida', 'powder', 'cappuccino', 'sightseeing', 'goat', 'mosquito', 'celebrity', 'padlock', 'gnome', 'blast', 'periodical', 'appliance', 'launch', 'iphone', 'tub', 'creativity', 'hover', 'conference', 'schoolboy', 'essay', 'donut', 'surgeon', 'waterway', 'outside', 'showcase', 'actress', 'barefoot', 'sibling', 'scarf', 'crate', 'liquid', 'pavilion', 'icing', 'piglet', 'aquarium', 'monochrome', 'triangle', 'bib', 'original', 'grow', 'fairway', 'fishmonger', 'venture', 'killing', 'prop', 'appreciation', 'mug', 'mythology', 'canary', 'application', 'pitch', 'wood', 'waitress', 'defender', 'foam', 'radio', 'favorite', 'dash', 'chef', 'corner', 'entryway', 'east', 'prepare', 'flexibility', 'lip', 'pineapple', 'elevator', 'backyard', 'climber', 'insurance', 'curator', 'governing', 'beat', 'protestor', 'plywood', 'foal', 'hoodie', 'orange', 'fungi', 'set', 'ottoman', 'rooster', 'spray', 'breakfast', 'substance', 'chemical', 'gallant', 'order', 'flannel', 'hotel', 'togetherness', 'weaving', 'diagram', 'million', 'halt', 'flag', 'exterior', 'rusty', 'steppe', 'manufacturing', 'pestle', 'station', 'satellite', 'scissors', 'anyone', 'garage', 'blog', 'stump', 'ice', 'petal', 'debut', 'dialogue', 'hem', 'elevation', 'lump', 'format', 'back', 'royalty', 'ferry', 'twin', 'ramp', 'candlestick', 'gray', 'request', 'imprint', 'stress', 'review', 'software', 'tiger', 'bookcase', 'mic', 'cam', 'surgery', 'speedboat', 'restaurant', 'blade', 'embellishment', 'brandenburg', 'narrowboat', 'pastor', 'conglomerate', 'net', 'fetus', 'feel', 'cub', 'excavator', 'koi', 'eco', 'fare', 'golfer', 'dart', 'finish', 'pop', 'doctor', 'protein', 'chic', 'junction', 'prom', 'jet', 'gypsy', 'boot', 'feed', 'blouse', 'fresco', 'theborn', 'current', 'entrant', 'decay', 'tooth', 'sitting', 'flea', 'white', 'pirate', 'spaceship', 'premiere', 'freshman', 'hub', 'boho', 'ham', 'laboratory', 'kin', 'grazing', 'co', 'egg', 'approach', 'duo', 'silverware', 'bullet', 'printer', 'lover', 'adaptation', 'peach', 'answer', 'reveal', 'tea', 'neighbourhood', 'Friday', 'weather', 'dragonfly', 'trail', 'world', 'ufo', 'humpback', 'magnet', 'cold', 'illusion', 'fight', 'lie', 'opening', 'nightclub', 'brightness', 'myth', 'supporter', 'arrival', 'simulator', 'dune', 'reign', 'testing', 'sprinkle', 'aunt', 'puffin', 'human', 'chair', '1880', 'suit', 'novel', 'journalist', 'skull', 'quad', 'scoreboard', 'pride', 'puddle', 'advert', 'somebody', 'stern', 'splendour', 'photographer', 'blush', 'prototype', 'cowboy', 'playroom', 'sprig', 'planning', 'impact', 'stunt', 'creek', 'worm', 'address', 'gasoline', 'midst', 'turban', 'neighborhood', 'employee', 'glider', 'track', 'circulation', 'gs', 'for', 'totem', 'waxwork', 'clothesline', 'po', 'cranberry', 'motorway', 'volunteer', 'yoga', 'alp', 'thrill', 'filler', 'gardening', 'mouth', 'ranch', 'ofa', 'activity', 'penalty', 'traction', 'drummer', 'fairground', 'a-mph', 'female', 'earring', 'crew', 'inlet', 'seventy', 'gratitude', 'currency', 'sigma', 'tube', 'turkey', 'black', 'applause', 'paprika', 'conversion', 'g9er', 'scene', 'promenade', 'viewpoint', 'op', 'peg', 'defenceman', 'market', 'rendering', 'chrysanthemum', 'converse', 'colleague', 'mirror', 'spanner', 'dollar', 'handbag', 'sparkle', 'iron', 'wolf', 'poolside', 'danger', 'dome', 'makeover', 'eraser', 'past', 'account', 'gingerbread', 'hometown', 'quarter', 'gate', 'dvd', 'zoo', 'bloomer', 'exercise', 'banking', 'summertime', 'beef', 'division', 'datum', 'stain', 'government', 'radiation', 'lifesize', 'waterfront', 'produce', 'ski', 'gull', 'chili', 'advance', 'girlfriend', 'curb', 'ward', 'van', 'flipper', 'weed', 'broadcasting', 'investiture', 'vault', 'pearl', 'half', 'clover', 'grassland', 'watersh', 'pensioner', 'commitment', 'exploration', 'coach', 'captain', 'technique', 'sniper', 'jumper', 'replica', 'brush', 'procedural', 'counter', 'rice', 'compliment', 'herb', 'curl', 'marquee', 'texture', 'garbage', 'pay', 'ska', 'framing', 'delay', '1920s', 'termite', 'maze', 'daisy', 'acrobat', 'majority', 'tribe', 'elephant', 'presentation', 'alternative', 'marketplace', 'shingle', 'fossil', 'ingredient', 'pheasant', 'frill', 'martini', 'boater', 'pane', 'shawl', 'farewell', 'way', 'republic', 'scale', 'floor', 'statue', 'fall', 'bow', 'ghost', 'whisky', 'blacksmith', 'premise', 'highway', 'plunge', 'wavy', 'stability', 'wedge', 'oxygen', 'metropolis', 'airfield', 'proposal', 'hardware', 'snap', 'jacket', 'solar', 'sphere', 'lizard', 'slider', 'despair', 'corkscrew', 'smoking', 'cyclist', 'coin', 'warrior', 'lake', 'god', 'win', 'penguin', 'pointer', 'relax', 'boil', 'arrange', 'sledge', 'machine', 'hair', 'minaret', 'cove', 'bull', 'rectangle', 'Monday', 'donation', 'squeezing', 'kitchenette', 'reminder', 'canopy', 'synagogue', 'asphalt', 'sink', 'catcher', 'beggar', 'clasp', 'overview', 'snowflake', 'butter', 'motif', 'freshness', 'sinkhole', 'neon', 'stony', 'cab', 'poodle', 'saint', 'inside', 'cd', 'hardwood', 'alert', 'information', 'tailgate', 'sight', 'lesson', 'lampshade', 'medicine', 'con', 'estuary', 'keyhole', 'wedding', 'anthem', 'inventor', 'lollipop', 'crosswalk', 'husband', 'durian', 'wisdom', 'disappointment', 'sled', 'luck', 'hormone', 'fry', 'dribbling', 'demonstration', 'slip', 'branch', 'heap', 'bullring', 'border', 'thanksgiving', 'sari', 'funday', 'bumper', 'machinery', 'gallery', 'cloister', 'Easter', 'lavender', 'corridor', 'sediment', 'mushroom', 'history', 'nutrition', 'hop', 'woodpecker', 'protection', 'harbor', 'dance', 'valley', 'challenge', 'flesh', 'cup', 'kit', 'specimen', 'dumbbell', 'fusion', 'midi', 'fold', 'halloween', 'bruise', 'moraine', 'mayonnaise', 'ivy', 'clean', 'mat', 'array', 'nothing', 'railway', 'size', 'hanger', 'nightfall', 'can', 'anxiety', 'brace', 'ground', 'twilight', 'isle', 'lamb', 'stake', 'catch', 'assassination', 'skylight', 'staircase', 'pomegranate', 'buttercream', 'skateboarder', 'notebook', 'crest', '3', 'hobbie', 'geese', 'watermelon', 'stairwell', 'flame', 'neckline', 'frosting', 'math', 'looping', 'carnival', 'paragraph', 'chance', 'fog', 'sideways', 'urbanism', 'save', 'pollen', 'process', 'anything', 'oregano', 'creation', 'composite', 'nautilus', 'superhero', 'setup', 'alligator', 'removal', 'coconut', 'stile', 'proportion', 'flora', 'creature', 'foul', 'system', 'standoff', 'flamenco', 'duck', 'interaction', 'lamp', 'autism', 'trench', 'police', 'supermodel', 'installation', 'movie', 'skeleton', 'freehand', 'kilowatt', '1950s', 'wait', 'classroom', 'public', 'cottage', 'instrument', 'safari', 'elf', 'theater', 'smoke', 'unesco', 'emphasis', 'dungeon', 'harp', 'report', 'timber', 'fruit', 'peek', 'ac', 'dugout', 'relic', 'mill', 'dad', 'comedy', 'constitution', 'wreck', 'tackle', 'relationship', 'clock', 'cleaning', 'tomato', 'pollution', 'curly', 'saturday', 'show', 'wildflower', 'authenticity', '4x4', 'plough', 'mist', 'disease', 'preservation', 'conveyor', 'laminate', 'drop', 'contour', 'k', 'boat', 'shape', 'racecar', 'gloss', 'calmer', 'singer', 'staff', 'must', 'priest', 'bloom', 'monk', 'minibus', 'shipwreck', 'pesto', 'twig', 'recall', 'stork', 'kid', 'alight', 'plethora', 'line', 'armadillo', 'construction', 'immigrant', 'shopper', 'drift', 'civilian', 'image', 'lookout', 'rear', 'outfit', 'pinnacle', 'sundial', 'foyer', 'chamber', 'foreground', 'evidence', 'garden', 'seafood', 'listing', 'macaque', 'heal', 'talk', 'photography', 'centre', 'stroll', 'turmeric', 'precinct', 'gang', 'store', 'remodel', 'arty', 'llama', 'a-spin', 'fool', 'hearing', 'waistband', 'article', 'distance', 'drinker', 'feast', 'steel', 'flowering', 'whistle', 'cigarette', 'pelvis', 'pursuit', 'f', 'headlight', 'plank', 'gorge', 'branding', 'sash', 'stuff', 'hobby', 'spice', 'force', 'tailor', 'basket', 'mozzarella', 'crust', 'lemon', 'drug', 'worker', 'video', 'driver', 'serviceman', 'grocery', 'marble', 'fireplace', 'whiskey', 'basic', 'varnish', 'sword', 'element', 'terrain', 'hail', 'hummingbird', 'batch', 'packaging', 'shoreline', 'bomber', 'photo', 'rake', 'cardboard', 'thumb', 'quilt', 'highland', 'defense', 'plain', 'telephone', 'bowl', 'reindeer', 'aircraft', 'pulpit', 'baseball', 'textile', 'marathon', 'sofa', 'cowgirl', 'see', 'pup', 'house', 'room', 'vase', 'pole', 'inspiration', 'power', 'planting', 'foothill', 'rubber', 'antelope', 'cucumber', 'flu', 'gala', 'october', 'headache', 'zone', 'february', 'price', 'deal', 'skateboarding', 'cookie', 'placard', 'celebration', 'reef', 'cuisine', 'checklist', 'robot', 'lunch', 'concert', 'help', 'relief', 'caricature', 'stable', 'tattoo', 'predator', 'lemonade', 'dj', 'potter', 'midfield', 'expression', 'car', 'nebula', 'shock', 'yak', 'mommy', 'entry', 'honeysuckle', 'channel', 'illustrator', 'tuxedo', 'sausages', 'phylum', 'wooden', 'mask', 'handful', 'beauty', 'tonic', 'rampart', 'networking', 'district', 'harry', 'angler', 'home', 'outback', 'trick', 'vandal', 'pull', 'demo', 'absinthe', 'craft', 'nape', 'weapon', 'flood', 'practicality', 'breast', 'cg', 'sequence', 'punk', 'sunbathing', 'common', 'doorway', 'citrus', 'wound', 'theme', 'signature', 'selection', 'cello', 'crossing', 'comic', 'attire', 'maroon', 'yellow', 'fish', 'socket', 'quinoa', 'tuesday', 'confrontation', 'baker', 'stairway', 'cyclone', 'toe', 'clay', 'typeface', '95th', 'apostle', 'journey', 'jail', 'napkin', 'unit', 'prize', 'explosion', 'thebad', 'limestone', 'train', 'independence', 'colonnade', 'milkshake', 'clinic', 'painter', 'leatherstyle', 'pound', 'other', 'bing', 'bit', 'semi', 'racer', 'grin', 'psych', 'influence', 'fist', 'graphic', 'citizen', 'yung', 'curve', 'glare', 'sd', 'snout', 'jpg', 'patina', 'party', 'billionaire', 'duchess', 'general', 'paneling', 'privilege', 'wales', 'oven', 'valentine', 'beekeeper', 'update', 'phenomenon', 'survey', 'courtesy', 'mussel', 'polystyrene', 'wrist', 'slalom', 'da', 'household', 'pilot', 'sushi', 'beam', 'rotation', 'timeout', 'vegan', 'couple', 'ostrich', 'adult', 'pill', 'year', 'attendee', 'publisher', 'crown', 'contact', 'root', 'diner', 'awning', 'marina', 'specialty', 'bollywood', 'college', 'wicker', 'headband', 'yeast', 'laying', 'laundry', 'basis', 'vending', 'runner', 'cheetah', 'number', 'ponytail', 'trimming', 'currant', 'mule', 'tv', 'opposite', 'football', 'lot', 'orientation', '58th', 'zoom', 'mechanism', 'folder', 'alloy', 'mountaineer', 'tapas', 'semifinal', 'firework', 'snow', 'renovation', 'copper', 'electrician', 'eucalyptus', 'package', 'men', 'series', 'production', 'expert', 'stretcher', 'zipper', 'lakefront', 'capital', 'stunner', 'nephew', 'rhombus', 'a80', '%', 'trio', 'screw', 'dolphin', 'initial', 'dog.', 'briefcase', 'beetroot', 'target', 'crochet', 'habitat', 'afterparty', 'sketch', 'scrum', 'flip', 'dung', 'honor', 'tropic', 'skater', 'drystone', 'diaper', 'steam', 'bead', 'cycle', 'radar', 'member', 'sixty', 'plaza', 'zodiac', 'brochure', 'economy', 'universe', 'messenger', 'minivan', 'mast', 'biplane', 'loung', 'hibiscus', 'reunion', 'technology', 'veranda', 'front', 'rollerblading', 'pizza', 'screenwriter', 'banknote', 'volleyball', 'pedestal', 'host', 'architect', 'stalk', 'junkyard', 'receive', 'wrap', 'heptathlon', 'elve', 'craftsman', 'glory', 'grader', 'license', 'countryside', 'sucker', 'travels', 'anemone', 'slant', 'flurry', 'treadmill', 'bonfire', 'hip', 'key', 'butterfly', 'lathe', 'pixie', 'mountainside', 'good', 'dorm', 'beak', 'stomping', 'pace', 'interception', 'ventilation', 'phoenix', 'cork', 'backpack', 'symbolism', 'encounter', 'foundation', 'Pointe', 'cigar', 'businessperson', 'washer', 'caution', 'insect', 'phase', 'sadness', 'cop', 'backpacker', 'flour', 'thrift', 'pickup', 'award', 'spare', 'north', 'eave', 'hue', 'forge', 'bracelet', 'bunch', 'everything', 'turn', 'gesture', 'trumpet', 'watch', 'ceremony', 'signing', 'cheer', 'wasteland', 'pianist', 'lord', 'ant', 'school', 'horse', 'tin', 'lobby', 'rest', 'walker', 'landlord', 'bird', 'hulk', 'iguana', 'hour', 'shovel', 'episode', 'coloring', 'shipyard', 'tide', 'bottle', 'intersection', 'subject', 'specialist', 'species', 'patient', 'doll', 'mate', 'overlook', 'question', 'rainbow', 'reinforcement', 'commission', 'tributary', 'seashore', 'sport', 'ft', 'squad', 'attic', 'game', 'inferno', 'organism', 'museum', 'leather', 'male', 'battle', 'backstage', 'driftwood', 'loafer', 'sneaker', 'composer', 'shutter', 'developer', 'knot', 'moustache', 'stitching', 'monkey', 'swimwear', 'ferris', 'amount', 'pal', 'fetch', 'excitement', 'casino', 'toy', 'budget', 'glasses', 'suspender', 'recruit', 'nine', 'rooftop', 'coarse', 'parcel', 'gap', 'midsummer', 'nursing', 'halter', 'blaze', 'plan', 'la', 'take', 'parlor', 'check', 'chunk', 'Push', 'sy', 'linebacker', 'lane', 'horned', 'diy', 'nerve', 'occupation', 'salsa', 'bob', 'gender', 'philosopher', 'midwife', 'melody', 'Mod', 'competitor', 'barricade', 'enforcement', 'chopping', 'loom', 'sauce', 'outhouse', 'symptom', 'marinade', 'curling', 'skyscraper', 'hangar', 'lifetime', 'mar', 'rim', 'tis', 'chaise', 'infrastructure', 'loop', 'energy', 'memory', 'advertisement', 'trophy', 'cash', 'fin', 'vehicle', 'reserve', 'scratch', 'teens', 'woman', 'campus', 'increase', 'belonging', 'studio', 'barley', 'customer', 'drainage', 'boy', 'pigeon', 'color', 'relay', 'facebook', 'latitude', 'paddling', 'shortcake', 'honey', 'brother', 'recording', 'mosque', 'chemist', 'wonder', 'tipping', 'manual', 'brooch', 'identity', 'glamour', 'motorcycle', 'spoon', 'manga', 'saxophone', 'source', 'interest', 'violin', 'pipeline', 'winter', 'rose', 'downpour', 'code', 'pocket', 'monsoon', 'punch', 'voice', 'iceberg', 'euro', 'playoff', 'inspection', 'lighting', 'texting', 'smiley', 'chore', 'pistol', 'poker', 'mind', 'weighing', 'stone', 'rise', 'sock', 'forecast', 'leaf', 'jolly', 'wire', 'fives', 'alley', 'cheeseburger', 'aspect', 'denmark', 'sweat', 'square', 'seaweed', 'almond', 'month', 'weeknight', 'dinner', 'section', 'follower', 'website', 'a.d.', 'versus', 'frigate', 'fuel', 'interview', 'mustache', 'deer', 'axis', 'minimalism', 'holiday', 'beau', 'salesman', 'milling', 'explanation', 'wintertime', 'muffin', 'soybean', 'visit', 'starting', 'hassle', 'call', 'label', 'privacy', 'rod', 'pleat', 'something', 'stadium', 'skillet', 'mummy', 'orphanage', 'electro', 'column', 'tourism', 'sailor', 'koa', 'tile', 'transportation', 'race', 'reason', 'couture', 'enthusiast', 'damage', 'tractor', 'street', 'motion', 'spin', 'souk', 'peep', 'santa', 'crystal', 'lodge', 'anniversary', 'aviary', 'franchise', 'passing', 'scandal', 'teacher', 'equestrian', 'woollen', 'excavation', 'teacup', 'onstage', 'no.', 'dumping', 'hole', 'grey', 'height', 'clan', 'impression', 'laser', 'value', 'clearance', 'riverbank', 'handkerchief', 'guest', 'study', 'dessert', 'inhabitant', 'circle', 'gram', 'buffet', 'headphone', 'medication', 'canyon', 'headquarters', 'pa', 'velvet', 'complexion', 'sapphire', 'balloon', 'poplar', 'fiancé', 'lettering', 'smartphone', 'tentacle', 'regeneration', 'mock', 'cog', 'pebble', 'lattice', 'therapist', 'gymnast', 'flush', 'daffodil', 'mare', 'light', 'sun', 'gymnastic', 'mesh', 'catapult', 'pavement', 'jogging', 'resignation', 'June', 'calorie', 'finger', 'raid', 'abdomen', 'bog', 'elegance', 'aluminum', 'wear', 'motorboat', 'loch', 'ornament', 'killer', 'convex', 'jesus', 'mahout', 'guy', 'hissing', 'rabbit', 'anytime', 'path', 'delegation', 'nitrogen', 'event', 'offer', 'meadow', 'ss18', 'shrub', 'jam', 'incline', 'devotion', 'life', 'peace', 'coat', 'airliner', 'shore', 'message', 'perfume', 'society', 'robbery', 'rattan', 'edition', 'grant', 'a-shot', 'frog', 'diploma', 'bathing', 'duckling', 'fortune', 'like', 'act', 'cameraman', 'tracking', 'chief', 'basil', 'driveway', 'cliff', 'quarterfinal', 'charge', 'her20s', 'moonlight', 'snack', 'mermaid', 'outfielder', 'folklore', 'headdress', 'council', 'lecture', 'chase', 'bronze', 'anchor', 'uterus', 'heritage', 'villain', 'abacus', 'disappearance', 'swallow', 'trace', 'silence', 'grass', 'wonderland', 'imagination', 'kg', 'folk', 'sunflower', 'meltdown', 'scent', 'flask', 'red', '60', 'head', 'ramadan', 'concentration', 'ceramic', 'someone', 'adhesive', 'supplies', 'soul', 'profession', 'mortar', 'jar', 'assault', 'introduction', 'skier', 'connection', 'smile', 'polka', 'everybody', 'vacation', 'monument', 'feta', 'spectator', 'thriller', 'stove', 'string', 'bone', 'badge', 'rate', 'sausage', 'extract', 'outcrop', 'steak', 'spacesuit', 'repetition', 'care', 'novice', 'farming', 'policeman', 'serve', 'trolley', 'club', 'accenting', 'fork', 'snowball', 'chain', 'polish', 'poppy', 'film', 'larva', 'towing', 'wed', 'cone', 'astronomer', 'seascape', 'amphitheatre', 'sample', 'balcony', 'category', 'bite', 'generator', 'homepage', 'condominium', 'bacon', 'bridge', 'space', 'torch', 'teapot', 'windowsill', 'January', 'character', 'roan', 'rhinestone', 'backlit', 'caramel', '8th', 'logus', 'billboard', 'palladian', 'pyramid', 'rental', 'career', 'office', 'atlantic', 'carb', 'seashell', 'practice', 'inn', 'manufacturer', 'empire', 'tip', 'watercolor', 'beginning', 'invasive', 'hospitality', 'surfboard', 'lime', 'moisture', 'tablecloth', 'potato', 'bar', 'meteor', 'geisha', 'gospel', 'contractor', 'statement', 'jacuzzi', 'storey', 'envelope', 'rut', 'ladybird', 'hairdresser', 'nominee', 'artwork', 'doodle', 'scroll', 'cabinet', 'illness', 'vomit', 'mountain', 'grandson', 'altar', 'turf', 'diamond', 'look', 'alga', 'inning', 'tool', 'ear', 'impala', 'rap', 'tote', 'experience', 'bicycle', 'grouping', 'physique', 'tomb', 'bulb', 'pepper', 'spacecraft', 'printmaking', 'menus', 'sheen', 'rug', 'blind', 'variation', 'viewer', 'favourite', 'gazebo', 'goalkeeper', 'protester', 'printing', 'plane', 'actor', 'gangsta', 'plant', 'oceanfront', 'crypt', 'tulle', 'seller', 'mason', 'absence', 'tire', 'fencing', 'touchdown', 'kimono', 'buffalo', 'cricket', 'billiards', 'hacker', 'plaid', 'time', 'necklace', 'fiction', 'beware', 'uniform', 'declaration', 'composition', 'beard', 'hedge', 'proximity', 'setting', 'controller', 'victim', 'ankle', 'girl', 'creator', 'medallion', 'worshipper', 'buggy', 'countdown', 'attention', 'mooch', 'pleasure', 'wife', 'soil', 'miner', 'greenhouse', 'shaft', 'attempt', 'mattress', 'client', 'ram', 'cherry', 'star', 'telegraph', 'fir', 'magnolia', 'tyre', 'burst', 'tennis', 'dice', 'stripe', 'injury', 'fireball', 'pave', 'dozen', 'son', 'mammal', 'mother', 'blogger', 'refrigerator', 'staman', 'tale', 'fact', 'strand', 'basketball', 'read', 'expo', 'result', 'tugboat', 'nouveau', 'concept', 'vodka', 'onion', 'plum', 'upgrade', 'visor', 'right', 'animal', 'component', 'shoal', 'landscaping', 'parish', 'renaissance', 'means', 'cousin', 'spectacle', 'view', 'headshot', 'date', 'bee', 'hijab', 'precipitation', 'zooming', 'loyalty', 'mustang', 'kiss', 'historian', 'trot', 'latte', 'email', 'fancy', 'pm', 'lawyer', 'packing', 'bath', 'breather', 'cement', 'mrs.', 'nest', 'spokesperson', 'principle', 'suite', 'inch', 'copy', 'scooter', 'motorbike', 'mile', 'florist', 'evening', 'invention', 'alien', 'repair', 'december', 'boutique', 'bassist', 'observation', 'drama', 'farm', 'hewitt', 'reference', 'bougainvillea', 'suburb', 'halo', 'carpeting', 'meeting', 'witness', 'thinning', 'mayor', 'patternspider', 'dirt', 'teammate', 'boundary', 'pantry', 'ginger', 'pump', 'parchment', 'legend', 'camping', 'announcement', 'inscription', 'measure', 'presence', 'granite', 'layout', 'driving', 'platform', 'Toso', 'memorial', 'sleeve', 'pub', 'townhouse', 'kingdom', 'heart', 'railroad', 'choker', 'darkness', 'Fort', 'girlie', 'slogan', 'applaud', 'kayak', 'running', 'atrium', 'dip', 'sunshine', 'hiker', 'ancestor', 'duke', 'cape', 'cine', 'cancer', 'oxen', 'daisie', 'execution', 'chainsaw', 'teddy', 'owner', 'teenager', 'start', 'word', 'precision', 'oxford', 'entertainer', 'cockatoo', 'charity', 'session', 'lynx', 'vow', 'camera', 'break', 'emergency', 'condition', 'cave', 'granola', 'period', 'andactor', 'reality', 'resort', 'strip', 'commander', 'eat', 'butternut', 'cholesterol', 'telescope', 'complex', 'shootout', 'lotus', 'lipstick', 'dusk', 'relative', 'exhibitor', 'sprinkling', 'backstroke', 'shack', 'hush', 'chalkboard', 'carry', 'panic', 'infant', 'vampire', 'type', 'decker', 'comparison', 'princess', 'hula', 'germ', 'daycare', 'spider', 'reed', 'pc', 'toothpick', 'medley', 'dishwasher', 'fixture', 'lily', 'cage', 'oceanside', 'rent', 'web', 'puzzle', 'freestyle', 'stock', 'performer', 'dresser', 'kind', 'chart', 'put', 'shopping', 'lounge', 'magazine', 'cornucopia', 'facade', 'crow', 'dining', 'hockey', 'grip', 'chimney', 'barbie', 'organizing', 'lagoon', 'seating', 'cobblestone', 'combo', 'education', 'leader', 'devotee', 'wrinkle', 'bespoke', '5k', 'microphone', 'judge', 'm2', 'bazaar', 'cracking', 'ban', 'homage', 'service', 'ritual', 'transfer', 'defence', 'degree', 'zest', 'go', 'membership', 'plastic', 'apartment', 'barbecue', 'honour', 'secret', 'unicorn', 'maple', 'discovery', 'pageant', 'left', 'bulldozer', 'drying', 'wish', 'brickwork', 'barcode', 'butler', 'curler', 'render', 'recycling', 'turbine', 'matter', 'solution', 'yesterday', 'forehead', 'kettle', 'sideline', 'thelife', 'method', 'group', 'gold', 'inmate', 'fountain', 'layer', 'crime', 'rib', 'advocate', 'bump', 'alcove', 'player', 'clubhouse', 'sidewalk', 'dot', 'semester', 'cactus', 'toothpaste', 'myriad', 'guitarist', 'smoothie', 'glimpse', 'suspension', 'share', 'pinwheel', 'mourner', 'funk', 'regime', 'name', 'census', 'upholstery', 'nation', 'purchase', 'rebel', 'decking', 'sector', 'king', 'field', 'heron', 'author11', 'term', 'goldfish', 'fashion', 'hurricane', 'science', 'spoonful', 'raspberry', 'outlet', 'ruby', 'socialite', 'team', 'profile', 'contribution', '20km', 'fame', 'manager', 'cubic', 'sweater', 'champ', 'cosmos', 'v', 'woodland', 'cuddle', 'bald', 'union', 'bathrobe', 'gentleman', '16v', 'structure', 'breeze', 'jaguar', 'hourglass', 'night', 'streetcar', 'class', 'nectar', 'cat', 'poet', 'trousers', 'file', 'sleep', 'entity', 'unveiling', 'kiwi', 'shoulder', 'elk', 'production.', 'tablet', 'magic', 'pov', 'lead', 'south', 'cow', 'passage', 'choir', 'joy', 'backseat', 'download', 'clutch', 'route', 'ceo', 'ounce', 'up', 'week', 'management', 'octopus', 'armchair', 'eye', 'wal', 'harmony', 'tech', 'furnishings', 'everyday', 'mosaic', 'daytime', 'quarrel', 'deck', 'kitten', 'rail', 'longtail', 'broadcast', 'expense', 'mandible', 'carriage', 'walnut', 'loss', 'rein', 'land', 'product', 'pioneer', 'victory', 'bike', 'mobile', 'resolution', 'causeway', 'pudding', 'homeland', 'notion', 'fiber', 'fit', 'gene', 'awareness', 'countertop', 'helmet', 'odd', 'ng', 'airport', 'combination', 'richness', 'riding', 'turtleneck', 'parliament', 'lettuce', 'beetle', 'jockey', 'dough', 'ambassador', 'embroidery', 'conclusion', 'cushion', 'jug', 'bedside', 'drum', 'cinnamon', 'peregrine', 'spatula', 'research', 'ovation', 'Saturday', 'hq', 'ii', 'accident', 'stomach', 'apple', 'balaclava', 'farmhouse', 'comment', 'routine', 'closure', 'dragon', 'bush', 'alcohol', 'tutorial', 'monster', 'fan', 'app', 'pack', 'palm', 'low', 'document', 'tactic', 'tap', 'shoot', 'acne', 'bud', 'note', 'vial', 'northeast', 'info', '10th', 'agency', 'generation', 'prey', 'appointment', 'championship', 'postcard', 'campaign', 'pot', 'groom', 'blower', 'sneak', 'gaping', 'soda', 'float', 'map', 'matchup', 'sophistication', 'sweatshirt', 'calm', 'avocado', 'milk', 'topic', 'labor', 'lantern', 'dreadlock', 'difficulty', 'antler', 'standalone', 'walkway', 'bat', 'officer', 'ruler', 'scrub', 'feature', 'gravity', 'westwood', 'pen', 'rubbish', 'windscreen', 'guitar', 'pregnancy', 'pecan', 'activist', 'position', 'conversation', 'emirate', 'faucet', 'none', 'pet', 'motorcade', 'ian', 'ledge', 'double', 'tax', 'pollinator', 'dedication', 'paris', 'cook', 'festivity', 'paddy', 'lady', 'publishing', 'archery', 'saddle', 'pink', 'tart', 'bliss', 'dew', 'mum', 'expectation', 'bear', 'mascot', 'settlement', 'cap', 'mama', 'stash', 'warehouse', 'success', 'township', 'fisherman', 'vendor', 'fringe', 'standstill', 'capitalat', 'artist', 'cafe', 'version', 'invitation', 'organize', 'recliner', 'trim', 'mood', 'debt', 'association', 'marsh', 'skyline', 'church', 'stag', 'makeup', 'preview', 'pair', 'ruin', 'usd', 'dandelion', 'talent', 'mane', 'friend', 'love', 'walk', 'lunchtime', 'biker', 'fab', 'beast', 'snowboard', 'conditioning', 'yardage', 'asia', 'would', 'dentist', 'razor', 'score', 'baking', 'spark', 'smoothy', 'center', 'harbour', 'hunting', 'gig', 'vegas', 'artichoke', 'snail', 'pistachio', 'landmark', 'qd', 'yarn', 'idol', 'april', 'vine', 'caribbean', 'scoop', 'hindu', 'outlier', 'chin', 'cotton', 'treehouse', 'perspective', 'tricycle', 'hugging', 'café', 'control', 'roll', 'columnist', 'chill', 'transformer', 'lens', 'henna', 'veterinarian', 'gift', 'glaze', 'straw', 'rehabilitation', 'step', 'justice', 'jewellery', 'refreshment', 'reward', 'sparkler', '90', 'dead', 'thistle', 'saguaro', 'dial', 'lightning', 'respects', 'mousetrap', 'chess', 'disturbance', 'dinosaur', 'cut', 'hewn', 'participation', 'springboard', 'crater', 'sloth', 'hammock', 'television', 'boss', 'cola', 'remark', 'programme', 'fluff', 'icon', 'amusement', 'clear', 'labrador', 'auditorium', 'contest', 'canva', 'boxing', 'furniture', 'castle', 'jeans', 'item', 'circa', 'innovation', 'leap', 'frost', 'signage', 'bunker', 'stair', 'auction', 'penny', 'imaging', 'pongal', 'unite', 'batting', 'cover', 'crocodile', 'seminar', 'tilt', 'xi', 'settling', 'title', 'spot', 'fur', 'alpine', 'zebra', 'newborn', 'Angeles', 'paperwork', 'midriff', 'cladding', 'door', 'decision', 'pajama', 'bean', 'falcon', '20', 'ensemble', 'denim', 'trailer', 'catwalk', 'pancake', 'layering', 'needle', 'recreation', 'lapse', 'steadicam', 'wind', 'gown', 'characteristic', 'broth', 'engineer', 'album', 'boeing', 'stud', 'goal', 'champagne', 'scheme', 'peak', 'content', 'user', 'squirrel', 'era', 'headstock', 'quality', 'weir', 'woodcut', 'gangster', 'feeling', 'effect', 'litter', 'spout', 'paper', 'funfair', 'sky', 'town', 'food', 'tight', 'handcuffs', 'karaoke', 'overall', 'air', 'spaghetti', 'beanie', 'pea', 'seam', 'tune', 'sewing', 'synthpop', 'gallop', '1700s', 'gathering', 'saris', 'width', 'engine', 'cable', 'monitor', 'tdi', 'panel', 'moss', 'rehearsal', 'pathway', 'console', 'concourse', 'injection', 'camel', 'flyer', 'stipple', 'shed', 'trip', 'sunset', 'scope', 'bash', 'tree', 'thief', 'lacquer', 'wall', 'chip', 'childhood', 'builder', 'cutting', 'ride', 'spiral', 'embankment', 'hold', 'baby', 'researcher', 'byperson', 'possession', 'marshland', 'architecture', 'sound', 'subway', 'smash', 'trash', 'pedestrian', 'athlete', 'background', 'middle', 'trunk', 'swan', 'savings', 'plate', 'sunglass', 'stretch', 'luncheon', 'bay', 'simulation', 'giraffe', 'release', 'response', 'sign', 'opponent', 'legging', 'drive', 'cornfield', 'bacterium', 'booty', 'circuit', 'projector', 'shampoo', 'housing', 'oyster', 'riverside', 'reactor', 'vignette', 'company', 'weight', 'sweep', 'cosmetic', 'everyone', 'mt', 'cupboard', 'aeroplane', 'sister', 'streak', 'bouquet', 'comfort', 'outdoor', 'cord', 'headset', 'count', 'seed', 'placement', 'strawberry', 'trek', 'heroe', 'gum', 'organization', 'bookshelf', 'clip', 'summoning', 'labourer', 'register', 'banner', 'panning', 'hospital', 'lentil', 'helm', 'pan', 'region', 'airshow', 'spaniel', 'shelter', 'cost', 'brook', 'publicity', 'motor', 'wool', 'comeback', 'trinket', 'assembly', 'perimeter', 'segment', 'poison', '41st', 'entrepreneur', 'tag', 'paw', 'windmill', 'bell', 'second', 'existence', 'tarantula', 'worship', 'melon', 'stroller', 'muzzle', 'z', 'foliage', 'processor', 'cay', 'wheelbarrow', 'x3', 'leadership', 'ceiling', 'mix', 'mistletoe', 'mall', 'automotive', 'boyfriend', 'glam', 'supercar', 'showroom', 'individual', 'trampoline', 'bedtime', 'senior', 'building', 'people', 'outskirt', 'piercing', 'letter', 'comune', 'sugar', 'bunny', 'grove', 'egret', 'slope', 'park', 'waste', 'hippie', 'nut', 'etching', 'stroke', 'bauble', 'surfing', 'skate', 'skill', 'triple', 'comet', 'stocking', 'obstacle', 'piggy', 'cocker', 'seat', 'offering', 'parachute', 'portion', 'joke', 'songwriter', 'opener', 'sail', 'saucer', 'problem', 'mating', 'funeral', 'bowling', 'state', 'cemetery', 'spinach', 'grasses', 'donkey', 'battery', 'sow', 'howling', 'hermit', 'marine', 'moat', 'eternity', 'camellia', 'fragment', 'leg', 'pass', 'logo', 'badland', '200m', 'raster', 'wash', 'frame', 'pupil', 'koala', 'saucepan', 'geranium', 'mining', 'afro', 'genus', 'idea', 'forest', 'friendship', 'traffic', 'vantage', 'reservoir', 'migrant', 'forum', 'log', 'sterling', 'bridesmaid', 'tangerine', 'beginner', 'elbow', 'rugby', 'crowd', 'mr.', 'schooner', 'hope', 'ten', 'dumpling', 'green', 'olive', 'antenna', 'schedule', 'chicken', 'terminal', 'lawn', 'leash', 'sheath', 'rain', 'dock', 'investor', 'eps', 'tigger', 'feather', 'confidence', 'paramedic', 'stage', 'transformation', 'catching', 'thread', 'pastel', 'gorilla', 'trap', 'virus', 'retriever', 'cobble', 'charm', 'atmosphere', 'accent', 'greeting', 'Mercedes', 'pouch', 'desert', 'ponderosa', 'move', 'ability', 'trouble', 'shine', 'ribbon', 'booking', 'fireman', 'borough', 'comb', 'locomotive', 'sauna', 'writer', 'hookah', 'buoy', 'interior', 'lighthouse', 'raisin', 'subfamily', 'businesswoman', 'ana', 'thoroughfare', 'font', 'rowing', 'regatta', 'workplace', 'browser', 'droop', 'nylon', 'charcoal', 'condo', 'basement', 'genre', 'satin', 'recovery', 'wine', 'overhang', 'juice', 'mound', 'culture', 'mint', 'operation', 'chessboard', 'link', 'network', 'lakh', 'workman', 'cereal', 'wrestler', 'brutality', 'liqueur', 'trader', 'glue', 'shank', 'flyover', 'horror', 'entrance', 'fighter', 'cannon', 'sculpture', 'wheelchair', 'dark', 'rack', 'toilet', 'topper', 'sunlight', 'bible', 'goods', 'upstate', 'pug', 'pick', 'starfish', 'delight', 'handheld', 'runway', 'footpath', 'platter', 'booth', 'teamwork', 'certificate', 'jungle', 'orphan', 'waistline', 'assistance', 'indie', 'throat', 'bikini', 'short', 'speed', 'tear', 'percent', 'academy', 'pretzel', 'wee', 'seagull', 'art', 'exposure', 'dunk', 'e1', 'compound', 'cheque', 'coop', 'siding', 'braid', 'business', 'cashmere', 'liner', 'author', 'training', 'official', 'dive', 'houseboat', 'encyclopedia', 'golden', 'breath', 'fuchsia', 'beaver', 'amc', 'material', 'destruction', 'walking', 'diary', 'trouser', 'phone', 'homework', 'qualifier', 'boar', 'erosion', 'chassis', 'sandal', 'paint', 'china', 'chapel', 'electronics', 'print', 'twirl', 'arthritis', 'obelisk', 'admiral', 'Christmas', 'glitter', 'stack', 'jewelry', 'breakwater', 'solo', 'remnant', 'mixture', 'lava', 'allergy', 'quartet', 'venue', 'investment', 'outline', 'fortress', 'tabby', 'aqueduct', 'bedroom', 'roman', 'flooring', 'scorpion', 'reception', 'brand', 'bonsai', 'foreshore', 'finding', 'firm', 'singing', 'harvester', 'glove', 'wagon', 'sponsor', 'cockpit', 'hillside', 'grapefruit', 'battleship', 'visibility', 'hawk', 'lichen', 'shipment', 'grounds', 'thermo', 'catalog', 'swim', 'gecko', 'bodice', 'gondola', 'railing', 'cantaloupe', 'gun', 'suicide', 'cupcake', 'farrier', 'rhododendron', 'rider', 'opposition', 'grill', 'fair', 'choice', 'gp', 'mb', 'beech', 'polo', 'bumble', 'standing', 'psychologist', 'handling', 'tug', 'workmen', 'Sunday', 'pic', 'focus', 'chest', 'feeder', 'abs', 'vessel', 'experiment', 'screen', 'pose', 'shrine', 'spike', 'rillileter', 'transparency', 'dairy', 'library', 'carnation', 'pilgrim', 'protest', 'bigfoot', 'melancholy', 'skateboard', 'quarterback', 'manage', 'hd', 'waist', 'span', 'body', 'vintage', 'script', 'cyber', 'hallmark', 'abbey', 'personality', 'try', 'tour', 'template', 'page', 'exit', 'conch', 'bank', 'calico', 'sheepdog', 'motherboard', 'angel', 'keep', 'split', 'mache', 'incense', 'button', 'grain', 'dr', 'gym', 'promotion', 'ditch', 'pencil', 'lineup', 'broadcaster', 'sandcastle', 'pine', 'pin', 'tan', 'honeymoon', 'cooker', 'cosmonaut', 'villa', 'spa', 'teenage', 'family', 'west', 'silk', 'critic', 'travel', 'wreath', 'model', 'pipe', 'one', 'omega', 'offspring', 'cheesecake', 'vinaigrette', 'create', 'matching', 'lea', 'novelist', 'saloon', 'meat', 'potty', 'dba', 'toast', 'vigil', 'merchandise', 'hug', 'lifeguard', 'length', 'smelt', 'dramatist', 'brewery', 'pottery', 'core', 'motivation', 'trailhead', 'development', 'burlap', 'carpentry', 'audition', 'monogram', 'violet', 'navy', 'earth', 'warfare', 'personnel', 'longue', 'ally', 'metric', 'penciler', 'board', 'cylinder', '1900', 'chameleon', 'wrench', 'simplicity', 'beige', 'slice', 'allure', 'sleeping', 'quest', 'counterpart', 'bass', 'vice', 'cycling', 'gear', 'local', 'jpeg', 'agent', 'blow', 'flow', 'hamper', 'marlin', 'mastermind', 'transit', 'chairman', 'province', 'boulder', 'underside', 'pooch', 'roof', 'sq', 'cob', 'perch', 'stall', 'shelving', 'legacy', 'cheese', 'media', 'standard', 'agencie', 'November', 'pinpoint', 'cluster', 'covering', 'centerpiece', 'mine', 'sunrise', 'prisoner', 'jurisdiction', 'possibility', 'cane', 'soup', 'enthusiasm', 'spade', 'reproduction', 'chinook', 'mackerel', 'wildfire', 'yin', 'viaduct', 'swimmer', 'founder', 'total', 'territory', 'navratri', 'desktop', 'shallow', 'passion', 'clash', 'shade', 'decor', 'cadet', 'deity', 'song', 'insight', 'sedan', 'sheet', 'tundra', 'fighting', 'chopstick', 'match', 'army', 'place', 'sponge', 'propaganda', 'sheep', 'hide', 'opportunity', 'director', 'roundup', 'tuna', 'minister', 'spillway', 'cheerleader', 'skatepark', 'opal', 'lioness', 'vegetation', 'record', 'moto', 'qualifying', 'memorabilia', 'beachside', 'bluebell', 'leprechaun', 'rifle', 'change', 'muse', 'devil', 'sweetness', 'penchant', 'diesel', 'traveler', 'bower', 'patriot', 'orchard', 'snowmen', 'enjoyment', 'creep', 'bhp', 'shipping', 'community', 'self', 'bark', 'inpeacock', 'refurbishment', 'present', 'cowl', 'hit', 'porcelain', 'shadow', 'twitter', 'whip', 'meditation', 'designer', 'curry', 'megapixel', 'hoop', 'theevil', 'sand', 'happiness', 'graveyard', 'hunt', 'assortment', 'celebratory', 'pier', 'healing', 'strap', 'analogue', 'submarine', 'tissue', 'twine', 'freedom', 'rutting', 'trans', 'd4', 'carrier', 'dust', 'rapid', 'village', 'diver', 'top', 'ss17', 'Thursday', 'cattle', 'clowning', 'taste', 'sandy', 'appetizer', 'duvet', 'brain', 'lining', 'glacier', 'cast', 'lacy', 'chapter', 'refuge', 'benefit', 'rosary', 'beacon', 'calligraphy', 'neutral', 'reflection', 'heartland', 'capsule', 'catering', 'situation', 'silver', 'rhythm', 'news', 'vision', 'squash', 'wetland', 'noho', 'hind', 'issue', 'audi', 'logotype', '1930s', 'country', 'port', 'knee', 'hall', 'tournament', 'aftermath', 'isolation', 'tower', 'riverine', 'favor', 'deputy', 'turnout', 'critter', 'archway', 'amazing80', 'ash', 'fabric', 'dove', 'drought', 'footage', 'lean', 'batman', 'pressure', 'petrol', 'blanket', 'oatmeal', 'end', 'youngster', 'traveling', 'nazar', 'curving', 'footwear', 'carpet', 'reptile', 'seaside', 'meerkat', 'bail', 'professor', 'fy', 'quote', 'crimson', 'nose', 'l', 'abstraction', 'accessory', 'garlic', 'bunk', 'vein', 'neighbour', 'decorating', 'blonde', 'wizard', 'representation', 'arrow', 'skin', 'colour', 'musician', 'pumpkin', 'search', 'terrace', 'arch', 'weekend', 'wallflower', 'remembrance', 'viewing', 'shaker', 'pedal', 'panda', 'laundromat', 'pasta', 'distress', 'workshop', 'tunic', 'collection', 'grasshopper', 'acid', 'park.', 'cart', 'outerwear', 'native', 'surface', 'establishment', 'slash', 'snowstorm', 'gestation', 'scrap', 'wave', 'pain', 'daddy', 'exchange', 'touch', 'queue', 'toad'}\n"
     ]
    }
   ],
   "source": [
    "print(total_objects)"
   ]
  },
  {
   "cell_type": "markdown",
   "metadata": {
    "id": "Tl18GNA8V3Wy"
   },
   "source": [
    "Now, we look at how each additional prompt helped in increasing the number of unique objects in the `total_objects`."
   ]
  },
  {
   "cell_type": "code",
   "execution_count": 21,
   "metadata": {
    "id": "UMe2cz6WC3O0"
   },
   "outputs": [],
   "source": [
    "# Load the objects set for train set\n",
    "with open(os.path.join(PATH, 'Data-Captions/GCC/train-objects.json')) as json_file:\n",
    "  train_objects_file = json.load(json_file)\n",
    "\n",
    "# Load the objects set for val set\n",
    "with open(os.path.join(PATH, 'Data-Captions/GCC/val-objects.json')) as json_file:\n",
    "  val_objects_file = json.load(json_file)"
   ]
  },
  {
   "cell_type": "markdown",
   "metadata": {
    "id": "ngElA01uWdpG"
   },
   "source": [
    "Plots are more visually appealing and revealing let's plot the results."
   ]
  },
  {
   "cell_type": "code",
   "execution_count": 22,
   "metadata": {
    "colab": {
     "base_uri": "https://localhost:8080/",
     "height": 730
    },
    "id": "9oMj4BMvWZ-2",
    "outputId": "d0838f9e-303c-492c-8622-8123672c902b"
   },
   "outputs": [
    {
     "data": {
      "image/png": "[encoded data removed]",
      "text/plain": [
       "<Figure size 1600x1200 with 1 Axes>"
      ]
     },
     "metadata": {},
     "output_type": "display_data"
    }
   ],
   "source": [
    "plt.figure(figsize=(16,12))\n",
    "plt.plot(train_objects_file['num_objects'])\n",
    "plt.xlabel(f'Number of Prompts processed (1 unit = {SAVE_AFTER} prompts)')\n",
    "plt.ylabel('Number of unique objects extracted')\n",
    "plt.title('Objects Extracted from Google Conceptual Captions (train split)')\n",
    "plt.show()"
   ]
  },
  {
   "cell_type": "code",
   "execution_count": 23,
   "metadata": {
    "colab": {
     "base_uri": "https://localhost:8080/",
     "height": 730
    },
    "id": "GMx2r-2oWvfk",
    "outputId": "77033913-13e6-4646-ec39-fc226dd756d7"
   },
   "outputs": [
    {
     "data": {
      "image/png": "[encoded data removed]",
      "text/plain": [
       "<Figure size 1600x1200 with 1 Axes>"
      ]
     },
     "metadata": {},
     "output_type": "display_data"
    }
   ],
   "source": [
    "plt.figure(figsize=(16,12))\n",
    "plt.plot(val_objects_file['num_objects'])\n",
    "plt.xlabel(f'Number of Prompts processed (1 unit = {SAVE_AFTER} prompts)')\n",
    "plt.ylabel('Number of unique objects extracted')\n",
    "plt.title('Objects Extracted from Google Conceptual Captions (validation split)')\n",
    "plt.show()"
   ]
  },
  {
   "cell_type": "markdown",
   "metadata": {},
   "source": [
    "Let's see the total objects combining objects from both the train and val splits."
   ]
  },
  {
   "cell_type": "code",
   "execution_count": 26,
   "metadata": {
    "id": "B1B2hJjOYE4J"
   },
   "outputs": [
    {
     "data": {
      "text/plain": [
       "20106"
      ]
     },
     "execution_count": 26,
     "metadata": {},
     "output_type": "execute_result"
    }
   ],
   "source": [
    "len(set(train_objects_file['objects']).union(set(val_objects_file['objects'])))"
   ]
  },
  {
   "cell_type": "markdown",
   "metadata": {},
   "source": [
    "### Compare with COCO objects"
   ]
  },
  {
   "cell_type": "markdown",
   "metadata": {},
   "source": [
    "Since, I have already extracted the `COCO` objects. It makes sense to compare and see how many new objects are detected overall from `GCC`."
   ]
  },
  {
   "cell_type": "code",
   "execution_count": 27,
   "metadata": {},
   "outputs": [],
   "source": [
    "# Load the objects set for train set\n",
    "with open(os.path.join(PATH, 'Data-Captions/COCO/train-objects.json')) as json_file:\n",
    "  train_coco_objects_file = json.load(json_file)\n",
    "\n",
    "# Load the objects set for val set\n",
    "with open(os.path.join(PATH, 'Data-Captions/COCO/val-objects.json')) as json_file:\n",
    "  val_coco_objects_file = json.load(json_file)"
   ]
  },
  {
   "cell_type": "code",
   "execution_count": 31,
   "metadata": {},
   "outputs": [
    {
     "name": "stdout",
     "output_type": "stream",
     "text": [
      "***COMPARISON BETWEEN GCC AND COCO***\n",
      "Number of objects in COCO train split: 15279\n",
      "Number of objects in GCC train split: 20056\n",
      "Number of objects in COCO val split: 3762\n",
      "Number of objects in GCC val split: 5071\n",
      "Number of newer objects in COCO: 7769\n",
      "Number of newer objects in GCC: 12307\n",
      "Number of objects in GCC+COCO merged: 27875\n"
     ]
    }
   ],
   "source": [
    "print('***COMPARISON BETWEEN GCC AND COCO***')\n",
    "print('Number of objects in COCO train split:', len(set(train_coco_objects_file['objects'])))\n",
    "print('Number of objects in GCC train split:', len(set(train_objects_file['objects'])))\n",
    "print('Number of objects in COCO val split:', len(set(val_coco_objects_file['objects'])))\n",
    "print('Number of objects in GCC val split:', len(set(val_objects_file['objects'])))\n",
    "print('Number of newer objects in COCO:', len((set(train_coco_objects_file['objects']).union(set(val_coco_objects_file['objects'])).difference(set(train_objects_file['objects']).union(set(val_objects_file['objects']))))))\n",
    "print('Number of newer objects in GCC:', len((set(train_objects_file['objects']).union(set(val_objects_file['objects'])).difference(set(train_coco_objects_file['objects']).union(set(val_coco_objects_file['objects']))))))\n",
    "print('Number of objects in GCC+COCO merged:', len(set(train_objects_file['objects']).union(set(val_objects_file['objects'])).union(set(train_coco_objects_file['objects'])).union(set(val_coco_objects_file['objects']))))"
   ]
  },
  {
   "cell_type": "code",
   "execution_count": null,
   "metadata": {},
   "outputs": [],
   "source": []
  }
 ],
 "metadata": {
  "colab": {
   "provenance": []
  },
  "gpuClass": "standard",
  "kernelspec": {
   "display_name": "Python 3 (ipykernel)",
   "language": "python",
   "name": "python3"
  },
  "language_info": {
   "codemirror_mode": {
    "name": "ipython",
    "version": 3
   },
   "file_extension": ".py",
   "mimetype": "text/x-python",
   "name": "python",
   "nbconvert_exporter": "python",
   "pygments_lexer": "ipython3",
   "version": "3.8.15"
  },
  "widgets": {
   "application/vnd.jupyter.widget-state+json": {
    "01e45d867ff4434e8bde895e1edc78cf": {
     "model_module": "@jupyter-widgets/base",
     "model_module_version": "1.2.0",
     "model_name": "LayoutModel",
     "state": {
      "_model_module": "@jupyter-widgets/base",
      "_model_module_version": "1.2.0",
      "_model_name": "LayoutModel",
      "_view_count": null,
      "_view_module": "@jupyter-widgets/base",
      "_view_module_version": "1.2.0",
      "_view_name": "LayoutView",
      "align_content": null,
      "align_items": null,
      "align_self": null,
      "border": null,
      "bottom": null,
      "display": null,
      "flex": null,
      "flex_flow": null,
      "grid_area": null,
      "grid_auto_columns": null,
      "grid_auto_flow": null,
      "grid_auto_rows": null,
      "grid_column": null,
      "grid_gap": null,
      "grid_row": null,
      "grid_template_areas": null,
      "grid_template_columns": null,
      "grid_template_rows": null,
      "height": null,
      "justify_content": null,
      "justify_items": null,
      "left": null,
      "margin": null,
      "max_height": null,
      "max_width": null,
      "min_height": null,
      "min_width": null,
      "object_fit": null,
      "object_position": null,
      "order": null,
      "overflow": null,
      "overflow_x": null,
      "overflow_y": null,
      "padding": null,
      "right": null,
      "top": null,
      "visibility": null,
      "width": null
     }
    },
    "0540e337651b4a158d5dffabb494d745": {
     "model_module": "@jupyter-widgets/controls",
     "model_module_version": "1.5.0",
     "model_name": "ProgressStyleModel",
     "state": {
      "_model_module": "@jupyter-widgets/controls",
      "_model_module_version": "1.5.0",
      "_model_name": "ProgressStyleModel",
      "_view_count": null,
      "_view_module": "@jupyter-widgets/base",
      "_view_module_version": "1.2.0",
      "_view_name": "StyleView",
      "bar_color": null,
      "description_width": ""
     }
    },
    "13293d3dbf7d4fb580c772e0e0dfcc9e": {
     "model_module": "@jupyter-widgets/base",
     "model_module_version": "1.2.0",
     "model_name": "LayoutModel",
     "state": {
      "_model_module": "@jupyter-widgets/base",
      "_model_module_version": "1.2.0",
      "_model_name": "LayoutModel",
      "_view_count": null,
      "_view_module": "@jupyter-widgets/base",
      "_view_module_version": "1.2.0",
      "_view_name": "LayoutView",
      "align_content": null,
      "align_items": null,
      "align_self": null,
      "border": null,
      "bottom": null,
      "display": null,
      "flex": null,
      "flex_flow": null,
      "grid_area": null,
      "grid_auto_columns": null,
      "grid_auto_flow": null,
      "grid_auto_rows": null,
      "grid_column": null,
      "grid_gap": null,
      "grid_row": null,
      "grid_template_areas": null,
      "grid_template_columns": null,
      "grid_template_rows": null,
      "height": null,
      "justify_content": null,
      "justify_items": null,
      "left": null,
      "margin": null,
      "max_height": null,
      "max_width": null,
      "min_height": null,
      "min_width": null,
      "object_fit": null,
      "object_position": null,
      "order": null,
      "overflow": null,
      "overflow_x": null,
      "overflow_y": null,
      "padding": null,
      "right": null,
      "top": null,
      "visibility": null,
      "width": null
     }
    },
    "14391e8237d44f2ba6e1890828233088": {
     "model_module": "@jupyter-widgets/base",
     "model_module_version": "1.2.0",
     "model_name": "LayoutModel",
     "state": {
      "_model_module": "@jupyter-widgets/base",
      "_model_module_version": "1.2.0",
      "_model_name": "LayoutModel",
      "_view_count": null,
      "_view_module": "@jupyter-widgets/base",
      "_view_module_version": "1.2.0",
      "_view_name": "LayoutView",
      "align_content": null,
      "align_items": null,
      "align_self": null,
      "border": null,
      "bottom": null,
      "display": null,
      "flex": null,
      "flex_flow": null,
      "grid_area": null,
      "grid_auto_columns": null,
      "grid_auto_flow": null,
      "grid_auto_rows": null,
      "grid_column": null,
      "grid_gap": null,
      "grid_row": null,
      "grid_template_areas": null,
      "grid_template_columns": null,
      "grid_template_rows": null,
      "height": null,
      "justify_content": null,
      "justify_items": null,
      "left": null,
      "margin": null,
      "max_height": null,
      "max_width": null,
      "min_height": null,
      "min_width": null,
      "object_fit": null,
      "object_position": null,
      "order": null,
      "overflow": null,
      "overflow_x": null,
      "overflow_y": null,
      "padding": null,
      "right": null,
      "top": null,
      "visibility": null,
      "width": null
     }
    },
    "1b4d3c4593f34f2ab2ec01eabac0a21c": {
     "model_module": "@jupyter-widgets/base",
     "model_module_version": "1.2.0",
     "model_name": "LayoutModel",
     "state": {
      "_model_module": "@jupyter-widgets/base",
      "_model_module_version": "1.2.0",
      "_model_name": "LayoutModel",
      "_view_count": null,
      "_view_module": "@jupyter-widgets/base",
      "_view_module_version": "1.2.0",
      "_view_name": "LayoutView",
      "align_content": null,
      "align_items": null,
      "align_self": null,
      "border": null,
      "bottom": null,
      "display": null,
      "flex": null,
      "flex_flow": null,
      "grid_area": null,
      "grid_auto_columns": null,
      "grid_auto_flow": null,
      "grid_auto_rows": null,
      "grid_column": null,
      "grid_gap": null,
      "grid_row": null,
      "grid_template_areas": null,
      "grid_template_columns": null,
      "grid_template_rows": null,
      "height": null,
      "justify_content": null,
      "justify_items": null,
      "left": null,
      "margin": null,
      "max_height": null,
      "max_width": null,
      "min_height": null,
      "min_width": null,
      "object_fit": null,
      "object_position": null,
      "order": null,
      "overflow": null,
      "overflow_x": null,
      "overflow_y": null,
      "padding": null,
      "right": null,
      "top": null,
      "visibility": null,
      "width": null
     }
    },
    "1fbdc06fb1544d53a05533382b9c0062": {
     "model_module": "@jupyter-widgets/controls",
     "model_module_version": "1.5.0",
     "model_name": "FloatProgressModel",
     "state": {
      "_dom_classes": [],
      "_model_module": "@jupyter-widgets/controls",
      "_model_module_version": "1.5.0",
      "_model_name": "FloatProgressModel",
      "_view_count": null,
      "_view_module": "@jupyter-widgets/controls",
      "_view_module_version": "1.5.0",
      "_view_name": "ProgressView",
      "bar_style": "success",
      "description": "",
      "description_tooltip": null,
      "layout": "IPY_MODEL_13293d3dbf7d4fb580c772e0e0dfcc9e",
      "max": 28918,
      "min": 0,
      "orientation": "horizontal",
      "style": "IPY_MODEL_0540e337651b4a158d5dffabb494d745",
      "value": 28918
     }
    },
    "20127b2249424758aaac276817af28a5": {
     "model_module": "@jupyter-widgets/controls",
     "model_module_version": "1.5.0",
     "model_name": "HTMLModel",
     "state": {
      "_dom_classes": [],
      "_model_module": "@jupyter-widgets/controls",
      "_model_module_version": "1.5.0",
      "_model_name": "HTMLModel",
      "_view_count": null,
      "_view_module": "@jupyter-widgets/controls",
      "_view_module_version": "1.5.0",
      "_view_name": "HTMLView",
      "description": "",
      "description_tooltip": null,
      "layout": "IPY_MODEL_325f39c1cb444e9b85a2360323d204ce",
      "placeholder": "​",
      "style": "IPY_MODEL_d3155ecf834340609b9dc25df5cec3a2",
      "value": " 561M/561M [00:05&lt;00:00, 98.2MB/s]"
     }
    },
    "2da511597a914db7b4ddf749852b331d": {
     "model_module": "@jupyter-widgets/base",
     "model_module_version": "1.2.0",
     "model_name": "LayoutModel",
     "state": {
      "_model_module": "@jupyter-widgets/base",
      "_model_module_version": "1.2.0",
      "_model_name": "LayoutModel",
      "_view_count": null,
      "_view_module": "@jupyter-widgets/base",
      "_view_module_version": "1.2.0",
      "_view_name": "LayoutView",
      "align_content": null,
      "align_items": null,
      "align_self": null,
      "border": null,
      "bottom": null,
      "display": null,
      "flex": null,
      "flex_flow": null,
      "grid_area": null,
      "grid_auto_columns": null,
      "grid_auto_flow": null,
      "grid_auto_rows": null,
      "grid_column": null,
      "grid_gap": null,
      "grid_row": null,
      "grid_template_areas": null,
      "grid_template_columns": null,
      "grid_template_rows": null,
      "height": null,
      "justify_content": null,
      "justify_items": null,
      "left": null,
      "margin": null,
      "max_height": null,
      "max_width": null,
      "min_height": null,
      "min_width": null,
      "object_fit": null,
      "object_position": null,
      "order": null,
      "overflow": null,
      "overflow_x": null,
      "overflow_y": null,
      "padding": null,
      "right": null,
      "top": null,
      "visibility": null,
      "width": null
     }
    },
    "2dc1e610870d4c3ea65ef96f9def47b2": {
     "model_module": "@jupyter-widgets/controls",
     "model_module_version": "1.5.0",
     "model_name": "HTMLModel",
     "state": {
      "_dom_classes": [],
      "_model_module": "@jupyter-widgets/controls",
      "_model_module_version": "1.5.0",
      "_model_name": "HTMLModel",
      "_view_count": null,
      "_view_module": "@jupyter-widgets/controls",
      "_view_module_version": "1.5.0",
      "_view_name": "HTMLView",
      "description": "",
      "description_tooltip": null,
      "layout": "IPY_MODEL_1b4d3c4593f34f2ab2ec01eabac0a21c",
      "placeholder": "​",
      "style": "IPY_MODEL_8653e80ce4304b0bbcfd14a5e90952c0",
      "value": "Downloading https://raw.githubusercontent.com/stanfordnlp/stanza-resources/main/resources_1.4.1.json: "
     }
    },
    "325f39c1cb444e9b85a2360323d204ce": {
     "model_module": "@jupyter-widgets/base",
     "model_module_version": "1.2.0",
     "model_name": "LayoutModel",
     "state": {
      "_model_module": "@jupyter-widgets/base",
      "_model_module_version": "1.2.0",
      "_model_name": "LayoutModel",
      "_view_count": null,
      "_view_module": "@jupyter-widgets/base",
      "_view_module_version": "1.2.0",
      "_view_name": "LayoutView",
      "align_content": null,
      "align_items": null,
      "align_self": null,
      "border": null,
      "bottom": null,
      "display": null,
      "flex": null,
      "flex_flow": null,
      "grid_area": null,
      "grid_auto_columns": null,
      "grid_auto_flow": null,
      "grid_auto_rows": null,
      "grid_column": null,
      "grid_gap": null,
      "grid_row": null,
      "grid_template_areas": null,
      "grid_template_columns": null,
      "grid_template_rows": null,
      "height": null,
      "justify_content": null,
      "justify_items": null,
      "left": null,
      "margin": null,
      "max_height": null,
      "max_width": null,
      "min_height": null,
      "min_width": null,
      "object_fit": null,
      "object_position": null,
      "order": null,
      "overflow": null,
      "overflow_x": null,
      "overflow_y": null,
      "padding": null,
      "right": null,
      "top": null,
      "visibility": null,
      "width": null
     }
    },
    "33ebb52bcae948839b911c30f86d1ea6": {
     "model_module": "@jupyter-widgets/controls",
     "model_module_version": "1.5.0",
     "model_name": "HBoxModel",
     "state": {
      "_dom_classes": [],
      "_model_module": "@jupyter-widgets/controls",
      "_model_module_version": "1.5.0",
      "_model_name": "HBoxModel",
      "_view_count": null,
      "_view_module": "@jupyter-widgets/controls",
      "_view_module_version": "1.5.0",
      "_view_name": "HBoxView",
      "box_style": "",
      "children": [
       "IPY_MODEL_2dc1e610870d4c3ea65ef96f9def47b2",
       "IPY_MODEL_e8b1735596864545a94d85d2f02fd1e6",
       "IPY_MODEL_a642eca5e34649ce84ce47fd9f11bee6"
      ],
      "layout": "IPY_MODEL_ad92948248264f4cb98b40f2b6eec143"
     }
    },
    "365f9fc1f1f44502b22abe715e797a10": {
     "model_module": "@jupyter-widgets/controls",
     "model_module_version": "1.5.0",
     "model_name": "HTMLModel",
     "state": {
      "_dom_classes": [],
      "_model_module": "@jupyter-widgets/controls",
      "_model_module_version": "1.5.0",
      "_model_name": "HTMLModel",
      "_view_count": null,
      "_view_module": "@jupyter-widgets/controls",
      "_view_module_version": "1.5.0",
      "_view_name": "HTMLView",
      "description": "",
      "description_tooltip": null,
      "layout": "IPY_MODEL_9710fd246f1943258ba37cc8d6454b62",
      "placeholder": "​",
      "style": "IPY_MODEL_5ac46403bd4044318527c0adfed0f672",
      "value": "Downloading https://raw.githubusercontent.com/stanfordnlp/stanza-resources/main/resources_1.4.1.json: "
     }
    },
    "3cb79e7831a24df38809bd9c27e8a6d3": {
     "model_module": "@jupyter-widgets/controls",
     "model_module_version": "1.5.0",
     "model_name": "DescriptionStyleModel",
     "state": {
      "_model_module": "@jupyter-widgets/controls",
      "_model_module_version": "1.5.0",
      "_model_name": "DescriptionStyleModel",
      "_view_count": null,
      "_view_module": "@jupyter-widgets/base",
      "_view_module_version": "1.2.0",
      "_view_name": "StyleView",
      "description_width": ""
     }
    },
    "5ac46403bd4044318527c0adfed0f672": {
     "model_module": "@jupyter-widgets/controls",
     "model_module_version": "1.5.0",
     "model_name": "DescriptionStyleModel",
     "state": {
      "_model_module": "@jupyter-widgets/controls",
      "_model_module_version": "1.5.0",
      "_model_name": "DescriptionStyleModel",
      "_view_count": null,
      "_view_module": "@jupyter-widgets/base",
      "_view_module_version": "1.2.0",
      "_view_name": "StyleView",
      "description_width": ""
     }
    },
    "67fcbabbc7e94682a8d032fe4ed5144d": {
     "model_module": "@jupyter-widgets/controls",
     "model_module_version": "1.5.0",
     "model_name": "HTMLModel",
     "state": {
      "_dom_classes": [],
      "_model_module": "@jupyter-widgets/controls",
      "_model_module_version": "1.5.0",
      "_model_name": "HTMLModel",
      "_view_count": null,
      "_view_module": "@jupyter-widgets/controls",
      "_view_module_version": "1.5.0",
      "_view_name": "HTMLView",
      "description": "",
      "description_tooltip": null,
      "layout": "IPY_MODEL_ecc24e7ae09b432599b2ee56a4a57e09",
      "placeholder": "​",
      "style": "IPY_MODEL_72f1b6b4703740fca72516e15c0214fd",
      "value": " 193k/? [00:00&lt;00:00, 4.72MB/s]"
     }
    },
    "6b61994192e74430957f414859c3c28f": {
     "model_module": "@jupyter-widgets/controls",
     "model_module_version": "1.5.0",
     "model_name": "DescriptionStyleModel",
     "state": {
      "_model_module": "@jupyter-widgets/controls",
      "_model_module_version": "1.5.0",
      "_model_name": "DescriptionStyleModel",
      "_view_count": null,
      "_view_module": "@jupyter-widgets/base",
      "_view_module_version": "1.2.0",
      "_view_name": "StyleView",
      "description_width": ""
     }
    },
    "6f0f42079f8d48f6a82daab7cc927076": {
     "model_module": "@jupyter-widgets/controls",
     "model_module_version": "1.5.0",
     "model_name": "HBoxModel",
     "state": {
      "_dom_classes": [],
      "_model_module": "@jupyter-widgets/controls",
      "_model_module_version": "1.5.0",
      "_model_name": "HBoxModel",
      "_view_count": null,
      "_view_module": "@jupyter-widgets/controls",
      "_view_module_version": "1.5.0",
      "_view_name": "HBoxView",
      "box_style": "",
      "children": [
       "IPY_MODEL_fb4da8ef7a04451487731260764d7468",
       "IPY_MODEL_c1ea0ca2be8f4cd39a5168fdced8264a",
       "IPY_MODEL_20127b2249424758aaac276817af28a5"
      ],
      "layout": "IPY_MODEL_14391e8237d44f2ba6e1890828233088"
     }
    },
    "71845a3840d54187b7120b16c8406194": {
     "model_module": "@jupyter-widgets/base",
     "model_module_version": "1.2.0",
     "model_name": "LayoutModel",
     "state": {
      "_model_module": "@jupyter-widgets/base",
      "_model_module_version": "1.2.0",
      "_model_name": "LayoutModel",
      "_view_count": null,
      "_view_module": "@jupyter-widgets/base",
      "_view_module_version": "1.2.0",
      "_view_name": "LayoutView",
      "align_content": null,
      "align_items": null,
      "align_self": null,
      "border": null,
      "bottom": null,
      "display": null,
      "flex": null,
      "flex_flow": null,
      "grid_area": null,
      "grid_auto_columns": null,
      "grid_auto_flow": null,
      "grid_auto_rows": null,
      "grid_column": null,
      "grid_gap": null,
      "grid_row": null,
      "grid_template_areas": null,
      "grid_template_columns": null,
      "grid_template_rows": null,
      "height": null,
      "justify_content": null,
      "justify_items": null,
      "left": null,
      "margin": null,
      "max_height": null,
      "max_width": null,
      "min_height": null,
      "min_width": null,
      "object_fit": null,
      "object_position": null,
      "order": null,
      "overflow": null,
      "overflow_x": null,
      "overflow_y": null,
      "padding": null,
      "right": null,
      "top": null,
      "visibility": null,
      "width": null
     }
    },
    "72f1b6b4703740fca72516e15c0214fd": {
     "model_module": "@jupyter-widgets/controls",
     "model_module_version": "1.5.0",
     "model_name": "DescriptionStyleModel",
     "state": {
      "_model_module": "@jupyter-widgets/controls",
      "_model_module_version": "1.5.0",
      "_model_name": "DescriptionStyleModel",
      "_view_count": null,
      "_view_module": "@jupyter-widgets/base",
      "_view_module_version": "1.2.0",
      "_view_name": "StyleView",
      "description_width": ""
     }
    },
    "738c7ede99654dd59aa46ecf4b7ac804": {
     "model_module": "@jupyter-widgets/base",
     "model_module_version": "1.2.0",
     "model_name": "LayoutModel",
     "state": {
      "_model_module": "@jupyter-widgets/base",
      "_model_module_version": "1.2.0",
      "_model_name": "LayoutModel",
      "_view_count": null,
      "_view_module": "@jupyter-widgets/base",
      "_view_module_version": "1.2.0",
      "_view_name": "LayoutView",
      "align_content": null,
      "align_items": null,
      "align_self": null,
      "border": null,
      "bottom": null,
      "display": null,
      "flex": null,
      "flex_flow": null,
      "grid_area": null,
      "grid_auto_columns": null,
      "grid_auto_flow": null,
      "grid_auto_rows": null,
      "grid_column": null,
      "grid_gap": null,
      "grid_row": null,
      "grid_template_areas": null,
      "grid_template_columns": null,
      "grid_template_rows": null,
      "height": null,
      "justify_content": null,
      "justify_items": null,
      "left": null,
      "margin": null,
      "max_height": null,
      "max_width": null,
      "min_height": null,
      "min_width": null,
      "object_fit": null,
      "object_position": null,
      "order": null,
      "overflow": null,
      "overflow_x": null,
      "overflow_y": null,
      "padding": null,
      "right": null,
      "top": null,
      "visibility": null,
      "width": null
     }
    },
    "8653e80ce4304b0bbcfd14a5e90952c0": {
     "model_module": "@jupyter-widgets/controls",
     "model_module_version": "1.5.0",
     "model_name": "DescriptionStyleModel",
     "state": {
      "_model_module": "@jupyter-widgets/controls",
      "_model_module_version": "1.5.0",
      "_model_name": "DescriptionStyleModel",
      "_view_count": null,
      "_view_module": "@jupyter-widgets/base",
      "_view_module_version": "1.2.0",
      "_view_name": "StyleView",
      "description_width": ""
     }
    },
    "9710fd246f1943258ba37cc8d6454b62": {
     "model_module": "@jupyter-widgets/base",
     "model_module_version": "1.2.0",
     "model_name": "LayoutModel",
     "state": {
      "_model_module": "@jupyter-widgets/base",
      "_model_module_version": "1.2.0",
      "_model_name": "LayoutModel",
      "_view_count": null,
      "_view_module": "@jupyter-widgets/base",
      "_view_module_version": "1.2.0",
      "_view_name": "LayoutView",
      "align_content": null,
      "align_items": null,
      "align_self": null,
      "border": null,
      "bottom": null,
      "display": null,
      "flex": null,
      "flex_flow": null,
      "grid_area": null,
      "grid_auto_columns": null,
      "grid_auto_flow": null,
      "grid_auto_rows": null,
      "grid_column": null,
      "grid_gap": null,
      "grid_row": null,
      "grid_template_areas": null,
      "grid_template_columns": null,
      "grid_template_rows": null,
      "height": null,
      "justify_content": null,
      "justify_items": null,
      "left": null,
      "margin": null,
      "max_height": null,
      "max_width": null,
      "min_height": null,
      "min_width": null,
      "object_fit": null,
      "object_position": null,
      "order": null,
      "overflow": null,
      "overflow_x": null,
      "overflow_y": null,
      "padding": null,
      "right": null,
      "top": null,
      "visibility": null,
      "width": null
     }
    },
    "a642eca5e34649ce84ce47fd9f11bee6": {
     "model_module": "@jupyter-widgets/controls",
     "model_module_version": "1.5.0",
     "model_name": "HTMLModel",
     "state": {
      "_dom_classes": [],
      "_model_module": "@jupyter-widgets/controls",
      "_model_module_version": "1.5.0",
      "_model_name": "HTMLModel",
      "_view_count": null,
      "_view_module": "@jupyter-widgets/controls",
      "_view_module_version": "1.5.0",
      "_view_name": "HTMLView",
      "description": "",
      "description_tooltip": null,
      "layout": "IPY_MODEL_738c7ede99654dd59aa46ecf4b7ac804",
      "placeholder": "​",
      "style": "IPY_MODEL_3cb79e7831a24df38809bd9c27e8a6d3",
      "value": " 193k/? [00:00&lt;00:00, 4.75MB/s]"
     }
    },
    "ad92948248264f4cb98b40f2b6eec143": {
     "model_module": "@jupyter-widgets/base",
     "model_module_version": "1.2.0",
     "model_name": "LayoutModel",
     "state": {
      "_model_module": "@jupyter-widgets/base",
      "_model_module_version": "1.2.0",
      "_model_name": "LayoutModel",
      "_view_count": null,
      "_view_module": "@jupyter-widgets/base",
      "_view_module_version": "1.2.0",
      "_view_name": "LayoutView",
      "align_content": null,
      "align_items": null,
      "align_self": null,
      "border": null,
      "bottom": null,
      "display": null,
      "flex": null,
      "flex_flow": null,
      "grid_area": null,
      "grid_auto_columns": null,
      "grid_auto_flow": null,
      "grid_auto_rows": null,
      "grid_column": null,
      "grid_gap": null,
      "grid_row": null,
      "grid_template_areas": null,
      "grid_template_columns": null,
      "grid_template_rows": null,
      "height": null,
      "justify_content": null,
      "justify_items": null,
      "left": null,
      "margin": null,
      "max_height": null,
      "max_width": null,
      "min_height": null,
      "min_width": null,
      "object_fit": null,
      "object_position": null,
      "order": null,
      "overflow": null,
      "overflow_x": null,
      "overflow_y": null,
      "padding": null,
      "right": null,
      "top": null,
      "visibility": null,
      "width": null
     }
    },
    "c1ea0ca2be8f4cd39a5168fdced8264a": {
     "model_module": "@jupyter-widgets/controls",
     "model_module_version": "1.5.0",
     "model_name": "FloatProgressModel",
     "state": {
      "_dom_classes": [],
      "_model_module": "@jupyter-widgets/controls",
      "_model_module_version": "1.5.0",
      "_model_name": "FloatProgressModel",
      "_view_count": null,
      "_view_module": "@jupyter-widgets/controls",
      "_view_module_version": "1.5.0",
      "_view_name": "ProgressView",
      "bar_style": "success",
      "description": "",
      "description_tooltip": null,
      "layout": "IPY_MODEL_71845a3840d54187b7120b16c8406194",
      "max": 561333907,
      "min": 0,
      "orientation": "horizontal",
      "style": "IPY_MODEL_d4251c4227fc4efa8d6400bbd4695171",
      "value": 561333907
     }
    },
    "d3155ecf834340609b9dc25df5cec3a2": {
     "model_module": "@jupyter-widgets/controls",
     "model_module_version": "1.5.0",
     "model_name": "DescriptionStyleModel",
     "state": {
      "_model_module": "@jupyter-widgets/controls",
      "_model_module_version": "1.5.0",
      "_model_name": "DescriptionStyleModel",
      "_view_count": null,
      "_view_module": "@jupyter-widgets/base",
      "_view_module_version": "1.2.0",
      "_view_name": "StyleView",
      "description_width": ""
     }
    },
    "d4251c4227fc4efa8d6400bbd4695171": {
     "model_module": "@jupyter-widgets/controls",
     "model_module_version": "1.5.0",
     "model_name": "ProgressStyleModel",
     "state": {
      "_model_module": "@jupyter-widgets/controls",
      "_model_module_version": "1.5.0",
      "_model_name": "ProgressStyleModel",
      "_view_count": null,
      "_view_module": "@jupyter-widgets/base",
      "_view_module_version": "1.2.0",
      "_view_name": "StyleView",
      "bar_color": null,
      "description_width": ""
     }
    },
    "d4c72b61447b4b78b1e82a2ca93a365c": {
     "model_module": "@jupyter-widgets/base",
     "model_module_version": "1.2.0",
     "model_name": "LayoutModel",
     "state": {
      "_model_module": "@jupyter-widgets/base",
      "_model_module_version": "1.2.0",
      "_model_name": "LayoutModel",
      "_view_count": null,
      "_view_module": "@jupyter-widgets/base",
      "_view_module_version": "1.2.0",
      "_view_name": "LayoutView",
      "align_content": null,
      "align_items": null,
      "align_self": null,
      "border": null,
      "bottom": null,
      "display": null,
      "flex": null,
      "flex_flow": null,
      "grid_area": null,
      "grid_auto_columns": null,
      "grid_auto_flow": null,
      "grid_auto_rows": null,
      "grid_column": null,
      "grid_gap": null,
      "grid_row": null,
      "grid_template_areas": null,
      "grid_template_columns": null,
      "grid_template_rows": null,
      "height": null,
      "justify_content": null,
      "justify_items": null,
      "left": null,
      "margin": null,
      "max_height": null,
      "max_width": null,
      "min_height": null,
      "min_width": null,
      "object_fit": null,
      "object_position": null,
      "order": null,
      "overflow": null,
      "overflow_x": null,
      "overflow_y": null,
      "padding": null,
      "right": null,
      "top": null,
      "visibility": null,
      "width": null
     }
    },
    "df6b06ecb56f423682c0b81450369c68": {
     "model_module": "@jupyter-widgets/controls",
     "model_module_version": "1.5.0",
     "model_name": "HBoxModel",
     "state": {
      "_dom_classes": [],
      "_model_module": "@jupyter-widgets/controls",
      "_model_module_version": "1.5.0",
      "_model_name": "HBoxModel",
      "_view_count": null,
      "_view_module": "@jupyter-widgets/controls",
      "_view_module_version": "1.5.0",
      "_view_name": "HBoxView",
      "box_style": "",
      "children": [
       "IPY_MODEL_365f9fc1f1f44502b22abe715e797a10",
       "IPY_MODEL_1fbdc06fb1544d53a05533382b9c0062",
       "IPY_MODEL_67fcbabbc7e94682a8d032fe4ed5144d"
      ],
      "layout": "IPY_MODEL_2da511597a914db7b4ddf749852b331d"
     }
    },
    "e2d3d80aa1a24b36a52a2a30bb913dec": {
     "model_module": "@jupyter-widgets/controls",
     "model_module_version": "1.5.0",
     "model_name": "ProgressStyleModel",
     "state": {
      "_model_module": "@jupyter-widgets/controls",
      "_model_module_version": "1.5.0",
      "_model_name": "ProgressStyleModel",
      "_view_count": null,
      "_view_module": "@jupyter-widgets/base",
      "_view_module_version": "1.2.0",
      "_view_name": "StyleView",
      "bar_color": null,
      "description_width": ""
     }
    },
    "e8b1735596864545a94d85d2f02fd1e6": {
     "model_module": "@jupyter-widgets/controls",
     "model_module_version": "1.5.0",
     "model_name": "FloatProgressModel",
     "state": {
      "_dom_classes": [],
      "_model_module": "@jupyter-widgets/controls",
      "_model_module_version": "1.5.0",
      "_model_name": "FloatProgressModel",
      "_view_count": null,
      "_view_module": "@jupyter-widgets/controls",
      "_view_module_version": "1.5.0",
      "_view_name": "ProgressView",
      "bar_style": "success",
      "description": "",
      "description_tooltip": null,
      "layout": "IPY_MODEL_01e45d867ff4434e8bde895e1edc78cf",
      "max": 28918,
      "min": 0,
      "orientation": "horizontal",
      "style": "IPY_MODEL_e2d3d80aa1a24b36a52a2a30bb913dec",
      "value": 28918
     }
    },
    "ecc24e7ae09b432599b2ee56a4a57e09": {
     "model_module": "@jupyter-widgets/base",
     "model_module_version": "1.2.0",
     "model_name": "LayoutModel",
     "state": {
      "_model_module": "@jupyter-widgets/base",
      "_model_module_version": "1.2.0",
      "_model_name": "LayoutModel",
      "_view_count": null,
      "_view_module": "@jupyter-widgets/base",
      "_view_module_version": "1.2.0",
      "_view_name": "LayoutView",
      "align_content": null,
      "align_items": null,
      "align_self": null,
      "border": null,
      "bottom": null,
      "display": null,
      "flex": null,
      "flex_flow": null,
      "grid_area": null,
      "grid_auto_columns": null,
      "grid_auto_flow": null,
      "grid_auto_rows": null,
      "grid_column": null,
      "grid_gap": null,
      "grid_row": null,
      "grid_template_areas": null,
      "grid_template_columns": null,
      "grid_template_rows": null,
      "height": null,
      "justify_content": null,
      "justify_items": null,
      "left": null,
      "margin": null,
      "max_height": null,
      "max_width": null,
      "min_height": null,
      "min_width": null,
      "object_fit": null,
      "object_position": null,
      "order": null,
      "overflow": null,
      "overflow_x": null,
      "overflow_y": null,
      "padding": null,
      "right": null,
      "top": null,
      "visibility": null,
      "width": null
     }
    },
    "fb4da8ef7a04451487731260764d7468": {
     "model_module": "@jupyter-widgets/controls",
     "model_module_version": "1.5.0",
     "model_name": "HTMLModel",
     "state": {
      "_dom_classes": [],
      "_model_module": "@jupyter-widgets/controls",
      "_model_module_version": "1.5.0",
      "_model_name": "HTMLModel",
      "_view_count": null,
      "_view_module": "@jupyter-widgets/controls",
      "_view_module_version": "1.5.0",
      "_view_name": "HTMLView",
      "description": "",
      "description_tooltip": null,
      "layout": "IPY_MODEL_d4c72b61447b4b78b1e82a2ca93a365c",
      "placeholder": "​",
      "style": "IPY_MODEL_6b61994192e74430957f414859c3c28f",
      "value": "Downloading https://huggingface.co/stanfordnlp/stanza-en/resolve/v1.4.1/models/default.zip: 100%"
     }
    }
   }
  }
 },
 "nbformat": 4,
 "nbformat_minor": 1
}
