{
 "cells": [
  {
   "cell_type": "markdown",
   "metadata": {
    "id": "tI2JPeWk9_e3"
   },
   "source": [
    "### Connect Google Drive"
   ]
  },
  {
   "cell_type": "markdown",
   "metadata": {},
   "source": [
    "Open the [COLAB NOTEBOOK HERE](https://colab.research.google.com/drive/1lLfWRUrcfo_yKM0d9QZdhN5r8dlHNuZ2?usp=sharing)."
   ]
  },
  {
   "cell_type": "code",
   "execution_count": null,
   "metadata": {
    "colab": {
     "base_uri": "https://localhost:8080/"
    },
    "id": "pYgIlFY09zxr",
    "outputId": "e7842486-1ddd-44b1-f45b-39af7386fa44"
   },
   "outputs": [
    {
     "name": "stdout",
     "output_type": "stream",
     "text": [
      "Mounted at /content/drive\n"
     ]
    }
   ],
   "source": [
    "from google.colab import drive\n",
    "drive.mount('/content/drive')"
   ]
  },
  {
   "cell_type": "markdown",
   "metadata": {
    "id": "lLofUFMwACJJ"
   },
   "source": [
    "Put your path below"
   ]
  },
  {
   "cell_type": "code",
   "execution_count": null,
   "metadata": {
    "id": "bwBL2EYN91bc"
   },
   "outputs": [],
   "source": [
    "!cd '/content/drive/MyDrive/AIISC-Internship/text-based-object-discovery'"
   ]
  },
  {
   "cell_type": "code",
   "execution_count": null,
   "metadata": {
    "id": "yRXkRovRAcS2"
   },
   "outputs": [],
   "source": [
    "PATH = '/content/drive/MyDrive/AIISC-Internship/text-based-object-discovery'"
   ]
  },
  {
   "cell_type": "markdown",
   "metadata": {},
   "source": [
    "### Local PC or Mac"
   ]
  },
  {
   "cell_type": "code",
   "execution_count": 6,
   "metadata": {},
   "outputs": [],
   "source": [
    "PATH = '/Users/rishideychowdhury/Desktop/Text-Based-Object-Discovery'"
   ]
  },
  {
   "cell_type": "markdown",
   "metadata": {
    "id": "D8rvljtL1abQ"
   },
   "source": [
    "### Install Required Packages"
   ]
  },
  {
   "cell_type": "markdown",
   "metadata": {
    "id": "Gl1ekBkx09AQ"
   },
   "source": [
    "`Stanza`, Stanford NLP Package benefits from `GPU` so enable it under `View Resources > Change runtime type`"
   ]
  },
  {
   "cell_type": "code",
   "execution_count": null,
   "metadata": {
    "colab": {
     "base_uri": "https://localhost:8080/"
    },
    "id": "wYJ_MPw_0URj",
    "outputId": "eea309b8-a2fa-45dc-ba3f-d4a77569d4bf"
   },
   "outputs": [
    {
     "name": "stdout",
     "output_type": "stream",
     "text": [
      "GPU 0: Tesla T4 (UUID: GPU-4e4bd966-8027-b9b5-2880-23cb26555ad4)\n"
     ]
    }
   ],
   "source": [
    "!nvidia-smi -L"
   ]
  },
  {
   "cell_type": "code",
   "execution_count": null,
   "metadata": {
    "colab": {
     "base_uri": "https://localhost:8080/"
    },
    "id": "TDKLBzgl0e0W",
    "outputId": "845ca1ef-254a-47f7-a2fd-0854a9e3dccc"
   },
   "outputs": [
    {
     "name": "stdout",
     "output_type": "stream",
     "text": [
      "Looking in indexes: https://pypi.org/simple, https://us-python.pkg.dev/colab-wheels/public/simple/\n",
      "Collecting stanza\n",
      "  Downloading stanza-1.4.2-py3-none-any.whl (691 kB)\n",
      "\u001b[2K     \u001b[90m━━━━━━━━━━━━━━━━━━━━━━━━━━━━━━━━━━━━━━\u001b[0m \u001b[32m691.3/691.3 KB\u001b[0m \u001b[31m17.2 MB/s\u001b[0m eta \u001b[36m0:00:00\u001b[0m\n",
      "\u001b[?25hRequirement already satisfied: six in /usr/local/lib/python3.8/dist-packages (from stanza) (1.15.0)\n",
      "Requirement already satisfied: numpy in /usr/local/lib/python3.8/dist-packages (from stanza) (1.21.6)\n",
      "Collecting emoji\n",
      "  Downloading emoji-2.2.0.tar.gz (240 kB)\n",
      "\u001b[2K     \u001b[90m━━━━━━━━━━━━━━━━━━━━━━━━━━━━━━━━━━━━━━\u001b[0m \u001b[32m240.9/240.9 KB\u001b[0m \u001b[31m26.4 MB/s\u001b[0m eta \u001b[36m0:00:00\u001b[0m\n",
      "\u001b[?25h  Preparing metadata (setup.py) ... \u001b[?25l\u001b[?25hdone\n",
      "Requirement already satisfied: requests in /usr/local/lib/python3.8/dist-packages (from stanza) (2.25.1)\n",
      "Requirement already satisfied: torch>=1.3.0 in /usr/local/lib/python3.8/dist-packages (from stanza) (1.13.0+cu116)\n",
      "Requirement already satisfied: tqdm in /usr/local/lib/python3.8/dist-packages (from stanza) (4.64.1)\n",
      "Requirement already satisfied: protobuf in /usr/local/lib/python3.8/dist-packages (from stanza) (3.19.6)\n",
      "Requirement already satisfied: typing-extensions in /usr/local/lib/python3.8/dist-packages (from torch>=1.3.0->stanza) (4.4.0)\n",
      "Requirement already satisfied: urllib3<1.27,>=1.21.1 in /usr/local/lib/python3.8/dist-packages (from requests->stanza) (1.24.3)\n",
      "Requirement already satisfied: chardet<5,>=3.0.2 in /usr/local/lib/python3.8/dist-packages (from requests->stanza) (4.0.0)\n",
      "Requirement already satisfied: idna<3,>=2.5 in /usr/local/lib/python3.8/dist-packages (from requests->stanza) (2.10)\n",
      "Requirement already satisfied: certifi>=2017.4.17 in /usr/local/lib/python3.8/dist-packages (from requests->stanza) (2022.12.7)\n",
      "Building wheels for collected packages: emoji\n",
      "  Building wheel for emoji (setup.py) ... \u001b[?25l\u001b[?25hdone\n",
      "  Created wheel for emoji: filename=emoji-2.2.0-py3-none-any.whl size=234926 sha256=490ec6569a39a1f6ffd2470b17be6af43097309b03ba1ad434c2c40759aa8bb4\n",
      "  Stored in directory: /root/.cache/pip/wheels/86/62/9e/a6b27a681abcde69970dbc0326ff51955f3beac72f15696984\n",
      "Successfully built emoji\n",
      "Installing collected packages: emoji, stanza\n",
      "Successfully installed emoji-2.2.0 stanza-1.4.2\n",
      "Looking in indexes: https://pypi.org/simple, https://us-python.pkg.dev/colab-wheels/public/simple/\n",
      "Collecting ftfy\n",
      "  Downloading ftfy-6.1.1-py3-none-any.whl (53 kB)\n",
      "\u001b[2K     \u001b[90m━━━━━━━━━━━━━━━━━━━━━━━━━━━━━━━━━━━━━━━━\u001b[0m \u001b[32m53.1/53.1 KB\u001b[0m \u001b[31m3.2 MB/s\u001b[0m eta \u001b[36m0:00:00\u001b[0m\n",
      "\u001b[?25hRequirement already satisfied: regex in /usr/local/lib/python3.8/dist-packages (2022.6.2)\n",
      "Requirement already satisfied: tqdm in /usr/local/lib/python3.8/dist-packages (4.64.1)\n",
      "Requirement already satisfied: wcwidth>=0.2.5 in /usr/local/lib/python3.8/dist-packages (from ftfy) (0.2.5)\n",
      "Installing collected packages: ftfy\n",
      "Successfully installed ftfy-6.1.1\n"
     ]
    }
   ],
   "source": [
    "!pip install stanza # for stanford pos tagger\n",
    "!pip install ftfy regex tqdm"
   ]
  },
  {
   "cell_type": "markdown",
   "metadata": {
    "id": "uU9_nV4_0aQ8"
   },
   "source": [
    "### Load Necessary Libraries"
   ]
  },
  {
   "cell_type": "markdown",
   "metadata": {
    "id": "ue3SU-yo0fKZ"
   },
   "source": [
    "We will load the necessary libraries required for extracting objects from prompts."
   ]
  },
  {
   "cell_type": "code",
   "execution_count": 3,
   "metadata": {
    "id": "C0wV7IAz15g8"
   },
   "outputs": [],
   "source": [
    "import os\n",
    "import json\n",
    "from tqdm import tqdm\n",
    "\n",
    "from matplotlib import pyplot as plt\n",
    "\n",
    "import numpy as np\n",
    "import pandas as pd\n",
    "\n",
    "from nltk.corpus import stopwords"
   ]
  },
  {
   "cell_type": "markdown",
   "metadata": {
    "id": "yuY33h94WGxb"
   },
   "source": [
    "Download the stopwords for removing stopwords"
   ]
  },
  {
   "cell_type": "code",
   "execution_count": 4,
   "metadata": {
    "colab": {
     "base_uri": "https://localhost:8080/"
    },
    "id": "InA4AEJnWCiP",
    "outputId": "6c930c0b-a860-4520-cd8a-723a86eee876"
   },
   "outputs": [
    {
     "name": "stderr",
     "output_type": "stream",
     "text": [
      "[nltk_data] Downloading package stopwords to\n",
      "[nltk_data]     /Users/rishideychowdhury/nltk_data...\n",
      "[nltk_data]   Unzipping corpora/stopwords.zip.\n",
      "[nltk_data] Downloading package wordnet to\n",
      "[nltk_data]     /Users/rishideychowdhury/nltk_data...\n",
      "[nltk_data]   Package wordnet is already up-to-date!\n",
      "[nltk_data] Downloading package punkt to\n",
      "[nltk_data]     /Users/rishideychowdhury/nltk_data...\n",
      "[nltk_data]   Package punkt is already up-to-date!\n",
      "[nltk_data] Downloading package omw-1.4 to\n",
      "[nltk_data]     /Users/rishideychowdhury/nltk_data...\n",
      "[nltk_data]   Package omw-1.4 is already up-to-date!\n",
      "[nltk_data] Downloading package averaged_perceptron_tagger to\n",
      "[nltk_data]     /Users/rishideychowdhury/nltk_data...\n",
      "[nltk_data]   Package averaged_perceptron_tagger is already up-to-\n",
      "[nltk_data]       date!\n"
     ]
    },
    {
     "data": {
      "text/plain": [
       "True"
      ]
     },
     "execution_count": 4,
     "metadata": {},
     "output_type": "execute_result"
    }
   ],
   "source": [
    "import nltk\n",
    "nltk.download('stopwords')\n",
    "nltk.download('wordnet')\n",
    "nltk.download('punkt')\n",
    "nltk.download('omw-1.4')\n",
    "nltk.download('averaged_perceptron_tagger')"
   ]
  },
  {
   "cell_type": "code",
   "execution_count": 5,
   "metadata": {
    "colab": {
     "base_uri": "https://localhost:8080/",
     "height": 118,
     "referenced_widgets": [
      "934d943575c5409892abd8bab431802c",
      "98a719db514b41ff999fbecc03e449de",
      "78571b5bd6dd49fb9500c9050efe6e59",
      "048a8557cde54356aaacc58e2286c826",
      "2584e4d0788f43c8b62e93ded3bf869d",
      "c344be213da64fd29d00b4de039fc22c",
      "6d6246aa8fd94c44a5aed4c6a8f1b066",
      "b1b0e7347cdc42b1bff5bfcf85a30f0d",
      "408c6bea528745dc884aa1490ec87f7d",
      "e94db818ba594e85bb2703b5c25d0e36",
      "16db194c2c1a4e3280c26aabd117de24",
      "4e70e58cf3dd469ca907f5ea29fb8977",
      "9be8d9b1382e42d59fe2236eaaaa770a",
      "9f14519891f64e359b40a99bd767b4db",
      "a77fc55292d14f81a579f73efd9d6b41",
      "2395e11022a14e538ca2c02924dccee9",
      "36f0cc449dce4e2f812e64638a2831dc",
      "8f3daed88c304d6aab6346c7734ab0af",
      "a5cc333addd84caa98ee56d006429de6",
      "c2dc8e47ab834d698fcb32cfca70013f",
      "a5050204af864a91861af06f29f18599",
      "f3e1e22536214300a39efc29be1dd3f6"
     ]
    },
    "id": "Ks3LM5iMS1Nl",
    "outputId": "b08cb693-fda2-48ff-b2cc-e7033649cbe6"
   },
   "outputs": [
    {
     "data": {
      "application/vnd.jupyter.widget-view+json": {
       "model_id": "11c81a59d2574ed6aa4ca043c41dfa4c",
       "version_major": 2,
       "version_minor": 0
      },
      "text/plain": [
       "Downloading https://raw.githubusercontent.com/stanfordnlp/stanza-resources/main/resources_1.4.1.json:   0%|   …"
      ]
     },
     "metadata": {},
     "output_type": "display_data"
    },
    {
     "name": "stderr",
     "output_type": "stream",
     "text": [
      "2023-01-06 16:12:15 INFO: Downloading default packages for language: en (English) ...\n"
     ]
    },
    {
     "data": {
      "application/vnd.jupyter.widget-view+json": {
       "model_id": "c5a2258b9b80404c9c6f5e708c8339b9",
       "version_major": 2,
       "version_minor": 0
      },
      "text/plain": [
       "Downloading https://huggingface.co/stanfordnlp/stanza-en/resolve/v1.4.1/models/default.zip:   0%|          | 0…"
      ]
     },
     "metadata": {},
     "output_type": "display_data"
    },
    {
     "name": "stderr",
     "output_type": "stream",
     "text": [
      "2023-01-06 16:16:28 INFO: Finished downloading models and saved to /Users/rishideychowdhury/stanza_resources.\n"
     ]
    }
   ],
   "source": [
    "import stanza\n",
    "stanza.download('en')"
   ]
  },
  {
   "cell_type": "markdown",
   "metadata": {
    "id": "FxsZiD_M1VSS"
   },
   "source": [
    "### Load Data"
   ]
  },
  {
   "cell_type": "markdown",
   "metadata": {
    "id": "na1LrNBN2Jgf"
   },
   "source": [
    "Below, we load the `Google Conceptual Caption` annotations to extract the captions to continue further with extracting the objects from each caption."
   ]
  },
  {
   "cell_type": "code",
   "execution_count": 9,
   "metadata": {
    "id": "89WD3a8FxLWF"
   },
   "outputs": [],
   "source": [
    "train_file = pd.read_csv(os.path.join(PATH, 'Data/Goggle-Conceptual-Caption/Train_GCC-training.tsv'), sep='\\t', names=['captions', 'url'])\n",
    "val_file = pd.read_csv(os.path.join(PATH, 'Data/Goggle-Conceptual-Caption/Validation_GCC-1.1.0-Validation.tsv'), sep='\\t', names=['captions', 'url'])"
   ]
  },
  {
   "cell_type": "code",
   "execution_count": 10,
   "metadata": {
    "colab": {
     "base_uri": "https://localhost:8080/",
     "height": 424
    },
    "id": "OO9vNlmggfBy",
    "outputId": "cb83709d-5f3f-40ed-c72e-5bd3f6ec8396"
   },
   "outputs": [
    {
     "data": {
      "text/html": [
       "<div>\n",
       "<style scoped>\n",
       "    .dataframe tbody tr th:only-of-type {\n",
       "        vertical-align: middle;\n",
       "    }\n",
       "\n",
       "    .dataframe tbody tr th {\n",
       "        vertical-align: top;\n",
       "    }\n",
       "\n",
       "    .dataframe thead th {\n",
       "        text-align: right;\n",
       "    }\n",
       "</style>\n",
       "<table border=\"1\" class=\"dataframe\">\n",
       "  <thead>\n",
       "    <tr style=\"text-align: right;\">\n",
       "      <th></th>\n",
       "      <th>captions</th>\n",
       "      <th>url</th>\n",
       "    </tr>\n",
       "  </thead>\n",
       "  <tbody>\n",
       "    <tr>\n",
       "      <th>0</th>\n",
       "      <td>a very typical bus station</td>\n",
       "      <td>http://lh6.ggpht.com/-IvRtNLNcG8o/TpFyrudaT6I/...</td>\n",
       "    </tr>\n",
       "    <tr>\n",
       "      <th>1</th>\n",
       "      <td>sierra looked stunning in this top and this sk...</td>\n",
       "      <td>http://78.media.tumblr.com/3b133294bdc7c7784b7...</td>\n",
       "    </tr>\n",
       "    <tr>\n",
       "      <th>2</th>\n",
       "      <td>young confused girl standing in front of a war...</td>\n",
       "      <td>https://media.gettyimages.com/photos/young-con...</td>\n",
       "    </tr>\n",
       "    <tr>\n",
       "      <th>3</th>\n",
       "      <td>interior design of modern living room with fir...</td>\n",
       "      <td>https://thumb1.shutterstock.com/display_pic_wi...</td>\n",
       "    </tr>\n",
       "    <tr>\n",
       "      <th>4</th>\n",
       "      <td>cybernetic scene isolated on white background .</td>\n",
       "      <td>https://thumb1.shutterstock.com/display_pic_wi...</td>\n",
       "    </tr>\n",
       "    <tr>\n",
       "      <th>...</th>\n",
       "      <td>...</td>\n",
       "      <td>...</td>\n",
       "    </tr>\n",
       "    <tr>\n",
       "      <th>3318328</th>\n",
       "      <td>the teams line up for a photo after kick - off</td>\n",
       "      <td>https://i0.wp.com/i.dailymail.co.uk/i/pix/2015...</td>\n",
       "    </tr>\n",
       "    <tr>\n",
       "      <th>3318329</th>\n",
       "      <td>stickers given to delegates at the convention .</td>\n",
       "      <td>http://cdn.radioiowa.com/wp-content/uploads/20...</td>\n",
       "    </tr>\n",
       "    <tr>\n",
       "      <th>3318330</th>\n",
       "      <td>this is my very favourite design that i recent...</td>\n",
       "      <td>https://i.pinimg.com/736x/96/f0/77/96f07728efe...</td>\n",
       "    </tr>\n",
       "    <tr>\n",
       "      <th>3318331</th>\n",
       "      <td>man driving a car through the mountains</td>\n",
       "      <td>https://www.quickenloans.com/blog/wp-content/u...</td>\n",
       "    </tr>\n",
       "    <tr>\n",
       "      <th>3318332</th>\n",
       "      <td>a longtail boat with a flag goes by spectacula...</td>\n",
       "      <td>http://l7.alamy.com/zooms/338c4740f7b2480dbb72...</td>\n",
       "    </tr>\n",
       "  </tbody>\n",
       "</table>\n",
       "<p>3318333 rows × 2 columns</p>\n",
       "</div>"
      ],
      "text/plain": [
       "                                                  captions  \\\n",
       "0                               a very typical bus station   \n",
       "1        sierra looked stunning in this top and this sk...   \n",
       "2        young confused girl standing in front of a war...   \n",
       "3        interior design of modern living room with fir...   \n",
       "4          cybernetic scene isolated on white background .   \n",
       "...                                                    ...   \n",
       "3318328     the teams line up for a photo after kick - off   \n",
       "3318329    stickers given to delegates at the convention .   \n",
       "3318330  this is my very favourite design that i recent...   \n",
       "3318331            man driving a car through the mountains   \n",
       "3318332  a longtail boat with a flag goes by spectacula...   \n",
       "\n",
       "                                                       url  \n",
       "0        http://lh6.ggpht.com/-IvRtNLNcG8o/TpFyrudaT6I/...  \n",
       "1        http://78.media.tumblr.com/3b133294bdc7c7784b7...  \n",
       "2        https://media.gettyimages.com/photos/young-con...  \n",
       "3        https://thumb1.shutterstock.com/display_pic_wi...  \n",
       "4        https://thumb1.shutterstock.com/display_pic_wi...  \n",
       "...                                                    ...  \n",
       "3318328  https://i0.wp.com/i.dailymail.co.uk/i/pix/2015...  \n",
       "3318329  http://cdn.radioiowa.com/wp-content/uploads/20...  \n",
       "3318330  https://i.pinimg.com/736x/96/f0/77/96f07728efe...  \n",
       "3318331  https://www.quickenloans.com/blog/wp-content/u...  \n",
       "3318332  http://l7.alamy.com/zooms/338c4740f7b2480dbb72...  \n",
       "\n",
       "[3318333 rows x 2 columns]"
      ]
     },
     "execution_count": 10,
     "metadata": {},
     "output_type": "execute_result"
    }
   ],
   "source": [
    "train_file"
   ]
  },
  {
   "cell_type": "code",
   "execution_count": 11,
   "metadata": {
    "colab": {
     "base_uri": "https://localhost:8080/",
     "height": 424
    },
    "id": "VqjuTFtPghia",
    "outputId": "bedd8a6a-8bee-4f04-8477-0884ab5a1f42"
   },
   "outputs": [
    {
     "data": {
      "text/html": [
       "<div>\n",
       "<style scoped>\n",
       "    .dataframe tbody tr th:only-of-type {\n",
       "        vertical-align: middle;\n",
       "    }\n",
       "\n",
       "    .dataframe tbody tr th {\n",
       "        vertical-align: top;\n",
       "    }\n",
       "\n",
       "    .dataframe thead th {\n",
       "        text-align: right;\n",
       "    }\n",
       "</style>\n",
       "<table border=\"1\" class=\"dataframe\">\n",
       "  <thead>\n",
       "    <tr style=\"text-align: right;\">\n",
       "      <th></th>\n",
       "      <th>captions</th>\n",
       "      <th>url</th>\n",
       "    </tr>\n",
       "  </thead>\n",
       "  <tbody>\n",
       "    <tr>\n",
       "      <th>0</th>\n",
       "      <td>author : a life in photography -- in pictures</td>\n",
       "      <td>https://i.pinimg.com/736x/66/01/6c/66016c3ba27...</td>\n",
       "    </tr>\n",
       "    <tr>\n",
       "      <th>1</th>\n",
       "      <td>an angler fishes river on a snowy day .</td>\n",
       "      <td>http://www.standard.net/image/2015/02/04/800x_...</td>\n",
       "    </tr>\n",
       "    <tr>\n",
       "      <th>2</th>\n",
       "      <td>photograph of the sign being repaired by brave...</td>\n",
       "      <td>http://indianapolis-photos.funcityfinder.com/f...</td>\n",
       "    </tr>\n",
       "    <tr>\n",
       "      <th>3</th>\n",
       "      <td>the player staring intently at a computer scre...</td>\n",
       "      <td>http://www.abc.net.au/news/image/9066492-3x2-7...</td>\n",
       "    </tr>\n",
       "    <tr>\n",
       "      <th>4</th>\n",
       "      <td>globes : the green 3d person carrying in hands...</td>\n",
       "      <td>https://www.featurepics.com/StockImage/2009031...</td>\n",
       "    </tr>\n",
       "    <tr>\n",
       "      <th>...</th>\n",
       "      <td>...</td>\n",
       "      <td>...</td>\n",
       "    </tr>\n",
       "    <tr>\n",
       "      <th>15835</th>\n",
       "      <td>a bougainvillea with pink flowers on a white b...</td>\n",
       "      <td>https://media.istockphoto.com/photos/bougainvi...</td>\n",
       "    </tr>\n",
       "    <tr>\n",
       "      <th>15836</th>\n",
       "      <td>ingredient hanging over river during festival</td>\n",
       "      <td>http://l7.alamy.com/zooms/4e49c7b4c0274166bb07...</td>\n",
       "    </tr>\n",
       "    <tr>\n",
       "      <th>15837</th>\n",
       "      <td>the general circulation of the atmosphere</td>\n",
       "      <td>http://slideplayer.com/5036014/16/images/22/Th...</td>\n",
       "    </tr>\n",
       "    <tr>\n",
       "      <th>15838</th>\n",
       "      <td>young teenager and her black horse in a traini...</td>\n",
       "      <td>https://www.featurepics.com/StockImage/2008082...</td>\n",
       "    </tr>\n",
       "    <tr>\n",
       "      <th>15839</th>\n",
       "      <td>person warms up during a game against american...</td>\n",
       "      <td>https://media.gettyimages.com/photos/malik-ros...</td>\n",
       "    </tr>\n",
       "  </tbody>\n",
       "</table>\n",
       "<p>15840 rows × 2 columns</p>\n",
       "</div>"
      ],
      "text/plain": [
       "                                                captions  \\\n",
       "0          author : a life in photography -- in pictures   \n",
       "1                an angler fishes river on a snowy day .   \n",
       "2      photograph of the sign being repaired by brave...   \n",
       "3      the player staring intently at a computer scre...   \n",
       "4      globes : the green 3d person carrying in hands...   \n",
       "...                                                  ...   \n",
       "15835  a bougainvillea with pink flowers on a white b...   \n",
       "15836      ingredient hanging over river during festival   \n",
       "15837          the general circulation of the atmosphere   \n",
       "15838  young teenager and her black horse in a traini...   \n",
       "15839  person warms up during a game against american...   \n",
       "\n",
       "                                                     url  \n",
       "0      https://i.pinimg.com/736x/66/01/6c/66016c3ba27...  \n",
       "1      http://www.standard.net/image/2015/02/04/800x_...  \n",
       "2      http://indianapolis-photos.funcityfinder.com/f...  \n",
       "3      http://www.abc.net.au/news/image/9066492-3x2-7...  \n",
       "4      https://www.featurepics.com/StockImage/2009031...  \n",
       "...                                                  ...  \n",
       "15835  https://media.istockphoto.com/photos/bougainvi...  \n",
       "15836  http://l7.alamy.com/zooms/4e49c7b4c0274166bb07...  \n",
       "15837  http://slideplayer.com/5036014/16/images/22/Th...  \n",
       "15838  https://www.featurepics.com/StockImage/2008082...  \n",
       "15839  https://media.gettyimages.com/photos/malik-ros...  \n",
       "\n",
       "[15840 rows x 2 columns]"
      ]
     },
     "execution_count": 11,
     "metadata": {},
     "output_type": "execute_result"
    }
   ],
   "source": [
    "val_file"
   ]
  },
  {
   "cell_type": "markdown",
   "metadata": {
    "id": "MCEvhAFxzaO6"
   },
   "source": [
    "Now, we load the captions for the train and validation set captions in lists."
   ]
  },
  {
   "cell_type": "code",
   "execution_count": 12,
   "metadata": {
    "id": "Ddu67lC2y74U"
   },
   "outputs": [],
   "source": [
    "prompts_train = list(train_file['captions'])\n",
    "prompts_val = list(val_file['captions'])"
   ]
  },
  {
   "cell_type": "code",
   "execution_count": 13,
   "metadata": {
    "colab": {
     "base_uri": "https://localhost:8080/"
    },
    "id": "vVYyBvLPzGYV",
    "outputId": "f0f3b677-de19-4247-be2b-2643cfe36f4c"
   },
   "outputs": [
    {
     "name": "stdout",
     "output_type": "stream",
     "text": [
      "***train captions***\n",
      " a very typical bus station\n",
      "sierra looked stunning in this top and this skirt while performing with person at their former university\n",
      "young confused girl standing in front of a wardrobe\n",
      "interior design of modern living room with fireplace in a new house\n",
      "cybernetic scene isolated on white background .\n",
      "\n",
      "Number of train captions: 3318333\n",
      "\n",
      "\n",
      "***validation captions:***\n",
      " author : a life in photography -- in pictures\n",
      "an angler fishes river on a snowy day .\n",
      "photograph of the sign being repaired by brave person\n",
      "the player staring intently at a computer screen .\n",
      "globes : the green 3d person carrying in hands globe\n",
      "\n",
      "Number of train captions: 15840\n"
     ]
    }
   ],
   "source": [
    "def show_captions():\n",
    "  print('***train captions***\\n', '\\n'.join(prompts_train[:5]))\n",
    "  print()\n",
    "  print('Number of train captions:', len(prompts_train))\n",
    "  print()\n",
    "  print()\n",
    "  print('***validation captions:***\\n', '\\n'.join(prompts_val[:5]))\n",
    "  print()\n",
    "  print('Number of train captions:', len(prompts_val))\n",
    "\n",
    "show_captions()"
   ]
  },
  {
   "cell_type": "markdown",
   "metadata": {
    "id": "BErRDos2AB6B"
   },
   "source": [
    "### Caption Processing"
   ]
  },
  {
   "cell_type": "markdown",
   "metadata": {
    "id": "x6F-PdFL3JQP"
   },
   "source": [
    "Cleaning the prompts. I adopt few ways to clean the prompt:\n",
    "- Lower Case Conversion\n",
    "- Tokenization (Already pre-tokenized is provided by `Google Conceptual Caption`)\n",
    "- Remove stop words\n",
    "- Remove non-alphabets\n",
    "- Keep only nouns\n",
    "- Lemmatization (to store the object name)"
   ]
  },
  {
   "cell_type": "code",
   "execution_count": 14,
   "metadata": {
    "colab": {
     "base_uri": "https://localhost:8080/",
     "height": 363,
     "referenced_widgets": [
      "5df50cc440c94aa3aa0fc2caeab8fdb3",
      "9a620bedbfa0444a863ba4d90de18c11",
      "4da6fb1000ba46df8bf12e76c1452ef1",
      "717c195e77ed47f186e4bc2756805cca",
      "49f1562cc7e7463a9d7ddccb2e7a1ad1",
      "78b331b2dba747d6a20e5af46209c96e",
      "6092551cfdc8448893f33f651f1688c7",
      "a6f4812ecc16476aa879c31cc17663a8",
      "e2a4ab63491b441789fac939b65dbd80",
      "54944198e3894d499f4661030dab8789",
      "e2587fc2418d46c2b3ed9a21b76b1505"
     ]
    },
    "id": "yOBU-9eoBD87",
    "outputId": "3e95cf4b-ba27-4e9a-90dd-4e7d09e1fa42"
   },
   "outputs": [
    {
     "name": "stderr",
     "output_type": "stream",
     "text": [
      "2023-01-06 16:19:43 INFO: Checking for updates to resources.json in case models have been updated.  Note: this behavior can be turned off with download_method=None or download_method=DownloadMethod.REUSE_RESOURCES\n"
     ]
    },
    {
     "data": {
      "application/vnd.jupyter.widget-view+json": {
       "model_id": "b8931bbaf98e4f069e5a65211a44849e",
       "version_major": 2,
       "version_minor": 0
      },
      "text/plain": [
       "Downloading https://raw.githubusercontent.com/stanfordnlp/stanza-resources/main/resources_1.4.1.json:   0%|   …"
      ]
     },
     "metadata": {},
     "output_type": "display_data"
    },
    {
     "name": "stderr",
     "output_type": "stream",
     "text": [
      "2023-01-06 16:19:44 WARNING: Can not find mwt: default from official model list. Ignoring it.\n",
      "2023-01-06 16:19:44 INFO: Loading these models for language: en (English):\n",
      "========================\n",
      "| Processor | Package  |\n",
      "------------------------\n",
      "| tokenize  | combined |\n",
      "| pos       | combined |\n",
      "| lemma     | combined |\n",
      "========================\n",
      "\n",
      "2023-01-06 16:19:44 INFO: Use device: cpu\n",
      "2023-01-06 16:19:44 INFO: Loading: tokenize\n",
      "2023-01-06 16:19:44 INFO: Loading: pos\n",
      "2023-01-06 16:19:44 INFO: Loading: lemma\n",
      "2023-01-06 16:19:44 INFO: Done loading processors!\n"
     ]
    }
   ],
   "source": [
    "# loads the text processing pipeline\n",
    "nlp = stanza.Pipeline(lang='en', processors='tokenize,mwt,pos,lemma', tokenize_no_ssplit=True, tokenize_pretokenized=True, verbose=True, pos_batch_size=10000)\n",
    "\n",
    "# treebank-specific POS (XPOS) tags to keep, other POS tagged tokens will not be retained\n",
    "keep_pos_tags = ['NN', 'NNS', 'NNP', 'NNPS']\n",
    "\n",
    "# Stopwords\n",
    "stpwords = set(stopwords.words('english'))\n",
    "\n",
    "# extract parts of speech\n",
    "def extract_pos(doc):\n",
    "  parsed_text = list()\n",
    "  for sent in doc.sentences:\n",
    "    parsed_sent = list()\n",
    "    for wrd in sent.words:\n",
    "      #extract text and pos\n",
    "      parsed_sent.append((wrd.text, wrd.xpos))\n",
    "    parsed_text.append(parsed_sent)\n",
    "  return parsed_text\n",
    "\n",
    "# extract lemma\n",
    "def extract_lemma(doc):\n",
    "  parsed_text = list()\n",
    "  for sent in doc.sentences:\n",
    "    parsed_sent = list()\n",
    "    for wrd in sent.words:\n",
    "      # extract text and lemma\n",
    "      parsed_sent.append((wrd.text, wrd.lemma))\n",
    "    parsed_text.append(parsed_sent)\n",
    "  return parsed_text\n",
    "\n",
    "def clean_prompt(sentences):\n",
    "  # convert the sentences to lower case\n",
    "  sentences_lc = [sentence.lower() for sentence in sentences]\n",
    "\n",
    "  # stanza accepts only a single string instead of list of strings. So, we have set the tokenize_no_ssplit=True and have to join each sentence with double newline\n",
    "  sentence_string = \"\\n\\n\".join(sentences_lc)\n",
    "\n",
    "  # tokenizes, lemmatizes and pos tags the prompt\n",
    "  processed_prompt = nlp(sentence_string)\n",
    "  \n",
    "  # extracts pos tags from the processed_prompt\n",
    "  pos_tagged_prompt = extract_pos(processed_prompt)\n",
    "\n",
    "  # lemmatized text\n",
    "  lemmatized_prompt = extract_lemma(processed_prompt)\n",
    "\n",
    "  # keep only the noun words, removes stopwords\n",
    "  fin_prompt = [[word for word, pos_tag in sent if ((pos_tag in keep_pos_tags) and (word not in stpwords))] for sent in pos_tagged_prompt]\n",
    "  obj_prompt = [[word_lemma[1] for word_pos, word_lemma in zip(sent_pos, sent_lemma) if ((word_pos[1] in keep_pos_tags) and ((word_lemma[0] not in stpwords) or (word_lemma[1] not in stpwords)))] for sent_pos, sent_lemma in zip(pos_tagged_prompt, lemmatized_prompt)]\n",
    "  return fin_prompt, obj_prompt"
   ]
  },
  {
   "cell_type": "markdown",
   "metadata": {
    "id": "YCs7sDaJiY6h"
   },
   "source": [
    "An example is shown below for the application of `clean_prompt`."
   ]
  },
  {
   "cell_type": "code",
   "execution_count": 15,
   "metadata": {
    "colab": {
     "base_uri": "https://localhost:8080/"
    },
    "id": "ez5_quWfXbDM",
    "outputId": "653a54ce-a228-452d-e40d-1cb39e1d2bef"
   },
   "outputs": [
    {
     "data": {
      "text/plain": [
       "([['fishes', 'mountains.']], [['fish', 'mountains.']])"
      ]
     },
     "execution_count": 15,
     "metadata": {},
     "output_type": "execute_result"
    }
   ],
   "source": [
    "clean_prompt([\"The fishes are playing in the mountains.\"])"
   ]
  },
  {
   "cell_type": "markdown",
   "metadata": {
    "id": "eReFjwGO138w"
   },
   "source": [
    "Below, we start processing each prompt and store the objects detected in the captions from train and validation split."
   ]
  },
  {
   "cell_type": "code",
   "execution_count": 16,
   "metadata": {
    "id": "Rp7UjBLEKsxA"
   },
   "outputs": [],
   "source": [
    "NUM_PROMPTS_INFO_DISPLAY = 500 # After processing how many prompts, some necessary information must be displayed"
   ]
  },
  {
   "cell_type": "code",
   "execution_count": null,
   "metadata": {
    "id": "o3layVVd62BE"
   },
   "outputs": [],
   "source": [
    "# import shutil # Removes directory if already present! CAREFUL!!!!!!!!!!!!!!!!!!\n",
    "# if os.path.exists(os.path.join(PATH, 'Caption-Processing1')):\n",
    "#   shutil.rmtree(os.path.join(PATH, 'Caption-Processing1'))\n",
    "# os.mkdir(os.path.join(PATH, 'Caption-Processing1'))"
   ]
  },
  {
   "cell_type": "code",
   "execution_count": null,
   "metadata": {
    "colab": {
     "background_save": true,
     "base_uri": "https://localhost:8080/"
    },
    "id": "_R3pmpTnEtS6",
    "outputId": "c94f76c2-4445-49df-a555-1887945e7340"
   },
   "outputs": [
    {
     "name": "stdout",
     "output_type": "stream",
     "text": [
      "Starting...\n",
      "Captions to be processed: 3318333\n",
      "Cleaning Prompts... Storing Objects per prompt...\n"
     ]
    }
   ],
   "source": [
    "print('Starting...')\n",
    "print('Captions to be processed:', len(prompts_train))\n",
    "print('Cleaning Prompts... Storing Objects per prompt...')\n",
    "processed_train = clean_prompt(prompts_train) # start processing the train captions"
   ]
  },
  {
   "cell_type": "code",
   "execution_count": null,
   "metadata": {
    "id": "r1z3gSNnFKfS"
   },
   "outputs": [],
   "source": [
    "total_objects = set() # Stores the total number of distinct objects detected\n",
    "num_objects_detected = list() # Stores number of objects detected after processing some number of prompts iteratively\n",
    "caption_data_train_file = {'annotations':[{'caption':caption} for caption in prompts_train]} # For storing results\n",
    "\n",
    "# Processing each prompt and updating annotation file for train set\n",
    "cleaned_prompts, object_prompts = processed_train\n",
    "for idx, prompt in tqdm(enumerate(zip(cleaned_prompts, object_prompts))):\n",
    "  cleaned, objects = prompt # Process prompt\n",
    "  # update files and object list\n",
    "  caption_data_train_file['annotations'][idx]['cleaned'] = cleaned\n",
    "  caption_data_train_file['annotations'][idx]['objects'] = objects\n",
    "  total_objects.update(set(objects))\n",
    "\n",
    "  if (idx+1) % NUM_PROMPTS_INFO_DISPLAY == 0: # Display Info\n",
    "    num_objects_detected.append(len(total_objects))\n",
    "\n",
    "# Display info once the for loop ends\n",
    "if (idx+1) % NUM_PROMPTS_INFO_DISPLAY != 0: \n",
    "  num_objects_detected.append(len(total_objects))\n",
    "\n",
    "# Save the processed captions data\n",
    "with open(os.path.join(PATH, 'Data-Captions/GCC/train-captions-processed.json'), 'w') as outfile: # Save Results in json\n",
    "  outfile.write(json.dumps({'captions': caption_data_train_file['annotations'], 'num_objects': num_objects_detected}, indent=4))\n",
    "\n",
    "# Save the objects detected info\n",
    "with open(os.path.join(PATH, 'Data-Captions/GCC/train-objects.json'), 'w') as outfile: # Saving Total objects in json\n",
    "  outfile.write(json.dumps({'objects': list(total_objects), 'num_objects': num_objects_detected}, indent=4))\n",
    "\n",
    "print('Saved and Finished Processing...')"
   ]
  },
  {
   "cell_type": "code",
   "execution_count": null,
   "metadata": {
    "id": "5WFO0_PAEOeY"
   },
   "outputs": [],
   "source": [
    "print(total_objects)"
   ]
  },
  {
   "cell_type": "code",
   "execution_count": null,
   "metadata": {
    "id": "aa9j-0GgTqb_"
   },
   "outputs": [],
   "source": [
    "print('Starting...')\n",
    "print('Captions to be processed:', len(prompts_val))\n",
    "print('Cleaning Prompts... Storing Objects per prompt...')\n",
    "processed_val = clean_prompt(prompts_val) # start processing the validation captions"
   ]
  },
  {
   "cell_type": "code",
   "execution_count": null,
   "metadata": {
    "id": "3WYIOpESTyWT"
   },
   "outputs": [],
   "source": [
    "total_objects = set() # Stores the total number of distinct objects detected\n",
    "num_objects_detected = list() # Stores number of objects detected after processing some number of prompts iteratively\n",
    "caption_data_val_file = {'annotations':[{'caption':caption} for caption in prompts_val]} # For storing results\n",
    "\n",
    "# Processing each prompt and updating annotation file for validation set\n",
    "cleaned_prompts, object_prompts = processed_val\n",
    "for idx, prompt in tqdm(enumerate(zip(cleaned_prompts, object_prompts))):\n",
    "  cleaned, objects = prompt # Process prompt\n",
    "  # update files and object list\n",
    "  caption_data_val_file['annotations'][idx]['cleaned'] = cleaned\n",
    "  caption_data_val_file['annotations'][idx]['objects'] = objects\n",
    "  total_objects.update(set(objects))\n",
    "\n",
    "  if (idx+1) % NUM_PROMPTS_INFO_DISPLAY == 0: # Display Info\n",
    "    num_objects_detected.append(len(total_objects))\n",
    "\n",
    "# Display info once the for loop ends\n",
    "if (idx+1) % NUM_PROMPTS_INFO_DISPLAY != 0: \n",
    "  num_objects_detected.append(len(total_objects))\n",
    "\n",
    "# Save the processed captions data\n",
    "with open(os.path.join(PATH, 'Data-Captions/GCC/val-captions-processed.json'), 'w') as outfile: # Save Results in json\n",
    "  outfile.write(json.dumps({'captions': caption_data_val_file['annotations'], 'num_objects': num_objects_detected}, indent=4))\n",
    "\n",
    "# Save the objects detected info\n",
    "with open(os.path.join(PATH, 'Data-Captions/GCC/val-objects.json'), 'w') as outfile: # Saving Total objects in json\n",
    "  outfile.write(json.dumps({'objects': list(total_objects), 'num_objects': num_objects_detected}, indent=4))\n",
    "\n",
    "print('Saved and Finished Processing...')"
   ]
  },
  {
   "cell_type": "code",
   "execution_count": null,
   "metadata": {
    "id": "jlrSnDEoC2FM"
   },
   "outputs": [],
   "source": [
    "print(total_objects)"
   ]
  },
  {
   "cell_type": "markdown",
   "metadata": {
    "id": "Tl18GNA8V3Wy"
   },
   "source": [
    "Now, we look at how each additional prompt helped in increasing the number of unique objects in the `total_objects`."
   ]
  },
  {
   "cell_type": "code",
   "execution_count": null,
   "metadata": {
    "id": "UMe2cz6WC3O0"
   },
   "outputs": [],
   "source": [
    "# Load the objects set for train set\n",
    "with open(os.path.join(PATH, 'Data-Captions/GCC/train-objects.json')) as json_file:\n",
    "  train_objects_file = json.load(json_file)\n",
    "\n",
    "# Load the objects set for val set\n",
    "with open(os.path.join(PATH, 'Data-Captions/GCC/val-objects.json')) as json_file:\n",
    "  val_objects_file = json.load(json_file)"
   ]
  },
  {
   "cell_type": "markdown",
   "metadata": {
    "id": "ngElA01uWdpG"
   },
   "source": [
    "Plots are more visually appealing and revealing let's plot the results."
   ]
  },
  {
   "cell_type": "code",
   "execution_count": null,
   "metadata": {
    "id": "9oMj4BMvWZ-2"
   },
   "outputs": [],
   "source": [
    "plt.figure(figsize=(16,12))\n",
    "plt.plot(train_objects_file['num_objects'])\n",
    "plt.xlabel(f'Number of Prompts processed (1 unit = {NUM_PROMPTS_INFO_DISPLAY} prompts)')\n",
    "plt.ylabel('Number of unique objects extracted')\n",
    "plt.title('Objects Extracted from Google Conceptual Captions (train split)')\n",
    "plt.show()"
   ]
  },
  {
   "cell_type": "code",
   "execution_count": null,
   "metadata": {
    "id": "GMx2r-2oWvfk"
   },
   "outputs": [],
   "source": [
    "plt.figure(figsize=(16,12))\n",
    "plt.plot(val_objects_file['num_objects'])\n",
    "plt.xlabel(f'Number of Prompts processed (1 unit = {NUM_PROMPTS_INFO_DISPLAY} prompts)')\n",
    "plt.ylabel('Number of unique objects extracted')\n",
    "plt.title('Objects Extracted from Google Conceptual Captions (validation split)')\n",
    "plt.show()"
   ]
  },
  {
   "cell_type": "code",
   "execution_count": null,
   "metadata": {
    "id": "B1B2hJjOYE4J"
   },
   "outputs": [],
   "source": []
  }
 ],
 "metadata": {
  "accelerator": "GPU",
  "colab": {
   "provenance": []
  },
  "gpuClass": "standard",
  "kernelspec": {
   "display_name": "Python 3 (ipykernel)",
   "language": "python",
   "name": "python3"
  },
  "language_info": {
   "codemirror_mode": {
    "name": "ipython",
    "version": 3
   },
   "file_extension": ".py",
   "mimetype": "text/x-python",
   "name": "python",
   "nbconvert_exporter": "python",
   "pygments_lexer": "ipython3",
   "version": "3.8.15"
  },
  "widgets": {
   "application/vnd.jupyter.widget-state+json": {
    "048a8557cde54356aaacc58e2286c826": {
     "model_module": "@jupyter-widgets/controls",
     "model_module_version": "1.5.0",
     "model_name": "HTMLModel",
     "state": {
      "_dom_classes": [],
      "_model_module": "@jupyter-widgets/controls",
      "_model_module_version": "1.5.0",
      "_model_name": "HTMLModel",
      "_view_count": null,
      "_view_module": "@jupyter-widgets/controls",
      "_view_module_version": "1.5.0",
      "_view_name": "HTMLView",
      "description": "",
      "description_tooltip": null,
      "layout": "IPY_MODEL_e94db818ba594e85bb2703b5c25d0e36",
      "placeholder": "​",
      "style": "IPY_MODEL_16db194c2c1a4e3280c26aabd117de24",
      "value": " 193k/? [00:00&lt;00:00, 10.8MB/s]"
     }
    },
    "16db194c2c1a4e3280c26aabd117de24": {
     "model_module": "@jupyter-widgets/controls",
     "model_module_version": "1.5.0",
     "model_name": "DescriptionStyleModel",
     "state": {
      "_model_module": "@jupyter-widgets/controls",
      "_model_module_version": "1.5.0",
      "_model_name": "DescriptionStyleModel",
      "_view_count": null,
      "_view_module": "@jupyter-widgets/base",
      "_view_module_version": "1.2.0",
      "_view_name": "StyleView",
      "description_width": ""
     }
    },
    "2395e11022a14e538ca2c02924dccee9": {
     "model_module": "@jupyter-widgets/base",
     "model_module_version": "1.2.0",
     "model_name": "LayoutModel",
     "state": {
      "_model_module": "@jupyter-widgets/base",
      "_model_module_version": "1.2.0",
      "_model_name": "LayoutModel",
      "_view_count": null,
      "_view_module": "@jupyter-widgets/base",
      "_view_module_version": "1.2.0",
      "_view_name": "LayoutView",
      "align_content": null,
      "align_items": null,
      "align_self": null,
      "border": null,
      "bottom": null,
      "display": null,
      "flex": null,
      "flex_flow": null,
      "grid_area": null,
      "grid_auto_columns": null,
      "grid_auto_flow": null,
      "grid_auto_rows": null,
      "grid_column": null,
      "grid_gap": null,
      "grid_row": null,
      "grid_template_areas": null,
      "grid_template_columns": null,
      "grid_template_rows": null,
      "height": null,
      "justify_content": null,
      "justify_items": null,
      "left": null,
      "margin": null,
      "max_height": null,
      "max_width": null,
      "min_height": null,
      "min_width": null,
      "object_fit": null,
      "object_position": null,
      "order": null,
      "overflow": null,
      "overflow_x": null,
      "overflow_y": null,
      "padding": null,
      "right": null,
      "top": null,
      "visibility": null,
      "width": null
     }
    },
    "2584e4d0788f43c8b62e93ded3bf869d": {
     "model_module": "@jupyter-widgets/base",
     "model_module_version": "1.2.0",
     "model_name": "LayoutModel",
     "state": {
      "_model_module": "@jupyter-widgets/base",
      "_model_module_version": "1.2.0",
      "_model_name": "LayoutModel",
      "_view_count": null,
      "_view_module": "@jupyter-widgets/base",
      "_view_module_version": "1.2.0",
      "_view_name": "LayoutView",
      "align_content": null,
      "align_items": null,
      "align_self": null,
      "border": null,
      "bottom": null,
      "display": null,
      "flex": null,
      "flex_flow": null,
      "grid_area": null,
      "grid_auto_columns": null,
      "grid_auto_flow": null,
      "grid_auto_rows": null,
      "grid_column": null,
      "grid_gap": null,
      "grid_row": null,
      "grid_template_areas": null,
      "grid_template_columns": null,
      "grid_template_rows": null,
      "height": null,
      "justify_content": null,
      "justify_items": null,
      "left": null,
      "margin": null,
      "max_height": null,
      "max_width": null,
      "min_height": null,
      "min_width": null,
      "object_fit": null,
      "object_position": null,
      "order": null,
      "overflow": null,
      "overflow_x": null,
      "overflow_y": null,
      "padding": null,
      "right": null,
      "top": null,
      "visibility": null,
      "width": null
     }
    },
    "36f0cc449dce4e2f812e64638a2831dc": {
     "model_module": "@jupyter-widgets/base",
     "model_module_version": "1.2.0",
     "model_name": "LayoutModel",
     "state": {
      "_model_module": "@jupyter-widgets/base",
      "_model_module_version": "1.2.0",
      "_model_name": "LayoutModel",
      "_view_count": null,
      "_view_module": "@jupyter-widgets/base",
      "_view_module_version": "1.2.0",
      "_view_name": "LayoutView",
      "align_content": null,
      "align_items": null,
      "align_self": null,
      "border": null,
      "bottom": null,
      "display": null,
      "flex": null,
      "flex_flow": null,
      "grid_area": null,
      "grid_auto_columns": null,
      "grid_auto_flow": null,
      "grid_auto_rows": null,
      "grid_column": null,
      "grid_gap": null,
      "grid_row": null,
      "grid_template_areas": null,
      "grid_template_columns": null,
      "grid_template_rows": null,
      "height": null,
      "justify_content": null,
      "justify_items": null,
      "left": null,
      "margin": null,
      "max_height": null,
      "max_width": null,
      "min_height": null,
      "min_width": null,
      "object_fit": null,
      "object_position": null,
      "order": null,
      "overflow": null,
      "overflow_x": null,
      "overflow_y": null,
      "padding": null,
      "right": null,
      "top": null,
      "visibility": null,
      "width": null
     }
    },
    "408c6bea528745dc884aa1490ec87f7d": {
     "model_module": "@jupyter-widgets/controls",
     "model_module_version": "1.5.0",
     "model_name": "ProgressStyleModel",
     "state": {
      "_model_module": "@jupyter-widgets/controls",
      "_model_module_version": "1.5.0",
      "_model_name": "ProgressStyleModel",
      "_view_count": null,
      "_view_module": "@jupyter-widgets/base",
      "_view_module_version": "1.2.0",
      "_view_name": "StyleView",
      "bar_color": null,
      "description_width": ""
     }
    },
    "49f1562cc7e7463a9d7ddccb2e7a1ad1": {
     "model_module": "@jupyter-widgets/base",
     "model_module_version": "1.2.0",
     "model_name": "LayoutModel",
     "state": {
      "_model_module": "@jupyter-widgets/base",
      "_model_module_version": "1.2.0",
      "_model_name": "LayoutModel",
      "_view_count": null,
      "_view_module": "@jupyter-widgets/base",
      "_view_module_version": "1.2.0",
      "_view_name": "LayoutView",
      "align_content": null,
      "align_items": null,
      "align_self": null,
      "border": null,
      "bottom": null,
      "display": null,
      "flex": null,
      "flex_flow": null,
      "grid_area": null,
      "grid_auto_columns": null,
      "grid_auto_flow": null,
      "grid_auto_rows": null,
      "grid_column": null,
      "grid_gap": null,
      "grid_row": null,
      "grid_template_areas": null,
      "grid_template_columns": null,
      "grid_template_rows": null,
      "height": null,
      "justify_content": null,
      "justify_items": null,
      "left": null,
      "margin": null,
      "max_height": null,
      "max_width": null,
      "min_height": null,
      "min_width": null,
      "object_fit": null,
      "object_position": null,
      "order": null,
      "overflow": null,
      "overflow_x": null,
      "overflow_y": null,
      "padding": null,
      "right": null,
      "top": null,
      "visibility": null,
      "width": null
     }
    },
    "4da6fb1000ba46df8bf12e76c1452ef1": {
     "model_module": "@jupyter-widgets/controls",
     "model_module_version": "1.5.0",
     "model_name": "FloatProgressModel",
     "state": {
      "_dom_classes": [],
      "_model_module": "@jupyter-widgets/controls",
      "_model_module_version": "1.5.0",
      "_model_name": "FloatProgressModel",
      "_view_count": null,
      "_view_module": "@jupyter-widgets/controls",
      "_view_module_version": "1.5.0",
      "_view_name": "ProgressView",
      "bar_style": "success",
      "description": "",
      "description_tooltip": null,
      "layout": "IPY_MODEL_a6f4812ecc16476aa879c31cc17663a8",
      "max": 28918,
      "min": 0,
      "orientation": "horizontal",
      "style": "IPY_MODEL_e2a4ab63491b441789fac939b65dbd80",
      "value": 28918
     }
    },
    "4e70e58cf3dd469ca907f5ea29fb8977": {
     "model_module": "@jupyter-widgets/controls",
     "model_module_version": "1.5.0",
     "model_name": "HBoxModel",
     "state": {
      "_dom_classes": [],
      "_model_module": "@jupyter-widgets/controls",
      "_model_module_version": "1.5.0",
      "_model_name": "HBoxModel",
      "_view_count": null,
      "_view_module": "@jupyter-widgets/controls",
      "_view_module_version": "1.5.0",
      "_view_name": "HBoxView",
      "box_style": "",
      "children": [
       "IPY_MODEL_9be8d9b1382e42d59fe2236eaaaa770a",
       "IPY_MODEL_9f14519891f64e359b40a99bd767b4db",
       "IPY_MODEL_a77fc55292d14f81a579f73efd9d6b41"
      ],
      "layout": "IPY_MODEL_2395e11022a14e538ca2c02924dccee9"
     }
    },
    "54944198e3894d499f4661030dab8789": {
     "model_module": "@jupyter-widgets/base",
     "model_module_version": "1.2.0",
     "model_name": "LayoutModel",
     "state": {
      "_model_module": "@jupyter-widgets/base",
      "_model_module_version": "1.2.0",
      "_model_name": "LayoutModel",
      "_view_count": null,
      "_view_module": "@jupyter-widgets/base",
      "_view_module_version": "1.2.0",
      "_view_name": "LayoutView",
      "align_content": null,
      "align_items": null,
      "align_self": null,
      "border": null,
      "bottom": null,
      "display": null,
      "flex": null,
      "flex_flow": null,
      "grid_area": null,
      "grid_auto_columns": null,
      "grid_auto_flow": null,
      "grid_auto_rows": null,
      "grid_column": null,
      "grid_gap": null,
      "grid_row": null,
      "grid_template_areas": null,
      "grid_template_columns": null,
      "grid_template_rows": null,
      "height": null,
      "justify_content": null,
      "justify_items": null,
      "left": null,
      "margin": null,
      "max_height": null,
      "max_width": null,
      "min_height": null,
      "min_width": null,
      "object_fit": null,
      "object_position": null,
      "order": null,
      "overflow": null,
      "overflow_x": null,
      "overflow_y": null,
      "padding": null,
      "right": null,
      "top": null,
      "visibility": null,
      "width": null
     }
    },
    "5df50cc440c94aa3aa0fc2caeab8fdb3": {
     "model_module": "@jupyter-widgets/controls",
     "model_module_version": "1.5.0",
     "model_name": "HBoxModel",
     "state": {
      "_dom_classes": [],
      "_model_module": "@jupyter-widgets/controls",
      "_model_module_version": "1.5.0",
      "_model_name": "HBoxModel",
      "_view_count": null,
      "_view_module": "@jupyter-widgets/controls",
      "_view_module_version": "1.5.0",
      "_view_name": "HBoxView",
      "box_style": "",
      "children": [
       "IPY_MODEL_9a620bedbfa0444a863ba4d90de18c11",
       "IPY_MODEL_4da6fb1000ba46df8bf12e76c1452ef1",
       "IPY_MODEL_717c195e77ed47f186e4bc2756805cca"
      ],
      "layout": "IPY_MODEL_49f1562cc7e7463a9d7ddccb2e7a1ad1"
     }
    },
    "6092551cfdc8448893f33f651f1688c7": {
     "model_module": "@jupyter-widgets/controls",
     "model_module_version": "1.5.0",
     "model_name": "DescriptionStyleModel",
     "state": {
      "_model_module": "@jupyter-widgets/controls",
      "_model_module_version": "1.5.0",
      "_model_name": "DescriptionStyleModel",
      "_view_count": null,
      "_view_module": "@jupyter-widgets/base",
      "_view_module_version": "1.2.0",
      "_view_name": "StyleView",
      "description_width": ""
     }
    },
    "6d6246aa8fd94c44a5aed4c6a8f1b066": {
     "model_module": "@jupyter-widgets/controls",
     "model_module_version": "1.5.0",
     "model_name": "DescriptionStyleModel",
     "state": {
      "_model_module": "@jupyter-widgets/controls",
      "_model_module_version": "1.5.0",
      "_model_name": "DescriptionStyleModel",
      "_view_count": null,
      "_view_module": "@jupyter-widgets/base",
      "_view_module_version": "1.2.0",
      "_view_name": "StyleView",
      "description_width": ""
     }
    },
    "717c195e77ed47f186e4bc2756805cca": {
     "model_module": "@jupyter-widgets/controls",
     "model_module_version": "1.5.0",
     "model_name": "HTMLModel",
     "state": {
      "_dom_classes": [],
      "_model_module": "@jupyter-widgets/controls",
      "_model_module_version": "1.5.0",
      "_model_name": "HTMLModel",
      "_view_count": null,
      "_view_module": "@jupyter-widgets/controls",
      "_view_module_version": "1.5.0",
      "_view_name": "HTMLView",
      "description": "",
      "description_tooltip": null,
      "layout": "IPY_MODEL_54944198e3894d499f4661030dab8789",
      "placeholder": "​",
      "style": "IPY_MODEL_e2587fc2418d46c2b3ed9a21b76b1505",
      "value": " 193k/? [00:00&lt;00:00, 9.09MB/s]"
     }
    },
    "78571b5bd6dd49fb9500c9050efe6e59": {
     "model_module": "@jupyter-widgets/controls",
     "model_module_version": "1.5.0",
     "model_name": "FloatProgressModel",
     "state": {
      "_dom_classes": [],
      "_model_module": "@jupyter-widgets/controls",
      "_model_module_version": "1.5.0",
      "_model_name": "FloatProgressModel",
      "_view_count": null,
      "_view_module": "@jupyter-widgets/controls",
      "_view_module_version": "1.5.0",
      "_view_name": "ProgressView",
      "bar_style": "success",
      "description": "",
      "description_tooltip": null,
      "layout": "IPY_MODEL_b1b0e7347cdc42b1bff5bfcf85a30f0d",
      "max": 28918,
      "min": 0,
      "orientation": "horizontal",
      "style": "IPY_MODEL_408c6bea528745dc884aa1490ec87f7d",
      "value": 28918
     }
    },
    "78b331b2dba747d6a20e5af46209c96e": {
     "model_module": "@jupyter-widgets/base",
     "model_module_version": "1.2.0",
     "model_name": "LayoutModel",
     "state": {
      "_model_module": "@jupyter-widgets/base",
      "_model_module_version": "1.2.0",
      "_model_name": "LayoutModel",
      "_view_count": null,
      "_view_module": "@jupyter-widgets/base",
      "_view_module_version": "1.2.0",
      "_view_name": "LayoutView",
      "align_content": null,
      "align_items": null,
      "align_self": null,
      "border": null,
      "bottom": null,
      "display": null,
      "flex": null,
      "flex_flow": null,
      "grid_area": null,
      "grid_auto_columns": null,
      "grid_auto_flow": null,
      "grid_auto_rows": null,
      "grid_column": null,
      "grid_gap": null,
      "grid_row": null,
      "grid_template_areas": null,
      "grid_template_columns": null,
      "grid_template_rows": null,
      "height": null,
      "justify_content": null,
      "justify_items": null,
      "left": null,
      "margin": null,
      "max_height": null,
      "max_width": null,
      "min_height": null,
      "min_width": null,
      "object_fit": null,
      "object_position": null,
      "order": null,
      "overflow": null,
      "overflow_x": null,
      "overflow_y": null,
      "padding": null,
      "right": null,
      "top": null,
      "visibility": null,
      "width": null
     }
    },
    "8f3daed88c304d6aab6346c7734ab0af": {
     "model_module": "@jupyter-widgets/controls",
     "model_module_version": "1.5.0",
     "model_name": "DescriptionStyleModel",
     "state": {
      "_model_module": "@jupyter-widgets/controls",
      "_model_module_version": "1.5.0",
      "_model_name": "DescriptionStyleModel",
      "_view_count": null,
      "_view_module": "@jupyter-widgets/base",
      "_view_module_version": "1.2.0",
      "_view_name": "StyleView",
      "description_width": ""
     }
    },
    "934d943575c5409892abd8bab431802c": {
     "model_module": "@jupyter-widgets/controls",
     "model_module_version": "1.5.0",
     "model_name": "HBoxModel",
     "state": {
      "_dom_classes": [],
      "_model_module": "@jupyter-widgets/controls",
      "_model_module_version": "1.5.0",
      "_model_name": "HBoxModel",
      "_view_count": null,
      "_view_module": "@jupyter-widgets/controls",
      "_view_module_version": "1.5.0",
      "_view_name": "HBoxView",
      "box_style": "",
      "children": [
       "IPY_MODEL_98a719db514b41ff999fbecc03e449de",
       "IPY_MODEL_78571b5bd6dd49fb9500c9050efe6e59",
       "IPY_MODEL_048a8557cde54356aaacc58e2286c826"
      ],
      "layout": "IPY_MODEL_2584e4d0788f43c8b62e93ded3bf869d"
     }
    },
    "98a719db514b41ff999fbecc03e449de": {
     "model_module": "@jupyter-widgets/controls",
     "model_module_version": "1.5.0",
     "model_name": "HTMLModel",
     "state": {
      "_dom_classes": [],
      "_model_module": "@jupyter-widgets/controls",
      "_model_module_version": "1.5.0",
      "_model_name": "HTMLModel",
      "_view_count": null,
      "_view_module": "@jupyter-widgets/controls",
      "_view_module_version": "1.5.0",
      "_view_name": "HTMLView",
      "description": "",
      "description_tooltip": null,
      "layout": "IPY_MODEL_c344be213da64fd29d00b4de039fc22c",
      "placeholder": "​",
      "style": "IPY_MODEL_6d6246aa8fd94c44a5aed4c6a8f1b066",
      "value": "Downloading https://raw.githubusercontent.com/stanfordnlp/stanza-resources/main/resources_1.4.1.json: "
     }
    },
    "9a620bedbfa0444a863ba4d90de18c11": {
     "model_module": "@jupyter-widgets/controls",
     "model_module_version": "1.5.0",
     "model_name": "HTMLModel",
     "state": {
      "_dom_classes": [],
      "_model_module": "@jupyter-widgets/controls",
      "_model_module_version": "1.5.0",
      "_model_name": "HTMLModel",
      "_view_count": null,
      "_view_module": "@jupyter-widgets/controls",
      "_view_module_version": "1.5.0",
      "_view_name": "HTMLView",
      "description": "",
      "description_tooltip": null,
      "layout": "IPY_MODEL_78b331b2dba747d6a20e5af46209c96e",
      "placeholder": "​",
      "style": "IPY_MODEL_6092551cfdc8448893f33f651f1688c7",
      "value": "Downloading https://raw.githubusercontent.com/stanfordnlp/stanza-resources/main/resources_1.4.1.json: "
     }
    },
    "9be8d9b1382e42d59fe2236eaaaa770a": {
     "model_module": "@jupyter-widgets/controls",
     "model_module_version": "1.5.0",
     "model_name": "HTMLModel",
     "state": {
      "_dom_classes": [],
      "_model_module": "@jupyter-widgets/controls",
      "_model_module_version": "1.5.0",
      "_model_name": "HTMLModel",
      "_view_count": null,
      "_view_module": "@jupyter-widgets/controls",
      "_view_module_version": "1.5.0",
      "_view_name": "HTMLView",
      "description": "",
      "description_tooltip": null,
      "layout": "IPY_MODEL_36f0cc449dce4e2f812e64638a2831dc",
      "placeholder": "​",
      "style": "IPY_MODEL_8f3daed88c304d6aab6346c7734ab0af",
      "value": "Downloading https://huggingface.co/stanfordnlp/stanza-en/resolve/v1.4.1/models/default.zip: 100%"
     }
    },
    "9f14519891f64e359b40a99bd767b4db": {
     "model_module": "@jupyter-widgets/controls",
     "model_module_version": "1.5.0",
     "model_name": "FloatProgressModel",
     "state": {
      "_dom_classes": [],
      "_model_module": "@jupyter-widgets/controls",
      "_model_module_version": "1.5.0",
      "_model_name": "FloatProgressModel",
      "_view_count": null,
      "_view_module": "@jupyter-widgets/controls",
      "_view_module_version": "1.5.0",
      "_view_name": "ProgressView",
      "bar_style": "success",
      "description": "",
      "description_tooltip": null,
      "layout": "IPY_MODEL_a5cc333addd84caa98ee56d006429de6",
      "max": 561333907,
      "min": 0,
      "orientation": "horizontal",
      "style": "IPY_MODEL_c2dc8e47ab834d698fcb32cfca70013f",
      "value": 561333907
     }
    },
    "a5050204af864a91861af06f29f18599": {
     "model_module": "@jupyter-widgets/base",
     "model_module_version": "1.2.0",
     "model_name": "LayoutModel",
     "state": {
      "_model_module": "@jupyter-widgets/base",
      "_model_module_version": "1.2.0",
      "_model_name": "LayoutModel",
      "_view_count": null,
      "_view_module": "@jupyter-widgets/base",
      "_view_module_version": "1.2.0",
      "_view_name": "LayoutView",
      "align_content": null,
      "align_items": null,
      "align_self": null,
      "border": null,
      "bottom": null,
      "display": null,
      "flex": null,
      "flex_flow": null,
      "grid_area": null,
      "grid_auto_columns": null,
      "grid_auto_flow": null,
      "grid_auto_rows": null,
      "grid_column": null,
      "grid_gap": null,
      "grid_row": null,
      "grid_template_areas": null,
      "grid_template_columns": null,
      "grid_template_rows": null,
      "height": null,
      "justify_content": null,
      "justify_items": null,
      "left": null,
      "margin": null,
      "max_height": null,
      "max_width": null,
      "min_height": null,
      "min_width": null,
      "object_fit": null,
      "object_position": null,
      "order": null,
      "overflow": null,
      "overflow_x": null,
      "overflow_y": null,
      "padding": null,
      "right": null,
      "top": null,
      "visibility": null,
      "width": null
     }
    },
    "a5cc333addd84caa98ee56d006429de6": {
     "model_module": "@jupyter-widgets/base",
     "model_module_version": "1.2.0",
     "model_name": "LayoutModel",
     "state": {
      "_model_module": "@jupyter-widgets/base",
      "_model_module_version": "1.2.0",
      "_model_name": "LayoutModel",
      "_view_count": null,
      "_view_module": "@jupyter-widgets/base",
      "_view_module_version": "1.2.0",
      "_view_name": "LayoutView",
      "align_content": null,
      "align_items": null,
      "align_self": null,
      "border": null,
      "bottom": null,
      "display": null,
      "flex": null,
      "flex_flow": null,
      "grid_area": null,
      "grid_auto_columns": null,
      "grid_auto_flow": null,
      "grid_auto_rows": null,
      "grid_column": null,
      "grid_gap": null,
      "grid_row": null,
      "grid_template_areas": null,
      "grid_template_columns": null,
      "grid_template_rows": null,
      "height": null,
      "justify_content": null,
      "justify_items": null,
      "left": null,
      "margin": null,
      "max_height": null,
      "max_width": null,
      "min_height": null,
      "min_width": null,
      "object_fit": null,
      "object_position": null,
      "order": null,
      "overflow": null,
      "overflow_x": null,
      "overflow_y": null,
      "padding": null,
      "right": null,
      "top": null,
      "visibility": null,
      "width": null
     }
    },
    "a6f4812ecc16476aa879c31cc17663a8": {
     "model_module": "@jupyter-widgets/base",
     "model_module_version": "1.2.0",
     "model_name": "LayoutModel",
     "state": {
      "_model_module": "@jupyter-widgets/base",
      "_model_module_version": "1.2.0",
      "_model_name": "LayoutModel",
      "_view_count": null,
      "_view_module": "@jupyter-widgets/base",
      "_view_module_version": "1.2.0",
      "_view_name": "LayoutView",
      "align_content": null,
      "align_items": null,
      "align_self": null,
      "border": null,
      "bottom": null,
      "display": null,
      "flex": null,
      "flex_flow": null,
      "grid_area": null,
      "grid_auto_columns": null,
      "grid_auto_flow": null,
      "grid_auto_rows": null,
      "grid_column": null,
      "grid_gap": null,
      "grid_row": null,
      "grid_template_areas": null,
      "grid_template_columns": null,
      "grid_template_rows": null,
      "height": null,
      "justify_content": null,
      "justify_items": null,
      "left": null,
      "margin": null,
      "max_height": null,
      "max_width": null,
      "min_height": null,
      "min_width": null,
      "object_fit": null,
      "object_position": null,
      "order": null,
      "overflow": null,
      "overflow_x": null,
      "overflow_y": null,
      "padding": null,
      "right": null,
      "top": null,
      "visibility": null,
      "width": null
     }
    },
    "a77fc55292d14f81a579f73efd9d6b41": {
     "model_module": "@jupyter-widgets/controls",
     "model_module_version": "1.5.0",
     "model_name": "HTMLModel",
     "state": {
      "_dom_classes": [],
      "_model_module": "@jupyter-widgets/controls",
      "_model_module_version": "1.5.0",
      "_model_name": "HTMLModel",
      "_view_count": null,
      "_view_module": "@jupyter-widgets/controls",
      "_view_module_version": "1.5.0",
      "_view_name": "HTMLView",
      "description": "",
      "description_tooltip": null,
      "layout": "IPY_MODEL_a5050204af864a91861af06f29f18599",
      "placeholder": "​",
      "style": "IPY_MODEL_f3e1e22536214300a39efc29be1dd3f6",
      "value": " 561M/561M [00:02&lt;00:00, 247MB/s]"
     }
    },
    "b1b0e7347cdc42b1bff5bfcf85a30f0d": {
     "model_module": "@jupyter-widgets/base",
     "model_module_version": "1.2.0",
     "model_name": "LayoutModel",
     "state": {
      "_model_module": "@jupyter-widgets/base",
      "_model_module_version": "1.2.0",
      "_model_name": "LayoutModel",
      "_view_count": null,
      "_view_module": "@jupyter-widgets/base",
      "_view_module_version": "1.2.0",
      "_view_name": "LayoutView",
      "align_content": null,
      "align_items": null,
      "align_self": null,
      "border": null,
      "bottom": null,
      "display": null,
      "flex": null,
      "flex_flow": null,
      "grid_area": null,
      "grid_auto_columns": null,
      "grid_auto_flow": null,
      "grid_auto_rows": null,
      "grid_column": null,
      "grid_gap": null,
      "grid_row": null,
      "grid_template_areas": null,
      "grid_template_columns": null,
      "grid_template_rows": null,
      "height": null,
      "justify_content": null,
      "justify_items": null,
      "left": null,
      "margin": null,
      "max_height": null,
      "max_width": null,
      "min_height": null,
      "min_width": null,
      "object_fit": null,
      "object_position": null,
      "order": null,
      "overflow": null,
      "overflow_x": null,
      "overflow_y": null,
      "padding": null,
      "right": null,
      "top": null,
      "visibility": null,
      "width": null
     }
    },
    "c2dc8e47ab834d698fcb32cfca70013f": {
     "model_module": "@jupyter-widgets/controls",
     "model_module_version": "1.5.0",
     "model_name": "ProgressStyleModel",
     "state": {
      "_model_module": "@jupyter-widgets/controls",
      "_model_module_version": "1.5.0",
      "_model_name": "ProgressStyleModel",
      "_view_count": null,
      "_view_module": "@jupyter-widgets/base",
      "_view_module_version": "1.2.0",
      "_view_name": "StyleView",
      "bar_color": null,
      "description_width": ""
     }
    },
    "c344be213da64fd29d00b4de039fc22c": {
     "model_module": "@jupyter-widgets/base",
     "model_module_version": "1.2.0",
     "model_name": "LayoutModel",
     "state": {
      "_model_module": "@jupyter-widgets/base",
      "_model_module_version": "1.2.0",
      "_model_name": "LayoutModel",
      "_view_count": null,
      "_view_module": "@jupyter-widgets/base",
      "_view_module_version": "1.2.0",
      "_view_name": "LayoutView",
      "align_content": null,
      "align_items": null,
      "align_self": null,
      "border": null,
      "bottom": null,
      "display": null,
      "flex": null,
      "flex_flow": null,
      "grid_area": null,
      "grid_auto_columns": null,
      "grid_auto_flow": null,
      "grid_auto_rows": null,
      "grid_column": null,
      "grid_gap": null,
      "grid_row": null,
      "grid_template_areas": null,
      "grid_template_columns": null,
      "grid_template_rows": null,
      "height": null,
      "justify_content": null,
      "justify_items": null,
      "left": null,
      "margin": null,
      "max_height": null,
      "max_width": null,
      "min_height": null,
      "min_width": null,
      "object_fit": null,
      "object_position": null,
      "order": null,
      "overflow": null,
      "overflow_x": null,
      "overflow_y": null,
      "padding": null,
      "right": null,
      "top": null,
      "visibility": null,
      "width": null
     }
    },
    "e2587fc2418d46c2b3ed9a21b76b1505": {
     "model_module": "@jupyter-widgets/controls",
     "model_module_version": "1.5.0",
     "model_name": "DescriptionStyleModel",
     "state": {
      "_model_module": "@jupyter-widgets/controls",
      "_model_module_version": "1.5.0",
      "_model_name": "DescriptionStyleModel",
      "_view_count": null,
      "_view_module": "@jupyter-widgets/base",
      "_view_module_version": "1.2.0",
      "_view_name": "StyleView",
      "description_width": ""
     }
    },
    "e2a4ab63491b441789fac939b65dbd80": {
     "model_module": "@jupyter-widgets/controls",
     "model_module_version": "1.5.0",
     "model_name": "ProgressStyleModel",
     "state": {
      "_model_module": "@jupyter-widgets/controls",
      "_model_module_version": "1.5.0",
      "_model_name": "ProgressStyleModel",
      "_view_count": null,
      "_view_module": "@jupyter-widgets/base",
      "_view_module_version": "1.2.0",
      "_view_name": "StyleView",
      "bar_color": null,
      "description_width": ""
     }
    },
    "e94db818ba594e85bb2703b5c25d0e36": {
     "model_module": "@jupyter-widgets/base",
     "model_module_version": "1.2.0",
     "model_name": "LayoutModel",
     "state": {
      "_model_module": "@jupyter-widgets/base",
      "_model_module_version": "1.2.0",
      "_model_name": "LayoutModel",
      "_view_count": null,
      "_view_module": "@jupyter-widgets/base",
      "_view_module_version": "1.2.0",
      "_view_name": "LayoutView",
      "align_content": null,
      "align_items": null,
      "align_self": null,
      "border": null,
      "bottom": null,
      "display": null,
      "flex": null,
      "flex_flow": null,
      "grid_area": null,
      "grid_auto_columns": null,
      "grid_auto_flow": null,
      "grid_auto_rows": null,
      "grid_column": null,
      "grid_gap": null,
      "grid_row": null,
      "grid_template_areas": null,
      "grid_template_columns": null,
      "grid_template_rows": null,
      "height": null,
      "justify_content": null,
      "justify_items": null,
      "left": null,
      "margin": null,
      "max_height": null,
      "max_width": null,
      "min_height": null,
      "min_width": null,
      "object_fit": null,
      "object_position": null,
      "order": null,
      "overflow": null,
      "overflow_x": null,
      "overflow_y": null,
      "padding": null,
      "right": null,
      "top": null,
      "visibility": null,
      "width": null
     }
    },
    "f3e1e22536214300a39efc29be1dd3f6": {
     "model_module": "@jupyter-widgets/controls",
     "model_module_version": "1.5.0",
     "model_name": "DescriptionStyleModel",
     "state": {
      "_model_module": "@jupyter-widgets/controls",
      "_model_module_version": "1.5.0",
      "_model_name": "DescriptionStyleModel",
      "_view_count": null,
      "_view_module": "@jupyter-widgets/base",
      "_view_module_version": "1.2.0",
      "_view_name": "StyleView",
      "description_width": ""
     }
    }
   }
  }
 },
 "nbformat": 4,
 "nbformat_minor": 1
}
