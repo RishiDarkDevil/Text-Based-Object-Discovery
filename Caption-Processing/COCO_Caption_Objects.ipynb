{
  "nbformat": 4,
  "nbformat_minor": 0,
  "metadata": {
    "colab": {
      "provenance": []
    },
    "kernelspec": {
      "name": "python3",
      "display_name": "Python 3"
    },
    "language_info": {
      "name": "python"
    },
    "gpuClass": "standard",
    "accelerator": "GPU",
    "widgets": {
      "application/vnd.jupyter.widget-state+json": {
        "8a1551a65852432e86384444755117ad": {
          "model_module": "@jupyter-widgets/controls",
          "model_name": "HBoxModel",
          "model_module_version": "1.5.0",
          "state": {
            "_dom_classes": [],
            "_model_module": "@jupyter-widgets/controls",
            "_model_module_version": "1.5.0",
            "_model_name": "HBoxModel",
            "_view_count": null,
            "_view_module": "@jupyter-widgets/controls",
            "_view_module_version": "1.5.0",
            "_view_name": "HBoxView",
            "box_style": "",
            "children": [
              "IPY_MODEL_08ad9e10c44a445097a413c390ab114f",
              "IPY_MODEL_a769c2ff3dc54e189dfed2ca44ee7105",
              "IPY_MODEL_ba403af0365b409d9839e8233a832642"
            ],
            "layout": "IPY_MODEL_c993dcfe7e0a4f3f9a68669aef52d9c6"
          }
        },
        "08ad9e10c44a445097a413c390ab114f": {
          "model_module": "@jupyter-widgets/controls",
          "model_name": "HTMLModel",
          "model_module_version": "1.5.0",
          "state": {
            "_dom_classes": [],
            "_model_module": "@jupyter-widgets/controls",
            "_model_module_version": "1.5.0",
            "_model_name": "HTMLModel",
            "_view_count": null,
            "_view_module": "@jupyter-widgets/controls",
            "_view_module_version": "1.5.0",
            "_view_name": "HTMLView",
            "description": "",
            "description_tooltip": null,
            "layout": "IPY_MODEL_ae320d63b8604eb790e1cac666525eee",
            "placeholder": "​",
            "style": "IPY_MODEL_c10eba3189d9491791b07fe4cc08cffa",
            "value": "Downloading https://raw.githubusercontent.com/stanfordnlp/stanza-resources/main/resources_1.4.1.json: "
          }
        },
        "a769c2ff3dc54e189dfed2ca44ee7105": {
          "model_module": "@jupyter-widgets/controls",
          "model_name": "FloatProgressModel",
          "model_module_version": "1.5.0",
          "state": {
            "_dom_classes": [],
            "_model_module": "@jupyter-widgets/controls",
            "_model_module_version": "1.5.0",
            "_model_name": "FloatProgressModel",
            "_view_count": null,
            "_view_module": "@jupyter-widgets/controls",
            "_view_module_version": "1.5.0",
            "_view_name": "ProgressView",
            "bar_style": "success",
            "description": "",
            "description_tooltip": null,
            "layout": "IPY_MODEL_69aea68996a14532a5b880f798d22130",
            "max": 28918,
            "min": 0,
            "orientation": "horizontal",
            "style": "IPY_MODEL_e20c3d7f3cdb403ca8f5ca9ad00c68b6",
            "value": 28918
          }
        },
        "ba403af0365b409d9839e8233a832642": {
          "model_module": "@jupyter-widgets/controls",
          "model_name": "HTMLModel",
          "model_module_version": "1.5.0",
          "state": {
            "_dom_classes": [],
            "_model_module": "@jupyter-widgets/controls",
            "_model_module_version": "1.5.0",
            "_model_name": "HTMLModel",
            "_view_count": null,
            "_view_module": "@jupyter-widgets/controls",
            "_view_module_version": "1.5.0",
            "_view_name": "HTMLView",
            "description": "",
            "description_tooltip": null,
            "layout": "IPY_MODEL_04e4d1789f4041dc8045cc3fd81d7645",
            "placeholder": "​",
            "style": "IPY_MODEL_b7100d5645db4610b21fc992f94f1f1d",
            "value": " 193k/? [00:00&lt;00:00, 9.88MB/s]"
          }
        },
        "c993dcfe7e0a4f3f9a68669aef52d9c6": {
          "model_module": "@jupyter-widgets/base",
          "model_name": "LayoutModel",
          "model_module_version": "1.2.0",
          "state": {
            "_model_module": "@jupyter-widgets/base",
            "_model_module_version": "1.2.0",
            "_model_name": "LayoutModel",
            "_view_count": null,
            "_view_module": "@jupyter-widgets/base",
            "_view_module_version": "1.2.0",
            "_view_name": "LayoutView",
            "align_content": null,
            "align_items": null,
            "align_self": null,
            "border": null,
            "bottom": null,
            "display": null,
            "flex": null,
            "flex_flow": null,
            "grid_area": null,
            "grid_auto_columns": null,
            "grid_auto_flow": null,
            "grid_auto_rows": null,
            "grid_column": null,
            "grid_gap": null,
            "grid_row": null,
            "grid_template_areas": null,
            "grid_template_columns": null,
            "grid_template_rows": null,
            "height": null,
            "justify_content": null,
            "justify_items": null,
            "left": null,
            "margin": null,
            "max_height": null,
            "max_width": null,
            "min_height": null,
            "min_width": null,
            "object_fit": null,
            "object_position": null,
            "order": null,
            "overflow": null,
            "overflow_x": null,
            "overflow_y": null,
            "padding": null,
            "right": null,
            "top": null,
            "visibility": null,
            "width": null
          }
        },
        "ae320d63b8604eb790e1cac666525eee": {
          "model_module": "@jupyter-widgets/base",
          "model_name": "LayoutModel",
          "model_module_version": "1.2.0",
          "state": {
            "_model_module": "@jupyter-widgets/base",
            "_model_module_version": "1.2.0",
            "_model_name": "LayoutModel",
            "_view_count": null,
            "_view_module": "@jupyter-widgets/base",
            "_view_module_version": "1.2.0",
            "_view_name": "LayoutView",
            "align_content": null,
            "align_items": null,
            "align_self": null,
            "border": null,
            "bottom": null,
            "display": null,
            "flex": null,
            "flex_flow": null,
            "grid_area": null,
            "grid_auto_columns": null,
            "grid_auto_flow": null,
            "grid_auto_rows": null,
            "grid_column": null,
            "grid_gap": null,
            "grid_row": null,
            "grid_template_areas": null,
            "grid_template_columns": null,
            "grid_template_rows": null,
            "height": null,
            "justify_content": null,
            "justify_items": null,
            "left": null,
            "margin": null,
            "max_height": null,
            "max_width": null,
            "min_height": null,
            "min_width": null,
            "object_fit": null,
            "object_position": null,
            "order": null,
            "overflow": null,
            "overflow_x": null,
            "overflow_y": null,
            "padding": null,
            "right": null,
            "top": null,
            "visibility": null,
            "width": null
          }
        },
        "c10eba3189d9491791b07fe4cc08cffa": {
          "model_module": "@jupyter-widgets/controls",
          "model_name": "DescriptionStyleModel",
          "model_module_version": "1.5.0",
          "state": {
            "_model_module": "@jupyter-widgets/controls",
            "_model_module_version": "1.5.0",
            "_model_name": "DescriptionStyleModel",
            "_view_count": null,
            "_view_module": "@jupyter-widgets/base",
            "_view_module_version": "1.2.0",
            "_view_name": "StyleView",
            "description_width": ""
          }
        },
        "69aea68996a14532a5b880f798d22130": {
          "model_module": "@jupyter-widgets/base",
          "model_name": "LayoutModel",
          "model_module_version": "1.2.0",
          "state": {
            "_model_module": "@jupyter-widgets/base",
            "_model_module_version": "1.2.0",
            "_model_name": "LayoutModel",
            "_view_count": null,
            "_view_module": "@jupyter-widgets/base",
            "_view_module_version": "1.2.0",
            "_view_name": "LayoutView",
            "align_content": null,
            "align_items": null,
            "align_self": null,
            "border": null,
            "bottom": null,
            "display": null,
            "flex": null,
            "flex_flow": null,
            "grid_area": null,
            "grid_auto_columns": null,
            "grid_auto_flow": null,
            "grid_auto_rows": null,
            "grid_column": null,
            "grid_gap": null,
            "grid_row": null,
            "grid_template_areas": null,
            "grid_template_columns": null,
            "grid_template_rows": null,
            "height": null,
            "justify_content": null,
            "justify_items": null,
            "left": null,
            "margin": null,
            "max_height": null,
            "max_width": null,
            "min_height": null,
            "min_width": null,
            "object_fit": null,
            "object_position": null,
            "order": null,
            "overflow": null,
            "overflow_x": null,
            "overflow_y": null,
            "padding": null,
            "right": null,
            "top": null,
            "visibility": null,
            "width": null
          }
        },
        "e20c3d7f3cdb403ca8f5ca9ad00c68b6": {
          "model_module": "@jupyter-widgets/controls",
          "model_name": "ProgressStyleModel",
          "model_module_version": "1.5.0",
          "state": {
            "_model_module": "@jupyter-widgets/controls",
            "_model_module_version": "1.5.0",
            "_model_name": "ProgressStyleModel",
            "_view_count": null,
            "_view_module": "@jupyter-widgets/base",
            "_view_module_version": "1.2.0",
            "_view_name": "StyleView",
            "bar_color": null,
            "description_width": ""
          }
        },
        "04e4d1789f4041dc8045cc3fd81d7645": {
          "model_module": "@jupyter-widgets/base",
          "model_name": "LayoutModel",
          "model_module_version": "1.2.0",
          "state": {
            "_model_module": "@jupyter-widgets/base",
            "_model_module_version": "1.2.0",
            "_model_name": "LayoutModel",
            "_view_count": null,
            "_view_module": "@jupyter-widgets/base",
            "_view_module_version": "1.2.0",
            "_view_name": "LayoutView",
            "align_content": null,
            "align_items": null,
            "align_self": null,
            "border": null,
            "bottom": null,
            "display": null,
            "flex": null,
            "flex_flow": null,
            "grid_area": null,
            "grid_auto_columns": null,
            "grid_auto_flow": null,
            "grid_auto_rows": null,
            "grid_column": null,
            "grid_gap": null,
            "grid_row": null,
            "grid_template_areas": null,
            "grid_template_columns": null,
            "grid_template_rows": null,
            "height": null,
            "justify_content": null,
            "justify_items": null,
            "left": null,
            "margin": null,
            "max_height": null,
            "max_width": null,
            "min_height": null,
            "min_width": null,
            "object_fit": null,
            "object_position": null,
            "order": null,
            "overflow": null,
            "overflow_x": null,
            "overflow_y": null,
            "padding": null,
            "right": null,
            "top": null,
            "visibility": null,
            "width": null
          }
        },
        "b7100d5645db4610b21fc992f94f1f1d": {
          "model_module": "@jupyter-widgets/controls",
          "model_name": "DescriptionStyleModel",
          "model_module_version": "1.5.0",
          "state": {
            "_model_module": "@jupyter-widgets/controls",
            "_model_module_version": "1.5.0",
            "_model_name": "DescriptionStyleModel",
            "_view_count": null,
            "_view_module": "@jupyter-widgets/base",
            "_view_module_version": "1.2.0",
            "_view_name": "StyleView",
            "description_width": ""
          }
        },
        "b999f59a2ab64e9a8a57cc9adf2b235c": {
          "model_module": "@jupyter-widgets/controls",
          "model_name": "HBoxModel",
          "model_module_version": "1.5.0",
          "state": {
            "_dom_classes": [],
            "_model_module": "@jupyter-widgets/controls",
            "_model_module_version": "1.5.0",
            "_model_name": "HBoxModel",
            "_view_count": null,
            "_view_module": "@jupyter-widgets/controls",
            "_view_module_version": "1.5.0",
            "_view_name": "HBoxView",
            "box_style": "",
            "children": [
              "IPY_MODEL_0c692264b48d4c85833683c73e076855",
              "IPY_MODEL_a9d70958917a4c2db6dcf956a0115d6f",
              "IPY_MODEL_6a505df07e804210b3c3cb72b67c22b7"
            ],
            "layout": "IPY_MODEL_41b97c12f51746fbbe74b1183b4d59ba"
          }
        },
        "0c692264b48d4c85833683c73e076855": {
          "model_module": "@jupyter-widgets/controls",
          "model_name": "HTMLModel",
          "model_module_version": "1.5.0",
          "state": {
            "_dom_classes": [],
            "_model_module": "@jupyter-widgets/controls",
            "_model_module_version": "1.5.0",
            "_model_name": "HTMLModel",
            "_view_count": null,
            "_view_module": "@jupyter-widgets/controls",
            "_view_module_version": "1.5.0",
            "_view_name": "HTMLView",
            "description": "",
            "description_tooltip": null,
            "layout": "IPY_MODEL_dfea450bb3d44122b438fe80557c5f9a",
            "placeholder": "​",
            "style": "IPY_MODEL_b3ba1b950c6940e781064be3f4086d48",
            "value": "Downloading https://raw.githubusercontent.com/stanfordnlp/stanza-resources/main/resources_1.4.1.json: "
          }
        },
        "a9d70958917a4c2db6dcf956a0115d6f": {
          "model_module": "@jupyter-widgets/controls",
          "model_name": "FloatProgressModel",
          "model_module_version": "1.5.0",
          "state": {
            "_dom_classes": [],
            "_model_module": "@jupyter-widgets/controls",
            "_model_module_version": "1.5.0",
            "_model_name": "FloatProgressModel",
            "_view_count": null,
            "_view_module": "@jupyter-widgets/controls",
            "_view_module_version": "1.5.0",
            "_view_name": "ProgressView",
            "bar_style": "success",
            "description": "",
            "description_tooltip": null,
            "layout": "IPY_MODEL_329f1c32146b4eb9ae0aeabd25ae144b",
            "max": 28918,
            "min": 0,
            "orientation": "horizontal",
            "style": "IPY_MODEL_b53530607d064902a768a9c37a0fd837",
            "value": 28918
          }
        },
        "6a505df07e804210b3c3cb72b67c22b7": {
          "model_module": "@jupyter-widgets/controls",
          "model_name": "HTMLModel",
          "model_module_version": "1.5.0",
          "state": {
            "_dom_classes": [],
            "_model_module": "@jupyter-widgets/controls",
            "_model_module_version": "1.5.0",
            "_model_name": "HTMLModel",
            "_view_count": null,
            "_view_module": "@jupyter-widgets/controls",
            "_view_module_version": "1.5.0",
            "_view_name": "HTMLView",
            "description": "",
            "description_tooltip": null,
            "layout": "IPY_MODEL_f6d3855a18ed40d28ed5efc42a51fd9b",
            "placeholder": "​",
            "style": "IPY_MODEL_31612f3e084844b3985c27f0b4fbdc38",
            "value": " 193k/? [00:00&lt;00:00, 8.77MB/s]"
          }
        },
        "41b97c12f51746fbbe74b1183b4d59ba": {
          "model_module": "@jupyter-widgets/base",
          "model_name": "LayoutModel",
          "model_module_version": "1.2.0",
          "state": {
            "_model_module": "@jupyter-widgets/base",
            "_model_module_version": "1.2.0",
            "_model_name": "LayoutModel",
            "_view_count": null,
            "_view_module": "@jupyter-widgets/base",
            "_view_module_version": "1.2.0",
            "_view_name": "LayoutView",
            "align_content": null,
            "align_items": null,
            "align_self": null,
            "border": null,
            "bottom": null,
            "display": null,
            "flex": null,
            "flex_flow": null,
            "grid_area": null,
            "grid_auto_columns": null,
            "grid_auto_flow": null,
            "grid_auto_rows": null,
            "grid_column": null,
            "grid_gap": null,
            "grid_row": null,
            "grid_template_areas": null,
            "grid_template_columns": null,
            "grid_template_rows": null,
            "height": null,
            "justify_content": null,
            "justify_items": null,
            "left": null,
            "margin": null,
            "max_height": null,
            "max_width": null,
            "min_height": null,
            "min_width": null,
            "object_fit": null,
            "object_position": null,
            "order": null,
            "overflow": null,
            "overflow_x": null,
            "overflow_y": null,
            "padding": null,
            "right": null,
            "top": null,
            "visibility": null,
            "width": null
          }
        },
        "dfea450bb3d44122b438fe80557c5f9a": {
          "model_module": "@jupyter-widgets/base",
          "model_name": "LayoutModel",
          "model_module_version": "1.2.0",
          "state": {
            "_model_module": "@jupyter-widgets/base",
            "_model_module_version": "1.2.0",
            "_model_name": "LayoutModel",
            "_view_count": null,
            "_view_module": "@jupyter-widgets/base",
            "_view_module_version": "1.2.0",
            "_view_name": "LayoutView",
            "align_content": null,
            "align_items": null,
            "align_self": null,
            "border": null,
            "bottom": null,
            "display": null,
            "flex": null,
            "flex_flow": null,
            "grid_area": null,
            "grid_auto_columns": null,
            "grid_auto_flow": null,
            "grid_auto_rows": null,
            "grid_column": null,
            "grid_gap": null,
            "grid_row": null,
            "grid_template_areas": null,
            "grid_template_columns": null,
            "grid_template_rows": null,
            "height": null,
            "justify_content": null,
            "justify_items": null,
            "left": null,
            "margin": null,
            "max_height": null,
            "max_width": null,
            "min_height": null,
            "min_width": null,
            "object_fit": null,
            "object_position": null,
            "order": null,
            "overflow": null,
            "overflow_x": null,
            "overflow_y": null,
            "padding": null,
            "right": null,
            "top": null,
            "visibility": null,
            "width": null
          }
        },
        "b3ba1b950c6940e781064be3f4086d48": {
          "model_module": "@jupyter-widgets/controls",
          "model_name": "DescriptionStyleModel",
          "model_module_version": "1.5.0",
          "state": {
            "_model_module": "@jupyter-widgets/controls",
            "_model_module_version": "1.5.0",
            "_model_name": "DescriptionStyleModel",
            "_view_count": null,
            "_view_module": "@jupyter-widgets/base",
            "_view_module_version": "1.2.0",
            "_view_name": "StyleView",
            "description_width": ""
          }
        },
        "329f1c32146b4eb9ae0aeabd25ae144b": {
          "model_module": "@jupyter-widgets/base",
          "model_name": "LayoutModel",
          "model_module_version": "1.2.0",
          "state": {
            "_model_module": "@jupyter-widgets/base",
            "_model_module_version": "1.2.0",
            "_model_name": "LayoutModel",
            "_view_count": null,
            "_view_module": "@jupyter-widgets/base",
            "_view_module_version": "1.2.0",
            "_view_name": "LayoutView",
            "align_content": null,
            "align_items": null,
            "align_self": null,
            "border": null,
            "bottom": null,
            "display": null,
            "flex": null,
            "flex_flow": null,
            "grid_area": null,
            "grid_auto_columns": null,
            "grid_auto_flow": null,
            "grid_auto_rows": null,
            "grid_column": null,
            "grid_gap": null,
            "grid_row": null,
            "grid_template_areas": null,
            "grid_template_columns": null,
            "grid_template_rows": null,
            "height": null,
            "justify_content": null,
            "justify_items": null,
            "left": null,
            "margin": null,
            "max_height": null,
            "max_width": null,
            "min_height": null,
            "min_width": null,
            "object_fit": null,
            "object_position": null,
            "order": null,
            "overflow": null,
            "overflow_x": null,
            "overflow_y": null,
            "padding": null,
            "right": null,
            "top": null,
            "visibility": null,
            "width": null
          }
        },
        "b53530607d064902a768a9c37a0fd837": {
          "model_module": "@jupyter-widgets/controls",
          "model_name": "ProgressStyleModel",
          "model_module_version": "1.5.0",
          "state": {
            "_model_module": "@jupyter-widgets/controls",
            "_model_module_version": "1.5.0",
            "_model_name": "ProgressStyleModel",
            "_view_count": null,
            "_view_module": "@jupyter-widgets/base",
            "_view_module_version": "1.2.0",
            "_view_name": "StyleView",
            "bar_color": null,
            "description_width": ""
          }
        },
        "f6d3855a18ed40d28ed5efc42a51fd9b": {
          "model_module": "@jupyter-widgets/base",
          "model_name": "LayoutModel",
          "model_module_version": "1.2.0",
          "state": {
            "_model_module": "@jupyter-widgets/base",
            "_model_module_version": "1.2.0",
            "_model_name": "LayoutModel",
            "_view_count": null,
            "_view_module": "@jupyter-widgets/base",
            "_view_module_version": "1.2.0",
            "_view_name": "LayoutView",
            "align_content": null,
            "align_items": null,
            "align_self": null,
            "border": null,
            "bottom": null,
            "display": null,
            "flex": null,
            "flex_flow": null,
            "grid_area": null,
            "grid_auto_columns": null,
            "grid_auto_flow": null,
            "grid_auto_rows": null,
            "grid_column": null,
            "grid_gap": null,
            "grid_row": null,
            "grid_template_areas": null,
            "grid_template_columns": null,
            "grid_template_rows": null,
            "height": null,
            "justify_content": null,
            "justify_items": null,
            "left": null,
            "margin": null,
            "max_height": null,
            "max_width": null,
            "min_height": null,
            "min_width": null,
            "object_fit": null,
            "object_position": null,
            "order": null,
            "overflow": null,
            "overflow_x": null,
            "overflow_y": null,
            "padding": null,
            "right": null,
            "top": null,
            "visibility": null,
            "width": null
          }
        },
        "31612f3e084844b3985c27f0b4fbdc38": {
          "model_module": "@jupyter-widgets/controls",
          "model_name": "DescriptionStyleModel",
          "model_module_version": "1.5.0",
          "state": {
            "_model_module": "@jupyter-widgets/controls",
            "_model_module_version": "1.5.0",
            "_model_name": "DescriptionStyleModel",
            "_view_count": null,
            "_view_module": "@jupyter-widgets/base",
            "_view_module_version": "1.2.0",
            "_view_name": "StyleView",
            "description_width": ""
          }
        }
      }
    }
  },
  "cells": [
    {
      "cell_type": "markdown",
      "source": [
        "### Connect Google Drive"
      ],
      "metadata": {
        "id": "tI2JPeWk9_e3"
      }
    },
    {
      "cell_type": "code",
      "source": [
        "from google.colab import drive\n",
        "drive.mount('/content/drive')"
      ],
      "metadata": {
        "id": "pYgIlFY09zxr",
        "outputId": "8ffd534e-b6d8-4c0e-943e-8ccd19ce8e72",
        "colab": {
          "base_uri": "https://localhost:8080/"
        }
      },
      "execution_count": 1,
      "outputs": [
        {
          "output_type": "stream",
          "name": "stdout",
          "text": [
            "Drive already mounted at /content/drive; to attempt to forcibly remount, call drive.mount(\"/content/drive\", force_remount=True).\n"
          ]
        }
      ]
    },
    {
      "cell_type": "markdown",
      "source": [
        "Put your path below"
      ],
      "metadata": {
        "id": "lLofUFMwACJJ"
      }
    },
    {
      "cell_type": "code",
      "source": [
        "!cd '/content/drive/MyDrive/AIISC-Internship/text-based-object-discovery'"
      ],
      "metadata": {
        "id": "bwBL2EYN91bc"
      },
      "execution_count": 2,
      "outputs": []
    },
    {
      "cell_type": "code",
      "source": [
        "PATH = '/content/drive/MyDrive/AIISC-Internship/text-based-object-discovery'"
      ],
      "metadata": {
        "id": "yRXkRovRAcS2"
      },
      "execution_count": 3,
      "outputs": []
    },
    {
      "cell_type": "markdown",
      "metadata": {
        "id": "D8rvljtL1abQ"
      },
      "source": [
        "### Install Required Packages"
      ]
    },
    {
      "cell_type": "markdown",
      "metadata": {
        "id": "Gl1ekBkx09AQ"
      },
      "source": [
        "`Stanza`, Stanford NLP Package benefits from `GPU` so enable it under `View Resources > Change runtime type`"
      ]
    },
    {
      "cell_type": "code",
      "execution_count": 4,
      "metadata": {
        "colab": {
          "base_uri": "https://localhost:8080/"
        },
        "id": "wYJ_MPw_0URj",
        "outputId": "44711801-f28d-4b10-ce6f-b7be625967be"
      },
      "outputs": [
        {
          "output_type": "stream",
          "name": "stdout",
          "text": [
            "GPU 0: Tesla T4 (UUID: GPU-ea4cf3b3-9f34-0aff-d6a6-1c814b85a0a3)\n"
          ]
        }
      ],
      "source": [
        "!nvidia-smi -L"
      ]
    },
    {
      "cell_type": "code",
      "execution_count": 5,
      "metadata": {
        "colab": {
          "base_uri": "https://localhost:8080/"
        },
        "id": "TDKLBzgl0e0W",
        "outputId": "8f367456-2c22-4a7f-ad5a-c2d82a1ccebc"
      },
      "outputs": [
        {
          "output_type": "stream",
          "name": "stdout",
          "text": [
            "Looking in indexes: https://pypi.org/simple, https://us-python.pkg.dev/colab-wheels/public/simple/\n",
            "Requirement already satisfied: stanza in /usr/local/lib/python3.8/dist-packages (1.4.2)\n",
            "Requirement already satisfied: protobuf in /usr/local/lib/python3.8/dist-packages (from stanza) (3.19.6)\n",
            "Requirement already satisfied: tqdm in /usr/local/lib/python3.8/dist-packages (from stanza) (4.64.1)\n",
            "Requirement already satisfied: requests in /usr/local/lib/python3.8/dist-packages (from stanza) (2.23.0)\n",
            "Requirement already satisfied: six in /usr/local/lib/python3.8/dist-packages (from stanza) (1.15.0)\n",
            "Requirement already satisfied: numpy in /usr/local/lib/python3.8/dist-packages (from stanza) (1.21.6)\n",
            "Requirement already satisfied: torch>=1.3.0 in /usr/local/lib/python3.8/dist-packages (from stanza) (1.13.0+cu116)\n",
            "Requirement already satisfied: emoji in /usr/local/lib/python3.8/dist-packages (from stanza) (2.2.0)\n",
            "Requirement already satisfied: typing-extensions in /usr/local/lib/python3.8/dist-packages (from torch>=1.3.0->stanza) (4.4.0)\n",
            "Requirement already satisfied: idna<3,>=2.5 in /usr/local/lib/python3.8/dist-packages (from requests->stanza) (2.10)\n",
            "Requirement already satisfied: certifi>=2017.4.17 in /usr/local/lib/python3.8/dist-packages (from requests->stanza) (2022.12.7)\n",
            "Requirement already satisfied: chardet<4,>=3.0.2 in /usr/local/lib/python3.8/dist-packages (from requests->stanza) (3.0.4)\n",
            "Requirement already satisfied: urllib3!=1.25.0,!=1.25.1,<1.26,>=1.21.1 in /usr/local/lib/python3.8/dist-packages (from requests->stanza) (1.24.3)\n",
            "Looking in indexes: https://pypi.org/simple, https://us-python.pkg.dev/colab-wheels/public/simple/\n",
            "Requirement already satisfied: ftfy in /usr/local/lib/python3.8/dist-packages (6.1.1)\n",
            "Requirement already satisfied: regex in /usr/local/lib/python3.8/dist-packages (2022.6.2)\n",
            "Requirement already satisfied: tqdm in /usr/local/lib/python3.8/dist-packages (4.64.1)\n",
            "Requirement already satisfied: wcwidth>=0.2.5 in /usr/local/lib/python3.8/dist-packages (from ftfy) (0.2.5)\n"
          ]
        }
      ],
      "source": [
        "!pip install stanza # for stanford pos tagger\n",
        "!pip install ftfy regex tqdm"
      ]
    },
    {
      "cell_type": "markdown",
      "metadata": {
        "id": "uU9_nV4_0aQ8"
      },
      "source": [
        "### Load Necessary Libraries"
      ]
    },
    {
      "cell_type": "markdown",
      "metadata": {
        "id": "ue3SU-yo0fKZ"
      },
      "source": [
        "We will load the necessary libraries required for generating DAAM outputs for input prompts."
      ]
    },
    {
      "cell_type": "code",
      "execution_count": 6,
      "metadata": {
        "id": "C0wV7IAz15g8"
      },
      "outputs": [],
      "source": [
        "import os\n",
        "import json\n",
        "from tqdm import tqdm\n",
        "\n",
        "from matplotlib import pyplot as plt\n",
        "import numpy as np\n",
        "\n",
        "from nltk.corpus import stopwords\n",
        "\n",
        "from pycocotools.coco import COCO"
      ]
    },
    {
      "cell_type": "markdown",
      "metadata": {
        "id": "yuY33h94WGxb"
      },
      "source": [
        "Download the stopwords for removing stopwords"
      ]
    },
    {
      "cell_type": "code",
      "execution_count": 7,
      "metadata": {
        "colab": {
          "base_uri": "https://localhost:8080/"
        },
        "id": "InA4AEJnWCiP",
        "outputId": "bdc6bb8e-7b64-4990-e361-64e277bbc473"
      },
      "outputs": [
        {
          "output_type": "stream",
          "name": "stderr",
          "text": [
            "[nltk_data] Downloading package stopwords to /root/nltk_data...\n",
            "[nltk_data]   Package stopwords is already up-to-date!\n",
            "[nltk_data] Downloading package wordnet to /root/nltk_data...\n",
            "[nltk_data]   Package wordnet is already up-to-date!\n",
            "[nltk_data] Downloading package punkt to /root/nltk_data...\n",
            "[nltk_data]   Package punkt is already up-to-date!\n",
            "[nltk_data] Downloading package omw-1.4 to /root/nltk_data...\n",
            "[nltk_data]   Package omw-1.4 is already up-to-date!\n",
            "[nltk_data] Downloading package averaged_perceptron_tagger to\n",
            "[nltk_data]     /root/nltk_data...\n",
            "[nltk_data]   Package averaged_perceptron_tagger is already up-to-\n",
            "[nltk_data]       date!\n"
          ]
        },
        {
          "output_type": "execute_result",
          "data": {
            "text/plain": [
              "True"
            ]
          },
          "metadata": {},
          "execution_count": 7
        }
      ],
      "source": [
        "import nltk\n",
        "nltk.download('stopwords')\n",
        "nltk.download('wordnet')\n",
        "nltk.download('punkt')\n",
        "nltk.download('omw-1.4')\n",
        "nltk.download('averaged_perceptron_tagger')"
      ]
    },
    {
      "cell_type": "code",
      "execution_count": 8,
      "metadata": {
        "colab": {
          "base_uri": "https://localhost:8080/",
          "height": 104,
          "referenced_widgets": [
            "8a1551a65852432e86384444755117ad",
            "08ad9e10c44a445097a413c390ab114f",
            "a769c2ff3dc54e189dfed2ca44ee7105",
            "ba403af0365b409d9839e8233a832642",
            "c993dcfe7e0a4f3f9a68669aef52d9c6",
            "ae320d63b8604eb790e1cac666525eee",
            "c10eba3189d9491791b07fe4cc08cffa",
            "69aea68996a14532a5b880f798d22130",
            "e20c3d7f3cdb403ca8f5ca9ad00c68b6",
            "04e4d1789f4041dc8045cc3fd81d7645",
            "b7100d5645db4610b21fc992f94f1f1d"
          ]
        },
        "id": "Ks3LM5iMS1Nl",
        "outputId": "3486c784-c0b9-43b5-bbe1-f8e4fc62d219"
      },
      "outputs": [
        {
          "output_type": "display_data",
          "data": {
            "text/plain": [
              "Downloading https://raw.githubusercontent.com/stanfordnlp/stanza-resources/main/resources_1.4.1.json:   0%|   …"
            ],
            "application/vnd.jupyter.widget-view+json": {
              "version_major": 2,
              "version_minor": 0,
              "model_id": "8a1551a65852432e86384444755117ad"
            }
          },
          "metadata": {}
        },
        {
          "output_type": "stream",
          "name": "stderr",
          "text": [
            "INFO:stanza:Downloading default packages for language: en (English) ...\n",
            "INFO:stanza:File exists: /root/stanza_resources/en/default.zip\n",
            "INFO:stanza:Finished downloading models and saved to /root/stanza_resources.\n"
          ]
        }
      ],
      "source": [
        "import stanza\n",
        "stanza.download('en')"
      ]
    },
    {
      "cell_type": "markdown",
      "metadata": {
        "id": "FxsZiD_M1VSS"
      },
      "source": [
        "### Load Data"
      ]
    },
    {
      "cell_type": "markdown",
      "metadata": {
        "id": "na1LrNBN2Jgf"
      },
      "source": [
        "Below, we load the `MS-COCO` annotations to extract the captions to continue further with extracting the objects from each caption."
      ]
    },
    {
      "cell_type": "code",
      "source": [
        "!wget -c http://images.cocodataset.org/annotations/annotations_trainval2017.zip\n",
        "!unzip annotations_trainval2017.zip\n",
        "!rm annotations_trainval2017.zip\n",
        "!ls annotations"
      ],
      "metadata": {
        "colab": {
          "base_uri": "https://localhost:8080/"
        },
        "id": "89WD3a8FxLWF",
        "outputId": "ac079882-1b37-4691-98cf-167a47ab5404"
      },
      "execution_count": 9,
      "outputs": [
        {
          "output_type": "stream",
          "name": "stdout",
          "text": [
            "--2023-01-03 10:15:37--  http://images.cocodataset.org/annotations/annotations_trainval2017.zip\n",
            "Resolving images.cocodataset.org (images.cocodataset.org)... 52.216.128.35, 54.231.197.65, 52.216.50.105, ...\n",
            "Connecting to images.cocodataset.org (images.cocodataset.org)|52.216.128.35|:80... connected.\n",
            "HTTP request sent, awaiting response... 200 OK\n",
            "Length: 252907541 (241M) [application/zip]\n",
            "Saving to: ‘annotations_trainval2017.zip’\n",
            "\n",
            "annotations_trainva 100%[===================>] 241.19M  16.0MB/s    in 10s     \n",
            "\n",
            "2023-01-03 10:15:48 (23.5 MB/s) - ‘annotations_trainval2017.zip’ saved [252907541/252907541]\n",
            "\n",
            "Archive:  annotations_trainval2017.zip\n",
            "replace annotations/instances_train2017.json? [y]es, [n]o, [A]ll, [N]one, [r]ename: captions_train2017.json   instances_val2017.json\n",
            "captions_val2017.json\t  person_keypoints_train2017.json\n",
            "instances_train2017.json  person_keypoints_val2017.json\n"
          ]
        }
      ]
    },
    {
      "cell_type": "markdown",
      "source": [
        "Now, we load the json file for the train and validation set captions."
      ],
      "metadata": {
        "id": "MCEvhAFxzaO6"
      }
    },
    {
      "cell_type": "code",
      "source": [
        "with open('annotations/captions_train2017.json') as json_file:\n",
        "  caption_data_train_file = json.load(json_file)\n",
        "with open('annotations/captions_val2017.json') as json_file:\n",
        "  caption_data_val_file = json.load(json_file)"
      ],
      "metadata": {
        "id": "xE4BihTlyZsX"
      },
      "execution_count": 10,
      "outputs": []
    },
    {
      "cell_type": "code",
      "source": [
        "caption_data_train = caption_data_train_file['annotations']\n",
        "caption_data_val = caption_data_val_file['annotations']"
      ],
      "metadata": {
        "id": "yflwJNDZysSj"
      },
      "execution_count": 11,
      "outputs": []
    },
    {
      "cell_type": "code",
      "source": [
        "prompts_train = [ann['caption'] for ann in caption_data_train]\n",
        "prompts_val = [ann['caption'] for ann in caption_data_val]"
      ],
      "metadata": {
        "id": "Ddu67lC2y74U"
      },
      "execution_count": 12,
      "outputs": []
    },
    {
      "cell_type": "code",
      "source": [
        "print('***train captions***\\n', '\\n'.join(prompts_train[:5]))\n",
        "print()\n",
        "print('Number of train captions:', len(prompts_train))\n",
        "print()\n",
        "print()\n",
        "print('***validation captions:***\\n', '\\n'.join(prompts_val[:5]))\n",
        "print()\n",
        "print('Number of train captions:', len(prompts_val))"
      ],
      "metadata": {
        "colab": {
          "base_uri": "https://localhost:8080/"
        },
        "id": "vVYyBvLPzGYV",
        "outputId": "cfbd8af0-2ace-4a99-bf98-b5595e893026"
      },
      "execution_count": 13,
      "outputs": [
        {
          "output_type": "stream",
          "name": "stdout",
          "text": [
            "***train captions***\n",
            " A bicycle replica with a clock as the front wheel.\n",
            "A room with blue walls and a white sink and door.\n",
            "A car that seems to be parked illegally behind a legally parked car\n",
            "A large passenger airplane flying through the air.\n",
            "There is a GOL plane taking off in a partly cloudy sky.\n",
            "\n",
            "Number of train captions: 591753\n",
            "\n",
            "\n",
            "***validation captions:***\n",
            " A black Honda motorcycle parked in front of a garage.\n",
            "A Honda motorcycle parked in a grass driveway\n",
            "An office cubicle with four different types of computers.\n",
            "A small closed toilet in a cramped space.\n",
            "Two women waiting at a bench next to a street.\n",
            "\n",
            "Number of train captions: 25014\n"
          ]
        }
      ]
    },
    {
      "cell_type": "markdown",
      "metadata": {
        "id": "x6F-PdFL3JQP"
      },
      "source": [
        "Cleaning the prompts. I adopt few ways to clean the prompt:\n",
        "- Tokenization\n",
        "- Remove stop words\n",
        "- Remove non-alphabets\n",
        "- Keep only nouns\n",
        "- Lemmatization (to store the object name)"
      ]
    },
    {
      "cell_type": "code",
      "execution_count": 14,
      "metadata": {
        "colab": {
          "base_uri": "https://localhost:8080/",
          "height": 363,
          "referenced_widgets": [
            "b999f59a2ab64e9a8a57cc9adf2b235c",
            "0c692264b48d4c85833683c73e076855",
            "a9d70958917a4c2db6dcf956a0115d6f",
            "6a505df07e804210b3c3cb72b67c22b7",
            "41b97c12f51746fbbe74b1183b4d59ba",
            "dfea450bb3d44122b438fe80557c5f9a",
            "b3ba1b950c6940e781064be3f4086d48",
            "329f1c32146b4eb9ae0aeabd25ae144b",
            "b53530607d064902a768a9c37a0fd837",
            "f6d3855a18ed40d28ed5efc42a51fd9b",
            "31612f3e084844b3985c27f0b4fbdc38"
          ]
        },
        "id": "vLotb69s0xUP",
        "outputId": "a9dbeeac-6d5f-4675-a079-3db1c2e782cb"
      },
      "outputs": [
        {
          "output_type": "stream",
          "name": "stderr",
          "text": [
            "INFO:stanza:Checking for updates to resources.json in case models have been updated.  Note: this behavior can be turned off with download_method=None or download_method=DownloadMethod.REUSE_RESOURCES\n"
          ]
        },
        {
          "output_type": "display_data",
          "data": {
            "text/plain": [
              "Downloading https://raw.githubusercontent.com/stanfordnlp/stanza-resources/main/resources_1.4.1.json:   0%|   …"
            ],
            "application/vnd.jupyter.widget-view+json": {
              "version_major": 2,
              "version_minor": 0,
              "model_id": "b999f59a2ab64e9a8a57cc9adf2b235c"
            }
          },
          "metadata": {}
        },
        {
          "output_type": "stream",
          "name": "stderr",
          "text": [
            "WARNING:stanza:Can not find mwt: default from official model list. Ignoring it.\n",
            "INFO:stanza:Loading these models for language: en (English):\n",
            "========================\n",
            "| Processor | Package  |\n",
            "------------------------\n",
            "| tokenize  | combined |\n",
            "| pos       | combined |\n",
            "| lemma     | combined |\n",
            "========================\n",
            "\n",
            "INFO:stanza:Use device: gpu\n",
            "INFO:stanza:Loading: tokenize\n",
            "INFO:stanza:Loading: pos\n",
            "INFO:stanza:Loading: lemma\n",
            "INFO:stanza:Done loading processors!\n"
          ]
        }
      ],
      "source": [
        "# loads the text processing pipeline\n",
        "nlp = stanza.Pipeline(lang='en', processors='tokenize,mwt,pos,lemma')\n",
        "\n",
        "# treebank-specific POS (XPOS) tags to keep, other POS tagged tokens will not be retained\n",
        "keep_pos_tags = ['NN', 'NNS', 'NNP', 'NNPS']\n",
        "\n",
        "# Stopwords\n",
        "stpwords = set(stopwords.words('english'))\n",
        "\n",
        "# extract parts of speech\n",
        "def extract_pos(doc):\n",
        "  parsed_text = list()\n",
        "  for sent in doc.sentences:\n",
        "    for wrd in sent.words:\n",
        "      parsed_text.append((wrd.text, wrd.xpos))\n",
        "  return parsed_text\n",
        "\n",
        "# extract lemma\n",
        "def extract_lemma(doc):\n",
        "  parsed_text = list()\n",
        "  for sent in doc.sentences:\n",
        "    for wrd in sent.words:\n",
        "      # extract text and lemma\n",
        "      parsed_text.append((wrd.text, wrd.lemma))\n",
        "  # return a dataframe\n",
        "  return parsed_text\n",
        "\n",
        "def clean_prompt(prompt):\n",
        "  # tokenizes, lemmatizes and pos tags the prompt\n",
        "  processed_prompt = nlp(prompt.lower())\n",
        "  \n",
        "  # extracts pos tags from the processed_prompt\n",
        "  pos_tagged_prompt = extract_pos(processed_prompt)\n",
        "\n",
        "  # lemmatized text\n",
        "  lemmatized_prompt = extract_lemma(processed_prompt)\n",
        "\n",
        "  # keep only the noun words, removes stopwords\n",
        "  fin_prompt = [word for word, pos_tag in pos_tagged_prompt if ((pos_tag in keep_pos_tags) and (word not in stpwords))]\n",
        "  obj_prompt = [word_lemma[1] for word_pos, word_lemma in zip(pos_tagged_prompt, lemmatized_prompt) if ((word_pos[1] in keep_pos_tags) and (word_lemma[0] not in stpwords))]\n",
        "  return fin_prompt, obj_prompt"
      ]
    },
    {
      "cell_type": "markdown",
      "metadata": {
        "id": "YCs7sDaJiY6h"
      },
      "source": [
        "An example is shown below for the application of `clean_prompt`."
      ]
    },
    {
      "cell_type": "code",
      "execution_count": 15,
      "metadata": {
        "colab": {
          "base_uri": "https://localhost:8080/"
        },
        "id": "ez5_quWfXbDM",
        "outputId": "811341eb-5079-4c44-d7e1-92c8670cbc46"
      },
      "outputs": [
        {
          "output_type": "execute_result",
          "data": {
            "text/plain": [
              "(['fishes', 'mountains'], ['fish', 'mountain'])"
            ]
          },
          "metadata": {},
          "execution_count": 15
        }
      ],
      "source": [
        "clean_prompt(\"The fishes are playing in the mountains.\")"
      ]
    },
    {
      "cell_type": "markdown",
      "source": [
        "Below, we start processing each prompt and store the objects detected in the captions from train and validation split."
      ],
      "metadata": {
        "id": "eReFjwGO138w"
      }
    },
    {
      "cell_type": "code",
      "source": [
        "NUM_PROMPTS_INFO_DISPLAY = 500 # After processing how many prompts, some necessary information must be displayed\n",
        "SAVE_AFTER = 10000 # Save after how many prompts processed"
      ],
      "metadata": {
        "id": "KX5tvkVc8BZF"
      },
      "execution_count": 16,
      "outputs": []
    },
    {
      "cell_type": "code",
      "source": [
        "import shutil # Removes directory if already present! CAREFUL!!!!!!!!!!!!!!!!!!\n",
        "if os.path.exists(os.path.join(PATH, 'Caption-Processing')):\n",
        "  shutil.rmtree(os.path.join(PATH, 'Caption-Processing'))\n",
        "os.mkdir(os.path.join(PATH, 'Caption-Processing'))"
      ],
      "metadata": {
        "id": "o3layVVd62BE"
      },
      "execution_count": 19,
      "outputs": []
    },
    {
      "cell_type": "code",
      "source": [
        "try:\n",
        "\n",
        "  total_objects = set() # Stores the total number of distinct objects detected\n",
        "  num_objects_detected = list() # Stores number of objects detected after processing some number of prompts iteratively\n",
        "\n",
        "  print('Starting...')\n",
        "  print('Captions to be processed:', len(prompts_train))\n",
        "  print('Cleaning Prompts... Storing Objects per prompt...')\n",
        "\n",
        "  # Processing each prompt and updating annotation file for train set\n",
        "  for idx, prompt in tqdm(enumerate(prompts_train)):\n",
        "    cleaned, objects = clean_prompt(prompt) # Process prompt\n",
        "    # update files and object list\n",
        "    caption_data_train_file['annotations'][idx]['cleaned'] = cleaned\n",
        "    caption_data_train_file['annotations'][idx]['objects'] = objects\n",
        "    total_objects.update(set(objects))\n",
        "\n",
        "    if (idx+1) % NUM_PROMPTS_INFO_DISPLAY == 0: # Display Info\n",
        "      print()\n",
        "      print()\n",
        "      print('***INFO***')\n",
        "      print('Number of prompts processed:', (idx+1))\n",
        "      print('Number of Unique objects detected so far:', len(total_objects))\n",
        "      num_objects_detected.append(len(total_objects))\n",
        "\n",
        "    if (idx+1) % SAVE_AFTER == 0: # Save Results in json\n",
        "      with open(os.path.join(PATH, 'Caption-Processing/train-captions-processed.json'), 'w') as outfile:\n",
        "        outfile.write(json.dumps({'captions': caption_data_train_file['annotations'], 'num_objects': num_objects_detected}, indent=4))\n",
        "        print('Saved.. Intermediate Results in train-captions-processed.json')\n",
        "\n",
        "  if (idx-1) % NUM_PROMPTS_INFO_DISPLAY != 0: \n",
        "    print()\n",
        "    print('***INFO***')\n",
        "    print('Number of prompts processed:', (idx+1))\n",
        "    print('Number of Unique objects detected so far:', len(total_objects))\n",
        "    num_objects_detected.append(len(total_objects))\n",
        "\n",
        "  with open(os.path.join(PATH, 'Caption-Processing/train-captions-processed.json'), 'w') as outfile: # Save Results in json\n",
        "    outfile.write(json.dumps({'captions': caption_data_train_file['annotations'], 'num_objects': num_objects_detected}, indent=4))\n",
        "\n",
        "  with open(os.path.join(PATH, 'Caption-Processing/train-objects.json'), 'w') as outfile: # Saving Total objects in json\n",
        "    outfile.write(json.dumps({'objects': list(total_objects), 'num_objects': num_objects_detected}, indent=4))\n",
        "\n",
        "  print('Saved and Finished Processing...')\n",
        "\n",
        "except KeyboardInterrupt:\n",
        "  print('Stopped Abruptly.. Saving.. Saved..')\n",
        "  with open(os.path.join(PATH, 'Caption-Processing/train-captions-processed.json'), 'w') as outfile: # Save Results in json\n",
        "    outfile.write(json.dumps({'captions': caption_data_train_file['annotations'], 'num_objects': num_objects_detected}, indent=4))\n",
        "\n",
        "  with open(os.path.join(PATH, 'Caption-Processing/train-objects.json'), 'w') as outfile: # Saving Total objects in json\n",
        "    outfile.write(json.dumps({'objects': list(total_objects), 'num_objects': num_objects_detected}, indent=4))"
      ],
      "metadata": {
        "colab": {
          "base_uri": "https://localhost:8080/"
        },
        "id": "6rm4WMnl5eWt",
        "outputId": "3fab6733-4494-42a6-bc44-2eeb3bca4b8f"
      },
      "execution_count": null,
      "outputs": [
        {
          "output_type": "stream",
          "name": "stdout",
          "text": [
            "Starting...\n",
            "Captions to be processed: 591753\n",
            "Cleaning Prompts... Storing Objects per prompt...\n"
          ]
        },
        {
          "output_type": "stream",
          "name": "stderr",
          "text": [
            "503it [00:19, 24.31it/s]"
          ]
        },
        {
          "output_type": "stream",
          "name": "stdout",
          "text": [
            "\n",
            "\n",
            "***INFO***\n",
            "Number of prompts processed: 500\n",
            "Number of Unique objects detected so far: 507\n"
          ]
        },
        {
          "output_type": "stream",
          "name": "stderr",
          "text": [
            "1005it [00:39, 26.66it/s]"
          ]
        },
        {
          "output_type": "stream",
          "name": "stdout",
          "text": [
            "\n",
            "\n",
            "***INFO***\n",
            "Number of prompts processed: 1000\n",
            "Number of Unique objects detected so far: 767\n"
          ]
        },
        {
          "output_type": "stream",
          "name": "stderr",
          "text": [
            "1505it [00:58, 25.44it/s]"
          ]
        },
        {
          "output_type": "stream",
          "name": "stdout",
          "text": [
            "\n",
            "\n",
            "***INFO***\n",
            "Number of prompts processed: 1500\n",
            "Number of Unique objects detected so far: 961\n"
          ]
        },
        {
          "output_type": "stream",
          "name": "stderr",
          "text": [
            "2004it [01:17, 25.48it/s]"
          ]
        },
        {
          "output_type": "stream",
          "name": "stdout",
          "text": [
            "\n",
            "\n",
            "***INFO***\n",
            "Number of prompts processed: 2000\n",
            "Number of Unique objects detected so far: 1129\n"
          ]
        },
        {
          "output_type": "stream",
          "name": "stderr",
          "text": [
            "2504it [01:37, 26.05it/s]"
          ]
        },
        {
          "output_type": "stream",
          "name": "stdout",
          "text": [
            "\n",
            "\n",
            "***INFO***\n",
            "Number of prompts processed: 2500\n",
            "Number of Unique objects detected so far: 1279\n"
          ]
        },
        {
          "output_type": "stream",
          "name": "stderr",
          "text": [
            "3005it [01:56, 26.93it/s]"
          ]
        },
        {
          "output_type": "stream",
          "name": "stdout",
          "text": [
            "\n",
            "\n",
            "***INFO***\n",
            "Number of prompts processed: 3000\n",
            "Number of Unique objects detected so far: 1396\n"
          ]
        },
        {
          "output_type": "stream",
          "name": "stderr",
          "text": [
            "3504it [02:15, 25.24it/s]"
          ]
        },
        {
          "output_type": "stream",
          "name": "stdout",
          "text": [
            "\n",
            "\n",
            "***INFO***\n",
            "Number of prompts processed: 3500\n",
            "Number of Unique objects detected so far: 1496\n"
          ]
        },
        {
          "output_type": "stream",
          "name": "stderr",
          "text": [
            "4003it [02:35, 20.67it/s]"
          ]
        },
        {
          "output_type": "stream",
          "name": "stdout",
          "text": [
            "\n",
            "\n",
            "***INFO***\n",
            "Number of prompts processed: 4000\n",
            "Number of Unique objects detected so far: 1601\n"
          ]
        },
        {
          "output_type": "stream",
          "name": "stderr",
          "text": [
            "4502it [02:54, 25.09it/s]"
          ]
        },
        {
          "output_type": "stream",
          "name": "stdout",
          "text": [
            "\n",
            "\n",
            "***INFO***\n",
            "Number of prompts processed: 4500\n",
            "Number of Unique objects detected so far: 1694\n"
          ]
        },
        {
          "output_type": "stream",
          "name": "stderr",
          "text": [
            "5003it [03:13, 26.36it/s]"
          ]
        },
        {
          "output_type": "stream",
          "name": "stdout",
          "text": [
            "\n",
            "\n",
            "***INFO***\n",
            "Number of prompts processed: 5000\n",
            "Number of Unique objects detected so far: 1771\n"
          ]
        },
        {
          "output_type": "stream",
          "name": "stderr",
          "text": [
            "5503it [03:32, 27.66it/s]"
          ]
        },
        {
          "output_type": "stream",
          "name": "stdout",
          "text": [
            "\n",
            "\n",
            "***INFO***\n",
            "Number of prompts processed: 5500\n",
            "Number of Unique objects detected so far: 1855\n"
          ]
        },
        {
          "output_type": "stream",
          "name": "stderr",
          "text": [
            "6003it [03:50, 26.82it/s]"
          ]
        },
        {
          "output_type": "stream",
          "name": "stdout",
          "text": [
            "\n",
            "\n",
            "***INFO***\n",
            "Number of prompts processed: 6000\n",
            "Number of Unique objects detected so far: 1926\n"
          ]
        },
        {
          "output_type": "stream",
          "name": "stderr",
          "text": [
            "6503it [04:09, 25.28it/s]"
          ]
        },
        {
          "output_type": "stream",
          "name": "stdout",
          "text": [
            "\n",
            "\n",
            "***INFO***\n",
            "Number of prompts processed: 6500\n",
            "Number of Unique objects detected so far: 2001\n"
          ]
        },
        {
          "output_type": "stream",
          "name": "stderr",
          "text": [
            "7004it [04:28, 26.02it/s]"
          ]
        },
        {
          "output_type": "stream",
          "name": "stdout",
          "text": [
            "\n",
            "\n",
            "***INFO***\n",
            "Number of prompts processed: 7000\n",
            "Number of Unique objects detected so far: 2067\n"
          ]
        },
        {
          "output_type": "stream",
          "name": "stderr",
          "text": [
            "7503it [04:46, 25.91it/s]"
          ]
        },
        {
          "output_type": "stream",
          "name": "stdout",
          "text": [
            "\n",
            "\n",
            "***INFO***\n",
            "Number of prompts processed: 7500\n",
            "Number of Unique objects detected so far: 2116\n"
          ]
        },
        {
          "output_type": "stream",
          "name": "stderr",
          "text": [
            "8005it [05:05, 27.07it/s]"
          ]
        },
        {
          "output_type": "stream",
          "name": "stdout",
          "text": [
            "\n",
            "\n",
            "***INFO***\n",
            "Number of prompts processed: 8000\n",
            "Number of Unique objects detected so far: 2167\n"
          ]
        },
        {
          "output_type": "stream",
          "name": "stderr",
          "text": [
            "8504it [05:24, 28.66it/s]"
          ]
        },
        {
          "output_type": "stream",
          "name": "stdout",
          "text": [
            "\n",
            "\n",
            "***INFO***\n",
            "Number of prompts processed: 8500\n",
            "Number of Unique objects detected so far: 2225\n"
          ]
        },
        {
          "output_type": "stream",
          "name": "stderr",
          "text": [
            "9003it [05:44, 26.30it/s]"
          ]
        },
        {
          "output_type": "stream",
          "name": "stdout",
          "text": [
            "\n",
            "\n",
            "***INFO***\n",
            "Number of prompts processed: 9000\n",
            "Number of Unique objects detected so far: 2295\n"
          ]
        },
        {
          "output_type": "stream",
          "name": "stderr",
          "text": [
            "9504it [06:02, 25.68it/s]"
          ]
        },
        {
          "output_type": "stream",
          "name": "stdout",
          "text": [
            "\n",
            "\n",
            "***INFO***\n",
            "Number of prompts processed: 9500\n",
            "Number of Unique objects detected so far: 2360\n"
          ]
        },
        {
          "output_type": "stream",
          "name": "stderr",
          "text": [
            "9999it [06:21, 26.66it/s]"
          ]
        },
        {
          "output_type": "stream",
          "name": "stdout",
          "text": [
            "\n",
            "\n",
            "***INFO***\n",
            "Number of prompts processed: 10000\n",
            "Number of Unique objects detected so far: 2414\n"
          ]
        },
        {
          "output_type": "stream",
          "name": "stderr",
          "text": [
            "10005it [06:25,  3.58it/s]"
          ]
        },
        {
          "output_type": "stream",
          "name": "stdout",
          "text": [
            "Saved.. Intermediate Results in train-captions-processed.json\n"
          ]
        },
        {
          "output_type": "stream",
          "name": "stderr",
          "text": [
            "10503it [06:44, 27.86it/s]"
          ]
        },
        {
          "output_type": "stream",
          "name": "stdout",
          "text": [
            "\n",
            "\n",
            "***INFO***\n",
            "Number of prompts processed: 10500\n",
            "Number of Unique objects detected so far: 2466\n"
          ]
        },
        {
          "output_type": "stream",
          "name": "stderr",
          "text": [
            "11002it [07:02, 25.88it/s]"
          ]
        },
        {
          "output_type": "stream",
          "name": "stdout",
          "text": [
            "\n",
            "\n",
            "***INFO***\n",
            "Number of prompts processed: 11000\n",
            "Number of Unique objects detected so far: 2524\n"
          ]
        },
        {
          "output_type": "stream",
          "name": "stderr",
          "text": [
            "11503it [07:21, 27.46it/s]"
          ]
        },
        {
          "output_type": "stream",
          "name": "stdout",
          "text": [
            "\n",
            "\n",
            "***INFO***\n",
            "Number of prompts processed: 11500\n",
            "Number of Unique objects detected so far: 2559\n"
          ]
        },
        {
          "output_type": "stream",
          "name": "stderr",
          "text": [
            "12003it [07:40, 24.49it/s]"
          ]
        },
        {
          "output_type": "stream",
          "name": "stdout",
          "text": [
            "\n",
            "\n",
            "***INFO***\n",
            "Number of prompts processed: 12000\n",
            "Number of Unique objects detected so far: 2599\n"
          ]
        },
        {
          "output_type": "stream",
          "name": "stderr",
          "text": [
            "12503it [07:59, 24.45it/s]"
          ]
        },
        {
          "output_type": "stream",
          "name": "stdout",
          "text": [
            "\n",
            "\n",
            "***INFO***\n",
            "Number of prompts processed: 12500\n",
            "Number of Unique objects detected so far: 2633\n"
          ]
        },
        {
          "output_type": "stream",
          "name": "stderr",
          "text": [
            "13004it [08:17, 27.56it/s]"
          ]
        },
        {
          "output_type": "stream",
          "name": "stdout",
          "text": [
            "\n",
            "\n",
            "***INFO***\n",
            "Number of prompts processed: 13000\n",
            "Number of Unique objects detected so far: 2660\n"
          ]
        },
        {
          "output_type": "stream",
          "name": "stderr",
          "text": [
            "13504it [08:37, 26.68it/s]"
          ]
        },
        {
          "output_type": "stream",
          "name": "stdout",
          "text": [
            "\n",
            "\n",
            "***INFO***\n",
            "Number of prompts processed: 13500\n",
            "Number of Unique objects detected so far: 2688\n"
          ]
        },
        {
          "output_type": "stream",
          "name": "stderr",
          "text": [
            "14005it [08:56, 27.22it/s]"
          ]
        },
        {
          "output_type": "stream",
          "name": "stdout",
          "text": [
            "\n",
            "\n",
            "***INFO***\n",
            "Number of prompts processed: 14000\n",
            "Number of Unique objects detected so far: 2736\n"
          ]
        },
        {
          "output_type": "stream",
          "name": "stderr",
          "text": [
            "14503it [09:15, 26.25it/s]"
          ]
        },
        {
          "output_type": "stream",
          "name": "stdout",
          "text": [
            "\n",
            "\n",
            "***INFO***\n",
            "Number of prompts processed: 14500\n",
            "Number of Unique objects detected so far: 2772\n"
          ]
        },
        {
          "output_type": "stream",
          "name": "stderr",
          "text": [
            "15002it [09:33, 26.19it/s]"
          ]
        },
        {
          "output_type": "stream",
          "name": "stdout",
          "text": [
            "\n",
            "\n",
            "***INFO***\n",
            "Number of prompts processed: 15000\n",
            "Number of Unique objects detected so far: 2801\n"
          ]
        },
        {
          "output_type": "stream",
          "name": "stderr",
          "text": [
            "15504it [09:52, 26.08it/s]"
          ]
        },
        {
          "output_type": "stream",
          "name": "stdout",
          "text": [
            "\n",
            "\n",
            "***INFO***\n",
            "Number of prompts processed: 15500\n",
            "Number of Unique objects detected so far: 2848\n"
          ]
        },
        {
          "output_type": "stream",
          "name": "stderr",
          "text": [
            "16004it [10:11, 26.99it/s]"
          ]
        },
        {
          "output_type": "stream",
          "name": "stdout",
          "text": [
            "\n",
            "\n",
            "***INFO***\n",
            "Number of prompts processed: 16000\n",
            "Number of Unique objects detected so far: 2877\n"
          ]
        },
        {
          "output_type": "stream",
          "name": "stderr",
          "text": [
            "16505it [10:29, 25.59it/s]"
          ]
        },
        {
          "output_type": "stream",
          "name": "stdout",
          "text": [
            "\n",
            "\n",
            "***INFO***\n",
            "Number of prompts processed: 16500\n",
            "Number of Unique objects detected so far: 2916\n"
          ]
        },
        {
          "output_type": "stream",
          "name": "stderr",
          "text": [
            "17004it [10:48, 25.75it/s]"
          ]
        },
        {
          "output_type": "stream",
          "name": "stdout",
          "text": [
            "\n",
            "\n",
            "***INFO***\n",
            "Number of prompts processed: 17000\n",
            "Number of Unique objects detected so far: 2953\n"
          ]
        },
        {
          "output_type": "stream",
          "name": "stderr",
          "text": [
            "17503it [11:07, 25.99it/s]"
          ]
        },
        {
          "output_type": "stream",
          "name": "stdout",
          "text": [
            "\n",
            "\n",
            "***INFO***\n",
            "Number of prompts processed: 17500\n",
            "Number of Unique objects detected so far: 2990\n"
          ]
        },
        {
          "output_type": "stream",
          "name": "stderr",
          "text": [
            "18004it [11:26, 25.28it/s]"
          ]
        },
        {
          "output_type": "stream",
          "name": "stdout",
          "text": [
            "\n",
            "\n",
            "***INFO***\n",
            "Number of prompts processed: 18000\n",
            "Number of Unique objects detected so far: 3020\n"
          ]
        },
        {
          "output_type": "stream",
          "name": "stderr",
          "text": [
            "18502it [11:45, 26.75it/s]"
          ]
        },
        {
          "output_type": "stream",
          "name": "stdout",
          "text": [
            "\n",
            "\n",
            "***INFO***\n",
            "Number of prompts processed: 18500\n",
            "Number of Unique objects detected so far: 3047\n"
          ]
        },
        {
          "output_type": "stream",
          "name": "stderr",
          "text": [
            "19004it [12:03, 26.51it/s]"
          ]
        },
        {
          "output_type": "stream",
          "name": "stdout",
          "text": [
            "\n",
            "\n",
            "***INFO***\n",
            "Number of prompts processed: 19000\n",
            "Number of Unique objects detected so far: 3079\n"
          ]
        },
        {
          "output_type": "stream",
          "name": "stderr",
          "text": [
            "19505it [12:22, 27.11it/s]"
          ]
        },
        {
          "output_type": "stream",
          "name": "stdout",
          "text": [
            "\n",
            "\n",
            "***INFO***\n",
            "Number of prompts processed: 19500\n",
            "Number of Unique objects detected so far: 3099\n"
          ]
        },
        {
          "output_type": "stream",
          "name": "stderr",
          "text": [
            "19999it [12:40, 28.74it/s]"
          ]
        },
        {
          "output_type": "stream",
          "name": "stdout",
          "text": [
            "\n",
            "\n",
            "***INFO***\n",
            "Number of prompts processed: 20000\n",
            "Number of Unique objects detected so far: 3125\n"
          ]
        },
        {
          "output_type": "stream",
          "name": "stderr",
          "text": [
            "\r20002it [12:43,  2.55it/s]"
          ]
        },
        {
          "output_type": "stream",
          "name": "stdout",
          "text": [
            "Saved.. Intermediate Results in train-captions-processed.json\n"
          ]
        },
        {
          "output_type": "stream",
          "name": "stderr",
          "text": [
            "20503it [13:02, 27.99it/s]"
          ]
        },
        {
          "output_type": "stream",
          "name": "stdout",
          "text": [
            "\n",
            "\n",
            "***INFO***\n",
            "Number of prompts processed: 20500\n",
            "Number of Unique objects detected so far: 3159\n"
          ]
        },
        {
          "output_type": "stream",
          "name": "stderr",
          "text": [
            "21004it [13:21, 26.69it/s]"
          ]
        },
        {
          "output_type": "stream",
          "name": "stdout",
          "text": [
            "\n",
            "\n",
            "***INFO***\n",
            "Number of prompts processed: 21000\n",
            "Number of Unique objects detected so far: 3194\n"
          ]
        },
        {
          "output_type": "stream",
          "name": "stderr",
          "text": [
            "21505it [13:39, 27.91it/s]"
          ]
        },
        {
          "output_type": "stream",
          "name": "stdout",
          "text": [
            "\n",
            "\n",
            "***INFO***\n",
            "Number of prompts processed: 21500\n",
            "Number of Unique objects detected so far: 3244\n"
          ]
        },
        {
          "output_type": "stream",
          "name": "stderr",
          "text": [
            "22005it [13:58, 27.62it/s]"
          ]
        },
        {
          "output_type": "stream",
          "name": "stdout",
          "text": [
            "\n",
            "\n",
            "***INFO***\n",
            "Number of prompts processed: 22000\n",
            "Number of Unique objects detected so far: 3278\n"
          ]
        },
        {
          "output_type": "stream",
          "name": "stderr",
          "text": [
            "22503it [14:17, 26.78it/s]"
          ]
        },
        {
          "output_type": "stream",
          "name": "stdout",
          "text": [
            "\n",
            "\n",
            "***INFO***\n",
            "Number of prompts processed: 22500\n",
            "Number of Unique objects detected so far: 3306\n"
          ]
        },
        {
          "output_type": "stream",
          "name": "stderr",
          "text": [
            "23003it [14:36, 28.85it/s]"
          ]
        },
        {
          "output_type": "stream",
          "name": "stdout",
          "text": [
            "\n",
            "\n",
            "***INFO***\n",
            "Number of prompts processed: 23000\n",
            "Number of Unique objects detected so far: 3332\n"
          ]
        },
        {
          "output_type": "stream",
          "name": "stderr",
          "text": [
            "23504it [14:55, 26.53it/s]"
          ]
        },
        {
          "output_type": "stream",
          "name": "stdout",
          "text": [
            "\n",
            "\n",
            "***INFO***\n",
            "Number of prompts processed: 23500\n",
            "Number of Unique objects detected so far: 3363\n"
          ]
        },
        {
          "output_type": "stream",
          "name": "stderr",
          "text": [
            "24005it [15:13, 27.23it/s]"
          ]
        },
        {
          "output_type": "stream",
          "name": "stdout",
          "text": [
            "\n",
            "\n",
            "***INFO***\n",
            "Number of prompts processed: 24000\n",
            "Number of Unique objects detected so far: 3391\n"
          ]
        },
        {
          "output_type": "stream",
          "name": "stderr",
          "text": [
            "24504it [15:31, 26.93it/s]"
          ]
        },
        {
          "output_type": "stream",
          "name": "stdout",
          "text": [
            "\n",
            "\n",
            "***INFO***\n",
            "Number of prompts processed: 24500\n",
            "Number of Unique objects detected so far: 3417\n"
          ]
        },
        {
          "output_type": "stream",
          "name": "stderr",
          "text": [
            "25004it [15:50, 26.14it/s]"
          ]
        },
        {
          "output_type": "stream",
          "name": "stdout",
          "text": [
            "\n",
            "\n",
            "***INFO***\n",
            "Number of prompts processed: 25000\n",
            "Number of Unique objects detected so far: 3445\n"
          ]
        },
        {
          "output_type": "stream",
          "name": "stderr",
          "text": [
            "25503it [16:09, 26.21it/s]"
          ]
        },
        {
          "output_type": "stream",
          "name": "stdout",
          "text": [
            "\n",
            "\n",
            "***INFO***\n",
            "Number of prompts processed: 25500\n",
            "Number of Unique objects detected so far: 3475\n"
          ]
        },
        {
          "output_type": "stream",
          "name": "stderr",
          "text": [
            "26005it [16:27, 29.07it/s]"
          ]
        },
        {
          "output_type": "stream",
          "name": "stdout",
          "text": [
            "\n",
            "\n",
            "***INFO***\n",
            "Number of prompts processed: 26000\n",
            "Number of Unique objects detected so far: 3507\n"
          ]
        },
        {
          "output_type": "stream",
          "name": "stderr",
          "text": [
            "26505it [16:46, 27.40it/s]"
          ]
        },
        {
          "output_type": "stream",
          "name": "stdout",
          "text": [
            "\n",
            "\n",
            "***INFO***\n",
            "Number of prompts processed: 26500\n",
            "Number of Unique objects detected so far: 3525\n"
          ]
        },
        {
          "output_type": "stream",
          "name": "stderr",
          "text": [
            "27004it [17:04, 26.57it/s]"
          ]
        },
        {
          "output_type": "stream",
          "name": "stdout",
          "text": [
            "\n",
            "\n",
            "***INFO***\n",
            "Number of prompts processed: 27000\n",
            "Number of Unique objects detected so far: 3547\n"
          ]
        },
        {
          "output_type": "stream",
          "name": "stderr",
          "text": [
            "27503it [17:24, 25.84it/s]"
          ]
        },
        {
          "output_type": "stream",
          "name": "stdout",
          "text": [
            "\n",
            "\n",
            "***INFO***\n",
            "Number of prompts processed: 27500\n",
            "Number of Unique objects detected so far: 3581\n"
          ]
        },
        {
          "output_type": "stream",
          "name": "stderr",
          "text": [
            "28005it [17:43, 25.58it/s]"
          ]
        },
        {
          "output_type": "stream",
          "name": "stdout",
          "text": [
            "\n",
            "\n",
            "***INFO***\n",
            "Number of prompts processed: 28000\n",
            "Number of Unique objects detected so far: 3614\n"
          ]
        },
        {
          "output_type": "stream",
          "name": "stderr",
          "text": [
            "28504it [18:01, 27.60it/s]"
          ]
        },
        {
          "output_type": "stream",
          "name": "stdout",
          "text": [
            "\n",
            "\n",
            "***INFO***\n",
            "Number of prompts processed: 28500\n",
            "Number of Unique objects detected so far: 3636\n"
          ]
        },
        {
          "output_type": "stream",
          "name": "stderr",
          "text": [
            "29003it [18:20, 26.82it/s]"
          ]
        },
        {
          "output_type": "stream",
          "name": "stdout",
          "text": [
            "\n",
            "\n",
            "***INFO***\n",
            "Number of prompts processed: 29000\n",
            "Number of Unique objects detected so far: 3670\n"
          ]
        },
        {
          "output_type": "stream",
          "name": "stderr",
          "text": [
            "29505it [18:39, 27.69it/s]"
          ]
        },
        {
          "output_type": "stream",
          "name": "stdout",
          "text": [
            "\n",
            "\n",
            "***INFO***\n",
            "Number of prompts processed: 29500\n",
            "Number of Unique objects detected so far: 3714\n"
          ]
        },
        {
          "output_type": "stream",
          "name": "stderr",
          "text": [
            "29997it [18:57, 26.74it/s]"
          ]
        },
        {
          "output_type": "stream",
          "name": "stdout",
          "text": [
            "\n",
            "\n",
            "***INFO***\n",
            "Number of prompts processed: 30000\n",
            "Number of Unique objects detected so far: 3761\n"
          ]
        },
        {
          "output_type": "stream",
          "name": "stderr",
          "text": [
            "30002it [19:01,  3.28it/s]"
          ]
        },
        {
          "output_type": "stream",
          "name": "stdout",
          "text": [
            "Saved.. Intermediate Results in train-captions-processed.json\n"
          ]
        },
        {
          "output_type": "stream",
          "name": "stderr",
          "text": [
            "30503it [19:20, 26.46it/s]"
          ]
        },
        {
          "output_type": "stream",
          "name": "stdout",
          "text": [
            "\n",
            "\n",
            "***INFO***\n",
            "Number of prompts processed: 30500\n",
            "Number of Unique objects detected so far: 3803\n"
          ]
        },
        {
          "output_type": "stream",
          "name": "stderr",
          "text": [
            "31005it [19:39, 24.90it/s]"
          ]
        },
        {
          "output_type": "stream",
          "name": "stdout",
          "text": [
            "\n",
            "\n",
            "***INFO***\n",
            "Number of prompts processed: 31000\n",
            "Number of Unique objects detected so far: 3850\n"
          ]
        },
        {
          "output_type": "stream",
          "name": "stderr",
          "text": [
            "31504it [19:58, 26.07it/s]"
          ]
        },
        {
          "output_type": "stream",
          "name": "stdout",
          "text": [
            "\n",
            "\n",
            "***INFO***\n",
            "Number of prompts processed: 31500\n",
            "Number of Unique objects detected so far: 3896\n"
          ]
        },
        {
          "output_type": "stream",
          "name": "stderr",
          "text": [
            "32004it [20:18, 23.81it/s]"
          ]
        },
        {
          "output_type": "stream",
          "name": "stdout",
          "text": [
            "\n",
            "\n",
            "***INFO***\n",
            "Number of prompts processed: 32000\n",
            "Number of Unique objects detected so far: 3930\n"
          ]
        },
        {
          "output_type": "stream",
          "name": "stderr",
          "text": [
            "32503it [20:37, 24.01it/s]"
          ]
        },
        {
          "output_type": "stream",
          "name": "stdout",
          "text": [
            "\n",
            "\n",
            "***INFO***\n",
            "Number of prompts processed: 32500\n",
            "Number of Unique objects detected so far: 3986\n"
          ]
        },
        {
          "output_type": "stream",
          "name": "stderr",
          "text": [
            "33005it [20:55, 27.43it/s]"
          ]
        },
        {
          "output_type": "stream",
          "name": "stdout",
          "text": [
            "\n",
            "\n",
            "***INFO***\n",
            "Number of prompts processed: 33000\n",
            "Number of Unique objects detected so far: 4009\n"
          ]
        },
        {
          "output_type": "stream",
          "name": "stderr",
          "text": [
            "33503it [21:13, 27.51it/s]"
          ]
        },
        {
          "output_type": "stream",
          "name": "stdout",
          "text": [
            "\n",
            "\n",
            "***INFO***\n",
            "Number of prompts processed: 33500\n",
            "Number of Unique objects detected so far: 4048\n"
          ]
        },
        {
          "output_type": "stream",
          "name": "stderr",
          "text": [
            "34003it [21:31, 28.53it/s]"
          ]
        },
        {
          "output_type": "stream",
          "name": "stdout",
          "text": [
            "\n",
            "\n",
            "***INFO***\n",
            "Number of prompts processed: 34000\n",
            "Number of Unique objects detected so far: 4078\n"
          ]
        },
        {
          "output_type": "stream",
          "name": "stderr",
          "text": [
            "34506it [21:49, 26.72it/s]"
          ]
        },
        {
          "output_type": "stream",
          "name": "stdout",
          "text": [
            "\n",
            "\n",
            "***INFO***\n",
            "Number of prompts processed: 34500\n",
            "Number of Unique objects detected so far: 4113\n"
          ]
        },
        {
          "output_type": "stream",
          "name": "stderr",
          "text": [
            "35002it [22:08, 26.43it/s]"
          ]
        },
        {
          "output_type": "stream",
          "name": "stdout",
          "text": [
            "\n",
            "\n",
            "***INFO***\n",
            "Number of prompts processed: 35000\n",
            "Number of Unique objects detected so far: 4154\n"
          ]
        },
        {
          "output_type": "stream",
          "name": "stderr",
          "text": [
            "35503it [22:26, 24.76it/s]"
          ]
        },
        {
          "output_type": "stream",
          "name": "stdout",
          "text": [
            "\n",
            "\n",
            "***INFO***\n",
            "Number of prompts processed: 35500\n",
            "Number of Unique objects detected so far: 4184\n"
          ]
        },
        {
          "output_type": "stream",
          "name": "stderr",
          "text": [
            "36005it [22:44, 29.50it/s]"
          ]
        },
        {
          "output_type": "stream",
          "name": "stdout",
          "text": [
            "\n",
            "\n",
            "***INFO***\n",
            "Number of prompts processed: 36000\n",
            "Number of Unique objects detected so far: 4207\n"
          ]
        },
        {
          "output_type": "stream",
          "name": "stderr",
          "text": [
            "36503it [23:03, 27.33it/s]"
          ]
        },
        {
          "output_type": "stream",
          "name": "stdout",
          "text": [
            "\n",
            "\n",
            "***INFO***\n",
            "Number of prompts processed: 36500\n",
            "Number of Unique objects detected so far: 4233\n"
          ]
        },
        {
          "output_type": "stream",
          "name": "stderr",
          "text": [
            "37003it [23:22, 25.86it/s]"
          ]
        },
        {
          "output_type": "stream",
          "name": "stdout",
          "text": [
            "\n",
            "\n",
            "***INFO***\n",
            "Number of prompts processed: 37000\n",
            "Number of Unique objects detected so far: 4271\n"
          ]
        },
        {
          "output_type": "stream",
          "name": "stderr",
          "text": [
            "37503it [23:41, 26.91it/s]"
          ]
        },
        {
          "output_type": "stream",
          "name": "stdout",
          "text": [
            "\n",
            "\n",
            "***INFO***\n",
            "Number of prompts processed: 37500\n",
            "Number of Unique objects detected so far: 4304\n"
          ]
        },
        {
          "output_type": "stream",
          "name": "stderr",
          "text": [
            "38003it [24:00, 27.04it/s]"
          ]
        },
        {
          "output_type": "stream",
          "name": "stdout",
          "text": [
            "\n",
            "\n",
            "***INFO***\n",
            "Number of prompts processed: 38000\n",
            "Number of Unique objects detected so far: 4332\n"
          ]
        },
        {
          "output_type": "stream",
          "name": "stderr",
          "text": [
            "38504it [24:18, 28.02it/s]"
          ]
        },
        {
          "output_type": "stream",
          "name": "stdout",
          "text": [
            "\n",
            "\n",
            "***INFO***\n",
            "Number of prompts processed: 38500\n",
            "Number of Unique objects detected so far: 4360\n"
          ]
        },
        {
          "output_type": "stream",
          "name": "stderr",
          "text": [
            "39003it [24:37, 26.87it/s]"
          ]
        },
        {
          "output_type": "stream",
          "name": "stdout",
          "text": [
            "\n",
            "\n",
            "***INFO***\n",
            "Number of prompts processed: 39000\n",
            "Number of Unique objects detected so far: 4389\n"
          ]
        },
        {
          "output_type": "stream",
          "name": "stderr",
          "text": [
            "39505it [24:55, 26.56it/s]"
          ]
        },
        {
          "output_type": "stream",
          "name": "stdout",
          "text": [
            "\n",
            "\n",
            "***INFO***\n",
            "Number of prompts processed: 39500\n",
            "Number of Unique objects detected so far: 4404\n"
          ]
        },
        {
          "output_type": "stream",
          "name": "stderr",
          "text": [
            "39997it [25:13, 27.38it/s]"
          ]
        },
        {
          "output_type": "stream",
          "name": "stdout",
          "text": [
            "\n",
            "\n",
            "***INFO***\n",
            "Number of prompts processed: 40000\n",
            "Number of Unique objects detected so far: 4439\n"
          ]
        },
        {
          "output_type": "stream",
          "name": "stderr",
          "text": [
            "40002it [25:17,  3.15it/s]"
          ]
        },
        {
          "output_type": "stream",
          "name": "stdout",
          "text": [
            "Saved.. Intermediate Results in train-captions-processed.json\n"
          ]
        },
        {
          "output_type": "stream",
          "name": "stderr",
          "text": [
            "40503it [25:35, 27.99it/s]"
          ]
        },
        {
          "output_type": "stream",
          "name": "stdout",
          "text": [
            "\n",
            "\n",
            "***INFO***\n",
            "Number of prompts processed: 40500\n",
            "Number of Unique objects detected so far: 4460\n"
          ]
        },
        {
          "output_type": "stream",
          "name": "stderr",
          "text": [
            "41003it [25:54, 25.12it/s]"
          ]
        },
        {
          "output_type": "stream",
          "name": "stdout",
          "text": [
            "\n",
            "\n",
            "***INFO***\n",
            "Number of prompts processed: 41000\n",
            "Number of Unique objects detected so far: 4483\n"
          ]
        },
        {
          "output_type": "stream",
          "name": "stderr",
          "text": [
            "41505it [26:14, 27.04it/s]"
          ]
        },
        {
          "output_type": "stream",
          "name": "stdout",
          "text": [
            "\n",
            "\n",
            "***INFO***\n",
            "Number of prompts processed: 41500\n",
            "Number of Unique objects detected so far: 4511\n"
          ]
        },
        {
          "output_type": "stream",
          "name": "stderr",
          "text": [
            "42003it [26:32, 27.45it/s]"
          ]
        },
        {
          "output_type": "stream",
          "name": "stdout",
          "text": [
            "\n",
            "\n",
            "***INFO***\n",
            "Number of prompts processed: 42000\n",
            "Number of Unique objects detected so far: 4543\n"
          ]
        },
        {
          "output_type": "stream",
          "name": "stderr",
          "text": [
            "42504it [26:50, 28.05it/s]"
          ]
        },
        {
          "output_type": "stream",
          "name": "stdout",
          "text": [
            "\n",
            "\n",
            "***INFO***\n",
            "Number of prompts processed: 42500\n",
            "Number of Unique objects detected so far: 4564\n"
          ]
        },
        {
          "output_type": "stream",
          "name": "stderr",
          "text": [
            "43004it [27:09, 27.43it/s]"
          ]
        },
        {
          "output_type": "stream",
          "name": "stdout",
          "text": [
            "\n",
            "\n",
            "***INFO***\n",
            "Number of prompts processed: 43000\n",
            "Number of Unique objects detected so far: 4587\n"
          ]
        },
        {
          "output_type": "stream",
          "name": "stderr",
          "text": [
            "43504it [27:27, 28.21it/s]"
          ]
        },
        {
          "output_type": "stream",
          "name": "stdout",
          "text": [
            "\n",
            "\n",
            "***INFO***\n",
            "Number of prompts processed: 43500\n",
            "Number of Unique objects detected so far: 4611\n"
          ]
        },
        {
          "output_type": "stream",
          "name": "stderr",
          "text": [
            "44005it [27:45, 29.49it/s]"
          ]
        },
        {
          "output_type": "stream",
          "name": "stdout",
          "text": [
            "\n",
            "\n",
            "***INFO***\n",
            "Number of prompts processed: 44000\n",
            "Number of Unique objects detected so far: 4634\n"
          ]
        },
        {
          "output_type": "stream",
          "name": "stderr",
          "text": [
            "44504it [28:02, 29.01it/s]"
          ]
        },
        {
          "output_type": "stream",
          "name": "stdout",
          "text": [
            "\n",
            "\n",
            "***INFO***\n",
            "Number of prompts processed: 44500\n",
            "Number of Unique objects detected so far: 4664\n"
          ]
        },
        {
          "output_type": "stream",
          "name": "stderr",
          "text": [
            "45005it [28:21, 26.70it/s]"
          ]
        },
        {
          "output_type": "stream",
          "name": "stdout",
          "text": [
            "\n",
            "\n",
            "***INFO***\n",
            "Number of prompts processed: 45000\n",
            "Number of Unique objects detected so far: 4691\n"
          ]
        },
        {
          "output_type": "stream",
          "name": "stderr",
          "text": [
            "45506it [28:39, 27.99it/s]"
          ]
        },
        {
          "output_type": "stream",
          "name": "stdout",
          "text": [
            "\n",
            "\n",
            "***INFO***\n",
            "Number of prompts processed: 45500\n",
            "Number of Unique objects detected so far: 4715\n"
          ]
        },
        {
          "output_type": "stream",
          "name": "stderr",
          "text": [
            "46004it [28:57, 27.96it/s]"
          ]
        },
        {
          "output_type": "stream",
          "name": "stdout",
          "text": [
            "\n",
            "\n",
            "***INFO***\n",
            "Number of prompts processed: 46000\n",
            "Number of Unique objects detected so far: 4734\n"
          ]
        },
        {
          "output_type": "stream",
          "name": "stderr",
          "text": [
            "46504it [29:16, 27.33it/s]"
          ]
        },
        {
          "output_type": "stream",
          "name": "stdout",
          "text": [
            "\n",
            "\n",
            "***INFO***\n",
            "Number of prompts processed: 46500\n",
            "Number of Unique objects detected so far: 4754\n"
          ]
        },
        {
          "output_type": "stream",
          "name": "stderr",
          "text": [
            "47005it [29:35, 27.78it/s]"
          ]
        },
        {
          "output_type": "stream",
          "name": "stdout",
          "text": [
            "\n",
            "\n",
            "***INFO***\n",
            "Number of prompts processed: 47000\n",
            "Number of Unique objects detected so far: 4777\n"
          ]
        },
        {
          "output_type": "stream",
          "name": "stderr",
          "text": [
            "47505it [29:53, 27.86it/s]"
          ]
        },
        {
          "output_type": "stream",
          "name": "stdout",
          "text": [
            "\n",
            "\n",
            "***INFO***\n",
            "Number of prompts processed: 47500\n",
            "Number of Unique objects detected so far: 4807\n"
          ]
        },
        {
          "output_type": "stream",
          "name": "stderr",
          "text": [
            "48005it [30:11, 28.87it/s]"
          ]
        },
        {
          "output_type": "stream",
          "name": "stdout",
          "text": [
            "\n",
            "\n",
            "***INFO***\n",
            "Number of prompts processed: 48000\n",
            "Number of Unique objects detected so far: 4826\n"
          ]
        },
        {
          "output_type": "stream",
          "name": "stderr",
          "text": [
            "48504it [30:29, 26.20it/s]"
          ]
        },
        {
          "output_type": "stream",
          "name": "stdout",
          "text": [
            "\n",
            "\n",
            "***INFO***\n",
            "Number of prompts processed: 48500\n",
            "Number of Unique objects detected so far: 4839\n"
          ]
        },
        {
          "output_type": "stream",
          "name": "stderr",
          "text": [
            "49003it [30:47, 25.99it/s]"
          ]
        },
        {
          "output_type": "stream",
          "name": "stdout",
          "text": [
            "\n",
            "\n",
            "***INFO***\n",
            "Number of prompts processed: 49000\n",
            "Number of Unique objects detected so far: 4863\n"
          ]
        },
        {
          "output_type": "stream",
          "name": "stderr",
          "text": [
            "49504it [31:05, 25.98it/s]"
          ]
        },
        {
          "output_type": "stream",
          "name": "stdout",
          "text": [
            "\n",
            "\n",
            "***INFO***\n",
            "Number of prompts processed: 49500\n",
            "Number of Unique objects detected so far: 4878\n"
          ]
        },
        {
          "output_type": "stream",
          "name": "stderr",
          "text": [
            "49998it [31:23, 25.61it/s]"
          ]
        },
        {
          "output_type": "stream",
          "name": "stdout",
          "text": [
            "\n",
            "\n",
            "***INFO***\n",
            "Number of prompts processed: 50000\n",
            "Number of Unique objects detected so far: 4909\n"
          ]
        },
        {
          "output_type": "stream",
          "name": "stderr",
          "text": [
            "50004it [31:27,  3.38it/s]"
          ]
        },
        {
          "output_type": "stream",
          "name": "stdout",
          "text": [
            "Saved.. Intermediate Results in train-captions-processed.json\n"
          ]
        },
        {
          "output_type": "stream",
          "name": "stderr",
          "text": [
            "50503it [31:46, 26.59it/s]"
          ]
        },
        {
          "output_type": "stream",
          "name": "stdout",
          "text": [
            "\n",
            "\n",
            "***INFO***\n",
            "Number of prompts processed: 50500\n",
            "Number of Unique objects detected so far: 4940\n"
          ]
        },
        {
          "output_type": "stream",
          "name": "stderr",
          "text": [
            "51003it [32:05, 26.72it/s]"
          ]
        },
        {
          "output_type": "stream",
          "name": "stdout",
          "text": [
            "\n",
            "\n",
            "***INFO***\n",
            "Number of prompts processed: 51000\n",
            "Number of Unique objects detected so far: 4954\n"
          ]
        },
        {
          "output_type": "stream",
          "name": "stderr",
          "text": [
            "51504it [32:23, 25.48it/s]"
          ]
        },
        {
          "output_type": "stream",
          "name": "stdout",
          "text": [
            "\n",
            "\n",
            "***INFO***\n",
            "Number of prompts processed: 51500\n",
            "Number of Unique objects detected so far: 4973\n"
          ]
        },
        {
          "output_type": "stream",
          "name": "stderr",
          "text": [
            "52005it [32:41, 29.24it/s]"
          ]
        },
        {
          "output_type": "stream",
          "name": "stdout",
          "text": [
            "\n",
            "\n",
            "***INFO***\n",
            "Number of prompts processed: 52000\n",
            "Number of Unique objects detected so far: 4994\n"
          ]
        },
        {
          "output_type": "stream",
          "name": "stderr",
          "text": [
            "52504it [32:59, 27.99it/s]"
          ]
        },
        {
          "output_type": "stream",
          "name": "stdout",
          "text": [
            "\n",
            "\n",
            "***INFO***\n",
            "Number of prompts processed: 52500\n",
            "Number of Unique objects detected so far: 5013\n"
          ]
        },
        {
          "output_type": "stream",
          "name": "stderr",
          "text": [
            "53005it [33:17, 26.49it/s]"
          ]
        },
        {
          "output_type": "stream",
          "name": "stdout",
          "text": [
            "\n",
            "\n",
            "***INFO***\n",
            "Number of prompts processed: 53000\n",
            "Number of Unique objects detected so far: 5045\n"
          ]
        },
        {
          "output_type": "stream",
          "name": "stderr",
          "text": [
            "53503it [33:35, 26.74it/s]"
          ]
        },
        {
          "output_type": "stream",
          "name": "stdout",
          "text": [
            "\n",
            "\n",
            "***INFO***\n",
            "Number of prompts processed: 53500\n",
            "Number of Unique objects detected so far: 5066\n"
          ]
        },
        {
          "output_type": "stream",
          "name": "stderr",
          "text": [
            "54004it [33:54, 27.98it/s]"
          ]
        },
        {
          "output_type": "stream",
          "name": "stdout",
          "text": [
            "\n",
            "\n",
            "***INFO***\n",
            "Number of prompts processed: 54000\n",
            "Number of Unique objects detected so far: 5082\n"
          ]
        },
        {
          "output_type": "stream",
          "name": "stderr",
          "text": [
            "54502it [34:12, 25.33it/s]"
          ]
        },
        {
          "output_type": "stream",
          "name": "stdout",
          "text": [
            "\n",
            "\n",
            "***INFO***\n",
            "Number of prompts processed: 54500\n",
            "Number of Unique objects detected so far: 5098\n"
          ]
        },
        {
          "output_type": "stream",
          "name": "stderr",
          "text": [
            "55005it [34:30, 29.60it/s]"
          ]
        },
        {
          "output_type": "stream",
          "name": "stdout",
          "text": [
            "\n",
            "\n",
            "***INFO***\n",
            "Number of prompts processed: 55000\n",
            "Number of Unique objects detected so far: 5126\n"
          ]
        },
        {
          "output_type": "stream",
          "name": "stderr",
          "text": [
            "55505it [34:48, 27.79it/s]"
          ]
        },
        {
          "output_type": "stream",
          "name": "stdout",
          "text": [
            "\n",
            "\n",
            "***INFO***\n",
            "Number of prompts processed: 55500\n",
            "Number of Unique objects detected so far: 5154\n"
          ]
        },
        {
          "output_type": "stream",
          "name": "stderr",
          "text": [
            "56005it [35:07, 28.38it/s]"
          ]
        },
        {
          "output_type": "stream",
          "name": "stdout",
          "text": [
            "\n",
            "\n",
            "***INFO***\n",
            "Number of prompts processed: 56000\n",
            "Number of Unique objects detected so far: 5189\n"
          ]
        },
        {
          "output_type": "stream",
          "name": "stderr",
          "text": [
            "56504it [35:26, 28.96it/s]"
          ]
        },
        {
          "output_type": "stream",
          "name": "stdout",
          "text": [
            "\n",
            "\n",
            "***INFO***\n",
            "Number of prompts processed: 56500\n",
            "Number of Unique objects detected so far: 5220\n"
          ]
        },
        {
          "output_type": "stream",
          "name": "stderr",
          "text": [
            "57005it [35:44, 26.34it/s]"
          ]
        },
        {
          "output_type": "stream",
          "name": "stdout",
          "text": [
            "\n",
            "\n",
            "***INFO***\n",
            "Number of prompts processed: 57000\n",
            "Number of Unique objects detected so far: 5241\n"
          ]
        },
        {
          "output_type": "stream",
          "name": "stderr",
          "text": [
            "57504it [36:02, 26.26it/s]"
          ]
        },
        {
          "output_type": "stream",
          "name": "stdout",
          "text": [
            "\n",
            "\n",
            "***INFO***\n",
            "Number of prompts processed: 57500\n",
            "Number of Unique objects detected so far: 5262\n"
          ]
        },
        {
          "output_type": "stream",
          "name": "stderr",
          "text": [
            "58005it [36:20, 26.84it/s]"
          ]
        },
        {
          "output_type": "stream",
          "name": "stdout",
          "text": [
            "\n",
            "\n",
            "***INFO***\n",
            "Number of prompts processed: 58000\n",
            "Number of Unique objects detected so far: 5282\n"
          ]
        },
        {
          "output_type": "stream",
          "name": "stderr",
          "text": [
            "58505it [36:39, 27.53it/s]"
          ]
        },
        {
          "output_type": "stream",
          "name": "stdout",
          "text": [
            "\n",
            "\n",
            "***INFO***\n",
            "Number of prompts processed: 58500\n",
            "Number of Unique objects detected so far: 5310\n"
          ]
        },
        {
          "output_type": "stream",
          "name": "stderr",
          "text": [
            "59005it [36:57, 27.61it/s]"
          ]
        },
        {
          "output_type": "stream",
          "name": "stdout",
          "text": [
            "\n",
            "\n",
            "***INFO***\n",
            "Number of prompts processed: 59000\n",
            "Number of Unique objects detected so far: 5336\n"
          ]
        },
        {
          "output_type": "stream",
          "name": "stderr",
          "text": [
            "59505it [37:16, 27.01it/s]"
          ]
        },
        {
          "output_type": "stream",
          "name": "stdout",
          "text": [
            "\n",
            "\n",
            "***INFO***\n",
            "Number of prompts processed: 59500\n",
            "Number of Unique objects detected so far: 5355\n"
          ]
        },
        {
          "output_type": "stream",
          "name": "stderr",
          "text": [
            "59998it [37:34, 27.30it/s]"
          ]
        },
        {
          "output_type": "stream",
          "name": "stdout",
          "text": [
            "\n",
            "\n",
            "***INFO***\n",
            "Number of prompts processed: 60000\n",
            "Number of Unique objects detected so far: 5384\n"
          ]
        },
        {
          "output_type": "stream",
          "name": "stderr",
          "text": [
            "60004it [37:38,  3.20it/s]"
          ]
        },
        {
          "output_type": "stream",
          "name": "stdout",
          "text": [
            "Saved.. Intermediate Results in train-captions-processed.json\n"
          ]
        },
        {
          "output_type": "stream",
          "name": "stderr",
          "text": [
            "60505it [37:59, 26.06it/s]"
          ]
        },
        {
          "output_type": "stream",
          "name": "stdout",
          "text": [
            "\n",
            "\n",
            "***INFO***\n",
            "Number of prompts processed: 60500\n",
            "Number of Unique objects detected so far: 5404\n"
          ]
        },
        {
          "output_type": "stream",
          "name": "stderr",
          "text": [
            "61004it [38:17, 28.94it/s]"
          ]
        },
        {
          "output_type": "stream",
          "name": "stdout",
          "text": [
            "\n",
            "\n",
            "***INFO***\n",
            "Number of prompts processed: 61000\n",
            "Number of Unique objects detected so far: 5438\n"
          ]
        },
        {
          "output_type": "stream",
          "name": "stderr",
          "text": [
            "61505it [38:35, 26.63it/s]"
          ]
        },
        {
          "output_type": "stream",
          "name": "stdout",
          "text": [
            "\n",
            "\n",
            "***INFO***\n",
            "Number of prompts processed: 61500\n",
            "Number of Unique objects detected so far: 5464\n"
          ]
        },
        {
          "output_type": "stream",
          "name": "stderr",
          "text": [
            "62003it [38:53, 29.04it/s]"
          ]
        },
        {
          "output_type": "stream",
          "name": "stdout",
          "text": [
            "\n",
            "\n",
            "***INFO***\n",
            "Number of prompts processed: 62000\n",
            "Number of Unique objects detected so far: 5486\n"
          ]
        },
        {
          "output_type": "stream",
          "name": "stderr",
          "text": [
            "62503it [39:12, 27.71it/s]"
          ]
        },
        {
          "output_type": "stream",
          "name": "stdout",
          "text": [
            "\n",
            "\n",
            "***INFO***\n",
            "Number of prompts processed: 62500\n",
            "Number of Unique objects detected so far: 5511\n"
          ]
        },
        {
          "output_type": "stream",
          "name": "stderr",
          "text": [
            "63003it [39:31, 25.89it/s]"
          ]
        },
        {
          "output_type": "stream",
          "name": "stdout",
          "text": [
            "\n",
            "\n",
            "***INFO***\n",
            "Number of prompts processed: 63000\n",
            "Number of Unique objects detected so far: 5540\n"
          ]
        },
        {
          "output_type": "stream",
          "name": "stderr",
          "text": [
            "63505it [39:49, 26.46it/s]"
          ]
        },
        {
          "output_type": "stream",
          "name": "stdout",
          "text": [
            "\n",
            "\n",
            "***INFO***\n",
            "Number of prompts processed: 63500\n",
            "Number of Unique objects detected so far: 5560\n"
          ]
        },
        {
          "output_type": "stream",
          "name": "stderr",
          "text": [
            "64003it [40:08, 27.53it/s]"
          ]
        },
        {
          "output_type": "stream",
          "name": "stdout",
          "text": [
            "\n",
            "\n",
            "***INFO***\n",
            "Number of prompts processed: 64000\n",
            "Number of Unique objects detected so far: 5587\n"
          ]
        },
        {
          "output_type": "stream",
          "name": "stderr",
          "text": [
            "64502it [40:27, 27.48it/s]"
          ]
        },
        {
          "output_type": "stream",
          "name": "stdout",
          "text": [
            "\n",
            "\n",
            "***INFO***\n",
            "Number of prompts processed: 64500\n",
            "Number of Unique objects detected so far: 5607\n"
          ]
        },
        {
          "output_type": "stream",
          "name": "stderr",
          "text": [
            "65004it [40:45, 28.52it/s]"
          ]
        },
        {
          "output_type": "stream",
          "name": "stdout",
          "text": [
            "\n",
            "\n",
            "***INFO***\n",
            "Number of prompts processed: 65000\n",
            "Number of Unique objects detected so far: 5625\n"
          ]
        },
        {
          "output_type": "stream",
          "name": "stderr",
          "text": [
            "65504it [41:04, 25.36it/s]"
          ]
        },
        {
          "output_type": "stream",
          "name": "stdout",
          "text": [
            "\n",
            "\n",
            "***INFO***\n",
            "Number of prompts processed: 65500\n",
            "Number of Unique objects detected so far: 5648\n"
          ]
        },
        {
          "output_type": "stream",
          "name": "stderr",
          "text": [
            "66005it [41:23, 26.78it/s]"
          ]
        },
        {
          "output_type": "stream",
          "name": "stdout",
          "text": [
            "\n",
            "\n",
            "***INFO***\n",
            "Number of prompts processed: 66000\n",
            "Number of Unique objects detected so far: 5677\n"
          ]
        },
        {
          "output_type": "stream",
          "name": "stderr",
          "text": [
            "66505it [41:41, 27.07it/s]"
          ]
        },
        {
          "output_type": "stream",
          "name": "stdout",
          "text": [
            "\n",
            "\n",
            "***INFO***\n",
            "Number of prompts processed: 66500\n",
            "Number of Unique objects detected so far: 5698\n"
          ]
        },
        {
          "output_type": "stream",
          "name": "stderr",
          "text": [
            "67003it [42:00, 27.23it/s]"
          ]
        },
        {
          "output_type": "stream",
          "name": "stdout",
          "text": [
            "\n",
            "\n",
            "***INFO***\n",
            "Number of prompts processed: 67000\n",
            "Number of Unique objects detected so far: 5713\n"
          ]
        },
        {
          "output_type": "stream",
          "name": "stderr",
          "text": [
            "67502it [42:18, 26.90it/s]"
          ]
        },
        {
          "output_type": "stream",
          "name": "stdout",
          "text": [
            "\n",
            "\n",
            "***INFO***\n",
            "Number of prompts processed: 67500\n",
            "Number of Unique objects detected so far: 5728\n"
          ]
        },
        {
          "output_type": "stream",
          "name": "stderr",
          "text": [
            "68002it [42:37, 24.10it/s]"
          ]
        },
        {
          "output_type": "stream",
          "name": "stdout",
          "text": [
            "\n",
            "\n",
            "***INFO***\n",
            "Number of prompts processed: 68000\n",
            "Number of Unique objects detected so far: 5742\n"
          ]
        },
        {
          "output_type": "stream",
          "name": "stderr",
          "text": [
            "68505it [42:56, 27.44it/s]"
          ]
        },
        {
          "output_type": "stream",
          "name": "stdout",
          "text": [
            "\n",
            "\n",
            "***INFO***\n",
            "Number of prompts processed: 68500\n",
            "Number of Unique objects detected so far: 5763\n"
          ]
        },
        {
          "output_type": "stream",
          "name": "stderr",
          "text": [
            "69004it [43:14, 27.00it/s]"
          ]
        },
        {
          "output_type": "stream",
          "name": "stdout",
          "text": [
            "\n",
            "\n",
            "***INFO***\n",
            "Number of prompts processed: 69000\n",
            "Number of Unique objects detected so far: 5774\n"
          ]
        },
        {
          "output_type": "stream",
          "name": "stderr",
          "text": [
            "69505it [43:32, 25.70it/s]"
          ]
        },
        {
          "output_type": "stream",
          "name": "stdout",
          "text": [
            "\n",
            "\n",
            "***INFO***\n",
            "Number of prompts processed: 69500\n",
            "Number of Unique objects detected so far: 5784\n"
          ]
        },
        {
          "output_type": "stream",
          "name": "stderr",
          "text": [
            "69997it [43:52, 27.73it/s]"
          ]
        },
        {
          "output_type": "stream",
          "name": "stdout",
          "text": [
            "\n",
            "\n",
            "***INFO***\n",
            "Number of prompts processed: 70000\n",
            "Number of Unique objects detected so far: 5809\n"
          ]
        },
        {
          "output_type": "stream",
          "name": "stderr",
          "text": [
            "70003it [43:56,  3.23it/s]"
          ]
        },
        {
          "output_type": "stream",
          "name": "stdout",
          "text": [
            "Saved.. Intermediate Results in train-captions-processed.json\n"
          ]
        },
        {
          "output_type": "stream",
          "name": "stderr",
          "text": [
            "70504it [44:15, 25.87it/s]"
          ]
        },
        {
          "output_type": "stream",
          "name": "stdout",
          "text": [
            "\n",
            "\n",
            "***INFO***\n",
            "Number of prompts processed: 70500\n",
            "Number of Unique objects detected so far: 5822\n"
          ]
        },
        {
          "output_type": "stream",
          "name": "stderr",
          "text": [
            "71003it [44:33, 28.29it/s]"
          ]
        },
        {
          "output_type": "stream",
          "name": "stdout",
          "text": [
            "\n",
            "\n",
            "***INFO***\n",
            "Number of prompts processed: 71000\n",
            "Number of Unique objects detected so far: 5837\n"
          ]
        },
        {
          "output_type": "stream",
          "name": "stderr",
          "text": [
            "71504it [44:52, 27.20it/s]"
          ]
        },
        {
          "output_type": "stream",
          "name": "stdout",
          "text": [
            "\n",
            "\n",
            "***INFO***\n",
            "Number of prompts processed: 71500\n",
            "Number of Unique objects detected so far: 5858\n"
          ]
        },
        {
          "output_type": "stream",
          "name": "stderr",
          "text": [
            "72006it [45:10, 28.48it/s]"
          ]
        },
        {
          "output_type": "stream",
          "name": "stdout",
          "text": [
            "\n",
            "\n",
            "***INFO***\n",
            "Number of prompts processed: 72000\n",
            "Number of Unique objects detected so far: 5880\n"
          ]
        },
        {
          "output_type": "stream",
          "name": "stderr",
          "text": [
            "72504it [45:29, 28.13it/s]"
          ]
        },
        {
          "output_type": "stream",
          "name": "stdout",
          "text": [
            "\n",
            "\n",
            "***INFO***\n",
            "Number of prompts processed: 72500\n",
            "Number of Unique objects detected so far: 5893\n"
          ]
        },
        {
          "output_type": "stream",
          "name": "stderr",
          "text": [
            "73005it [45:47, 28.69it/s]"
          ]
        },
        {
          "output_type": "stream",
          "name": "stdout",
          "text": [
            "\n",
            "\n",
            "***INFO***\n",
            "Number of prompts processed: 73000\n",
            "Number of Unique objects detected so far: 5907\n"
          ]
        },
        {
          "output_type": "stream",
          "name": "stderr",
          "text": [
            "73503it [46:05, 26.63it/s]"
          ]
        },
        {
          "output_type": "stream",
          "name": "stdout",
          "text": [
            "\n",
            "\n",
            "***INFO***\n",
            "Number of prompts processed: 73500\n",
            "Number of Unique objects detected so far: 5927\n"
          ]
        },
        {
          "output_type": "stream",
          "name": "stderr",
          "text": [
            "74005it [46:24, 27.52it/s]"
          ]
        },
        {
          "output_type": "stream",
          "name": "stdout",
          "text": [
            "\n",
            "\n",
            "***INFO***\n",
            "Number of prompts processed: 74000\n",
            "Number of Unique objects detected so far: 5948\n"
          ]
        },
        {
          "output_type": "stream",
          "name": "stderr",
          "text": [
            "74503it [46:43, 20.27it/s]"
          ]
        },
        {
          "output_type": "stream",
          "name": "stdout",
          "text": [
            "\n",
            "\n",
            "***INFO***\n",
            "Number of prompts processed: 74500\n",
            "Number of Unique objects detected so far: 5966\n"
          ]
        },
        {
          "output_type": "stream",
          "name": "stderr",
          "text": [
            "75005it [47:02, 26.59it/s]"
          ]
        },
        {
          "output_type": "stream",
          "name": "stdout",
          "text": [
            "\n",
            "\n",
            "***INFO***\n",
            "Number of prompts processed: 75000\n",
            "Number of Unique objects detected so far: 5985\n"
          ]
        },
        {
          "output_type": "stream",
          "name": "stderr",
          "text": [
            "75503it [47:21, 26.53it/s]"
          ]
        },
        {
          "output_type": "stream",
          "name": "stdout",
          "text": [
            "\n",
            "\n",
            "***INFO***\n",
            "Number of prompts processed: 75500\n",
            "Number of Unique objects detected so far: 6007\n"
          ]
        },
        {
          "output_type": "stream",
          "name": "stderr",
          "text": [
            "76005it [47:39, 27.04it/s]"
          ]
        },
        {
          "output_type": "stream",
          "name": "stdout",
          "text": [
            "\n",
            "\n",
            "***INFO***\n",
            "Number of prompts processed: 76000\n",
            "Number of Unique objects detected so far: 6022\n"
          ]
        },
        {
          "output_type": "stream",
          "name": "stderr",
          "text": [
            "76503it [47:58, 27.94it/s]"
          ]
        },
        {
          "output_type": "stream",
          "name": "stdout",
          "text": [
            "\n",
            "\n",
            "***INFO***\n",
            "Number of prompts processed: 76500\n",
            "Number of Unique objects detected so far: 6038\n"
          ]
        },
        {
          "output_type": "stream",
          "name": "stderr",
          "text": [
            "77003it [48:15, 30.19it/s]"
          ]
        },
        {
          "output_type": "stream",
          "name": "stdout",
          "text": [
            "\n",
            "\n",
            "***INFO***\n",
            "Number of prompts processed: 77000\n",
            "Number of Unique objects detected so far: 6052\n"
          ]
        },
        {
          "output_type": "stream",
          "name": "stderr",
          "text": [
            "77505it [48:33, 27.93it/s]"
          ]
        },
        {
          "output_type": "stream",
          "name": "stdout",
          "text": [
            "\n",
            "\n",
            "***INFO***\n",
            "Number of prompts processed: 77500\n",
            "Number of Unique objects detected so far: 6068\n"
          ]
        },
        {
          "output_type": "stream",
          "name": "stderr",
          "text": [
            "78005it [48:51, 27.55it/s]"
          ]
        },
        {
          "output_type": "stream",
          "name": "stdout",
          "text": [
            "\n",
            "\n",
            "***INFO***\n",
            "Number of prompts processed: 78000\n",
            "Number of Unique objects detected so far: 6079\n"
          ]
        },
        {
          "output_type": "stream",
          "name": "stderr",
          "text": [
            "78502it [49:09, 25.04it/s]"
          ]
        },
        {
          "output_type": "stream",
          "name": "stdout",
          "text": [
            "\n",
            "\n",
            "***INFO***\n",
            "Number of prompts processed: 78500\n",
            "Number of Unique objects detected so far: 6100\n"
          ]
        },
        {
          "output_type": "stream",
          "name": "stderr",
          "text": [
            "79005it [49:28, 26.94it/s]"
          ]
        },
        {
          "output_type": "stream",
          "name": "stdout",
          "text": [
            "\n",
            "\n",
            "***INFO***\n",
            "Number of prompts processed: 79000\n",
            "Number of Unique objects detected so far: 6128\n"
          ]
        },
        {
          "output_type": "stream",
          "name": "stderr",
          "text": [
            "79505it [49:46, 27.46it/s]"
          ]
        },
        {
          "output_type": "stream",
          "name": "stdout",
          "text": [
            "\n",
            "\n",
            "***INFO***\n",
            "Number of prompts processed: 79500\n",
            "Number of Unique objects detected so far: 6144\n"
          ]
        },
        {
          "output_type": "stream",
          "name": "stderr",
          "text": [
            "79997it [50:04, 27.00it/s]"
          ]
        },
        {
          "output_type": "stream",
          "name": "stdout",
          "text": [
            "\n",
            "\n",
            "***INFO***\n",
            "Number of prompts processed: 80000\n",
            "Number of Unique objects detected so far: 6165\n"
          ]
        },
        {
          "output_type": "stream",
          "name": "stderr",
          "text": [
            "80002it [50:08,  2.90it/s]"
          ]
        },
        {
          "output_type": "stream",
          "name": "stdout",
          "text": [
            "Saved.. Intermediate Results in train-captions-processed.json\n"
          ]
        },
        {
          "output_type": "stream",
          "name": "stderr",
          "text": [
            "80504it [50:27, 28.48it/s]"
          ]
        },
        {
          "output_type": "stream",
          "name": "stdout",
          "text": [
            "\n",
            "\n",
            "***INFO***\n",
            "Number of prompts processed: 80500\n",
            "Number of Unique objects detected so far: 6176\n"
          ]
        },
        {
          "output_type": "stream",
          "name": "stderr",
          "text": [
            "81003it [50:45, 29.65it/s]"
          ]
        },
        {
          "output_type": "stream",
          "name": "stdout",
          "text": [
            "\n",
            "\n",
            "***INFO***\n",
            "Number of prompts processed: 81000\n",
            "Number of Unique objects detected so far: 6193\n"
          ]
        },
        {
          "output_type": "stream",
          "name": "stderr",
          "text": [
            "81505it [51:03, 28.44it/s]"
          ]
        },
        {
          "output_type": "stream",
          "name": "stdout",
          "text": [
            "\n",
            "\n",
            "***INFO***\n",
            "Number of prompts processed: 81500\n",
            "Number of Unique objects detected so far: 6205\n"
          ]
        },
        {
          "output_type": "stream",
          "name": "stderr",
          "text": [
            "82003it [51:22, 27.88it/s]"
          ]
        },
        {
          "output_type": "stream",
          "name": "stdout",
          "text": [
            "\n",
            "\n",
            "***INFO***\n",
            "Number of prompts processed: 82000\n",
            "Number of Unique objects detected so far: 6221\n"
          ]
        },
        {
          "output_type": "stream",
          "name": "stderr",
          "text": [
            "82503it [51:40, 26.46it/s]"
          ]
        },
        {
          "output_type": "stream",
          "name": "stdout",
          "text": [
            "\n",
            "\n",
            "***INFO***\n",
            "Number of prompts processed: 82500\n",
            "Number of Unique objects detected so far: 6230\n"
          ]
        },
        {
          "output_type": "stream",
          "name": "stderr",
          "text": [
            "83004it [51:58, 26.03it/s]"
          ]
        },
        {
          "output_type": "stream",
          "name": "stdout",
          "text": [
            "\n",
            "\n",
            "***INFO***\n",
            "Number of prompts processed: 83000\n",
            "Number of Unique objects detected so far: 6245\n"
          ]
        },
        {
          "output_type": "stream",
          "name": "stderr",
          "text": [
            "83505it [52:17, 26.77it/s]"
          ]
        },
        {
          "output_type": "stream",
          "name": "stdout",
          "text": [
            "\n",
            "\n",
            "***INFO***\n",
            "Number of prompts processed: 83500\n",
            "Number of Unique objects detected so far: 6260\n"
          ]
        },
        {
          "output_type": "stream",
          "name": "stderr",
          "text": [
            "84004it [52:35, 20.49it/s]"
          ]
        },
        {
          "output_type": "stream",
          "name": "stdout",
          "text": [
            "\n",
            "\n",
            "***INFO***\n",
            "Number of prompts processed: 84000\n",
            "Number of Unique objects detected so far: 6274\n"
          ]
        },
        {
          "output_type": "stream",
          "name": "stderr",
          "text": [
            "84505it [52:53, 29.79it/s]"
          ]
        },
        {
          "output_type": "stream",
          "name": "stdout",
          "text": [
            "\n",
            "\n",
            "***INFO***\n",
            "Number of prompts processed: 84500\n",
            "Number of Unique objects detected so far: 6295\n"
          ]
        },
        {
          "output_type": "stream",
          "name": "stderr",
          "text": [
            "85002it [53:11, 27.12it/s]"
          ]
        },
        {
          "output_type": "stream",
          "name": "stdout",
          "text": [
            "\n",
            "\n",
            "***INFO***\n",
            "Number of prompts processed: 85000\n",
            "Number of Unique objects detected so far: 6311\n"
          ]
        },
        {
          "output_type": "stream",
          "name": "stderr",
          "text": [
            "85503it [53:29, 25.70it/s]"
          ]
        },
        {
          "output_type": "stream",
          "name": "stdout",
          "text": [
            "\n",
            "\n",
            "***INFO***\n",
            "Number of prompts processed: 85500\n",
            "Number of Unique objects detected so far: 6330\n"
          ]
        },
        {
          "output_type": "stream",
          "name": "stderr",
          "text": [
            "86004it [53:48, 25.32it/s]"
          ]
        },
        {
          "output_type": "stream",
          "name": "stdout",
          "text": [
            "\n",
            "\n",
            "***INFO***\n",
            "Number of prompts processed: 86000\n",
            "Number of Unique objects detected so far: 6344\n"
          ]
        },
        {
          "output_type": "stream",
          "name": "stderr",
          "text": [
            "86504it [54:07, 25.03it/s]"
          ]
        },
        {
          "output_type": "stream",
          "name": "stdout",
          "text": [
            "\n",
            "\n",
            "***INFO***\n",
            "Number of prompts processed: 86500\n",
            "Number of Unique objects detected so far: 6363\n"
          ]
        },
        {
          "output_type": "stream",
          "name": "stderr",
          "text": [
            "87005it [54:27, 25.33it/s]"
          ]
        },
        {
          "output_type": "stream",
          "name": "stdout",
          "text": [
            "\n",
            "\n",
            "***INFO***\n",
            "Number of prompts processed: 87000\n",
            "Number of Unique objects detected so far: 6392\n"
          ]
        },
        {
          "output_type": "stream",
          "name": "stderr",
          "text": [
            "87504it [54:46, 26.02it/s]"
          ]
        },
        {
          "output_type": "stream",
          "name": "stdout",
          "text": [
            "\n",
            "\n",
            "***INFO***\n",
            "Number of prompts processed: 87500\n",
            "Number of Unique objects detected so far: 6423\n"
          ]
        },
        {
          "output_type": "stream",
          "name": "stderr",
          "text": [
            "88004it [55:06, 24.66it/s]"
          ]
        },
        {
          "output_type": "stream",
          "name": "stdout",
          "text": [
            "\n",
            "\n",
            "***INFO***\n",
            "Number of prompts processed: 88000\n",
            "Number of Unique objects detected so far: 6439\n"
          ]
        },
        {
          "output_type": "stream",
          "name": "stderr",
          "text": [
            "88503it [55:25, 24.16it/s]"
          ]
        },
        {
          "output_type": "stream",
          "name": "stdout",
          "text": [
            "\n",
            "\n",
            "***INFO***\n",
            "Number of prompts processed: 88500\n",
            "Number of Unique objects detected so far: 6468\n"
          ]
        },
        {
          "output_type": "stream",
          "name": "stderr",
          "text": [
            "89003it [55:46, 25.59it/s]"
          ]
        },
        {
          "output_type": "stream",
          "name": "stdout",
          "text": [
            "\n",
            "\n",
            "***INFO***\n",
            "Number of prompts processed: 89000\n",
            "Number of Unique objects detected so far: 6504\n"
          ]
        },
        {
          "output_type": "stream",
          "name": "stderr",
          "text": [
            "89504it [56:06, 24.38it/s]"
          ]
        },
        {
          "output_type": "stream",
          "name": "stdout",
          "text": [
            "\n",
            "\n",
            "***INFO***\n",
            "Number of prompts processed: 89500\n",
            "Number of Unique objects detected so far: 6526\n"
          ]
        },
        {
          "output_type": "stream",
          "name": "stderr",
          "text": [
            "89997it [56:26, 26.76it/s]"
          ]
        },
        {
          "output_type": "stream",
          "name": "stdout",
          "text": [
            "\n",
            "\n",
            "***INFO***\n",
            "Number of prompts processed: 90000\n",
            "Number of Unique objects detected so far: 6539\n"
          ]
        },
        {
          "output_type": "stream",
          "name": "stderr",
          "text": [
            "90002it [56:30,  2.73it/s]"
          ]
        },
        {
          "output_type": "stream",
          "name": "stdout",
          "text": [
            "Saved.. Intermediate Results in train-captions-processed.json\n"
          ]
        },
        {
          "output_type": "stream",
          "name": "stderr",
          "text": [
            "90503it [56:51, 24.51it/s]"
          ]
        },
        {
          "output_type": "stream",
          "name": "stdout",
          "text": [
            "\n",
            "\n",
            "***INFO***\n",
            "Number of prompts processed: 90500\n",
            "Number of Unique objects detected so far: 6569\n"
          ]
        },
        {
          "output_type": "stream",
          "name": "stderr",
          "text": [
            "91003it [57:10, 25.74it/s]"
          ]
        },
        {
          "output_type": "stream",
          "name": "stdout",
          "text": [
            "\n",
            "\n",
            "***INFO***\n",
            "Number of prompts processed: 91000\n",
            "Number of Unique objects detected so far: 6582\n"
          ]
        },
        {
          "output_type": "stream",
          "name": "stderr",
          "text": [
            "91503it [57:30, 26.39it/s]"
          ]
        },
        {
          "output_type": "stream",
          "name": "stdout",
          "text": [
            "\n",
            "\n",
            "***INFO***\n",
            "Number of prompts processed: 91500\n",
            "Number of Unique objects detected so far: 6605\n"
          ]
        },
        {
          "output_type": "stream",
          "name": "stderr",
          "text": [
            "92004it [57:49, 25.14it/s]"
          ]
        },
        {
          "output_type": "stream",
          "name": "stdout",
          "text": [
            "\n",
            "\n",
            "***INFO***\n",
            "Number of prompts processed: 92000\n",
            "Number of Unique objects detected so far: 6624\n"
          ]
        },
        {
          "output_type": "stream",
          "name": "stderr",
          "text": [
            "92503it [58:09, 26.10it/s]"
          ]
        },
        {
          "output_type": "stream",
          "name": "stdout",
          "text": [
            "\n",
            "\n",
            "***INFO***\n",
            "Number of prompts processed: 92500\n",
            "Number of Unique objects detected so far: 6651\n"
          ]
        },
        {
          "output_type": "stream",
          "name": "stderr",
          "text": [
            "93003it [58:30, 22.97it/s]"
          ]
        },
        {
          "output_type": "stream",
          "name": "stdout",
          "text": [
            "\n",
            "\n",
            "***INFO***\n",
            "Number of prompts processed: 93000\n",
            "Number of Unique objects detected so far: 6675\n"
          ]
        },
        {
          "output_type": "stream",
          "name": "stderr",
          "text": [
            "93503it [58:49, 25.37it/s]"
          ]
        },
        {
          "output_type": "stream",
          "name": "stdout",
          "text": [
            "\n",
            "\n",
            "***INFO***\n",
            "Number of prompts processed: 93500\n",
            "Number of Unique objects detected so far: 6687\n"
          ]
        },
        {
          "output_type": "stream",
          "name": "stderr",
          "text": [
            "94003it [59:08, 27.02it/s]"
          ]
        },
        {
          "output_type": "stream",
          "name": "stdout",
          "text": [
            "\n",
            "\n",
            "***INFO***\n",
            "Number of prompts processed: 94000\n",
            "Number of Unique objects detected so far: 6701\n"
          ]
        },
        {
          "output_type": "stream",
          "name": "stderr",
          "text": [
            "94504it [59:28, 25.84it/s]"
          ]
        },
        {
          "output_type": "stream",
          "name": "stdout",
          "text": [
            "\n",
            "\n",
            "***INFO***\n",
            "Number of prompts processed: 94500\n",
            "Number of Unique objects detected so far: 6715\n"
          ]
        },
        {
          "output_type": "stream",
          "name": "stderr",
          "text": [
            "95003it [59:47, 25.59it/s]"
          ]
        },
        {
          "output_type": "stream",
          "name": "stdout",
          "text": [
            "\n",
            "\n",
            "***INFO***\n",
            "Number of prompts processed: 95000\n",
            "Number of Unique objects detected so far: 6737\n"
          ]
        },
        {
          "output_type": "stream",
          "name": "stderr",
          "text": [
            "95503it [1:00:07, 25.98it/s]"
          ]
        },
        {
          "output_type": "stream",
          "name": "stdout",
          "text": [
            "\n",
            "\n",
            "***INFO***\n",
            "Number of prompts processed: 95500\n",
            "Number of Unique objects detected so far: 6751\n"
          ]
        },
        {
          "output_type": "stream",
          "name": "stderr",
          "text": [
            "96004it [1:00:26, 25.44it/s]"
          ]
        },
        {
          "output_type": "stream",
          "name": "stdout",
          "text": [
            "\n",
            "\n",
            "***INFO***\n",
            "Number of prompts processed: 96000\n",
            "Number of Unique objects detected so far: 6766\n"
          ]
        },
        {
          "output_type": "stream",
          "name": "stderr",
          "text": [
            "96503it [1:00:46, 24.93it/s]"
          ]
        },
        {
          "output_type": "stream",
          "name": "stdout",
          "text": [
            "\n",
            "\n",
            "***INFO***\n",
            "Number of prompts processed: 96500\n",
            "Number of Unique objects detected so far: 6782\n"
          ]
        },
        {
          "output_type": "stream",
          "name": "stderr",
          "text": [
            "97005it [1:01:05, 25.43it/s]"
          ]
        },
        {
          "output_type": "stream",
          "name": "stdout",
          "text": [
            "\n",
            "\n",
            "***INFO***\n",
            "Number of prompts processed: 97000\n",
            "Number of Unique objects detected so far: 6796\n"
          ]
        },
        {
          "output_type": "stream",
          "name": "stderr",
          "text": [
            "97503it [1:01:25, 25.84it/s]"
          ]
        },
        {
          "output_type": "stream",
          "name": "stdout",
          "text": [
            "\n",
            "\n",
            "***INFO***\n",
            "Number of prompts processed: 97500\n",
            "Number of Unique objects detected so far: 6810\n"
          ]
        },
        {
          "output_type": "stream",
          "name": "stderr",
          "text": [
            "98003it [1:01:45, 28.10it/s]"
          ]
        },
        {
          "output_type": "stream",
          "name": "stdout",
          "text": [
            "\n",
            "\n",
            "***INFO***\n",
            "Number of prompts processed: 98000\n",
            "Number of Unique objects detected so far: 6826\n"
          ]
        },
        {
          "output_type": "stream",
          "name": "stderr",
          "text": [
            "98504it [1:02:04, 25.74it/s]"
          ]
        },
        {
          "output_type": "stream",
          "name": "stdout",
          "text": [
            "\n",
            "\n",
            "***INFO***\n",
            "Number of prompts processed: 98500\n",
            "Number of Unique objects detected so far: 6837\n"
          ]
        },
        {
          "output_type": "stream",
          "name": "stderr",
          "text": [
            "99004it [1:02:23, 25.71it/s]"
          ]
        },
        {
          "output_type": "stream",
          "name": "stdout",
          "text": [
            "\n",
            "\n",
            "***INFO***\n",
            "Number of prompts processed: 99000\n",
            "Number of Unique objects detected so far: 6858\n"
          ]
        },
        {
          "output_type": "stream",
          "name": "stderr",
          "text": [
            "99502it [1:02:43, 25.45it/s]"
          ]
        },
        {
          "output_type": "stream",
          "name": "stdout",
          "text": [
            "\n",
            "\n",
            "***INFO***\n",
            "Number of prompts processed: 99500\n",
            "Number of Unique objects detected so far: 6875\n"
          ]
        },
        {
          "output_type": "stream",
          "name": "stderr",
          "text": [
            "99999it [1:03:02, 25.64it/s]"
          ]
        },
        {
          "output_type": "stream",
          "name": "stdout",
          "text": [
            "\n",
            "\n",
            "***INFO***\n",
            "Number of prompts processed: 100000\n",
            "Number of Unique objects detected so far: 6888\n"
          ]
        },
        {
          "output_type": "stream",
          "name": "stderr",
          "text": [
            "100004it [1:03:06,  2.78it/s]"
          ]
        },
        {
          "output_type": "stream",
          "name": "stdout",
          "text": [
            "Saved.. Intermediate Results in train-captions-processed.json\n"
          ]
        },
        {
          "output_type": "stream",
          "name": "stderr",
          "text": [
            "100504it [1:03:26, 25.43it/s]"
          ]
        },
        {
          "output_type": "stream",
          "name": "stdout",
          "text": [
            "\n",
            "\n",
            "***INFO***\n",
            "Number of prompts processed: 100500\n",
            "Number of Unique objects detected so far: 6903\n"
          ]
        },
        {
          "output_type": "stream",
          "name": "stderr",
          "text": [
            "101003it [1:03:46, 24.11it/s]"
          ]
        },
        {
          "output_type": "stream",
          "name": "stdout",
          "text": [
            "\n",
            "\n",
            "***INFO***\n",
            "Number of prompts processed: 101000\n",
            "Number of Unique objects detected so far: 6909\n"
          ]
        },
        {
          "output_type": "stream",
          "name": "stderr",
          "text": [
            "101505it [1:04:05, 25.47it/s]"
          ]
        },
        {
          "output_type": "stream",
          "name": "stdout",
          "text": [
            "\n",
            "\n",
            "***INFO***\n",
            "Number of prompts processed: 101500\n",
            "Number of Unique objects detected so far: 6924\n"
          ]
        },
        {
          "output_type": "stream",
          "name": "stderr",
          "text": [
            "102003it [1:04:25, 26.07it/s]"
          ]
        },
        {
          "output_type": "stream",
          "name": "stdout",
          "text": [
            "\n",
            "\n",
            "***INFO***\n",
            "Number of prompts processed: 102000\n",
            "Number of Unique objects detected so far: 6936\n"
          ]
        },
        {
          "output_type": "stream",
          "name": "stderr",
          "text": [
            "102504it [1:04:44, 25.80it/s]"
          ]
        },
        {
          "output_type": "stream",
          "name": "stdout",
          "text": [
            "\n",
            "\n",
            "***INFO***\n",
            "Number of prompts processed: 102500\n",
            "Number of Unique objects detected so far: 6943\n"
          ]
        },
        {
          "output_type": "stream",
          "name": "stderr",
          "text": [
            "103004it [1:05:03, 25.75it/s]"
          ]
        },
        {
          "output_type": "stream",
          "name": "stdout",
          "text": [
            "\n",
            "\n",
            "***INFO***\n",
            "Number of prompts processed: 103000\n",
            "Number of Unique objects detected so far: 6954\n"
          ]
        },
        {
          "output_type": "stream",
          "name": "stderr",
          "text": [
            "103502it [1:05:23, 25.66it/s]"
          ]
        },
        {
          "output_type": "stream",
          "name": "stdout",
          "text": [
            "\n",
            "\n",
            "***INFO***\n",
            "Number of prompts processed: 103500\n",
            "Number of Unique objects detected so far: 6970\n"
          ]
        },
        {
          "output_type": "stream",
          "name": "stderr",
          "text": [
            "104005it [1:05:42, 25.30it/s]"
          ]
        },
        {
          "output_type": "stream",
          "name": "stdout",
          "text": [
            "\n",
            "\n",
            "***INFO***\n",
            "Number of prompts processed: 104000\n",
            "Number of Unique objects detected so far: 6983\n"
          ]
        },
        {
          "output_type": "stream",
          "name": "stderr",
          "text": [
            "104502it [1:06:01, 25.93it/s]"
          ]
        },
        {
          "output_type": "stream",
          "name": "stdout",
          "text": [
            "\n",
            "\n",
            "***INFO***\n",
            "Number of prompts processed: 104500\n",
            "Number of Unique objects detected so far: 7001\n"
          ]
        },
        {
          "output_type": "stream",
          "name": "stderr",
          "text": [
            "105003it [1:06:21, 26.33it/s]"
          ]
        },
        {
          "output_type": "stream",
          "name": "stdout",
          "text": [
            "\n",
            "\n",
            "***INFO***\n",
            "Number of prompts processed: 105000\n",
            "Number of Unique objects detected so far: 7007\n"
          ]
        },
        {
          "output_type": "stream",
          "name": "stderr",
          "text": [
            "105505it [1:06:40, 26.14it/s]"
          ]
        },
        {
          "output_type": "stream",
          "name": "stdout",
          "text": [
            "\n",
            "\n",
            "***INFO***\n",
            "Number of prompts processed: 105500\n",
            "Number of Unique objects detected so far: 7021\n"
          ]
        },
        {
          "output_type": "stream",
          "name": "stderr",
          "text": [
            "106002it [1:06:59, 25.27it/s]"
          ]
        },
        {
          "output_type": "stream",
          "name": "stdout",
          "text": [
            "\n",
            "\n",
            "***INFO***\n",
            "Number of prompts processed: 106000\n",
            "Number of Unique objects detected so far: 7038\n"
          ]
        },
        {
          "output_type": "stream",
          "name": "stderr",
          "text": [
            "106505it [1:07:19, 26.75it/s]"
          ]
        },
        {
          "output_type": "stream",
          "name": "stdout",
          "text": [
            "\n",
            "\n",
            "***INFO***\n",
            "Number of prompts processed: 106500\n",
            "Number of Unique objects detected so far: 7054\n"
          ]
        },
        {
          "output_type": "stream",
          "name": "stderr",
          "text": [
            "107005it [1:07:38, 25.84it/s]"
          ]
        },
        {
          "output_type": "stream",
          "name": "stdout",
          "text": [
            "\n",
            "\n",
            "***INFO***\n",
            "Number of prompts processed: 107000\n",
            "Number of Unique objects detected so far: 7066\n"
          ]
        },
        {
          "output_type": "stream",
          "name": "stderr",
          "text": [
            "107504it [1:07:57, 28.12it/s]"
          ]
        },
        {
          "output_type": "stream",
          "name": "stdout",
          "text": [
            "\n",
            "\n",
            "***INFO***\n",
            "Number of prompts processed: 107500\n",
            "Number of Unique objects detected so far: 7078\n"
          ]
        },
        {
          "output_type": "stream",
          "name": "stderr",
          "text": [
            "108005it [1:08:16, 26.90it/s]"
          ]
        },
        {
          "output_type": "stream",
          "name": "stdout",
          "text": [
            "\n",
            "\n",
            "***INFO***\n",
            "Number of prompts processed: 108000\n",
            "Number of Unique objects detected so far: 7089\n"
          ]
        },
        {
          "output_type": "stream",
          "name": "stderr",
          "text": [
            "108502it [1:08:35, 26.22it/s]"
          ]
        },
        {
          "output_type": "stream",
          "name": "stdout",
          "text": [
            "\n",
            "\n",
            "***INFO***\n",
            "Number of prompts processed: 108500\n",
            "Number of Unique objects detected so far: 7104\n"
          ]
        },
        {
          "output_type": "stream",
          "name": "stderr",
          "text": [
            "109004it [1:08:55, 26.86it/s]"
          ]
        },
        {
          "output_type": "stream",
          "name": "stdout",
          "text": [
            "\n",
            "\n",
            "***INFO***\n",
            "Number of prompts processed: 109000\n",
            "Number of Unique objects detected so far: 7117\n"
          ]
        },
        {
          "output_type": "stream",
          "name": "stderr",
          "text": [
            "109504it [1:09:14, 23.96it/s]"
          ]
        },
        {
          "output_type": "stream",
          "name": "stdout",
          "text": [
            "\n",
            "\n",
            "***INFO***\n",
            "Number of prompts processed: 109500\n",
            "Number of Unique objects detected so far: 7131\n"
          ]
        },
        {
          "output_type": "stream",
          "name": "stderr",
          "text": [
            "109999it [1:09:33, 27.99it/s]"
          ]
        },
        {
          "output_type": "stream",
          "name": "stdout",
          "text": [
            "\n",
            "\n",
            "***INFO***\n",
            "Number of prompts processed: 110000\n",
            "Number of Unique objects detected so far: 7140\n"
          ]
        },
        {
          "output_type": "stream",
          "name": "stderr",
          "text": [
            "\r110002it [1:09:37,  2.22it/s]"
          ]
        },
        {
          "output_type": "stream",
          "name": "stdout",
          "text": [
            "Saved.. Intermediate Results in train-captions-processed.json\n"
          ]
        },
        {
          "output_type": "stream",
          "name": "stderr",
          "text": [
            "110505it [1:09:57, 28.66it/s]"
          ]
        },
        {
          "output_type": "stream",
          "name": "stdout",
          "text": [
            "\n",
            "\n",
            "***INFO***\n",
            "Number of prompts processed: 110500\n",
            "Number of Unique objects detected so far: 7150\n"
          ]
        },
        {
          "output_type": "stream",
          "name": "stderr",
          "text": [
            "111004it [1:10:17, 25.25it/s]"
          ]
        },
        {
          "output_type": "stream",
          "name": "stdout",
          "text": [
            "\n",
            "\n",
            "***INFO***\n",
            "Number of prompts processed: 111000\n",
            "Number of Unique objects detected so far: 7164\n"
          ]
        },
        {
          "output_type": "stream",
          "name": "stderr",
          "text": [
            "111504it [1:10:36, 25.91it/s]"
          ]
        },
        {
          "output_type": "stream",
          "name": "stdout",
          "text": [
            "\n",
            "\n",
            "***INFO***\n",
            "Number of prompts processed: 111500\n",
            "Number of Unique objects detected so far: 7174\n"
          ]
        },
        {
          "output_type": "stream",
          "name": "stderr",
          "text": [
            "112003it [1:10:55, 24.34it/s]"
          ]
        },
        {
          "output_type": "stream",
          "name": "stdout",
          "text": [
            "\n",
            "\n",
            "***INFO***\n",
            "Number of prompts processed: 112000\n",
            "Number of Unique objects detected so far: 7189\n"
          ]
        },
        {
          "output_type": "stream",
          "name": "stderr",
          "text": [
            "112504it [1:11:14, 26.35it/s]"
          ]
        },
        {
          "output_type": "stream",
          "name": "stdout",
          "text": [
            "\n",
            "\n",
            "***INFO***\n",
            "Number of prompts processed: 112500\n",
            "Number of Unique objects detected so far: 7202\n"
          ]
        },
        {
          "output_type": "stream",
          "name": "stderr",
          "text": [
            "113005it [1:11:33, 25.81it/s]"
          ]
        },
        {
          "output_type": "stream",
          "name": "stdout",
          "text": [
            "\n",
            "\n",
            "***INFO***\n",
            "Number of prompts processed: 113000\n",
            "Number of Unique objects detected so far: 7211\n"
          ]
        },
        {
          "output_type": "stream",
          "name": "stderr",
          "text": [
            "113504it [1:11:52, 23.80it/s]"
          ]
        },
        {
          "output_type": "stream",
          "name": "stdout",
          "text": [
            "\n",
            "\n",
            "***INFO***\n",
            "Number of prompts processed: 113500\n",
            "Number of Unique objects detected so far: 7225\n"
          ]
        },
        {
          "output_type": "stream",
          "name": "stderr",
          "text": [
            "114003it [1:12:12, 24.72it/s]"
          ]
        },
        {
          "output_type": "stream",
          "name": "stdout",
          "text": [
            "\n",
            "\n",
            "***INFO***\n",
            "Number of prompts processed: 114000\n",
            "Number of Unique objects detected so far: 7242\n"
          ]
        },
        {
          "output_type": "stream",
          "name": "stderr",
          "text": [
            "114504it [1:12:31, 26.63it/s]"
          ]
        },
        {
          "output_type": "stream",
          "name": "stdout",
          "text": [
            "\n",
            "\n",
            "***INFO***\n",
            "Number of prompts processed: 114500\n",
            "Number of Unique objects detected so far: 7254\n"
          ]
        },
        {
          "output_type": "stream",
          "name": "stderr",
          "text": [
            "115003it [1:12:51, 24.90it/s]"
          ]
        },
        {
          "output_type": "stream",
          "name": "stdout",
          "text": [
            "\n",
            "\n",
            "***INFO***\n",
            "Number of prompts processed: 115000\n",
            "Number of Unique objects detected so far: 7273\n"
          ]
        },
        {
          "output_type": "stream",
          "name": "stderr",
          "text": [
            "115503it [1:13:11, 26.14it/s]"
          ]
        },
        {
          "output_type": "stream",
          "name": "stdout",
          "text": [
            "\n",
            "\n",
            "***INFO***\n",
            "Number of prompts processed: 115500\n",
            "Number of Unique objects detected so far: 7286\n"
          ]
        },
        {
          "output_type": "stream",
          "name": "stderr",
          "text": [
            "116005it [1:13:31, 25.51it/s]"
          ]
        },
        {
          "output_type": "stream",
          "name": "stdout",
          "text": [
            "\n",
            "\n",
            "***INFO***\n",
            "Number of prompts processed: 116000\n",
            "Number of Unique objects detected so far: 7308\n"
          ]
        },
        {
          "output_type": "stream",
          "name": "stderr",
          "text": [
            "116502it [1:13:50, 23.16it/s]"
          ]
        },
        {
          "output_type": "stream",
          "name": "stdout",
          "text": [
            "\n",
            "\n",
            "***INFO***\n",
            "Number of prompts processed: 116500\n",
            "Number of Unique objects detected so far: 7330\n"
          ]
        },
        {
          "output_type": "stream",
          "name": "stderr",
          "text": [
            "117004it [1:14:10, 26.53it/s]"
          ]
        },
        {
          "output_type": "stream",
          "name": "stdout",
          "text": [
            "\n",
            "\n",
            "***INFO***\n",
            "Number of prompts processed: 117000\n",
            "Number of Unique objects detected so far: 7356\n"
          ]
        },
        {
          "output_type": "stream",
          "name": "stderr",
          "text": [
            "117504it [1:14:30, 26.92it/s]"
          ]
        },
        {
          "output_type": "stream",
          "name": "stdout",
          "text": [
            "\n",
            "\n",
            "***INFO***\n",
            "Number of prompts processed: 117500\n",
            "Number of Unique objects detected so far: 7372\n"
          ]
        },
        {
          "output_type": "stream",
          "name": "stderr",
          "text": [
            "118003it [1:14:49, 25.46it/s]"
          ]
        },
        {
          "output_type": "stream",
          "name": "stdout",
          "text": [
            "\n",
            "\n",
            "***INFO***\n",
            "Number of prompts processed: 118000\n",
            "Number of Unique objects detected so far: 7388\n"
          ]
        },
        {
          "output_type": "stream",
          "name": "stderr",
          "text": [
            "118503it [1:15:09, 25.69it/s]"
          ]
        },
        {
          "output_type": "stream",
          "name": "stdout",
          "text": [
            "\n",
            "\n",
            "***INFO***\n",
            "Number of prompts processed: 118500\n",
            "Number of Unique objects detected so far: 7405\n"
          ]
        },
        {
          "output_type": "stream",
          "name": "stderr",
          "text": [
            "119003it [1:15:28, 25.46it/s]"
          ]
        },
        {
          "output_type": "stream",
          "name": "stdout",
          "text": [
            "\n",
            "\n",
            "***INFO***\n",
            "Number of prompts processed: 119000\n",
            "Number of Unique objects detected so far: 7420\n"
          ]
        },
        {
          "output_type": "stream",
          "name": "stderr",
          "text": [
            "119504it [1:15:47, 27.87it/s]"
          ]
        },
        {
          "output_type": "stream",
          "name": "stdout",
          "text": [
            "\n",
            "\n",
            "***INFO***\n",
            "Number of prompts processed: 119500\n",
            "Number of Unique objects detected so far: 7431\n"
          ]
        },
        {
          "output_type": "stream",
          "name": "stderr",
          "text": [
            "119998it [1:16:08, 28.31it/s]"
          ]
        },
        {
          "output_type": "stream",
          "name": "stdout",
          "text": [
            "\n",
            "\n",
            "***INFO***\n",
            "Number of prompts processed: 120000\n",
            "Number of Unique objects detected so far: 7446\n"
          ]
        },
        {
          "output_type": "stream",
          "name": "stderr",
          "text": [
            "120004it [1:16:12,  3.09it/s]"
          ]
        },
        {
          "output_type": "stream",
          "name": "stdout",
          "text": [
            "Saved.. Intermediate Results in train-captions-processed.json\n"
          ]
        },
        {
          "output_type": "stream",
          "name": "stderr",
          "text": [
            "120502it [1:16:32, 28.39it/s]"
          ]
        },
        {
          "output_type": "stream",
          "name": "stdout",
          "text": [
            "\n",
            "\n",
            "***INFO***\n",
            "Number of prompts processed: 120500\n",
            "Number of Unique objects detected so far: 7461\n"
          ]
        },
        {
          "output_type": "stream",
          "name": "stderr",
          "text": [
            "121003it [1:16:51, 25.08it/s]"
          ]
        },
        {
          "output_type": "stream",
          "name": "stdout",
          "text": [
            "\n",
            "\n",
            "***INFO***\n",
            "Number of prompts processed: 121000\n",
            "Number of Unique objects detected so far: 7473\n"
          ]
        },
        {
          "output_type": "stream",
          "name": "stderr",
          "text": [
            "121503it [1:17:11, 23.98it/s]"
          ]
        },
        {
          "output_type": "stream",
          "name": "stdout",
          "text": [
            "\n",
            "\n",
            "***INFO***\n",
            "Number of prompts processed: 121500\n",
            "Number of Unique objects detected so far: 7489\n"
          ]
        },
        {
          "output_type": "stream",
          "name": "stderr",
          "text": [
            "122005it [1:17:30, 25.85it/s]"
          ]
        },
        {
          "output_type": "stream",
          "name": "stdout",
          "text": [
            "\n",
            "\n",
            "***INFO***\n",
            "Number of prompts processed: 122000\n",
            "Number of Unique objects detected so far: 7503\n"
          ]
        },
        {
          "output_type": "stream",
          "name": "stderr",
          "text": [
            "122503it [1:17:49, 25.22it/s]"
          ]
        },
        {
          "output_type": "stream",
          "name": "stdout",
          "text": [
            "\n",
            "\n",
            "***INFO***\n",
            "Number of prompts processed: 122500\n",
            "Number of Unique objects detected so far: 7512\n"
          ]
        },
        {
          "output_type": "stream",
          "name": "stderr",
          "text": [
            "123002it [1:18:09, 24.06it/s]"
          ]
        },
        {
          "output_type": "stream",
          "name": "stdout",
          "text": [
            "\n",
            "\n",
            "***INFO***\n",
            "Number of prompts processed: 123000\n",
            "Number of Unique objects detected so far: 7526\n"
          ]
        },
        {
          "output_type": "stream",
          "name": "stderr",
          "text": [
            "123503it [1:18:28, 25.10it/s]"
          ]
        },
        {
          "output_type": "stream",
          "name": "stdout",
          "text": [
            "\n",
            "\n",
            "***INFO***\n",
            "Number of prompts processed: 123500\n",
            "Number of Unique objects detected so far: 7545\n"
          ]
        },
        {
          "output_type": "stream",
          "name": "stderr",
          "text": [
            "124003it [1:18:48, 25.56it/s]"
          ]
        },
        {
          "output_type": "stream",
          "name": "stdout",
          "text": [
            "\n",
            "\n",
            "***INFO***\n",
            "Number of prompts processed: 124000\n",
            "Number of Unique objects detected so far: 7557\n"
          ]
        },
        {
          "output_type": "stream",
          "name": "stderr",
          "text": [
            "124503it [1:19:08, 25.65it/s]"
          ]
        },
        {
          "output_type": "stream",
          "name": "stdout",
          "text": [
            "\n",
            "\n",
            "***INFO***\n",
            "Number of prompts processed: 124500\n",
            "Number of Unique objects detected so far: 7566\n"
          ]
        },
        {
          "output_type": "stream",
          "name": "stderr",
          "text": [
            "125005it [1:19:28, 26.95it/s]"
          ]
        },
        {
          "output_type": "stream",
          "name": "stdout",
          "text": [
            "\n",
            "\n",
            "***INFO***\n",
            "Number of prompts processed: 125000\n",
            "Number of Unique objects detected so far: 7577\n"
          ]
        },
        {
          "output_type": "stream",
          "name": "stderr",
          "text": [
            "125504it [1:19:48, 26.08it/s]"
          ]
        },
        {
          "output_type": "stream",
          "name": "stdout",
          "text": [
            "\n",
            "\n",
            "***INFO***\n",
            "Number of prompts processed: 125500\n",
            "Number of Unique objects detected so far: 7598\n"
          ]
        },
        {
          "output_type": "stream",
          "name": "stderr",
          "text": [
            "126002it [1:20:07, 25.29it/s]"
          ]
        },
        {
          "output_type": "stream",
          "name": "stdout",
          "text": [
            "\n",
            "\n",
            "***INFO***\n",
            "Number of prompts processed: 126000\n",
            "Number of Unique objects detected so far: 7608\n"
          ]
        },
        {
          "output_type": "stream",
          "name": "stderr",
          "text": [
            "126505it [1:20:27, 26.90it/s]"
          ]
        },
        {
          "output_type": "stream",
          "name": "stdout",
          "text": [
            "\n",
            "\n",
            "***INFO***\n",
            "Number of prompts processed: 126500\n",
            "Number of Unique objects detected so far: 7624\n"
          ]
        },
        {
          "output_type": "stream",
          "name": "stderr",
          "text": [
            "127005it [1:20:46, 26.53it/s]"
          ]
        },
        {
          "output_type": "stream",
          "name": "stdout",
          "text": [
            "\n",
            "\n",
            "***INFO***\n",
            "Number of prompts processed: 127000\n",
            "Number of Unique objects detected so far: 7636\n"
          ]
        },
        {
          "output_type": "stream",
          "name": "stderr",
          "text": [
            "127502it [1:21:05, 24.84it/s]"
          ]
        },
        {
          "output_type": "stream",
          "name": "stdout",
          "text": [
            "\n",
            "\n",
            "***INFO***\n",
            "Number of prompts processed: 127500\n",
            "Number of Unique objects detected so far: 7653\n"
          ]
        },
        {
          "output_type": "stream",
          "name": "stderr",
          "text": [
            "128005it [1:21:25, 27.43it/s]"
          ]
        },
        {
          "output_type": "stream",
          "name": "stdout",
          "text": [
            "\n",
            "\n",
            "***INFO***\n",
            "Number of prompts processed: 128000\n",
            "Number of Unique objects detected so far: 7665\n"
          ]
        },
        {
          "output_type": "stream",
          "name": "stderr",
          "text": [
            "128503it [1:21:44, 25.72it/s]"
          ]
        },
        {
          "output_type": "stream",
          "name": "stdout",
          "text": [
            "\n",
            "\n",
            "***INFO***\n",
            "Number of prompts processed: 128500\n",
            "Number of Unique objects detected so far: 7675\n"
          ]
        },
        {
          "output_type": "stream",
          "name": "stderr",
          "text": [
            "129004it [1:22:04, 27.44it/s]"
          ]
        },
        {
          "output_type": "stream",
          "name": "stdout",
          "text": [
            "\n",
            "\n",
            "***INFO***\n",
            "Number of prompts processed: 129000\n",
            "Number of Unique objects detected so far: 7688\n"
          ]
        },
        {
          "output_type": "stream",
          "name": "stderr",
          "text": [
            "129502it [1:22:24, 26.85it/s]"
          ]
        },
        {
          "output_type": "stream",
          "name": "stdout",
          "text": [
            "\n",
            "\n",
            "***INFO***\n",
            "Number of prompts processed: 129500\n",
            "Number of Unique objects detected so far: 7699\n"
          ]
        },
        {
          "output_type": "stream",
          "name": "stderr",
          "text": [
            "129998it [1:22:42, 24.34it/s]"
          ]
        },
        {
          "output_type": "stream",
          "name": "stdout",
          "text": [
            "\n",
            "\n",
            "***INFO***\n",
            "Number of prompts processed: 130000\n",
            "Number of Unique objects detected so far: 7704\n"
          ]
        },
        {
          "output_type": "stream",
          "name": "stderr",
          "text": [
            "130004it [1:22:47,  2.86it/s]"
          ]
        },
        {
          "output_type": "stream",
          "name": "stdout",
          "text": [
            "Saved.. Intermediate Results in train-captions-processed.json\n"
          ]
        },
        {
          "output_type": "stream",
          "name": "stderr",
          "text": [
            "130503it [1:23:06, 27.60it/s]"
          ]
        },
        {
          "output_type": "stream",
          "name": "stdout",
          "text": [
            "\n",
            "\n",
            "***INFO***\n",
            "Number of prompts processed: 130500\n",
            "Number of Unique objects detected so far: 7712\n"
          ]
        },
        {
          "output_type": "stream",
          "name": "stderr",
          "text": [
            "131003it [1:23:25, 27.74it/s]"
          ]
        },
        {
          "output_type": "stream",
          "name": "stdout",
          "text": [
            "\n",
            "\n",
            "***INFO***\n",
            "Number of prompts processed: 131000\n",
            "Number of Unique objects detected so far: 7724\n"
          ]
        },
        {
          "output_type": "stream",
          "name": "stderr",
          "text": [
            "131502it [1:23:45, 25.48it/s]"
          ]
        },
        {
          "output_type": "stream",
          "name": "stdout",
          "text": [
            "\n",
            "\n",
            "***INFO***\n",
            "Number of prompts processed: 131500\n",
            "Number of Unique objects detected so far: 7732\n"
          ]
        },
        {
          "output_type": "stream",
          "name": "stderr",
          "text": [
            "132003it [1:24:04, 28.64it/s]"
          ]
        },
        {
          "output_type": "stream",
          "name": "stdout",
          "text": [
            "\n",
            "\n",
            "***INFO***\n",
            "Number of prompts processed: 132000\n",
            "Number of Unique objects detected so far: 7740\n"
          ]
        },
        {
          "output_type": "stream",
          "name": "stderr",
          "text": [
            "132505it [1:24:23, 26.71it/s]"
          ]
        },
        {
          "output_type": "stream",
          "name": "stdout",
          "text": [
            "\n",
            "\n",
            "***INFO***\n",
            "Number of prompts processed: 132500\n",
            "Number of Unique objects detected so far: 7751\n"
          ]
        },
        {
          "output_type": "stream",
          "name": "stderr",
          "text": [
            "133003it [1:24:42, 20.00it/s]"
          ]
        },
        {
          "output_type": "stream",
          "name": "stdout",
          "text": [
            "\n",
            "\n",
            "***INFO***\n",
            "Number of prompts processed: 133000\n",
            "Number of Unique objects detected so far: 7769\n"
          ]
        },
        {
          "output_type": "stream",
          "name": "stderr",
          "text": [
            "133504it [1:25:02, 25.14it/s]"
          ]
        },
        {
          "output_type": "stream",
          "name": "stdout",
          "text": [
            "\n",
            "\n",
            "***INFO***\n",
            "Number of prompts processed: 133500\n",
            "Number of Unique objects detected so far: 7778\n"
          ]
        },
        {
          "output_type": "stream",
          "name": "stderr",
          "text": [
            "134003it [1:25:21, 26.84it/s]"
          ]
        },
        {
          "output_type": "stream",
          "name": "stdout",
          "text": [
            "\n",
            "\n",
            "***INFO***\n",
            "Number of prompts processed: 134000\n",
            "Number of Unique objects detected so far: 7786\n"
          ]
        },
        {
          "output_type": "stream",
          "name": "stderr",
          "text": [
            "134502it [1:25:40, 23.38it/s]"
          ]
        },
        {
          "output_type": "stream",
          "name": "stdout",
          "text": [
            "\n",
            "\n",
            "***INFO***\n",
            "Number of prompts processed: 134500\n",
            "Number of Unique objects detected so far: 7801\n"
          ]
        },
        {
          "output_type": "stream",
          "name": "stderr",
          "text": [
            "135004it [1:26:00, 25.41it/s]"
          ]
        },
        {
          "output_type": "stream",
          "name": "stdout",
          "text": [
            "\n",
            "\n",
            "***INFO***\n",
            "Number of prompts processed: 135000\n",
            "Number of Unique objects detected so far: 7814\n"
          ]
        },
        {
          "output_type": "stream",
          "name": "stderr",
          "text": [
            "135504it [1:26:19, 27.22it/s]"
          ]
        },
        {
          "output_type": "stream",
          "name": "stdout",
          "text": [
            "\n",
            "\n",
            "***INFO***\n",
            "Number of prompts processed: 135500\n",
            "Number of Unique objects detected so far: 7827\n"
          ]
        },
        {
          "output_type": "stream",
          "name": "stderr",
          "text": [
            "136002it [1:26:38, 24.59it/s]"
          ]
        },
        {
          "output_type": "stream",
          "name": "stdout",
          "text": [
            "\n",
            "\n",
            "***INFO***\n",
            "Number of prompts processed: 136000\n",
            "Number of Unique objects detected so far: 7841\n"
          ]
        },
        {
          "output_type": "stream",
          "name": "stderr",
          "text": [
            "136502it [1:26:58, 23.94it/s]"
          ]
        },
        {
          "output_type": "stream",
          "name": "stdout",
          "text": [
            "\n",
            "\n",
            "***INFO***\n",
            "Number of prompts processed: 136500\n",
            "Number of Unique objects detected so far: 7852\n"
          ]
        },
        {
          "output_type": "stream",
          "name": "stderr",
          "text": [
            "137005it [1:27:18, 25.36it/s]"
          ]
        },
        {
          "output_type": "stream",
          "name": "stdout",
          "text": [
            "\n",
            "\n",
            "***INFO***\n",
            "Number of prompts processed: 137000\n",
            "Number of Unique objects detected so far: 7866\n"
          ]
        },
        {
          "output_type": "stream",
          "name": "stderr",
          "text": [
            "137503it [1:27:38, 22.92it/s]"
          ]
        },
        {
          "output_type": "stream",
          "name": "stdout",
          "text": [
            "\n",
            "\n",
            "***INFO***\n",
            "Number of prompts processed: 137500\n",
            "Number of Unique objects detected so far: 7873\n"
          ]
        },
        {
          "output_type": "stream",
          "name": "stderr",
          "text": [
            "138005it [1:27:57, 25.89it/s]"
          ]
        },
        {
          "output_type": "stream",
          "name": "stdout",
          "text": [
            "\n",
            "\n",
            "***INFO***\n",
            "Number of prompts processed: 138000\n",
            "Number of Unique objects detected so far: 7879\n"
          ]
        },
        {
          "output_type": "stream",
          "name": "stderr",
          "text": [
            "138505it [1:28:16, 27.28it/s]"
          ]
        },
        {
          "output_type": "stream",
          "name": "stdout",
          "text": [
            "\n",
            "\n",
            "***INFO***\n",
            "Number of prompts processed: 138500\n",
            "Number of Unique objects detected so far: 7886\n"
          ]
        },
        {
          "output_type": "stream",
          "name": "stderr",
          "text": [
            "139005it [1:28:35, 27.35it/s]"
          ]
        },
        {
          "output_type": "stream",
          "name": "stdout",
          "text": [
            "\n",
            "\n",
            "***INFO***\n",
            "Number of prompts processed: 139000\n",
            "Number of Unique objects detected so far: 7902\n"
          ]
        },
        {
          "output_type": "stream",
          "name": "stderr",
          "text": [
            "139505it [1:28:54, 25.34it/s]"
          ]
        },
        {
          "output_type": "stream",
          "name": "stdout",
          "text": [
            "\n",
            "\n",
            "***INFO***\n",
            "Number of prompts processed: 139500\n",
            "Number of Unique objects detected so far: 7912\n"
          ]
        },
        {
          "output_type": "stream",
          "name": "stderr",
          "text": [
            "139999it [1:29:13, 28.30it/s]"
          ]
        },
        {
          "output_type": "stream",
          "name": "stdout",
          "text": [
            "\n",
            "\n",
            "***INFO***\n",
            "Number of prompts processed: 140000\n",
            "Number of Unique objects detected so far: 7917\n"
          ]
        },
        {
          "output_type": "stream",
          "name": "stderr",
          "text": [
            "\r140002it [1:29:18,  2.12it/s]"
          ]
        },
        {
          "output_type": "stream",
          "name": "stdout",
          "text": [
            "Saved.. Intermediate Results in train-captions-processed.json\n"
          ]
        },
        {
          "output_type": "stream",
          "name": "stderr",
          "text": [
            "140505it [1:29:38, 25.37it/s]"
          ]
        },
        {
          "output_type": "stream",
          "name": "stdout",
          "text": [
            "\n",
            "\n",
            "***INFO***\n",
            "Number of prompts processed: 140500\n",
            "Number of Unique objects detected so far: 7924\n"
          ]
        },
        {
          "output_type": "stream",
          "name": "stderr",
          "text": [
            "141002it [1:29:56, 24.99it/s]"
          ]
        },
        {
          "output_type": "stream",
          "name": "stdout",
          "text": [
            "\n",
            "\n",
            "***INFO***\n",
            "Number of prompts processed: 141000\n",
            "Number of Unique objects detected so far: 7942\n"
          ]
        },
        {
          "output_type": "stream",
          "name": "stderr",
          "text": [
            "141503it [1:30:15, 26.73it/s]"
          ]
        },
        {
          "output_type": "stream",
          "name": "stdout",
          "text": [
            "\n",
            "\n",
            "***INFO***\n",
            "Number of prompts processed: 141500\n",
            "Number of Unique objects detected so far: 7953\n"
          ]
        },
        {
          "output_type": "stream",
          "name": "stderr",
          "text": [
            "142004it [1:30:36, 25.61it/s]"
          ]
        },
        {
          "output_type": "stream",
          "name": "stdout",
          "text": [
            "\n",
            "\n",
            "***INFO***\n",
            "Number of prompts processed: 142000\n",
            "Number of Unique objects detected so far: 7973\n"
          ]
        },
        {
          "output_type": "stream",
          "name": "stderr",
          "text": [
            "142504it [1:30:55, 26.43it/s]"
          ]
        },
        {
          "output_type": "stream",
          "name": "stdout",
          "text": [
            "\n",
            "\n",
            "***INFO***\n",
            "Number of prompts processed: 142500\n",
            "Number of Unique objects detected so far: 7984\n"
          ]
        },
        {
          "output_type": "stream",
          "name": "stderr",
          "text": [
            "143005it [1:31:15, 27.88it/s]"
          ]
        },
        {
          "output_type": "stream",
          "name": "stdout",
          "text": [
            "\n",
            "\n",
            "***INFO***\n",
            "Number of prompts processed: 143000\n",
            "Number of Unique objects detected so far: 8001\n"
          ]
        },
        {
          "output_type": "stream",
          "name": "stderr",
          "text": [
            "143504it [1:31:34, 25.81it/s]"
          ]
        },
        {
          "output_type": "stream",
          "name": "stdout",
          "text": [
            "\n",
            "\n",
            "***INFO***\n",
            "Number of prompts processed: 143500\n",
            "Number of Unique objects detected so far: 8010\n"
          ]
        },
        {
          "output_type": "stream",
          "name": "stderr",
          "text": [
            "144004it [1:31:53, 26.80it/s]"
          ]
        },
        {
          "output_type": "stream",
          "name": "stdout",
          "text": [
            "\n",
            "\n",
            "***INFO***\n",
            "Number of prompts processed: 144000\n",
            "Number of Unique objects detected so far: 8021\n"
          ]
        },
        {
          "output_type": "stream",
          "name": "stderr",
          "text": [
            "144503it [1:32:11, 27.87it/s]"
          ]
        },
        {
          "output_type": "stream",
          "name": "stdout",
          "text": [
            "\n",
            "\n",
            "***INFO***\n",
            "Number of prompts processed: 144500\n",
            "Number of Unique objects detected so far: 8045\n"
          ]
        },
        {
          "output_type": "stream",
          "name": "stderr",
          "text": [
            "145003it [1:32:30, 26.62it/s]"
          ]
        },
        {
          "output_type": "stream",
          "name": "stdout",
          "text": [
            "\n",
            "\n",
            "***INFO***\n",
            "Number of prompts processed: 145000\n",
            "Number of Unique objects detected so far: 8059\n"
          ]
        },
        {
          "output_type": "stream",
          "name": "stderr",
          "text": [
            "145503it [1:32:49, 24.88it/s]"
          ]
        },
        {
          "output_type": "stream",
          "name": "stdout",
          "text": [
            "\n",
            "\n",
            "***INFO***\n",
            "Number of prompts processed: 145500\n",
            "Number of Unique objects detected so far: 8081\n"
          ]
        },
        {
          "output_type": "stream",
          "name": "stderr",
          "text": [
            "146004it [1:33:08, 27.14it/s]"
          ]
        },
        {
          "output_type": "stream",
          "name": "stdout",
          "text": [
            "\n",
            "\n",
            "***INFO***\n",
            "Number of prompts processed: 146000\n",
            "Number of Unique objects detected so far: 8102\n"
          ]
        },
        {
          "output_type": "stream",
          "name": "stderr",
          "text": [
            "146502it [1:33:27, 26.70it/s]"
          ]
        },
        {
          "output_type": "stream",
          "name": "stdout",
          "text": [
            "\n",
            "\n",
            "***INFO***\n",
            "Number of prompts processed: 146500\n",
            "Number of Unique objects detected so far: 8116\n"
          ]
        },
        {
          "output_type": "stream",
          "name": "stderr",
          "text": [
            "147005it [1:33:47, 26.75it/s]"
          ]
        },
        {
          "output_type": "stream",
          "name": "stdout",
          "text": [
            "\n",
            "\n",
            "***INFO***\n",
            "Number of prompts processed: 147000\n",
            "Number of Unique objects detected so far: 8133\n"
          ]
        },
        {
          "output_type": "stream",
          "name": "stderr",
          "text": [
            "147504it [1:34:05, 25.89it/s]"
          ]
        },
        {
          "output_type": "stream",
          "name": "stdout",
          "text": [
            "\n",
            "\n",
            "***INFO***\n",
            "Number of prompts processed: 147500\n",
            "Number of Unique objects detected so far: 8148\n"
          ]
        },
        {
          "output_type": "stream",
          "name": "stderr",
          "text": [
            "148004it [1:34:24, 26.32it/s]"
          ]
        },
        {
          "output_type": "stream",
          "name": "stdout",
          "text": [
            "\n",
            "\n",
            "***INFO***\n",
            "Number of prompts processed: 148000\n",
            "Number of Unique objects detected so far: 8158\n"
          ]
        },
        {
          "output_type": "stream",
          "name": "stderr",
          "text": [
            "148505it [1:34:42, 25.00it/s]"
          ]
        },
        {
          "output_type": "stream",
          "name": "stdout",
          "text": [
            "\n",
            "\n",
            "***INFO***\n",
            "Number of prompts processed: 148500\n",
            "Number of Unique objects detected so far: 8170\n"
          ]
        },
        {
          "output_type": "stream",
          "name": "stderr",
          "text": [
            "149003it [1:35:01, 25.69it/s]"
          ]
        },
        {
          "output_type": "stream",
          "name": "stdout",
          "text": [
            "\n",
            "\n",
            "***INFO***\n",
            "Number of prompts processed: 149000\n",
            "Number of Unique objects detected so far: 8183\n"
          ]
        },
        {
          "output_type": "stream",
          "name": "stderr",
          "text": [
            "149505it [1:35:19, 27.79it/s]"
          ]
        },
        {
          "output_type": "stream",
          "name": "stdout",
          "text": [
            "\n",
            "\n",
            "***INFO***\n",
            "Number of prompts processed: 149500\n",
            "Number of Unique objects detected so far: 8203\n"
          ]
        },
        {
          "output_type": "stream",
          "name": "stderr",
          "text": [
            "149997it [1:35:38, 25.42it/s]"
          ]
        },
        {
          "output_type": "stream",
          "name": "stdout",
          "text": [
            "\n",
            "\n",
            "***INFO***\n",
            "Number of prompts processed: 150000\n",
            "Number of Unique objects detected so far: 8216\n"
          ]
        },
        {
          "output_type": "stream",
          "name": "stderr",
          "text": [
            "150002it [1:35:43,  2.47it/s]"
          ]
        },
        {
          "output_type": "stream",
          "name": "stdout",
          "text": [
            "Saved.. Intermediate Results in train-captions-processed.json\n"
          ]
        },
        {
          "output_type": "stream",
          "name": "stderr",
          "text": [
            "150505it [1:36:02, 26.66it/s]"
          ]
        },
        {
          "output_type": "stream",
          "name": "stdout",
          "text": [
            "\n",
            "\n",
            "***INFO***\n",
            "Number of prompts processed: 150500\n",
            "Number of Unique objects detected so far: 8224\n"
          ]
        },
        {
          "output_type": "stream",
          "name": "stderr",
          "text": [
            "151004it [1:36:22, 26.28it/s]"
          ]
        },
        {
          "output_type": "stream",
          "name": "stdout",
          "text": [
            "\n",
            "\n",
            "***INFO***\n",
            "Number of prompts processed: 151000\n",
            "Number of Unique objects detected so far: 8231\n"
          ]
        },
        {
          "output_type": "stream",
          "name": "stderr",
          "text": [
            "151504it [1:36:41, 27.65it/s]"
          ]
        },
        {
          "output_type": "stream",
          "name": "stdout",
          "text": [
            "\n",
            "\n",
            "***INFO***\n",
            "Number of prompts processed: 151500\n",
            "Number of Unique objects detected so far: 8239\n"
          ]
        },
        {
          "output_type": "stream",
          "name": "stderr",
          "text": [
            "152005it [1:37:00, 26.20it/s]"
          ]
        },
        {
          "output_type": "stream",
          "name": "stdout",
          "text": [
            "\n",
            "\n",
            "***INFO***\n",
            "Number of prompts processed: 152000\n",
            "Number of Unique objects detected so far: 8249\n"
          ]
        },
        {
          "output_type": "stream",
          "name": "stderr",
          "text": [
            "152505it [1:37:18, 29.30it/s]"
          ]
        },
        {
          "output_type": "stream",
          "name": "stdout",
          "text": [
            "\n",
            "\n",
            "***INFO***\n",
            "Number of prompts processed: 152500\n",
            "Number of Unique objects detected so far: 8263\n"
          ]
        },
        {
          "output_type": "stream",
          "name": "stderr",
          "text": [
            "153002it [1:37:37, 27.28it/s]"
          ]
        },
        {
          "output_type": "stream",
          "name": "stdout",
          "text": [
            "\n",
            "\n",
            "***INFO***\n",
            "Number of prompts processed: 153000\n",
            "Number of Unique objects detected so far: 8285\n"
          ]
        },
        {
          "output_type": "stream",
          "name": "stderr",
          "text": [
            "153502it [1:37:56, 25.59it/s]"
          ]
        },
        {
          "output_type": "stream",
          "name": "stdout",
          "text": [
            "\n",
            "\n",
            "***INFO***\n",
            "Number of prompts processed: 153500\n",
            "Number of Unique objects detected so far: 8296\n"
          ]
        },
        {
          "output_type": "stream",
          "name": "stderr",
          "text": [
            "154004it [1:38:16, 25.62it/s]"
          ]
        },
        {
          "output_type": "stream",
          "name": "stdout",
          "text": [
            "\n",
            "\n",
            "***INFO***\n",
            "Number of prompts processed: 154000\n",
            "Number of Unique objects detected so far: 8307\n"
          ]
        },
        {
          "output_type": "stream",
          "name": "stderr",
          "text": [
            "154505it [1:38:34, 26.82it/s]"
          ]
        },
        {
          "output_type": "stream",
          "name": "stdout",
          "text": [
            "\n",
            "\n",
            "***INFO***\n",
            "Number of prompts processed: 154500\n",
            "Number of Unique objects detected so far: 8316\n"
          ]
        },
        {
          "output_type": "stream",
          "name": "stderr",
          "text": [
            "155003it [1:38:53, 27.54it/s]"
          ]
        },
        {
          "output_type": "stream",
          "name": "stdout",
          "text": [
            "\n",
            "\n",
            "***INFO***\n",
            "Number of prompts processed: 155000\n",
            "Number of Unique objects detected so far: 8327\n"
          ]
        },
        {
          "output_type": "stream",
          "name": "stderr",
          "text": [
            "155503it [1:39:12, 20.54it/s]"
          ]
        },
        {
          "output_type": "stream",
          "name": "stdout",
          "text": [
            "\n",
            "\n",
            "***INFO***\n",
            "Number of prompts processed: 155500\n",
            "Number of Unique objects detected so far: 8337\n"
          ]
        },
        {
          "output_type": "stream",
          "name": "stderr",
          "text": [
            "156004it [1:39:31, 28.22it/s]"
          ]
        },
        {
          "output_type": "stream",
          "name": "stdout",
          "text": [
            "\n",
            "\n",
            "***INFO***\n",
            "Number of prompts processed: 156000\n",
            "Number of Unique objects detected so far: 8347\n"
          ]
        },
        {
          "output_type": "stream",
          "name": "stderr",
          "text": [
            "156503it [1:39:50, 24.45it/s]"
          ]
        },
        {
          "output_type": "stream",
          "name": "stdout",
          "text": [
            "\n",
            "\n",
            "***INFO***\n",
            "Number of prompts processed: 156500\n",
            "Number of Unique objects detected so far: 8360\n"
          ]
        },
        {
          "output_type": "stream",
          "name": "stderr",
          "text": [
            "157003it [1:40:08, 25.85it/s]"
          ]
        },
        {
          "output_type": "stream",
          "name": "stdout",
          "text": [
            "\n",
            "\n",
            "***INFO***\n",
            "Number of prompts processed: 157000\n",
            "Number of Unique objects detected so far: 8371\n"
          ]
        },
        {
          "output_type": "stream",
          "name": "stderr",
          "text": [
            "157503it [1:40:26, 27.25it/s]"
          ]
        },
        {
          "output_type": "stream",
          "name": "stdout",
          "text": [
            "\n",
            "\n",
            "***INFO***\n",
            "Number of prompts processed: 157500\n",
            "Number of Unique objects detected so far: 8381\n"
          ]
        },
        {
          "output_type": "stream",
          "name": "stderr",
          "text": [
            "158002it [1:40:45, 26.39it/s]"
          ]
        },
        {
          "output_type": "stream",
          "name": "stdout",
          "text": [
            "\n",
            "\n",
            "***INFO***\n",
            "Number of prompts processed: 158000\n",
            "Number of Unique objects detected so far: 8394\n"
          ]
        },
        {
          "output_type": "stream",
          "name": "stderr",
          "text": [
            "158503it [1:41:04, 26.43it/s]"
          ]
        },
        {
          "output_type": "stream",
          "name": "stdout",
          "text": [
            "\n",
            "\n",
            "***INFO***\n",
            "Number of prompts processed: 158500\n",
            "Number of Unique objects detected so far: 8406\n"
          ]
        },
        {
          "output_type": "stream",
          "name": "stderr",
          "text": [
            "159003it [1:41:23, 28.63it/s]"
          ]
        },
        {
          "output_type": "stream",
          "name": "stdout",
          "text": [
            "\n",
            "\n",
            "***INFO***\n",
            "Number of prompts processed: 159000\n",
            "Number of Unique objects detected so far: 8421\n"
          ]
        },
        {
          "output_type": "stream",
          "name": "stderr",
          "text": [
            "159505it [1:41:41, 24.71it/s]"
          ]
        },
        {
          "output_type": "stream",
          "name": "stdout",
          "text": [
            "\n",
            "\n",
            "***INFO***\n",
            "Number of prompts processed: 159500\n",
            "Number of Unique objects detected so far: 8432\n"
          ]
        },
        {
          "output_type": "stream",
          "name": "stderr",
          "text": [
            "159998it [1:41:59, 27.55it/s]"
          ]
        },
        {
          "output_type": "stream",
          "name": "stdout",
          "text": [
            "\n",
            "\n",
            "***INFO***\n",
            "Number of prompts processed: 160000\n",
            "Number of Unique objects detected so far: 8443\n"
          ]
        },
        {
          "output_type": "stream",
          "name": "stderr",
          "text": [
            "160003it [1:42:06,  2.07it/s]"
          ]
        },
        {
          "output_type": "stream",
          "name": "stdout",
          "text": [
            "Saved.. Intermediate Results in train-captions-processed.json\n"
          ]
        },
        {
          "output_type": "stream",
          "name": "stderr",
          "text": [
            "160504it [1:42:25, 27.95it/s]"
          ]
        },
        {
          "output_type": "stream",
          "name": "stdout",
          "text": [
            "\n",
            "\n",
            "***INFO***\n",
            "Number of prompts processed: 160500\n",
            "Number of Unique objects detected so far: 8458\n"
          ]
        },
        {
          "output_type": "stream",
          "name": "stderr",
          "text": [
            "161003it [1:42:44, 26.76it/s]"
          ]
        },
        {
          "output_type": "stream",
          "name": "stdout",
          "text": [
            "\n",
            "\n",
            "***INFO***\n",
            "Number of prompts processed: 161000\n",
            "Number of Unique objects detected so far: 8475\n"
          ]
        },
        {
          "output_type": "stream",
          "name": "stderr",
          "text": [
            "161503it [1:43:02, 27.83it/s]"
          ]
        },
        {
          "output_type": "stream",
          "name": "stdout",
          "text": [
            "\n",
            "\n",
            "***INFO***\n",
            "Number of prompts processed: 161500\n",
            "Number of Unique objects detected so far: 8483\n"
          ]
        },
        {
          "output_type": "stream",
          "name": "stderr",
          "text": [
            "162003it [1:43:20, 25.50it/s]"
          ]
        },
        {
          "output_type": "stream",
          "name": "stdout",
          "text": [
            "\n",
            "\n",
            "***INFO***\n",
            "Number of prompts processed: 162000\n",
            "Number of Unique objects detected so far: 8501\n"
          ]
        },
        {
          "output_type": "stream",
          "name": "stderr",
          "text": [
            "162504it [1:43:39, 28.46it/s]"
          ]
        },
        {
          "output_type": "stream",
          "name": "stdout",
          "text": [
            "\n",
            "\n",
            "***INFO***\n",
            "Number of prompts processed: 162500\n",
            "Number of Unique objects detected so far: 8509\n"
          ]
        },
        {
          "output_type": "stream",
          "name": "stderr",
          "text": [
            "163003it [1:43:57, 26.43it/s]"
          ]
        },
        {
          "output_type": "stream",
          "name": "stdout",
          "text": [
            "\n",
            "\n",
            "***INFO***\n",
            "Number of prompts processed: 163000\n",
            "Number of Unique objects detected so far: 8521\n"
          ]
        },
        {
          "output_type": "stream",
          "name": "stderr",
          "text": [
            "163503it [1:44:15, 25.57it/s]"
          ]
        },
        {
          "output_type": "stream",
          "name": "stdout",
          "text": [
            "\n",
            "\n",
            "***INFO***\n",
            "Number of prompts processed: 163500\n",
            "Number of Unique objects detected so far: 8536\n"
          ]
        },
        {
          "output_type": "stream",
          "name": "stderr",
          "text": [
            "164005it [1:44:34, 28.33it/s]"
          ]
        },
        {
          "output_type": "stream",
          "name": "stdout",
          "text": [
            "\n",
            "\n",
            "***INFO***\n",
            "Number of prompts processed: 164000\n",
            "Number of Unique objects detected so far: 8549\n"
          ]
        },
        {
          "output_type": "stream",
          "name": "stderr",
          "text": [
            "164502it [1:44:52, 25.12it/s]"
          ]
        },
        {
          "output_type": "stream",
          "name": "stdout",
          "text": [
            "\n",
            "\n",
            "***INFO***\n",
            "Number of prompts processed: 164500\n",
            "Number of Unique objects detected so far: 8557\n"
          ]
        },
        {
          "output_type": "stream",
          "name": "stderr",
          "text": [
            "165003it [1:45:11, 27.32it/s]"
          ]
        },
        {
          "output_type": "stream",
          "name": "stdout",
          "text": [
            "\n",
            "\n",
            "***INFO***\n",
            "Number of prompts processed: 165000\n",
            "Number of Unique objects detected so far: 8563\n"
          ]
        },
        {
          "output_type": "stream",
          "name": "stderr",
          "text": [
            "165504it [1:45:30, 25.68it/s]"
          ]
        },
        {
          "output_type": "stream",
          "name": "stdout",
          "text": [
            "\n",
            "\n",
            "***INFO***\n",
            "Number of prompts processed: 165500\n",
            "Number of Unique objects detected so far: 8579\n"
          ]
        },
        {
          "output_type": "stream",
          "name": "stderr",
          "text": [
            "166005it [1:45:49, 28.06it/s]"
          ]
        },
        {
          "output_type": "stream",
          "name": "stdout",
          "text": [
            "\n",
            "\n",
            "***INFO***\n",
            "Number of prompts processed: 166000\n",
            "Number of Unique objects detected so far: 8595\n"
          ]
        },
        {
          "output_type": "stream",
          "name": "stderr",
          "text": [
            "166506it [1:46:07, 29.15it/s]"
          ]
        },
        {
          "output_type": "stream",
          "name": "stdout",
          "text": [
            "\n",
            "\n",
            "***INFO***\n",
            "Number of prompts processed: 166500\n",
            "Number of Unique objects detected so far: 8615\n"
          ]
        },
        {
          "output_type": "stream",
          "name": "stderr",
          "text": [
            "167003it [1:46:26, 28.11it/s]"
          ]
        },
        {
          "output_type": "stream",
          "name": "stdout",
          "text": [
            "\n",
            "\n",
            "***INFO***\n",
            "Number of prompts processed: 167000\n",
            "Number of Unique objects detected so far: 8623\n"
          ]
        },
        {
          "output_type": "stream",
          "name": "stderr",
          "text": [
            "167504it [1:46:44, 27.46it/s]"
          ]
        },
        {
          "output_type": "stream",
          "name": "stdout",
          "text": [
            "\n",
            "\n",
            "***INFO***\n",
            "Number of prompts processed: 167500\n",
            "Number of Unique objects detected so far: 8625\n"
          ]
        },
        {
          "output_type": "stream",
          "name": "stderr",
          "text": [
            "168004it [1:47:02, 27.64it/s]"
          ]
        },
        {
          "output_type": "stream",
          "name": "stdout",
          "text": [
            "\n",
            "\n",
            "***INFO***\n",
            "Number of prompts processed: 168000\n",
            "Number of Unique objects detected so far: 8635\n"
          ]
        },
        {
          "output_type": "stream",
          "name": "stderr",
          "text": [
            "168503it [1:47:21, 26.99it/s]"
          ]
        },
        {
          "output_type": "stream",
          "name": "stdout",
          "text": [
            "\n",
            "\n",
            "***INFO***\n",
            "Number of prompts processed: 168500\n",
            "Number of Unique objects detected so far: 8655\n"
          ]
        },
        {
          "output_type": "stream",
          "name": "stderr",
          "text": [
            "169005it [1:47:39, 27.23it/s]"
          ]
        },
        {
          "output_type": "stream",
          "name": "stdout",
          "text": [
            "\n",
            "\n",
            "***INFO***\n",
            "Number of prompts processed: 169000\n",
            "Number of Unique objects detected so far: 8660\n"
          ]
        },
        {
          "output_type": "stream",
          "name": "stderr",
          "text": [
            "169504it [1:47:59, 26.41it/s]"
          ]
        },
        {
          "output_type": "stream",
          "name": "stdout",
          "text": [
            "\n",
            "\n",
            "***INFO***\n",
            "Number of prompts processed: 169500\n",
            "Number of Unique objects detected so far: 8671\n"
          ]
        },
        {
          "output_type": "stream",
          "name": "stderr",
          "text": [
            "169998it [1:48:17, 28.29it/s]"
          ]
        },
        {
          "output_type": "stream",
          "name": "stdout",
          "text": [
            "\n",
            "\n",
            "***INFO***\n",
            "Number of prompts processed: 170000\n",
            "Number of Unique objects detected so far: 8680\n"
          ]
        },
        {
          "output_type": "stream",
          "name": "stderr",
          "text": [
            "170004it [1:48:22,  2.76it/s]"
          ]
        },
        {
          "output_type": "stream",
          "name": "stdout",
          "text": [
            "Saved.. Intermediate Results in train-captions-processed.json\n"
          ]
        },
        {
          "output_type": "stream",
          "name": "stderr",
          "text": [
            "170505it [1:48:41, 30.05it/s]"
          ]
        },
        {
          "output_type": "stream",
          "name": "stdout",
          "text": [
            "\n",
            "\n",
            "***INFO***\n",
            "Number of prompts processed: 170500\n",
            "Number of Unique objects detected so far: 8685\n"
          ]
        },
        {
          "output_type": "stream",
          "name": "stderr",
          "text": [
            "171005it [1:49:00, 28.79it/s]"
          ]
        },
        {
          "output_type": "stream",
          "name": "stdout",
          "text": [
            "\n",
            "\n",
            "***INFO***\n",
            "Number of prompts processed: 171000\n",
            "Number of Unique objects detected so far: 8708\n"
          ]
        },
        {
          "output_type": "stream",
          "name": "stderr",
          "text": [
            "171506it [1:49:18, 29.31it/s]"
          ]
        },
        {
          "output_type": "stream",
          "name": "stdout",
          "text": [
            "\n",
            "\n",
            "***INFO***\n",
            "Number of prompts processed: 171500\n",
            "Number of Unique objects detected so far: 8720\n"
          ]
        },
        {
          "output_type": "stream",
          "name": "stderr",
          "text": [
            "172003it [1:49:37, 27.35it/s]"
          ]
        },
        {
          "output_type": "stream",
          "name": "stdout",
          "text": [
            "\n",
            "\n",
            "***INFO***\n",
            "Number of prompts processed: 172000\n",
            "Number of Unique objects detected so far: 8737\n"
          ]
        },
        {
          "output_type": "stream",
          "name": "stderr",
          "text": [
            "172503it [1:49:55, 25.93it/s]"
          ]
        },
        {
          "output_type": "stream",
          "name": "stdout",
          "text": [
            "\n",
            "\n",
            "***INFO***\n",
            "Number of prompts processed: 172500\n",
            "Number of Unique objects detected so far: 8751\n"
          ]
        },
        {
          "output_type": "stream",
          "name": "stderr",
          "text": [
            "173003it [1:50:14, 26.47it/s]"
          ]
        },
        {
          "output_type": "stream",
          "name": "stdout",
          "text": [
            "\n",
            "\n",
            "***INFO***\n",
            "Number of prompts processed: 173000\n",
            "Number of Unique objects detected so far: 8768\n"
          ]
        },
        {
          "output_type": "stream",
          "name": "stderr",
          "text": [
            "173504it [1:50:33, 26.98it/s]"
          ]
        },
        {
          "output_type": "stream",
          "name": "stdout",
          "text": [
            "\n",
            "\n",
            "***INFO***\n",
            "Number of prompts processed: 173500\n",
            "Number of Unique objects detected so far: 8778\n"
          ]
        },
        {
          "output_type": "stream",
          "name": "stderr",
          "text": [
            "174005it [1:50:53, 25.45it/s]"
          ]
        },
        {
          "output_type": "stream",
          "name": "stdout",
          "text": [
            "\n",
            "\n",
            "***INFO***\n",
            "Number of prompts processed: 174000\n",
            "Number of Unique objects detected so far: 8793\n"
          ]
        },
        {
          "output_type": "stream",
          "name": "stderr",
          "text": [
            "174502it [1:51:11, 26.00it/s]"
          ]
        },
        {
          "output_type": "stream",
          "name": "stdout",
          "text": [
            "\n",
            "\n",
            "***INFO***\n",
            "Number of prompts processed: 174500\n",
            "Number of Unique objects detected so far: 8805\n"
          ]
        },
        {
          "output_type": "stream",
          "name": "stderr",
          "text": [
            "175004it [1:51:30, 24.08it/s]"
          ]
        },
        {
          "output_type": "stream",
          "name": "stdout",
          "text": [
            "\n",
            "\n",
            "***INFO***\n",
            "Number of prompts processed: 175000\n",
            "Number of Unique objects detected so far: 8819\n"
          ]
        },
        {
          "output_type": "stream",
          "name": "stderr",
          "text": [
            "175506it [1:51:49, 28.56it/s]"
          ]
        },
        {
          "output_type": "stream",
          "name": "stdout",
          "text": [
            "\n",
            "\n",
            "***INFO***\n",
            "Number of prompts processed: 175500\n",
            "Number of Unique objects detected so far: 8832\n"
          ]
        },
        {
          "output_type": "stream",
          "name": "stderr",
          "text": [
            "176003it [1:52:08, 26.40it/s]"
          ]
        },
        {
          "output_type": "stream",
          "name": "stdout",
          "text": [
            "\n",
            "\n",
            "***INFO***\n",
            "Number of prompts processed: 176000\n",
            "Number of Unique objects detected so far: 8841\n"
          ]
        },
        {
          "output_type": "stream",
          "name": "stderr",
          "text": [
            "176503it [1:52:27, 26.00it/s]"
          ]
        },
        {
          "output_type": "stream",
          "name": "stdout",
          "text": [
            "\n",
            "\n",
            "***INFO***\n",
            "Number of prompts processed: 176500\n",
            "Number of Unique objects detected so far: 8852\n"
          ]
        },
        {
          "output_type": "stream",
          "name": "stderr",
          "text": [
            "177003it [1:52:45, 26.06it/s]"
          ]
        },
        {
          "output_type": "stream",
          "name": "stdout",
          "text": [
            "\n",
            "\n",
            "***INFO***\n",
            "Number of prompts processed: 177000\n",
            "Number of Unique objects detected so far: 8871\n"
          ]
        },
        {
          "output_type": "stream",
          "name": "stderr",
          "text": [
            "177503it [1:53:04, 27.46it/s]"
          ]
        },
        {
          "output_type": "stream",
          "name": "stdout",
          "text": [
            "\n",
            "\n",
            "***INFO***\n",
            "Number of prompts processed: 177500\n",
            "Number of Unique objects detected so far: 8883\n"
          ]
        },
        {
          "output_type": "stream",
          "name": "stderr",
          "text": [
            "178005it [1:53:23, 27.22it/s]"
          ]
        },
        {
          "output_type": "stream",
          "name": "stdout",
          "text": [
            "\n",
            "\n",
            "***INFO***\n",
            "Number of prompts processed: 178000\n",
            "Number of Unique objects detected so far: 8889\n"
          ]
        },
        {
          "output_type": "stream",
          "name": "stderr",
          "text": [
            "178503it [1:53:42, 26.41it/s]"
          ]
        },
        {
          "output_type": "stream",
          "name": "stdout",
          "text": [
            "\n",
            "\n",
            "***INFO***\n",
            "Number of prompts processed: 178500\n",
            "Number of Unique objects detected so far: 8901\n"
          ]
        },
        {
          "output_type": "stream",
          "name": "stderr",
          "text": [
            "179003it [1:54:01, 27.88it/s]"
          ]
        },
        {
          "output_type": "stream",
          "name": "stdout",
          "text": [
            "\n",
            "\n",
            "***INFO***\n",
            "Number of prompts processed: 179000\n",
            "Number of Unique objects detected so far: 8909\n"
          ]
        },
        {
          "output_type": "stream",
          "name": "stderr",
          "text": [
            "179503it [1:54:19, 27.48it/s]"
          ]
        },
        {
          "output_type": "stream",
          "name": "stdout",
          "text": [
            "\n",
            "\n",
            "***INFO***\n",
            "Number of prompts processed: 179500\n",
            "Number of Unique objects detected so far: 8915\n"
          ]
        },
        {
          "output_type": "stream",
          "name": "stderr",
          "text": [
            "179997it [1:54:38, 27.13it/s]"
          ]
        },
        {
          "output_type": "stream",
          "name": "stdout",
          "text": [
            "\n",
            "\n",
            "***INFO***\n",
            "Number of prompts processed: 180000\n",
            "Number of Unique objects detected so far: 8927\n"
          ]
        },
        {
          "output_type": "stream",
          "name": "stderr",
          "text": [
            "180002it [1:54:43,  2.41it/s]"
          ]
        },
        {
          "output_type": "stream",
          "name": "stdout",
          "text": [
            "Saved.. Intermediate Results in train-captions-processed.json\n"
          ]
        },
        {
          "output_type": "stream",
          "name": "stderr",
          "text": [
            "180505it [1:55:03, 26.37it/s]"
          ]
        },
        {
          "output_type": "stream",
          "name": "stdout",
          "text": [
            "\n",
            "\n",
            "***INFO***\n",
            "Number of prompts processed: 180500\n",
            "Number of Unique objects detected so far: 8934\n"
          ]
        },
        {
          "output_type": "stream",
          "name": "stderr",
          "text": [
            "181004it [1:55:21, 26.61it/s]"
          ]
        },
        {
          "output_type": "stream",
          "name": "stdout",
          "text": [
            "\n",
            "\n",
            "***INFO***\n",
            "Number of prompts processed: 181000\n",
            "Number of Unique objects detected so far: 8945\n"
          ]
        },
        {
          "output_type": "stream",
          "name": "stderr",
          "text": [
            "181505it [1:55:40, 26.88it/s]"
          ]
        },
        {
          "output_type": "stream",
          "name": "stdout",
          "text": [
            "\n",
            "\n",
            "***INFO***\n",
            "Number of prompts processed: 181500\n",
            "Number of Unique objects detected so far: 8959\n"
          ]
        },
        {
          "output_type": "stream",
          "name": "stderr",
          "text": [
            "182004it [1:55:59, 27.19it/s]"
          ]
        },
        {
          "output_type": "stream",
          "name": "stdout",
          "text": [
            "\n",
            "\n",
            "***INFO***\n",
            "Number of prompts processed: 182000\n",
            "Number of Unique objects detected so far: 8974\n"
          ]
        },
        {
          "output_type": "stream",
          "name": "stderr",
          "text": [
            "182504it [1:56:17, 26.86it/s]"
          ]
        },
        {
          "output_type": "stream",
          "name": "stdout",
          "text": [
            "\n",
            "\n",
            "***INFO***\n",
            "Number of prompts processed: 182500\n",
            "Number of Unique objects detected so far: 8987\n"
          ]
        },
        {
          "output_type": "stream",
          "name": "stderr",
          "text": [
            "183005it [1:56:37, 26.67it/s]"
          ]
        },
        {
          "output_type": "stream",
          "name": "stdout",
          "text": [
            "\n",
            "\n",
            "***INFO***\n",
            "Number of prompts processed: 183000\n",
            "Number of Unique objects detected so far: 8993\n"
          ]
        },
        {
          "output_type": "stream",
          "name": "stderr",
          "text": [
            "183504it [1:56:56, 26.82it/s]"
          ]
        },
        {
          "output_type": "stream",
          "name": "stdout",
          "text": [
            "\n",
            "\n",
            "***INFO***\n",
            "Number of prompts processed: 183500\n",
            "Number of Unique objects detected so far: 9009\n"
          ]
        },
        {
          "output_type": "stream",
          "name": "stderr",
          "text": [
            "184003it [1:57:14, 27.83it/s]"
          ]
        },
        {
          "output_type": "stream",
          "name": "stdout",
          "text": [
            "\n",
            "\n",
            "***INFO***\n",
            "Number of prompts processed: 184000\n",
            "Number of Unique objects detected so far: 9018\n"
          ]
        },
        {
          "output_type": "stream",
          "name": "stderr",
          "text": [
            "184503it [1:57:32, 26.37it/s]"
          ]
        },
        {
          "output_type": "stream",
          "name": "stdout",
          "text": [
            "\n",
            "\n",
            "***INFO***\n",
            "Number of prompts processed: 184500\n",
            "Number of Unique objects detected so far: 9028\n"
          ]
        },
        {
          "output_type": "stream",
          "name": "stderr",
          "text": [
            "185005it [1:57:51, 27.67it/s]"
          ]
        },
        {
          "output_type": "stream",
          "name": "stdout",
          "text": [
            "\n",
            "\n",
            "***INFO***\n",
            "Number of prompts processed: 185000\n",
            "Number of Unique objects detected so far: 9034\n"
          ]
        },
        {
          "output_type": "stream",
          "name": "stderr",
          "text": [
            "185505it [1:58:09, 27.25it/s]"
          ]
        },
        {
          "output_type": "stream",
          "name": "stdout",
          "text": [
            "\n",
            "\n",
            "***INFO***\n",
            "Number of prompts processed: 185500\n",
            "Number of Unique objects detected so far: 9040\n"
          ]
        },
        {
          "output_type": "stream",
          "name": "stderr",
          "text": [
            "186004it [1:58:28, 25.23it/s]"
          ]
        },
        {
          "output_type": "stream",
          "name": "stdout",
          "text": [
            "\n",
            "\n",
            "***INFO***\n",
            "Number of prompts processed: 186000\n",
            "Number of Unique objects detected so far: 9050\n"
          ]
        },
        {
          "output_type": "stream",
          "name": "stderr",
          "text": [
            "186504it [1:58:46, 24.94it/s]"
          ]
        },
        {
          "output_type": "stream",
          "name": "stdout",
          "text": [
            "\n",
            "\n",
            "***INFO***\n",
            "Number of prompts processed: 186500\n",
            "Number of Unique objects detected so far: 9052\n"
          ]
        },
        {
          "output_type": "stream",
          "name": "stderr",
          "text": [
            "187004it [1:59:05, 26.86it/s]"
          ]
        },
        {
          "output_type": "stream",
          "name": "stdout",
          "text": [
            "\n",
            "\n",
            "***INFO***\n",
            "Number of prompts processed: 187000\n",
            "Number of Unique objects detected so far: 9061\n"
          ]
        },
        {
          "output_type": "stream",
          "name": "stderr",
          "text": [
            "187502it [1:59:24, 26.67it/s]"
          ]
        },
        {
          "output_type": "stream",
          "name": "stdout",
          "text": [
            "\n",
            "\n",
            "***INFO***\n",
            "Number of prompts processed: 187500\n",
            "Number of Unique objects detected so far: 9075\n"
          ]
        },
        {
          "output_type": "stream",
          "name": "stderr",
          "text": [
            "188004it [1:59:43, 26.67it/s]"
          ]
        },
        {
          "output_type": "stream",
          "name": "stdout",
          "text": [
            "\n",
            "\n",
            "***INFO***\n",
            "Number of prompts processed: 188000\n",
            "Number of Unique objects detected so far: 9080\n"
          ]
        },
        {
          "output_type": "stream",
          "name": "stderr",
          "text": [
            "188505it [2:00:01, 29.43it/s]"
          ]
        },
        {
          "output_type": "stream",
          "name": "stdout",
          "text": [
            "\n",
            "\n",
            "***INFO***\n",
            "Number of prompts processed: 188500\n",
            "Number of Unique objects detected so far: 9092\n"
          ]
        },
        {
          "output_type": "stream",
          "name": "stderr",
          "text": [
            "189005it [2:00:20, 27.80it/s]"
          ]
        },
        {
          "output_type": "stream",
          "name": "stdout",
          "text": [
            "\n",
            "\n",
            "***INFO***\n",
            "Number of prompts processed: 189000\n",
            "Number of Unique objects detected so far: 9099\n"
          ]
        },
        {
          "output_type": "stream",
          "name": "stderr",
          "text": [
            "189504it [2:00:38, 26.38it/s]"
          ]
        },
        {
          "output_type": "stream",
          "name": "stdout",
          "text": [
            "\n",
            "\n",
            "***INFO***\n",
            "Number of prompts processed: 189500\n",
            "Number of Unique objects detected so far: 9106\n"
          ]
        },
        {
          "output_type": "stream",
          "name": "stderr",
          "text": [
            "189998it [2:00:56, 26.14it/s]"
          ]
        },
        {
          "output_type": "stream",
          "name": "stdout",
          "text": [
            "\n",
            "\n",
            "***INFO***\n",
            "Number of prompts processed: 190000\n",
            "Number of Unique objects detected so far: 9115\n"
          ]
        },
        {
          "output_type": "stream",
          "name": "stderr",
          "text": [
            "190004it [2:01:02,  2.64it/s]"
          ]
        },
        {
          "output_type": "stream",
          "name": "stdout",
          "text": [
            "Saved.. Intermediate Results in train-captions-processed.json\n"
          ]
        },
        {
          "output_type": "stream",
          "name": "stderr",
          "text": [
            "190504it [2:01:21, 27.88it/s]"
          ]
        },
        {
          "output_type": "stream",
          "name": "stdout",
          "text": [
            "\n",
            "\n",
            "***INFO***\n",
            "Number of prompts processed: 190500\n",
            "Number of Unique objects detected so far: 9123\n"
          ]
        },
        {
          "output_type": "stream",
          "name": "stderr",
          "text": [
            "191004it [2:01:39, 28.33it/s]"
          ]
        },
        {
          "output_type": "stream",
          "name": "stdout",
          "text": [
            "\n",
            "\n",
            "***INFO***\n",
            "Number of prompts processed: 191000\n",
            "Number of Unique objects detected so far: 9125\n"
          ]
        },
        {
          "output_type": "stream",
          "name": "stderr",
          "text": [
            "191503it [2:01:57, 27.22it/s]"
          ]
        },
        {
          "output_type": "stream",
          "name": "stdout",
          "text": [
            "\n",
            "\n",
            "***INFO***\n",
            "Number of prompts processed: 191500\n",
            "Number of Unique objects detected so far: 9132\n"
          ]
        },
        {
          "output_type": "stream",
          "name": "stderr",
          "text": [
            "192003it [2:02:16, 26.89it/s]"
          ]
        },
        {
          "output_type": "stream",
          "name": "stdout",
          "text": [
            "\n",
            "\n",
            "***INFO***\n",
            "Number of prompts processed: 192000\n",
            "Number of Unique objects detected so far: 9139\n"
          ]
        },
        {
          "output_type": "stream",
          "name": "stderr",
          "text": [
            "192505it [2:02:34, 27.30it/s]"
          ]
        },
        {
          "output_type": "stream",
          "name": "stdout",
          "text": [
            "\n",
            "\n",
            "***INFO***\n",
            "Number of prompts processed: 192500\n",
            "Number of Unique objects detected so far: 9146\n"
          ]
        },
        {
          "output_type": "stream",
          "name": "stderr",
          "text": [
            "193005it [2:02:52, 27.92it/s]"
          ]
        },
        {
          "output_type": "stream",
          "name": "stdout",
          "text": [
            "\n",
            "\n",
            "***INFO***\n",
            "Number of prompts processed: 193000\n",
            "Number of Unique objects detected so far: 9152\n"
          ]
        },
        {
          "output_type": "stream",
          "name": "stderr",
          "text": [
            "193502it [2:03:11, 26.46it/s]"
          ]
        },
        {
          "output_type": "stream",
          "name": "stdout",
          "text": [
            "\n",
            "\n",
            "***INFO***\n",
            "Number of prompts processed: 193500\n",
            "Number of Unique objects detected so far: 9159\n"
          ]
        },
        {
          "output_type": "stream",
          "name": "stderr",
          "text": [
            "194003it [2:03:29, 28.07it/s]"
          ]
        },
        {
          "output_type": "stream",
          "name": "stdout",
          "text": [
            "\n",
            "\n",
            "***INFO***\n",
            "Number of prompts processed: 194000\n",
            "Number of Unique objects detected so far: 9165\n"
          ]
        },
        {
          "output_type": "stream",
          "name": "stderr",
          "text": [
            "194503it [2:03:48, 26.16it/s]"
          ]
        },
        {
          "output_type": "stream",
          "name": "stdout",
          "text": [
            "\n",
            "\n",
            "***INFO***\n",
            "Number of prompts processed: 194500\n",
            "Number of Unique objects detected so far: 9176\n"
          ]
        },
        {
          "output_type": "stream",
          "name": "stderr",
          "text": [
            "195003it [2:04:06, 28.72it/s]"
          ]
        },
        {
          "output_type": "stream",
          "name": "stdout",
          "text": [
            "\n",
            "\n",
            "***INFO***\n",
            "Number of prompts processed: 195000\n",
            "Number of Unique objects detected so far: 9181\n"
          ]
        },
        {
          "output_type": "stream",
          "name": "stderr",
          "text": [
            "195502it [2:04:24, 28.58it/s]"
          ]
        },
        {
          "output_type": "stream",
          "name": "stdout",
          "text": [
            "\n",
            "\n",
            "***INFO***\n",
            "Number of prompts processed: 195500\n",
            "Number of Unique objects detected so far: 9190\n"
          ]
        },
        {
          "output_type": "stream",
          "name": "stderr",
          "text": [
            "196003it [2:04:42, 27.03it/s]"
          ]
        },
        {
          "output_type": "stream",
          "name": "stdout",
          "text": [
            "\n",
            "\n",
            "***INFO***\n",
            "Number of prompts processed: 196000\n",
            "Number of Unique objects detected so far: 9197\n"
          ]
        },
        {
          "output_type": "stream",
          "name": "stderr",
          "text": [
            "196504it [2:05:01, 27.52it/s]"
          ]
        },
        {
          "output_type": "stream",
          "name": "stdout",
          "text": [
            "\n",
            "\n",
            "***INFO***\n",
            "Number of prompts processed: 196500\n",
            "Number of Unique objects detected so far: 9204\n"
          ]
        },
        {
          "output_type": "stream",
          "name": "stderr",
          "text": [
            "197006it [2:05:19, 29.05it/s]"
          ]
        },
        {
          "output_type": "stream",
          "name": "stdout",
          "text": [
            "\n",
            "\n",
            "***INFO***\n",
            "Number of prompts processed: 197000\n",
            "Number of Unique objects detected so far: 9212\n"
          ]
        },
        {
          "output_type": "stream",
          "name": "stderr",
          "text": [
            "197504it [2:05:37, 25.54it/s]"
          ]
        },
        {
          "output_type": "stream",
          "name": "stdout",
          "text": [
            "\n",
            "\n",
            "***INFO***\n",
            "Number of prompts processed: 197500\n",
            "Number of Unique objects detected so far: 9226\n"
          ]
        },
        {
          "output_type": "stream",
          "name": "stderr",
          "text": [
            "198004it [2:05:56, 28.91it/s]"
          ]
        },
        {
          "output_type": "stream",
          "name": "stdout",
          "text": [
            "\n",
            "\n",
            "***INFO***\n",
            "Number of prompts processed: 198000\n",
            "Number of Unique objects detected so far: 9237\n"
          ]
        },
        {
          "output_type": "stream",
          "name": "stderr",
          "text": [
            "198504it [2:06:14, 27.53it/s]"
          ]
        },
        {
          "output_type": "stream",
          "name": "stdout",
          "text": [
            "\n",
            "\n",
            "***INFO***\n",
            "Number of prompts processed: 198500\n",
            "Number of Unique objects detected so far: 9247\n"
          ]
        },
        {
          "output_type": "stream",
          "name": "stderr",
          "text": [
            "199004it [2:06:32, 29.77it/s]"
          ]
        },
        {
          "output_type": "stream",
          "name": "stdout",
          "text": [
            "\n",
            "\n",
            "***INFO***\n",
            "Number of prompts processed: 199000\n",
            "Number of Unique objects detected so far: 9251\n"
          ]
        },
        {
          "output_type": "stream",
          "name": "stderr",
          "text": [
            "199505it [2:06:51, 27.32it/s]"
          ]
        },
        {
          "output_type": "stream",
          "name": "stdout",
          "text": [
            "\n",
            "\n",
            "***INFO***\n",
            "Number of prompts processed: 199500\n",
            "Number of Unique objects detected so far: 9258\n"
          ]
        },
        {
          "output_type": "stream",
          "name": "stderr",
          "text": [
            "199999it [2:07:08, 29.11it/s]"
          ]
        },
        {
          "output_type": "stream",
          "name": "stdout",
          "text": [
            "\n",
            "\n",
            "***INFO***\n",
            "Number of prompts processed: 200000\n",
            "Number of Unique objects detected so far: 9264\n"
          ]
        },
        {
          "output_type": "stream",
          "name": "stderr",
          "text": [
            "200005it [2:07:14,  2.64it/s]"
          ]
        },
        {
          "output_type": "stream",
          "name": "stdout",
          "text": [
            "Saved.. Intermediate Results in train-captions-processed.json\n"
          ]
        },
        {
          "output_type": "stream",
          "name": "stderr",
          "text": [
            "200504it [2:07:32, 27.01it/s]"
          ]
        },
        {
          "output_type": "stream",
          "name": "stdout",
          "text": [
            "\n",
            "\n",
            "***INFO***\n",
            "Number of prompts processed: 200500\n",
            "Number of Unique objects detected so far: 9268\n"
          ]
        },
        {
          "output_type": "stream",
          "name": "stderr",
          "text": [
            "201003it [2:07:51, 28.00it/s]"
          ]
        },
        {
          "output_type": "stream",
          "name": "stdout",
          "text": [
            "\n",
            "\n",
            "***INFO***\n",
            "Number of prompts processed: 201000\n",
            "Number of Unique objects detected so far: 9273\n"
          ]
        },
        {
          "output_type": "stream",
          "name": "stderr",
          "text": [
            "201506it [2:08:10, 29.00it/s]"
          ]
        },
        {
          "output_type": "stream",
          "name": "stdout",
          "text": [
            "\n",
            "\n",
            "***INFO***\n",
            "Number of prompts processed: 201500\n",
            "Number of Unique objects detected so far: 9283\n"
          ]
        },
        {
          "output_type": "stream",
          "name": "stderr",
          "text": [
            "202003it [2:08:28, 26.23it/s]"
          ]
        },
        {
          "output_type": "stream",
          "name": "stdout",
          "text": [
            "\n",
            "\n",
            "***INFO***\n",
            "Number of prompts processed: 202000\n",
            "Number of Unique objects detected so far: 9286\n"
          ]
        },
        {
          "output_type": "stream",
          "name": "stderr",
          "text": [
            "202504it [2:08:47, 25.39it/s]"
          ]
        },
        {
          "output_type": "stream",
          "name": "stdout",
          "text": [
            "\n",
            "\n",
            "***INFO***\n",
            "Number of prompts processed: 202500\n",
            "Number of Unique objects detected so far: 9291\n"
          ]
        },
        {
          "output_type": "stream",
          "name": "stderr",
          "text": [
            "203002it [2:09:05, 24.97it/s]"
          ]
        },
        {
          "output_type": "stream",
          "name": "stdout",
          "text": [
            "\n",
            "\n",
            "***INFO***\n",
            "Number of prompts processed: 203000\n",
            "Number of Unique objects detected so far: 9297\n"
          ]
        },
        {
          "output_type": "stream",
          "name": "stderr",
          "text": [
            "203504it [2:09:24, 28.24it/s]"
          ]
        },
        {
          "output_type": "stream",
          "name": "stdout",
          "text": [
            "\n",
            "\n",
            "***INFO***\n",
            "Number of prompts processed: 203500\n",
            "Number of Unique objects detected so far: 9306\n"
          ]
        },
        {
          "output_type": "stream",
          "name": "stderr",
          "text": [
            "204004it [2:09:42, 28.22it/s]"
          ]
        },
        {
          "output_type": "stream",
          "name": "stdout",
          "text": [
            "\n",
            "\n",
            "***INFO***\n",
            "Number of prompts processed: 204000\n",
            "Number of Unique objects detected so far: 9316\n"
          ]
        },
        {
          "output_type": "stream",
          "name": "stderr",
          "text": [
            "204502it [2:10:00, 25.14it/s]"
          ]
        },
        {
          "output_type": "stream",
          "name": "stdout",
          "text": [
            "\n",
            "\n",
            "***INFO***\n",
            "Number of prompts processed: 204500\n",
            "Number of Unique objects detected so far: 9322\n"
          ]
        },
        {
          "output_type": "stream",
          "name": "stderr",
          "text": [
            "205004it [2:10:19, 25.79it/s]"
          ]
        },
        {
          "output_type": "stream",
          "name": "stdout",
          "text": [
            "\n",
            "\n",
            "***INFO***\n",
            "Number of prompts processed: 205000\n",
            "Number of Unique objects detected so far: 9331\n"
          ]
        },
        {
          "output_type": "stream",
          "name": "stderr",
          "text": [
            "205502it [2:10:38, 23.43it/s]"
          ]
        },
        {
          "output_type": "stream",
          "name": "stdout",
          "text": [
            "\n",
            "\n",
            "***INFO***\n",
            "Number of prompts processed: 205500\n",
            "Number of Unique objects detected so far: 9345\n"
          ]
        },
        {
          "output_type": "stream",
          "name": "stderr",
          "text": [
            "206003it [2:10:56, 28.91it/s]"
          ]
        },
        {
          "output_type": "stream",
          "name": "stdout",
          "text": [
            "\n",
            "\n",
            "***INFO***\n",
            "Number of prompts processed: 206000\n",
            "Number of Unique objects detected so far: 9357\n"
          ]
        },
        {
          "output_type": "stream",
          "name": "stderr",
          "text": [
            "206504it [2:11:14, 27.10it/s]"
          ]
        },
        {
          "output_type": "stream",
          "name": "stdout",
          "text": [
            "\n",
            "\n",
            "***INFO***\n",
            "Number of prompts processed: 206500\n",
            "Number of Unique objects detected so far: 9364\n"
          ]
        },
        {
          "output_type": "stream",
          "name": "stderr",
          "text": [
            "207005it [2:11:33, 26.09it/s]"
          ]
        },
        {
          "output_type": "stream",
          "name": "stdout",
          "text": [
            "\n",
            "\n",
            "***INFO***\n",
            "Number of prompts processed: 207000\n",
            "Number of Unique objects detected so far: 9373\n"
          ]
        },
        {
          "output_type": "stream",
          "name": "stderr",
          "text": [
            "207504it [2:11:50, 28.93it/s]"
          ]
        },
        {
          "output_type": "stream",
          "name": "stdout",
          "text": [
            "\n",
            "\n",
            "***INFO***\n",
            "Number of prompts processed: 207500\n",
            "Number of Unique objects detected so far: 9379\n"
          ]
        },
        {
          "output_type": "stream",
          "name": "stderr",
          "text": [
            "208004it [2:12:09, 27.34it/s]"
          ]
        },
        {
          "output_type": "stream",
          "name": "stdout",
          "text": [
            "\n",
            "\n",
            "***INFO***\n",
            "Number of prompts processed: 208000\n",
            "Number of Unique objects detected so far: 9392\n"
          ]
        },
        {
          "output_type": "stream",
          "name": "stderr",
          "text": [
            "208504it [2:12:27, 27.54it/s]"
          ]
        },
        {
          "output_type": "stream",
          "name": "stdout",
          "text": [
            "\n",
            "\n",
            "***INFO***\n",
            "Number of prompts processed: 208500\n",
            "Number of Unique objects detected so far: 9399\n"
          ]
        },
        {
          "output_type": "stream",
          "name": "stderr",
          "text": [
            "209005it [2:12:45, 27.82it/s]"
          ]
        },
        {
          "output_type": "stream",
          "name": "stdout",
          "text": [
            "\n",
            "\n",
            "***INFO***\n",
            "Number of prompts processed: 209000\n",
            "Number of Unique objects detected so far: 9416\n"
          ]
        },
        {
          "output_type": "stream",
          "name": "stderr",
          "text": [
            "209503it [2:13:03, 28.20it/s]"
          ]
        },
        {
          "output_type": "stream",
          "name": "stdout",
          "text": [
            "\n",
            "\n",
            "***INFO***\n",
            "Number of prompts processed: 209500\n",
            "Number of Unique objects detected so far: 9429\n"
          ]
        },
        {
          "output_type": "stream",
          "name": "stderr",
          "text": [
            "209998it [2:13:21, 26.78it/s]"
          ]
        },
        {
          "output_type": "stream",
          "name": "stdout",
          "text": [
            "\n",
            "\n",
            "***INFO***\n",
            "Number of prompts processed: 210000\n",
            "Number of Unique objects detected so far: 9439\n"
          ]
        },
        {
          "output_type": "stream",
          "name": "stderr",
          "text": [
            "\r210001it [2:13:26,  1.85it/s]"
          ]
        },
        {
          "output_type": "stream",
          "name": "stdout",
          "text": [
            "Saved.. Intermediate Results in train-captions-processed.json\n"
          ]
        },
        {
          "output_type": "stream",
          "name": "stderr",
          "text": [
            "210504it [2:13:47, 25.22it/s]"
          ]
        },
        {
          "output_type": "stream",
          "name": "stdout",
          "text": [
            "\n",
            "\n",
            "***INFO***\n",
            "Number of prompts processed: 210500\n",
            "Number of Unique objects detected so far: 9447\n"
          ]
        },
        {
          "output_type": "stream",
          "name": "stderr",
          "text": [
            "211005it [2:14:06, 25.12it/s]"
          ]
        },
        {
          "output_type": "stream",
          "name": "stdout",
          "text": [
            "\n",
            "\n",
            "***INFO***\n",
            "Number of prompts processed: 211000\n",
            "Number of Unique objects detected so far: 9457\n"
          ]
        },
        {
          "output_type": "stream",
          "name": "stderr",
          "text": [
            "211505it [2:14:25, 25.19it/s]"
          ]
        },
        {
          "output_type": "stream",
          "name": "stdout",
          "text": [
            "\n",
            "\n",
            "***INFO***\n",
            "Number of prompts processed: 211500\n",
            "Number of Unique objects detected so far: 9482\n"
          ]
        },
        {
          "output_type": "stream",
          "name": "stderr",
          "text": [
            "212003it [2:14:44, 26.61it/s]"
          ]
        },
        {
          "output_type": "stream",
          "name": "stdout",
          "text": [
            "\n",
            "\n",
            "***INFO***\n",
            "Number of prompts processed: 212000\n",
            "Number of Unique objects detected so far: 9490\n"
          ]
        },
        {
          "output_type": "stream",
          "name": "stderr",
          "text": [
            "212503it [2:15:03, 26.31it/s]"
          ]
        },
        {
          "output_type": "stream",
          "name": "stdout",
          "text": [
            "\n",
            "\n",
            "***INFO***\n",
            "Number of prompts processed: 212500\n",
            "Number of Unique objects detected so far: 9506\n"
          ]
        },
        {
          "output_type": "stream",
          "name": "stderr",
          "text": [
            "213005it [2:15:23, 27.03it/s]"
          ]
        },
        {
          "output_type": "stream",
          "name": "stdout",
          "text": [
            "\n",
            "\n",
            "***INFO***\n",
            "Number of prompts processed: 213000\n",
            "Number of Unique objects detected so far: 9520\n"
          ]
        },
        {
          "output_type": "stream",
          "name": "stderr",
          "text": [
            "213505it [2:15:42, 25.56it/s]"
          ]
        },
        {
          "output_type": "stream",
          "name": "stdout",
          "text": [
            "\n",
            "\n",
            "***INFO***\n",
            "Number of prompts processed: 213500\n",
            "Number of Unique objects detected so far: 9532\n"
          ]
        },
        {
          "output_type": "stream",
          "name": "stderr",
          "text": [
            "214004it [2:16:01, 24.39it/s]"
          ]
        },
        {
          "output_type": "stream",
          "name": "stdout",
          "text": [
            "\n",
            "\n",
            "***INFO***\n",
            "Number of prompts processed: 214000\n",
            "Number of Unique objects detected so far: 9556\n"
          ]
        },
        {
          "output_type": "stream",
          "name": "stderr",
          "text": [
            "214502it [2:16:21, 19.22it/s]"
          ]
        },
        {
          "output_type": "stream",
          "name": "stdout",
          "text": [
            "\n",
            "\n",
            "***INFO***\n",
            "Number of prompts processed: 214500\n",
            "Number of Unique objects detected so far: 9572\n"
          ]
        },
        {
          "output_type": "stream",
          "name": "stderr",
          "text": [
            "215003it [2:16:41, 24.04it/s]"
          ]
        },
        {
          "output_type": "stream",
          "name": "stdout",
          "text": [
            "\n",
            "\n",
            "***INFO***\n",
            "Number of prompts processed: 215000\n",
            "Number of Unique objects detected so far: 9588\n"
          ]
        },
        {
          "output_type": "stream",
          "name": "stderr",
          "text": [
            "215506it [2:17:00, 27.88it/s]"
          ]
        },
        {
          "output_type": "stream",
          "name": "stdout",
          "text": [
            "\n",
            "\n",
            "***INFO***\n",
            "Number of prompts processed: 215500\n",
            "Number of Unique objects detected so far: 9597\n"
          ]
        },
        {
          "output_type": "stream",
          "name": "stderr",
          "text": [
            "216003it [2:17:18, 27.06it/s]"
          ]
        },
        {
          "output_type": "stream",
          "name": "stdout",
          "text": [
            "\n",
            "\n",
            "***INFO***\n",
            "Number of prompts processed: 216000\n",
            "Number of Unique objects detected so far: 9611\n"
          ]
        },
        {
          "output_type": "stream",
          "name": "stderr",
          "text": [
            "216503it [2:17:37, 25.51it/s]"
          ]
        },
        {
          "output_type": "stream",
          "name": "stdout",
          "text": [
            "\n",
            "\n",
            "***INFO***\n",
            "Number of prompts processed: 216500\n",
            "Number of Unique objects detected so far: 9625\n"
          ]
        },
        {
          "output_type": "stream",
          "name": "stderr",
          "text": [
            "217003it [2:17:57, 26.14it/s]"
          ]
        },
        {
          "output_type": "stream",
          "name": "stdout",
          "text": [
            "\n",
            "\n",
            "***INFO***\n",
            "Number of prompts processed: 217000\n",
            "Number of Unique objects detected so far: 9643\n"
          ]
        },
        {
          "output_type": "stream",
          "name": "stderr",
          "text": [
            "217504it [2:18:16, 26.38it/s]"
          ]
        },
        {
          "output_type": "stream",
          "name": "stdout",
          "text": [
            "\n",
            "\n",
            "***INFO***\n",
            "Number of prompts processed: 217500\n",
            "Number of Unique objects detected so far: 9652\n"
          ]
        },
        {
          "output_type": "stream",
          "name": "stderr",
          "text": [
            "218004it [2:18:35, 24.31it/s]"
          ]
        },
        {
          "output_type": "stream",
          "name": "stdout",
          "text": [
            "\n",
            "\n",
            "***INFO***\n",
            "Number of prompts processed: 218000\n",
            "Number of Unique objects detected so far: 9664\n"
          ]
        },
        {
          "output_type": "stream",
          "name": "stderr",
          "text": [
            "218504it [2:18:54, 25.94it/s]"
          ]
        },
        {
          "output_type": "stream",
          "name": "stdout",
          "text": [
            "\n",
            "\n",
            "***INFO***\n",
            "Number of prompts processed: 218500\n",
            "Number of Unique objects detected so far: 9676\n"
          ]
        },
        {
          "output_type": "stream",
          "name": "stderr",
          "text": [
            "219003it [2:19:12, 24.94it/s]"
          ]
        },
        {
          "output_type": "stream",
          "name": "stdout",
          "text": [
            "\n",
            "\n",
            "***INFO***\n",
            "Number of prompts processed: 219000\n",
            "Number of Unique objects detected so far: 9690\n"
          ]
        },
        {
          "output_type": "stream",
          "name": "stderr",
          "text": [
            "219504it [2:19:32, 24.09it/s]"
          ]
        },
        {
          "output_type": "stream",
          "name": "stdout",
          "text": [
            "\n",
            "\n",
            "***INFO***\n",
            "Number of prompts processed: 219500\n",
            "Number of Unique objects detected so far: 9699\n"
          ]
        },
        {
          "output_type": "stream",
          "name": "stderr",
          "text": [
            "219998it [2:19:51, 26.67it/s]"
          ]
        },
        {
          "output_type": "stream",
          "name": "stdout",
          "text": [
            "\n",
            "\n",
            "***INFO***\n",
            "Number of prompts processed: 220000\n",
            "Number of Unique objects detected so far: 9708\n"
          ]
        },
        {
          "output_type": "stream",
          "name": "stderr",
          "text": [
            "220003it [2:19:57,  2.18it/s]"
          ]
        },
        {
          "output_type": "stream",
          "name": "stdout",
          "text": [
            "Saved.. Intermediate Results in train-captions-processed.json\n"
          ]
        },
        {
          "output_type": "stream",
          "name": "stderr",
          "text": [
            "220505it [2:20:16, 27.38it/s]"
          ]
        },
        {
          "output_type": "stream",
          "name": "stdout",
          "text": [
            "\n",
            "\n",
            "***INFO***\n",
            "Number of prompts processed: 220500\n",
            "Number of Unique objects detected so far: 9719\n"
          ]
        },
        {
          "output_type": "stream",
          "name": "stderr",
          "text": [
            "221002it [2:20:35, 23.90it/s]"
          ]
        },
        {
          "output_type": "stream",
          "name": "stdout",
          "text": [
            "\n",
            "\n",
            "***INFO***\n",
            "Number of prompts processed: 221000\n",
            "Number of Unique objects detected so far: 9728\n"
          ]
        },
        {
          "output_type": "stream",
          "name": "stderr",
          "text": [
            "221505it [2:20:54, 25.15it/s]"
          ]
        },
        {
          "output_type": "stream",
          "name": "stdout",
          "text": [
            "\n",
            "\n",
            "***INFO***\n",
            "Number of prompts processed: 221500\n",
            "Number of Unique objects detected so far: 9742\n"
          ]
        },
        {
          "output_type": "stream",
          "name": "stderr",
          "text": [
            "222004it [2:21:13, 25.24it/s]"
          ]
        },
        {
          "output_type": "stream",
          "name": "stdout",
          "text": [
            "\n",
            "\n",
            "***INFO***\n",
            "Number of prompts processed: 222000\n",
            "Number of Unique objects detected so far: 9762\n"
          ]
        },
        {
          "output_type": "stream",
          "name": "stderr",
          "text": [
            "222505it [2:21:32, 27.81it/s]"
          ]
        },
        {
          "output_type": "stream",
          "name": "stdout",
          "text": [
            "\n",
            "\n",
            "***INFO***\n",
            "Number of prompts processed: 222500\n",
            "Number of Unique objects detected so far: 9773\n"
          ]
        },
        {
          "output_type": "stream",
          "name": "stderr",
          "text": [
            "223005it [2:21:51, 26.29it/s]"
          ]
        },
        {
          "output_type": "stream",
          "name": "stdout",
          "text": [
            "\n",
            "\n",
            "***INFO***\n",
            "Number of prompts processed: 223000\n",
            "Number of Unique objects detected so far: 9782\n"
          ]
        },
        {
          "output_type": "stream",
          "name": "stderr",
          "text": [
            "223504it [2:22:10, 20.64it/s]"
          ]
        },
        {
          "output_type": "stream",
          "name": "stdout",
          "text": [
            "\n",
            "\n",
            "***INFO***\n",
            "Number of prompts processed: 223500\n",
            "Number of Unique objects detected so far: 9790\n"
          ]
        },
        {
          "output_type": "stream",
          "name": "stderr",
          "text": [
            "224003it [2:22:29, 28.42it/s]"
          ]
        },
        {
          "output_type": "stream",
          "name": "stdout",
          "text": [
            "\n",
            "\n",
            "***INFO***\n",
            "Number of prompts processed: 224000\n",
            "Number of Unique objects detected so far: 9797\n"
          ]
        },
        {
          "output_type": "stream",
          "name": "stderr",
          "text": [
            "224505it [2:22:49, 25.56it/s]"
          ]
        },
        {
          "output_type": "stream",
          "name": "stdout",
          "text": [
            "\n",
            "\n",
            "***INFO***\n",
            "Number of prompts processed: 224500\n",
            "Number of Unique objects detected so far: 9808\n"
          ]
        },
        {
          "output_type": "stream",
          "name": "stderr",
          "text": [
            "225003it [2:23:08, 26.06it/s]"
          ]
        },
        {
          "output_type": "stream",
          "name": "stdout",
          "text": [
            "\n",
            "\n",
            "***INFO***\n",
            "Number of prompts processed: 225000\n",
            "Number of Unique objects detected so far: 9817\n"
          ]
        },
        {
          "output_type": "stream",
          "name": "stderr",
          "text": [
            "225503it [2:23:27, 24.25it/s]"
          ]
        },
        {
          "output_type": "stream",
          "name": "stdout",
          "text": [
            "\n",
            "\n",
            "***INFO***\n",
            "Number of prompts processed: 225500\n",
            "Number of Unique objects detected so far: 9827\n"
          ]
        },
        {
          "output_type": "stream",
          "name": "stderr",
          "text": [
            "226003it [2:23:46, 25.02it/s]"
          ]
        },
        {
          "output_type": "stream",
          "name": "stdout",
          "text": [
            "\n",
            "\n",
            "***INFO***\n",
            "Number of prompts processed: 226000\n",
            "Number of Unique objects detected so far: 9834\n"
          ]
        },
        {
          "output_type": "stream",
          "name": "stderr",
          "text": [
            "226502it [2:24:05, 24.20it/s]"
          ]
        },
        {
          "output_type": "stream",
          "name": "stdout",
          "text": [
            "\n",
            "\n",
            "***INFO***\n",
            "Number of prompts processed: 226500\n",
            "Number of Unique objects detected so far: 9842\n"
          ]
        },
        {
          "output_type": "stream",
          "name": "stderr",
          "text": [
            "227002it [2:24:24, 25.36it/s]"
          ]
        },
        {
          "output_type": "stream",
          "name": "stdout",
          "text": [
            "\n",
            "\n",
            "***INFO***\n",
            "Number of prompts processed: 227000\n",
            "Number of Unique objects detected so far: 9849\n"
          ]
        },
        {
          "output_type": "stream",
          "name": "stderr",
          "text": [
            "227505it [2:24:43, 27.39it/s]"
          ]
        },
        {
          "output_type": "stream",
          "name": "stdout",
          "text": [
            "\n",
            "\n",
            "***INFO***\n",
            "Number of prompts processed: 227500\n",
            "Number of Unique objects detected so far: 9853\n"
          ]
        },
        {
          "output_type": "stream",
          "name": "stderr",
          "text": [
            "228003it [2:25:02, 26.34it/s]"
          ]
        },
        {
          "output_type": "stream",
          "name": "stdout",
          "text": [
            "\n",
            "\n",
            "***INFO***\n",
            "Number of prompts processed: 228000\n",
            "Number of Unique objects detected so far: 9863\n"
          ]
        },
        {
          "output_type": "stream",
          "name": "stderr",
          "text": [
            "228503it [2:25:22, 26.19it/s]"
          ]
        },
        {
          "output_type": "stream",
          "name": "stdout",
          "text": [
            "\n",
            "\n",
            "***INFO***\n",
            "Number of prompts processed: 228500\n",
            "Number of Unique objects detected so far: 9868\n"
          ]
        },
        {
          "output_type": "stream",
          "name": "stderr",
          "text": [
            "229003it [2:25:42, 25.18it/s]"
          ]
        },
        {
          "output_type": "stream",
          "name": "stdout",
          "text": [
            "\n",
            "\n",
            "***INFO***\n",
            "Number of prompts processed: 229000\n",
            "Number of Unique objects detected so far: 9876\n"
          ]
        },
        {
          "output_type": "stream",
          "name": "stderr",
          "text": [
            "229505it [2:26:00, 26.15it/s]"
          ]
        },
        {
          "output_type": "stream",
          "name": "stdout",
          "text": [
            "\n",
            "\n",
            "***INFO***\n",
            "Number of prompts processed: 229500\n",
            "Number of Unique objects detected so far: 9880\n"
          ]
        },
        {
          "output_type": "stream",
          "name": "stderr",
          "text": [
            "229997it [2:26:19, 25.43it/s]"
          ]
        },
        {
          "output_type": "stream",
          "name": "stdout",
          "text": [
            "\n",
            "\n",
            "***INFO***\n",
            "Number of prompts processed: 230000\n",
            "Number of Unique objects detected so far: 9891\n"
          ]
        },
        {
          "output_type": "stream",
          "name": "stderr",
          "text": [
            "230002it [2:26:25,  2.20it/s]"
          ]
        },
        {
          "output_type": "stream",
          "name": "stdout",
          "text": [
            "Saved.. Intermediate Results in train-captions-processed.json\n"
          ]
        },
        {
          "output_type": "stream",
          "name": "stderr",
          "text": [
            "230503it [2:26:44, 27.14it/s]"
          ]
        },
        {
          "output_type": "stream",
          "name": "stdout",
          "text": [
            "\n",
            "\n",
            "***INFO***\n",
            "Number of prompts processed: 230500\n",
            "Number of Unique objects detected so far: 9900\n"
          ]
        },
        {
          "output_type": "stream",
          "name": "stderr",
          "text": [
            "231005it [2:27:03, 28.57it/s]"
          ]
        },
        {
          "output_type": "stream",
          "name": "stdout",
          "text": [
            "\n",
            "\n",
            "***INFO***\n",
            "Number of prompts processed: 231000\n",
            "Number of Unique objects detected so far: 9908\n"
          ]
        },
        {
          "output_type": "stream",
          "name": "stderr",
          "text": [
            "231504it [2:27:22, 27.73it/s]"
          ]
        },
        {
          "output_type": "stream",
          "name": "stdout",
          "text": [
            "\n",
            "\n",
            "***INFO***\n",
            "Number of prompts processed: 231500\n",
            "Number of Unique objects detected so far: 9919\n"
          ]
        },
        {
          "output_type": "stream",
          "name": "stderr",
          "text": [
            "232003it [2:27:41, 26.53it/s]"
          ]
        },
        {
          "output_type": "stream",
          "name": "stdout",
          "text": [
            "\n",
            "\n",
            "***INFO***\n",
            "Number of prompts processed: 232000\n",
            "Number of Unique objects detected so far: 9926\n"
          ]
        },
        {
          "output_type": "stream",
          "name": "stderr",
          "text": [
            "232502it [2:28:00, 25.09it/s]"
          ]
        },
        {
          "output_type": "stream",
          "name": "stdout",
          "text": [
            "\n",
            "\n",
            "***INFO***\n",
            "Number of prompts processed: 232500\n",
            "Number of Unique objects detected so far: 9932\n"
          ]
        },
        {
          "output_type": "stream",
          "name": "stderr",
          "text": [
            "233004it [2:28:20, 24.65it/s]"
          ]
        },
        {
          "output_type": "stream",
          "name": "stdout",
          "text": [
            "\n",
            "\n",
            "***INFO***\n",
            "Number of prompts processed: 233000\n",
            "Number of Unique objects detected so far: 9944\n"
          ]
        },
        {
          "output_type": "stream",
          "name": "stderr",
          "text": [
            "233502it [2:28:38, 26.62it/s]"
          ]
        },
        {
          "output_type": "stream",
          "name": "stdout",
          "text": [
            "\n",
            "\n",
            "***INFO***\n",
            "Number of prompts processed: 233500\n",
            "Number of Unique objects detected so far: 9950\n"
          ]
        },
        {
          "output_type": "stream",
          "name": "stderr",
          "text": [
            "234003it [2:28:57, 25.12it/s]"
          ]
        },
        {
          "output_type": "stream",
          "name": "stdout",
          "text": [
            "\n",
            "\n",
            "***INFO***\n",
            "Number of prompts processed: 234000\n",
            "Number of Unique objects detected so far: 9964\n"
          ]
        },
        {
          "output_type": "stream",
          "name": "stderr",
          "text": [
            "234505it [2:29:16, 26.93it/s]"
          ]
        },
        {
          "output_type": "stream",
          "name": "stdout",
          "text": [
            "\n",
            "\n",
            "***INFO***\n",
            "Number of prompts processed: 234500\n",
            "Number of Unique objects detected so far: 9973\n"
          ]
        },
        {
          "output_type": "stream",
          "name": "stderr",
          "text": [
            "235003it [2:29:34, 26.28it/s]"
          ]
        },
        {
          "output_type": "stream",
          "name": "stdout",
          "text": [
            "\n",
            "\n",
            "***INFO***\n",
            "Number of prompts processed: 235000\n",
            "Number of Unique objects detected so far: 9982\n"
          ]
        },
        {
          "output_type": "stream",
          "name": "stderr",
          "text": [
            "235503it [2:29:53, 27.34it/s]"
          ]
        },
        {
          "output_type": "stream",
          "name": "stdout",
          "text": [
            "\n",
            "\n",
            "***INFO***\n",
            "Number of prompts processed: 235500\n",
            "Number of Unique objects detected so far: 9991\n"
          ]
        },
        {
          "output_type": "stream",
          "name": "stderr",
          "text": [
            "236003it [2:30:12, 25.64it/s]"
          ]
        },
        {
          "output_type": "stream",
          "name": "stdout",
          "text": [
            "\n",
            "\n",
            "***INFO***\n",
            "Number of prompts processed: 236000\n",
            "Number of Unique objects detected so far: 9998\n"
          ]
        },
        {
          "output_type": "stream",
          "name": "stderr",
          "text": [
            "236504it [2:30:31, 26.89it/s]"
          ]
        },
        {
          "output_type": "stream",
          "name": "stdout",
          "text": [
            "\n",
            "\n",
            "***INFO***\n",
            "Number of prompts processed: 236500\n",
            "Number of Unique objects detected so far: 10007\n"
          ]
        },
        {
          "output_type": "stream",
          "name": "stderr",
          "text": [
            "237004it [2:30:50, 27.25it/s]"
          ]
        },
        {
          "output_type": "stream",
          "name": "stdout",
          "text": [
            "\n",
            "\n",
            "***INFO***\n",
            "Number of prompts processed: 237000\n",
            "Number of Unique objects detected so far: 10017\n"
          ]
        },
        {
          "output_type": "stream",
          "name": "stderr",
          "text": [
            "237504it [2:31:09, 26.76it/s]"
          ]
        },
        {
          "output_type": "stream",
          "name": "stdout",
          "text": [
            "\n",
            "\n",
            "***INFO***\n",
            "Number of prompts processed: 237500\n",
            "Number of Unique objects detected so far: 10024\n"
          ]
        },
        {
          "output_type": "stream",
          "name": "stderr",
          "text": [
            "238003it [2:31:28, 26.54it/s]"
          ]
        },
        {
          "output_type": "stream",
          "name": "stdout",
          "text": [
            "\n",
            "\n",
            "***INFO***\n",
            "Number of prompts processed: 238000\n",
            "Number of Unique objects detected so far: 10035\n"
          ]
        },
        {
          "output_type": "stream",
          "name": "stderr",
          "text": [
            "238505it [2:31:47, 28.48it/s]"
          ]
        },
        {
          "output_type": "stream",
          "name": "stdout",
          "text": [
            "\n",
            "\n",
            "***INFO***\n",
            "Number of prompts processed: 238500\n",
            "Number of Unique objects detected so far: 10041\n"
          ]
        },
        {
          "output_type": "stream",
          "name": "stderr",
          "text": [
            "239005it [2:32:05, 26.59it/s]"
          ]
        },
        {
          "output_type": "stream",
          "name": "stdout",
          "text": [
            "\n",
            "\n",
            "***INFO***\n",
            "Number of prompts processed: 239000\n",
            "Number of Unique objects detected so far: 10045\n"
          ]
        },
        {
          "output_type": "stream",
          "name": "stderr",
          "text": [
            "239504it [2:32:24, 25.19it/s]"
          ]
        },
        {
          "output_type": "stream",
          "name": "stdout",
          "text": [
            "\n",
            "\n",
            "***INFO***\n",
            "Number of prompts processed: 239500\n",
            "Number of Unique objects detected so far: 10057\n"
          ]
        },
        {
          "output_type": "stream",
          "name": "stderr",
          "text": [
            "239997it [2:32:42, 27.26it/s]"
          ]
        },
        {
          "output_type": "stream",
          "name": "stdout",
          "text": [
            "\n",
            "\n",
            "***INFO***\n",
            "Number of prompts processed: 240000\n",
            "Number of Unique objects detected so far: 10066\n"
          ]
        },
        {
          "output_type": "stream",
          "name": "stderr",
          "text": [
            "240002it [2:32:48,  2.20it/s]"
          ]
        },
        {
          "output_type": "stream",
          "name": "stdout",
          "text": [
            "Saved.. Intermediate Results in train-captions-processed.json\n"
          ]
        },
        {
          "output_type": "stream",
          "name": "stderr",
          "text": [
            "240504it [2:33:07, 25.33it/s]"
          ]
        },
        {
          "output_type": "stream",
          "name": "stdout",
          "text": [
            "\n",
            "\n",
            "***INFO***\n",
            "Number of prompts processed: 240500\n",
            "Number of Unique objects detected so far: 10080\n"
          ]
        },
        {
          "output_type": "stream",
          "name": "stderr",
          "text": [
            "241005it [2:33:26, 28.86it/s]"
          ]
        },
        {
          "output_type": "stream",
          "name": "stdout",
          "text": [
            "\n",
            "\n",
            "***INFO***\n",
            "Number of prompts processed: 241000\n",
            "Number of Unique objects detected so far: 10093\n"
          ]
        },
        {
          "output_type": "stream",
          "name": "stderr",
          "text": [
            "241505it [2:33:45, 25.42it/s]"
          ]
        },
        {
          "output_type": "stream",
          "name": "stdout",
          "text": [
            "\n",
            "\n",
            "***INFO***\n",
            "Number of prompts processed: 241500\n",
            "Number of Unique objects detected so far: 10110\n"
          ]
        },
        {
          "output_type": "stream",
          "name": "stderr",
          "text": [
            "242005it [2:34:05, 27.82it/s]"
          ]
        },
        {
          "output_type": "stream",
          "name": "stdout",
          "text": [
            "\n",
            "\n",
            "***INFO***\n",
            "Number of prompts processed: 242000\n",
            "Number of Unique objects detected so far: 10122\n"
          ]
        },
        {
          "output_type": "stream",
          "name": "stderr",
          "text": [
            "242503it [2:34:24, 27.62it/s]"
          ]
        },
        {
          "output_type": "stream",
          "name": "stdout",
          "text": [
            "\n",
            "\n",
            "***INFO***\n",
            "Number of prompts processed: 242500\n",
            "Number of Unique objects detected so far: 10132\n"
          ]
        },
        {
          "output_type": "stream",
          "name": "stderr",
          "text": [
            "243004it [2:34:43, 25.61it/s]"
          ]
        },
        {
          "output_type": "stream",
          "name": "stdout",
          "text": [
            "\n",
            "\n",
            "***INFO***\n",
            "Number of prompts processed: 243000\n",
            "Number of Unique objects detected so far: 10141\n"
          ]
        },
        {
          "output_type": "stream",
          "name": "stderr",
          "text": [
            "243503it [2:35:02, 27.31it/s]"
          ]
        },
        {
          "output_type": "stream",
          "name": "stdout",
          "text": [
            "\n",
            "\n",
            "***INFO***\n",
            "Number of prompts processed: 243500\n",
            "Number of Unique objects detected so far: 10148\n"
          ]
        },
        {
          "output_type": "stream",
          "name": "stderr",
          "text": [
            "244003it [2:35:21, 26.82it/s]"
          ]
        },
        {
          "output_type": "stream",
          "name": "stdout",
          "text": [
            "\n",
            "\n",
            "***INFO***\n",
            "Number of prompts processed: 244000\n",
            "Number of Unique objects detected so far: 10158\n"
          ]
        },
        {
          "output_type": "stream",
          "name": "stderr",
          "text": [
            "244505it [2:35:40, 25.65it/s]"
          ]
        },
        {
          "output_type": "stream",
          "name": "stdout",
          "text": [
            "\n",
            "\n",
            "***INFO***\n",
            "Number of prompts processed: 244500\n",
            "Number of Unique objects detected so far: 10175\n"
          ]
        },
        {
          "output_type": "stream",
          "name": "stderr",
          "text": [
            "245005it [2:35:59, 25.67it/s]"
          ]
        },
        {
          "output_type": "stream",
          "name": "stdout",
          "text": [
            "\n",
            "\n",
            "***INFO***\n",
            "Number of prompts processed: 245000\n",
            "Number of Unique objects detected so far: 10185\n"
          ]
        },
        {
          "output_type": "stream",
          "name": "stderr",
          "text": [
            "245503it [2:36:18, 24.29it/s]"
          ]
        },
        {
          "output_type": "stream",
          "name": "stdout",
          "text": [
            "\n",
            "\n",
            "***INFO***\n",
            "Number of prompts processed: 245500\n",
            "Number of Unique objects detected so far: 10197\n"
          ]
        },
        {
          "output_type": "stream",
          "name": "stderr",
          "text": [
            "246005it [2:36:37, 29.13it/s]"
          ]
        },
        {
          "output_type": "stream",
          "name": "stdout",
          "text": [
            "\n",
            "\n",
            "***INFO***\n",
            "Number of prompts processed: 246000\n",
            "Number of Unique objects detected so far: 10210\n"
          ]
        },
        {
          "output_type": "stream",
          "name": "stderr",
          "text": [
            "246503it [2:36:56, 19.96it/s]"
          ]
        },
        {
          "output_type": "stream",
          "name": "stdout",
          "text": [
            "\n",
            "\n",
            "***INFO***\n",
            "Number of prompts processed: 246500\n",
            "Number of Unique objects detected so far: 10216\n"
          ]
        },
        {
          "output_type": "stream",
          "name": "stderr",
          "text": [
            "247003it [2:37:15, 25.69it/s]"
          ]
        },
        {
          "output_type": "stream",
          "name": "stdout",
          "text": [
            "\n",
            "\n",
            "***INFO***\n",
            "Number of prompts processed: 247000\n",
            "Number of Unique objects detected so far: 10231\n"
          ]
        },
        {
          "output_type": "stream",
          "name": "stderr",
          "text": [
            "247504it [2:37:34, 26.73it/s]"
          ]
        },
        {
          "output_type": "stream",
          "name": "stdout",
          "text": [
            "\n",
            "\n",
            "***INFO***\n",
            "Number of prompts processed: 247500\n",
            "Number of Unique objects detected so far: 10240\n"
          ]
        },
        {
          "output_type": "stream",
          "name": "stderr",
          "text": [
            "248003it [2:37:52, 28.46it/s]"
          ]
        },
        {
          "output_type": "stream",
          "name": "stdout",
          "text": [
            "\n",
            "\n",
            "***INFO***\n",
            "Number of prompts processed: 248000\n",
            "Number of Unique objects detected so far: 10251\n"
          ]
        },
        {
          "output_type": "stream",
          "name": "stderr",
          "text": [
            "248503it [2:38:11, 24.12it/s]"
          ]
        },
        {
          "output_type": "stream",
          "name": "stdout",
          "text": [
            "\n",
            "\n",
            "***INFO***\n",
            "Number of prompts processed: 248500\n",
            "Number of Unique objects detected so far: 10267\n"
          ]
        },
        {
          "output_type": "stream",
          "name": "stderr",
          "text": [
            "249004it [2:38:30, 26.38it/s]"
          ]
        },
        {
          "output_type": "stream",
          "name": "stdout",
          "text": [
            "\n",
            "\n",
            "***INFO***\n",
            "Number of prompts processed: 249000\n",
            "Number of Unique objects detected so far: 10267\n"
          ]
        },
        {
          "output_type": "stream",
          "name": "stderr",
          "text": [
            "249504it [2:38:49, 28.16it/s]"
          ]
        },
        {
          "output_type": "stream",
          "name": "stdout",
          "text": [
            "\n",
            "\n",
            "***INFO***\n",
            "Number of prompts processed: 249500\n",
            "Number of Unique objects detected so far: 10283\n"
          ]
        },
        {
          "output_type": "stream",
          "name": "stderr",
          "text": [
            "249999it [2:39:07, 28.23it/s]"
          ]
        },
        {
          "output_type": "stream",
          "name": "stdout",
          "text": [
            "\n",
            "\n",
            "***INFO***\n",
            "Number of prompts processed: 250000\n",
            "Number of Unique objects detected so far: 10291\n"
          ]
        },
        {
          "output_type": "stream",
          "name": "stderr",
          "text": [
            "\r250002it [2:39:13,  1.68it/s]"
          ]
        },
        {
          "output_type": "stream",
          "name": "stdout",
          "text": [
            "Saved.. Intermediate Results in train-captions-processed.json\n"
          ]
        },
        {
          "output_type": "stream",
          "name": "stderr",
          "text": [
            "250505it [2:39:33, 26.36it/s]"
          ]
        },
        {
          "output_type": "stream",
          "name": "stdout",
          "text": [
            "\n",
            "\n",
            "***INFO***\n",
            "Number of prompts processed: 250500\n",
            "Number of Unique objects detected so far: 10305\n"
          ]
        },
        {
          "output_type": "stream",
          "name": "stderr",
          "text": [
            "251005it [2:39:51, 26.86it/s]"
          ]
        },
        {
          "output_type": "stream",
          "name": "stdout",
          "text": [
            "\n",
            "\n",
            "***INFO***\n",
            "Number of prompts processed: 251000\n",
            "Number of Unique objects detected so far: 10314\n"
          ]
        },
        {
          "output_type": "stream",
          "name": "stderr",
          "text": [
            "251505it [2:40:11, 28.75it/s]"
          ]
        },
        {
          "output_type": "stream",
          "name": "stdout",
          "text": [
            "\n",
            "\n",
            "***INFO***\n",
            "Number of prompts processed: 251500\n",
            "Number of Unique objects detected so far: 10321\n"
          ]
        },
        {
          "output_type": "stream",
          "name": "stderr",
          "text": [
            "252006it [2:40:30, 27.63it/s]"
          ]
        },
        {
          "output_type": "stream",
          "name": "stdout",
          "text": [
            "\n",
            "\n",
            "***INFO***\n",
            "Number of prompts processed: 252000\n",
            "Number of Unique objects detected so far: 10328\n"
          ]
        },
        {
          "output_type": "stream",
          "name": "stderr",
          "text": [
            "252505it [2:40:48, 29.06it/s]"
          ]
        },
        {
          "output_type": "stream",
          "name": "stdout",
          "text": [
            "\n",
            "\n",
            "***INFO***\n",
            "Number of prompts processed: 252500\n",
            "Number of Unique objects detected so far: 10334\n"
          ]
        },
        {
          "output_type": "stream",
          "name": "stderr",
          "text": [
            "253003it [2:41:07, 26.61it/s]"
          ]
        },
        {
          "output_type": "stream",
          "name": "stdout",
          "text": [
            "\n",
            "\n",
            "***INFO***\n",
            "Number of prompts processed: 253000\n",
            "Number of Unique objects detected so far: 10345\n"
          ]
        },
        {
          "output_type": "stream",
          "name": "stderr",
          "text": [
            "253502it [2:41:26, 27.90it/s]"
          ]
        },
        {
          "output_type": "stream",
          "name": "stdout",
          "text": [
            "\n",
            "\n",
            "***INFO***\n",
            "Number of prompts processed: 253500\n",
            "Number of Unique objects detected so far: 10353\n"
          ]
        },
        {
          "output_type": "stream",
          "name": "stderr",
          "text": [
            "254004it [2:41:45, 25.22it/s]"
          ]
        },
        {
          "output_type": "stream",
          "name": "stdout",
          "text": [
            "\n",
            "\n",
            "***INFO***\n",
            "Number of prompts processed: 254000\n",
            "Number of Unique objects detected so far: 10360\n"
          ]
        },
        {
          "output_type": "stream",
          "name": "stderr",
          "text": [
            "254503it [2:42:03, 25.72it/s]"
          ]
        },
        {
          "output_type": "stream",
          "name": "stdout",
          "text": [
            "\n",
            "\n",
            "***INFO***\n",
            "Number of prompts processed: 254500\n",
            "Number of Unique objects detected so far: 10363\n"
          ]
        },
        {
          "output_type": "stream",
          "name": "stderr",
          "text": [
            "255003it [2:42:22, 24.90it/s]"
          ]
        },
        {
          "output_type": "stream",
          "name": "stdout",
          "text": [
            "\n",
            "\n",
            "***INFO***\n",
            "Number of prompts processed: 255000\n",
            "Number of Unique objects detected so far: 10371\n"
          ]
        },
        {
          "output_type": "stream",
          "name": "stderr",
          "text": [
            "255504it [2:42:40, 25.09it/s]"
          ]
        },
        {
          "output_type": "stream",
          "name": "stdout",
          "text": [
            "\n",
            "\n",
            "***INFO***\n",
            "Number of prompts processed: 255500\n",
            "Number of Unique objects detected so far: 10376\n"
          ]
        },
        {
          "output_type": "stream",
          "name": "stderr",
          "text": [
            "256002it [2:42:59, 19.62it/s]"
          ]
        },
        {
          "output_type": "stream",
          "name": "stdout",
          "text": [
            "\n",
            "\n",
            "***INFO***\n",
            "Number of prompts processed: 256000\n",
            "Number of Unique objects detected so far: 10388\n"
          ]
        },
        {
          "output_type": "stream",
          "name": "stderr",
          "text": [
            "256502it [2:43:18, 26.61it/s]"
          ]
        },
        {
          "output_type": "stream",
          "name": "stdout",
          "text": [
            "\n",
            "\n",
            "***INFO***\n",
            "Number of prompts processed: 256500\n",
            "Number of Unique objects detected so far: 10395\n"
          ]
        },
        {
          "output_type": "stream",
          "name": "stderr",
          "text": [
            "257004it [2:43:36, 28.21it/s]"
          ]
        },
        {
          "output_type": "stream",
          "name": "stdout",
          "text": [
            "\n",
            "\n",
            "***INFO***\n",
            "Number of prompts processed: 257000\n",
            "Number of Unique objects detected so far: 10396\n"
          ]
        },
        {
          "output_type": "stream",
          "name": "stderr",
          "text": [
            "257505it [2:43:55, 26.61it/s]"
          ]
        },
        {
          "output_type": "stream",
          "name": "stdout",
          "text": [
            "\n",
            "\n",
            "***INFO***\n",
            "Number of prompts processed: 257500\n",
            "Number of Unique objects detected so far: 10404\n"
          ]
        },
        {
          "output_type": "stream",
          "name": "stderr",
          "text": [
            "258005it [2:44:13, 25.71it/s]"
          ]
        },
        {
          "output_type": "stream",
          "name": "stdout",
          "text": [
            "\n",
            "\n",
            "***INFO***\n",
            "Number of prompts processed: 258000\n",
            "Number of Unique objects detected so far: 10412\n"
          ]
        },
        {
          "output_type": "stream",
          "name": "stderr",
          "text": [
            "258504it [2:44:32, 26.51it/s]"
          ]
        },
        {
          "output_type": "stream",
          "name": "stdout",
          "text": [
            "\n",
            "\n",
            "***INFO***\n",
            "Number of prompts processed: 258500\n",
            "Number of Unique objects detected so far: 10417\n"
          ]
        },
        {
          "output_type": "stream",
          "name": "stderr",
          "text": [
            "259005it [2:44:51, 27.24it/s]"
          ]
        },
        {
          "output_type": "stream",
          "name": "stdout",
          "text": [
            "\n",
            "\n",
            "***INFO***\n",
            "Number of prompts processed: 259000\n",
            "Number of Unique objects detected so far: 10422\n"
          ]
        },
        {
          "output_type": "stream",
          "name": "stderr",
          "text": [
            "259504it [2:45:10, 24.75it/s]"
          ]
        },
        {
          "output_type": "stream",
          "name": "stdout",
          "text": [
            "\n",
            "\n",
            "***INFO***\n",
            "Number of prompts processed: 259500\n",
            "Number of Unique objects detected so far: 10429\n"
          ]
        },
        {
          "output_type": "stream",
          "name": "stderr",
          "text": [
            "259997it [2:45:28, 25.47it/s]"
          ]
        },
        {
          "output_type": "stream",
          "name": "stdout",
          "text": [
            "\n",
            "\n",
            "***INFO***\n",
            "Number of prompts processed: 260000\n",
            "Number of Unique objects detected so far: 10436\n"
          ]
        },
        {
          "output_type": "stream",
          "name": "stderr",
          "text": [
            "260003it [2:45:34,  2.29it/s]"
          ]
        },
        {
          "output_type": "stream",
          "name": "stdout",
          "text": [
            "Saved.. Intermediate Results in train-captions-processed.json\n"
          ]
        },
        {
          "output_type": "stream",
          "name": "stderr",
          "text": [
            "260505it [2:45:53, 28.11it/s]"
          ]
        },
        {
          "output_type": "stream",
          "name": "stdout",
          "text": [
            "\n",
            "\n",
            "***INFO***\n",
            "Number of prompts processed: 260500\n",
            "Number of Unique objects detected so far: 10442\n"
          ]
        },
        {
          "output_type": "stream",
          "name": "stderr",
          "text": [
            "261003it [2:46:12, 26.08it/s]"
          ]
        },
        {
          "output_type": "stream",
          "name": "stdout",
          "text": [
            "\n",
            "\n",
            "***INFO***\n",
            "Number of prompts processed: 261000\n",
            "Number of Unique objects detected so far: 10448\n"
          ]
        },
        {
          "output_type": "stream",
          "name": "stderr",
          "text": [
            "261505it [2:46:31, 27.85it/s]"
          ]
        },
        {
          "output_type": "stream",
          "name": "stdout",
          "text": [
            "\n",
            "\n",
            "***INFO***\n",
            "Number of prompts processed: 261500\n",
            "Number of Unique objects detected so far: 10460\n"
          ]
        },
        {
          "output_type": "stream",
          "name": "stderr",
          "text": [
            "262005it [2:46:49, 28.97it/s]"
          ]
        },
        {
          "output_type": "stream",
          "name": "stdout",
          "text": [
            "\n",
            "\n",
            "***INFO***\n",
            "Number of prompts processed: 262000\n",
            "Number of Unique objects detected so far: 10474\n"
          ]
        },
        {
          "output_type": "stream",
          "name": "stderr",
          "text": [
            "262504it [2:47:08, 25.36it/s]"
          ]
        },
        {
          "output_type": "stream",
          "name": "stdout",
          "text": [
            "\n",
            "\n",
            "***INFO***\n",
            "Number of prompts processed: 262500\n",
            "Number of Unique objects detected so far: 10483\n"
          ]
        },
        {
          "output_type": "stream",
          "name": "stderr",
          "text": [
            "263003it [2:47:26, 26.02it/s]"
          ]
        },
        {
          "output_type": "stream",
          "name": "stdout",
          "text": [
            "\n",
            "\n",
            "***INFO***\n",
            "Number of prompts processed: 263000\n",
            "Number of Unique objects detected so far: 10492\n"
          ]
        },
        {
          "output_type": "stream",
          "name": "stderr",
          "text": [
            "263505it [2:47:44, 26.78it/s]"
          ]
        },
        {
          "output_type": "stream",
          "name": "stdout",
          "text": [
            "\n",
            "\n",
            "***INFO***\n",
            "Number of prompts processed: 263500\n",
            "Number of Unique objects detected so far: 10499\n"
          ]
        },
        {
          "output_type": "stream",
          "name": "stderr",
          "text": [
            "264004it [2:48:02, 27.34it/s]"
          ]
        },
        {
          "output_type": "stream",
          "name": "stdout",
          "text": [
            "\n",
            "\n",
            "***INFO***\n",
            "Number of prompts processed: 264000\n",
            "Number of Unique objects detected so far: 10508\n"
          ]
        },
        {
          "output_type": "stream",
          "name": "stderr",
          "text": [
            "264503it [2:48:21, 27.66it/s]"
          ]
        },
        {
          "output_type": "stream",
          "name": "stdout",
          "text": [
            "\n",
            "\n",
            "***INFO***\n",
            "Number of prompts processed: 264500\n",
            "Number of Unique objects detected so far: 10517\n"
          ]
        },
        {
          "output_type": "stream",
          "name": "stderr",
          "text": [
            "265005it [2:48:39, 27.14it/s]"
          ]
        },
        {
          "output_type": "stream",
          "name": "stdout",
          "text": [
            "\n",
            "\n",
            "***INFO***\n",
            "Number of prompts processed: 265000\n",
            "Number of Unique objects detected so far: 10524\n"
          ]
        },
        {
          "output_type": "stream",
          "name": "stderr",
          "text": [
            "265504it [2:48:57, 28.40it/s]"
          ]
        },
        {
          "output_type": "stream",
          "name": "stdout",
          "text": [
            "\n",
            "\n",
            "***INFO***\n",
            "Number of prompts processed: 265500\n",
            "Number of Unique objects detected so far: 10533\n"
          ]
        },
        {
          "output_type": "stream",
          "name": "stderr",
          "text": [
            "266005it [2:49:16, 28.22it/s]"
          ]
        },
        {
          "output_type": "stream",
          "name": "stdout",
          "text": [
            "\n",
            "\n",
            "***INFO***\n",
            "Number of prompts processed: 266000\n",
            "Number of Unique objects detected so far: 10538\n"
          ]
        },
        {
          "output_type": "stream",
          "name": "stderr",
          "text": [
            "266197it [2:49:23, 26.38it/s]"
          ]
        }
      ]
    },
    {
      "cell_type": "code",
      "source": [
        "print(total_objects)"
      ],
      "metadata": {
        "id": "5WFO0_PAEOeY"
      },
      "execution_count": null,
      "outputs": []
    },
    {
      "cell_type": "code",
      "source": [
        "try:\n",
        "\n",
        "  total_objects = set() # Stores the total number of distinct objects detected\n",
        "  num_objects_detected = list() # Stores number of objects detected after processing some number of prompts iteratively\n",
        "\n",
        "  print('Starting...')\n",
        "  print('Captions to be processed:', len(prompts_val))\n",
        "  print('Cleaning Prompts... Storing Objects per prompt...')\n",
        "\n",
        "  # Processing each prompt and updating annotation file for val set\n",
        "  for idx, prompt in tqdm(enumerate(prompts_val)):\n",
        "    cleaned, objects = clean_prompt(prompt) # Process prompt\n",
        "    # update files and object list\n",
        "    caption_data_val_file['annotations'][idx]['cleaned'] = cleaned\n",
        "    caption_data_val_file['annotations'][idx]['objects'] = objects\n",
        "    total_objects.update(set(objects))\n",
        "\n",
        "    if (idx+1) % NUM_PROMPTS_INFO_DISPLAY == 0: # Display Info\n",
        "      print()\n",
        "      print()\n",
        "      print('***INFO***')\n",
        "      print('Number of prompts processed:', (idx+1))\n",
        "      print('Number of Unique objects detected so far:', len(total_objects))\n",
        "      num_objects_detected.append(len(total_objects))\n",
        "\n",
        "    if (idx+1) % SAVE_AFTER == 0: # Save Results in json\n",
        "      with open(os.path.join(PATH, 'Caption-Processing/val-captions-processed.json'), 'w') as outfile:\n",
        "        outfile.write(json.dumps({'captions': caption_data_val_file['annotations'], 'num_objects': num_objects_detected}, indent=4))\n",
        "        print('Saved.. Intermediate Results in val-captions-processed.json')\n",
        "\n",
        "  if (idx-1) % NUM_PROMPTS_INFO_DISPLAY != 0: \n",
        "    print()\n",
        "    print('***INFO***')\n",
        "    print('Number of prompts processed:', (idx+1))\n",
        "    print('Number of Unique objects detected so far:', len(total_objects))\n",
        "\n",
        "  with open(os.path.join(PATH, 'Caption-Processing/val-captions-processed.json'), 'w') as outfile: # Save Results in json\n",
        "    outfile.write(json.dumps({'captions': caption_data_val_file['annotations'], 'num_objects': num_objects_detected}, indent=4))\n",
        "\n",
        "  with open(os.path.join(PATH, 'Caption-Processing/val-objects.json'), 'w') as outfile: # Saving Total objects in json\n",
        "    outfile.write(json.dumps({'objects': list(total_objects), 'num_objects': num_objects_detected}, indent=4))\n",
        "\n",
        "  print('Saved and Finished Processing...')\n",
        "\n",
        "except KeyboardInterrupt:\n",
        "  print('Stopped Abruptly.. Saving.. Saved..')\n",
        "  with open(os.path.join(PATH, 'Caption-Processing/val-captions-processed.json'), 'w') as outfile: # Save Results in json\n",
        "    outfile.write(json.dumps({'captions': caption_data_val_file['annotations'], 'num_objects': num_objects_detected}, indent=4))\n",
        "\n",
        "  with open(os.path.join(PATH, 'Caption-Processing/val-objects.json'), 'w') as outfile: # Saving Total objects in json\n",
        "    outfile.write(json.dumps({'objects': list(total_objects), 'num_objects': num_objects_detected}, indent=4))"
      ],
      "metadata": {
        "id": "QglIIusD6crw"
      },
      "execution_count": null,
      "outputs": []
    },
    {
      "cell_type": "code",
      "source": [
        "print(total_objects)"
      ],
      "metadata": {
        "id": "jlrSnDEoC2FM"
      },
      "execution_count": null,
      "outputs": []
    },
    {
      "cell_type": "code",
      "source": [],
      "metadata": {
        "id": "UMe2cz6WC3O0"
      },
      "execution_count": null,
      "outputs": []
    }
  ]
}